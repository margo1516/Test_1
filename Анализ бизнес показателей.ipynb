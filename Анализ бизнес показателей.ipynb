{
 "cells": [
  {
   "cell_type": "markdown",
   "metadata": {},
   "source": [
    "# Проектная работа"
   ]
  },
  {
   "cell_type": "markdown",
   "metadata": {},
   "source": [
    "# Шаг 1. Загрузите данные и подготовьте их к анализу"
   ]
  },
  {
   "cell_type": "markdown",
   "metadata": {},
   "source": [
    "Загрузите данные о визитах, заказах и расходах в переменные. Оптимизируйте данные для анализа. Убедитесь, что тип данных в каждой колонке — правильный."
   ]
  },
  {
   "cell_type": "markdown",
   "metadata": {},
   "source": [
    "# Путь к файлам"
   ]
  },
  {
   "cell_type": "markdown",
   "metadata": {},
   "source": [
    "1. /datasets/visits_log.csv\n",
    "2. datasets/orders_log.csv\n",
    "3. datasets/costs.csv"
   ]
  },
  {
   "cell_type": "markdown",
   "metadata": {},
   "source": [
    "# Задачи"
   ]
  },
  {
   "cell_type": "markdown",
   "metadata": {},
   "source": [
    "1. Предобработка visits\n",
    "2. Предобработка orders\n",
    "3. Предобработка costs"
   ]
  },
  {
   "cell_type": "markdown",
   "metadata": {},
   "source": [
    "# Шаг 2. Постройте отчёты и посчитайте метрики"
   ]
  },
  {
   "cell_type": "markdown",
   "metadata": {},
   "source": [
    "1. Анализ продуктовых метрик\n",
    "2. Анализ метрик продаж\n",
    "3. Анализ маркетинговых каналов\n"
   ]
  },
  {
   "cell_type": "markdown",
   "metadata": {},
   "source": [
    "# Шаг 3. Напишите вывод: порекомендуйте маркетологам, куда и сколько им стоит вкладывать денег?"
   ]
  },
  {
   "cell_type": "markdown",
   "metadata": {},
   "source": [
    "1. Какие источники/платформы вы бы порекомендовали?\n",
    "2. Объясните свой выбор: на какие метрики вы ориентируетесь? Почему?\n",
    "3.Какие выводы вы сделали, узнав значение метрик?"
   ]
  },
  {
   "cell_type": "markdown",
   "metadata": {},
   "source": [
    "# Описание данных"
   ]
  },
  {
   "cell_type": "markdown",
   "metadata": {},
   "source": [
    "# Таблица visits (лог сервера с информацией о посещениях сайта):\n"
   ]
  },
  {
   "cell_type": "markdown",
   "metadata": {},
   "source": [
    "Uid — уникальный идентификатор пользователя\n",
    "\n",
    "Device — категория устройства пользователя\n",
    "\n",
    "Start Ts — дата и время начала сессии\n",
    "\n",
    "End Ts — дата и время окончания сессии\n",
    "\n",
    "Source Id — идентификатор рекламного источника, из которого пришел пользователь"
   ]
  },
  {
   "cell_type": "markdown",
   "metadata": {},
   "source": [
    "# Таблица orders (информация о заказах):"
   ]
  },
  {
   "cell_type": "markdown",
   "metadata": {},
   "source": [
    "Uid — уникальный id пользователя, который сделал заказ\n",
    "\n",
    "Buy Ts — дата и время заказа\n",
    "\n",
    "Revenue — выручка Яндекс.Афиши с этого заказа"
   ]
  },
  {
   "cell_type": "markdown",
   "metadata": {},
   "source": [
    "# Таблица costs (информация о затратах на маркетинг):"
   ]
  },
  {
   "cell_type": "markdown",
   "metadata": {},
   "source": [
    "source_id — идентификатор рекламного источника\n",
    "\n",
    "dt — дата\n",
    "\n",
    "costs — затраты на этот рекламный источник в этот день"
   ]
  },
  {
   "cell_type": "markdown",
   "metadata": {},
   "source": [
    "# Шаг 1. Загрузите данные и подготовьте их к анализу"
   ]
  },
  {
   "cell_type": "code",
   "execution_count": 1,
   "metadata": {},
   "outputs": [],
   "source": [
    "import pandas as pd\n",
    "import numpy as np\n",
    "import seaborn as sns\n",
    "import matplotlib.pyplot as plt"
   ]
  },
  {
   "cell_type": "code",
   "execution_count": 2,
   "metadata": {},
   "outputs": [],
   "source": [
    "visits = pd.read_csv('/datasets/visits_log.csv')\n",
    "orders = pd.read_csv('/datasets/orders_log.csv')\n",
    "costs = pd.read_csv('/datasets/costs.csv')"
   ]
  },
  {
   "cell_type": "markdown",
   "metadata": {},
   "source": [
    "# visits"
   ]
  },
  {
   "cell_type": "code",
   "execution_count": 3,
   "metadata": {},
   "outputs": [
    {
     "data": {
      "text/html": [
       "<div>\n",
       "<style scoped>\n",
       "    .dataframe tbody tr th:only-of-type {\n",
       "        vertical-align: middle;\n",
       "    }\n",
       "\n",
       "    .dataframe tbody tr th {\n",
       "        vertical-align: top;\n",
       "    }\n",
       "\n",
       "    .dataframe thead th {\n",
       "        text-align: right;\n",
       "    }\n",
       "</style>\n",
       "<table border=\"1\" class=\"dataframe\">\n",
       "  <thead>\n",
       "    <tr style=\"text-align: right;\">\n",
       "      <th></th>\n",
       "      <th>Device</th>\n",
       "      <th>End Ts</th>\n",
       "      <th>Source Id</th>\n",
       "      <th>Start Ts</th>\n",
       "      <th>Uid</th>\n",
       "    </tr>\n",
       "  </thead>\n",
       "  <tbody>\n",
       "    <tr>\n",
       "      <td>0</td>\n",
       "      <td>touch</td>\n",
       "      <td>2017-12-20 17:38:00</td>\n",
       "      <td>4</td>\n",
       "      <td>2017-12-20 17:20:00</td>\n",
       "      <td>16879256277535980062</td>\n",
       "    </tr>\n",
       "    <tr>\n",
       "      <td>1</td>\n",
       "      <td>desktop</td>\n",
       "      <td>2018-02-19 17:21:00</td>\n",
       "      <td>2</td>\n",
       "      <td>2018-02-19 16:53:00</td>\n",
       "      <td>104060357244891740</td>\n",
       "    </tr>\n",
       "    <tr>\n",
       "      <td>2</td>\n",
       "      <td>touch</td>\n",
       "      <td>2017-07-01 01:54:00</td>\n",
       "      <td>5</td>\n",
       "      <td>2017-07-01 01:54:00</td>\n",
       "      <td>7459035603376831527</td>\n",
       "    </tr>\n",
       "    <tr>\n",
       "      <td>3</td>\n",
       "      <td>desktop</td>\n",
       "      <td>2018-05-20 11:23:00</td>\n",
       "      <td>9</td>\n",
       "      <td>2018-05-20 10:59:00</td>\n",
       "      <td>16174680259334210214</td>\n",
       "    </tr>\n",
       "    <tr>\n",
       "      <td>4</td>\n",
       "      <td>desktop</td>\n",
       "      <td>2017-12-27 14:06:00</td>\n",
       "      <td>3</td>\n",
       "      <td>2017-12-27 14:06:00</td>\n",
       "      <td>9969694820036681168</td>\n",
       "    </tr>\n",
       "  </tbody>\n",
       "</table>\n",
       "</div>"
      ],
      "text/plain": [
       "    Device               End Ts  Source Id             Start Ts  \\\n",
       "0    touch  2017-12-20 17:38:00          4  2017-12-20 17:20:00   \n",
       "1  desktop  2018-02-19 17:21:00          2  2018-02-19 16:53:00   \n",
       "2    touch  2017-07-01 01:54:00          5  2017-07-01 01:54:00   \n",
       "3  desktop  2018-05-20 11:23:00          9  2018-05-20 10:59:00   \n",
       "4  desktop  2017-12-27 14:06:00          3  2017-12-27 14:06:00   \n",
       "\n",
       "                    Uid  \n",
       "0  16879256277535980062  \n",
       "1    104060357244891740  \n",
       "2   7459035603376831527  \n",
       "3  16174680259334210214  \n",
       "4   9969694820036681168  "
      ]
     },
     "execution_count": 3,
     "metadata": {},
     "output_type": "execute_result"
    }
   ],
   "source": [
    "visits.head()"
   ]
  },
  {
   "cell_type": "code",
   "execution_count": 4,
   "metadata": {},
   "outputs": [
    {
     "name": "stdout",
     "output_type": "stream",
     "text": [
      "<class 'pandas.core.frame.DataFrame'>\n",
      "RangeIndex: 359400 entries, 0 to 359399\n",
      "Data columns (total 5 columns):\n",
      "Device       359400 non-null object\n",
      "End Ts       359400 non-null object\n",
      "Source Id    359400 non-null int64\n",
      "Start Ts     359400 non-null object\n",
      "Uid          359400 non-null uint64\n",
      "dtypes: int64(1), object(3), uint64(1)\n",
      "memory usage: 13.7+ MB\n"
     ]
    }
   ],
   "source": [
    "visits.info()"
   ]
  },
  {
   "cell_type": "code",
   "execution_count": 5,
   "metadata": {},
   "outputs": [
    {
     "data": {
      "text/html": [
       "<div>\n",
       "<style scoped>\n",
       "    .dataframe tbody tr th:only-of-type {\n",
       "        vertical-align: middle;\n",
       "    }\n",
       "\n",
       "    .dataframe tbody tr th {\n",
       "        vertical-align: top;\n",
       "    }\n",
       "\n",
       "    .dataframe thead th {\n",
       "        text-align: right;\n",
       "    }\n",
       "</style>\n",
       "<table border=\"1\" class=\"dataframe\">\n",
       "  <thead>\n",
       "    <tr style=\"text-align: right;\">\n",
       "      <th></th>\n",
       "      <th>Source Id</th>\n",
       "      <th>Uid</th>\n",
       "    </tr>\n",
       "  </thead>\n",
       "  <tbody>\n",
       "    <tr>\n",
       "      <td>count</td>\n",
       "      <td>359400.000000</td>\n",
       "      <td>3.594000e+05</td>\n",
       "    </tr>\n",
       "    <tr>\n",
       "      <td>mean</td>\n",
       "      <td>3.750515</td>\n",
       "      <td>9.202557e+18</td>\n",
       "    </tr>\n",
       "    <tr>\n",
       "      <td>std</td>\n",
       "      <td>1.917116</td>\n",
       "      <td>5.298433e+18</td>\n",
       "    </tr>\n",
       "    <tr>\n",
       "      <td>min</td>\n",
       "      <td>1.000000</td>\n",
       "      <td>1.186350e+13</td>\n",
       "    </tr>\n",
       "    <tr>\n",
       "      <td>25%</td>\n",
       "      <td>3.000000</td>\n",
       "      <td>4.613407e+18</td>\n",
       "    </tr>\n",
       "    <tr>\n",
       "      <td>50%</td>\n",
       "      <td>4.000000</td>\n",
       "      <td>9.227413e+18</td>\n",
       "    </tr>\n",
       "    <tr>\n",
       "      <td>75%</td>\n",
       "      <td>5.000000</td>\n",
       "      <td>1.372824e+19</td>\n",
       "    </tr>\n",
       "    <tr>\n",
       "      <td>max</td>\n",
       "      <td>10.000000</td>\n",
       "      <td>1.844668e+19</td>\n",
       "    </tr>\n",
       "  </tbody>\n",
       "</table>\n",
       "</div>"
      ],
      "text/plain": [
       "           Source Id           Uid\n",
       "count  359400.000000  3.594000e+05\n",
       "mean        3.750515  9.202557e+18\n",
       "std         1.917116  5.298433e+18\n",
       "min         1.000000  1.186350e+13\n",
       "25%         3.000000  4.613407e+18\n",
       "50%         4.000000  9.227413e+18\n",
       "75%         5.000000  1.372824e+19\n",
       "max        10.000000  1.844668e+19"
      ]
     },
     "execution_count": 5,
     "metadata": {},
     "output_type": "execute_result"
    }
   ],
   "source": [
    "visits.describe()"
   ]
  },
  {
   "cell_type": "code",
   "execution_count": 6,
   "metadata": {},
   "outputs": [
    {
     "data": {
      "text/plain": [
       "0"
      ]
     },
     "execution_count": 6,
     "metadata": {},
     "output_type": "execute_result"
    }
   ],
   "source": [
    "visits.duplicated().sum()"
   ]
  },
  {
   "cell_type": "code",
   "execution_count": 7,
   "metadata": {},
   "outputs": [
    {
     "data": {
      "text/plain": [
       "['Device', 'End Ts', 'Source Id', 'Start Ts', 'Uid']"
      ]
     },
     "execution_count": 7,
     "metadata": {},
     "output_type": "execute_result"
    }
   ],
   "source": [
    "visits.columns.to_list()"
   ]
  },
  {
   "cell_type": "code",
   "execution_count": 8,
   "metadata": {},
   "outputs": [],
   "source": [
    "visits.columns = ['device', 'end_ts', 'source_id', 'start_ts', 'uid']\n",
    "visits = visits[['device', 'source_id', 'uid', 'start_ts', 'end_ts']]"
   ]
  },
  {
   "cell_type": "code",
   "execution_count": 9,
   "metadata": {},
   "outputs": [
    {
     "data": {
      "text/html": [
       "<div>\n",
       "<style scoped>\n",
       "    .dataframe tbody tr th:only-of-type {\n",
       "        vertical-align: middle;\n",
       "    }\n",
       "\n",
       "    .dataframe tbody tr th {\n",
       "        vertical-align: top;\n",
       "    }\n",
       "\n",
       "    .dataframe thead th {\n",
       "        text-align: right;\n",
       "    }\n",
       "</style>\n",
       "<table border=\"1\" class=\"dataframe\">\n",
       "  <thead>\n",
       "    <tr style=\"text-align: right;\">\n",
       "      <th></th>\n",
       "      <th>device</th>\n",
       "      <th>source_id</th>\n",
       "      <th>uid</th>\n",
       "      <th>start_ts</th>\n",
       "      <th>end_ts</th>\n",
       "    </tr>\n",
       "  </thead>\n",
       "  <tbody>\n",
       "    <tr>\n",
       "      <td>0</td>\n",
       "      <td>touch</td>\n",
       "      <td>4</td>\n",
       "      <td>16879256277535980062</td>\n",
       "      <td>2017-12-20 17:20:00</td>\n",
       "      <td>2017-12-20 17:38:00</td>\n",
       "    </tr>\n",
       "    <tr>\n",
       "      <td>1</td>\n",
       "      <td>desktop</td>\n",
       "      <td>2</td>\n",
       "      <td>104060357244891740</td>\n",
       "      <td>2018-02-19 16:53:00</td>\n",
       "      <td>2018-02-19 17:21:00</td>\n",
       "    </tr>\n",
       "    <tr>\n",
       "      <td>2</td>\n",
       "      <td>touch</td>\n",
       "      <td>5</td>\n",
       "      <td>7459035603376831527</td>\n",
       "      <td>2017-07-01 01:54:00</td>\n",
       "      <td>2017-07-01 01:54:00</td>\n",
       "    </tr>\n",
       "    <tr>\n",
       "      <td>3</td>\n",
       "      <td>desktop</td>\n",
       "      <td>9</td>\n",
       "      <td>16174680259334210214</td>\n",
       "      <td>2018-05-20 10:59:00</td>\n",
       "      <td>2018-05-20 11:23:00</td>\n",
       "    </tr>\n",
       "    <tr>\n",
       "      <td>4</td>\n",
       "      <td>desktop</td>\n",
       "      <td>3</td>\n",
       "      <td>9969694820036681168</td>\n",
       "      <td>2017-12-27 14:06:00</td>\n",
       "      <td>2017-12-27 14:06:00</td>\n",
       "    </tr>\n",
       "    <tr>\n",
       "      <td>...</td>\n",
       "      <td>...</td>\n",
       "      <td>...</td>\n",
       "      <td>...</td>\n",
       "      <td>...</td>\n",
       "      <td>...</td>\n",
       "    </tr>\n",
       "    <tr>\n",
       "      <td>359395</td>\n",
       "      <td>desktop</td>\n",
       "      <td>2</td>\n",
       "      <td>18363291481961487539</td>\n",
       "      <td>2017-07-29 19:07:00</td>\n",
       "      <td>2017-07-29 19:07:19</td>\n",
       "    </tr>\n",
       "    <tr>\n",
       "      <td>359396</td>\n",
       "      <td>touch</td>\n",
       "      <td>1</td>\n",
       "      <td>18370831553019119586</td>\n",
       "      <td>2018-01-25 17:38:00</td>\n",
       "      <td>2018-01-25 17:38:19</td>\n",
       "    </tr>\n",
       "    <tr>\n",
       "      <td>359397</td>\n",
       "      <td>desktop</td>\n",
       "      <td>4</td>\n",
       "      <td>18387297585500748294</td>\n",
       "      <td>2018-03-03 10:12:00</td>\n",
       "      <td>2018-03-03 10:12:19</td>\n",
       "    </tr>\n",
       "    <tr>\n",
       "      <td>359398</td>\n",
       "      <td>desktop</td>\n",
       "      <td>5</td>\n",
       "      <td>18388616944624776485</td>\n",
       "      <td>2017-11-02 10:12:00</td>\n",
       "      <td>2017-11-02 10:12:19</td>\n",
       "    </tr>\n",
       "    <tr>\n",
       "      <td>359399</td>\n",
       "      <td>touch</td>\n",
       "      <td>2</td>\n",
       "      <td>18396128934054549559</td>\n",
       "      <td>2017-09-10 13:13:00</td>\n",
       "      <td>2017-09-10 13:13:19</td>\n",
       "    </tr>\n",
       "  </tbody>\n",
       "</table>\n",
       "<p>359400 rows × 5 columns</p>\n",
       "</div>"
      ],
      "text/plain": [
       "         device  source_id                   uid             start_ts  \\\n",
       "0         touch          4  16879256277535980062  2017-12-20 17:20:00   \n",
       "1       desktop          2    104060357244891740  2018-02-19 16:53:00   \n",
       "2         touch          5   7459035603376831527  2017-07-01 01:54:00   \n",
       "3       desktop          9  16174680259334210214  2018-05-20 10:59:00   \n",
       "4       desktop          3   9969694820036681168  2017-12-27 14:06:00   \n",
       "...         ...        ...                   ...                  ...   \n",
       "359395  desktop          2  18363291481961487539  2017-07-29 19:07:00   \n",
       "359396    touch          1  18370831553019119586  2018-01-25 17:38:00   \n",
       "359397  desktop          4  18387297585500748294  2018-03-03 10:12:00   \n",
       "359398  desktop          5  18388616944624776485  2017-11-02 10:12:00   \n",
       "359399    touch          2  18396128934054549559  2017-09-10 13:13:00   \n",
       "\n",
       "                     end_ts  \n",
       "0       2017-12-20 17:38:00  \n",
       "1       2018-02-19 17:21:00  \n",
       "2       2017-07-01 01:54:00  \n",
       "3       2018-05-20 11:23:00  \n",
       "4       2017-12-27 14:06:00  \n",
       "...                     ...  \n",
       "359395  2017-07-29 19:07:19  \n",
       "359396  2018-01-25 17:38:19  \n",
       "359397  2018-03-03 10:12:19  \n",
       "359398  2017-11-02 10:12:19  \n",
       "359399  2017-09-10 13:13:19  \n",
       "\n",
       "[359400 rows x 5 columns]"
      ]
     },
     "execution_count": 9,
     "metadata": {},
     "output_type": "execute_result"
    }
   ],
   "source": [
    "visits"
   ]
  },
  {
   "cell_type": "code",
   "execution_count": 10,
   "metadata": {},
   "outputs": [],
   "source": [
    "visits['end_ts'] = pd.to_datetime(visits['end_ts'], format = '%Y-%m-%d %H:%M:%S')\n",
    "visits['start_ts'] = pd.to_datetime(visits['start_ts'], format = '%Y-%m-%d %H:%M:%S')"
   ]
  },
  {
   "cell_type": "code",
   "execution_count": 11,
   "metadata": {},
   "outputs": [
    {
     "name": "stdout",
     "output_type": "stream",
     "text": [
      "<class 'pandas.core.frame.DataFrame'>\n",
      "RangeIndex: 359400 entries, 0 to 359399\n",
      "Data columns (total 5 columns):\n",
      "device       359400 non-null object\n",
      "source_id    359400 non-null int64\n",
      "uid          359400 non-null uint64\n",
      "start_ts     359400 non-null datetime64[ns]\n",
      "end_ts       359400 non-null datetime64[ns]\n",
      "dtypes: datetime64[ns](2), int64(1), object(1), uint64(1)\n",
      "memory usage: 13.7+ MB\n"
     ]
    }
   ],
   "source": [
    "visits.info()"
   ]
  },
  {
   "cell_type": "markdown",
   "metadata": {},
   "source": [
    "<div class=\"alert alert-info\"> <b></b> В данной таблице, нет дубликатов.Такк же привела end_ts и start_ts к типу datetime. И теперь впорядке название сталбцов.</div>"
   ]
  },
  {
   "cell_type": "markdown",
   "metadata": {},
   "source": [
    "# orders"
   ]
  },
  {
   "cell_type": "code",
   "execution_count": 12,
   "metadata": {},
   "outputs": [
    {
     "data": {
      "text/html": [
       "<div>\n",
       "<style scoped>\n",
       "    .dataframe tbody tr th:only-of-type {\n",
       "        vertical-align: middle;\n",
       "    }\n",
       "\n",
       "    .dataframe tbody tr th {\n",
       "        vertical-align: top;\n",
       "    }\n",
       "\n",
       "    .dataframe thead th {\n",
       "        text-align: right;\n",
       "    }\n",
       "</style>\n",
       "<table border=\"1\" class=\"dataframe\">\n",
       "  <thead>\n",
       "    <tr style=\"text-align: right;\">\n",
       "      <th></th>\n",
       "      <th>Buy Ts</th>\n",
       "      <th>Revenue</th>\n",
       "      <th>Uid</th>\n",
       "    </tr>\n",
       "  </thead>\n",
       "  <tbody>\n",
       "    <tr>\n",
       "      <td>0</td>\n",
       "      <td>2017-06-01 00:10:00</td>\n",
       "      <td>17.00</td>\n",
       "      <td>10329302124590727494</td>\n",
       "    </tr>\n",
       "    <tr>\n",
       "      <td>1</td>\n",
       "      <td>2017-06-01 00:25:00</td>\n",
       "      <td>0.55</td>\n",
       "      <td>11627257723692907447</td>\n",
       "    </tr>\n",
       "    <tr>\n",
       "      <td>2</td>\n",
       "      <td>2017-06-01 00:27:00</td>\n",
       "      <td>0.37</td>\n",
       "      <td>17903680561304213844</td>\n",
       "    </tr>\n",
       "    <tr>\n",
       "      <td>3</td>\n",
       "      <td>2017-06-01 00:29:00</td>\n",
       "      <td>0.55</td>\n",
       "      <td>16109239769442553005</td>\n",
       "    </tr>\n",
       "    <tr>\n",
       "      <td>4</td>\n",
       "      <td>2017-06-01 07:58:00</td>\n",
       "      <td>0.37</td>\n",
       "      <td>14200605875248379450</td>\n",
       "    </tr>\n",
       "  </tbody>\n",
       "</table>\n",
       "</div>"
      ],
      "text/plain": [
       "                Buy Ts  Revenue                   Uid\n",
       "0  2017-06-01 00:10:00    17.00  10329302124590727494\n",
       "1  2017-06-01 00:25:00     0.55  11627257723692907447\n",
       "2  2017-06-01 00:27:00     0.37  17903680561304213844\n",
       "3  2017-06-01 00:29:00     0.55  16109239769442553005\n",
       "4  2017-06-01 07:58:00     0.37  14200605875248379450"
      ]
     },
     "execution_count": 12,
     "metadata": {},
     "output_type": "execute_result"
    }
   ],
   "source": [
    "orders.head()"
   ]
  },
  {
   "cell_type": "code",
   "execution_count": 13,
   "metadata": {},
   "outputs": [
    {
     "name": "stdout",
     "output_type": "stream",
     "text": [
      "<class 'pandas.core.frame.DataFrame'>\n",
      "RangeIndex: 50415 entries, 0 to 50414\n",
      "Data columns (total 3 columns):\n",
      "Buy Ts     50415 non-null object\n",
      "Revenue    50415 non-null float64\n",
      "Uid        50415 non-null uint64\n",
      "dtypes: float64(1), object(1), uint64(1)\n",
      "memory usage: 1.2+ MB\n"
     ]
    }
   ],
   "source": [
    "orders.info()"
   ]
  },
  {
   "cell_type": "code",
   "execution_count": 14,
   "metadata": {},
   "outputs": [
    {
     "data": {
      "text/plain": [
       "0"
      ]
     },
     "execution_count": 14,
     "metadata": {},
     "output_type": "execute_result"
    }
   ],
   "source": [
    "orders.duplicated().sum()"
   ]
  },
  {
   "cell_type": "code",
   "execution_count": 15,
   "metadata": {},
   "outputs": [
    {
     "data": {
      "text/plain": [
       "['Buy Ts', 'Revenue', 'Uid']"
      ]
     },
     "execution_count": 15,
     "metadata": {},
     "output_type": "execute_result"
    }
   ],
   "source": [
    "orders.columns.to_list()"
   ]
  },
  {
   "cell_type": "code",
   "execution_count": 16,
   "metadata": {},
   "outputs": [],
   "source": [
    "orders.columns = ['bay_ts', 'revenue', 'uid']"
   ]
  },
  {
   "cell_type": "code",
   "execution_count": 17,
   "metadata": {},
   "outputs": [],
   "source": [
    "orders = orders[['uid', 'revenue', 'bay_ts']]"
   ]
  },
  {
   "cell_type": "code",
   "execution_count": 18,
   "metadata": {},
   "outputs": [],
   "source": [
    "orders['bay_ts'] = pd.to_datetime(orders['bay_ts'], format = '%Y-%m-%d %H:%M:%S')"
   ]
  },
  {
   "cell_type": "code",
   "execution_count": 19,
   "metadata": {},
   "outputs": [
    {
     "name": "stdout",
     "output_type": "stream",
     "text": [
      "<class 'pandas.core.frame.DataFrame'>\n",
      "RangeIndex: 50415 entries, 0 to 50414\n",
      "Data columns (total 3 columns):\n",
      "uid        50415 non-null uint64\n",
      "revenue    50415 non-null float64\n",
      "bay_ts     50415 non-null datetime64[ns]\n",
      "dtypes: datetime64[ns](1), float64(1), uint64(1)\n",
      "memory usage: 1.2 MB\n"
     ]
    }
   ],
   "source": [
    "orders.info()"
   ]
  },
  {
   "cell_type": "markdown",
   "metadata": {},
   "source": [
    "<div class=\"alert alert-info\"> <b></b> В данной таблице, нет дубликатов.Такк же привела bay_ts к типу datetime. И теперь впорядке название сталбцов.</div>"
   ]
  },
  {
   "cell_type": "markdown",
   "metadata": {},
   "source": [
    "# costs"
   ]
  },
  {
   "cell_type": "code",
   "execution_count": 20,
   "metadata": {},
   "outputs": [
    {
     "data": {
      "text/html": [
       "<div>\n",
       "<style scoped>\n",
       "    .dataframe tbody tr th:only-of-type {\n",
       "        vertical-align: middle;\n",
       "    }\n",
       "\n",
       "    .dataframe tbody tr th {\n",
       "        vertical-align: top;\n",
       "    }\n",
       "\n",
       "    .dataframe thead th {\n",
       "        text-align: right;\n",
       "    }\n",
       "</style>\n",
       "<table border=\"1\" class=\"dataframe\">\n",
       "  <thead>\n",
       "    <tr style=\"text-align: right;\">\n",
       "      <th></th>\n",
       "      <th>source_id</th>\n",
       "      <th>dt</th>\n",
       "      <th>costs</th>\n",
       "    </tr>\n",
       "  </thead>\n",
       "  <tbody>\n",
       "    <tr>\n",
       "      <td>0</td>\n",
       "      <td>1</td>\n",
       "      <td>2017-06-01</td>\n",
       "      <td>75.20</td>\n",
       "    </tr>\n",
       "    <tr>\n",
       "      <td>1</td>\n",
       "      <td>1</td>\n",
       "      <td>2017-06-02</td>\n",
       "      <td>62.25</td>\n",
       "    </tr>\n",
       "    <tr>\n",
       "      <td>2</td>\n",
       "      <td>1</td>\n",
       "      <td>2017-06-03</td>\n",
       "      <td>36.53</td>\n",
       "    </tr>\n",
       "    <tr>\n",
       "      <td>3</td>\n",
       "      <td>1</td>\n",
       "      <td>2017-06-04</td>\n",
       "      <td>55.00</td>\n",
       "    </tr>\n",
       "    <tr>\n",
       "      <td>4</td>\n",
       "      <td>1</td>\n",
       "      <td>2017-06-05</td>\n",
       "      <td>57.08</td>\n",
       "    </tr>\n",
       "  </tbody>\n",
       "</table>\n",
       "</div>"
      ],
      "text/plain": [
       "   source_id          dt  costs\n",
       "0          1  2017-06-01  75.20\n",
       "1          1  2017-06-02  62.25\n",
       "2          1  2017-06-03  36.53\n",
       "3          1  2017-06-04  55.00\n",
       "4          1  2017-06-05  57.08"
      ]
     },
     "execution_count": 20,
     "metadata": {},
     "output_type": "execute_result"
    }
   ],
   "source": [
    "costs.head()"
   ]
  },
  {
   "cell_type": "code",
   "execution_count": 21,
   "metadata": {},
   "outputs": [
    {
     "name": "stdout",
     "output_type": "stream",
     "text": [
      "<class 'pandas.core.frame.DataFrame'>\n",
      "RangeIndex: 2542 entries, 0 to 2541\n",
      "Data columns (total 3 columns):\n",
      "source_id    2542 non-null int64\n",
      "dt           2542 non-null object\n",
      "costs        2542 non-null float64\n",
      "dtypes: float64(1), int64(1), object(1)\n",
      "memory usage: 59.7+ KB\n"
     ]
    }
   ],
   "source": [
    "costs.info()"
   ]
  },
  {
   "cell_type": "code",
   "execution_count": 22,
   "metadata": {},
   "outputs": [
    {
     "data": {
      "text/plain": [
       "0"
      ]
     },
     "execution_count": 22,
     "metadata": {},
     "output_type": "execute_result"
    }
   ],
   "source": [
    "costs.duplicated().sum()"
   ]
  },
  {
   "cell_type": "code",
   "execution_count": 23,
   "metadata": {},
   "outputs": [
    {
     "data": {
      "text/plain": [
       "['source_id', 'dt', 'costs']"
      ]
     },
     "execution_count": 23,
     "metadata": {},
     "output_type": "execute_result"
    }
   ],
   "source": [
    "costs.columns.to_list()"
   ]
  },
  {
   "cell_type": "code",
   "execution_count": 24,
   "metadata": {},
   "outputs": [],
   "source": [
    "costs.columns = ['source_id', 'date', 'costs']\n",
    "costs = costs[['source_id', 'costs', 'date']]"
   ]
  },
  {
   "cell_type": "code",
   "execution_count": 25,
   "metadata": {},
   "outputs": [],
   "source": [
    "costs['date'] = pd.to_datetime(costs['date'], format = '%Y-%m-%d')"
   ]
  },
  {
   "cell_type": "code",
   "execution_count": 26,
   "metadata": {},
   "outputs": [
    {
     "name": "stdout",
     "output_type": "stream",
     "text": [
      "<class 'pandas.core.frame.DataFrame'>\n",
      "RangeIndex: 2542 entries, 0 to 2541\n",
      "Data columns (total 3 columns):\n",
      "source_id    2542 non-null int64\n",
      "costs        2542 non-null float64\n",
      "date         2542 non-null datetime64[ns]\n",
      "dtypes: datetime64[ns](1), float64(1), int64(1)\n",
      "memory usage: 59.7 KB\n"
     ]
    }
   ],
   "source": [
    "costs.info()"
   ]
  },
  {
   "cell_type": "markdown",
   "metadata": {},
   "source": [
    "<div class=\"alert alert-info\"> <b></b> В данной таблице, нет дубликатов.Такк же привела date к типу datetime. И теперь впорядке название сталбцов.</div>"
   ]
  },
  {
   "cell_type": "markdown",
   "metadata": {},
   "source": [
    "# Шаг 2. Постройте отчёты и посчитайте метрики"
   ]
  },
  {
   "cell_type": "markdown",
   "metadata": {},
   "source": [
    "# Анализ продуктовых метрик"
   ]
  },
  {
   "cell_type": "markdown",
   "metadata": {},
   "source": [
    "Сколько людей пользуются в день, неделю, месяц?"
   ]
  },
  {
   "cell_type": "code",
   "execution_count": 27,
   "metadata": {},
   "outputs": [],
   "source": [
    "# Добавление в таблицу visits столбцов с месяцем, неделей и датой\n",
    "visits['session_month']  = visits['start_ts'].astype('datetime64[M]')\n",
    "visits['session_week']  = visits['start_ts'].astype('datetime64[W]')\n",
    "visits['session_date'] = visits['start_ts'].astype('datetime64[D]')"
   ]
  },
  {
   "cell_type": "markdown",
   "metadata": {},
   "source": [
    "Посчитаем метрики. Сгруппируем данные по уникальным пользователям и найдём среднее"
   ]
  },
  {
   "cell_type": "code",
   "execution_count": 28,
   "metadata": {},
   "outputs": [],
   "source": [
    "# Посчитаем среднее кол-во, использующих продукт людей\n",
    "mau_total = visits.groupby('session_month').agg({'uid': 'nunique'}).mean()\n",
    "wau_total = visits.groupby('session_week').agg({'uid': 'nunique'}).mean()\n",
    "dau_total = visits.groupby('session_date').agg({'uid': 'nunique'}).mean()"
   ]
  },
  {
   "cell_type": "code",
   "execution_count": 29,
   "metadata": {},
   "outputs": [
    {
     "name": "stdout",
     "output_type": "stream",
     "text": [
      "23228\n",
      "5724\n",
      "907\n"
     ]
    }
   ],
   "source": [
    "print(int(mau_total))\n",
    "print(int(wau_total))\n",
    "print(int(dau_total))"
   ]
  },
  {
   "cell_type": "code",
   "execution_count": 30,
   "metadata": {},
   "outputs": [],
   "source": [
    "# Посчитаем регулярность использования\n",
    "sticky_wau = dau_total / wau_total *100\n",
    "sticky_mau = dau_total / mau_total *100"
   ]
  },
  {
   "cell_type": "code",
   "execution_count": 31,
   "metadata": {},
   "outputs": [
    {
     "name": "stdout",
     "output_type": "stream",
     "text": [
      "15.86\n",
      "3.91\n"
     ]
    }
   ],
   "source": [
    "print(float(sticky_wau.round(2)))\n",
    "print(float(sticky_mau.round(2)))"
   ]
  },
  {
   "cell_type": "markdown",
   "metadata": {},
   "source": [
    "# Сколько сессий в день?"
   ]
  },
  {
   "cell_type": "code",
   "execution_count": 32,
   "metadata": {},
   "outputs": [
    {
     "data": {
      "text/plain": [
       "987.3626373626373"
      ]
     },
     "execution_count": 32,
     "metadata": {},
     "output_type": "execute_result"
    }
   ],
   "source": [
    "# Группировка данных и расчет кол-во сессий в день\n",
    "sessions_user = visits.groupby('session_date').agg({'uid': ['count']})\n",
    "sessions_user.columns = ['sum_sessions']\n",
    "sessions_user['sum_sessions'].mean()"
   ]
  },
  {
   "cell_type": "markdown",
   "metadata": {},
   "source": [
    "Далее определим сколько сессий приходится на одного пользователя в месяц"
   ]
  },
  {
   "cell_type": "code",
   "execution_count": 33,
   "metadata": {},
   "outputs": [
    {
     "data": {
      "text/html": [
       "<div>\n",
       "<style scoped>\n",
       "    .dataframe tbody tr th:only-of-type {\n",
       "        vertical-align: middle;\n",
       "    }\n",
       "\n",
       "    .dataframe tbody tr th {\n",
       "        vertical-align: top;\n",
       "    }\n",
       "\n",
       "    .dataframe thead th {\n",
       "        text-align: right;\n",
       "    }\n",
       "</style>\n",
       "<table border=\"1\" class=\"dataframe\">\n",
       "  <thead>\n",
       "    <tr style=\"text-align: right;\">\n",
       "      <th></th>\n",
       "      <th>n_sessions</th>\n",
       "      <th>n_users</th>\n",
       "      <th>sess_per_user</th>\n",
       "    </tr>\n",
       "    <tr>\n",
       "      <th>session_month</th>\n",
       "      <th></th>\n",
       "      <th></th>\n",
       "      <th></th>\n",
       "    </tr>\n",
       "  </thead>\n",
       "  <tbody>\n",
       "    <tr>\n",
       "      <td>2017-06-01</td>\n",
       "      <td>16505</td>\n",
       "      <td>13259</td>\n",
       "      <td>1.244815</td>\n",
       "    </tr>\n",
       "    <tr>\n",
       "      <td>2017-07-01</td>\n",
       "      <td>17828</td>\n",
       "      <td>14183</td>\n",
       "      <td>1.256998</td>\n",
       "    </tr>\n",
       "    <tr>\n",
       "      <td>2017-08-01</td>\n",
       "      <td>14355</td>\n",
       "      <td>11631</td>\n",
       "      <td>1.234202</td>\n",
       "    </tr>\n",
       "    <tr>\n",
       "      <td>2017-09-01</td>\n",
       "      <td>23907</td>\n",
       "      <td>18975</td>\n",
       "      <td>1.259921</td>\n",
       "    </tr>\n",
       "    <tr>\n",
       "      <td>2017-10-01</td>\n",
       "      <td>37903</td>\n",
       "      <td>29692</td>\n",
       "      <td>1.276539</td>\n",
       "    </tr>\n",
       "    <tr>\n",
       "      <td>2017-11-01</td>\n",
       "      <td>43969</td>\n",
       "      <td>32797</td>\n",
       "      <td>1.340641</td>\n",
       "    </tr>\n",
       "    <tr>\n",
       "      <td>2017-12-01</td>\n",
       "      <td>41983</td>\n",
       "      <td>31557</td>\n",
       "      <td>1.330386</td>\n",
       "    </tr>\n",
       "    <tr>\n",
       "      <td>2018-01-01</td>\n",
       "      <td>36939</td>\n",
       "      <td>28716</td>\n",
       "      <td>1.286356</td>\n",
       "    </tr>\n",
       "    <tr>\n",
       "      <td>2018-02-01</td>\n",
       "      <td>37182</td>\n",
       "      <td>28749</td>\n",
       "      <td>1.293332</td>\n",
       "    </tr>\n",
       "    <tr>\n",
       "      <td>2018-03-01</td>\n",
       "      <td>35679</td>\n",
       "      <td>27473</td>\n",
       "      <td>1.298693</td>\n",
       "    </tr>\n",
       "    <tr>\n",
       "      <td>2018-04-01</td>\n",
       "      <td>26515</td>\n",
       "      <td>21008</td>\n",
       "      <td>1.262138</td>\n",
       "    </tr>\n",
       "    <tr>\n",
       "      <td>2018-05-01</td>\n",
       "      <td>26635</td>\n",
       "      <td>20701</td>\n",
       "      <td>1.286653</td>\n",
       "    </tr>\n",
       "  </tbody>\n",
       "</table>\n",
       "</div>"
      ],
      "text/plain": [
       "               n_sessions  n_users  sess_per_user\n",
       "session_month                                    \n",
       "2017-06-01          16505    13259       1.244815\n",
       "2017-07-01          17828    14183       1.256998\n",
       "2017-08-01          14355    11631       1.234202\n",
       "2017-09-01          23907    18975       1.259921\n",
       "2017-10-01          37903    29692       1.276539\n",
       "2017-11-01          43969    32797       1.340641\n",
       "2017-12-01          41983    31557       1.330386\n",
       "2018-01-01          36939    28716       1.286356\n",
       "2018-02-01          37182    28749       1.293332\n",
       "2018-03-01          35679    27473       1.298693\n",
       "2018-04-01          26515    21008       1.262138\n",
       "2018-05-01          26635    20701       1.286653"
      ]
     },
     "execution_count": 33,
     "metadata": {},
     "output_type": "execute_result"
    }
   ],
   "source": [
    "# Группировка данных и расчет кол-во сессий на одного пользователя в месяц\n",
    "sessions_user = visits.groupby('session_month').agg({'uid': ['count','nunique']})\n",
    "sessions_user.columns = ['n_sessions', 'n_users']\n",
    "sessions_user['sess_per_user'] = (sessions_user['n_sessions'] / sessions_user['n_users'])\n",
    "sessions_user"
   ]
  },
  {
   "cell_type": "code",
   "execution_count": 34,
   "metadata": {},
   "outputs": [
    {
     "data": {
      "image/png": "[encoded data removed]",
      "text/plain": [
       "<Figure size 864x288 with 1 Axes>"
      ]
     },
     "metadata": {
      "needs_background": "light"
     },
     "output_type": "display_data"
    }
   ],
   "source": [
    "ax = sessions_user['sess_per_user'].plot(grid=True, figsize=(12, 4))\n",
    "plt.title('График количества сессий на одного пользователя в месяц')\n",
    "ax.set_xlabel('Месяц')\n",
    "ax.set_ylabel('Пользователи')\n",
    "plt.show();"
   ]
  },
  {
   "cell_type": "markdown",
   "metadata": {},
   "source": [
    "Вывод\n",
    "В месяц один пользователь в среднем проводит в приложении максимум 1.3 сессии. Не сказать, что продукт используется регулярно"
   ]
  },
  {
   "cell_type": "markdown",
   "metadata": {},
   "source": [
    "# Сколько длится одна сессия?"
   ]
  },
  {
   "cell_type": "markdown",
   "metadata": {},
   "source": [
    "Найдем сколько в среднем длится одна сессия"
   ]
  },
  {
   "cell_type": "code",
   "execution_count": 35,
   "metadata": {},
   "outputs": [
    {
     "data": {
      "text/plain": [
       "643.506488592098"
      ]
     },
     "execution_count": 35,
     "metadata": {},
     "output_type": "execute_result"
    }
   ],
   "source": [
    "# Добавим столбец и посчитаем среднее\n",
    "visits['session_duration_sec'] = (visits['end_ts'] - visits['start_ts']).dt.seconds\n",
    "visits['session_duration_sec'].mean()"
   ]
  },
  {
   "cell_type": "markdown",
   "metadata": {},
   "source": [
    "Посмотрим на распределение"
   ]
  },
  {
   "cell_type": "code",
   "execution_count": 36,
   "metadata": {},
   "outputs": [
    {
     "data": {
      "image/png": "[encoded data removed]",
      "text/plain": [
       "<Figure size 432x288 with 1 Axes>"
      ]
     },
     "metadata": {
      "needs_background": "light"
     },
     "output_type": "display_data"
    }
   ],
   "source": [
    "# Построим гистограмму\n",
    "ax = visits['session_duration_sec'].hist(bins=50)\n",
    "plt.title('Время от первого визита до покупки')\n",
    "ax.set_xlabel('Время')\n",
    "ax.set_ylabel('Частота')\n",
    "plt.show();"
   ]
  },
  {
   "cell_type": "markdown",
   "metadata": {},
   "source": [
    "Длина сессий распределена неравномерно, поэтому далее рассчитаем моду:"
   ]
  },
  {
   "cell_type": "code",
   "execution_count": 37,
   "metadata": {},
   "outputs": [
    {
     "data": {
      "text/plain": [
       "60"
      ]
     },
     "execution_count": 37,
     "metadata": {},
     "output_type": "execute_result"
    }
   ],
   "source": [
    "int(visits['session_duration_sec'].mode())"
   ]
  },
  {
   "cell_type": "markdown",
   "metadata": {},
   "source": [
    "Вывод\n",
    "Мода равняется 60 секундам. Если пользователь успевает за это время сделать заказ, то всё отлично, а если нет — нужно проверить, что ему мешает."
   ]
  },
  {
   "cell_type": "markdown",
   "metadata": {},
   "source": [
    "# Как часто люди возвращаются?"
   ]
  },
  {
   "cell_type": "code",
   "execution_count": 38,
   "metadata": {},
   "outputs": [
    {
     "data": {
      "text/html": [
       "<div>\n",
       "<style scoped>\n",
       "    .dataframe tbody tr th:only-of-type {\n",
       "        vertical-align: middle;\n",
       "    }\n",
       "\n",
       "    .dataframe tbody tr th {\n",
       "        vertical-align: top;\n",
       "    }\n",
       "\n",
       "    .dataframe thead th {\n",
       "        text-align: right;\n",
       "    }\n",
       "</style>\n",
       "<table border=\"1\" class=\"dataframe\">\n",
       "  <thead>\n",
       "    <tr style=\"text-align: right;\">\n",
       "      <th></th>\n",
       "      <th>uid</th>\n",
       "      <th>start_ts</th>\n",
       "      <th>source_id</th>\n",
       "      <th>device</th>\n",
       "      <th>first_session_date</th>\n",
       "      <th>session_month</th>\n",
       "      <th>first_session_month</th>\n",
       "    </tr>\n",
       "  </thead>\n",
       "  <tbody>\n",
       "    <tr>\n",
       "      <td>0</td>\n",
       "      <td>16879256277535980062</td>\n",
       "      <td>2017-12-20 17:20:00</td>\n",
       "      <td>4</td>\n",
       "      <td>touch</td>\n",
       "      <td>2017-12-20 17:20:00</td>\n",
       "      <td>2017-12-01</td>\n",
       "      <td>2017-12-01</td>\n",
       "    </tr>\n",
       "    <tr>\n",
       "      <td>1</td>\n",
       "      <td>104060357244891740</td>\n",
       "      <td>2018-02-19 16:53:00</td>\n",
       "      <td>2</td>\n",
       "      <td>desktop</td>\n",
       "      <td>2018-02-19 16:53:00</td>\n",
       "      <td>2018-02-01</td>\n",
       "      <td>2018-02-01</td>\n",
       "    </tr>\n",
       "    <tr>\n",
       "      <td>2</td>\n",
       "      <td>7459035603376831527</td>\n",
       "      <td>2017-07-01 01:54:00</td>\n",
       "      <td>5</td>\n",
       "      <td>touch</td>\n",
       "      <td>2017-07-01 01:54:00</td>\n",
       "      <td>2017-07-01</td>\n",
       "      <td>2017-07-01</td>\n",
       "    </tr>\n",
       "    <tr>\n",
       "      <td>3</td>\n",
       "      <td>16174680259334210214</td>\n",
       "      <td>2018-05-20 10:59:00</td>\n",
       "      <td>9</td>\n",
       "      <td>desktop</td>\n",
       "      <td>2018-03-09 20:05:00</td>\n",
       "      <td>2018-05-01</td>\n",
       "      <td>2018-03-01</td>\n",
       "    </tr>\n",
       "    <tr>\n",
       "      <td>4</td>\n",
       "      <td>9969694820036681168</td>\n",
       "      <td>2017-12-27 14:06:00</td>\n",
       "      <td>3</td>\n",
       "      <td>desktop</td>\n",
       "      <td>2017-12-27 14:06:00</td>\n",
       "      <td>2017-12-01</td>\n",
       "      <td>2017-12-01</td>\n",
       "    </tr>\n",
       "  </tbody>\n",
       "</table>\n",
       "</div>"
      ],
      "text/plain": [
       "                    uid            start_ts  source_id   device  \\\n",
       "0  16879256277535980062 2017-12-20 17:20:00          4    touch   \n",
       "1    104060357244891740 2018-02-19 16:53:00          2  desktop   \n",
       "2   7459035603376831527 2017-07-01 01:54:00          5    touch   \n",
       "3  16174680259334210214 2018-05-20 10:59:00          9  desktop   \n",
       "4   9969694820036681168 2017-12-27 14:06:00          3  desktop   \n",
       "\n",
       "   first_session_date session_month first_session_month  \n",
       "0 2017-12-20 17:20:00    2017-12-01          2017-12-01  \n",
       "1 2018-02-19 16:53:00    2018-02-01          2018-02-01  \n",
       "2 2017-07-01 01:54:00    2017-07-01          2017-07-01  \n",
       "3 2018-03-09 20:05:00    2018-05-01          2018-03-01  \n",
       "4 2017-12-27 14:06:00    2017-12-01          2017-12-01  "
      ]
     },
     "execution_count": 38,
     "metadata": {},
     "output_type": "execute_result"
    }
   ],
   "source": [
    "# Пересохраню данные в отдельный датафрейм\n",
    "user_activity = visits[['uid','start_ts','source_id','device']]\n",
    "\n",
    "# Нахожу первый заход на сайт\n",
    "first_session_date = user_activity.groupby(['uid'])['start_ts'].min()\n",
    "first_session_date.name = 'first_session_date'\n",
    "\n",
    "# Добавляем столбец\n",
    "user_activity = user_activity.join(first_session_date,on='uid')\n",
    "\n",
    "# Форматируем в нужный формат\n",
    "user_activity['session_month'] = user_activity['start_ts'].astype('datetime64[M]')\n",
    "user_activity['first_session_month'] = user_activity['first_session_date'].astype('datetime64[M]')\n",
    "\n",
    "user_activity.head()"
   ]
  },
  {
   "cell_type": "markdown",
   "metadata": {},
   "source": [
    "Найдем время существование когорты, вычтем из даты захода дату первого посещения. Переведем в месяцы."
   ]
  },
  {
   "cell_type": "code",
   "execution_count": 39,
   "metadata": {},
   "outputs": [],
   "source": [
    "# Время существование когорты\n",
    "user_activity['cohort_lifetime'] = user_activity['session_month'] - user_activity['first_session_month'] \n",
    "\n",
    "# <Перевожу в месяц>\n",
    "user_activity['cohort_lifetime'] = user_activity['cohort_lifetime'] / np.timedelta64(1,'M')\n",
    "user_activity['cohort_lifetime'] = user_activity['cohort_lifetime'].round().astype('int')"
   ]
  },
  {
   "cell_type": "markdown",
   "metadata": {},
   "source": [
    "Найдем количество уникальных пользователей в каждом месяце."
   ]
  },
  {
   "cell_type": "code",
   "execution_count": 40,
   "metadata": {},
   "outputs": [],
   "source": [
    "# Группировка данных\n",
    "cohorts = user_activity.groupby(['first_session_month','cohort_lifetime']).agg({'uid':'nunique'}).reset_index()"
   ]
  },
  {
   "cell_type": "markdown",
   "metadata": {},
   "source": [
    "Найдем количество пользователей изначально в каждой когорте"
   ]
  },
  {
   "cell_type": "code",
   "execution_count": 41,
   "metadata": {},
   "outputs": [],
   "source": [
    "# Расчет исходного количества пользователей в когорте\n",
    "inital_users_count = cohorts[cohorts['cohort_lifetime'] == 0][['first_session_month','uid']]\n",
    "inital_users_count = inital_users_count.rename(columns={'uid':'cohort_users'})\n",
    "cohorts = cohorts.merge(inital_users_count,on='first_session_month')"
   ]
  },
  {
   "cell_type": "markdown",
   "metadata": {},
   "source": [
    "Найдем retention каждой когорты"
   ]
  },
  {
   "cell_type": "code",
   "execution_count": 42,
   "metadata": {},
   "outputs": [],
   "source": [
    "# Расчет Retention Rate\n",
    "cohorts['retention'] = cohorts['uid'] / cohorts['cohort_users']"
   ]
  },
  {
   "cell_type": "markdown",
   "metadata": {},
   "source": [
    "Построим сводную таблицу и создадим тепловую карту:"
   ]
  },
  {
   "cell_type": "code",
   "execution_count": 43,
   "metadata": {},
   "outputs": [
    {
     "data": {
      "text/html": [
       "<div>\n",
       "<style scoped>\n",
       "    .dataframe tbody tr th:only-of-type {\n",
       "        vertical-align: middle;\n",
       "    }\n",
       "\n",
       "    .dataframe tbody tr th {\n",
       "        vertical-align: top;\n",
       "    }\n",
       "\n",
       "    .dataframe thead th {\n",
       "        text-align: right;\n",
       "    }\n",
       "</style>\n",
       "<table border=\"1\" class=\"dataframe\">\n",
       "  <thead>\n",
       "    <tr style=\"text-align: right;\">\n",
       "      <th>cohort_lifetime</th>\n",
       "      <th>0</th>\n",
       "      <th>1</th>\n",
       "      <th>2</th>\n",
       "      <th>3</th>\n",
       "      <th>4</th>\n",
       "      <th>5</th>\n",
       "      <th>6</th>\n",
       "      <th>7</th>\n",
       "      <th>8</th>\n",
       "      <th>9</th>\n",
       "      <th>10</th>\n",
       "      <th>11</th>\n",
       "    </tr>\n",
       "    <tr>\n",
       "      <th>first_session_month</th>\n",
       "      <th></th>\n",
       "      <th></th>\n",
       "      <th></th>\n",
       "      <th></th>\n",
       "      <th></th>\n",
       "      <th></th>\n",
       "      <th></th>\n",
       "      <th></th>\n",
       "      <th></th>\n",
       "      <th></th>\n",
       "      <th></th>\n",
       "      <th></th>\n",
       "    </tr>\n",
       "  </thead>\n",
       "  <tbody>\n",
       "    <tr>\n",
       "      <td>2017-06-01</td>\n",
       "      <td>1.0</td>\n",
       "      <td>0.078664</td>\n",
       "      <td>0.053775</td>\n",
       "      <td>0.061392</td>\n",
       "      <td>0.068557</td>\n",
       "      <td>0.071423</td>\n",
       "      <td>0.061015</td>\n",
       "      <td>0.057772</td>\n",
       "      <td>0.052342</td>\n",
       "      <td>0.050833</td>\n",
       "      <td>0.040652</td>\n",
       "      <td>0.044951</td>\n",
       "    </tr>\n",
       "    <tr>\n",
       "      <td>2017-07-01</td>\n",
       "      <td>1.0</td>\n",
       "      <td>0.056088</td>\n",
       "      <td>0.051294</td>\n",
       "      <td>0.056164</td>\n",
       "      <td>0.058219</td>\n",
       "      <td>0.048174</td>\n",
       "      <td>0.045358</td>\n",
       "      <td>0.045738</td>\n",
       "      <td>0.038813</td>\n",
       "      <td>0.028615</td>\n",
       "      <td>0.027473</td>\n",
       "      <td>NaN</td>\n",
       "    </tr>\n",
       "    <tr>\n",
       "      <td>2017-08-01</td>\n",
       "      <td>1.0</td>\n",
       "      <td>0.076908</td>\n",
       "      <td>0.062862</td>\n",
       "      <td>0.062764</td>\n",
       "      <td>0.050093</td>\n",
       "      <td>0.044004</td>\n",
       "      <td>0.036342</td>\n",
       "      <td>0.039485</td>\n",
       "      <td>0.027895</td>\n",
       "      <td>0.026029</td>\n",
       "      <td>NaN</td>\n",
       "      <td>NaN</td>\n",
       "    </tr>\n",
       "    <tr>\n",
       "      <td>2017-09-01</td>\n",
       "      <td>1.0</td>\n",
       "      <td>0.085489</td>\n",
       "      <td>0.069205</td>\n",
       "      <td>0.050706</td>\n",
       "      <td>0.039392</td>\n",
       "      <td>0.037835</td>\n",
       "      <td>0.035860</td>\n",
       "      <td>0.024186</td>\n",
       "      <td>0.022809</td>\n",
       "      <td>NaN</td>\n",
       "      <td>NaN</td>\n",
       "      <td>NaN</td>\n",
       "    </tr>\n",
       "    <tr>\n",
       "      <td>2017-10-01</td>\n",
       "      <td>1.0</td>\n",
       "      <td>0.078608</td>\n",
       "      <td>0.052239</td>\n",
       "      <td>0.038958</td>\n",
       "      <td>0.034261</td>\n",
       "      <td>0.032221</td>\n",
       "      <td>0.021365</td>\n",
       "      <td>0.020364</td>\n",
       "      <td>NaN</td>\n",
       "      <td>NaN</td>\n",
       "      <td>NaN</td>\n",
       "      <td>NaN</td>\n",
       "    </tr>\n",
       "    <tr>\n",
       "      <td>2017-11-01</td>\n",
       "      <td>1.0</td>\n",
       "      <td>0.078281</td>\n",
       "      <td>0.044113</td>\n",
       "      <td>0.038682</td>\n",
       "      <td>0.033727</td>\n",
       "      <td>0.023415</td>\n",
       "      <td>0.021800</td>\n",
       "      <td>NaN</td>\n",
       "      <td>NaN</td>\n",
       "      <td>NaN</td>\n",
       "      <td>NaN</td>\n",
       "      <td>NaN</td>\n",
       "    </tr>\n",
       "    <tr>\n",
       "      <td>2017-12-01</td>\n",
       "      <td>1.0</td>\n",
       "      <td>0.055802</td>\n",
       "      <td>0.037993</td>\n",
       "      <td>0.031107</td>\n",
       "      <td>0.020263</td>\n",
       "      <td>0.019036</td>\n",
       "      <td>NaN</td>\n",
       "      <td>NaN</td>\n",
       "      <td>NaN</td>\n",
       "      <td>NaN</td>\n",
       "      <td>NaN</td>\n",
       "      <td>NaN</td>\n",
       "    </tr>\n",
       "    <tr>\n",
       "      <td>2018-01-01</td>\n",
       "      <td>1.0</td>\n",
       "      <td>0.059715</td>\n",
       "      <td>0.039339</td>\n",
       "      <td>0.024973</td>\n",
       "      <td>0.020244</td>\n",
       "      <td>NaN</td>\n",
       "      <td>NaN</td>\n",
       "      <td>NaN</td>\n",
       "      <td>NaN</td>\n",
       "      <td>NaN</td>\n",
       "      <td>NaN</td>\n",
       "      <td>NaN</td>\n",
       "    </tr>\n",
       "    <tr>\n",
       "      <td>2018-02-01</td>\n",
       "      <td>1.0</td>\n",
       "      <td>0.057080</td>\n",
       "      <td>0.025454</td>\n",
       "      <td>0.020093</td>\n",
       "      <td>NaN</td>\n",
       "      <td>NaN</td>\n",
       "      <td>NaN</td>\n",
       "      <td>NaN</td>\n",
       "      <td>NaN</td>\n",
       "      <td>NaN</td>\n",
       "      <td>NaN</td>\n",
       "      <td>NaN</td>\n",
       "    </tr>\n",
       "    <tr>\n",
       "      <td>2018-03-01</td>\n",
       "      <td>1.0</td>\n",
       "      <td>0.041818</td>\n",
       "      <td>0.027053</td>\n",
       "      <td>NaN</td>\n",
       "      <td>NaN</td>\n",
       "      <td>NaN</td>\n",
       "      <td>NaN</td>\n",
       "      <td>NaN</td>\n",
       "      <td>NaN</td>\n",
       "      <td>NaN</td>\n",
       "      <td>NaN</td>\n",
       "      <td>NaN</td>\n",
       "    </tr>\n",
       "    <tr>\n",
       "      <td>2018-04-01</td>\n",
       "      <td>1.0</td>\n",
       "      <td>0.048380</td>\n",
       "      <td>NaN</td>\n",
       "      <td>NaN</td>\n",
       "      <td>NaN</td>\n",
       "      <td>NaN</td>\n",
       "      <td>NaN</td>\n",
       "      <td>NaN</td>\n",
       "      <td>NaN</td>\n",
       "      <td>NaN</td>\n",
       "      <td>NaN</td>\n",
       "      <td>NaN</td>\n",
       "    </tr>\n",
       "    <tr>\n",
       "      <td>2018-05-01</td>\n",
       "      <td>1.0</td>\n",
       "      <td>NaN</td>\n",
       "      <td>NaN</td>\n",
       "      <td>NaN</td>\n",
       "      <td>NaN</td>\n",
       "      <td>NaN</td>\n",
       "      <td>NaN</td>\n",
       "      <td>NaN</td>\n",
       "      <td>NaN</td>\n",
       "      <td>NaN</td>\n",
       "      <td>NaN</td>\n",
       "      <td>NaN</td>\n",
       "    </tr>\n",
       "  </tbody>\n",
       "</table>\n",
       "</div>"
      ],
      "text/plain": [
       "cohort_lifetime       0         1         2         3         4         5   \\\n",
       "first_session_month                                                          \n",
       "2017-06-01           1.0  0.078664  0.053775  0.061392  0.068557  0.071423   \n",
       "2017-07-01           1.0  0.056088  0.051294  0.056164  0.058219  0.048174   \n",
       "2017-08-01           1.0  0.076908  0.062862  0.062764  0.050093  0.044004   \n",
       "2017-09-01           1.0  0.085489  0.069205  0.050706  0.039392  0.037835   \n",
       "2017-10-01           1.0  0.078608  0.052239  0.038958  0.034261  0.032221   \n",
       "2017-11-01           1.0  0.078281  0.044113  0.038682  0.033727  0.023415   \n",
       "2017-12-01           1.0  0.055802  0.037993  0.031107  0.020263  0.019036   \n",
       "2018-01-01           1.0  0.059715  0.039339  0.024973  0.020244       NaN   \n",
       "2018-02-01           1.0  0.057080  0.025454  0.020093       NaN       NaN   \n",
       "2018-03-01           1.0  0.041818  0.027053       NaN       NaN       NaN   \n",
       "2018-04-01           1.0  0.048380       NaN       NaN       NaN       NaN   \n",
       "2018-05-01           1.0       NaN       NaN       NaN       NaN       NaN   \n",
       "\n",
       "cohort_lifetime            6         7         8         9         10  \\\n",
       "first_session_month                                                     \n",
       "2017-06-01           0.061015  0.057772  0.052342  0.050833  0.040652   \n",
       "2017-07-01           0.045358  0.045738  0.038813  0.028615  0.027473   \n",
       "2017-08-01           0.036342  0.039485  0.027895  0.026029       NaN   \n",
       "2017-09-01           0.035860  0.024186  0.022809       NaN       NaN   \n",
       "2017-10-01           0.021365  0.020364       NaN       NaN       NaN   \n",
       "2017-11-01           0.021800       NaN       NaN       NaN       NaN   \n",
       "2017-12-01                NaN       NaN       NaN       NaN       NaN   \n",
       "2018-01-01                NaN       NaN       NaN       NaN       NaN   \n",
       "2018-02-01                NaN       NaN       NaN       NaN       NaN   \n",
       "2018-03-01                NaN       NaN       NaN       NaN       NaN   \n",
       "2018-04-01                NaN       NaN       NaN       NaN       NaN   \n",
       "2018-05-01                NaN       NaN       NaN       NaN       NaN   \n",
       "\n",
       "cohort_lifetime            11  \n",
       "first_session_month            \n",
       "2017-06-01           0.044951  \n",
       "2017-07-01                NaN  \n",
       "2017-08-01                NaN  \n",
       "2017-09-01                NaN  \n",
       "2017-10-01                NaN  \n",
       "2017-11-01                NaN  \n",
       "2017-12-01                NaN  \n",
       "2018-01-01                NaN  \n",
       "2018-02-01                NaN  \n",
       "2018-03-01                NaN  \n",
       "2018-04-01                NaN  \n",
       "2018-05-01                NaN  "
      ]
     },
     "execution_count": 43,
     "metadata": {},
     "output_type": "execute_result"
    }
   ],
   "source": [
    "# Создание сводной таблицы\n",
    "retention_pivot = cohorts.pivot_table(index='first_session_month',columns='cohort_lifetime',values='retention',aggfunc='sum')\n",
    "retention_pivot"
   ]
  },
  {
   "cell_type": "code",
   "execution_count": 44,
   "metadata": {},
   "outputs": [
    {
     "data": {
      "text/plain": [
       "[Text(0, 0.5, '2017-06-01'),\n",
       " Text(0, 1.5, '2017-07-01'),\n",
       " Text(0, 2.5, '2017-08-01'),\n",
       " Text(0, 3.5, '2017-09-01'),\n",
       " Text(0, 4.5, '2017-10-01'),\n",
       " Text(0, 5.5, '2017-11-01'),\n",
       " Text(0, 6.5, '2017-12-01'),\n",
       " Text(0, 7.5, '2018-01-01'),\n",
       " Text(0, 8.5, '2018-02-01'),\n",
       " Text(0, 9.5, '2018-03-01'),\n",
       " Text(0, 10.5, '2018-04-01'),\n",
       " Text(0, 11.5, '2018-05-01')]"
      ]
     },
     "execution_count": 44,
     "metadata": {},
     "output_type": "execute_result"
    },
    {
     "data": {
      "image/png": "[encoded data removed]",
      "text/plain": [
       "<Figure size 1224x432 with 2 Axes>"
      ]
     },
     "metadata": {},
     "output_type": "display_data"
    }
   ],
   "source": [
    "# Создание тепловой карты\n",
    "sns.set(style='white')\n",
    "plt.figure(figsize=(17, 6))\n",
    "plt.title('Cohorts: User Retention')\n",
    "ax = sns.heatmap(retention_pivot, annot=True, fmt='.1%', linewidths=1, cmap=\"YlGnBu\", vmax=0.15);\n",
    "ax.set_yticklabels(retention_pivot.index.date)"
   ]
  },
  {
   "cell_type": "markdown",
   "metadata": {},
   "source": [
    "# Вывод\n",
    "Retention Rate в первый месяц убывает по когортам с течением времени. Если для когорты пользователей, пришедших в июне 2017 Retention Rate в первый месяц составляет 7,9%, то для пользователей, пришедших в апреле 2018 — уже 4,8%. Так, за 11 месяцев коэффициент удержания упал на 3,1%. Это говорит, что с каждой новой когортой поведение покупателей меняется. Возможно, были выбраны неэффективные источники трафика или ухудшилось качество работы службы поддержки."
   ]
  },
  {
   "cell_type": "markdown",
   "metadata": {},
   "source": [
    "# 2.2 Продажи"
   ]
  },
  {
   "cell_type": "markdown",
   "metadata": {},
   "source": [
    "# Когда люди начинают покупать?"
   ]
  },
  {
   "cell_type": "markdown",
   "metadata": {},
   "source": [
    "Добавим в таблицу orders столбец со временем первой сесии"
   ]
  },
  {
   "cell_type": "code",
   "execution_count": 45,
   "metadata": {},
   "outputs": [],
   "source": [
    "# Добавим в таблицу orders столбец first_session_date\n",
    "orders = orders.join(first_session_date,on='uid')"
   ]
  },
  {
   "cell_type": "markdown",
   "metadata": {},
   "source": [
    "Добавим столбец с разницей между временем покупки и началом первой сессии."
   ]
  },
  {
   "cell_type": "code",
   "execution_count": 46,
   "metadata": {},
   "outputs": [
    {
     "data": {
      "text/html": [
       "<div>\n",
       "<style scoped>\n",
       "    .dataframe tbody tr th:only-of-type {\n",
       "        vertical-align: middle;\n",
       "    }\n",
       "\n",
       "    .dataframe tbody tr th {\n",
       "        vertical-align: top;\n",
       "    }\n",
       "\n",
       "    .dataframe thead th {\n",
       "        text-align: right;\n",
       "    }\n",
       "</style>\n",
       "<table border=\"1\" class=\"dataframe\">\n",
       "  <thead>\n",
       "    <tr style=\"text-align: right;\">\n",
       "      <th></th>\n",
       "      <th>uid</th>\n",
       "      <th>revenue</th>\n",
       "      <th>bay_ts</th>\n",
       "      <th>first_session_date</th>\n",
       "    </tr>\n",
       "  </thead>\n",
       "  <tbody>\n",
       "    <tr>\n",
       "      <td>0</td>\n",
       "      <td>10329302124590727494</td>\n",
       "      <td>17.00</td>\n",
       "      <td>2017-06-01 00:10:00</td>\n",
       "      <td>2017-06-01 00:09:00</td>\n",
       "    </tr>\n",
       "    <tr>\n",
       "      <td>1</td>\n",
       "      <td>11627257723692907447</td>\n",
       "      <td>0.55</td>\n",
       "      <td>2017-06-01 00:25:00</td>\n",
       "      <td>2017-06-01 00:14:00</td>\n",
       "    </tr>\n",
       "    <tr>\n",
       "      <td>2</td>\n",
       "      <td>17903680561304213844</td>\n",
       "      <td>0.37</td>\n",
       "      <td>2017-06-01 00:27:00</td>\n",
       "      <td>2017-06-01 00:25:00</td>\n",
       "    </tr>\n",
       "    <tr>\n",
       "      <td>3</td>\n",
       "      <td>16109239769442553005</td>\n",
       "      <td>0.55</td>\n",
       "      <td>2017-06-01 00:29:00</td>\n",
       "      <td>2017-06-01 00:14:00</td>\n",
       "    </tr>\n",
       "    <tr>\n",
       "      <td>4</td>\n",
       "      <td>14200605875248379450</td>\n",
       "      <td>0.37</td>\n",
       "      <td>2017-06-01 07:58:00</td>\n",
       "      <td>2017-06-01 07:31:00</td>\n",
       "    </tr>\n",
       "    <tr>\n",
       "      <td>...</td>\n",
       "      <td>...</td>\n",
       "      <td>...</td>\n",
       "      <td>...</td>\n",
       "      <td>...</td>\n",
       "    </tr>\n",
       "    <tr>\n",
       "      <td>50410</td>\n",
       "      <td>12296626599487328624</td>\n",
       "      <td>4.64</td>\n",
       "      <td>2018-05-31 23:50:00</td>\n",
       "      <td>2018-05-31 09:11:00</td>\n",
       "    </tr>\n",
       "    <tr>\n",
       "      <td>50411</td>\n",
       "      <td>11369640365507475976</td>\n",
       "      <td>5.80</td>\n",
       "      <td>2018-05-31 23:50:00</td>\n",
       "      <td>2018-05-31 23:05:00</td>\n",
       "    </tr>\n",
       "    <tr>\n",
       "      <td>50412</td>\n",
       "      <td>1786462140797698849</td>\n",
       "      <td>0.30</td>\n",
       "      <td>2018-05-31 23:54:00</td>\n",
       "      <td>2018-05-31 23:52:00</td>\n",
       "    </tr>\n",
       "    <tr>\n",
       "      <td>50413</td>\n",
       "      <td>3993697860786194247</td>\n",
       "      <td>3.67</td>\n",
       "      <td>2018-05-31 23:56:00</td>\n",
       "      <td>2017-10-23 12:32:00</td>\n",
       "    </tr>\n",
       "    <tr>\n",
       "      <td>50414</td>\n",
       "      <td>83872787173869366</td>\n",
       "      <td>3.42</td>\n",
       "      <td>2018-06-01 00:02:00</td>\n",
       "      <td>2018-05-31 23:59:00</td>\n",
       "    </tr>\n",
       "  </tbody>\n",
       "</table>\n",
       "<p>50415 rows × 4 columns</p>\n",
       "</div>"
      ],
      "text/plain": [
       "                        uid  revenue              bay_ts  first_session_date\n",
       "0      10329302124590727494    17.00 2017-06-01 00:10:00 2017-06-01 00:09:00\n",
       "1      11627257723692907447     0.55 2017-06-01 00:25:00 2017-06-01 00:14:00\n",
       "2      17903680561304213844     0.37 2017-06-01 00:27:00 2017-06-01 00:25:00\n",
       "3      16109239769442553005     0.55 2017-06-01 00:29:00 2017-06-01 00:14:00\n",
       "4      14200605875248379450     0.37 2017-06-01 07:58:00 2017-06-01 07:31:00\n",
       "...                     ...      ...                 ...                 ...\n",
       "50410  12296626599487328624     4.64 2018-05-31 23:50:00 2018-05-31 09:11:00\n",
       "50411  11369640365507475976     5.80 2018-05-31 23:50:00 2018-05-31 23:05:00\n",
       "50412   1786462140797698849     0.30 2018-05-31 23:54:00 2018-05-31 23:52:00\n",
       "50413   3993697860786194247     3.67 2018-05-31 23:56:00 2017-10-23 12:32:00\n",
       "50414     83872787173869366     3.42 2018-06-01 00:02:00 2018-05-31 23:59:00\n",
       "\n",
       "[50415 rows x 4 columns]"
      ]
     },
     "execution_count": 46,
     "metadata": {},
     "output_type": "execute_result"
    }
   ],
   "source": [
    "orders"
   ]
  },
  {
   "cell_type": "code",
   "execution_count": 47,
   "metadata": {},
   "outputs": [],
   "source": [
    "# Добавим столбец\n",
    "orders['orders_time'] = orders['bay_ts'] - orders['first_session_date'] \n",
    "orders['orders_time'] = orders['orders_time'] / np.timedelta64(1,'h')"
   ]
  },
  {
   "cell_type": "code",
   "execution_count": 48,
   "metadata": {},
   "outputs": [
    {
     "data": {
      "image/png": "[encoded data removed]",
      "text/plain": [
       "<Figure size 432x288 with 1 Axes>"
      ]
     },
     "metadata": {},
     "output_type": "display_data"
    }
   ],
   "source": [
    "# Построим гистограмму\n",
    "ax = orders['orders_time'].hist(bins=30)\n",
    "plt.title('Время от первого визита до покупки')\n",
    "ax.set_xlabel('Время')\n",
    "ax.set_ylabel('Частота')\n",
    "plt.show();"
   ]
  },
  {
   "cell_type": "markdown",
   "metadata": {},
   "source": [
    "\n",
    "Посчитаем медиану по этому столбцу, т.к. есть выбросы по показателю."
   ]
  },
  {
   "cell_type": "code",
   "execution_count": 49,
   "metadata": {},
   "outputs": [
    {
     "data": {
      "text/plain": [
       "3.4"
      ]
     },
     "execution_count": 49,
     "metadata": {},
     "output_type": "execute_result"
    }
   ],
   "source": [
    "# Найдем медиану с момента начала сессии до заказа\n",
    "orders['orders_time'].median().round(1)"
   ]
  },
  {
   "cell_type": "markdown",
   "metadata": {},
   "source": [
    "Вывод\n",
    "Люди покупают примерно через 3,4 ч с момента первого захода на сайт."
   ]
  },
  {
   "cell_type": "markdown",
   "metadata": {},
   "source": [
    "# Сколько раз покупают за период?"
   ]
  },
  {
   "cell_type": "code",
   "execution_count": 50,
   "metadata": {},
   "outputs": [
    {
     "data": {
      "text/plain": [
       "Text(0.5, 1.0, 'Количество покупок за период')"
      ]
     },
     "execution_count": 50,
     "metadata": {},
     "output_type": "execute_result"
    },
    {
     "data": {
      "image/png": "[encoded data removed]",
      "text/plain": [
       "<Figure size 864x288 with 1 Axes>"
      ]
     },
     "metadata": {},
     "output_type": "display_data"
    }
   ],
   "source": [
    "# Добавим столбец с номером месяца\n",
    "orders['buy_month'] = orders['bay_ts'].astype('datetime64[M]')\n",
    "\n",
    "# Построим график\n",
    "orders.pivot_table(index='buy_month',values='bay_ts',aggfunc='count').plot(grid=True, figsize=(12, 4))\n",
    "plt.xlabel('Месяц покупки')\n",
    "plt.ylabel('Количество покупок')\n",
    "plt.title('Количество покупок за период')"
   ]
  },
  {
   "cell_type": "markdown",
   "metadata": {},
   "source": [
    "Вывод\n",
    "На графике видно, что больше всего покупок было совершенно в декабре 2017 (более 100 тыс. раз и в феврале 2018 (около 90 тыс. раз). Меньше всего покупок в летние месяцы (30-40 тыс. раз)"
   ]
  },
  {
   "cell_type": "markdown",
   "metadata": {},
   "source": [
    "# Какой средний чек?"
   ]
  },
  {
   "cell_type": "code",
   "execution_count": 51,
   "metadata": {},
   "outputs": [
    {
     "data": {
      "text/html": [
       "<div>\n",
       "<style scoped>\n",
       "    .dataframe tbody tr th:only-of-type {\n",
       "        vertical-align: middle;\n",
       "    }\n",
       "\n",
       "    .dataframe tbody tr th {\n",
       "        vertical-align: top;\n",
       "    }\n",
       "\n",
       "    .dataframe thead th {\n",
       "        text-align: right;\n",
       "    }\n",
       "</style>\n",
       "<table border=\"1\" class=\"dataframe\">\n",
       "  <thead>\n",
       "    <tr style=\"text-align: right;\">\n",
       "      <th></th>\n",
       "      <th></th>\n",
       "      <th>revenue</th>\n",
       "      <th>uid</th>\n",
       "    </tr>\n",
       "    <tr>\n",
       "      <th>first_order_month</th>\n",
       "      <th>order_month</th>\n",
       "      <th></th>\n",
       "      <th></th>\n",
       "    </tr>\n",
       "  </thead>\n",
       "  <tbody>\n",
       "    <tr>\n",
       "      <td rowspan=\"5\" valign=\"top\">2017-06-01</td>\n",
       "      <td>2017-06-01</td>\n",
       "      <td>9557.49</td>\n",
       "      <td>2354</td>\n",
       "    </tr>\n",
       "    <tr>\n",
       "      <td>2017-07-01</td>\n",
       "      <td>981.82</td>\n",
       "      <td>177</td>\n",
       "    </tr>\n",
       "    <tr>\n",
       "      <td>2017-08-01</td>\n",
       "      <td>885.34</td>\n",
       "      <td>174</td>\n",
       "    </tr>\n",
       "    <tr>\n",
       "      <td>2017-09-01</td>\n",
       "      <td>1931.30</td>\n",
       "      <td>226</td>\n",
       "    </tr>\n",
       "    <tr>\n",
       "      <td>2017-10-01</td>\n",
       "      <td>2068.58</td>\n",
       "      <td>292</td>\n",
       "    </tr>\n",
       "  </tbody>\n",
       "</table>\n",
       "</div>"
      ],
      "text/plain": [
       "                               revenue   uid\n",
       "first_order_month order_month               \n",
       "2017-06-01        2017-06-01   9557.49  2354\n",
       "                  2017-07-01    981.82   177\n",
       "                  2017-08-01    885.34   174\n",
       "                  2017-09-01   1931.30   226\n",
       "                  2017-10-01   2068.58   292"
      ]
     },
     "execution_count": 51,
     "metadata": {},
     "output_type": "execute_result"
    }
   ],
   "source": [
    "# Группировка данных по когорте first_order_month и месяцу совершения заказа order_month\n",
    "first_order_date = orders.groupby('uid')['bay_ts'].min()\n",
    "first_order_date.name = 'first_order_date'\n",
    "orders = orders.join(first_order_date,on='uid')\n",
    "orders['first_order_month'] = orders['first_order_date'].astype('datetime64[M]')\n",
    "orders['order_month'] = orders['bay_ts'].astype('datetime64[M]')\n",
    "orders_grouped_by_cohorts = orders.groupby(['first_order_month','order_month']).agg({'revenue':'sum','uid':'count'})\n",
    "orders_grouped_by_cohorts.head()"
   ]
  },
  {
   "cell_type": "markdown",
   "metadata": {},
   "source": [
    "Найдём средний чек покупателя."
   ]
  },
  {
   "cell_type": "code",
   "execution_count": 52,
   "metadata": {},
   "outputs": [
    {
     "data": {
      "text/plain": [
       "7.65"
      ]
     },
     "execution_count": 52,
     "metadata": {},
     "output_type": "execute_result"
    }
   ],
   "source": [
    "# Расчет среднего чека\n",
    "orders_grouped_by_cohorts['revenue_per_user'] = orders_grouped_by_cohorts['revenue'] / orders_grouped_by_cohorts['uid']\n",
    "orders_grouped_by_cohorts['revenue_per_user'].mean().round(2)"
   ]
  },
  {
   "cell_type": "code",
   "execution_count": 53,
   "metadata": {},
   "outputs": [
    {
     "data": {
      "text/html": [
       "<div>\n",
       "<style scoped>\n",
       "    .dataframe tbody tr th:only-of-type {\n",
       "        vertical-align: middle;\n",
       "    }\n",
       "\n",
       "    .dataframe tbody tr th {\n",
       "        vertical-align: top;\n",
       "    }\n",
       "\n",
       "    .dataframe thead th {\n",
       "        text-align: right;\n",
       "    }\n",
       "</style>\n",
       "<table border=\"1\" class=\"dataframe\">\n",
       "  <thead>\n",
       "    <tr style=\"text-align: right;\">\n",
       "      <th></th>\n",
       "      <th></th>\n",
       "      <th>revenue</th>\n",
       "      <th>uid</th>\n",
       "      <th>revenue_per_user</th>\n",
       "    </tr>\n",
       "    <tr>\n",
       "      <th>first_order_month</th>\n",
       "      <th>order_month</th>\n",
       "      <th></th>\n",
       "      <th></th>\n",
       "      <th></th>\n",
       "    </tr>\n",
       "  </thead>\n",
       "  <tbody>\n",
       "    <tr>\n",
       "      <td rowspan=\"5\" valign=\"top\">2017-06-01</td>\n",
       "      <td>2017-06-01</td>\n",
       "      <td>9557.49</td>\n",
       "      <td>2354</td>\n",
       "      <td>4.060106</td>\n",
       "    </tr>\n",
       "    <tr>\n",
       "      <td>2017-07-01</td>\n",
       "      <td>981.82</td>\n",
       "      <td>177</td>\n",
       "      <td>5.547006</td>\n",
       "    </tr>\n",
       "    <tr>\n",
       "      <td>2017-08-01</td>\n",
       "      <td>885.34</td>\n",
       "      <td>174</td>\n",
       "      <td>5.088161</td>\n",
       "    </tr>\n",
       "    <tr>\n",
       "      <td>2017-09-01</td>\n",
       "      <td>1931.30</td>\n",
       "      <td>226</td>\n",
       "      <td>8.545575</td>\n",
       "    </tr>\n",
       "    <tr>\n",
       "      <td>2017-10-01</td>\n",
       "      <td>2068.58</td>\n",
       "      <td>292</td>\n",
       "      <td>7.084178</td>\n",
       "    </tr>\n",
       "    <tr>\n",
       "      <td>...</td>\n",
       "      <td>...</td>\n",
       "      <td>...</td>\n",
       "      <td>...</td>\n",
       "      <td>...</td>\n",
       "    </tr>\n",
       "    <tr>\n",
       "      <td>2018-03-01</td>\n",
       "      <td>2018-05-01</td>\n",
       "      <td>1114.87</td>\n",
       "      <td>176</td>\n",
       "      <td>6.334489</td>\n",
       "    </tr>\n",
       "    <tr>\n",
       "      <td rowspan=\"2\" valign=\"top\">2018-04-01</td>\n",
       "      <td>2018-04-01</td>\n",
       "      <td>10600.69</td>\n",
       "      <td>2495</td>\n",
       "      <td>4.248774</td>\n",
       "    </tr>\n",
       "    <tr>\n",
       "      <td>2018-05-01</td>\n",
       "      <td>1209.92</td>\n",
       "      <td>195</td>\n",
       "      <td>6.204718</td>\n",
       "    </tr>\n",
       "    <tr>\n",
       "      <td>2018-05-01</td>\n",
       "      <td>2018-05-01</td>\n",
       "      <td>13925.76</td>\n",
       "      <td>3249</td>\n",
       "      <td>4.286168</td>\n",
       "    </tr>\n",
       "    <tr>\n",
       "      <td>2018-06-01</td>\n",
       "      <td>2018-06-01</td>\n",
       "      <td>3.42</td>\n",
       "      <td>1</td>\n",
       "      <td>3.420000</td>\n",
       "    </tr>\n",
       "  </tbody>\n",
       "</table>\n",
       "<p>79 rows × 3 columns</p>\n",
       "</div>"
      ],
      "text/plain": [
       "                                revenue   uid  revenue_per_user\n",
       "first_order_month order_month                                  \n",
       "2017-06-01        2017-06-01    9557.49  2354          4.060106\n",
       "                  2017-07-01     981.82   177          5.547006\n",
       "                  2017-08-01     885.34   174          5.088161\n",
       "                  2017-09-01    1931.30   226          8.545575\n",
       "                  2017-10-01    2068.58   292          7.084178\n",
       "...                                 ...   ...               ...\n",
       "2018-03-01        2018-05-01    1114.87   176          6.334489\n",
       "2018-04-01        2018-04-01   10600.69  2495          4.248774\n",
       "                  2018-05-01    1209.92   195          6.204718\n",
       "2018-05-01        2018-05-01   13925.76  3249          4.286168\n",
       "2018-06-01        2018-06-01       3.42     1          3.420000\n",
       "\n",
       "[79 rows x 3 columns]"
      ]
     },
     "execution_count": 53,
     "metadata": {},
     "output_type": "execute_result"
    }
   ],
   "source": [
    "orders_grouped_by_cohorts"
   ]
  },
  {
   "cell_type": "markdown",
   "metadata": {},
   "source": [
    "Построим сводную таблицу изменения среднего чека в когортах по месяцу совершения покупки и оценим, как изменяется средний чек с течением времени"
   ]
  },
  {
   "cell_type": "code",
   "execution_count": 54,
   "metadata": {},
   "outputs": [
    {
     "data": {
      "image/png": "[encoded data removed]",
      "text/plain": [
       "<Figure size 1224x432 with 2 Axes>"
      ]
     },
     "metadata": {},
     "output_type": "display_data"
    }
   ],
   "source": [
    "# Постройка сводной таблицы\n",
    "orders_pivot = orders_grouped_by_cohorts.pivot_table(index='first_order_month',columns='order_month',values='revenue_per_user',aggfunc='mean')\n",
    "\n",
    "# Создание тепловой карты\n",
    "sns.set(style='white')\n",
    "plt.figure(figsize=(17, 6))\n",
    "plt.title('Средний чек')\n",
    "ax = sns.heatmap(orders_pivot, annot=True, fmt='.2f', linewidths=1, vmax=15);\n",
    "ax.set_yticklabels(retention_pivot.index.date)\n",
    "ax.set_xticklabels(retention_pivot.index.date)\n",
    "plt.show()"
   ]
  },
  {
   "cell_type": "markdown",
   "metadata": {},
   "source": [
    "Вывод\n",
    "По таблице видно, что наибольший средний чек у пользователей сентябрьской, декабрьской когорты и июньской когорты. Средний чек по всем пользователям равен 7,65."
   ]
  },
  {
   "cell_type": "markdown",
   "metadata": {},
   "source": [
    "# Сколько денег приносят? (LTV)"
   ]
  },
  {
   "cell_type": "markdown",
   "metadata": {},
   "source": [
    "Посчитаем количество новых покупателей (n_buyers) за каждый месяц:"
   ]
  },
  {
   "cell_type": "code",
   "execution_count": 55,
   "metadata": {},
   "outputs": [
    {
     "data": {
      "text/html": [
       "<div>\n",
       "<style scoped>\n",
       "    .dataframe tbody tr th:only-of-type {\n",
       "        vertical-align: middle;\n",
       "    }\n",
       "\n",
       "    .dataframe tbody tr th {\n",
       "        vertical-align: top;\n",
       "    }\n",
       "\n",
       "    .dataframe thead th {\n",
       "        text-align: right;\n",
       "    }\n",
       "</style>\n",
       "<table border=\"1\" class=\"dataframe\">\n",
       "  <thead>\n",
       "    <tr style=\"text-align: right;\">\n",
       "      <th></th>\n",
       "      <th>first_order_month</th>\n",
       "      <th>buyers</th>\n",
       "    </tr>\n",
       "  </thead>\n",
       "  <tbody>\n",
       "    <tr>\n",
       "      <td>0</td>\n",
       "      <td>2017-06-01</td>\n",
       "      <td>2023</td>\n",
       "    </tr>\n",
       "    <tr>\n",
       "      <td>1</td>\n",
       "      <td>2017-07-01</td>\n",
       "      <td>1923</td>\n",
       "    </tr>\n",
       "    <tr>\n",
       "      <td>2</td>\n",
       "      <td>2017-08-01</td>\n",
       "      <td>1370</td>\n",
       "    </tr>\n",
       "    <tr>\n",
       "      <td>3</td>\n",
       "      <td>2017-09-01</td>\n",
       "      <td>2581</td>\n",
       "    </tr>\n",
       "    <tr>\n",
       "      <td>4</td>\n",
       "      <td>2017-10-01</td>\n",
       "      <td>4340</td>\n",
       "    </tr>\n",
       "    <tr>\n",
       "      <td>5</td>\n",
       "      <td>2017-11-01</td>\n",
       "      <td>4081</td>\n",
       "    </tr>\n",
       "    <tr>\n",
       "      <td>6</td>\n",
       "      <td>2017-12-01</td>\n",
       "      <td>4383</td>\n",
       "    </tr>\n",
       "    <tr>\n",
       "      <td>7</td>\n",
       "      <td>2018-01-01</td>\n",
       "      <td>3373</td>\n",
       "    </tr>\n",
       "    <tr>\n",
       "      <td>8</td>\n",
       "      <td>2018-02-01</td>\n",
       "      <td>3651</td>\n",
       "    </tr>\n",
       "    <tr>\n",
       "      <td>9</td>\n",
       "      <td>2018-03-01</td>\n",
       "      <td>3533</td>\n",
       "    </tr>\n",
       "    <tr>\n",
       "      <td>10</td>\n",
       "      <td>2018-04-01</td>\n",
       "      <td>2276</td>\n",
       "    </tr>\n",
       "    <tr>\n",
       "      <td>11</td>\n",
       "      <td>2018-05-01</td>\n",
       "      <td>2988</td>\n",
       "    </tr>\n",
       "    <tr>\n",
       "      <td>12</td>\n",
       "      <td>2018-06-01</td>\n",
       "      <td>1</td>\n",
       "    </tr>\n",
       "  </tbody>\n",
       "</table>\n",
       "</div>"
      ],
      "text/plain": [
       "   first_order_month  buyers\n",
       "0         2017-06-01    2023\n",
       "1         2017-07-01    1923\n",
       "2         2017-08-01    1370\n",
       "3         2017-09-01    2581\n",
       "4         2017-10-01    4340\n",
       "5         2017-11-01    4081\n",
       "6         2017-12-01    4383\n",
       "7         2018-01-01    3373\n",
       "8         2018-02-01    3651\n",
       "9         2018-03-01    3533\n",
       "10        2018-04-01    2276\n",
       "11        2018-05-01    2988\n",
       "12        2018-06-01       1"
      ]
     },
     "execution_count": 55,
     "metadata": {},
     "output_type": "execute_result"
    }
   ],
   "source": [
    "# <Считаем кол-во новых покупателей>\n",
    "cohort_sizes = orders.groupby('first_order_month').agg({'uid': 'nunique'}).reset_index()\n",
    "cohort_sizes.columns = ['first_order_month', 'buyers']\n",
    "cohort_sizes"
   ]
  },
  {
   "cell_type": "markdown",
   "metadata": {},
   "source": [
    "Сгруппируем таблицу заказов по месяцу первой покупки и месяцу каждого заказа и сложим выручку"
   ]
  },
  {
   "cell_type": "code",
   "execution_count": 56,
   "metadata": {},
   "outputs": [
    {
     "data": {
      "text/html": [
       "<div>\n",
       "<style scoped>\n",
       "    .dataframe tbody tr th:only-of-type {\n",
       "        vertical-align: middle;\n",
       "    }\n",
       "\n",
       "    .dataframe tbody tr th {\n",
       "        vertical-align: top;\n",
       "    }\n",
       "\n",
       "    .dataframe thead th {\n",
       "        text-align: right;\n",
       "    }\n",
       "</style>\n",
       "<table border=\"1\" class=\"dataframe\">\n",
       "  <thead>\n",
       "    <tr style=\"text-align: right;\">\n",
       "      <th></th>\n",
       "      <th>first_order_month</th>\n",
       "      <th>order_month</th>\n",
       "      <th>revenue</th>\n",
       "    </tr>\n",
       "  </thead>\n",
       "  <tbody>\n",
       "    <tr>\n",
       "      <td>0</td>\n",
       "      <td>2017-06-01</td>\n",
       "      <td>2017-06-01</td>\n",
       "      <td>9557.49</td>\n",
       "    </tr>\n",
       "    <tr>\n",
       "      <td>1</td>\n",
       "      <td>2017-06-01</td>\n",
       "      <td>2017-07-01</td>\n",
       "      <td>981.82</td>\n",
       "    </tr>\n",
       "    <tr>\n",
       "      <td>2</td>\n",
       "      <td>2017-06-01</td>\n",
       "      <td>2017-08-01</td>\n",
       "      <td>885.34</td>\n",
       "    </tr>\n",
       "    <tr>\n",
       "      <td>3</td>\n",
       "      <td>2017-06-01</td>\n",
       "      <td>2017-09-01</td>\n",
       "      <td>1931.30</td>\n",
       "    </tr>\n",
       "    <tr>\n",
       "      <td>4</td>\n",
       "      <td>2017-06-01</td>\n",
       "      <td>2017-10-01</td>\n",
       "      <td>2068.58</td>\n",
       "    </tr>\n",
       "  </tbody>\n",
       "</table>\n",
       "</div>"
      ],
      "text/plain": [
       "  first_order_month order_month  revenue\n",
       "0        2017-06-01  2017-06-01  9557.49\n",
       "1        2017-06-01  2017-07-01   981.82\n",
       "2        2017-06-01  2017-08-01   885.34\n",
       "3        2017-06-01  2017-09-01  1931.30\n",
       "4        2017-06-01  2017-10-01  2068.58"
      ]
     },
     "execution_count": 56,
     "metadata": {},
     "output_type": "execute_result"
    }
   ],
   "source": [
    "# Группируем таблицу\n",
    "cohorts = orders.groupby(['first_order_month','order_month']).agg({'revenue': 'sum'}).reset_index()\n",
    "cohorts.head()"
   ]
  },
  {
   "cell_type": "markdown",
   "metadata": {},
   "source": [
    "Добавим в таблицу cohorts данные о том, сколько людей первый раз совершили покупку в каждый месяц:"
   ]
  },
  {
   "cell_type": "code",
   "execution_count": 57,
   "metadata": {},
   "outputs": [
    {
     "data": {
      "text/html": [
       "<div>\n",
       "<style scoped>\n",
       "    .dataframe tbody tr th:only-of-type {\n",
       "        vertical-align: middle;\n",
       "    }\n",
       "\n",
       "    .dataframe tbody tr th {\n",
       "        vertical-align: top;\n",
       "    }\n",
       "\n",
       "    .dataframe thead th {\n",
       "        text-align: right;\n",
       "    }\n",
       "</style>\n",
       "<table border=\"1\" class=\"dataframe\">\n",
       "  <thead>\n",
       "    <tr style=\"text-align: right;\">\n",
       "      <th></th>\n",
       "      <th>first_order_month</th>\n",
       "      <th>buyers</th>\n",
       "      <th>order_month</th>\n",
       "      <th>revenue</th>\n",
       "    </tr>\n",
       "  </thead>\n",
       "  <tbody>\n",
       "    <tr>\n",
       "      <td>0</td>\n",
       "      <td>2017-06-01</td>\n",
       "      <td>2023</td>\n",
       "      <td>2017-06-01</td>\n",
       "      <td>9557.49</td>\n",
       "    </tr>\n",
       "    <tr>\n",
       "      <td>1</td>\n",
       "      <td>2017-06-01</td>\n",
       "      <td>2023</td>\n",
       "      <td>2017-07-01</td>\n",
       "      <td>981.82</td>\n",
       "    </tr>\n",
       "    <tr>\n",
       "      <td>2</td>\n",
       "      <td>2017-06-01</td>\n",
       "      <td>2023</td>\n",
       "      <td>2017-08-01</td>\n",
       "      <td>885.34</td>\n",
       "    </tr>\n",
       "    <tr>\n",
       "      <td>3</td>\n",
       "      <td>2017-06-01</td>\n",
       "      <td>2023</td>\n",
       "      <td>2017-09-01</td>\n",
       "      <td>1931.30</td>\n",
       "    </tr>\n",
       "    <tr>\n",
       "      <td>4</td>\n",
       "      <td>2017-06-01</td>\n",
       "      <td>2023</td>\n",
       "      <td>2017-10-01</td>\n",
       "      <td>2068.58</td>\n",
       "    </tr>\n",
       "  </tbody>\n",
       "</table>\n",
       "</div>"
      ],
      "text/plain": [
       "  first_order_month  buyers order_month  revenue\n",
       "0        2017-06-01    2023  2017-06-01  9557.49\n",
       "1        2017-06-01    2023  2017-07-01   981.82\n",
       "2        2017-06-01    2023  2017-08-01   885.34\n",
       "3        2017-06-01    2023  2017-09-01  1931.30\n",
       "4        2017-06-01    2023  2017-10-01  2068.58"
      ]
     },
     "execution_count": 57,
     "metadata": {},
     "output_type": "execute_result"
    }
   ],
   "source": [
    "# Объединение таблиц\n",
    "report = pd.merge(cohort_sizes, cohorts, on='first_order_month')\n",
    "report.head()"
   ]
  },
  {
   "cell_type": "markdown",
   "metadata": {},
   "source": [
    "Добавим в таблицу report валовую прибыль (умножив выручку на маржинальность) и возраст когорты. Примем, что средняя маржинальность магазина составляет 1000%"
   ]
  },
  {
   "cell_type": "code",
   "execution_count": 58,
   "metadata": {},
   "outputs": [
    {
     "data": {
      "text/html": [
       "<div>\n",
       "<style scoped>\n",
       "    .dataframe tbody tr th:only-of-type {\n",
       "        vertical-align: middle;\n",
       "    }\n",
       "\n",
       "    .dataframe tbody tr th {\n",
       "        vertical-align: top;\n",
       "    }\n",
       "\n",
       "    .dataframe thead th {\n",
       "        text-align: right;\n",
       "    }\n",
       "</style>\n",
       "<table border=\"1\" class=\"dataframe\">\n",
       "  <thead>\n",
       "    <tr style=\"text-align: right;\">\n",
       "      <th></th>\n",
       "      <th>first_order_month</th>\n",
       "      <th>buyers</th>\n",
       "      <th>order_month</th>\n",
       "      <th>revenue</th>\n",
       "      <th>gp</th>\n",
       "      <th>age</th>\n",
       "    </tr>\n",
       "  </thead>\n",
       "  <tbody>\n",
       "    <tr>\n",
       "      <td>0</td>\n",
       "      <td>2017-06-01</td>\n",
       "      <td>2023</td>\n",
       "      <td>2017-06-01</td>\n",
       "      <td>9557.49</td>\n",
       "      <td>9557.49</td>\n",
       "      <td>0</td>\n",
       "    </tr>\n",
       "    <tr>\n",
       "      <td>1</td>\n",
       "      <td>2017-06-01</td>\n",
       "      <td>2023</td>\n",
       "      <td>2017-07-01</td>\n",
       "      <td>981.82</td>\n",
       "      <td>981.82</td>\n",
       "      <td>1</td>\n",
       "    </tr>\n",
       "    <tr>\n",
       "      <td>2</td>\n",
       "      <td>2017-06-01</td>\n",
       "      <td>2023</td>\n",
       "      <td>2017-08-01</td>\n",
       "      <td>885.34</td>\n",
       "      <td>885.34</td>\n",
       "      <td>2</td>\n",
       "    </tr>\n",
       "    <tr>\n",
       "      <td>3</td>\n",
       "      <td>2017-06-01</td>\n",
       "      <td>2023</td>\n",
       "      <td>2017-09-01</td>\n",
       "      <td>1931.30</td>\n",
       "      <td>1931.30</td>\n",
       "      <td>3</td>\n",
       "    </tr>\n",
       "    <tr>\n",
       "      <td>4</td>\n",
       "      <td>2017-06-01</td>\n",
       "      <td>2023</td>\n",
       "      <td>2017-10-01</td>\n",
       "      <td>2068.58</td>\n",
       "      <td>2068.58</td>\n",
       "      <td>4</td>\n",
       "    </tr>\n",
       "  </tbody>\n",
       "</table>\n",
       "</div>"
      ],
      "text/plain": [
       "  first_order_month  buyers order_month  revenue       gp  age\n",
       "0        2017-06-01    2023  2017-06-01  9557.49  9557.49    0\n",
       "1        2017-06-01    2023  2017-07-01   981.82   981.82    1\n",
       "2        2017-06-01    2023  2017-08-01   885.34   885.34    2\n",
       "3        2017-06-01    2023  2017-09-01  1931.30  1931.30    3\n",
       "4        2017-06-01    2023  2017-10-01  2068.58  2068.58    4"
      ]
     },
     "execution_count": 58,
     "metadata": {},
     "output_type": "execute_result"
    }
   ],
   "source": [
    "# Расчет валовой прибыли и возраста когорты\n",
    "margin_rate = 1\n",
    "\n",
    "report['gp'] = report['revenue'] * margin_rate\n",
    "report['age'] = (report['order_month'] - report['first_order_month']) / np.timedelta64(1, 'M')\n",
    "report['age'] = report['age'].round().astype('int')\n",
    "report.head()"
   ]
  },
  {
   "cell_type": "markdown",
   "metadata": {},
   "source": [
    "Найдём LTV, разделив валовую прибыль когорт за каждый месяц на общее число пользователей в каждой когорте. Для наглядности визуализируем когорты в виде сводной таблицы:"
   ]
  },
  {
   "cell_type": "code",
   "execution_count": 59,
   "metadata": {},
   "outputs": [],
   "source": [
    "# Нахождение LTV\n",
    "report['ltv'] = report['gp'] / report['buyers']\n",
    "    \n",
    "output = report.pivot_table(\n",
    "        index='first_order_month', \n",
    "        columns='age', \n",
    "        values='ltv', \n",
    "        aggfunc='mean').round(2)"
   ]
  },
  {
   "cell_type": "code",
   "execution_count": 60,
   "metadata": {},
   "outputs": [
    {
     "data": {
      "text/plain": [
       "[Text(0, 0.5, '2017-06-01'),\n",
       " Text(0, 1.5, '2017-07-01'),\n",
       " Text(0, 2.5, '2017-08-01'),\n",
       " Text(0, 3.5, '2017-09-01'),\n",
       " Text(0, 4.5, '2017-10-01'),\n",
       " Text(0, 5.5, '2017-11-01'),\n",
       " Text(0, 6.5, '2017-12-01'),\n",
       " Text(0, 7.5, '2018-01-01'),\n",
       " Text(0, 8.5, '2018-02-01'),\n",
       " Text(0, 9.5, '2018-03-01'),\n",
       " Text(0, 10.5, '2018-04-01'),\n",
       " Text(0, 11.5, '2018-05-01')]"
      ]
     },
     "execution_count": 60,
     "metadata": {},
     "output_type": "execute_result"
    },
    {
     "data": {
      "image/png": "[encoded data removed]",
      "text/plain": [
       "<Figure size 1224x432 with 2 Axes>"
      ]
     },
     "metadata": {},
     "output_type": "display_data"
    }
   ],
   "source": [
    "# Создание тепловой карты\n",
    "sns.set(style='white')\n",
    "plt.figure(figsize=(17, 6))\n",
    "plt.title('LTV')\n",
    "ax = sns.heatmap(output.cumsum(axis=1), annot=True, fmt='.2f', linewidths=1);\n",
    "ax.set_yticklabels(retention_pivot.index.date)"
   ]
  },
  {
   "cell_type": "markdown",
   "metadata": {},
   "source": [
    "Вывод\n",
    "В среднем каждый покупатель из первой когорты принес по 11,88 рублей выручки за 12 месяцев «жизни». Выделяется когорта 2017-09-01 - по ней прибыль с каждого покупателя выше, чем по остальным."
   ]
  },
  {
   "cell_type": "markdown",
   "metadata": {},
   "source": [
    "# 2.3 Маркетинг"
   ]
  },
  {
   "cell_type": "markdown",
   "metadata": {},
   "source": [
    "# Сколько денег потратили?"
   ]
  },
  {
   "cell_type": "markdown",
   "metadata": {},
   "source": [
    "Посчитаем суммарные расходы за весь период"
   ]
  },
  {
   "cell_type": "code",
   "execution_count": 61,
   "metadata": {},
   "outputs": [
    {
     "data": {
      "text/plain": [
       "329131.62"
      ]
     },
     "execution_count": 61,
     "metadata": {},
     "output_type": "execute_result"
    }
   ],
   "source": [
    "costs['costs'].sum()"
   ]
  },
  {
   "cell_type": "code",
   "execution_count": 62,
   "metadata": {},
   "outputs": [
    {
     "data": {
      "text/html": [
       "<div>\n",
       "<style scoped>\n",
       "    .dataframe tbody tr th:only-of-type {\n",
       "        vertical-align: middle;\n",
       "    }\n",
       "\n",
       "    .dataframe tbody tr th {\n",
       "        vertical-align: top;\n",
       "    }\n",
       "\n",
       "    .dataframe thead th {\n",
       "        text-align: right;\n",
       "    }\n",
       "</style>\n",
       "<table border=\"1\" class=\"dataframe\">\n",
       "  <thead>\n",
       "    <tr style=\"text-align: right;\">\n",
       "      <th></th>\n",
       "      <th>source_id</th>\n",
       "      <th>costs</th>\n",
       "      <th>date</th>\n",
       "    </tr>\n",
       "  </thead>\n",
       "  <tbody>\n",
       "    <tr>\n",
       "      <td>0</td>\n",
       "      <td>1</td>\n",
       "      <td>75.20</td>\n",
       "      <td>2017-06-01</td>\n",
       "    </tr>\n",
       "    <tr>\n",
       "      <td>1</td>\n",
       "      <td>1</td>\n",
       "      <td>62.25</td>\n",
       "      <td>2017-06-02</td>\n",
       "    </tr>\n",
       "    <tr>\n",
       "      <td>2</td>\n",
       "      <td>1</td>\n",
       "      <td>36.53</td>\n",
       "      <td>2017-06-03</td>\n",
       "    </tr>\n",
       "    <tr>\n",
       "      <td>3</td>\n",
       "      <td>1</td>\n",
       "      <td>55.00</td>\n",
       "      <td>2017-06-04</td>\n",
       "    </tr>\n",
       "    <tr>\n",
       "      <td>4</td>\n",
       "      <td>1</td>\n",
       "      <td>57.08</td>\n",
       "      <td>2017-06-05</td>\n",
       "    </tr>\n",
       "  </tbody>\n",
       "</table>\n",
       "</div>"
      ],
      "text/plain": [
       "   source_id  costs       date\n",
       "0          1  75.20 2017-06-01\n",
       "1          1  62.25 2017-06-02\n",
       "2          1  36.53 2017-06-03\n",
       "3          1  55.00 2017-06-04\n",
       "4          1  57.08 2017-06-05"
      ]
     },
     "execution_count": 62,
     "metadata": {},
     "output_type": "execute_result"
    }
   ],
   "source": [
    "costs.head()"
   ]
  },
  {
   "cell_type": "code",
   "execution_count": 63,
   "metadata": {},
   "outputs": [
    {
     "data": {
      "text/plain": [
       "Text(0.5, 1.0, 'Помесячная сумма затрат')"
      ]
     },
     "execution_count": 63,
     "metadata": {},
     "output_type": "execute_result"
    },
    {
     "data": {
      "image/png": "[encoded data removed]",
      "text/plain": [
       "<Figure size 864x288 with 1 Axes>"
      ]
     },
     "metadata": {},
     "output_type": "display_data"
    }
   ],
   "source": [
    "# Добавим столбце с месяцем затрат\n",
    "costs['month'] = costs['date'].astype('datetime64[M]')\n",
    "\n",
    "# Построим график\n",
    "costs_pivot = costs.pivot_table(index='month',values='costs',aggfunc='sum')\n",
    "costs_month_plot = costs_pivot.plot(grid=True, figsize=(12, 4)) \n",
    "plt.xlabel('Месяц затрат')\n",
    "plt.ylabel('Сумма затрат')\n",
    "plt.title('Помесячная сумма затрат')"
   ]
  },
  {
   "cell_type": "markdown",
   "metadata": {},
   "source": [
    "Посмотрим на расходы по источникам."
   ]
  },
  {
   "cell_type": "code",
   "execution_count": 1,
   "metadata": {},
   "outputs": [],
   "source": [
    "# # Построим график\n",
    "# costs_source = costs.pivot_table(index='source_id',values='costs',aggfunc='sum')\n",
    "# costs_sourse_plot = costs_source.plot(grid=True, figsize=(12, 4)) \n",
    "# plt.xlabel('Источник затрат')\n",
    "# plt.ylabel('Сумма затрат')\n",
    "# plt.title('График затрат на каждый источник')"
   ]
  },
  {
   "cell_type": "code",
   "execution_count": 65,
   "metadata": {},
   "outputs": [
    {
     "data": {
      "text/html": [
       "<div>\n",
       "<style scoped>\n",
       "    .dataframe tbody tr th:only-of-type {\n",
       "        vertical-align: middle;\n",
       "    }\n",
       "\n",
       "    .dataframe tbody tr th {\n",
       "        vertical-align: top;\n",
       "    }\n",
       "\n",
       "    .dataframe thead th {\n",
       "        text-align: right;\n",
       "    }\n",
       "</style>\n",
       "<table border=\"1\" class=\"dataframe\">\n",
       "  <thead>\n",
       "    <tr style=\"text-align: right;\">\n",
       "      <th></th>\n",
       "      <th>costs</th>\n",
       "    </tr>\n",
       "    <tr>\n",
       "      <th>source_id</th>\n",
       "      <th></th>\n",
       "    </tr>\n",
       "  </thead>\n",
       "  <tbody>\n",
       "    <tr>\n",
       "      <td>1</td>\n",
       "      <td>20833.27</td>\n",
       "    </tr>\n",
       "    <tr>\n",
       "      <td>2</td>\n",
       "      <td>42806.04</td>\n",
       "    </tr>\n",
       "    <tr>\n",
       "      <td>3</td>\n",
       "      <td>141321.63</td>\n",
       "    </tr>\n",
       "    <tr>\n",
       "      <td>4</td>\n",
       "      <td>61073.60</td>\n",
       "    </tr>\n",
       "    <tr>\n",
       "      <td>5</td>\n",
       "      <td>51757.10</td>\n",
       "    </tr>\n",
       "    <tr>\n",
       "      <td>9</td>\n",
       "      <td>5517.49</td>\n",
       "    </tr>\n",
       "    <tr>\n",
       "      <td>10</td>\n",
       "      <td>5822.49</td>\n",
       "    </tr>\n",
       "  </tbody>\n",
       "</table>\n",
       "</div>"
      ],
      "text/plain": [
       "               costs\n",
       "source_id           \n",
       "1           20833.27\n",
       "2           42806.04\n",
       "3          141321.63\n",
       "4           61073.60\n",
       "5           51757.10\n",
       "9            5517.49\n",
       "10           5822.49"
      ]
     },
     "execution_count": 65,
     "metadata": {},
     "output_type": "execute_result"
    }
   ],
   "source": [
    "costs_source"
   ]
  },
  {
   "cell_type": "code",
   "execution_count": 66,
   "metadata": {},
   "outputs": [
    {
     "data": {
      "text/plain": [
       "Text(0.5, 1.0, 'График затрат на каждый источник')"
      ]
     },
     "execution_count": 66,
     "metadata": {},
     "output_type": "execute_result"
    },
    {
     "data": {
      "image/png": "[encoded data removed]",
      "text/plain": [
       "<Figure size 1152x288 with 1 Axes>"
      ]
     },
     "metadata": {},
     "output_type": "display_data"
    }
   ],
   "source": [
    "costs_sourse_plot = costs.pivot_table(index='source_id', values='costs', aggfunc='sum').plot(grid=True, kind='bar', figsize=(16, 4))\n",
    "plt.xlabel('Источник затрат')\n",
    "plt.ylabel('Сумма затрат')\n",
    "plt.title('График затрат на каждый источник')"
   ]
  },
  {
   "cell_type": "markdown",
   "metadata": {},
   "source": [
    "Вывод\n",
    "Всего было затрачено 329131. Наибольшее кол-во затрат произошло в период с октября по декабрь, что можно объяснить высоким сезоном. Третий источник самый затратный, самый девешый - 9 и 10."
   ]
  },
  {
   "cell_type": "markdown",
   "metadata": {},
   "source": [
    "# Сколько стоило привлечение одного покупателя из каждого источника? (CAC)"
   ]
  },
  {
   "cell_type": "markdown",
   "metadata": {},
   "source": [
    "# Найдем САС путем деления расходов из одого рекламного источника на число новых покупателей, пришедших из этого рекламного источника. Первоначально посчитаем расходы по рекламным источникам:"
   ]
  },
  {
   "cell_type": "code",
   "execution_count": 67,
   "metadata": {},
   "outputs": [
    {
     "data": {
      "text/html": [
       "<div>\n",
       "<style scoped>\n",
       "    .dataframe tbody tr th:only-of-type {\n",
       "        vertical-align: middle;\n",
       "    }\n",
       "\n",
       "    .dataframe tbody tr th {\n",
       "        vertical-align: top;\n",
       "    }\n",
       "\n",
       "    .dataframe thead th {\n",
       "        text-align: right;\n",
       "    }\n",
       "</style>\n",
       "<table border=\"1\" class=\"dataframe\">\n",
       "  <thead>\n",
       "    <tr style=\"text-align: right;\">\n",
       "      <th></th>\n",
       "      <th>source_id</th>\n",
       "      <th>costs</th>\n",
       "    </tr>\n",
       "  </thead>\n",
       "  <tbody>\n",
       "    <tr>\n",
       "      <td>0</td>\n",
       "      <td>1</td>\n",
       "      <td>20833.27</td>\n",
       "    </tr>\n",
       "    <tr>\n",
       "      <td>1</td>\n",
       "      <td>2</td>\n",
       "      <td>42806.04</td>\n",
       "    </tr>\n",
       "    <tr>\n",
       "      <td>2</td>\n",
       "      <td>3</td>\n",
       "      <td>141321.63</td>\n",
       "    </tr>\n",
       "    <tr>\n",
       "      <td>3</td>\n",
       "      <td>4</td>\n",
       "      <td>61073.60</td>\n",
       "    </tr>\n",
       "    <tr>\n",
       "      <td>4</td>\n",
       "      <td>5</td>\n",
       "      <td>51757.10</td>\n",
       "    </tr>\n",
       "    <tr>\n",
       "      <td>5</td>\n",
       "      <td>9</td>\n",
       "      <td>5517.49</td>\n",
       "    </tr>\n",
       "    <tr>\n",
       "      <td>6</td>\n",
       "      <td>10</td>\n",
       "      <td>5822.49</td>\n",
       "    </tr>\n",
       "  </tbody>\n",
       "</table>\n",
       "</div>"
      ],
      "text/plain": [
       "   source_id      costs\n",
       "0          1   20833.27\n",
       "1          2   42806.04\n",
       "2          3  141321.63\n",
       "3          4   61073.60\n",
       "4          5   51757.10\n",
       "5          9    5517.49\n",
       "6         10    5822.49"
      ]
     },
     "execution_count": 67,
     "metadata": {},
     "output_type": "execute_result"
    }
   ],
   "source": [
    "# Расходы по источникам\n",
    "costs_source = costs.pivot_table(index=['source_id'],values='costs',aggfunc='sum').reset_index()\n",
    "costs_source"
   ]
  },
  {
   "cell_type": "code",
   "execution_count": 68,
   "metadata": {},
   "outputs": [
    {
     "data": {
      "text/html": [
       "<div>\n",
       "<style scoped>\n",
       "    .dataframe tbody tr th:only-of-type {\n",
       "        vertical-align: middle;\n",
       "    }\n",
       "\n",
       "    .dataframe tbody tr th {\n",
       "        vertical-align: top;\n",
       "    }\n",
       "\n",
       "    .dataframe thead th {\n",
       "        text-align: right;\n",
       "    }\n",
       "</style>\n",
       "<table border=\"1\" class=\"dataframe\">\n",
       "  <thead>\n",
       "    <tr style=\"text-align: right;\">\n",
       "      <th></th>\n",
       "      <th>source_id</th>\n",
       "      <th>costs</th>\n",
       "      <th>date</th>\n",
       "      <th>month</th>\n",
       "    </tr>\n",
       "  </thead>\n",
       "  <tbody>\n",
       "    <tr>\n",
       "      <td>0</td>\n",
       "      <td>1</td>\n",
       "      <td>75.20</td>\n",
       "      <td>2017-06-01</td>\n",
       "      <td>2017-06-01</td>\n",
       "    </tr>\n",
       "    <tr>\n",
       "      <td>1</td>\n",
       "      <td>1</td>\n",
       "      <td>62.25</td>\n",
       "      <td>2017-06-02</td>\n",
       "      <td>2017-06-01</td>\n",
       "    </tr>\n",
       "    <tr>\n",
       "      <td>2</td>\n",
       "      <td>1</td>\n",
       "      <td>36.53</td>\n",
       "      <td>2017-06-03</td>\n",
       "      <td>2017-06-01</td>\n",
       "    </tr>\n",
       "    <tr>\n",
       "      <td>3</td>\n",
       "      <td>1</td>\n",
       "      <td>55.00</td>\n",
       "      <td>2017-06-04</td>\n",
       "      <td>2017-06-01</td>\n",
       "    </tr>\n",
       "    <tr>\n",
       "      <td>4</td>\n",
       "      <td>1</td>\n",
       "      <td>57.08</td>\n",
       "      <td>2017-06-05</td>\n",
       "      <td>2017-06-01</td>\n",
       "    </tr>\n",
       "  </tbody>\n",
       "</table>\n",
       "</div>"
      ],
      "text/plain": [
       "   source_id  costs       date      month\n",
       "0          1  75.20 2017-06-01 2017-06-01\n",
       "1          1  62.25 2017-06-02 2017-06-01\n",
       "2          1  36.53 2017-06-03 2017-06-01\n",
       "3          1  55.00 2017-06-04 2017-06-01\n",
       "4          1  57.08 2017-06-05 2017-06-01"
      ]
     },
     "execution_count": 68,
     "metadata": {},
     "output_type": "execute_result"
    }
   ],
   "source": [
    "costs.head()"
   ]
  },
  {
   "cell_type": "code",
   "execution_count": 69,
   "metadata": {},
   "outputs": [
    {
     "data": {
      "text/html": [
       "<div>\n",
       "<style scoped>\n",
       "    .dataframe tbody tr th:only-of-type {\n",
       "        vertical-align: middle;\n",
       "    }\n",
       "\n",
       "    .dataframe tbody tr th {\n",
       "        vertical-align: top;\n",
       "    }\n",
       "\n",
       "    .dataframe thead th {\n",
       "        text-align: right;\n",
       "    }\n",
       "</style>\n",
       "<table border=\"1\" class=\"dataframe\">\n",
       "  <thead>\n",
       "    <tr style=\"text-align: right;\">\n",
       "      <th></th>\n",
       "      <th>uid</th>\n",
       "      <th>revenue</th>\n",
       "      <th>bay_ts</th>\n",
       "      <th>first_session_date</th>\n",
       "      <th>orders_time</th>\n",
       "      <th>buy_month</th>\n",
       "      <th>first_order_date</th>\n",
       "      <th>first_order_month</th>\n",
       "      <th>order_month</th>\n",
       "    </tr>\n",
       "  </thead>\n",
       "  <tbody>\n",
       "    <tr>\n",
       "      <td>0</td>\n",
       "      <td>10329302124590727494</td>\n",
       "      <td>17.00</td>\n",
       "      <td>2017-06-01 00:10:00</td>\n",
       "      <td>2017-06-01 00:09:00</td>\n",
       "      <td>0.016667</td>\n",
       "      <td>2017-06-01</td>\n",
       "      <td>2017-06-01 00:10:00</td>\n",
       "      <td>2017-06-01</td>\n",
       "      <td>2017-06-01</td>\n",
       "    </tr>\n",
       "    <tr>\n",
       "      <td>1</td>\n",
       "      <td>11627257723692907447</td>\n",
       "      <td>0.55</td>\n",
       "      <td>2017-06-01 00:25:00</td>\n",
       "      <td>2017-06-01 00:14:00</td>\n",
       "      <td>0.183333</td>\n",
       "      <td>2017-06-01</td>\n",
       "      <td>2017-06-01 00:25:00</td>\n",
       "      <td>2017-06-01</td>\n",
       "      <td>2017-06-01</td>\n",
       "    </tr>\n",
       "    <tr>\n",
       "      <td>2</td>\n",
       "      <td>17903680561304213844</td>\n",
       "      <td>0.37</td>\n",
       "      <td>2017-06-01 00:27:00</td>\n",
       "      <td>2017-06-01 00:25:00</td>\n",
       "      <td>0.033333</td>\n",
       "      <td>2017-06-01</td>\n",
       "      <td>2017-06-01 00:27:00</td>\n",
       "      <td>2017-06-01</td>\n",
       "      <td>2017-06-01</td>\n",
       "    </tr>\n",
       "    <tr>\n",
       "      <td>3</td>\n",
       "      <td>16109239769442553005</td>\n",
       "      <td>0.55</td>\n",
       "      <td>2017-06-01 00:29:00</td>\n",
       "      <td>2017-06-01 00:14:00</td>\n",
       "      <td>0.250000</td>\n",
       "      <td>2017-06-01</td>\n",
       "      <td>2017-06-01 00:29:00</td>\n",
       "      <td>2017-06-01</td>\n",
       "      <td>2017-06-01</td>\n",
       "    </tr>\n",
       "    <tr>\n",
       "      <td>4</td>\n",
       "      <td>14200605875248379450</td>\n",
       "      <td>0.37</td>\n",
       "      <td>2017-06-01 07:58:00</td>\n",
       "      <td>2017-06-01 07:31:00</td>\n",
       "      <td>0.450000</td>\n",
       "      <td>2017-06-01</td>\n",
       "      <td>2017-06-01 07:58:00</td>\n",
       "      <td>2017-06-01</td>\n",
       "      <td>2017-06-01</td>\n",
       "    </tr>\n",
       "  </tbody>\n",
       "</table>\n",
       "</div>"
      ],
      "text/plain": [
       "                    uid  revenue              bay_ts  first_session_date  \\\n",
       "0  10329302124590727494    17.00 2017-06-01 00:10:00 2017-06-01 00:09:00   \n",
       "1  11627257723692907447     0.55 2017-06-01 00:25:00 2017-06-01 00:14:00   \n",
       "2  17903680561304213844     0.37 2017-06-01 00:27:00 2017-06-01 00:25:00   \n",
       "3  16109239769442553005     0.55 2017-06-01 00:29:00 2017-06-01 00:14:00   \n",
       "4  14200605875248379450     0.37 2017-06-01 07:58:00 2017-06-01 07:31:00   \n",
       "\n",
       "   orders_time  buy_month    first_order_date first_order_month order_month  \n",
       "0     0.016667 2017-06-01 2017-06-01 00:10:00        2017-06-01  2017-06-01  \n",
       "1     0.183333 2017-06-01 2017-06-01 00:25:00        2017-06-01  2017-06-01  \n",
       "2     0.033333 2017-06-01 2017-06-01 00:27:00        2017-06-01  2017-06-01  \n",
       "3     0.250000 2017-06-01 2017-06-01 00:29:00        2017-06-01  2017-06-01  \n",
       "4     0.450000 2017-06-01 2017-06-01 07:58:00        2017-06-01  2017-06-01  "
      ]
     },
     "execution_count": 69,
     "metadata": {},
     "output_type": "execute_result"
    }
   ],
   "source": [
    "orders.head()"
   ]
  },
  {
   "cell_type": "code",
   "execution_count": 70,
   "metadata": {},
   "outputs": [],
   "source": [
    "orders['bay_ts'] = pd.to_datetime(orders['bay_ts'], format = '%Y-%m')\n",
    "costs['date'] = pd.to_datetime(costs['date'], format = '%Y-%m' )\n",
    "costs['month'] = pd.to_datetime(costs['month'], format = '%Y-%m')"
   ]
  },
  {
   "cell_type": "code",
   "execution_count": 71,
   "metadata": {},
   "outputs": [
    {
     "data": {
      "text/html": [
       "<div>\n",
       "<style scoped>\n",
       "    .dataframe tbody tr th:only-of-type {\n",
       "        vertical-align: middle;\n",
       "    }\n",
       "\n",
       "    .dataframe tbody tr th {\n",
       "        vertical-align: top;\n",
       "    }\n",
       "\n",
       "    .dataframe thead th {\n",
       "        text-align: right;\n",
       "    }\n",
       "</style>\n",
       "<table border=\"1\" class=\"dataframe\">\n",
       "  <thead>\n",
       "    <tr style=\"text-align: right;\">\n",
       "      <th></th>\n",
       "      <th>uid</th>\n",
       "      <th>first_orders</th>\n",
       "    </tr>\n",
       "  </thead>\n",
       "  <tbody>\n",
       "    <tr>\n",
       "      <td>0</td>\n",
       "      <td>313578113262317</td>\n",
       "      <td>2018-01-01</td>\n",
       "    </tr>\n",
       "    <tr>\n",
       "      <td>1</td>\n",
       "      <td>1575281904278712</td>\n",
       "      <td>2017-06-01</td>\n",
       "    </tr>\n",
       "    <tr>\n",
       "      <td>2</td>\n",
       "      <td>2429014661409475</td>\n",
       "      <td>2017-10-01</td>\n",
       "    </tr>\n",
       "    <tr>\n",
       "      <td>3</td>\n",
       "      <td>2464366381792757</td>\n",
       "      <td>2018-01-01</td>\n",
       "    </tr>\n",
       "    <tr>\n",
       "      <td>4</td>\n",
       "      <td>2551852515556206</td>\n",
       "      <td>2017-11-01</td>\n",
       "    </tr>\n",
       "    <tr>\n",
       "      <td>...</td>\n",
       "      <td>...</td>\n",
       "      <td>...</td>\n",
       "    </tr>\n",
       "    <tr>\n",
       "      <td>36518</td>\n",
       "      <td>18445147675727495770</td>\n",
       "      <td>2017-11-01</td>\n",
       "    </tr>\n",
       "    <tr>\n",
       "      <td>36519</td>\n",
       "      <td>18445407535914413204</td>\n",
       "      <td>2017-09-01</td>\n",
       "    </tr>\n",
       "    <tr>\n",
       "      <td>36520</td>\n",
       "      <td>18445601152732270159</td>\n",
       "      <td>2018-03-01</td>\n",
       "    </tr>\n",
       "    <tr>\n",
       "      <td>36521</td>\n",
       "      <td>18446156210226471712</td>\n",
       "      <td>2018-02-01</td>\n",
       "    </tr>\n",
       "    <tr>\n",
       "      <td>36522</td>\n",
       "      <td>18446167067214817906</td>\n",
       "      <td>2017-10-01</td>\n",
       "    </tr>\n",
       "  </tbody>\n",
       "</table>\n",
       "<p>36523 rows × 2 columns</p>\n",
       "</div>"
      ],
      "text/plain": [
       "                        uid first_orders\n",
       "0           313578113262317   2018-01-01\n",
       "1          1575281904278712   2017-06-01\n",
       "2          2429014661409475   2017-10-01\n",
       "3          2464366381792757   2018-01-01\n",
       "4          2551852515556206   2017-11-01\n",
       "...                     ...          ...\n",
       "36518  18445147675727495770   2017-11-01\n",
       "36519  18445407535914413204   2017-09-01\n",
       "36520  18445601152732270159   2018-03-01\n",
       "36521  18446156210226471712   2018-02-01\n",
       "36522  18446167067214817906   2017-10-01\n",
       "\n",
       "[36523 rows x 2 columns]"
      ]
     },
     "execution_count": 71,
     "metadata": {},
     "output_type": "execute_result"
    }
   ],
   "source": [
    "first = orders.groupby('uid').agg({'buy_month': 'min'}).reset_index()\n",
    "first.columns =['uid', 'first_orders']\n",
    "first"
   ]
  },
  {
   "cell_type": "code",
   "execution_count": 72,
   "metadata": {},
   "outputs": [
    {
     "data": {
      "text/html": [
       "<div>\n",
       "<style scoped>\n",
       "    .dataframe tbody tr th:only-of-type {\n",
       "        vertical-align: middle;\n",
       "    }\n",
       "\n",
       "    .dataframe tbody tr th {\n",
       "        vertical-align: top;\n",
       "    }\n",
       "\n",
       "    .dataframe thead th {\n",
       "        text-align: right;\n",
       "    }\n",
       "</style>\n",
       "<table border=\"1\" class=\"dataframe\">\n",
       "  <thead>\n",
       "    <tr style=\"text-align: right;\">\n",
       "      <th></th>\n",
       "      <th>device</th>\n",
       "      <th>source_id</th>\n",
       "      <th>uid</th>\n",
       "      <th>start_ts</th>\n",
       "      <th>end_ts</th>\n",
       "      <th>session_month</th>\n",
       "      <th>session_week</th>\n",
       "      <th>session_date</th>\n",
       "      <th>session_duration_sec</th>\n",
       "    </tr>\n",
       "  </thead>\n",
       "  <tbody>\n",
       "    <tr>\n",
       "      <td>0</td>\n",
       "      <td>touch</td>\n",
       "      <td>4</td>\n",
       "      <td>16879256277535980062</td>\n",
       "      <td>2017-12-20 17:20:00</td>\n",
       "      <td>2017-12-20 17:38:00</td>\n",
       "      <td>2017-12-01</td>\n",
       "      <td>2017-12-14</td>\n",
       "      <td>2017-12-20</td>\n",
       "      <td>1080</td>\n",
       "    </tr>\n",
       "    <tr>\n",
       "      <td>1</td>\n",
       "      <td>desktop</td>\n",
       "      <td>2</td>\n",
       "      <td>104060357244891740</td>\n",
       "      <td>2018-02-19 16:53:00</td>\n",
       "      <td>2018-02-19 17:21:00</td>\n",
       "      <td>2018-02-01</td>\n",
       "      <td>2018-02-15</td>\n",
       "      <td>2018-02-19</td>\n",
       "      <td>1680</td>\n",
       "    </tr>\n",
       "    <tr>\n",
       "      <td>2</td>\n",
       "      <td>touch</td>\n",
       "      <td>5</td>\n",
       "      <td>7459035603376831527</td>\n",
       "      <td>2017-07-01 01:54:00</td>\n",
       "      <td>2017-07-01 01:54:00</td>\n",
       "      <td>2017-07-01</td>\n",
       "      <td>2017-06-29</td>\n",
       "      <td>2017-07-01</td>\n",
       "      <td>0</td>\n",
       "    </tr>\n",
       "    <tr>\n",
       "      <td>3</td>\n",
       "      <td>desktop</td>\n",
       "      <td>9</td>\n",
       "      <td>16174680259334210214</td>\n",
       "      <td>2018-05-20 10:59:00</td>\n",
       "      <td>2018-05-20 11:23:00</td>\n",
       "      <td>2018-05-01</td>\n",
       "      <td>2018-05-17</td>\n",
       "      <td>2018-05-20</td>\n",
       "      <td>1440</td>\n",
       "    </tr>\n",
       "    <tr>\n",
       "      <td>4</td>\n",
       "      <td>desktop</td>\n",
       "      <td>3</td>\n",
       "      <td>9969694820036681168</td>\n",
       "      <td>2017-12-27 14:06:00</td>\n",
       "      <td>2017-12-27 14:06:00</td>\n",
       "      <td>2017-12-01</td>\n",
       "      <td>2017-12-21</td>\n",
       "      <td>2017-12-27</td>\n",
       "      <td>0</td>\n",
       "    </tr>\n",
       "    <tr>\n",
       "      <td>...</td>\n",
       "      <td>...</td>\n",
       "      <td>...</td>\n",
       "      <td>...</td>\n",
       "      <td>...</td>\n",
       "      <td>...</td>\n",
       "      <td>...</td>\n",
       "      <td>...</td>\n",
       "      <td>...</td>\n",
       "      <td>...</td>\n",
       "    </tr>\n",
       "    <tr>\n",
       "      <td>359395</td>\n",
       "      <td>desktop</td>\n",
       "      <td>2</td>\n",
       "      <td>18363291481961487539</td>\n",
       "      <td>2017-07-29 19:07:00</td>\n",
       "      <td>2017-07-29 19:07:19</td>\n",
       "      <td>2017-07-01</td>\n",
       "      <td>2017-07-27</td>\n",
       "      <td>2017-07-29</td>\n",
       "      <td>19</td>\n",
       "    </tr>\n",
       "    <tr>\n",
       "      <td>359396</td>\n",
       "      <td>touch</td>\n",
       "      <td>1</td>\n",
       "      <td>18370831553019119586</td>\n",
       "      <td>2018-01-25 17:38:00</td>\n",
       "      <td>2018-01-25 17:38:19</td>\n",
       "      <td>2018-01-01</td>\n",
       "      <td>2018-01-25</td>\n",
       "      <td>2018-01-25</td>\n",
       "      <td>19</td>\n",
       "    </tr>\n",
       "    <tr>\n",
       "      <td>359397</td>\n",
       "      <td>desktop</td>\n",
       "      <td>4</td>\n",
       "      <td>18387297585500748294</td>\n",
       "      <td>2018-03-03 10:12:00</td>\n",
       "      <td>2018-03-03 10:12:19</td>\n",
       "      <td>2018-03-01</td>\n",
       "      <td>2018-03-01</td>\n",
       "      <td>2018-03-03</td>\n",
       "      <td>19</td>\n",
       "    </tr>\n",
       "    <tr>\n",
       "      <td>359398</td>\n",
       "      <td>desktop</td>\n",
       "      <td>5</td>\n",
       "      <td>18388616944624776485</td>\n",
       "      <td>2017-11-02 10:12:00</td>\n",
       "      <td>2017-11-02 10:12:19</td>\n",
       "      <td>2017-11-01</td>\n",
       "      <td>2017-11-02</td>\n",
       "      <td>2017-11-02</td>\n",
       "      <td>19</td>\n",
       "    </tr>\n",
       "    <tr>\n",
       "      <td>359399</td>\n",
       "      <td>touch</td>\n",
       "      <td>2</td>\n",
       "      <td>18396128934054549559</td>\n",
       "      <td>2017-09-10 13:13:00</td>\n",
       "      <td>2017-09-10 13:13:19</td>\n",
       "      <td>2017-09-01</td>\n",
       "      <td>2017-09-07</td>\n",
       "      <td>2017-09-10</td>\n",
       "      <td>19</td>\n",
       "    </tr>\n",
       "  </tbody>\n",
       "</table>\n",
       "<p>359400 rows × 9 columns</p>\n",
       "</div>"
      ],
      "text/plain": [
       "         device  source_id                   uid            start_ts  \\\n",
       "0         touch          4  16879256277535980062 2017-12-20 17:20:00   \n",
       "1       desktop          2    104060357244891740 2018-02-19 16:53:00   \n",
       "2         touch          5   7459035603376831527 2017-07-01 01:54:00   \n",
       "3       desktop          9  16174680259334210214 2018-05-20 10:59:00   \n",
       "4       desktop          3   9969694820036681168 2017-12-27 14:06:00   \n",
       "...         ...        ...                   ...                 ...   \n",
       "359395  desktop          2  18363291481961487539 2017-07-29 19:07:00   \n",
       "359396    touch          1  18370831553019119586 2018-01-25 17:38:00   \n",
       "359397  desktop          4  18387297585500748294 2018-03-03 10:12:00   \n",
       "359398  desktop          5  18388616944624776485 2017-11-02 10:12:00   \n",
       "359399    touch          2  18396128934054549559 2017-09-10 13:13:00   \n",
       "\n",
       "                    end_ts session_month session_week session_date  \\\n",
       "0      2017-12-20 17:38:00    2017-12-01   2017-12-14   2017-12-20   \n",
       "1      2018-02-19 17:21:00    2018-02-01   2018-02-15   2018-02-19   \n",
       "2      2017-07-01 01:54:00    2017-07-01   2017-06-29   2017-07-01   \n",
       "3      2018-05-20 11:23:00    2018-05-01   2018-05-17   2018-05-20   \n",
       "4      2017-12-27 14:06:00    2017-12-01   2017-12-21   2017-12-27   \n",
       "...                    ...           ...          ...          ...   \n",
       "359395 2017-07-29 19:07:19    2017-07-01   2017-07-27   2017-07-29   \n",
       "359396 2018-01-25 17:38:19    2018-01-01   2018-01-25   2018-01-25   \n",
       "359397 2018-03-03 10:12:19    2018-03-01   2018-03-01   2018-03-03   \n",
       "359398 2017-11-02 10:12:19    2017-11-01   2017-11-02   2017-11-02   \n",
       "359399 2017-09-10 13:13:19    2017-09-01   2017-09-07   2017-09-10   \n",
       "\n",
       "        session_duration_sec  \n",
       "0                       1080  \n",
       "1                       1680  \n",
       "2                          0  \n",
       "3                       1440  \n",
       "4                          0  \n",
       "...                      ...  \n",
       "359395                    19  \n",
       "359396                    19  \n",
       "359397                    19  \n",
       "359398                    19  \n",
       "359399                    19  \n",
       "\n",
       "[359400 rows x 9 columns]"
      ]
     },
     "execution_count": 72,
     "metadata": {},
     "output_type": "execute_result"
    }
   ],
   "source": [
    "visits"
   ]
  },
  {
   "cell_type": "code",
   "execution_count": 73,
   "metadata": {},
   "outputs": [],
   "source": [
    "first_uid_source = visits.sort_values('start_ts').groupby('uid')['source_id'].first()"
   ]
  },
  {
   "cell_type": "markdown",
   "metadata": {},
   "source": [
    "Далее посчитаем кол-во новых покупателей по источникам:"
   ]
  },
  {
   "cell_type": "code",
   "execution_count": 74,
   "metadata": {},
   "outputs": [
    {
     "data": {
      "text/html": [
       "<div>\n",
       "<style scoped>\n",
       "    .dataframe tbody tr th:only-of-type {\n",
       "        vertical-align: middle;\n",
       "    }\n",
       "\n",
       "    .dataframe tbody tr th {\n",
       "        vertical-align: top;\n",
       "    }\n",
       "\n",
       "    .dataframe thead th {\n",
       "        text-align: right;\n",
       "    }\n",
       "</style>\n",
       "<table border=\"1\" class=\"dataframe\">\n",
       "  <thead>\n",
       "    <tr style=\"text-align: right;\">\n",
       "      <th></th>\n",
       "      <th>source_id</th>\n",
       "      <th>buyers</th>\n",
       "    </tr>\n",
       "  </thead>\n",
       "  <tbody>\n",
       "    <tr>\n",
       "      <td>0</td>\n",
       "      <td>1</td>\n",
       "      <td>2899</td>\n",
       "    </tr>\n",
       "    <tr>\n",
       "      <td>1</td>\n",
       "      <td>2</td>\n",
       "      <td>3506</td>\n",
       "    </tr>\n",
       "    <tr>\n",
       "      <td>2</td>\n",
       "      <td>3</td>\n",
       "      <td>10473</td>\n",
       "    </tr>\n",
       "    <tr>\n",
       "      <td>3</td>\n",
       "      <td>4</td>\n",
       "      <td>10296</td>\n",
       "    </tr>\n",
       "    <tr>\n",
       "      <td>4</td>\n",
       "      <td>5</td>\n",
       "      <td>6931</td>\n",
       "    </tr>\n",
       "    <tr>\n",
       "      <td>5</td>\n",
       "      <td>7</td>\n",
       "      <td>1</td>\n",
       "    </tr>\n",
       "    <tr>\n",
       "      <td>6</td>\n",
       "      <td>9</td>\n",
       "      <td>1088</td>\n",
       "    </tr>\n",
       "    <tr>\n",
       "      <td>7</td>\n",
       "      <td>10</td>\n",
       "      <td>1329</td>\n",
       "    </tr>\n",
       "  </tbody>\n",
       "</table>\n",
       "</div>"
      ],
      "text/plain": [
       "   source_id  buyers\n",
       "0          1    2899\n",
       "1          2    3506\n",
       "2          3   10473\n",
       "3          4   10296\n",
       "4          5    6931\n",
       "5          7       1\n",
       "6          9    1088\n",
       "7         10    1329"
      ]
     },
     "execution_count": 74,
     "metadata": {},
     "output_type": "execute_result"
    }
   ],
   "source": [
    "# Считаем кол-во новых покупателей по источникам\n",
    "\n",
    "# first_source_per_user = visits.groupby('uid').agg({'source_id': 'first'})\n",
    "\n",
    "client_per_source = orders.merge(first_uid_source, on='uid')\n",
    "client_per_source = client_per_source.groupby('source_id').agg({'uid': 'nunique'}).reset_index()\n",
    "client_per_source = client_per_source.rename(columns={'source_id':'source_id','uid':'buyers'})\n",
    "client_per_source"
   ]
  },
  {
   "cell_type": "markdown",
   "metadata": {},
   "source": [
    "Совместим вместе таблицы и расчитаем САС"
   ]
  },
  {
   "cell_type": "code",
   "execution_count": 75,
   "metadata": {},
   "outputs": [
    {
     "data": {
      "text/html": [
       "<div>\n",
       "<style scoped>\n",
       "    .dataframe tbody tr th:only-of-type {\n",
       "        vertical-align: middle;\n",
       "    }\n",
       "\n",
       "    .dataframe tbody tr th {\n",
       "        vertical-align: top;\n",
       "    }\n",
       "\n",
       "    .dataframe thead th {\n",
       "        text-align: right;\n",
       "    }\n",
       "</style>\n",
       "<table border=\"1\" class=\"dataframe\">\n",
       "  <thead>\n",
       "    <tr style=\"text-align: right;\">\n",
       "      <th></th>\n",
       "      <th>source_id</th>\n",
       "      <th>costs</th>\n",
       "      <th>buyers</th>\n",
       "      <th>cac</th>\n",
       "    </tr>\n",
       "  </thead>\n",
       "  <tbody>\n",
       "    <tr>\n",
       "      <td>0</td>\n",
       "      <td>1</td>\n",
       "      <td>20833.27</td>\n",
       "      <td>2899</td>\n",
       "      <td>7.19</td>\n",
       "    </tr>\n",
       "    <tr>\n",
       "      <td>1</td>\n",
       "      <td>2</td>\n",
       "      <td>42806.04</td>\n",
       "      <td>3506</td>\n",
       "      <td>12.21</td>\n",
       "    </tr>\n",
       "    <tr>\n",
       "      <td>2</td>\n",
       "      <td>3</td>\n",
       "      <td>141321.63</td>\n",
       "      <td>10473</td>\n",
       "      <td>13.49</td>\n",
       "    </tr>\n",
       "    <tr>\n",
       "      <td>3</td>\n",
       "      <td>4</td>\n",
       "      <td>61073.60</td>\n",
       "      <td>10296</td>\n",
       "      <td>5.93</td>\n",
       "    </tr>\n",
       "    <tr>\n",
       "      <td>4</td>\n",
       "      <td>5</td>\n",
       "      <td>51757.10</td>\n",
       "      <td>6931</td>\n",
       "      <td>7.47</td>\n",
       "    </tr>\n",
       "    <tr>\n",
       "      <td>5</td>\n",
       "      <td>9</td>\n",
       "      <td>5517.49</td>\n",
       "      <td>1088</td>\n",
       "      <td>5.07</td>\n",
       "    </tr>\n",
       "    <tr>\n",
       "      <td>6</td>\n",
       "      <td>10</td>\n",
       "      <td>5822.49</td>\n",
       "      <td>1329</td>\n",
       "      <td>4.38</td>\n",
       "    </tr>\n",
       "  </tbody>\n",
       "</table>\n",
       "</div>"
      ],
      "text/plain": [
       "   source_id      costs  buyers    cac\n",
       "0          1   20833.27    2899   7.19\n",
       "1          2   42806.04    3506  12.21\n",
       "2          3  141321.63   10473  13.49\n",
       "3          4   61073.60   10296   5.93\n",
       "4          5   51757.10    6931   7.47\n",
       "5          9    5517.49    1088   5.07\n",
       "6         10    5822.49    1329   4.38"
      ]
     },
     "execution_count": 75,
     "metadata": {},
     "output_type": "execute_result"
    }
   ],
   "source": [
    "# Раcсчитываем САС\n",
    "report_new = pd.merge(costs_source, client_per_source, on='source_id')\n",
    "report_new['cac'] = (report_new['costs'] / report_new['buyers']).round(2)\n",
    "report_new"
   ]
  },
  {
   "cell_type": "code",
   "execution_count": 76,
   "metadata": {},
   "outputs": [
    {
     "data": {
      "text/plain": [
       "count     7.00\n",
       "mean      7.96\n",
       "std       3.53\n",
       "min       4.38\n",
       "25%       5.50\n",
       "50%       7.19\n",
       "75%       9.84\n",
       "max      13.49\n",
       "Name: cac, dtype: float64"
      ]
     },
     "execution_count": 76,
     "metadata": {},
     "output_type": "execute_result"
    }
   ],
   "source": [
    "# Расчитываем среднее значение и разброс САС\n",
    "cac_mean = report_new['cac'].describe().round(2)\n",
    "cac_mean"
   ]
  },
  {
   "cell_type": "markdown",
   "metadata": {},
   "source": [
    "Вывод\n",
    "Среднее цена привлечения одного покупателя по источникам равняется 7,6. Минимальная цена привлечение одного покупателя из источника 9, но из него же и меньше всего кол-во привлеченных людей. Следует обратить внимания на источники 1 и 4, они наиболее оптимальные."
   ]
  },
  {
   "cell_type": "markdown",
   "metadata": {},
   "source": [
    "На сколько окупились расходы?"
   ]
  },
  {
   "cell_type": "code",
   "execution_count": 77,
   "metadata": {},
   "outputs": [],
   "source": [
    "# Расходы по месяцам\n",
    "costs_source = costs.pivot_table(index=['month'],values='costs',aggfunc='sum').reset_index()\n",
    "\n",
    "# Расчитываем САС\n",
    "cac = pd.merge(report, costs_source, left_on='first_order_month', right_on=['month'])\n",
    "cac['cac'] = cac['costs'] / cac['buyers']\n",
    "\n",
    "# Рассчитаем ROMI\n",
    "cac['romi'] = cac['ltv'] / cac['cac']\n",
    "romi = cac.pivot_table(\n",
    "        index='first_order_month', \n",
    "        columns='age', \n",
    "        values='romi', \n",
    "        aggfunc='mean')\n",
    "\n",
    "# Среднее по строке ROMI\n",
    "#romi.loc[:, 'ROMI'] = romi.mean(axis=1)"
   ]
  },
  {
   "cell_type": "code",
   "execution_count": 78,
   "metadata": {},
   "outputs": [
    {
     "data": {
      "text/plain": [
       "[Text(0, 0.5, '2017-06-01'),\n",
       " Text(0, 1.5, '2017-07-01'),\n",
       " Text(0, 2.5, '2017-08-01'),\n",
       " Text(0, 3.5, '2017-09-01'),\n",
       " Text(0, 4.5, '2017-10-01'),\n",
       " Text(0, 5.5, '2017-11-01'),\n",
       " Text(0, 6.5, '2017-12-01'),\n",
       " Text(0, 7.5, '2018-01-01'),\n",
       " Text(0, 8.5, '2018-02-01'),\n",
       " Text(0, 9.5, '2018-03-01'),\n",
       " Text(0, 10.5, '2018-04-01'),\n",
       " Text(0, 11.5, '2018-05-01')]"
      ]
     },
     "execution_count": 78,
     "metadata": {},
     "output_type": "execute_result"
    },
    {
     "data": {
      "image/png": "[encoded data removed]",
      "text/plain": [
       "<Figure size 1224x432 with 2 Axes>"
      ]
     },
     "metadata": {},
     "output_type": "display_data"
    }
   ],
   "source": [
    "# Создание тепловой карты\n",
    "sns.set(style='white')\n",
    "plt.figure(figsize=(17, 6))\n",
    "plt.title('romi')\n",
    "ax = sns.heatmap(romi.cumsum(axis=1), annot=True, fmt='.2f', linewidths=1);\n",
    "ax.set_yticklabels(retention_pivot.index.date)"
   ]
  },
  {
   "cell_type": "code",
   "execution_count": 79,
   "metadata": {},
   "outputs": [
    {
     "data": {
      "text/plain": [
       "age\n",
       "0    0.54\n",
       "1    0.58\n",
       "2    0.63\n",
       "3    0.72\n",
       "4    0.78\n",
       "5    0.86\n",
       "6    0.90\n",
       "7    0.97\n",
       "8    1.05\n",
       "dtype: float64"
      ]
     },
     "execution_count": 79,
     "metadata": {},
     "output_type": "execute_result"
    }
   ],
   "source": [
    "# Усредним значения по каждой колонки и «сложим» таблицу в единую строку\n",
    "romi.iloc[:, :9].cumsum(axis=1).mean(axis=0).round(2)"
   ]
  },
  {
   "cell_type": "code",
   "execution_count": 80,
   "metadata": {},
   "outputs": [
    {
     "data": {
      "text/plain": [
       "7.97"
      ]
     },
     "execution_count": 80,
     "metadata": {},
     "output_type": "execute_result"
    }
   ],
   "source": [
    "# Примем за 6 мес. жизненный цикл и найдем среднее значение LTV\n",
    "LTV_mean = output.iloc[:7, :6]\n",
    "LTV_mean.loc[:, 'LTV_sum'] = LTV_mean.sum(axis=1)\n",
    "LTV_mean['LTV_sum'].mean().round(2)"
   ]
  },
  {
   "cell_type": "code",
   "execution_count": 81,
   "metadata": {},
   "outputs": [
    {
     "data": {
      "text/html": [
       "<div>\n",
       "<style scoped>\n",
       "    .dataframe tbody tr th:only-of-type {\n",
       "        vertical-align: middle;\n",
       "    }\n",
       "\n",
       "    .dataframe tbody tr th {\n",
       "        vertical-align: top;\n",
       "    }\n",
       "\n",
       "    .dataframe thead th {\n",
       "        text-align: right;\n",
       "    }\n",
       "</style>\n",
       "<table border=\"1\" class=\"dataframe\">\n",
       "  <thead>\n",
       "    <tr style=\"text-align: right;\">\n",
       "      <th></th>\n",
       "      <th>source_id</th>\n",
       "      <th>costs</th>\n",
       "      <th>buyers</th>\n",
       "      <th>cac</th>\n",
       "      <th>ltv_mean</th>\n",
       "      <th>romi</th>\n",
       "    </tr>\n",
       "  </thead>\n",
       "  <tbody>\n",
       "    <tr>\n",
       "      <td>6</td>\n",
       "      <td>10</td>\n",
       "      <td>5822.49</td>\n",
       "      <td>1329</td>\n",
       "      <td>4.38</td>\n",
       "      <td>7.97</td>\n",
       "      <td>1.82</td>\n",
       "    </tr>\n",
       "    <tr>\n",
       "      <td>5</td>\n",
       "      <td>9</td>\n",
       "      <td>5517.49</td>\n",
       "      <td>1088</td>\n",
       "      <td>5.07</td>\n",
       "      <td>7.97</td>\n",
       "      <td>1.57</td>\n",
       "    </tr>\n",
       "    <tr>\n",
       "      <td>3</td>\n",
       "      <td>4</td>\n",
       "      <td>61073.60</td>\n",
       "      <td>10296</td>\n",
       "      <td>5.93</td>\n",
       "      <td>7.97</td>\n",
       "      <td>1.34</td>\n",
       "    </tr>\n",
       "    <tr>\n",
       "      <td>0</td>\n",
       "      <td>1</td>\n",
       "      <td>20833.27</td>\n",
       "      <td>2899</td>\n",
       "      <td>7.19</td>\n",
       "      <td>7.97</td>\n",
       "      <td>1.11</td>\n",
       "    </tr>\n",
       "    <tr>\n",
       "      <td>4</td>\n",
       "      <td>5</td>\n",
       "      <td>51757.10</td>\n",
       "      <td>6931</td>\n",
       "      <td>7.47</td>\n",
       "      <td>7.97</td>\n",
       "      <td>1.07</td>\n",
       "    </tr>\n",
       "    <tr>\n",
       "      <td>1</td>\n",
       "      <td>2</td>\n",
       "      <td>42806.04</td>\n",
       "      <td>3506</td>\n",
       "      <td>12.21</td>\n",
       "      <td>7.97</td>\n",
       "      <td>0.65</td>\n",
       "    </tr>\n",
       "    <tr>\n",
       "      <td>2</td>\n",
       "      <td>3</td>\n",
       "      <td>141321.63</td>\n",
       "      <td>10473</td>\n",
       "      <td>13.49</td>\n",
       "      <td>7.97</td>\n",
       "      <td>0.59</td>\n",
       "    </tr>\n",
       "  </tbody>\n",
       "</table>\n",
       "</div>"
      ],
      "text/plain": [
       "   source_id      costs  buyers    cac  ltv_mean  romi\n",
       "6         10    5822.49    1329   4.38      7.97  1.82\n",
       "5          9    5517.49    1088   5.07      7.97  1.57\n",
       "3          4   61073.60   10296   5.93      7.97  1.34\n",
       "0          1   20833.27    2899   7.19      7.97  1.11\n",
       "4          5   51757.10    6931   7.47      7.97  1.07\n",
       "1          2   42806.04    3506  12.21      7.97  0.65\n",
       "2          3  141321.63   10473  13.49      7.97  0.59"
      ]
     },
     "execution_count": 81,
     "metadata": {},
     "output_type": "execute_result"
    }
   ],
   "source": [
    "# Рассчитаем ROMI по источникам\n",
    "report_new['ltv_mean'] = 7.97\n",
    "report_new['romi'] = (report_new['ltv_mean'] / report_new['cac']).round(2)\n",
    "report_new.sort_values(by='romi', ascending=False)"
   ]
  },
  {
   "cell_type": "markdown",
   "metadata": {},
   "source": [
    "# Вывод\n",
    "По ROMI видно, что в среднем когорты окупаются к концу 8 месяца. Самыми окупаемыми источниками оказались 5, 6 и 0."
   ]
  },
  {
   "cell_type": "markdown",
   "metadata": {},
   "source": [
    "\n",
    "По проведенному анализу можно сделать выводы:\n",
    "\n",
    "Retention Rate в первый месяц убывает по когортам с течением времени. Если для когорты пользователей, пришедших в июне 2017 Retention Rate в первый месяц составляет 7,9%, то для пользователей, пришедших в апреле 2018 — уже 4,8%. Так, за 11 месяцев коэффициент удержания упал на 3,1%. Это говорит, что с каждой новой когортой поведение покупателей меняется. Возможно, были выбраны неэффективные источники трафика или ухудшилось качество работы службы поддержки; <br>\n",
    "Среднее цена привлечения одного покупателя по источникам равняется 7,6. Минимальная цена привлечение одного покупателя из источника 9, но из него же и меньше всего кол-во привлеченных людей. Следует обратить внимания на источники 1 и 4, они наиболее оптимальные; <br>\n",
    "В среднем каждый покупатель из первой когорты принес по 11,88 рублей выручки за 12 месяцев «жизни». Выделяется когорта 2017-09-01 - по ней прибыль с каждого покупателя выше, чем по остальным; <br>\n",
    "По ROMI видно, что в среднем когорты окупаются к концу 8 месяца. Самыми окупаемыми источниками оказались 5, 6 и 0.\n",
    "С компьютера заходят примерно раза в 2,5 чаще, чем с мобильных устройств. Рекомендуется больше уделять внимание этим пользователям."
   ]
  },
  {
   "cell_type": "code",
   "execution_count": null,
   "metadata": {},
   "outputs": [],
   "source": []
  },
  {
   "cell_type": "code",
   "execution_count": null,
   "metadata": {},
   "outputs": [],
   "source": []
  }
 ],
 "metadata": {
  "ExecuteTimeLog": [
   {
    "duration": 96,
    "start_time": "2021-07-16T10:07:43.040Z"
   },
   {
    "duration": 83,
    "start_time": "2021-07-16T10:07:43.395Z"
   },
   {
    "duration": 702,
    "start_time": "2021-07-16T10:08:45.966Z"
   },
   {
    "duration": 668,
    "start_time": "2021-07-16T10:09:45.281Z"
   },
   {
    "duration": 64,
    "start_time": "2021-07-16T10:11:35.284Z"
   },
   {
    "duration": 3,
    "start_time": "2021-07-16T10:19:14.642Z"
   },
   {
    "duration": 671,
    "start_time": "2021-07-16T10:19:15.442Z"
   },
   {
    "duration": 63,
    "start_time": "2021-07-16T10:19:22.820Z"
   },
   {
    "duration": 91,
    "start_time": "2021-07-16T10:19:23.774Z"
   },
   {
    "duration": 17,
    "start_time": "2021-07-16T10:19:24.606Z"
   },
   {
    "duration": 8,
    "start_time": "2021-07-16T10:19:36.569Z"
   },
   {
    "duration": 62,
    "start_time": "2021-07-16T10:24:07.986Z"
   },
   {
    "duration": 67,
    "start_time": "2021-07-16T10:24:30.099Z"
   },
   {
    "duration": 11,
    "start_time": "2021-07-16T10:24:31.186Z"
   },
   {
    "duration": 111,
    "start_time": "2021-07-16T10:25:44.346Z"
   },
   {
    "duration": 638,
    "start_time": "2021-07-16T10:25:44.826Z"
   },
   {
    "duration": 61,
    "start_time": "2021-07-16T10:25:45.984Z"
   },
   {
    "duration": 64,
    "start_time": "2021-07-16T10:25:46.683Z"
   },
   {
    "duration": 3,
    "start_time": "2021-07-16T10:26:42.884Z"
   },
   {
    "duration": 3,
    "start_time": "2021-07-16T10:27:38.366Z"
   },
   {
    "duration": 68,
    "start_time": "2021-07-16T10:29:28.569Z"
   },
   {
    "duration": 12,
    "start_time": "2021-07-16T10:29:29.070Z"
   },
   {
    "duration": 520,
    "start_time": "2021-07-16T10:29:29.964Z"
   },
   {
    "duration": 795,
    "start_time": "2021-07-16T10:29:29.692Z"
   },
   {
    "duration": 56,
    "start_time": "2021-07-16T10:29:46.162Z"
   },
   {
    "duration": 9,
    "start_time": "2021-07-16T10:29:47.831Z"
   },
   {
    "duration": 9,
    "start_time": "2021-07-16T10:29:58.901Z"
   },
   {
    "duration": 50,
    "start_time": "2021-07-16T10:35:45.873Z"
   },
   {
    "duration": 234,
    "start_time": "2021-07-16T10:37:26.482Z"
   },
   {
    "duration": 14,
    "start_time": "2021-07-16T10:38:55.242Z"
   },
   {
    "duration": 12,
    "start_time": "2021-07-16T10:41:22.585Z"
   },
   {
    "duration": 6508,
    "start_time": "2021-07-16T10:42:14.100Z"
   },
   {
    "duration": 13,
    "start_time": "2021-07-16T10:43:26.302Z"
   },
   {
    "duration": 6551,
    "start_time": "2021-07-16T10:43:29.065Z"
   },
   {
    "duration": 15,
    "start_time": "2021-07-16T10:43:45.154Z"
   },
   {
    "duration": 6,
    "start_time": "2021-07-16T10:44:30.220Z"
   },
   {
    "duration": 13,
    "start_time": "2021-07-16T10:44:35.418Z"
   },
   {
    "duration": 7214,
    "start_time": "2021-07-16T10:44:36.996Z"
   },
   {
    "duration": 25,
    "start_time": "2021-07-16T10:45:01.019Z"
   },
   {
    "duration": 11,
    "start_time": "2021-07-16T10:48:12.784Z"
   },
   {
    "duration": 4,
    "start_time": "2021-07-16T10:48:51.786Z"
   },
   {
    "duration": 20,
    "start_time": "2021-07-16T11:12:31.320Z"
   },
   {
    "duration": 601,
    "start_time": "2021-07-16T11:17:59.462Z"
   },
   {
    "duration": 143,
    "start_time": "2021-07-16T11:20:29.935Z"
   },
   {
    "duration": 484,
    "start_time": "2021-07-16T11:22:36.956Z"
   },
   {
    "duration": 262,
    "start_time": "2021-07-16T11:28:53.853Z"
   },
   {
    "duration": 107,
    "start_time": "2021-07-16T11:31:08.807Z"
   },
   {
    "duration": 98,
    "start_time": "2021-07-16T11:31:34.445Z"
   },
   {
    "duration": 94,
    "start_time": "2021-07-16T11:32:14.002Z"
   },
   {
    "duration": 98,
    "start_time": "2021-07-16T11:32:41.543Z"
   },
   {
    "duration": 91,
    "start_time": "2021-07-16T11:33:02.478Z"
   },
   {
    "duration": 383,
    "start_time": "2021-07-16T11:33:25.662Z"
   },
   {
    "duration": 561,
    "start_time": "2021-07-16T11:34:49.338Z"
   },
   {
    "duration": 326,
    "start_time": "2021-07-16T11:50:51.949Z"
   },
   {
    "duration": 350,
    "start_time": "2021-07-16T12:04:18.365Z"
   },
   {
    "duration": 7057,
    "start_time": "2021-07-16T12:06:57.228Z"
   },
   {
    "duration": 765,
    "start_time": "2021-07-16T12:07:03.522Z"
   },
   {
    "duration": 4,
    "start_time": "2021-07-16T12:10:25.011Z"
   },
   {
    "duration": 4,
    "start_time": "2021-07-16T12:10:35.375Z"
   },
   {
    "duration": 6440,
    "start_time": "2021-07-16T12:10:37.988Z"
   },
   {
    "duration": 6746,
    "start_time": "2021-07-16T12:14:44.891Z"
   },
   {
    "duration": 448,
    "start_time": "2021-07-16T12:18:06.943Z"
   },
   {
    "duration": 483,
    "start_time": "2021-07-16T12:22:56.761Z"
   },
   {
    "duration": 148,
    "start_time": "2021-07-16T12:22:57.826Z"
   },
   {
    "duration": 389,
    "start_time": "2021-07-16T12:22:59.968Z"
   },
   {
    "duration": 3,
    "start_time": "2021-07-16T12:23:13.731Z"
   },
   {
    "duration": 96,
    "start_time": "2021-07-16T12:23:14.498Z"
   },
   {
    "duration": 494,
    "start_time": "2021-07-16T12:23:21.793Z"
   },
   {
    "duration": 144,
    "start_time": "2021-07-16T12:23:23.460Z"
   },
   {
    "duration": 347,
    "start_time": "2021-07-16T12:23:24.847Z"
   },
   {
    "duration": 57,
    "start_time": "2021-07-16T12:25:15.218Z"
   },
   {
    "duration": 18,
    "start_time": "2021-07-16T12:31:47.465Z"
   },
   {
    "duration": 28,
    "start_time": "2021-07-16T12:31:47.942Z"
   },
   {
    "duration": 41,
    "start_time": "2021-07-16T12:32:27.885Z"
   },
   {
    "duration": 28,
    "start_time": "2021-07-16T12:32:28.384Z"
   },
   {
    "duration": 298,
    "start_time": "2021-07-16T12:35:11.321Z"
   },
   {
    "duration": 292,
    "start_time": "2021-07-16T12:35:20.474Z"
   },
   {
    "duration": 7040,
    "start_time": "2021-07-16T12:38:14.411Z"
   },
   {
    "duration": 17,
    "start_time": "2021-07-16T12:38:33.493Z"
   },
   {
    "duration": 3,
    "start_time": "2021-07-16T12:47:56.503Z"
   },
   {
    "duration": 109,
    "start_time": "2021-07-16T12:49:25.385Z"
   },
   {
    "duration": 107,
    "start_time": "2021-07-16T12:50:34.383Z"
   },
   {
    "duration": 35,
    "start_time": "2021-07-16T12:51:31.233Z"
   },
   {
    "duration": 288,
    "start_time": "2021-07-16T12:52:03.280Z"
   },
   {
    "duration": 326,
    "start_time": "2021-07-16T12:52:53.885Z"
   },
   {
    "duration": 299,
    "start_time": "2021-07-16T12:53:05.616Z"
   },
   {
    "duration": 137,
    "start_time": "2021-07-16T12:55:57.752Z"
   },
   {
    "duration": 278,
    "start_time": "2021-07-16T12:55:58.761Z"
   },
   {
    "duration": 133,
    "start_time": "2021-07-16T12:56:17.143Z"
   },
   {
    "duration": 292,
    "start_time": "2021-07-16T12:56:18.649Z"
   },
   {
    "duration": 117,
    "start_time": "2021-07-16T12:56:55.244Z"
   },
   {
    "duration": 301,
    "start_time": "2021-07-16T12:56:57.230Z"
   },
   {
    "duration": 476,
    "start_time": "2021-07-16T12:57:12.729Z"
   },
   {
    "duration": 290,
    "start_time": "2021-07-16T14:56:38.713Z"
   },
   {
    "duration": 910,
    "start_time": "2021-07-18T07:55:29.834Z"
   },
   {
    "duration": 757,
    "start_time": "2021-07-18T07:55:30.747Z"
   },
   {
    "duration": 85,
    "start_time": "2021-07-18T07:55:31.513Z"
   },
   {
    "duration": 73,
    "start_time": "2021-07-18T07:55:31.602Z"
   },
   {
    "duration": 273,
    "start_time": "2021-07-18T07:55:31.678Z"
   },
   {
    "duration": 67,
    "start_time": "2021-07-18T07:55:31.954Z"
   },
   {
    "duration": 12,
    "start_time": "2021-07-18T07:55:32.027Z"
   },
   {
    "duration": 113,
    "start_time": "2021-07-18T07:55:32.042Z"
   },
   {
    "duration": 871,
    "start_time": "2021-07-18T07:55:31.288Z"
   },
   {
    "duration": 871,
    "start_time": "2021-07-18T07:55:31.290Z"
   },
   {
    "duration": 868,
    "start_time": "2021-07-18T07:55:31.295Z"
   },
   {
    "duration": 869,
    "start_time": "2021-07-18T07:55:31.296Z"
   },
   {
    "duration": 869,
    "start_time": "2021-07-18T07:55:31.298Z"
   },
   {
    "duration": 870,
    "start_time": "2021-07-18T07:55:31.299Z"
   },
   {
    "duration": 868,
    "start_time": "2021-07-18T07:55:31.304Z"
   },
   {
    "duration": 869,
    "start_time": "2021-07-18T07:55:31.305Z"
   },
   {
    "duration": 869,
    "start_time": "2021-07-18T07:55:31.307Z"
   },
   {
    "duration": 869,
    "start_time": "2021-07-18T07:55:31.309Z"
   },
   {
    "duration": 870,
    "start_time": "2021-07-18T07:55:31.310Z"
   },
   {
    "duration": 870,
    "start_time": "2021-07-18T07:55:31.312Z"
   },
   {
    "duration": 867,
    "start_time": "2021-07-18T07:55:31.317Z"
   },
   {
    "duration": 812,
    "start_time": "2021-07-18T07:55:31.374Z"
   },
   {
    "duration": 810,
    "start_time": "2021-07-18T07:55:31.378Z"
   },
   {
    "duration": 810,
    "start_time": "2021-07-18T07:55:31.380Z"
   },
   {
    "duration": 806,
    "start_time": "2021-07-18T07:55:31.386Z"
   },
   {
    "duration": 806,
    "start_time": "2021-07-18T07:55:31.388Z"
   },
   {
    "duration": 806,
    "start_time": "2021-07-18T07:55:31.390Z"
   },
   {
    "duration": 804,
    "start_time": "2021-07-18T07:55:31.393Z"
   },
   {
    "duration": 803,
    "start_time": "2021-07-18T07:55:31.396Z"
   },
   {
    "duration": 4,
    "start_time": "2021-07-18T07:57:03.989Z"
   },
   {
    "duration": 722,
    "start_time": "2021-07-18T07:57:04.985Z"
   },
   {
    "duration": 72,
    "start_time": "2021-07-18T07:57:05.710Z"
   },
   {
    "duration": 51,
    "start_time": "2021-07-18T07:57:05.785Z"
   },
   {
    "duration": 237,
    "start_time": "2021-07-18T07:57:07.977Z"
   },
   {
    "duration": 69,
    "start_time": "2021-07-18T07:57:08.552Z"
   },
   {
    "duration": 11,
    "start_time": "2021-07-18T07:57:08.760Z"
   },
   {
    "duration": 121,
    "start_time": "2021-07-18T07:57:08.987Z"
   },
   {
    "duration": 19,
    "start_time": "2021-07-18T07:57:09.207Z"
   },
   {
    "duration": 38,
    "start_time": "2021-07-18T07:57:09.426Z"
   },
   {
    "duration": 15,
    "start_time": "2021-07-18T07:57:16.646Z"
   },
   {
    "duration": 15,
    "start_time": "2021-07-18T07:57:16.859Z"
   },
   {
    "duration": 47,
    "start_time": "2021-07-18T07:57:17.722Z"
   },
   {
    "duration": 9,
    "start_time": "2021-07-18T07:57:17.931Z"
   },
   {
    "duration": 16,
    "start_time": "2021-07-18T07:57:18.364Z"
   },
   {
    "duration": 107,
    "start_time": "2021-07-18T07:57:18.569Z"
   },
   {
    "duration": 4,
    "start_time": "2021-07-18T07:57:19.182Z"
   },
   {
    "duration": 724,
    "start_time": "2021-07-18T07:57:19.607Z"
   },
   {
    "duration": 270,
    "start_time": "2021-07-18T07:57:20.334Z"
   },
   {
    "duration": 521,
    "start_time": "2021-07-18T07:57:20.608Z"
   },
   {
    "duration": 71,
    "start_time": "2021-07-18T07:57:21.133Z"
   },
   {
    "duration": 18,
    "start_time": "2021-07-18T07:57:21.445Z"
   },
   {
    "duration": 28,
    "start_time": "2021-07-18T07:57:21.678Z"
   },
   {
    "duration": 40,
    "start_time": "2021-07-18T07:57:21.908Z"
   },
   {
    "duration": 28,
    "start_time": "2021-07-18T07:57:22.141Z"
   },
   {
    "duration": 327,
    "start_time": "2021-07-18T07:57:22.381Z"
   },
   {
    "duration": 15,
    "start_time": "2021-07-18T07:57:22.853Z"
   },
   {
    "duration": 109,
    "start_time": "2021-07-18T07:57:23.069Z"
   },
   {
    "duration": 125,
    "start_time": "2021-07-18T07:57:23.543Z"
   },
   {
    "duration": 129,
    "start_time": "2021-07-18T07:57:29.912Z"
   },
   {
    "duration": 344,
    "start_time": "2021-07-18T07:57:30.494Z"
   },
   {
    "duration": 496,
    "start_time": "2021-07-18T07:57:32.686Z"
   },
   {
    "duration": 7893,
    "start_time": "2021-07-18T07:58:56.798Z"
   },
   {
    "duration": 88,
    "start_time": "2021-07-18T07:59:19.247Z"
   },
   {
    "duration": 124,
    "start_time": "2021-07-18T07:59:30.426Z"
   },
   {
    "duration": 22,
    "start_time": "2021-07-18T08:02:36.351Z"
   },
   {
    "duration": 161,
    "start_time": "2021-07-18T08:02:46.215Z"
   },
   {
    "duration": 40,
    "start_time": "2021-07-18T08:02:56.356Z"
   },
   {
    "duration": 311,
    "start_time": "2021-07-18T08:03:05.399Z"
   },
   {
    "duration": 651,
    "start_time": "2021-07-18T08:03:48.101Z"
   },
   {
    "duration": 732,
    "start_time": "2021-07-18T08:03:49.147Z"
   },
   {
    "duration": 80,
    "start_time": "2021-07-18T08:03:49.882Z"
   },
   {
    "duration": 40,
    "start_time": "2021-07-18T08:03:49.965Z"
   },
   {
    "duration": 426,
    "start_time": "2021-07-18T08:03:50.009Z"
   },
   {
    "duration": 85,
    "start_time": "2021-07-18T08:03:50.439Z"
   },
   {
    "duration": 16,
    "start_time": "2021-07-18T08:03:50.533Z"
   },
   {
    "duration": 20,
    "start_time": "2021-07-18T08:03:50.891Z"
   },
   {
    "duration": 39,
    "start_time": "2021-07-18T08:03:51.095Z"
   },
   {
    "duration": 48,
    "start_time": "2021-07-18T08:03:51.621Z"
   },
   {
    "duration": 13,
    "start_time": "2021-07-18T08:03:51.806Z"
   },
   {
    "duration": 17,
    "start_time": "2021-07-18T08:03:52.154Z"
   },
   {
    "duration": 101,
    "start_time": "2021-07-18T08:03:52.350Z"
   },
   {
    "duration": 3,
    "start_time": "2021-07-18T08:03:52.889Z"
   },
   {
    "duration": 509,
    "start_time": "2021-07-18T08:03:53.255Z"
   },
   {
    "duration": 184,
    "start_time": "2021-07-18T08:03:53.767Z"
   },
   {
    "duration": 369,
    "start_time": "2021-07-18T08:03:54.006Z"
   },
   {
    "duration": 53,
    "start_time": "2021-07-18T08:03:54.432Z"
   },
   {
    "duration": 13,
    "start_time": "2021-07-18T08:03:54.821Z"
   },
   {
    "duration": 28,
    "start_time": "2021-07-18T08:03:55.030Z"
   },
   {
    "duration": 37,
    "start_time": "2021-07-18T08:03:55.223Z"
   },
   {
    "duration": 29,
    "start_time": "2021-07-18T08:03:55.419Z"
   },
   {
    "duration": 311,
    "start_time": "2021-07-18T08:03:55.625Z"
   },
   {
    "duration": 14,
    "start_time": "2021-07-18T08:03:56.043Z"
   },
   {
    "duration": 115,
    "start_time": "2021-07-18T08:03:56.682Z"
   },
   {
    "duration": 290,
    "start_time": "2021-07-18T08:03:57.084Z"
   },
   {
    "duration": 124,
    "start_time": "2021-07-18T08:03:57.522Z"
   },
   {
    "duration": 14,
    "start_time": "2021-07-18T08:03:57.738Z"
   },
   {
    "duration": 163,
    "start_time": "2021-07-18T08:03:57.984Z"
   },
   {
    "duration": 34,
    "start_time": "2021-07-18T08:03:58.236Z"
   },
   {
    "duration": 1338,
    "start_time": "2021-07-18T08:03:58.493Z"
   },
   {
    "duration": 114,
    "start_time": "2021-07-18T08:04:36.450Z"
   },
   {
    "duration": 11,
    "start_time": "2021-07-18T08:10:16.396Z"
   },
   {
    "duration": 24,
    "start_time": "2021-07-18T08:10:25.289Z"
   },
   {
    "duration": 106,
    "start_time": "2021-07-18T08:11:08.120Z"
   },
   {
    "duration": 97,
    "start_time": "2021-07-18T08:11:38.291Z"
   },
   {
    "duration": 21,
    "start_time": "2021-07-18T08:11:58.257Z"
   },
   {
    "duration": 483,
    "start_time": "2021-07-18T08:12:15.900Z"
   },
   {
    "duration": 598,
    "start_time": "2021-07-18T08:12:34.318Z"
   },
   {
    "duration": 9,
    "start_time": "2021-07-18T08:12:44.101Z"
   },
   {
    "duration": 104,
    "start_time": "2021-07-18T08:12:54.199Z"
   },
   {
    "duration": 49,
    "start_time": "2021-07-18T08:13:37.274Z"
   },
   {
    "duration": 1244,
    "start_time": "2021-07-18T08:13:53.218Z"
   },
   {
    "duration": 121,
    "start_time": "2021-07-18T08:14:15.003Z"
   },
   {
    "duration": 309,
    "start_time": "2021-07-18T08:14:29.022Z"
   },
   {
    "duration": 537,
    "start_time": "2021-07-18T08:14:56.737Z"
   },
   {
    "duration": 13,
    "start_time": "2021-07-18T08:16:11.197Z"
   },
   {
    "duration": 12,
    "start_time": "2021-07-18T08:16:19.427Z"
   },
   {
    "duration": 302,
    "start_time": "2021-07-18T08:16:30.392Z"
   },
   {
    "duration": 1193,
    "start_time": "2021-07-18T08:16:47.950Z"
   },
   {
    "duration": 80,
    "start_time": "2021-07-18T08:17:04.805Z"
   },
   {
    "duration": 9,
    "start_time": "2021-07-18T08:17:24.400Z"
   },
   {
    "duration": 4,
    "start_time": "2021-07-18T08:18:36.157Z"
   },
   {
    "duration": 6,
    "start_time": "2021-07-18T08:19:10.303Z"
   },
   {
    "duration": 27,
    "start_time": "2021-07-18T08:19:25.149Z"
   },
   {
    "duration": 19,
    "start_time": "2021-07-18T08:19:46.393Z"
   },
   {
    "duration": 23,
    "start_time": "2021-07-18T08:20:02.869Z"
   },
   {
    "duration": 18,
    "start_time": "2021-07-18T08:20:23.378Z"
   },
   {
    "duration": 21,
    "start_time": "2021-07-18T08:20:36.622Z"
   },
   {
    "duration": 1190,
    "start_time": "2021-07-18T08:20:58.817Z"
   },
   {
    "duration": 3,
    "start_time": "2021-07-18T08:22:51.668Z"
   },
   {
    "duration": 14,
    "start_time": "2021-07-18T08:23:58.610Z"
   },
   {
    "duration": 7,
    "start_time": "2021-07-18T08:24:19.585Z"
   },
   {
    "duration": 15,
    "start_time": "2021-07-18T08:24:39.077Z"
   },
   {
    "duration": 377,
    "start_time": "2021-07-18T08:25:07.398Z"
   },
   {
    "duration": 341,
    "start_time": "2021-07-18T08:25:32.474Z"
   },
   {
    "duration": 305,
    "start_time": "2021-07-18T08:25:53.284Z"
   },
   {
    "duration": 343,
    "start_time": "2021-07-18T08:26:22.560Z"
   },
   {
    "duration": 324,
    "start_time": "2021-07-18T08:26:47.902Z"
   },
   {
    "duration": 318,
    "start_time": "2021-07-18T08:27:43.825Z"
   },
   {
    "duration": 331,
    "start_time": "2021-07-18T08:28:14.093Z"
   },
   {
    "duration": 310,
    "start_time": "2021-07-18T08:28:21.569Z"
   },
   {
    "duration": 342,
    "start_time": "2021-07-18T08:31:01.894Z"
   },
   {
    "duration": 823,
    "start_time": "2021-07-18T08:31:11.753Z"
   },
   {
    "duration": 633,
    "start_time": "2021-07-18T08:31:38.964Z"
   },
   {
    "duration": 863,
    "start_time": "2021-07-18T08:32:05.189Z"
   },
   {
    "duration": 837,
    "start_time": "2021-07-18T08:32:58.750Z"
   },
   {
    "duration": 8,
    "start_time": "2021-07-18T08:34:54.501Z"
   },
   {
    "duration": 5,
    "start_time": "2021-07-18T08:36:35.078Z"
   },
   {
    "duration": 8,
    "start_time": "2021-07-18T08:36:36.277Z"
   },
   {
    "duration": 5,
    "start_time": "2021-07-18T08:36:36.725Z"
   },
   {
    "duration": 13,
    "start_time": "2021-07-18T08:36:37.126Z"
   },
   {
    "duration": 14,
    "start_time": "2021-07-18T08:36:37.465Z"
   },
   {
    "duration": 7830,
    "start_time": "2021-07-18T08:36:37.919Z"
   },
   {
    "duration": 847,
    "start_time": "2021-07-18T08:36:44.906Z"
   },
   {
    "duration": 847,
    "start_time": "2021-07-18T08:36:44.908Z"
   },
   {
    "duration": 316,
    "start_time": "2021-07-18T08:37:03.716Z"
   },
   {
    "duration": 300,
    "start_time": "2021-07-18T08:37:04.968Z"
   },
   {
    "duration": 13,
    "start_time": "2021-07-18T08:37:32.381Z"
   },
   {
    "duration": 6,
    "start_time": "2021-07-18T08:37:50.752Z"
   },
   {
    "duration": 14,
    "start_time": "2021-07-18T08:38:09.495Z"
   },
   {
    "duration": 330,
    "start_time": "2021-07-18T08:38:32.559Z"
   },
   {
    "duration": 357,
    "start_time": "2021-07-18T08:38:58.255Z"
   },
   {
    "duration": 893,
    "start_time": "2021-07-18T08:39:07.169Z"
   },
   {
    "duration": 530,
    "start_time": "2021-07-18T08:40:09.126Z"
   },
   {
    "duration": 19,
    "start_time": "2021-07-18T08:41:01.590Z"
   },
   {
    "duration": 628,
    "start_time": "2021-07-18T08:41:10.754Z"
   },
   {
    "duration": 508,
    "start_time": "2021-07-18T08:41:16.022Z"
   },
   {
    "duration": 16,
    "start_time": "2021-07-18T08:41:46.492Z"
   },
   {
    "duration": 296,
    "start_time": "2021-07-18T08:42:10.943Z"
   },
   {
    "duration": 326,
    "start_time": "2021-07-18T08:42:28.732Z"
   },
   {
    "duration": 308,
    "start_time": "2021-07-18T08:43:09.200Z"
   },
   {
    "duration": 18,
    "start_time": "2021-07-18T08:43:37.052Z"
   },
   {
    "duration": 131,
    "start_time": "2021-07-18T08:44:03.496Z"
   },
   {
    "duration": 316,
    "start_time": "2021-07-18T08:44:29.149Z"
   },
   {
    "duration": 103,
    "start_time": "2021-07-18T08:45:43.445Z"
   },
   {
    "duration": 29,
    "start_time": "2021-07-18T08:46:12.784Z"
   },
   {
    "duration": 55,
    "start_time": "2021-07-18T08:46:30.934Z"
   },
   {
    "duration": 587,
    "start_time": "2021-07-18T08:46:52.674Z"
   },
   {
    "duration": 424,
    "start_time": "2021-07-18T08:47:16.840Z"
   },
   {
    "duration": 29,
    "start_time": "2021-07-18T08:47:51.843Z"
   },
   {
    "duration": 1321,
    "start_time": "2021-07-18T08:48:02.221Z"
   },
   {
    "duration": 6,
    "start_time": "2021-07-18T08:48:27.400Z"
   },
   {
    "duration": 364,
    "start_time": "2021-07-18T08:48:35.635Z"
   },
   {
    "duration": 335,
    "start_time": "2021-07-18T08:49:50.558Z"
   },
   {
    "duration": 7,
    "start_time": "2021-07-18T08:50:21.566Z"
   },
   {
    "duration": 19,
    "start_time": "2021-07-18T08:51:23.886Z"
   },
   {
    "duration": 362,
    "start_time": "2021-07-18T08:51:40.926Z"
   },
   {
    "duration": 5,
    "start_time": "2021-07-18T08:52:54.042Z"
   },
   {
    "duration": 451,
    "start_time": "2021-07-18T08:53:16.543Z"
   },
   {
    "duration": 337,
    "start_time": "2021-07-18T08:59:10.311Z"
   },
   {
    "duration": 379,
    "start_time": "2021-07-18T08:59:36.623Z"
   },
   {
    "duration": 442,
    "start_time": "2021-07-18T09:02:30.482Z"
   },
   {
    "duration": 4,
    "start_time": "2021-07-18T09:03:38.282Z"
   },
   {
    "duration": 3,
    "start_time": "2021-07-18T09:10:43.156Z"
   },
   {
    "duration": 1553,
    "start_time": "2021-07-18T09:12:35.659Z"
   },
   {
    "duration": 758,
    "start_time": "2021-07-18T09:12:37.215Z"
   },
   {
    "duration": 71,
    "start_time": "2021-07-18T09:12:37.975Z"
   },
   {
    "duration": 73,
    "start_time": "2021-07-18T09:12:38.050Z"
   },
   {
    "duration": 284,
    "start_time": "2021-07-18T09:12:38.126Z"
   },
   {
    "duration": 72,
    "start_time": "2021-07-18T09:12:38.413Z"
   },
   {
    "duration": 14,
    "start_time": "2021-07-18T09:12:38.488Z"
   },
   {
    "duration": 16,
    "start_time": "2021-07-18T09:12:38.508Z"
   },
   {
    "duration": 54,
    "start_time": "2021-07-18T09:12:38.528Z"
   },
   {
    "duration": 45,
    "start_time": "2021-07-18T09:12:38.585Z"
   },
   {
    "duration": 9,
    "start_time": "2021-07-18T09:12:38.633Z"
   },
   {
    "duration": 24,
    "start_time": "2021-07-18T09:12:38.646Z"
   },
   {
    "duration": 6,
    "start_time": "2021-07-18T09:12:38.673Z"
   },
   {
    "duration": 530,
    "start_time": "2021-07-18T09:12:38.682Z"
   },
   {
    "duration": 190,
    "start_time": "2021-07-18T09:12:39.215Z"
   },
   {
    "duration": 398,
    "start_time": "2021-07-18T09:12:39.408Z"
   },
   {
    "duration": 70,
    "start_time": "2021-07-18T09:12:39.809Z"
   },
   {
    "duration": 20,
    "start_time": "2021-07-18T09:12:39.883Z"
   },
   {
    "duration": 58,
    "start_time": "2021-07-18T09:12:39.906Z"
   },
   {
    "duration": 43,
    "start_time": "2021-07-18T09:12:39.967Z"
   },
   {
    "duration": 61,
    "start_time": "2021-07-18T09:12:40.013Z"
   },
   {
    "duration": 349,
    "start_time": "2021-07-18T09:12:40.077Z"
   },
   {
    "duration": 32,
    "start_time": "2021-07-18T09:12:40.434Z"
   },
   {
    "duration": 136,
    "start_time": "2021-07-18T09:12:40.472Z"
   },
   {
    "duration": 319,
    "start_time": "2021-07-18T09:12:40.612Z"
   },
   {
    "duration": 137,
    "start_time": "2021-07-18T09:12:40.934Z"
   },
   {
    "duration": 18,
    "start_time": "2021-07-18T09:12:41.074Z"
   },
   {
    "duration": 200,
    "start_time": "2021-07-18T09:12:41.095Z"
   },
   {
    "duration": 64,
    "start_time": "2021-07-18T09:12:41.299Z"
   },
   {
    "duration": 1312,
    "start_time": "2021-07-18T09:12:41.366Z"
   },
   {
    "duration": 12,
    "start_time": "2021-07-18T09:12:42.681Z"
   },
   {
    "duration": 25,
    "start_time": "2021-07-18T09:12:42.696Z"
   },
   {
    "duration": 109,
    "start_time": "2021-07-18T09:12:42.723Z"
   },
   {
    "duration": 821,
    "start_time": "2021-07-18T09:12:42.014Z"
   },
   {
    "duration": 820,
    "start_time": "2021-07-18T09:12:42.017Z"
   },
   {
    "duration": 818,
    "start_time": "2021-07-18T09:12:42.020Z"
   },
   {
    "duration": 819,
    "start_time": "2021-07-18T09:12:42.021Z"
   },
   {
    "duration": 818,
    "start_time": "2021-07-18T09:12:42.023Z"
   },
   {
    "duration": 800,
    "start_time": "2021-07-18T09:12:42.042Z"
   },
   {
    "duration": 800,
    "start_time": "2021-07-18T09:12:42.044Z"
   },
   {
    "duration": 799,
    "start_time": "2021-07-18T09:12:42.046Z"
   },
   {
    "duration": 798,
    "start_time": "2021-07-18T09:12:42.048Z"
   },
   {
    "duration": 799,
    "start_time": "2021-07-18T09:12:42.049Z"
   },
   {
    "duration": 798,
    "start_time": "2021-07-18T09:12:42.051Z"
   },
   {
    "duration": 798,
    "start_time": "2021-07-18T09:12:42.053Z"
   },
   {
    "duration": 797,
    "start_time": "2021-07-18T09:12:42.055Z"
   },
   {
    "duration": 797,
    "start_time": "2021-07-18T09:12:42.056Z"
   },
   {
    "duration": 792,
    "start_time": "2021-07-18T09:12:42.063Z"
   },
   {
    "duration": 790,
    "start_time": "2021-07-18T09:12:42.066Z"
   },
   {
    "duration": 789,
    "start_time": "2021-07-18T09:12:42.068Z"
   },
   {
    "duration": 788,
    "start_time": "2021-07-18T09:12:42.071Z"
   },
   {
    "duration": 789,
    "start_time": "2021-07-18T09:12:42.073Z"
   },
   {
    "duration": 787,
    "start_time": "2021-07-18T09:12:42.076Z"
   },
   {
    "duration": 783,
    "start_time": "2021-07-18T09:12:42.082Z"
   },
   {
    "duration": 782,
    "start_time": "2021-07-18T09:12:42.084Z"
   },
   {
    "duration": 781,
    "start_time": "2021-07-18T09:12:42.087Z"
   },
   {
    "duration": 780,
    "start_time": "2021-07-18T09:12:42.089Z"
   },
   {
    "duration": 780,
    "start_time": "2021-07-18T09:12:42.091Z"
   },
   {
    "duration": 779,
    "start_time": "2021-07-18T09:12:42.093Z"
   },
   {
    "duration": 779,
    "start_time": "2021-07-18T09:12:42.095Z"
   },
   {
    "duration": 778,
    "start_time": "2021-07-18T09:12:42.097Z"
   },
   {
    "duration": 776,
    "start_time": "2021-07-18T09:12:42.100Z"
   },
   {
    "duration": 776,
    "start_time": "2021-07-18T09:12:42.102Z"
   },
   {
    "duration": 775,
    "start_time": "2021-07-18T09:12:42.104Z"
   },
   {
    "duration": 775,
    "start_time": "2021-07-18T09:12:42.106Z"
   },
   {
    "duration": 773,
    "start_time": "2021-07-18T09:12:42.109Z"
   },
   {
    "duration": 769,
    "start_time": "2021-07-18T09:12:42.115Z"
   },
   {
    "duration": 768,
    "start_time": "2021-07-18T09:12:42.117Z"
   },
   {
    "duration": 768,
    "start_time": "2021-07-18T09:12:42.119Z"
   },
   {
    "duration": 767,
    "start_time": "2021-07-18T09:12:42.121Z"
   },
   {
    "duration": 764,
    "start_time": "2021-07-18T09:12:42.126Z"
   },
   {
    "duration": 1132,
    "start_time": "2021-07-18T11:12:48.098Z"
   },
   {
    "duration": 540,
    "start_time": "2021-07-18T11:12:49.232Z"
   },
   {
    "duration": 56,
    "start_time": "2021-07-18T11:12:49.774Z"
   },
   {
    "duration": 54,
    "start_time": "2021-07-18T11:12:49.832Z"
   },
   {
    "duration": 190,
    "start_time": "2021-07-18T11:12:49.889Z"
   },
   {
    "duration": 49,
    "start_time": "2021-07-18T11:12:50.085Z"
   },
   {
    "duration": 9,
    "start_time": "2021-07-18T11:12:50.136Z"
   },
   {
    "duration": 10,
    "start_time": "2021-07-18T11:12:50.148Z"
   },
   {
    "duration": 32,
    "start_time": "2021-07-18T11:12:50.160Z"
   },
   {
    "duration": 52,
    "start_time": "2021-07-18T11:12:50.194Z"
   },
   {
    "duration": 7,
    "start_time": "2021-07-18T11:12:50.248Z"
   },
   {
    "duration": 8,
    "start_time": "2021-07-18T11:12:50.257Z"
   },
   {
    "duration": 4,
    "start_time": "2021-07-18T11:12:50.267Z"
   },
   {
    "duration": 325,
    "start_time": "2021-07-18T11:12:50.272Z"
   },
   {
    "duration": 130,
    "start_time": "2021-07-18T11:12:50.599Z"
   },
   {
    "duration": 281,
    "start_time": "2021-07-18T11:12:50.731Z"
   },
   {
    "duration": 35,
    "start_time": "2021-07-18T11:12:51.014Z"
   },
   {
    "duration": 12,
    "start_time": "2021-07-18T11:12:51.051Z"
   },
   {
    "duration": 37,
    "start_time": "2021-07-18T11:12:51.064Z"
   },
   {
    "duration": 27,
    "start_time": "2021-07-18T11:12:51.102Z"
   },
   {
    "duration": 22,
    "start_time": "2021-07-18T11:12:51.130Z"
   },
   {
    "duration": 222,
    "start_time": "2021-07-18T11:12:51.154Z"
   },
   {
    "duration": 14,
    "start_time": "2021-07-18T11:12:51.379Z"
   },
   {
    "duration": 91,
    "start_time": "2021-07-18T11:12:51.395Z"
   },
   {
    "duration": 188,
    "start_time": "2021-07-18T11:12:51.488Z"
   },
   {
    "duration": 84,
    "start_time": "2021-07-18T11:12:51.678Z"
   },
   {
    "duration": 24,
    "start_time": "2021-07-18T11:12:51.763Z"
   },
   {
    "duration": 128,
    "start_time": "2021-07-18T11:12:51.789Z"
   },
   {
    "duration": 23,
    "start_time": "2021-07-18T11:12:51.919Z"
   },
   {
    "duration": 859,
    "start_time": "2021-07-18T11:12:51.943Z"
   },
   {
    "duration": 8,
    "start_time": "2021-07-18T11:12:52.803Z"
   },
   {
    "duration": 15,
    "start_time": "2021-07-18T11:12:52.812Z"
   },
   {
    "duration": 56,
    "start_time": "2021-07-18T11:12:52.828Z"
   },
   {
    "duration": -3743,
    "start_time": "2021-07-18T11:12:56.628Z"
   },
   {
    "duration": -3897,
    "start_time": "2021-07-18T11:12:56.783Z"
   },
   {
    "duration": -3903,
    "start_time": "2021-07-18T11:12:56.790Z"
   },
   {
    "duration": -3943,
    "start_time": "2021-07-18T11:12:56.831Z"
   },
   {
    "duration": -3949,
    "start_time": "2021-07-18T11:12:56.838Z"
   },
   {
    "duration": -3952,
    "start_time": "2021-07-18T11:12:56.842Z"
   },
   {
    "duration": -3956,
    "start_time": "2021-07-18T11:12:56.846Z"
   },
   {
    "duration": -4067,
    "start_time": "2021-07-18T11:12:56.958Z"
   },
   {
    "duration": -4072,
    "start_time": "2021-07-18T11:12:56.965Z"
   },
   {
    "duration": -4077,
    "start_time": "2021-07-18T11:12:56.971Z"
   },
   {
    "duration": -4080,
    "start_time": "2021-07-18T11:12:56.975Z"
   },
   {
    "duration": -4162,
    "start_time": "2021-07-18T11:12:57.057Z"
   },
   {
    "duration": -4187,
    "start_time": "2021-07-18T11:12:57.083Z"
   },
   {
    "duration": -4211,
    "start_time": "2021-07-18T11:12:57.108Z"
   },
   {
    "duration": -4213,
    "start_time": "2021-07-18T11:12:57.111Z"
   },
   {
    "duration": -4216,
    "start_time": "2021-07-18T11:12:57.115Z"
   },
   {
    "duration": -4256,
    "start_time": "2021-07-18T11:12:57.156Z"
   },
   {
    "duration": -4258,
    "start_time": "2021-07-18T11:12:57.159Z"
   },
   {
    "duration": -4262,
    "start_time": "2021-07-18T11:12:57.163Z"
   },
   {
    "duration": -4291,
    "start_time": "2021-07-18T11:12:57.193Z"
   },
   {
    "duration": -4293,
    "start_time": "2021-07-18T11:12:57.196Z"
   },
   {
    "duration": -4397,
    "start_time": "2021-07-18T11:12:57.301Z"
   },
   {
    "duration": -4404,
    "start_time": "2021-07-18T11:12:57.309Z"
   },
   {
    "duration": -4421,
    "start_time": "2021-07-18T11:12:57.327Z"
   },
   {
    "duration": -4425,
    "start_time": "2021-07-18T11:12:57.332Z"
   },
   {
    "duration": -4446,
    "start_time": "2021-07-18T11:12:57.353Z"
   },
   {
    "duration": -4458,
    "start_time": "2021-07-18T11:12:57.366Z"
   },
   {
    "duration": -4464,
    "start_time": "2021-07-18T11:12:57.373Z"
   },
   {
    "duration": -4529,
    "start_time": "2021-07-18T11:12:57.439Z"
   },
   {
    "duration": -4538,
    "start_time": "2021-07-18T11:12:57.449Z"
   },
   {
    "duration": -4546,
    "start_time": "2021-07-18T11:12:57.458Z"
   },
   {
    "duration": -4569,
    "start_time": "2021-07-18T11:12:57.481Z"
   },
   {
    "duration": -4575,
    "start_time": "2021-07-18T11:12:57.488Z"
   },
   {
    "duration": -4598,
    "start_time": "2021-07-18T11:12:57.513Z"
   },
   {
    "duration": -4604,
    "start_time": "2021-07-18T11:12:57.520Z"
   },
   {
    "duration": -4607,
    "start_time": "2021-07-18T11:12:57.524Z"
   },
   {
    "duration": -4610,
    "start_time": "2021-07-18T11:12:57.528Z"
   },
   {
    "duration": -4613,
    "start_time": "2021-07-18T11:12:57.532Z"
   },
   {
    "duration": 101,
    "start_time": "2021-07-18T14:21:31.564Z"
   },
   {
    "duration": 1436,
    "start_time": "2021-07-18T14:24:51.202Z"
   },
   {
    "duration": 726,
    "start_time": "2021-07-18T14:24:52.640Z"
   },
   {
    "duration": 65,
    "start_time": "2021-07-18T14:24:53.369Z"
   },
   {
    "duration": 66,
    "start_time": "2021-07-18T14:24:53.436Z"
   },
   {
    "duration": 273,
    "start_time": "2021-07-18T14:24:53.505Z"
   },
   {
    "duration": 87,
    "start_time": "2021-07-18T14:24:53.780Z"
   },
   {
    "duration": 13,
    "start_time": "2021-07-18T14:24:53.871Z"
   },
   {
    "duration": 30,
    "start_time": "2021-07-18T14:24:53.887Z"
   },
   {
    "duration": 23,
    "start_time": "2021-07-18T14:24:53.966Z"
   },
   {
    "duration": 46,
    "start_time": "2021-07-18T14:24:54.607Z"
   },
   {
    "duration": 11,
    "start_time": "2021-07-18T14:24:54.803Z"
   },
   {
    "duration": 16,
    "start_time": "2021-07-18T14:24:55.229Z"
   },
   {
    "duration": 736,
    "start_time": "2021-07-18T14:24:56.199Z"
   },
   {
    "duration": 258,
    "start_time": "2021-07-18T14:24:56.939Z"
   },
   {
    "duration": 531,
    "start_time": "2021-07-18T14:24:57.201Z"
   },
   {
    "duration": 98,
    "start_time": "2021-07-18T14:24:57.736Z"
   },
   {
    "duration": 37,
    "start_time": "2021-07-18T14:24:57.837Z"
   },
   {
    "duration": 34,
    "start_time": "2021-07-18T14:24:57.981Z"
   },
   {
    "duration": 43,
    "start_time": "2021-07-18T14:24:58.170Z"
   },
   {
    "duration": 28,
    "start_time": "2021-07-18T14:24:58.390Z"
   },
   {
    "duration": 307,
    "start_time": "2021-07-18T14:24:58.591Z"
   },
   {
    "duration": 15,
    "start_time": "2021-07-18T14:24:58.993Z"
   },
   {
    "duration": 124,
    "start_time": "2021-07-18T14:25:00.007Z"
   },
   {
    "duration": 291,
    "start_time": "2021-07-18T14:25:00.324Z"
   },
   {
    "duration": 123,
    "start_time": "2021-07-18T14:25:00.850Z"
   },
   {
    "duration": 15,
    "start_time": "2021-07-18T14:25:01.062Z"
   },
   {
    "duration": 163,
    "start_time": "2021-07-18T14:25:01.313Z"
   },
   {
    "duration": 38,
    "start_time": "2021-07-18T14:25:01.514Z"
   },
   {
    "duration": 1266,
    "start_time": "2021-07-18T14:25:01.955Z"
   },
   {
    "duration": 11,
    "start_time": "2021-07-18T14:25:03.223Z"
   },
   {
    "duration": 43,
    "start_time": "2021-07-18T14:25:03.237Z"
   },
   {
    "duration": 109,
    "start_time": "2021-07-18T14:25:03.554Z"
   },
   {
    "duration": 97,
    "start_time": "2021-07-18T14:25:03.745Z"
   },
   {
    "duration": 18,
    "start_time": "2021-07-18T14:25:04.142Z"
   },
   {
    "duration": 473,
    "start_time": "2021-07-18T14:25:04.543Z"
   },
   {
    "duration": 571,
    "start_time": "2021-07-18T14:25:05.019Z"
   },
   {
    "duration": 9,
    "start_time": "2021-07-18T14:25:05.593Z"
   },
   {
    "duration": 51,
    "start_time": "2021-07-18T14:25:05.927Z"
   },
   {
    "duration": 1162,
    "start_time": "2021-07-18T14:25:06.127Z"
   },
   {
    "duration": 586,
    "start_time": "2021-07-18T14:25:07.291Z"
   },
   {
    "duration": 13,
    "start_time": "2021-07-18T14:25:07.880Z"
   },
   {
    "duration": 10,
    "start_time": "2021-07-18T14:25:07.896Z"
   },
   {
    "duration": 309,
    "start_time": "2021-07-18T14:25:07.909Z"
   },
   {
    "duration": 1210,
    "start_time": "2021-07-18T14:25:08.221Z"
   },
   {
    "duration": 91,
    "start_time": "2021-07-18T14:25:09.434Z"
   },
   {
    "duration": 8,
    "start_time": "2021-07-18T14:25:09.527Z"
   },
   {
    "duration": 8,
    "start_time": "2021-07-18T14:25:10.649Z"
   },
   {
    "duration": 31,
    "start_time": "2021-07-18T14:25:10.661Z"
   },
   {
    "duration": 20,
    "start_time": "2021-07-18T14:25:10.696Z"
   },
   {
    "duration": 24,
    "start_time": "2021-07-18T14:25:10.897Z"
   },
   {
    "duration": 17,
    "start_time": "2021-07-18T14:25:11.338Z"
   },
   {
    "duration": 21,
    "start_time": "2021-07-18T14:25:11.549Z"
   },
   {
    "duration": 1242,
    "start_time": "2021-07-18T14:25:12.009Z"
   },
   {
    "duration": 19,
    "start_time": "2021-07-18T14:25:13.255Z"
   },
   {
    "duration": 10,
    "start_time": "2021-07-18T14:25:13.277Z"
   },
   {
    "duration": 18,
    "start_time": "2021-07-18T14:25:13.598Z"
   },
   {
    "duration": 534,
    "start_time": "2021-07-18T14:25:13.858Z"
   },
   {
    "duration": 16,
    "start_time": "2021-07-18T14:25:14.395Z"
   },
   {
    "duration": 491,
    "start_time": "2021-07-18T14:25:14.512Z"
   },
   {
    "duration": 16,
    "start_time": "2021-07-18T14:25:15.006Z"
   },
   {
    "duration": 24,
    "start_time": "2021-07-18T14:25:15.470Z"
   },
   {
    "duration": 181,
    "start_time": "2021-07-18T14:25:15.887Z"
   },
   {
    "duration": 109,
    "start_time": "2021-07-18T14:25:16.364Z"
   },
   {
    "duration": 29,
    "start_time": "2021-07-18T14:25:16.802Z"
   },
   {
    "duration": 56,
    "start_time": "2021-07-18T14:25:17.298Z"
   },
   {
    "duration": 581,
    "start_time": "2021-07-18T14:25:17.729Z"
   },
   {
    "duration": 621,
    "start_time": "2021-07-18T14:25:18.313Z"
   },
   {
    "duration": 581,
    "start_time": "2021-07-18T14:25:18.968Z"
   },
   {
    "duration": -20320,
    "start_time": "2021-07-18T14:25:39.871Z"
   },
   {
    "duration": 369,
    "start_time": "2021-07-18T14:47:53.271Z"
   },
   {
    "duration": 412,
    "start_time": "2021-07-18T14:48:18.290Z"
   },
   {
    "duration": 100,
    "start_time": "2021-07-18T14:49:36.678Z"
   },
   {
    "duration": 108,
    "start_time": "2021-07-18T14:49:48.457Z"
   },
   {
    "duration": 97,
    "start_time": "2021-07-18T14:50:32.042Z"
   },
   {
    "duration": 12,
    "start_time": "2021-07-18T14:51:15.184Z"
   },
   {
    "duration": 644,
    "start_time": "2021-07-18T14:52:39.954Z"
   },
   {
    "duration": 625,
    "start_time": "2021-07-18T14:53:09.451Z"
   },
   {
    "duration": 519,
    "start_time": "2021-07-18T14:56:07.987Z"
   },
   {
    "duration": 334,
    "start_time": "2021-07-18T14:57:05.185Z"
   },
   {
    "duration": 303,
    "start_time": "2021-07-18T14:57:48.663Z"
   },
   {
    "duration": 353,
    "start_time": "2021-07-18T15:00:19.391Z"
   },
   {
    "duration": 849,
    "start_time": "2021-07-18T15:00:54.719Z"
   },
   {
    "duration": 4,
    "start_time": "2021-07-18T15:01:28.494Z"
   },
   {
    "duration": 829,
    "start_time": "2021-07-18T15:01:30.269Z"
   },
   {
    "duration": 7,
    "start_time": "2021-07-18T15:04:38.822Z"
   },
   {
    "duration": 8,
    "start_time": "2021-07-18T15:04:40.104Z"
   },
   {
    "duration": 5,
    "start_time": "2021-07-18T15:04:48.804Z"
   },
   {
    "duration": 5,
    "start_time": "2021-07-18T15:05:42.611Z"
   },
   {
    "duration": 13,
    "start_time": "2021-07-18T15:05:58.425Z"
   },
   {
    "duration": 12,
    "start_time": "2021-07-18T15:06:18.056Z"
   },
   {
    "duration": 7804,
    "start_time": "2021-07-18T15:06:32.902Z"
   },
   {
    "duration": 346,
    "start_time": "2021-07-18T15:07:28.162Z"
   },
   {
    "duration": 6,
    "start_time": "2021-07-18T15:08:58.834Z"
   },
   {
    "duration": 15,
    "start_time": "2021-07-18T15:09:26.362Z"
   },
   {
    "duration": 990,
    "start_time": "2021-07-18T15:09:43.894Z"
   },
   {
    "duration": 608,
    "start_time": "2021-07-18T15:09:58.885Z"
   },
   {
    "duration": 619,
    "start_time": "2021-07-18T15:11:52.670Z"
   },
   {
    "duration": 405,
    "start_time": "2021-07-18T15:14:46.961Z"
   },
   {
    "duration": 394,
    "start_time": "2021-07-18T15:15:22.789Z"
   },
   {
    "duration": 1490,
    "start_time": "2021-07-18T15:17:08.353Z"
   },
   {
    "duration": 817,
    "start_time": "2021-07-18T15:17:09.846Z"
   },
   {
    "duration": 64,
    "start_time": "2021-07-18T15:17:10.667Z"
   },
   {
    "duration": 65,
    "start_time": "2021-07-18T15:17:10.734Z"
   },
   {
    "duration": 267,
    "start_time": "2021-07-18T15:17:10.802Z"
   },
   {
    "duration": 65,
    "start_time": "2021-07-18T15:17:11.071Z"
   },
   {
    "duration": 24,
    "start_time": "2021-07-18T15:17:11.138Z"
   },
   {
    "duration": 14,
    "start_time": "2021-07-18T15:17:11.166Z"
   },
   {
    "duration": 23,
    "start_time": "2021-07-18T15:17:11.183Z"
   },
   {
    "duration": 55,
    "start_time": "2021-07-18T15:17:11.209Z"
   },
   {
    "duration": 10,
    "start_time": "2021-07-18T15:17:11.267Z"
   },
   {
    "duration": 11,
    "start_time": "2021-07-18T15:17:11.280Z"
   },
   {
    "duration": 533,
    "start_time": "2021-07-18T15:17:11.293Z"
   },
   {
    "duration": 264,
    "start_time": "2021-07-18T15:17:11.829Z"
   },
   {
    "duration": 527,
    "start_time": "2021-07-18T15:17:12.096Z"
   },
   {
    "duration": 64,
    "start_time": "2021-07-18T15:17:12.626Z"
   },
   {
    "duration": 17,
    "start_time": "2021-07-18T15:17:12.693Z"
   },
   {
    "duration": 53,
    "start_time": "2021-07-18T15:17:12.712Z"
   },
   {
    "duration": 39,
    "start_time": "2021-07-18T15:17:12.767Z"
   },
   {
    "duration": 28,
    "start_time": "2021-07-18T15:17:12.809Z"
   },
   {
    "duration": 353,
    "start_time": "2021-07-18T15:17:12.839Z"
   },
   {
    "duration": 18,
    "start_time": "2021-07-18T15:17:13.194Z"
   },
   {
    "duration": 144,
    "start_time": "2021-07-18T15:17:13.219Z"
   },
   {
    "duration": 283,
    "start_time": "2021-07-18T15:17:13.367Z"
   },
   {
    "duration": 139,
    "start_time": "2021-07-18T15:17:13.653Z"
   },
   {
    "duration": 14,
    "start_time": "2021-07-18T15:17:13.795Z"
   },
   {
    "duration": 179,
    "start_time": "2021-07-18T15:17:13.812Z"
   },
   {
    "duration": 36,
    "start_time": "2021-07-18T15:17:13.993Z"
   },
   {
    "duration": 1281,
    "start_time": "2021-07-18T15:17:14.032Z"
   },
   {
    "duration": 11,
    "start_time": "2021-07-18T15:17:15.315Z"
   },
   {
    "duration": 45,
    "start_time": "2021-07-18T15:17:15.328Z"
   },
   {
    "duration": 118,
    "start_time": "2021-07-18T15:17:15.376Z"
   },
   {
    "duration": 106,
    "start_time": "2021-07-18T15:17:15.496Z"
   },
   {
    "duration": 18,
    "start_time": "2021-07-18T15:17:15.604Z"
   },
   {
    "duration": 448,
    "start_time": "2021-07-18T15:17:15.624Z"
   },
   {
    "duration": 560,
    "start_time": "2021-07-18T15:17:16.074Z"
   },
   {
    "duration": 8,
    "start_time": "2021-07-18T15:17:16.636Z"
   },
   {
    "duration": 62,
    "start_time": "2021-07-18T15:17:16.647Z"
   },
   {
    "duration": 1179,
    "start_time": "2021-07-18T15:17:16.711Z"
   },
   {
    "duration": 607,
    "start_time": "2021-07-18T15:17:17.892Z"
   },
   {
    "duration": 12,
    "start_time": "2021-07-18T15:17:18.502Z"
   },
   {
    "duration": 9,
    "start_time": "2021-07-18T15:17:18.516Z"
   },
   {
    "duration": 309,
    "start_time": "2021-07-18T15:17:18.529Z"
   },
   {
    "duration": 1180,
    "start_time": "2021-07-18T15:17:18.841Z"
   },
   {
    "duration": 99,
    "start_time": "2021-07-18T15:17:20.025Z"
   },
   {
    "duration": 11,
    "start_time": "2021-07-18T15:17:20.128Z"
   },
   {
    "duration": 24,
    "start_time": "2021-07-18T15:17:20.142Z"
   },
   {
    "duration": 28,
    "start_time": "2021-07-18T15:17:20.168Z"
   },
   {
    "duration": 19,
    "start_time": "2021-07-18T15:17:20.198Z"
   },
   {
    "duration": 61,
    "start_time": "2021-07-18T15:17:20.220Z"
   },
   {
    "duration": 19,
    "start_time": "2021-07-18T15:17:20.283Z"
   },
   {
    "duration": 20,
    "start_time": "2021-07-18T15:17:20.304Z"
   },
   {
    "duration": 1242,
    "start_time": "2021-07-18T15:17:20.327Z"
   },
   {
    "duration": 6,
    "start_time": "2021-07-18T15:17:21.572Z"
   },
   {
    "duration": 12,
    "start_time": "2021-07-18T15:17:21.582Z"
   },
   {
    "duration": 7,
    "start_time": "2021-07-18T15:17:21.597Z"
   },
   {
    "duration": 55,
    "start_time": "2021-07-18T15:17:21.607Z"
   },
   {
    "duration": 17,
    "start_time": "2021-07-18T15:17:21.665Z"
   },
   {
    "duration": 13,
    "start_time": "2021-07-18T15:17:21.684Z"
   },
   {
    "duration": 27,
    "start_time": "2021-07-18T15:17:21.699Z"
   },
   {
    "duration": 656,
    "start_time": "2021-07-18T15:17:21.729Z"
   },
   {
    "duration": 17,
    "start_time": "2021-07-18T15:17:22.389Z"
   },
   {
    "duration": 18,
    "start_time": "2021-07-18T15:17:22.409Z"
   },
   {
    "duration": 170,
    "start_time": "2021-07-18T15:17:22.429Z"
   },
   {
    "duration": 87,
    "start_time": "2021-07-18T15:17:22.602Z"
   },
   {
    "duration": 21,
    "start_time": "2021-07-18T15:17:22.691Z"
   },
   {
    "duration": 66,
    "start_time": "2021-07-18T15:17:22.715Z"
   },
   {
    "duration": 408,
    "start_time": "2021-07-18T15:17:22.788Z"
   },
   {
    "duration": 425,
    "start_time": "2021-07-18T15:17:23.199Z"
   },
   {
    "duration": 488,
    "start_time": "2021-07-18T15:17:23.627Z"
   },
   {
    "duration": -19981,
    "start_time": "2021-07-18T15:17:44.099Z"
   },
   {
    "duration": 798,
    "start_time": "2021-07-18T15:22:00.123Z"
   },
   {
    "duration": 340,
    "start_time": "2021-07-18T15:24:06.586Z"
   },
   {
    "duration": 340,
    "start_time": "2021-07-18T15:26:21.601Z"
   },
   {
    "duration": 364,
    "start_time": "2021-07-18T15:27:00.990Z"
   },
   {
    "duration": 302,
    "start_time": "2021-07-18T15:27:15.431Z"
   },
   {
    "duration": 5,
    "start_time": "2021-07-18T15:31:45.270Z"
   },
   {
    "duration": 1060,
    "start_time": "2021-07-18T15:31:45.834Z"
   },
   {
    "duration": 116,
    "start_time": "2021-07-18T15:31:46.898Z"
   },
   {
    "duration": 71,
    "start_time": "2021-07-18T15:31:47.018Z"
   },
   {
    "duration": 407,
    "start_time": "2021-07-18T15:31:47.092Z"
   },
   {
    "duration": 95,
    "start_time": "2021-07-18T15:31:47.503Z"
   },
   {
    "duration": 15,
    "start_time": "2021-07-18T15:31:47.601Z"
   },
   {
    "duration": 19,
    "start_time": "2021-07-18T15:31:47.939Z"
   },
   {
    "duration": 39,
    "start_time": "2021-07-18T15:31:48.233Z"
   },
   {
    "duration": 74,
    "start_time": "2021-07-18T15:31:48.796Z"
   },
   {
    "duration": 12,
    "start_time": "2021-07-18T15:31:48.995Z"
   },
   {
    "duration": 17,
    "start_time": "2021-07-18T15:31:49.358Z"
   },
   {
    "duration": 517,
    "start_time": "2021-07-18T15:31:50.360Z"
   },
   {
    "duration": 181,
    "start_time": "2021-07-18T15:31:50.881Z"
   },
   {
    "duration": 393,
    "start_time": "2021-07-18T15:31:51.194Z"
   },
   {
    "duration": 55,
    "start_time": "2021-07-18T15:31:51.680Z"
   },
   {
    "duration": 13,
    "start_time": "2021-07-18T15:31:52.026Z"
   },
   {
    "duration": 27,
    "start_time": "2021-07-18T15:31:52.276Z"
   },
   {
    "duration": 40,
    "start_time": "2021-07-18T15:31:52.567Z"
   },
   {
    "duration": 29,
    "start_time": "2021-07-18T15:31:52.731Z"
   },
   {
    "duration": 453,
    "start_time": "2021-07-18T15:31:52.922Z"
   },
   {
    "duration": 14,
    "start_time": "2021-07-18T15:31:53.377Z"
   },
   {
    "duration": 122,
    "start_time": "2021-07-18T15:31:54.278Z"
   },
   {
    "duration": 312,
    "start_time": "2021-07-18T15:31:54.707Z"
   },
   {
    "duration": 127,
    "start_time": "2021-07-18T15:31:55.165Z"
   },
   {
    "duration": 15,
    "start_time": "2021-07-18T15:31:55.381Z"
   },
   {
    "duration": 166,
    "start_time": "2021-07-18T15:31:55.620Z"
   },
   {
    "duration": 37,
    "start_time": "2021-07-18T15:31:55.834Z"
   },
   {
    "duration": 1322,
    "start_time": "2021-07-18T15:31:56.247Z"
   },
   {
    "duration": 15,
    "start_time": "2021-07-18T15:31:57.572Z"
   },
   {
    "duration": 34,
    "start_time": "2021-07-18T15:31:57.591Z"
   },
   {
    "duration": 105,
    "start_time": "2021-07-18T15:31:57.883Z"
   },
   {
    "duration": 93,
    "start_time": "2021-07-18T15:31:58.139Z"
   },
   {
    "duration": 19,
    "start_time": "2021-07-18T15:31:58.656Z"
   },
   {
    "duration": 534,
    "start_time": "2021-07-18T15:31:59.018Z"
   },
   {
    "duration": 542,
    "start_time": "2021-07-18T15:31:59.563Z"
   },
   {
    "duration": 9,
    "start_time": "2021-07-18T15:32:00.109Z"
   },
   {
    "duration": 52,
    "start_time": "2021-07-18T15:32:00.720Z"
   },
   {
    "duration": 1161,
    "start_time": "2021-07-18T15:32:00.949Z"
   },
   {
    "duration": 658,
    "start_time": "2021-07-18T15:32:02.112Z"
   },
   {
    "duration": 12,
    "start_time": "2021-07-18T15:32:02.773Z"
   },
   {
    "duration": 9,
    "start_time": "2021-07-18T15:32:02.788Z"
   },
   {
    "duration": 292,
    "start_time": "2021-07-18T15:32:03.006Z"
   },
   {
    "duration": 1232,
    "start_time": "2021-07-18T15:32:03.301Z"
   },
   {
    "duration": 90,
    "start_time": "2021-07-18T15:32:04.535Z"
   },
   {
    "duration": 7,
    "start_time": "2021-07-18T15:32:04.628Z"
   },
   {
    "duration": 5,
    "start_time": "2021-07-18T15:32:04.938Z"
   },
   {
    "duration": 26,
    "start_time": "2021-07-18T15:32:05.447Z"
   },
   {
    "duration": 20,
    "start_time": "2021-07-18T15:32:05.957Z"
   },
   {
    "duration": 35,
    "start_time": "2021-07-18T15:32:06.484Z"
   },
   {
    "duration": 25,
    "start_time": "2021-07-18T15:32:07.029Z"
   },
   {
    "duration": 30,
    "start_time": "2021-07-18T15:32:07.326Z"
   },
   {
    "duration": 1719,
    "start_time": "2021-07-18T15:32:07.879Z"
   },
   {
    "duration": 7,
    "start_time": "2021-07-18T15:32:09.602Z"
   },
   {
    "duration": 36,
    "start_time": "2021-07-18T15:32:09.613Z"
   },
   {
    "duration": 8,
    "start_time": "2021-07-18T15:32:09.652Z"
   },
   {
    "duration": 16,
    "start_time": "2021-07-18T15:32:09.918Z"
   },
   {
    "duration": 16,
    "start_time": "2021-07-18T15:32:10.171Z"
   },
   {
    "duration": 10,
    "start_time": "2021-07-18T15:32:10.403Z"
   },
   {
    "duration": 20,
    "start_time": "2021-07-18T15:32:10.717Z"
   },
   {
    "duration": 912,
    "start_time": "2021-07-18T15:32:11.008Z"
   },
   {
    "duration": 23,
    "start_time": "2021-07-18T15:32:11.923Z"
   },
   {
    "duration": 25,
    "start_time": "2021-07-18T15:32:12.356Z"
   },
   {
    "duration": 173,
    "start_time": "2021-07-18T15:32:12.896Z"
   },
   {
    "duration": 103,
    "start_time": "2021-07-18T15:32:13.368Z"
   },
   {
    "duration": 29,
    "start_time": "2021-07-18T15:32:13.879Z"
   },
   {
    "duration": 57,
    "start_time": "2021-07-18T15:32:14.303Z"
   },
   {
    "duration": 403,
    "start_time": "2021-07-18T15:32:14.845Z"
   },
   {
    "duration": 521,
    "start_time": "2021-07-18T15:32:15.348Z"
   },
   {
    "duration": 318,
    "start_time": "2021-07-18T15:32:17.002Z"
   },
   {
    "duration": 371,
    "start_time": "2021-07-18T15:32:30.567Z"
   },
   {
    "duration": 4,
    "start_time": "2021-07-18T15:34:02.538Z"
   },
   {
    "duration": 707,
    "start_time": "2021-07-18T15:34:03.248Z"
   },
   {
    "duration": 69,
    "start_time": "2021-07-18T15:34:03.962Z"
   },
   {
    "duration": 55,
    "start_time": "2021-07-18T15:34:04.034Z"
   },
   {
    "duration": 246,
    "start_time": "2021-07-18T15:34:04.230Z"
   },
   {
    "duration": 68,
    "start_time": "2021-07-18T15:34:04.847Z"
   },
   {
    "duration": 13,
    "start_time": "2021-07-18T15:34:05.079Z"
   },
   {
    "duration": 15,
    "start_time": "2021-07-18T15:34:05.609Z"
   },
   {
    "duration": 38,
    "start_time": "2021-07-18T15:34:05.822Z"
   },
   {
    "duration": 54,
    "start_time": "2021-07-18T15:34:06.627Z"
   },
   {
    "duration": 9,
    "start_time": "2021-07-18T15:34:06.882Z"
   },
   {
    "duration": 12,
    "start_time": "2021-07-18T15:34:07.419Z"
   },
   {
    "duration": 498,
    "start_time": "2021-07-18T15:34:08.576Z"
   },
   {
    "duration": 178,
    "start_time": "2021-07-18T15:34:09.077Z"
   },
   {
    "duration": 390,
    "start_time": "2021-07-18T15:34:09.540Z"
   },
   {
    "duration": 54,
    "start_time": "2021-07-18T15:34:10.012Z"
   },
   {
    "duration": 15,
    "start_time": "2021-07-18T15:34:10.548Z"
   },
   {
    "duration": 29,
    "start_time": "2021-07-18T15:34:10.704Z"
   },
   {
    "duration": 39,
    "start_time": "2021-07-18T15:34:10.987Z"
   },
   {
    "duration": 30,
    "start_time": "2021-07-18T15:34:11.210Z"
   },
   {
    "duration": 459,
    "start_time": "2021-07-18T15:34:11.422Z"
   },
   {
    "duration": 17,
    "start_time": "2021-07-18T15:34:11.951Z"
   },
   {
    "duration": 117,
    "start_time": "2021-07-18T15:34:12.846Z"
   },
   {
    "duration": 289,
    "start_time": "2021-07-18T15:34:13.331Z"
   },
   {
    "duration": 124,
    "start_time": "2021-07-18T15:34:13.871Z"
   },
   {
    "duration": 15,
    "start_time": "2021-07-18T15:34:14.057Z"
   },
   {
    "duration": 163,
    "start_time": "2021-07-18T15:34:14.344Z"
   },
   {
    "duration": 38,
    "start_time": "2021-07-18T15:34:14.570Z"
   },
   {
    "duration": 1392,
    "start_time": "2021-07-18T15:34:15.079Z"
   },
   {
    "duration": 10,
    "start_time": "2021-07-18T15:34:16.474Z"
   },
   {
    "duration": 27,
    "start_time": "2021-07-18T15:34:16.487Z"
   },
   {
    "duration": 107,
    "start_time": "2021-07-18T15:34:16.724Z"
   },
   {
    "duration": 94,
    "start_time": "2021-07-18T15:34:16.922Z"
   },
   {
    "duration": 21,
    "start_time": "2021-07-18T15:34:17.386Z"
   },
   {
    "duration": 433,
    "start_time": "2021-07-18T15:34:17.942Z"
   },
   {
    "duration": 537,
    "start_time": "2021-07-18T15:34:18.491Z"
   },
   {
    "duration": 8,
    "start_time": "2021-07-18T15:34:19.030Z"
   },
   {
    "duration": 53,
    "start_time": "2021-07-18T15:34:19.728Z"
   },
   {
    "duration": 1159,
    "start_time": "2021-07-18T15:34:19.967Z"
   },
   {
    "duration": 553,
    "start_time": "2021-07-18T15:34:21.129Z"
   },
   {
    "duration": 14,
    "start_time": "2021-07-18T15:34:21.684Z"
   },
   {
    "duration": 11,
    "start_time": "2021-07-18T15:34:21.781Z"
   },
   {
    "duration": 282,
    "start_time": "2021-07-18T15:34:22.021Z"
   },
   {
    "duration": 1209,
    "start_time": "2021-07-18T15:34:22.344Z"
   },
   {
    "duration": 109,
    "start_time": "2021-07-18T15:34:23.556Z"
   },
   {
    "duration": 8,
    "start_time": "2021-07-18T15:34:23.668Z"
   },
   {
    "duration": 5,
    "start_time": "2021-07-18T15:34:24.049Z"
   },
   {
    "duration": 26,
    "start_time": "2021-07-18T15:34:24.514Z"
   },
   {
    "duration": 18,
    "start_time": "2021-07-18T15:34:25.066Z"
   },
   {
    "duration": 26,
    "start_time": "2021-07-18T15:34:25.617Z"
   },
   {
    "duration": 19,
    "start_time": "2021-07-18T15:34:26.171Z"
   },
   {
    "duration": 21,
    "start_time": "2021-07-18T15:34:26.499Z"
   },
   {
    "duration": 1304,
    "start_time": "2021-07-18T15:34:27.031Z"
   },
   {
    "duration": 7,
    "start_time": "2021-07-18T15:34:28.338Z"
   },
   {
    "duration": 22,
    "start_time": "2021-07-18T15:34:28.347Z"
   },
   {
    "duration": 6,
    "start_time": "2021-07-18T15:34:28.903Z"
   },
   {
    "duration": 12,
    "start_time": "2021-07-18T15:34:29.209Z"
   },
   {
    "duration": 14,
    "start_time": "2021-07-18T15:34:29.481Z"
   },
   {
    "duration": 8,
    "start_time": "2021-07-18T15:34:29.709Z"
   },
   {
    "duration": 15,
    "start_time": "2021-07-18T15:34:30.001Z"
   },
   {
    "duration": 648,
    "start_time": "2021-07-18T15:34:30.281Z"
   },
   {
    "duration": 17,
    "start_time": "2021-07-18T15:34:31.054Z"
   },
   {
    "duration": 17,
    "start_time": "2021-07-18T15:34:31.517Z"
   },
   {
    "duration": 141,
    "start_time": "2021-07-18T15:34:32.078Z"
   },
   {
    "duration": 85,
    "start_time": "2021-07-18T15:34:32.685Z"
   },
   {
    "duration": 22,
    "start_time": "2021-07-18T15:34:33.238Z"
   },
   {
    "duration": 42,
    "start_time": "2021-07-18T15:34:33.881Z"
   },
   {
    "duration": 401,
    "start_time": "2021-07-18T15:34:34.411Z"
   },
   {
    "duration": 428,
    "start_time": "2021-07-18T15:34:35.155Z"
   },
   {
    "duration": 354,
    "start_time": "2021-07-18T15:34:36.353Z"
   },
   {
    "duration": 329,
    "start_time": "2021-07-18T15:34:36.718Z"
   },
   {
    "duration": 19,
    "start_time": "2021-07-18T15:35:07.851Z"
   },
   {
    "duration": 326,
    "start_time": "2021-07-18T15:35:34.632Z"
   },
   {
    "duration": 1015,
    "start_time": "2021-07-19T08:28:58.723Z"
   },
   {
    "duration": 541,
    "start_time": "2021-07-19T08:29:00.211Z"
   },
   {
    "duration": 56,
    "start_time": "2021-07-19T08:29:00.754Z"
   },
   {
    "duration": 40,
    "start_time": "2021-07-19T08:29:00.889Z"
   },
   {
    "duration": 177,
    "start_time": "2021-07-19T08:29:01.178Z"
   },
   {
    "duration": 46,
    "start_time": "2021-07-19T08:29:01.752Z"
   },
   {
    "duration": 8,
    "start_time": "2021-07-19T08:29:02.002Z"
   },
   {
    "duration": 10,
    "start_time": "2021-07-19T08:29:02.568Z"
   },
   {
    "duration": 15,
    "start_time": "2021-07-19T08:29:02.835Z"
   },
   {
    "duration": 39,
    "start_time": "2021-07-19T08:29:03.479Z"
   },
   {
    "duration": 6,
    "start_time": "2021-07-19T08:29:03.712Z"
   },
   {
    "duration": 8,
    "start_time": "2021-07-19T08:29:04.116Z"
   },
   {
    "duration": 305,
    "start_time": "2021-07-19T08:29:05.331Z"
   },
   {
    "duration": 119,
    "start_time": "2021-07-19T08:29:05.672Z"
   },
   {
    "duration": 266,
    "start_time": "2021-07-19T08:29:06.071Z"
   },
   {
    "duration": 34,
    "start_time": "2021-07-19T08:29:06.524Z"
   },
   {
    "duration": 14,
    "start_time": "2021-07-19T08:29:07.132Z"
   },
   {
    "duration": 21,
    "start_time": "2021-07-19T08:29:07.325Z"
   },
   {
    "duration": 29,
    "start_time": "2021-07-19T08:29:07.574Z"
   },
   {
    "duration": 21,
    "start_time": "2021-07-19T08:29:07.805Z"
   },
   {
    "duration": 164,
    "start_time": "2021-07-19T08:29:08.140Z"
   },
   {
    "duration": 10,
    "start_time": "2021-07-19T08:29:08.495Z"
   },
   {
    "duration": 75,
    "start_time": "2021-07-19T08:29:09.366Z"
   },
   {
    "duration": 191,
    "start_time": "2021-07-19T08:29:09.821Z"
   },
   {
    "duration": 77,
    "start_time": "2021-07-19T08:29:10.330Z"
   },
   {
    "duration": 12,
    "start_time": "2021-07-19T08:29:10.543Z"
   },
   {
    "duration": 118,
    "start_time": "2021-07-19T08:29:10.766Z"
   },
   {
    "duration": 21,
    "start_time": "2021-07-19T08:29:11.046Z"
   },
   {
    "duration": 752,
    "start_time": "2021-07-19T08:29:11.546Z"
   },
   {
    "duration": 7,
    "start_time": "2021-07-19T08:29:12.634Z"
   },
   {
    "duration": 14,
    "start_time": "2021-07-19T08:29:13.002Z"
   },
   {
    "duration": 65,
    "start_time": "2021-07-19T08:29:13.397Z"
   },
   {
    "duration": 45,
    "start_time": "2021-07-19T08:29:13.649Z"
   },
   {
    "duration": 12,
    "start_time": "2021-07-19T08:29:14.214Z"
   },
   {
    "duration": 231,
    "start_time": "2021-07-19T08:29:14.796Z"
   },
   {
    "duration": 266,
    "start_time": "2021-07-19T08:29:15.295Z"
   },
   {
    "duration": 5,
    "start_time": "2021-07-19T08:29:15.563Z"
   },
   {
    "duration": 31,
    "start_time": "2021-07-19T08:29:16.601Z"
   },
   {
    "duration": 611,
    "start_time": "2021-07-19T08:29:16.908Z"
   },
   {
    "duration": 352,
    "start_time": "2021-07-19T08:29:17.654Z"
   },
   {
    "duration": 8,
    "start_time": "2021-07-19T08:29:18.418Z"
   },
   {
    "duration": 7,
    "start_time": "2021-07-19T08:29:18.774Z"
   },
   {
    "duration": 150,
    "start_time": "2021-07-19T08:29:19.014Z"
   },
   {
    "duration": 700,
    "start_time": "2021-07-19T08:29:19.300Z"
   },
   {
    "duration": 43,
    "start_time": "2021-07-19T08:29:20.001Z"
   },
   {
    "duration": 5,
    "start_time": "2021-07-19T08:29:20.046Z"
   },
   {
    "duration": 4,
    "start_time": "2021-07-19T08:29:21.571Z"
   },
   {
    "duration": 23,
    "start_time": "2021-07-19T08:29:21.576Z"
   },
   {
    "duration": 11,
    "start_time": "2021-07-19T08:29:21.782Z"
   },
   {
    "duration": 15,
    "start_time": "2021-07-19T08:29:22.256Z"
   },
   {
    "duration": 11,
    "start_time": "2021-07-19T08:29:22.753Z"
   },
   {
    "duration": 13,
    "start_time": "2021-07-19T08:29:22.955Z"
   },
   {
    "duration": 683,
    "start_time": "2021-07-19T08:29:23.503Z"
   },
   {
    "duration": 4,
    "start_time": "2021-07-19T08:29:24.530Z"
   },
   {
    "duration": 6,
    "start_time": "2021-07-19T08:29:24.801Z"
   },
   {
    "duration": 3,
    "start_time": "2021-07-19T08:29:25.801Z"
   },
   {
    "duration": 8,
    "start_time": "2021-07-19T08:29:26.067Z"
   },
   {
    "duration": 8,
    "start_time": "2021-07-19T08:29:26.378Z"
   },
   {
    "duration": 5,
    "start_time": "2021-07-19T08:29:26.646Z"
   },
   {
    "duration": 10,
    "start_time": "2021-07-19T08:29:26.993Z"
   },
   {
    "duration": 324,
    "start_time": "2021-07-19T08:29:27.196Z"
   },
   {
    "duration": 11,
    "start_time": "2021-07-19T08:29:28.036Z"
   },
   {
    "duration": 13,
    "start_time": "2021-07-19T08:29:28.648Z"
   },
   {
    "duration": 78,
    "start_time": "2021-07-19T08:29:29.169Z"
   },
   {
    "duration": 63,
    "start_time": "2021-07-19T08:29:29.750Z"
   },
   {
    "duration": 15,
    "start_time": "2021-07-19T08:29:30.313Z"
   },
   {
    "duration": 26,
    "start_time": "2021-07-19T08:29:30.890Z"
   },
   {
    "duration": 212,
    "start_time": "2021-07-19T08:29:31.460Z"
   },
   {
    "duration": 217,
    "start_time": "2021-07-19T08:29:31.951Z"
   },
   {
    "duration": 12,
    "start_time": "2021-07-19T08:29:32.801Z"
   },
   {
    "duration": 302,
    "start_time": "2021-07-19T08:29:33.134Z"
   },
   {
    "duration": 215,
    "start_time": "2021-07-19T08:29:34.320Z"
   },
   {
    "duration": 215,
    "start_time": "2021-07-19T08:29:34.615Z"
   },
   {
    "duration": 243,
    "start_time": "2021-07-19T08:29:35.173Z"
   },
   {
    "duration": 307,
    "start_time": "2021-07-19T08:30:16.604Z"
   },
   {
    "duration": 251,
    "start_time": "2021-07-19T08:33:51.626Z"
   },
   {
    "duration": 13,
    "start_time": "2021-07-19T08:46:20.646Z"
   },
   {
    "duration": 225,
    "start_time": "2021-07-19T08:48:06.815Z"
   },
   {
    "duration": 223,
    "start_time": "2021-07-19T08:48:38.763Z"
   },
   {
    "duration": 11,
    "start_time": "2021-07-19T08:48:47.128Z"
   },
   {
    "duration": 229,
    "start_time": "2021-07-19T08:49:08.515Z"
   },
   {
    "duration": 5579,
    "start_time": "2021-07-19T08:49:58.237Z"
   },
   {
    "duration": 5861,
    "start_time": "2021-07-19T08:50:11.775Z"
   },
   {
    "duration": 15,
    "start_time": "2021-07-19T08:57:17.116Z"
   },
   {
    "duration": 423,
    "start_time": "2021-07-19T08:57:38.901Z"
   },
   {
    "duration": 5539,
    "start_time": "2021-07-19T08:59:41.552Z"
   },
   {
    "duration": 227,
    "start_time": "2021-07-19T09:00:21.789Z"
   },
   {
    "duration": 1366,
    "start_time": "2021-07-19T09:01:29.709Z"
   },
   {
    "duration": 237,
    "start_time": "2021-07-19T09:01:54.835Z"
   },
   {
    "duration": 220,
    "start_time": "2021-07-19T09:02:04.016Z"
   },
   {
    "duration": 14,
    "start_time": "2021-07-19T09:04:37.449Z"
   },
   {
    "duration": 7,
    "start_time": "2021-07-19T09:04:46.150Z"
   },
   {
    "duration": 15,
    "start_time": "2021-07-19T09:06:22.915Z"
   },
   {
    "duration": 218,
    "start_time": "2021-07-19T09:06:55.645Z"
   },
   {
    "duration": 14,
    "start_time": "2021-07-19T09:19:48.229Z"
   },
   {
    "duration": 414,
    "start_time": "2021-07-19T09:20:46.928Z"
   },
   {
    "duration": 20,
    "start_time": "2021-07-19T09:21:10.956Z"
   },
   {
    "duration": 174,
    "start_time": "2021-07-19T09:21:56.039Z"
   },
   {
    "duration": 89,
    "start_time": "2021-07-19T09:22:35.232Z"
   },
   {
    "duration": 67,
    "start_time": "2021-07-19T09:22:53.451Z"
   },
   {
    "duration": 61,
    "start_time": "2021-07-19T09:23:09.369Z"
   },
   {
    "duration": 71,
    "start_time": "2021-07-19T09:23:32.606Z"
   },
   {
    "duration": 25,
    "start_time": "2021-07-19T09:23:36.288Z"
   },
   {
    "duration": 11,
    "start_time": "2021-07-19T09:24:02.391Z"
   },
   {
    "duration": 21,
    "start_time": "2021-07-19T09:24:15.676Z"
   },
   {
    "duration": 56,
    "start_time": "2021-07-19T09:24:34.156Z"
   },
   {
    "duration": 20,
    "start_time": "2021-07-19T09:24:44.914Z"
   },
   {
    "duration": 11,
    "start_time": "2021-07-19T09:25:04.294Z"
   },
   {
    "duration": 3,
    "start_time": "2021-07-19T09:26:57.232Z"
   },
   {
    "duration": 490,
    "start_time": "2021-07-19T09:26:59.206Z"
   },
   {
    "duration": 49,
    "start_time": "2021-07-19T09:26:59.697Z"
   },
   {
    "duration": 30,
    "start_time": "2021-07-19T09:27:00.402Z"
   },
   {
    "duration": 170,
    "start_time": "2021-07-19T09:27:00.650Z"
   },
   {
    "duration": 45,
    "start_time": "2021-07-19T09:27:01.526Z"
   },
   {
    "duration": 8,
    "start_time": "2021-07-19T09:27:01.799Z"
   },
   {
    "duration": 9,
    "start_time": "2021-07-19T09:27:02.242Z"
   },
   {
    "duration": 16,
    "start_time": "2021-07-19T09:27:02.672Z"
   },
   {
    "duration": 38,
    "start_time": "2021-07-19T09:27:03.375Z"
   },
   {
    "duration": 6,
    "start_time": "2021-07-19T09:27:03.641Z"
   },
   {
    "duration": 8,
    "start_time": "2021-07-19T09:27:04.251Z"
   },
   {
    "duration": 8,
    "start_time": "2021-07-19T09:27:05.711Z"
   },
   {
    "duration": 421,
    "start_time": "2021-07-19T09:27:05.980Z"
   },
   {
    "duration": 11,
    "start_time": "2021-07-19T09:27:06.403Z"
   },
   {
    "duration": 157,
    "start_time": "2021-07-19T09:27:06.707Z"
   },
   {
    "duration": 74,
    "start_time": "2021-07-19T09:27:06.966Z"
   },
   {
    "duration": 69,
    "start_time": "2021-07-19T09:27:07.310Z"
   },
   {
    "duration": 25,
    "start_time": "2021-07-19T09:27:07.824Z"
   },
   {
    "duration": 11,
    "start_time": "2021-07-19T09:27:08.610Z"
   },
   {
    "duration": 21,
    "start_time": "2021-07-19T09:27:09.093Z"
   },
   {
    "duration": 35,
    "start_time": "2021-07-19T09:27:09.699Z"
   },
   {
    "duration": 21,
    "start_time": "2021-07-19T09:27:10.348Z"
   },
   {
    "duration": 11,
    "start_time": "2021-07-19T09:27:11.011Z"
   },
   {
    "duration": 235,
    "start_time": "2021-07-19T09:27:11.665Z"
   },
   {
    "duration": 75,
    "start_time": "2021-07-19T09:27:59.873Z"
   },
   {
    "duration": 365,
    "start_time": "2021-07-19T09:28:13.218Z"
   },
   {
    "duration": 58,
    "start_time": "2021-07-19T09:28:38.897Z"
   },
   {
    "duration": 15,
    "start_time": "2021-07-19T09:29:00.105Z"
   },
   {
    "duration": 13,
    "start_time": "2021-07-19T09:29:14.377Z"
   },
   {
    "duration": 166,
    "start_time": "2021-07-19T09:29:23.619Z"
   },
   {
    "duration": 21,
    "start_time": "2021-07-19T09:29:38.705Z"
   },
   {
    "duration": 807,
    "start_time": "2021-07-19T09:29:57.752Z"
   },
   {
    "duration": 70,
    "start_time": "2021-07-19T09:30:30.756Z"
   },
   {
    "duration": 5796,
    "start_time": "2021-07-19T09:30:47.233Z"
   },
   {
    "duration": 5857,
    "start_time": "2021-07-19T09:33:03.538Z"
   },
   {
    "duration": 14,
    "start_time": "2021-07-19T09:33:22.671Z"
   },
   {
    "duration": 41,
    "start_time": "2021-07-19T09:33:53.761Z"
   },
   {
    "duration": 7,
    "start_time": "2021-07-19T09:34:09.596Z"
   },
   {
    "duration": 7,
    "start_time": "2021-07-19T09:34:28.567Z"
   },
   {
    "duration": 9,
    "start_time": "2021-07-19T09:34:37.359Z"
   },
   {
    "duration": 6,
    "start_time": "2021-07-19T09:35:02.533Z"
   },
   {
    "duration": 8,
    "start_time": "2021-07-19T09:35:40.258Z"
   },
   {
    "duration": 7,
    "start_time": "2021-07-19T09:36:11.685Z"
   },
   {
    "duration": 289,
    "start_time": "2021-07-19T09:36:55.889Z"
   },
   {
    "duration": 48,
    "start_time": "2021-07-19T09:38:39.338Z"
   },
   {
    "duration": 9,
    "start_time": "2021-07-19T09:38:52.165Z"
   },
   {
    "duration": 5406,
    "start_time": "2021-07-19T09:39:08.947Z"
   },
   {
    "duration": 25,
    "start_time": "2021-07-19T09:40:13.257Z"
   },
   {
    "duration": 216,
    "start_time": "2021-07-19T09:40:38.839Z"
   },
   {
    "duration": 11,
    "start_time": "2021-07-19T09:41:27.702Z"
   },
   {
    "duration": 3,
    "start_time": "2021-07-19T09:41:43.303Z"
   },
   {
    "duration": 6,
    "start_time": "2021-07-19T09:41:51.850Z"
   },
   {
    "duration": 6,
    "start_time": "2021-07-19T09:42:00.558Z"
   },
   {
    "duration": 6,
    "start_time": "2021-07-19T09:42:09.372Z"
   },
   {
    "duration": 8,
    "start_time": "2021-07-19T09:42:32.917Z"
   },
   {
    "duration": 10,
    "start_time": "2021-07-19T09:42:56.005Z"
   },
   {
    "duration": 9,
    "start_time": "2021-07-19T09:43:16.703Z"
   },
   {
    "duration": 6,
    "start_time": "2021-07-19T09:43:32.081Z"
   },
   {
    "duration": 10,
    "start_time": "2021-07-19T09:43:48.300Z"
   },
   {
    "duration": 337,
    "start_time": "2021-07-19T09:44:04.637Z"
   },
   {
    "duration": 5,
    "start_time": "2021-07-19T09:47:08.508Z"
   },
   {
    "duration": 3,
    "start_time": "2021-07-19T09:47:23.351Z"
   },
   {
    "duration": 328,
    "start_time": "2021-07-19T09:47:36.705Z"
   },
   {
    "duration": 11284,
    "start_time": "2021-07-19T09:48:56.218Z"
   },
   {
    "duration": 261,
    "start_time": "2021-07-19T09:50:10.457Z"
   },
   {
    "duration": 380,
    "start_time": "2021-07-19T09:50:48.056Z"
   },
   {
    "duration": 8,
    "start_time": "2021-07-19T09:51:09.243Z"
   },
   {
    "duration": 593,
    "start_time": "2021-07-19T09:52:48.644Z"
   },
   {
    "duration": 3,
    "start_time": "2021-07-19T09:54:30.293Z"
   },
   {
    "duration": 474,
    "start_time": "2021-07-19T09:54:30.859Z"
   },
   {
    "duration": 60,
    "start_time": "2021-07-19T09:54:31.334Z"
   },
   {
    "duration": 28,
    "start_time": "2021-07-19T09:54:31.584Z"
   },
   {
    "duration": 164,
    "start_time": "2021-07-19T09:54:32.496Z"
   },
   {
    "duration": 46,
    "start_time": "2021-07-19T09:54:33.348Z"
   },
   {
    "duration": 7,
    "start_time": "2021-07-19T09:54:33.606Z"
   },
   {
    "duration": 9,
    "start_time": "2021-07-19T09:54:34.023Z"
   },
   {
    "duration": 17,
    "start_time": "2021-07-19T09:54:34.278Z"
   },
   {
    "duration": 38,
    "start_time": "2021-07-19T09:54:35.038Z"
   },
   {
    "duration": 6,
    "start_time": "2021-07-19T09:54:35.882Z"
   },
   {
    "duration": 8,
    "start_time": "2021-07-19T09:54:36.313Z"
   },
   {
    "duration": 8,
    "start_time": "2021-07-19T09:54:37.581Z"
   },
   {
    "duration": 418,
    "start_time": "2021-07-19T09:54:37.867Z"
   },
   {
    "duration": 13,
    "start_time": "2021-07-19T09:54:38.287Z"
   },
   {
    "duration": 156,
    "start_time": "2021-07-19T09:54:38.920Z"
   },
   {
    "duration": 74,
    "start_time": "2021-07-19T09:54:39.191Z"
   },
   {
    "duration": 76,
    "start_time": "2021-07-19T09:54:39.464Z"
   },
   {
    "duration": 26,
    "start_time": "2021-07-19T09:54:39.990Z"
   },
   {
    "duration": 12,
    "start_time": "2021-07-19T09:54:40.633Z"
   },
   {
    "duration": 20,
    "start_time": "2021-07-19T09:54:40.881Z"
   },
   {
    "duration": 32,
    "start_time": "2021-07-19T09:54:41.167Z"
   },
   {
    "duration": 23,
    "start_time": "2021-07-19T09:54:41.389Z"
   },
   {
    "duration": 11,
    "start_time": "2021-07-19T09:54:42.337Z"
   },
   {
    "duration": 235,
    "start_time": "2021-07-19T09:54:42.604Z"
   },
   {
    "duration": 77,
    "start_time": "2021-07-19T09:54:43.730Z"
   },
   {
    "duration": 367,
    "start_time": "2021-07-19T09:54:44.290Z"
   },
   {
    "duration": 59,
    "start_time": "2021-07-19T09:54:44.926Z"
   },
   {
    "duration": 15,
    "start_time": "2021-07-19T09:54:45.140Z"
   },
   {
    "duration": 13,
    "start_time": "2021-07-19T09:54:45.404Z"
   },
   {
    "duration": 171,
    "start_time": "2021-07-19T09:54:45.762Z"
   },
   {
    "duration": 20,
    "start_time": "2021-07-19T09:54:46.031Z"
   },
   {
    "duration": 738,
    "start_time": "2021-07-19T09:54:46.553Z"
   },
   {
    "duration": 7,
    "start_time": "2021-07-19T09:54:47.985Z"
   },
   {
    "duration": 14,
    "start_time": "2021-07-19T09:54:48.243Z"
   },
   {
    "duration": 69,
    "start_time": "2021-07-19T09:54:48.591Z"
   },
   {
    "duration": 13,
    "start_time": "2021-07-19T09:54:48.954Z"
   },
   {
    "duration": 43,
    "start_time": "2021-07-19T09:54:49.337Z"
   },
   {
    "duration": 8,
    "start_time": "2021-07-19T09:54:49.684Z"
   },
   {
    "duration": 7,
    "start_time": "2021-07-19T09:54:50.099Z"
   },
   {
    "duration": 9,
    "start_time": "2021-07-19T09:54:50.379Z"
   },
   {
    "duration": 6,
    "start_time": "2021-07-19T09:54:50.839Z"
   },
   {
    "duration": 48,
    "start_time": "2021-07-19T09:54:51.241Z"
   },
   {
    "duration": 8,
    "start_time": "2021-07-19T09:54:51.564Z"
   },
   {
    "duration": 7,
    "start_time": "2021-07-19T09:54:51.964Z"
   },
   {
    "duration": 246,
    "start_time": "2021-07-19T09:54:52.385Z"
   },
   {
    "duration": 38,
    "start_time": "2021-07-19T09:54:53.964Z"
   },
   {
    "duration": 9,
    "start_time": "2021-07-19T09:54:54.430Z"
   },
   {
    "duration": 27,
    "start_time": "2021-07-19T09:54:54.819Z"
   },
   {
    "duration": 12,
    "start_time": "2021-07-19T09:54:55.128Z"
   },
   {
    "duration": 4,
    "start_time": "2021-07-19T09:54:55.381Z"
   },
   {
    "duration": 6,
    "start_time": "2021-07-19T09:54:55.660Z"
   },
   {
    "duration": 6,
    "start_time": "2021-07-19T09:54:55.919Z"
   },
   {
    "duration": 6,
    "start_time": "2021-07-19T09:54:56.197Z"
   },
   {
    "duration": 8,
    "start_time": "2021-07-19T09:54:56.860Z"
   },
   {
    "duration": 9,
    "start_time": "2021-07-19T09:54:57.634Z"
   },
   {
    "duration": 10,
    "start_time": "2021-07-19T09:54:57.960Z"
   },
   {
    "duration": 6,
    "start_time": "2021-07-19T09:54:58.578Z"
   },
   {
    "duration": 3,
    "start_time": "2021-07-19T09:54:59.611Z"
   },
   {
    "duration": 333,
    "start_time": "2021-07-19T09:55:00.536Z"
   },
   {
    "duration": 6,
    "start_time": "2021-07-19T09:55:01.199Z"
   },
   {
    "duration": 12,
    "start_time": "2021-07-19T09:55:04.179Z"
   },
   {
    "duration": 9196,
    "start_time": "2021-07-19T09:55:07.629Z"
   },
   {
    "duration": 10744,
    "start_time": "2021-07-19T09:55:33.811Z"
   },
   {
    "duration": 311,
    "start_time": "2021-07-19T09:55:50.515Z"
   },
   {
    "duration": 324,
    "start_time": "2021-07-19T09:56:13.480Z"
   },
   {
    "duration": 3,
    "start_time": "2021-07-19T09:58:31.403Z"
   },
   {
    "duration": 8874,
    "start_time": "2021-07-19T09:58:32.667Z"
   },
   {
    "duration": 1588,
    "start_time": "2021-07-19T09:59:30.203Z"
   },
   {
    "duration": -20679,
    "start_time": "2021-07-19T09:59:52.472Z"
   },
   {
    "duration": 296,
    "start_time": "2021-07-19T10:06:47.842Z"
   },
   {
    "duration": 3,
    "start_time": "2021-07-19T10:06:59.787Z"
   },
   {
    "duration": 482,
    "start_time": "2021-07-19T10:07:00.339Z"
   },
   {
    "duration": 49,
    "start_time": "2021-07-19T10:07:00.823Z"
   },
   {
    "duration": 29,
    "start_time": "2021-07-19T10:07:00.893Z"
   },
   {
    "duration": 161,
    "start_time": "2021-07-19T10:07:01.101Z"
   },
   {
    "duration": 45,
    "start_time": "2021-07-19T10:07:01.692Z"
   },
   {
    "duration": 8,
    "start_time": "2021-07-19T10:07:03.103Z"
   },
   {
    "duration": 10,
    "start_time": "2021-07-19T10:07:04.002Z"
   },
   {
    "duration": 15,
    "start_time": "2021-07-19T10:07:04.495Z"
   },
   {
    "duration": 39,
    "start_time": "2021-07-19T10:07:05.552Z"
   },
   {
    "duration": 6,
    "start_time": "2021-07-19T10:07:05.813Z"
   },
   {
    "duration": 7,
    "start_time": "2021-07-19T10:07:06.319Z"
   },
   {
    "duration": 8,
    "start_time": "2021-07-19T10:07:07.406Z"
   },
   {
    "duration": 408,
    "start_time": "2021-07-19T10:07:07.622Z"
   },
   {
    "duration": 11,
    "start_time": "2021-07-19T10:07:08.032Z"
   },
   {
    "duration": 161,
    "start_time": "2021-07-19T10:07:08.264Z"
   },
   {
    "duration": 72,
    "start_time": "2021-07-19T10:07:08.477Z"
   },
   {
    "duration": 69,
    "start_time": "2021-07-19T10:07:08.673Z"
   },
   {
    "duration": 24,
    "start_time": "2021-07-19T10:07:09.081Z"
   },
   {
    "duration": 10,
    "start_time": "2021-07-19T10:07:09.469Z"
   },
   {
    "duration": 20,
    "start_time": "2021-07-19T10:07:09.675Z"
   },
   {
    "duration": 37,
    "start_time": "2021-07-19T10:07:09.899Z"
   },
   {
    "duration": 21,
    "start_time": "2021-07-19T10:07:10.121Z"
   },
   {
    "duration": 10,
    "start_time": "2021-07-19T10:07:10.561Z"
   },
   {
    "duration": 244,
    "start_time": "2021-07-19T10:07:10.773Z"
   },
   {
    "duration": 75,
    "start_time": "2021-07-19T10:07:11.693Z"
   },
   {
    "duration": 371,
    "start_time": "2021-07-19T10:07:12.143Z"
   },
   {
    "duration": 59,
    "start_time": "2021-07-19T10:07:12.593Z"
   },
   {
    "duration": 14,
    "start_time": "2021-07-19T10:07:12.828Z"
   },
   {
    "duration": 12,
    "start_time": "2021-07-19T10:07:13.047Z"
   },
   {
    "duration": 170,
    "start_time": "2021-07-19T10:07:13.258Z"
   },
   {
    "duration": 22,
    "start_time": "2021-07-19T10:07:13.502Z"
   },
   {
    "duration": 733,
    "start_time": "2021-07-19T10:07:13.930Z"
   },
   {
    "duration": 8,
    "start_time": "2021-07-19T10:07:15.206Z"
   },
   {
    "duration": 14,
    "start_time": "2021-07-19T10:07:15.489Z"
   },
   {
    "duration": 67,
    "start_time": "2021-07-19T10:07:15.748Z"
   },
   {
    "duration": 14,
    "start_time": "2021-07-19T10:07:16.028Z"
   },
   {
    "duration": 38,
    "start_time": "2021-07-19T10:07:16.312Z"
   },
   {
    "duration": 7,
    "start_time": "2021-07-19T10:07:16.578Z"
   },
   {
    "duration": 7,
    "start_time": "2021-07-19T10:07:16.783Z"
   },
   {
    "duration": 9,
    "start_time": "2021-07-19T10:07:17.012Z"
   },
   {
    "duration": 6,
    "start_time": "2021-07-19T10:07:17.265Z"
   },
   {
    "duration": 46,
    "start_time": "2021-07-19T10:07:17.533Z"
   },
   {
    "duration": 8,
    "start_time": "2021-07-19T10:07:17.807Z"
   },
   {
    "duration": 9,
    "start_time": "2021-07-19T10:07:18.087Z"
   },
   {
    "duration": 335,
    "start_time": "2021-07-19T10:07:18.334Z"
   },
   {
    "duration": 42,
    "start_time": "2021-07-19T10:07:19.176Z"
   },
   {
    "duration": 9,
    "start_time": "2021-07-19T10:07:19.489Z"
   },
   {
    "duration": 27,
    "start_time": "2021-07-19T10:07:19.817Z"
   },
   {
    "duration": 14,
    "start_time": "2021-07-19T10:07:20.272Z"
   },
   {
    "duration": 3,
    "start_time": "2021-07-19T10:07:20.720Z"
   },
   {
    "duration": 6,
    "start_time": "2021-07-19T10:07:21.242Z"
   },
   {
    "duration": 6,
    "start_time": "2021-07-19T10:07:21.610Z"
   },
   {
    "duration": 5,
    "start_time": "2021-07-19T10:07:21.985Z"
   },
   {
    "duration": 8,
    "start_time": "2021-07-19T10:07:22.750Z"
   },
   {
    "duration": 9,
    "start_time": "2021-07-19T10:07:23.535Z"
   },
   {
    "duration": 10,
    "start_time": "2021-07-19T10:07:23.927Z"
   },
   {
    "duration": 5,
    "start_time": "2021-07-19T10:07:24.241Z"
   },
   {
    "duration": 2,
    "start_time": "2021-07-19T10:07:24.605Z"
   },
   {
    "duration": 332,
    "start_time": "2021-07-19T10:07:25.002Z"
   },
   {
    "duration": 6,
    "start_time": "2021-07-19T10:07:25.472Z"
   },
   {
    "duration": 13,
    "start_time": "2021-07-19T10:07:26.890Z"
   },
   {
    "duration": 8,
    "start_time": "2021-07-19T10:07:27.564Z"
   },
   {
    "duration": 4,
    "start_time": "2021-07-19T10:08:08.291Z"
   },
   {
    "duration": 68,
    "start_time": "2021-07-19T10:08:23.626Z"
   },
   {
    "duration": 744,
    "start_time": "2021-07-19T10:08:32.830Z"
   },
   {
    "duration": 185,
    "start_time": "2021-07-19T10:08:40.656Z"
   },
   {
    "duration": 71,
    "start_time": "2021-07-19T10:08:49.692Z"
   },
   {
    "duration": 99,
    "start_time": "2021-07-19T10:08:59.293Z"
   },
   {
    "duration": 21,
    "start_time": "2021-07-19T10:09:13.180Z"
   },
   {
    "duration": 325,
    "start_time": "2021-07-19T10:09:22.253Z"
   },
   {
    "duration": 597,
    "start_time": "2021-07-19T10:11:29.908Z"
   },
   {
    "duration": 5,
    "start_time": "2021-07-19T10:11:43.274Z"
   },
   {
    "duration": 418,
    "start_time": "2021-07-19T10:12:01.785Z"
   },
   {
    "duration": 300,
    "start_time": "2021-07-19T10:15:41.047Z"
   },
   {
    "duration": 1049,
    "start_time": "2021-07-19T10:15:53.481Z"
   },
   {
    "duration": 519,
    "start_time": "2021-07-19T10:15:54.532Z"
   },
   {
    "duration": 63,
    "start_time": "2021-07-19T10:15:55.054Z"
   },
   {
    "duration": 40,
    "start_time": "2021-07-19T10:15:55.119Z"
   },
   {
    "duration": 202,
    "start_time": "2021-07-19T10:15:55.160Z"
   },
   {
    "duration": 46,
    "start_time": "2021-07-19T10:15:55.363Z"
   },
   {
    "duration": 6,
    "start_time": "2021-07-19T10:15:55.411Z"
   },
   {
    "duration": 9,
    "start_time": "2021-07-19T10:15:55.419Z"
   },
   {
    "duration": 14,
    "start_time": "2021-07-19T10:15:55.429Z"
   },
   {
    "duration": 38,
    "start_time": "2021-07-19T10:15:55.444Z"
   },
   {
    "duration": 9,
    "start_time": "2021-07-19T10:15:55.484Z"
   },
   {
    "duration": 7,
    "start_time": "2021-07-19T10:15:55.495Z"
   },
   {
    "duration": 320,
    "start_time": "2021-07-19T10:15:55.503Z"
   },
   {
    "duration": 141,
    "start_time": "2021-07-19T10:16:07.291Z"
   },
   {
    "duration": 235,
    "start_time": "2021-07-19T10:16:30.705Z"
   },
   {
    "duration": 19,
    "start_time": "2021-07-19T10:17:56.340Z"
   },
   {
    "duration": 18,
    "start_time": "2021-07-19T10:18:17.073Z"
   },
   {
    "duration": 6,
    "start_time": "2021-07-19T10:18:32.200Z"
   },
   {
    "duration": 155,
    "start_time": "2021-07-19T10:19:08.428Z"
   },
   {
    "duration": 255,
    "start_time": "2021-07-19T10:20:00.508Z"
   },
   {
    "duration": 622,
    "start_time": "2021-07-19T10:21:14.402Z"
   },
   {
    "duration": 665,
    "start_time": "2021-07-19T10:21:36.551Z"
   },
   {
    "duration": 258,
    "start_time": "2021-07-19T10:22:32.243Z"
   },
   {
    "duration": 17,
    "start_time": "2021-07-19T10:24:41.137Z"
   },
   {
    "duration": 5,
    "start_time": "2021-07-19T10:24:54.774Z"
   },
   {
    "duration": 261,
    "start_time": "2021-07-19T10:26:10.998Z"
   },
   {
    "duration": 2,
    "start_time": "2021-07-19T10:28:25.204Z"
   },
   {
    "duration": 92,
    "start_time": "2021-07-19T10:28:55.185Z"
   },
   {
    "duration": 7388,
    "start_time": "2021-07-19T10:29:13.729Z"
   },
   {
    "duration": 3,
    "start_time": "2021-07-19T10:29:55.488Z"
   },
   {
    "duration": 514,
    "start_time": "2021-07-19T10:29:56.729Z"
   },
   {
    "duration": 63,
    "start_time": "2021-07-19T10:29:57.245Z"
   },
   {
    "duration": 28,
    "start_time": "2021-07-19T10:29:57.663Z"
   },
   {
    "duration": 156,
    "start_time": "2021-07-19T10:29:57.900Z"
   },
   {
    "duration": 46,
    "start_time": "2021-07-19T10:29:58.547Z"
   },
   {
    "duration": 8,
    "start_time": "2021-07-19T10:29:58.754Z"
   },
   {
    "duration": 11,
    "start_time": "2021-07-19T10:29:59.164Z"
   },
   {
    "duration": 15,
    "start_time": "2021-07-19T10:29:59.366Z"
   },
   {
    "duration": 38,
    "start_time": "2021-07-19T10:29:59.993Z"
   },
   {
    "duration": 6,
    "start_time": "2021-07-19T10:30:00.195Z"
   },
   {
    "duration": 8,
    "start_time": "2021-07-19T10:30:00.623Z"
   },
   {
    "duration": 299,
    "start_time": "2021-07-19T10:30:01.714Z"
   },
   {
    "duration": 141,
    "start_time": "2021-07-19T10:30:02.014Z"
   },
   {
    "duration": 229,
    "start_time": "2021-07-19T10:30:02.424Z"
   },
   {
    "duration": 14,
    "start_time": "2021-07-19T10:30:02.916Z"
   },
   {
    "duration": 18,
    "start_time": "2021-07-19T10:30:03.397Z"
   },
   {
    "duration": 6,
    "start_time": "2021-07-19T10:30:03.905Z"
   },
   {
    "duration": 261,
    "start_time": "2021-07-19T10:30:04.154Z"
   },
   {
    "duration": 82,
    "start_time": "2021-07-19T10:30:05.747Z"
   },
   {
    "duration": 7840,
    "start_time": "2021-07-19T10:30:06.937Z"
   },
   {
    "duration": 9489,
    "start_time": "2021-07-19T10:30:56.341Z"
   },
   {
    "duration": 19,
    "start_time": "2021-07-19T10:34:00.199Z"
   },
   {
    "duration": 36,
    "start_time": "2021-07-19T10:34:58.363Z"
   },
   {
    "duration": 6543,
    "start_time": "2021-07-19T10:35:01.979Z"
   },
   {
    "duration": 34,
    "start_time": "2021-07-19T10:37:39.047Z"
   },
   {
    "duration": 28,
    "start_time": "2021-07-19T10:37:47.327Z"
   },
   {
    "duration": 30,
    "start_time": "2021-07-19T10:38:14.032Z"
   },
   {
    "duration": 5,
    "start_time": "2021-07-19T10:38:23.541Z"
   },
   {
    "duration": 7,
    "start_time": "2021-07-19T10:38:46.724Z"
   },
   {
    "duration": 87,
    "start_time": "2021-07-19T10:39:10.607Z"
   },
   {
    "duration": 8,
    "start_time": "2021-07-19T10:39:27.132Z"
   },
   {
    "duration": 8,
    "start_time": "2021-07-19T10:39:36.056Z"
   },
   {
    "duration": 2,
    "start_time": "2021-07-19T10:39:46.565Z"
   },
   {
    "duration": 6,
    "start_time": "2021-07-19T10:39:58.570Z"
   },
   {
    "duration": 7,
    "start_time": "2021-07-19T10:40:15.795Z"
   },
   {
    "duration": 7,
    "start_time": "2021-07-19T10:40:22.118Z"
   },
   {
    "duration": 2,
    "start_time": "2021-07-19T10:41:03.887Z"
   },
   {
    "duration": 3,
    "start_time": "2021-07-19T10:41:40.300Z"
   },
   {
    "duration": 303,
    "start_time": "2021-07-19T10:41:54.885Z"
   },
   {
    "duration": 129,
    "start_time": "2021-07-19T10:42:02.712Z"
   },
   {
    "duration": 239,
    "start_time": "2021-07-19T10:42:24.932Z"
   },
   {
    "duration": 13,
    "start_time": "2021-07-19T10:42:46.129Z"
   },
   {
    "duration": 19,
    "start_time": "2021-07-19T10:43:04.434Z"
   },
   {
    "duration": 19,
    "start_time": "2021-07-19T10:43:11.735Z"
   },
   {
    "duration": 255,
    "start_time": "2021-07-19T10:43:48.565Z"
   },
   {
    "duration": 264,
    "start_time": "2021-07-19T10:44:39.343Z"
   },
   {
    "duration": 7,
    "start_time": "2021-07-19T10:45:54.167Z"
   },
   {
    "duration": 2,
    "start_time": "2021-07-19T10:46:32.849Z"
   },
   {
    "duration": 72,
    "start_time": "2021-07-19T10:46:54.335Z"
   },
   {
    "duration": 66,
    "start_time": "2021-07-19T10:47:14.281Z"
   },
   {
    "duration": 70,
    "start_time": "2021-07-19T10:47:31.838Z"
   },
   {
    "duration": 26,
    "start_time": "2021-07-19T10:47:55.499Z"
   },
   {
    "duration": 290,
    "start_time": "2021-07-19T10:48:22.910Z"
   },
   {
    "duration": 667,
    "start_time": "2021-07-19T10:48:53.617Z"
   },
   {
    "duration": 714,
    "start_time": "2021-07-19T10:49:22.063Z"
   },
   {
    "duration": 68,
    "start_time": "2021-07-19T10:51:34.642Z"
   },
   {
    "duration": 46,
    "start_time": "2021-07-19T10:51:42.275Z"
   },
   {
    "duration": 78,
    "start_time": "2021-07-19T10:51:54.064Z"
   },
   {
    "duration": 13,
    "start_time": "2021-07-19T10:52:03.967Z"
   },
   {
    "duration": 252,
    "start_time": "2021-07-19T10:52:44.078Z"
   },
   {
    "duration": 219,
    "start_time": "2021-07-19T10:53:48.697Z"
   },
   {
    "duration": 238,
    "start_time": "2021-07-19T10:54:01.329Z"
   },
   {
    "duration": 230,
    "start_time": "2021-07-19T10:54:15.031Z"
   },
   {
    "duration": 6,
    "start_time": "2021-07-19T10:54:32.438Z"
   },
   {
    "duration": 32,
    "start_time": "2021-07-19T10:55:42.660Z"
   },
   {
    "duration": 621,
    "start_time": "2021-07-19T10:55:52.835Z"
   },
   {
    "duration": 812,
    "start_time": "2021-07-19T10:56:30.162Z"
   },
   {
    "duration": 269,
    "start_time": "2021-07-19T10:57:39.518Z"
   },
   {
    "duration": 269,
    "start_time": "2021-07-19T10:59:12.422Z"
   },
   {
    "duration": 11,
    "start_time": "2021-07-19T10:59:55.434Z"
   },
   {
    "duration": 7,
    "start_time": "2021-07-19T11:00:05.079Z"
   },
   {
    "duration": 155,
    "start_time": "2021-07-19T11:00:16.987Z"
   },
   {
    "duration": 677,
    "start_time": "2021-07-19T11:00:25.404Z"
   },
   {
    "duration": 44,
    "start_time": "2021-07-19T11:00:44.190Z"
   },
   {
    "duration": 77,
    "start_time": "2021-07-19T11:00:55.302Z"
   },
   {
    "duration": 6,
    "start_time": "2021-07-19T11:01:07.831Z"
   },
   {
    "duration": 4,
    "start_time": "2021-07-19T11:02:45.183Z"
   },
   {
    "duration": 18,
    "start_time": "2021-07-19T11:03:06.090Z"
   },
   {
    "duration": 12,
    "start_time": "2021-07-19T11:03:26.881Z"
   },
   {
    "duration": 15,
    "start_time": "2021-07-19T11:03:50.019Z"
   },
   {
    "duration": 12,
    "start_time": "2021-07-19T11:04:09.712Z"
   },
   {
    "duration": 12,
    "start_time": "2021-07-19T11:04:38.737Z"
   },
   {
    "duration": 14,
    "start_time": "2021-07-19T11:05:18.943Z"
   },
   {
    "duration": 830,
    "start_time": "2021-07-19T11:05:48.641Z"
   },
   {
    "duration": 2,
    "start_time": "2021-07-19T11:06:29.593Z"
   },
   {
    "duration": 9,
    "start_time": "2021-07-19T11:06:55.164Z"
   },
   {
    "duration": 4,
    "start_time": "2021-07-19T11:07:20.278Z"
   },
   {
    "duration": 10,
    "start_time": "2021-07-19T11:07:47.877Z"
   },
   {
    "duration": 214,
    "start_time": "2021-07-19T11:08:26.300Z"
   },
   {
    "duration": 217,
    "start_time": "2021-07-19T11:09:27.816Z"
   },
   {
    "duration": 217,
    "start_time": "2021-07-19T11:09:46.966Z"
   },
   {
    "duration": 234,
    "start_time": "2021-07-19T11:10:02.552Z"
   },
   {
    "duration": 581,
    "start_time": "2021-07-19T11:10:36.113Z"
   },
   {
    "duration": 223,
    "start_time": "2021-07-19T11:10:45.635Z"
   },
   {
    "duration": 226,
    "start_time": "2021-07-19T11:15:13.590Z"
   },
   {
    "duration": 317,
    "start_time": "2021-07-19T11:16:08.085Z"
   },
   {
    "duration": 233,
    "start_time": "2021-07-19T11:16:18.787Z"
   },
   {
    "duration": 221,
    "start_time": "2021-07-19T11:16:28.580Z"
   },
   {
    "duration": 301,
    "start_time": "2021-07-19T11:16:50.766Z"
   },
   {
    "duration": 225,
    "start_time": "2021-07-19T11:17:10.943Z"
   },
   {
    "duration": 10,
    "start_time": "2021-07-19T11:19:19.250Z"
   },
   {
    "duration": 11,
    "start_time": "2021-07-19T11:19:25.053Z"
   },
   {
    "duration": 10,
    "start_time": "2021-07-19T11:19:33.987Z"
   },
   {
    "duration": 764,
    "start_time": "2021-07-19T11:20:11.127Z"
   },
   {
    "duration": 10,
    "start_time": "2021-07-19T11:21:35.179Z"
   },
   {
    "duration": 260,
    "start_time": "2021-07-19T11:21:45.212Z"
   },
   {
    "duration": 270,
    "start_time": "2021-07-19T11:22:44.069Z"
   },
   {
    "duration": 8,
    "start_time": "2021-07-19T11:23:43.878Z"
   },
   {
    "duration": 13,
    "start_time": "2021-07-19T11:23:58.514Z"
   },
   {
    "duration": 81,
    "start_time": "2021-07-19T11:24:18.143Z"
   },
   {
    "duration": 32,
    "start_time": "2021-07-19T11:24:35.682Z"
   },
   {
    "duration": 14,
    "start_time": "2021-07-19T11:24:53.626Z"
   },
   {
    "duration": 71,
    "start_time": "2021-07-19T11:25:02.619Z"
   },
   {
    "duration": 16,
    "start_time": "2021-07-19T11:25:15.509Z"
   },
   {
    "duration": 215,
    "start_time": "2021-07-19T11:25:43.232Z"
   },
   {
    "duration": 215,
    "start_time": "2021-07-19T11:26:05.176Z"
   },
   {
    "duration": 369,
    "start_time": "2021-07-19T11:26:26.283Z"
   },
   {
    "duration": 218,
    "start_time": "2021-07-19T11:26:40.063Z"
   },
   {
    "duration": 17,
    "start_time": "2021-07-19T11:27:29.024Z"
   },
   {
    "duration": 695,
    "start_time": "2021-07-19T11:27:36.533Z"
   },
   {
    "duration": 4,
    "start_time": "2021-07-19T11:27:52.555Z"
   },
   {
    "duration": 249,
    "start_time": "2021-07-19T11:28:10.059Z"
   },
   {
    "duration": 2,
    "start_time": "2021-07-19T11:28:59.192Z"
   },
   {
    "duration": 3,
    "start_time": "2021-07-19T11:31:45.515Z"
   },
   {
    "duration": 1076,
    "start_time": "2021-07-19T11:31:57.463Z"
   },
   {
    "duration": 299,
    "start_time": "2021-07-19T11:31:58.541Z"
   },
   {
    "duration": 395,
    "start_time": "2021-07-19T11:31:58.448Z"
   },
   {
    "duration": 392,
    "start_time": "2021-07-19T11:31:58.452Z"
   },
   {
    "duration": 390,
    "start_time": "2021-07-19T11:31:58.455Z"
   },
   {
    "duration": 386,
    "start_time": "2021-07-19T11:31:58.459Z"
   },
   {
    "duration": 386,
    "start_time": "2021-07-19T11:31:58.460Z"
   },
   {
    "duration": 385,
    "start_time": "2021-07-19T11:31:58.462Z"
   },
   {
    "duration": 384,
    "start_time": "2021-07-19T11:31:58.464Z"
   },
   {
    "duration": 383,
    "start_time": "2021-07-19T11:31:58.466Z"
   },
   {
    "duration": 383,
    "start_time": "2021-07-19T11:31:58.467Z"
   },
   {
    "duration": 381,
    "start_time": "2021-07-19T11:31:58.469Z"
   },
   {
    "duration": 380,
    "start_time": "2021-07-19T11:31:58.471Z"
   },
   {
    "duration": 379,
    "start_time": "2021-07-19T11:31:58.473Z"
   },
   {
    "duration": 379,
    "start_time": "2021-07-19T11:31:58.474Z"
   },
   {
    "duration": 378,
    "start_time": "2021-07-19T11:31:58.476Z"
   },
   {
    "duration": 377,
    "start_time": "2021-07-19T11:31:58.478Z"
   },
   {
    "duration": 376,
    "start_time": "2021-07-19T11:31:58.480Z"
   },
   {
    "duration": 376,
    "start_time": "2021-07-19T11:31:58.481Z"
   },
   {
    "duration": 374,
    "start_time": "2021-07-19T11:31:58.484Z"
   },
   {
    "duration": 373,
    "start_time": "2021-07-19T11:31:58.485Z"
   },
   {
    "duration": 372,
    "start_time": "2021-07-19T11:31:58.487Z"
   },
   {
    "duration": 371,
    "start_time": "2021-07-19T11:31:58.489Z"
   },
   {
    "duration": 370,
    "start_time": "2021-07-19T11:31:58.491Z"
   },
   {
    "duration": 370,
    "start_time": "2021-07-19T11:31:58.492Z"
   },
   {
    "duration": 368,
    "start_time": "2021-07-19T11:31:58.494Z"
   },
   {
    "duration": 367,
    "start_time": "2021-07-19T11:31:58.496Z"
   },
   {
    "duration": 367,
    "start_time": "2021-07-19T11:31:58.497Z"
   },
   {
    "duration": 365,
    "start_time": "2021-07-19T11:31:58.499Z"
   },
   {
    "duration": 364,
    "start_time": "2021-07-19T11:31:58.501Z"
   },
   {
    "duration": 359,
    "start_time": "2021-07-19T11:31:58.507Z"
   },
   {
    "duration": 357,
    "start_time": "2021-07-19T11:31:58.509Z"
   },
   {
    "duration": 356,
    "start_time": "2021-07-19T11:31:58.511Z"
   },
   {
    "duration": 356,
    "start_time": "2021-07-19T11:31:58.512Z"
   },
   {
    "duration": 355,
    "start_time": "2021-07-19T11:31:58.514Z"
   },
   {
    "duration": 353,
    "start_time": "2021-07-19T11:31:58.516Z"
   },
   {
    "duration": 353,
    "start_time": "2021-07-19T11:31:58.517Z"
   },
   {
    "duration": 355,
    "start_time": "2021-07-19T11:31:58.519Z"
   },
   {
    "duration": 354,
    "start_time": "2021-07-19T11:31:58.521Z"
   },
   {
    "duration": 353,
    "start_time": "2021-07-19T11:31:58.523Z"
   },
   {
    "duration": 354,
    "start_time": "2021-07-19T11:31:58.524Z"
   },
   {
    "duration": 353,
    "start_time": "2021-07-19T11:31:58.526Z"
   },
   {
    "duration": 352,
    "start_time": "2021-07-19T11:31:58.528Z"
   },
   {
    "duration": 352,
    "start_time": "2021-07-19T11:31:58.529Z"
   },
   {
    "duration": 351,
    "start_time": "2021-07-19T11:31:58.531Z"
   },
   {
    "duration": 358,
    "start_time": "2021-07-19T11:31:58.533Z"
   },
   {
    "duration": 357,
    "start_time": "2021-07-19T11:31:58.535Z"
   },
   {
    "duration": 356,
    "start_time": "2021-07-19T11:31:58.537Z"
   },
   {
    "duration": 356,
    "start_time": "2021-07-19T11:31:58.538Z"
   },
   {
    "duration": 356,
    "start_time": "2021-07-19T11:31:58.540Z"
   },
   {
    "duration": 355,
    "start_time": "2021-07-19T11:31:58.542Z"
   },
   {
    "duration": 355,
    "start_time": "2021-07-19T11:31:58.544Z"
   },
   {
    "duration": 355,
    "start_time": "2021-07-19T11:31:58.545Z"
   },
   {
    "duration": 354,
    "start_time": "2021-07-19T11:31:58.547Z"
   },
   {
    "duration": 354,
    "start_time": "2021-07-19T11:31:58.548Z"
   },
   {
    "duration": 350,
    "start_time": "2021-07-19T11:31:58.554Z"
   },
   {
    "duration": 349,
    "start_time": "2021-07-19T11:31:58.556Z"
   },
   {
    "duration": 348,
    "start_time": "2021-07-19T11:31:58.558Z"
   },
   {
    "duration": 348,
    "start_time": "2021-07-19T11:31:58.560Z"
   },
   {
    "duration": 348,
    "start_time": "2021-07-19T11:31:58.561Z"
   },
   {
    "duration": 347,
    "start_time": "2021-07-19T11:31:58.563Z"
   },
   {
    "duration": 346,
    "start_time": "2021-07-19T11:31:58.565Z"
   },
   {
    "duration": 347,
    "start_time": "2021-07-19T11:31:58.566Z"
   },
   {
    "duration": 346,
    "start_time": "2021-07-19T11:31:58.568Z"
   },
   {
    "duration": 3,
    "start_time": "2021-07-19T11:35:48.512Z"
   },
   {
    "duration": 3,
    "start_time": "2021-07-19T11:35:53.752Z"
   },
   {
    "duration": 233,
    "start_time": "2021-07-19T11:35:55.678Z"
   },
   {
    "duration": 218,
    "start_time": "2021-07-19T11:35:56.190Z"
   },
   {
    "duration": 2,
    "start_time": "2021-07-19T11:36:28.102Z"
   },
   {
    "duration": 1004,
    "start_time": "2021-07-19T11:36:39.716Z"
   },
   {
    "duration": 574,
    "start_time": "2021-07-19T11:36:40.722Z"
   },
   {
    "duration": 68,
    "start_time": "2021-07-19T11:36:41.298Z"
   },
   {
    "duration": 50,
    "start_time": "2021-07-19T11:36:41.368Z"
   },
   {
    "duration": 176,
    "start_time": "2021-07-19T11:36:41.420Z"
   },
   {
    "duration": 4,
    "start_time": "2021-07-19T11:36:41.597Z"
   },
   {
    "duration": 14,
    "start_time": "2021-07-19T11:36:41.603Z"
   },
   {
    "duration": 9,
    "start_time": "2021-07-19T11:36:41.619Z"
   },
   {
    "duration": 15,
    "start_time": "2021-07-19T11:36:41.630Z"
   },
   {
    "duration": 11,
    "start_time": "2021-07-19T11:36:41.647Z"
   },
   {
    "duration": 9,
    "start_time": "2021-07-19T11:36:41.660Z"
   },
   {
    "duration": 7,
    "start_time": "2021-07-19T11:36:41.691Z"
   },
   {
    "duration": 12,
    "start_time": "2021-07-19T11:36:41.699Z"
   },
   {
    "duration": 307,
    "start_time": "2021-07-19T11:36:41.712Z"
   },
   {
    "duration": 154,
    "start_time": "2021-07-19T11:36:42.020Z"
   },
   {
    "duration": 239,
    "start_time": "2021-07-19T11:36:42.176Z"
   },
   {
    "duration": 13,
    "start_time": "2021-07-19T11:36:42.417Z"
   },
   {
    "duration": 16,
    "start_time": "2021-07-19T11:36:42.432Z"
   },
   {
    "duration": 5,
    "start_time": "2021-07-19T11:36:42.450Z"
   },
   {
    "duration": 289,
    "start_time": "2021-07-19T11:36:42.457Z"
   },
   {
    "duration": 90,
    "start_time": "2021-07-19T11:36:42.748Z"
   },
   {
    "duration": 75,
    "start_time": "2021-07-19T11:36:42.839Z"
   },
   {
    "duration": 77,
    "start_time": "2021-07-19T11:36:42.918Z"
   },
   {
    "duration": 24,
    "start_time": "2021-07-19T11:36:42.997Z"
   },
   {
    "duration": 310,
    "start_time": "2021-07-19T11:36:43.023Z"
   },
   {
    "duration": 783,
    "start_time": "2021-07-19T11:36:43.335Z"
   },
   {
    "duration": 80,
    "start_time": "2021-07-19T11:36:44.120Z"
   },
   {
    "duration": 45,
    "start_time": "2021-07-19T11:36:44.202Z"
   },
   {
    "duration": 11,
    "start_time": "2021-07-19T11:36:44.249Z"
   },
   {
    "duration": 248,
    "start_time": "2021-07-19T11:36:44.261Z"
   },
   {
    "duration": 5,
    "start_time": "2021-07-19T11:36:44.510Z"
   },
   {
    "duration": 38,
    "start_time": "2021-07-19T11:36:44.517Z"
   },
   {
    "duration": 634,
    "start_time": "2021-07-19T11:36:44.557Z"
   },
   {
    "duration": 341,
    "start_time": "2021-07-19T11:36:45.193Z"
   },
   {
    "duration": 9,
    "start_time": "2021-07-19T11:36:45.535Z"
   },
   {
    "duration": 5,
    "start_time": "2021-07-19T11:36:45.546Z"
   },
   {
    "duration": 177,
    "start_time": "2021-07-19T11:36:45.553Z"
   },
   {
    "duration": 678,
    "start_time": "2021-07-19T11:36:45.732Z"
   },
   {
    "duration": 43,
    "start_time": "2021-07-19T11:36:46.411Z"
   },
   {
    "duration": 5,
    "start_time": "2021-07-19T11:36:46.455Z"
   },
   {
    "duration": 5,
    "start_time": "2021-07-19T11:36:46.462Z"
   },
   {
    "duration": 34,
    "start_time": "2021-07-19T11:36:46.468Z"
   },
   {
    "duration": 10,
    "start_time": "2021-07-19T11:36:46.503Z"
   },
   {
    "duration": 14,
    "start_time": "2021-07-19T11:36:46.515Z"
   },
   {
    "duration": 10,
    "start_time": "2021-07-19T11:36:46.530Z"
   },
   {
    "duration": 12,
    "start_time": "2021-07-19T11:36:46.541Z"
   },
   {
    "duration": 715,
    "start_time": "2021-07-19T11:36:46.554Z"
   },
   {
    "duration": 9,
    "start_time": "2021-07-19T11:36:47.270Z"
   },
   {
    "duration": 11,
    "start_time": "2021-07-19T11:36:47.281Z"
   },
   {
    "duration": 10,
    "start_time": "2021-07-19T11:36:47.293Z"
   },
   {
    "duration": 764,
    "start_time": "2021-07-19T11:36:47.305Z"
   },
   {
    "duration": 24,
    "start_time": "2021-07-19T11:36:48.070Z"
   },
   {
    "duration": 371,
    "start_time": "2021-07-19T11:36:48.096Z"
   },
   {
    "duration": 7,
    "start_time": "2021-07-19T11:36:48.469Z"
   },
   {
    "duration": 23,
    "start_time": "2021-07-19T11:36:48.477Z"
   },
   {
    "duration": 95,
    "start_time": "2021-07-19T11:36:48.501Z"
   },
   {
    "duration": 43,
    "start_time": "2021-07-19T11:36:48.597Z"
   },
   {
    "duration": 162,
    "start_time": "2021-07-19T11:36:48.642Z"
   },
   {
    "duration": 13,
    "start_time": "2021-07-19T11:36:48.806Z"
   },
   {
    "duration": 310,
    "start_time": "2021-07-19T11:36:48.821Z"
   },
   {
    "duration": 247,
    "start_time": "2021-07-19T11:36:49.134Z"
   },
   {
    "duration": 22,
    "start_time": "2021-07-19T11:36:49.382Z"
   },
   {
    "duration": 699,
    "start_time": "2021-07-19T11:36:49.406Z"
   },
   {
    "duration": 4,
    "start_time": "2021-07-19T11:36:50.106Z"
   },
   {
    "duration": 264,
    "start_time": "2021-07-19T11:36:50.112Z"
   },
   {
    "duration": 1638,
    "start_time": "2021-07-19T16:22:38.265Z"
   },
   {
    "duration": 802,
    "start_time": "2021-07-19T16:22:39.906Z"
   },
   {
    "duration": 62,
    "start_time": "2021-07-19T16:22:40.711Z"
   },
   {
    "duration": 53,
    "start_time": "2021-07-19T16:22:40.776Z"
   },
   {
    "duration": 280,
    "start_time": "2021-07-19T16:22:40.832Z"
   },
   {
    "duration": 8,
    "start_time": "2021-07-19T16:22:41.115Z"
   },
   {
    "duration": 37,
    "start_time": "2021-07-19T16:22:41.125Z"
   },
   {
    "duration": 17,
    "start_time": "2021-07-19T16:22:41.164Z"
   },
   {
    "duration": 26,
    "start_time": "2021-07-19T16:22:41.187Z"
   },
   {
    "duration": 48,
    "start_time": "2021-07-19T16:22:41.216Z"
   },
   {
    "duration": 11,
    "start_time": "2021-07-19T16:22:41.267Z"
   },
   {
    "duration": 12,
    "start_time": "2021-07-19T16:22:41.280Z"
   },
   {
    "duration": 16,
    "start_time": "2021-07-19T16:22:41.294Z"
   },
   {
    "duration": 513,
    "start_time": "2021-07-19T16:22:41.312Z"
   },
   {
    "duration": 221,
    "start_time": "2021-07-19T16:22:41.827Z"
   },
   {
    "duration": 336,
    "start_time": "2021-07-19T16:22:42.051Z"
   },
   {
    "duration": 23,
    "start_time": "2021-07-19T16:22:42.389Z"
   },
   {
    "duration": 51,
    "start_time": "2021-07-19T16:22:42.415Z"
   },
   {
    "duration": 11,
    "start_time": "2021-07-19T16:22:42.468Z"
   },
   {
    "duration": 629,
    "start_time": "2021-07-19T16:22:42.482Z"
   },
   {
    "duration": 149,
    "start_time": "2021-07-19T16:22:43.113Z"
   },
   {
    "duration": 132,
    "start_time": "2021-07-19T16:22:43.264Z"
   },
   {
    "duration": 117,
    "start_time": "2021-07-19T16:22:43.399Z"
   },
   {
    "duration": 49,
    "start_time": "2021-07-19T16:22:43.519Z"
   },
   {
    "duration": 437,
    "start_time": "2021-07-19T16:22:43.571Z"
   },
   {
    "duration": 1697,
    "start_time": "2021-07-19T16:22:44.011Z"
   },
   {
    "duration": 130,
    "start_time": "2021-07-19T16:22:45.714Z"
   },
   {
    "duration": 102,
    "start_time": "2021-07-19T16:22:45.848Z"
   },
   {
    "duration": 17,
    "start_time": "2021-07-19T16:22:45.962Z"
   },
   {
    "duration": 451,
    "start_time": "2021-07-19T16:22:45.982Z"
   },
   {
    "duration": 8,
    "start_time": "2021-07-19T16:22:46.436Z"
   },
   {
    "duration": 49,
    "start_time": "2021-07-19T16:22:46.462Z"
   },
   {
    "duration": 1253,
    "start_time": "2021-07-19T16:22:46.513Z"
   },
   {
    "duration": 597,
    "start_time": "2021-07-19T16:22:47.769Z"
   },
   {
    "duration": 14,
    "start_time": "2021-07-19T16:22:48.368Z"
   },
   {
    "duration": 10,
    "start_time": "2021-07-19T16:22:48.385Z"
   },
   {
    "duration": 326,
    "start_time": "2021-07-19T16:22:48.397Z"
   },
   {
    "duration": 1185,
    "start_time": "2021-07-19T16:22:48.726Z"
   },
   {
    "duration": 89,
    "start_time": "2021-07-19T16:22:49.914Z"
   },
   {
    "duration": 7,
    "start_time": "2021-07-19T16:22:50.006Z"
   },
   {
    "duration": 15,
    "start_time": "2021-07-19T16:22:50.015Z"
   },
   {
    "duration": 49,
    "start_time": "2021-07-19T16:22:50.032Z"
   },
   {
    "duration": 19,
    "start_time": "2021-07-19T16:22:50.083Z"
   },
   {
    "duration": 24,
    "start_time": "2021-07-19T16:22:50.104Z"
   },
   {
    "duration": 45,
    "start_time": "2021-07-19T16:22:50.131Z"
   },
   {
    "duration": 23,
    "start_time": "2021-07-19T16:22:50.178Z"
   },
   {
    "duration": 1258,
    "start_time": "2021-07-19T16:22:50.203Z"
   },
   {
    "duration": 14,
    "start_time": "2021-07-19T16:22:51.463Z"
   },
   {
    "duration": 14,
    "start_time": "2021-07-19T16:22:51.480Z"
   },
   {
    "duration": 20,
    "start_time": "2021-07-19T16:22:51.497Z"
   },
   {
    "duration": 18157,
    "start_time": "2021-07-19T16:22:51.519Z"
   },
   {
    "duration": 16,
    "start_time": "2021-07-19T16:23:09.679Z"
   },
   {
    "duration": 634,
    "start_time": "2021-07-19T16:23:09.697Z"
   },
   {
    "duration": 9,
    "start_time": "2021-07-19T16:23:10.334Z"
   },
   {
    "duration": 31,
    "start_time": "2021-07-19T16:23:10.345Z"
   },
   {
    "duration": 170,
    "start_time": "2021-07-19T16:23:10.379Z"
   },
   {
    "duration": 49,
    "start_time": "2021-07-19T16:23:10.551Z"
   },
   {
    "duration": 137,
    "start_time": "2021-07-19T16:23:10.602Z"
   },
   {
    "duration": 35,
    "start_time": "2021-07-19T16:23:10.741Z"
   },
   {
    "duration": 533,
    "start_time": "2021-07-19T16:23:10.779Z"
   },
   {
    "duration": 461,
    "start_time": "2021-07-19T16:23:11.314Z"
   },
   {
    "duration": 27,
    "start_time": "2021-07-19T16:23:11.777Z"
   },
   {
    "duration": 1265,
    "start_time": "2021-07-19T16:23:11.807Z"
   },
   {
    "duration": 5,
    "start_time": "2021-07-19T16:23:13.074Z"
   },
   {
    "duration": 475,
    "start_time": "2021-07-19T16:23:13.082Z"
   },
   {
    "duration": 1210,
    "start_time": "2021-07-19T18:46:57.034Z"
   },
   {
    "duration": 603,
    "start_time": "2021-07-19T18:46:58.246Z"
   },
   {
    "duration": 53,
    "start_time": "2021-07-19T18:46:58.852Z"
   },
   {
    "duration": 51,
    "start_time": "2021-07-19T18:46:58.907Z"
   },
   {
    "duration": 186,
    "start_time": "2021-07-19T18:46:58.960Z"
   },
   {
    "duration": 6,
    "start_time": "2021-07-19T18:46:59.148Z"
   },
   {
    "duration": 9,
    "start_time": "2021-07-19T18:46:59.156Z"
   },
   {
    "duration": 11,
    "start_time": "2021-07-19T18:46:59.168Z"
   },
   {
    "duration": 17,
    "start_time": "2021-07-19T18:46:59.182Z"
   },
   {
    "duration": 46,
    "start_time": "2021-07-19T18:46:59.201Z"
   },
   {
    "duration": 8,
    "start_time": "2021-07-19T18:46:59.249Z"
   },
   {
    "duration": 12,
    "start_time": "2021-07-19T18:46:59.259Z"
   },
   {
    "duration": 8,
    "start_time": "2021-07-19T18:46:59.273Z"
   },
   {
    "duration": 353,
    "start_time": "2021-07-19T18:46:59.282Z"
   },
   {
    "duration": 151,
    "start_time": "2021-07-19T18:46:59.636Z"
   },
   {
    "duration": 365,
    "start_time": "2021-07-19T18:46:59.788Z"
   },
   {
    "duration": 13,
    "start_time": "2021-07-19T18:47:00.155Z"
   },
   {
    "duration": 17,
    "start_time": "2021-07-19T18:47:00.169Z"
   },
   {
    "duration": 7,
    "start_time": "2021-07-19T18:47:00.187Z"
   },
   {
    "duration": 348,
    "start_time": "2021-07-19T18:47:00.196Z"
   },
   {
    "duration": 81,
    "start_time": "2021-07-19T18:47:00.545Z"
   },
   {
    "duration": 80,
    "start_time": "2021-07-19T18:47:00.628Z"
   },
   {
    "duration": 82,
    "start_time": "2021-07-19T18:47:00.711Z"
   },
   {
    "duration": 25,
    "start_time": "2021-07-19T18:47:00.795Z"
   },
   {
    "duration": 311,
    "start_time": "2021-07-19T18:47:00.822Z"
   },
   {
    "duration": 728,
    "start_time": "2021-07-19T18:47:01.135Z"
   },
   {
    "duration": 76,
    "start_time": "2021-07-19T18:47:01.865Z"
   },
   {
    "duration": 45,
    "start_time": "2021-07-19T18:47:01.943Z"
   },
   {
    "duration": 11,
    "start_time": "2021-07-19T18:47:01.990Z"
   },
   {
    "duration": 259,
    "start_time": "2021-07-19T18:47:02.003Z"
   },
   {
    "duration": 5,
    "start_time": "2021-07-19T18:47:02.264Z"
   },
   {
    "duration": 31,
    "start_time": "2021-07-19T18:47:02.270Z"
   },
   {
    "duration": 643,
    "start_time": "2021-07-19T18:47:02.302Z"
   },
   {
    "duration": 351,
    "start_time": "2021-07-19T18:47:02.947Z"
   },
   {
    "duration": 9,
    "start_time": "2021-07-19T18:47:03.300Z"
   },
   {
    "duration": 6,
    "start_time": "2021-07-19T18:47:03.310Z"
   },
   {
    "duration": 184,
    "start_time": "2021-07-19T18:47:03.318Z"
   },
   {
    "duration": 740,
    "start_time": "2021-07-19T18:47:03.503Z"
   },
   {
    "duration": 44,
    "start_time": "2021-07-19T18:47:04.245Z"
   },
   {
    "duration": 4,
    "start_time": "2021-07-19T18:47:04.291Z"
   },
   {
    "duration": 5,
    "start_time": "2021-07-19T18:47:04.297Z"
   },
   {
    "duration": 40,
    "start_time": "2021-07-19T18:47:04.304Z"
   },
   {
    "duration": 13,
    "start_time": "2021-07-19T18:47:04.346Z"
   },
   {
    "duration": 17,
    "start_time": "2021-07-19T18:47:04.360Z"
   },
   {
    "duration": 11,
    "start_time": "2021-07-19T18:47:04.378Z"
   },
   {
    "duration": 15,
    "start_time": "2021-07-19T18:47:04.390Z"
   },
   {
    "duration": 735,
    "start_time": "2021-07-19T18:47:04.406Z"
   },
   {
    "duration": 9,
    "start_time": "2021-07-19T18:47:05.142Z"
   },
   {
    "duration": 5,
    "start_time": "2021-07-19T18:47:05.153Z"
   },
   {
    "duration": 10,
    "start_time": "2021-07-19T18:47:05.160Z"
   },
   {
    "duration": 17670,
    "start_time": "2021-07-19T18:47:05.172Z"
   },
   {
    "duration": 11,
    "start_time": "2021-07-19T18:47:22.843Z"
   },
   {
    "duration": 317,
    "start_time": "2021-07-19T18:47:22.856Z"
   },
   {
    "duration": 7,
    "start_time": "2021-07-19T18:47:23.174Z"
   },
   {
    "duration": 17,
    "start_time": "2021-07-19T18:47:23.182Z"
   },
   {
    "duration": 87,
    "start_time": "2021-07-19T18:47:23.201Z"
   },
   {
    "duration": 32,
    "start_time": "2021-07-19T18:47:23.290Z"
   },
   {
    "duration": 106,
    "start_time": "2021-07-19T18:47:23.324Z"
   },
   {
    "duration": 18,
    "start_time": "2021-07-19T18:47:23.431Z"
   },
   {
    "duration": 297,
    "start_time": "2021-07-19T18:47:23.450Z"
   },
   {
    "duration": 295,
    "start_time": "2021-07-19T18:47:23.748Z"
   },
   {
    "duration": 16,
    "start_time": "2021-07-19T18:47:24.045Z"
   },
   {
    "duration": 840,
    "start_time": "2021-07-19T18:47:24.062Z"
   },
   {
    "duration": 3,
    "start_time": "2021-07-19T18:47:24.904Z"
   },
   {
    "duration": 256,
    "start_time": "2021-07-19T18:47:24.909Z"
   },
   {
    "duration": 20,
    "start_time": "2021-07-19T19:34:41.898Z"
   },
   {
    "duration": 161,
    "start_time": "2021-07-19T19:35:14.603Z"
   },
   {
    "duration": 1188,
    "start_time": "2021-07-20T10:02:12.973Z"
   },
   {
    "duration": 688,
    "start_time": "2021-07-20T10:02:14.163Z"
   },
   {
    "duration": 64,
    "start_time": "2021-07-20T10:02:14.853Z"
   },
   {
    "duration": 41,
    "start_time": "2021-07-20T10:02:14.919Z"
   },
   {
    "duration": 240,
    "start_time": "2021-07-20T10:02:14.962Z"
   },
   {
    "duration": 8,
    "start_time": "2021-07-20T10:02:15.205Z"
   },
   {
    "duration": 9,
    "start_time": "2021-07-20T10:02:15.215Z"
   },
   {
    "duration": 10,
    "start_time": "2021-07-20T10:02:15.226Z"
   },
   {
    "duration": 47,
    "start_time": "2021-07-20T10:02:15.238Z"
   },
   {
    "duration": 7,
    "start_time": "2021-07-20T10:02:15.288Z"
   },
   {
    "duration": 13,
    "start_time": "2021-07-20T10:02:15.297Z"
   },
   {
    "duration": 8,
    "start_time": "2021-07-20T10:02:15.312Z"
   },
   {
    "duration": 8,
    "start_time": "2021-07-20T10:02:15.322Z"
   },
   {
    "duration": 355,
    "start_time": "2021-07-20T10:02:15.332Z"
   },
   {
    "duration": 157,
    "start_time": "2021-07-20T10:02:15.689Z"
   },
   {
    "duration": 265,
    "start_time": "2021-07-20T10:02:15.847Z"
   },
   {
    "duration": 14,
    "start_time": "2021-07-20T10:02:16.114Z"
   },
   {
    "duration": 17,
    "start_time": "2021-07-20T10:02:16.130Z"
   },
   {
    "duration": 6,
    "start_time": "2021-07-20T10:02:16.149Z"
   },
   {
    "duration": 356,
    "start_time": "2021-07-20T10:02:16.157Z"
   },
   {
    "duration": 94,
    "start_time": "2021-07-20T10:02:16.514Z"
   },
   {
    "duration": 93,
    "start_time": "2021-07-20T10:02:16.610Z"
   },
   {
    "duration": 85,
    "start_time": "2021-07-20T10:02:16.708Z"
   },
   {
    "duration": 30,
    "start_time": "2021-07-20T10:02:16.796Z"
   },
   {
    "duration": 363,
    "start_time": "2021-07-20T10:02:16.828Z"
   },
   {
    "duration": 899,
    "start_time": "2021-07-20T10:02:17.193Z"
   },
   {
    "duration": 79,
    "start_time": "2021-07-20T10:02:18.096Z"
   },
   {
    "duration": 59,
    "start_time": "2021-07-20T10:02:18.184Z"
   },
   {
    "duration": 15,
    "start_time": "2021-07-20T10:02:18.244Z"
   },
   {
    "duration": 305,
    "start_time": "2021-07-20T10:02:18.260Z"
   },
   {
    "duration": 6,
    "start_time": "2021-07-20T10:02:18.567Z"
   },
   {
    "duration": 11,
    "start_time": "2021-07-20T10:02:18.585Z"
   },
   {
    "duration": 35,
    "start_time": "2021-07-20T10:02:18.598Z"
   },
   {
    "duration": 827,
    "start_time": "2021-07-20T10:02:18.634Z"
   },
   {
    "duration": 428,
    "start_time": "2021-07-20T10:02:19.463Z"
   },
   {
    "duration": 12,
    "start_time": "2021-07-20T10:02:19.893Z"
   },
   {
    "duration": 11,
    "start_time": "2021-07-20T10:02:19.907Z"
   },
   {
    "duration": 187,
    "start_time": "2021-07-20T10:02:19.919Z"
   },
   {
    "duration": 783,
    "start_time": "2021-07-20T10:02:20.108Z"
   },
   {
    "duration": 55,
    "start_time": "2021-07-20T10:02:20.893Z"
   },
   {
    "duration": 5,
    "start_time": "2021-07-20T10:02:20.950Z"
   },
   {
    "duration": 28,
    "start_time": "2021-07-20T10:02:20.957Z"
   },
   {
    "duration": 27,
    "start_time": "2021-07-20T10:02:20.989Z"
   },
   {
    "duration": 13,
    "start_time": "2021-07-20T10:02:21.017Z"
   },
   {
    "duration": 19,
    "start_time": "2021-07-20T10:02:21.032Z"
   },
   {
    "duration": 36,
    "start_time": "2021-07-20T10:02:21.053Z"
   },
   {
    "duration": 27,
    "start_time": "2021-07-20T10:02:21.092Z"
   },
   {
    "duration": 846,
    "start_time": "2021-07-20T10:02:21.121Z"
   },
   {
    "duration": 17,
    "start_time": "2021-07-20T10:02:21.969Z"
   },
   {
    "duration": 5,
    "start_time": "2021-07-20T10:02:21.988Z"
   },
   {
    "duration": 18,
    "start_time": "2021-07-20T10:02:21.995Z"
   },
   {
    "duration": 883,
    "start_time": "2021-07-20T10:02:22.015Z"
   },
   {
    "duration": 18,
    "start_time": "2021-07-20T10:02:22.900Z"
   },
   {
    "duration": 544,
    "start_time": "2021-07-20T10:02:22.920Z"
   },
   {
    "duration": 7,
    "start_time": "2021-07-20T10:02:23.466Z"
   },
   {
    "duration": 28,
    "start_time": "2021-07-20T10:02:23.485Z"
   },
   {
    "duration": 110,
    "start_time": "2021-07-20T10:02:23.514Z"
   },
   {
    "duration": 32,
    "start_time": "2021-07-20T10:02:23.626Z"
   },
   {
    "duration": 141,
    "start_time": "2021-07-20T10:02:23.659Z"
   },
   {
    "duration": 21,
    "start_time": "2021-07-20T10:02:23.801Z"
   },
   {
    "duration": 309,
    "start_time": "2021-07-20T10:02:23.823Z"
   },
   {
    "duration": 320,
    "start_time": "2021-07-20T10:02:24.134Z"
   },
   {
    "duration": 30,
    "start_time": "2021-07-20T10:02:24.455Z"
   },
   {
    "duration": 842,
    "start_time": "2021-07-20T10:02:24.488Z"
   },
   {
    "duration": 4,
    "start_time": "2021-07-20T10:02:25.332Z"
   },
   {
    "duration": 276,
    "start_time": "2021-07-20T10:02:25.337Z"
   },
   {
    "duration": 15,
    "start_time": "2021-07-20T10:06:59.382Z"
   },
   {
    "duration": 57,
    "start_time": "2021-07-20T10:15:54.053Z"
   },
   {
    "duration": 68,
    "start_time": "2021-07-20T10:21:41.464Z"
   },
   {
    "duration": 57,
    "start_time": "2021-07-20T10:21:46.571Z"
   },
   {
    "duration": 61,
    "start_time": "2021-07-20T10:27:45.855Z"
   },
   {
    "duration": 62,
    "start_time": "2021-07-20T10:28:09.208Z"
   },
   {
    "duration": 22,
    "start_time": "2021-07-20T10:28:18.407Z"
   },
   {
    "duration": 19,
    "start_time": "2021-07-20T10:29:11.137Z"
   },
   {
    "duration": 378,
    "start_time": "2021-07-20T10:29:43.813Z"
   },
   {
    "duration": 26,
    "start_time": "2021-07-20T10:30:17.668Z"
   },
   {
    "duration": 190,
    "start_time": "2021-07-20T10:31:56.126Z"
   },
   {
    "duration": 46,
    "start_time": "2021-07-20T10:32:00.760Z"
   },
   {
    "duration": 60,
    "start_time": "2021-07-20T10:32:52.093Z"
   },
   {
    "duration": 195,
    "start_time": "2021-07-20T10:32:59.141Z"
   },
   {
    "duration": 27,
    "start_time": "2021-07-20T10:33:21.283Z"
   },
   {
    "duration": 194,
    "start_time": "2021-07-20T10:34:03.023Z"
   },
   {
    "duration": 23,
    "start_time": "2021-07-20T10:34:14.092Z"
   },
   {
    "duration": 36,
    "start_time": "2021-07-20T10:35:07.205Z"
   },
   {
    "duration": 1080,
    "start_time": "2021-07-20T10:35:18.155Z"
   },
   {
    "duration": 16,
    "start_time": "2021-07-20T10:35:27.361Z"
   },
   {
    "duration": 46,
    "start_time": "2021-07-20T10:35:30.933Z"
   },
   {
    "duration": 75,
    "start_time": "2021-07-20T10:35:39.943Z"
   },
   {
    "duration": 22,
    "start_time": "2021-07-20T10:35:48.022Z"
   },
   {
    "duration": 20,
    "start_time": "2021-07-20T10:36:02.332Z"
   },
   {
    "duration": 34,
    "start_time": "2021-07-20T10:36:07.702Z"
   },
   {
    "duration": 35,
    "start_time": "2021-07-20T10:37:00.504Z"
   },
   {
    "duration": 187,
    "start_time": "2021-07-20T10:44:51.214Z"
   },
   {
    "duration": 199,
    "start_time": "2021-07-20T10:44:59.614Z"
   },
   {
    "duration": 184,
    "start_time": "2021-07-20T10:47:48.971Z"
   },
   {
    "duration": 24,
    "start_time": "2021-07-20T10:51:15.505Z"
   },
   {
    "duration": 185,
    "start_time": "2021-07-20T10:51:48.592Z"
   },
   {
    "duration": 212,
    "start_time": "2021-07-20T10:51:56.503Z"
   },
   {
    "duration": 181,
    "start_time": "2021-07-20T10:58:53.472Z"
   },
   {
    "duration": 1085,
    "start_time": "2021-07-20T10:59:49.156Z"
   },
   {
    "duration": 633,
    "start_time": "2021-07-20T10:59:50.243Z"
   },
   {
    "duration": 63,
    "start_time": "2021-07-20T10:59:50.878Z"
   },
   {
    "duration": 58,
    "start_time": "2021-07-20T10:59:50.943Z"
   },
   {
    "duration": 201,
    "start_time": "2021-07-20T10:59:51.004Z"
   },
   {
    "duration": 5,
    "start_time": "2021-07-20T10:59:51.206Z"
   },
   {
    "duration": 8,
    "start_time": "2021-07-20T10:59:51.213Z"
   },
   {
    "duration": 9,
    "start_time": "2021-07-20T10:59:51.224Z"
   },
   {
    "duration": 16,
    "start_time": "2021-07-20T10:59:51.235Z"
   },
   {
    "duration": 40,
    "start_time": "2021-07-20T10:59:51.252Z"
   },
   {
    "duration": 7,
    "start_time": "2021-07-20T10:59:51.294Z"
   },
   {
    "duration": 10,
    "start_time": "2021-07-20T10:59:51.303Z"
   },
   {
    "duration": 9,
    "start_time": "2021-07-20T10:59:51.315Z"
   },
   {
    "duration": 355,
    "start_time": "2021-07-20T10:59:51.326Z"
   },
   {
    "duration": 165,
    "start_time": "2021-07-20T10:59:51.685Z"
   },
   {
    "duration": 271,
    "start_time": "2021-07-20T10:59:51.851Z"
   },
   {
    "duration": 14,
    "start_time": "2021-07-20T10:59:52.124Z"
   },
   {
    "duration": 18,
    "start_time": "2021-07-20T10:59:52.140Z"
   },
   {
    "duration": 26,
    "start_time": "2021-07-20T10:59:52.159Z"
   },
   {
    "duration": 342,
    "start_time": "2021-07-20T10:59:52.188Z"
   },
   {
    "duration": 100,
    "start_time": "2021-07-20T10:59:52.533Z"
   },
   {
    "duration": 96,
    "start_time": "2021-07-20T10:59:52.635Z"
   },
   {
    "duration": 95,
    "start_time": "2021-07-20T10:59:52.735Z"
   },
   {
    "duration": 25,
    "start_time": "2021-07-20T10:59:52.833Z"
   },
   {
    "duration": 350,
    "start_time": "2021-07-20T10:59:52.860Z"
   },
   {
    "duration": 818,
    "start_time": "2021-07-20T10:59:53.212Z"
   },
   {
    "duration": 85,
    "start_time": "2021-07-20T10:59:54.032Z"
   },
   {
    "duration": 45,
    "start_time": "2021-07-20T10:59:54.119Z"
   },
   {
    "duration": 34,
    "start_time": "2021-07-20T10:59:54.166Z"
   },
   {
    "duration": 313,
    "start_time": "2021-07-20T10:59:54.202Z"
   },
   {
    "duration": 7,
    "start_time": "2021-07-20T10:59:54.517Z"
   },
   {
    "duration": 10,
    "start_time": "2021-07-20T10:59:54.526Z"
   },
   {
    "duration": 68,
    "start_time": "2021-07-20T10:59:54.538Z"
   },
   {
    "duration": 751,
    "start_time": "2021-07-20T10:59:54.608Z"
   },
   {
    "duration": 408,
    "start_time": "2021-07-20T10:59:55.360Z"
   },
   {
    "duration": 24,
    "start_time": "2021-07-20T10:59:55.769Z"
   },
   {
    "duration": 10,
    "start_time": "2021-07-20T10:59:55.795Z"
   },
   {
    "duration": 189,
    "start_time": "2021-07-20T10:59:55.806Z"
   },
   {
    "duration": 842,
    "start_time": "2021-07-20T10:59:55.997Z"
   },
   {
    "duration": 62,
    "start_time": "2021-07-20T10:59:56.841Z"
   },
   {
    "duration": 19,
    "start_time": "2021-07-20T10:59:56.905Z"
   },
   {
    "duration": 31,
    "start_time": "2021-07-20T10:59:56.925Z"
   },
   {
    "duration": 4504,
    "start_time": "2021-07-20T10:59:56.958Z"
   },
   {
    "duration": -17,
    "start_time": "2021-07-20T11:00:01.481Z"
   },
   {
    "duration": -19,
    "start_time": "2021-07-20T11:00:01.484Z"
   },
   {
    "duration": -22,
    "start_time": "2021-07-20T11:00:01.488Z"
   },
   {
    "duration": -23,
    "start_time": "2021-07-20T11:00:01.490Z"
   },
   {
    "duration": -26,
    "start_time": "2021-07-20T11:00:01.493Z"
   },
   {
    "duration": -27,
    "start_time": "2021-07-20T11:00:01.495Z"
   },
   {
    "duration": -29,
    "start_time": "2021-07-20T11:00:01.498Z"
   },
   {
    "duration": -30,
    "start_time": "2021-07-20T11:00:01.500Z"
   },
   {
    "duration": -32,
    "start_time": "2021-07-20T11:00:01.503Z"
   },
   {
    "duration": -33,
    "start_time": "2021-07-20T11:00:01.505Z"
   },
   {
    "duration": -35,
    "start_time": "2021-07-20T11:00:01.508Z"
   },
   {
    "duration": -36,
    "start_time": "2021-07-20T11:00:01.510Z"
   },
   {
    "duration": -38,
    "start_time": "2021-07-20T11:00:01.513Z"
   },
   {
    "duration": -39,
    "start_time": "2021-07-20T11:00:01.515Z"
   },
   {
    "duration": -41,
    "start_time": "2021-07-20T11:00:01.518Z"
   },
   {
    "duration": -43,
    "start_time": "2021-07-20T11:00:01.520Z"
   },
   {
    "duration": -44,
    "start_time": "2021-07-20T11:00:01.522Z"
   },
   {
    "duration": -45,
    "start_time": "2021-07-20T11:00:01.524Z"
   },
   {
    "duration": -50,
    "start_time": "2021-07-20T11:00:01.530Z"
   },
   {
    "duration": -51,
    "start_time": "2021-07-20T11:00:01.532Z"
   },
   {
    "duration": -52,
    "start_time": "2021-07-20T11:00:01.534Z"
   },
   {
    "duration": -53,
    "start_time": "2021-07-20T11:00:01.536Z"
   },
   {
    "duration": -54,
    "start_time": "2021-07-20T11:00:01.538Z"
   },
   {
    "duration": -55,
    "start_time": "2021-07-20T11:00:01.540Z"
   },
   {
    "duration": -55,
    "start_time": "2021-07-20T11:00:01.542Z"
   },
   {
    "duration": -52,
    "start_time": "2021-07-20T11:00:01.544Z"
   },
   {
    "duration": 178,
    "start_time": "2021-07-20T11:01:49.249Z"
   },
   {
    "duration": 4,
    "start_time": "2021-07-20T11:01:54.869Z"
   },
   {
    "duration": 3,
    "start_time": "2021-07-20T11:02:05.980Z"
   },
   {
    "duration": 632,
    "start_time": "2021-07-20T11:02:06.178Z"
   },
   {
    "duration": 51,
    "start_time": "2021-07-20T11:02:06.811Z"
   },
   {
    "duration": 29,
    "start_time": "2021-07-20T11:02:06.939Z"
   },
   {
    "duration": 185,
    "start_time": "2021-07-20T11:02:07.352Z"
   },
   {
    "duration": 5,
    "start_time": "2021-07-20T11:02:07.544Z"
   },
   {
    "duration": 8,
    "start_time": "2021-07-20T11:02:07.934Z"
   },
   {
    "duration": 12,
    "start_time": "2021-07-20T11:02:08.337Z"
   },
   {
    "duration": 16,
    "start_time": "2021-07-20T11:02:08.714Z"
   },
   {
    "duration": 10,
    "start_time": "2021-07-20T11:02:08.896Z"
   },
   {
    "duration": 9,
    "start_time": "2021-07-20T11:02:09.280Z"
   },
   {
    "duration": 9,
    "start_time": "2021-07-20T11:02:09.658Z"
   },
   {
    "duration": 8,
    "start_time": "2021-07-20T11:02:09.850Z"
   },
   {
    "duration": 336,
    "start_time": "2021-07-20T11:02:10.840Z"
   },
   {
    "duration": 161,
    "start_time": "2021-07-20T11:02:11.255Z"
   },
   {
    "duration": 267,
    "start_time": "2021-07-20T11:02:11.656Z"
   },
   {
    "duration": 17,
    "start_time": "2021-07-20T11:02:12.309Z"
   },
   {
    "duration": 19,
    "start_time": "2021-07-20T11:02:12.746Z"
   },
   {
    "duration": 8,
    "start_time": "2021-07-20T11:02:13.351Z"
   },
   {
    "duration": 437,
    "start_time": "2021-07-20T11:02:13.572Z"
   },
   {
    "duration": 88,
    "start_time": "2021-07-20T11:02:14.858Z"
   },
   {
    "duration": 65,
    "start_time": "2021-07-20T11:02:15.295Z"
   },
   {
    "duration": 77,
    "start_time": "2021-07-20T11:02:15.706Z"
   },
   {
    "duration": 24,
    "start_time": "2021-07-20T11:02:16.114Z"
   },
   {
    "duration": 354,
    "start_time": "2021-07-20T11:02:16.557Z"
   },
   {
    "duration": 812,
    "start_time": "2021-07-20T11:02:17.006Z"
   },
   {
    "duration": 70,
    "start_time": "2021-07-20T11:02:20.110Z"
   },
   {
    "duration": 57,
    "start_time": "2021-07-20T11:02:20.337Z"
   },
   {
    "duration": 14,
    "start_time": "2021-07-20T11:02:20.779Z"
   },
   {
    "duration": 280,
    "start_time": "2021-07-20T11:02:20.990Z"
   },
   {
    "duration": 20,
    "start_time": "2021-07-20T11:02:21.273Z"
   },
   {
    "duration": 10,
    "start_time": "2021-07-20T11:02:21.666Z"
   },
   {
    "duration": 41,
    "start_time": "2021-07-20T11:02:23.292Z"
   },
   {
    "duration": 782,
    "start_time": "2021-07-20T11:02:23.520Z"
   },
   {
    "duration": 370,
    "start_time": "2021-07-20T11:02:24.304Z"
   },
   {
    "duration": 12,
    "start_time": "2021-07-20T11:02:25.193Z"
   },
   {
    "duration": 9,
    "start_time": "2021-07-20T11:02:25.656Z"
   },
   {
    "duration": 265,
    "start_time": "2021-07-20T11:02:25.879Z"
   },
   {
    "duration": 859,
    "start_time": "2021-07-20T11:02:26.146Z"
   },
   {
    "duration": 49,
    "start_time": "2021-07-20T11:02:27.008Z"
   },
   {
    "duration": 48,
    "start_time": "2021-07-20T11:02:27.060Z"
   },
   {
    "duration": 33,
    "start_time": "2021-07-20T11:02:27.110Z"
   },
   {
    "duration": 5385,
    "start_time": "2021-07-20T11:02:27.952Z"
   },
   {
    "duration": 4,
    "start_time": "2021-07-20T11:02:58.947Z"
   },
   {
    "duration": 19,
    "start_time": "2021-07-20T11:02:59.545Z"
   },
   {
    "duration": 15,
    "start_time": "2021-07-20T11:03:00.512Z"
   },
   {
    "duration": 17,
    "start_time": "2021-07-20T11:03:00.997Z"
   },
   {
    "duration": 15,
    "start_time": "2021-07-20T11:03:01.674Z"
   },
   {
    "duration": 15,
    "start_time": "2021-07-20T11:03:02.319Z"
   },
   {
    "duration": 789,
    "start_time": "2021-07-20T11:03:02.778Z"
   },
   {
    "duration": 10,
    "start_time": "2021-07-20T11:03:04.907Z"
   },
   {
    "duration": 4,
    "start_time": "2021-07-20T11:03:05.347Z"
   },
   {
    "duration": 12,
    "start_time": "2021-07-20T11:03:06.294Z"
   },
   {
    "duration": 763,
    "start_time": "2021-07-20T11:03:06.524Z"
   },
   {
    "duration": 13,
    "start_time": "2021-07-20T11:03:07.533Z"
   },
   {
    "duration": 311,
    "start_time": "2021-07-20T11:03:07.855Z"
   },
   {
    "duration": 8,
    "start_time": "2021-07-20T11:03:09.280Z"
   },
   {
    "duration": 13,
    "start_time": "2021-07-20T11:03:09.521Z"
   },
   {
    "duration": 251,
    "start_time": "2021-07-20T11:03:09.964Z"
   },
   {
    "duration": 2,
    "start_time": "2021-07-20T11:03:10.241Z"
   },
   {
    "duration": 182,
    "start_time": "2021-07-20T11:03:10.769Z"
   },
   {
    "duration": 64,
    "start_time": "2021-07-20T11:03:54.837Z"
   },
   {
    "duration": 81,
    "start_time": "2021-07-20T11:03:58.993Z"
   },
   {
    "duration": 31,
    "start_time": "2021-07-20T11:04:09.845Z"
   },
   {
    "duration": 13,
    "start_time": "2021-07-20T11:04:10.631Z"
   },
   {
    "duration": 16,
    "start_time": "2021-07-20T11:04:11.370Z"
   },
   {
    "duration": 246,
    "start_time": "2021-07-20T11:04:17.070Z"
   },
   {
    "duration": 259,
    "start_time": "2021-07-20T11:04:19.487Z"
   },
   {
    "duration": 2,
    "start_time": "2021-07-20T11:04:20.893Z"
   },
   {
    "duration": 18,
    "start_time": "2021-07-20T11:04:24.602Z"
   },
   {
    "duration": 925,
    "start_time": "2021-07-20T11:04:24.820Z"
   },
   {
    "duration": 3,
    "start_time": "2021-07-20T11:04:25.747Z"
   },
   {
    "duration": 259,
    "start_time": "2021-07-20T11:04:25.916Z"
   },
   {
    "duration": 197,
    "start_time": "2021-07-20T11:10:58.143Z"
   },
   {
    "duration": 18,
    "start_time": "2021-07-20T11:11:15.380Z"
   },
   {
    "duration": 18,
    "start_time": "2021-07-20T11:15:13.198Z"
   },
   {
    "duration": 764,
    "start_time": "2021-07-20T11:15:38.400Z"
   },
   {
    "duration": 17,
    "start_time": "2021-07-20T11:16:00.442Z"
   },
   {
    "duration": 782,
    "start_time": "2021-07-20T11:16:02.411Z"
   },
   {
    "duration": 18,
    "start_time": "2021-07-20T11:16:25.461Z"
   },
   {
    "duration": 771,
    "start_time": "2021-07-20T11:16:26.108Z"
   },
   {
    "duration": 4,
    "start_time": "2021-07-20T11:16:28.341Z"
   },
   {
    "duration": 263,
    "start_time": "2021-07-20T11:16:31.022Z"
   },
   {
    "duration": 20,
    "start_time": "2021-07-20T11:17:05.813Z"
   },
   {
    "duration": 18,
    "start_time": "2021-07-20T11:17:47.882Z"
   },
   {
    "duration": 18,
    "start_time": "2021-07-20T11:18:07.060Z"
   },
   {
    "duration": 818,
    "start_time": "2021-07-20T11:18:30.263Z"
   },
   {
    "duration": 4,
    "start_time": "2021-07-20T11:18:49.910Z"
   },
   {
    "duration": 19,
    "start_time": "2021-07-20T11:19:58.045Z"
   },
   {
    "duration": 785,
    "start_time": "2021-07-20T11:20:00.890Z"
   },
   {
    "duration": 4,
    "start_time": "2021-07-20T11:20:06.853Z"
   },
   {
    "duration": 20,
    "start_time": "2021-07-20T11:22:51.269Z"
   },
   {
    "duration": 908,
    "start_time": "2021-07-20T11:22:52.089Z"
   },
   {
    "duration": 4,
    "start_time": "2021-07-20T11:22:57.735Z"
   },
   {
    "duration": 59,
    "start_time": "2021-07-20T11:33:15.333Z"
   },
   {
    "duration": -136,
    "start_time": "2021-07-20T11:33:15.530Z"
   },
   {
    "duration": -137,
    "start_time": "2021-07-20T11:33:15.532Z"
   },
   {
    "duration": -139,
    "start_time": "2021-07-20T11:33:15.535Z"
   },
   {
    "duration": -140,
    "start_time": "2021-07-20T11:33:15.537Z"
   },
   {
    "duration": -142,
    "start_time": "2021-07-20T11:33:15.540Z"
   },
   {
    "duration": -144,
    "start_time": "2021-07-20T11:33:15.543Z"
   },
   {
    "duration": -145,
    "start_time": "2021-07-20T11:33:15.545Z"
   },
   {
    "duration": -146,
    "start_time": "2021-07-20T11:33:15.547Z"
   },
   {
    "duration": -147,
    "start_time": "2021-07-20T11:33:15.549Z"
   },
   {
    "duration": -148,
    "start_time": "2021-07-20T11:33:15.551Z"
   },
   {
    "duration": -149,
    "start_time": "2021-07-20T11:33:15.553Z"
   },
   {
    "duration": -150,
    "start_time": "2021-07-20T11:33:15.555Z"
   },
   {
    "duration": -151,
    "start_time": "2021-07-20T11:33:15.557Z"
   },
   {
    "duration": -152,
    "start_time": "2021-07-20T11:33:15.559Z"
   },
   {
    "duration": -153,
    "start_time": "2021-07-20T11:33:15.561Z"
   },
   {
    "duration": -154,
    "start_time": "2021-07-20T11:33:15.563Z"
   },
   {
    "duration": -155,
    "start_time": "2021-07-20T11:33:15.565Z"
   },
   {
    "duration": -156,
    "start_time": "2021-07-20T11:33:15.567Z"
   },
   {
    "duration": -157,
    "start_time": "2021-07-20T11:33:15.569Z"
   },
   {
    "duration": -158,
    "start_time": "2021-07-20T11:33:15.571Z"
   },
   {
    "duration": -159,
    "start_time": "2021-07-20T11:33:15.573Z"
   },
   {
    "duration": -160,
    "start_time": "2021-07-20T11:33:15.575Z"
   },
   {
    "duration": -161,
    "start_time": "2021-07-20T11:33:15.577Z"
   },
   {
    "duration": -162,
    "start_time": "2021-07-20T11:33:15.579Z"
   },
   {
    "duration": -163,
    "start_time": "2021-07-20T11:33:15.581Z"
   },
   {
    "duration": -163,
    "start_time": "2021-07-20T11:33:15.583Z"
   },
   {
    "duration": 203,
    "start_time": "2021-07-20T11:33:15.421Z"
   },
   {
    "duration": -15,
    "start_time": "2021-07-20T11:33:15.642Z"
   },
   {
    "duration": -16,
    "start_time": "2021-07-20T11:33:15.644Z"
   },
   {
    "duration": -18,
    "start_time": "2021-07-20T11:33:15.646Z"
   },
   {
    "duration": -19,
    "start_time": "2021-07-20T11:33:15.648Z"
   },
   {
    "duration": -20,
    "start_time": "2021-07-20T11:33:15.650Z"
   },
   {
    "duration": -64,
    "start_time": "2021-07-20T11:33:15.695Z"
   },
   {
    "duration": -65,
    "start_time": "2021-07-20T11:33:15.697Z"
   },
   {
    "duration": -67,
    "start_time": "2021-07-20T11:33:15.699Z"
   },
   {
    "duration": -68,
    "start_time": "2021-07-20T11:33:15.701Z"
   },
   {
    "duration": -69,
    "start_time": "2021-07-20T11:33:15.703Z"
   },
   {
    "duration": -70,
    "start_time": "2021-07-20T11:33:15.705Z"
   },
   {
    "duration": -71,
    "start_time": "2021-07-20T11:33:15.707Z"
   },
   {
    "duration": -72,
    "start_time": "2021-07-20T11:33:15.709Z"
   },
   {
    "duration": -74,
    "start_time": "2021-07-20T11:33:15.711Z"
   },
   {
    "duration": -75,
    "start_time": "2021-07-20T11:33:15.713Z"
   },
   {
    "duration": -84,
    "start_time": "2021-07-20T11:33:15.723Z"
   },
   {
    "duration": -85,
    "start_time": "2021-07-20T11:33:15.725Z"
   },
   {
    "duration": -93,
    "start_time": "2021-07-20T11:33:15.734Z"
   },
   {
    "duration": -101,
    "start_time": "2021-07-20T11:33:15.743Z"
   },
   {
    "duration": -102,
    "start_time": "2021-07-20T11:33:15.745Z"
   },
   {
    "duration": -111,
    "start_time": "2021-07-20T11:33:15.754Z"
   },
   {
    "duration": -118,
    "start_time": "2021-07-20T11:33:15.762Z"
   },
   {
    "duration": -119,
    "start_time": "2021-07-20T11:33:15.764Z"
   },
   {
    "duration": -173,
    "start_time": "2021-07-20T11:33:15.819Z"
   },
   {
    "duration": -225,
    "start_time": "2021-07-20T11:33:15.872Z"
   },
   {
    "duration": -226,
    "start_time": "2021-07-20T11:33:15.874Z"
   },
   {
    "duration": -231,
    "start_time": "2021-07-20T11:33:15.880Z"
   },
   {
    "duration": -233,
    "start_time": "2021-07-20T11:33:15.882Z"
   },
   {
    "duration": -234,
    "start_time": "2021-07-20T11:33:15.884Z"
   },
   {
    "duration": -235,
    "start_time": "2021-07-20T11:33:15.886Z"
   },
   {
    "duration": -240,
    "start_time": "2021-07-20T11:33:15.892Z"
   },
   {
    "duration": -241,
    "start_time": "2021-07-20T11:33:15.894Z"
   },
   {
    "duration": -242,
    "start_time": "2021-07-20T11:33:15.896Z"
   },
   {
    "duration": -243,
    "start_time": "2021-07-20T11:33:15.898Z"
   },
   {
    "duration": -244,
    "start_time": "2021-07-20T11:33:15.900Z"
   },
   {
    "duration": -247,
    "start_time": "2021-07-20T11:33:15.903Z"
   },
   {
    "duration": -248,
    "start_time": "2021-07-20T11:33:15.905Z"
   },
   {
    "duration": -252,
    "start_time": "2021-07-20T11:33:15.910Z"
   },
   {
    "duration": -253,
    "start_time": "2021-07-20T11:33:15.912Z"
   },
   {
    "duration": -254,
    "start_time": "2021-07-20T11:33:15.914Z"
   },
   {
    "duration": -255,
    "start_time": "2021-07-20T11:33:15.916Z"
   },
   {
    "duration": -257,
    "start_time": "2021-07-20T11:33:15.919Z"
   },
   {
    "duration": -258,
    "start_time": "2021-07-20T11:33:15.921Z"
   },
   {
    "duration": -262,
    "start_time": "2021-07-20T11:33:15.926Z"
   },
   {
    "duration": -244,
    "start_time": "2021-07-20T11:33:15.928Z"
   },
   {
    "duration": 1029,
    "start_time": "2021-07-20T11:34:04.405Z"
   },
   {
    "duration": 614,
    "start_time": "2021-07-20T11:34:05.436Z"
   },
   {
    "duration": 52,
    "start_time": "2021-07-20T11:34:06.055Z"
   },
   {
    "duration": 43,
    "start_time": "2021-07-20T11:34:06.109Z"
   },
   {
    "duration": 208,
    "start_time": "2021-07-20T11:34:06.154Z"
   },
   {
    "duration": 5,
    "start_time": "2021-07-20T11:34:06.364Z"
   },
   {
    "duration": 17,
    "start_time": "2021-07-20T11:34:06.371Z"
   },
   {
    "duration": 10,
    "start_time": "2021-07-20T11:34:06.391Z"
   },
   {
    "duration": 16,
    "start_time": "2021-07-20T11:34:06.403Z"
   },
   {
    "duration": 6,
    "start_time": "2021-07-20T11:34:06.421Z"
   },
   {
    "duration": 7,
    "start_time": "2021-07-20T11:34:06.429Z"
   },
   {
    "duration": 8,
    "start_time": "2021-07-20T11:34:06.437Z"
   },
   {
    "duration": 39,
    "start_time": "2021-07-20T11:34:06.447Z"
   },
   {
    "duration": 334,
    "start_time": "2021-07-20T11:34:06.488Z"
   },
   {
    "duration": 157,
    "start_time": "2021-07-20T11:34:06.824Z"
   },
   {
    "duration": 260,
    "start_time": "2021-07-20T11:34:06.984Z"
   },
   {
    "duration": 15,
    "start_time": "2021-07-20T11:34:07.246Z"
   },
   {
    "duration": 30,
    "start_time": "2021-07-20T11:34:07.263Z"
   },
   {
    "duration": 6,
    "start_time": "2021-07-20T11:34:07.295Z"
   },
   {
    "duration": 318,
    "start_time": "2021-07-20T11:34:07.303Z"
   },
   {
    "duration": 98,
    "start_time": "2021-07-20T11:34:07.623Z"
   },
   {
    "duration": 79,
    "start_time": "2021-07-20T11:34:07.723Z"
   },
   {
    "duration": 82,
    "start_time": "2021-07-20T11:34:07.804Z"
   },
   {
    "duration": 24,
    "start_time": "2021-07-20T11:34:07.887Z"
   },
   {
    "duration": 326,
    "start_time": "2021-07-20T11:34:07.913Z"
   },
   {
    "duration": 831,
    "start_time": "2021-07-20T11:34:08.244Z"
   },
   {
    "duration": 76,
    "start_time": "2021-07-20T11:34:09.086Z"
   },
   {
    "duration": 65,
    "start_time": "2021-07-20T11:34:09.164Z"
   },
   {
    "duration": 13,
    "start_time": "2021-07-20T11:34:09.231Z"
   },
   {
    "duration": 289,
    "start_time": "2021-07-20T11:34:09.246Z"
   },
   {
    "duration": 6,
    "start_time": "2021-07-20T11:34:09.536Z"
   },
   {
    "duration": 11,
    "start_time": "2021-07-20T11:34:09.544Z"
   },
   {
    "duration": 48,
    "start_time": "2021-07-20T11:34:09.556Z"
   },
   {
    "duration": 712,
    "start_time": "2021-07-20T11:34:09.605Z"
   },
   {
    "duration": 388,
    "start_time": "2021-07-20T11:34:10.318Z"
   },
   {
    "duration": 10,
    "start_time": "2021-07-20T11:34:10.708Z"
   },
   {
    "duration": 7,
    "start_time": "2021-07-20T11:34:10.719Z"
   },
   {
    "duration": 191,
    "start_time": "2021-07-20T11:34:10.728Z"
   },
   {
    "duration": 787,
    "start_time": "2021-07-20T11:34:10.921Z"
   },
   {
    "duration": 50,
    "start_time": "2021-07-20T11:34:11.710Z"
   },
   {
    "duration": 42,
    "start_time": "2021-07-20T11:34:11.761Z"
   },
   {
    "duration": 33,
    "start_time": "2021-07-20T11:34:11.804Z"
   },
   {
    "duration": 5155,
    "start_time": "2021-07-20T11:34:11.839Z"
   },
   {
    "duration": -23,
    "start_time": "2021-07-20T11:34:17.019Z"
   },
   {
    "duration": -32,
    "start_time": "2021-07-20T11:34:17.029Z"
   },
   {
    "duration": -34,
    "start_time": "2021-07-20T11:34:17.032Z"
   },
   {
    "duration": -35,
    "start_time": "2021-07-20T11:34:17.034Z"
   },
   {
    "duration": -36,
    "start_time": "2021-07-20T11:34:17.036Z"
   },
   {
    "duration": -37,
    "start_time": "2021-07-20T11:34:17.038Z"
   },
   {
    "duration": -43,
    "start_time": "2021-07-20T11:34:17.045Z"
   },
   {
    "duration": -44,
    "start_time": "2021-07-20T11:34:17.047Z"
   },
   {
    "duration": -45,
    "start_time": "2021-07-20T11:34:17.049Z"
   },
   {
    "duration": -47,
    "start_time": "2021-07-20T11:34:17.052Z"
   },
   {
    "duration": -48,
    "start_time": "2021-07-20T11:34:17.054Z"
   },
   {
    "duration": -53,
    "start_time": "2021-07-20T11:34:17.061Z"
   },
   {
    "duration": -54,
    "start_time": "2021-07-20T11:34:17.063Z"
   },
   {
    "duration": -56,
    "start_time": "2021-07-20T11:34:17.066Z"
   },
   {
    "duration": -56,
    "start_time": "2021-07-20T11:34:17.068Z"
   },
   {
    "duration": -57,
    "start_time": "2021-07-20T11:34:17.070Z"
   },
   {
    "duration": -63,
    "start_time": "2021-07-20T11:34:17.077Z"
   },
   {
    "duration": -63,
    "start_time": "2021-07-20T11:34:17.079Z"
   },
   {
    "duration": -65,
    "start_time": "2021-07-20T11:34:17.082Z"
   },
   {
    "duration": -66,
    "start_time": "2021-07-20T11:34:17.084Z"
   },
   {
    "duration": -66,
    "start_time": "2021-07-20T11:34:17.086Z"
   },
   {
    "duration": -67,
    "start_time": "2021-07-20T11:34:17.088Z"
   },
   {
    "duration": -73,
    "start_time": "2021-07-20T11:34:17.095Z"
   },
   {
    "duration": -73,
    "start_time": "2021-07-20T11:34:17.097Z"
   },
   {
    "duration": -74,
    "start_time": "2021-07-20T11:34:17.099Z"
   },
   {
    "duration": -75,
    "start_time": "2021-07-20T11:34:17.102Z"
   },
   {
    "duration": -76,
    "start_time": "2021-07-20T11:34:17.104Z"
   },
   {
    "duration": -76,
    "start_time": "2021-07-20T11:34:17.106Z"
   },
   {
    "duration": -82,
    "start_time": "2021-07-20T11:34:17.113Z"
   },
   {
    "duration": 1088,
    "start_time": "2021-07-20T11:35:39.032Z"
   },
   {
    "duration": 593,
    "start_time": "2021-07-20T11:35:40.122Z"
   },
   {
    "duration": 52,
    "start_time": "2021-07-20T11:35:40.717Z"
   },
   {
    "duration": 41,
    "start_time": "2021-07-20T11:35:40.771Z"
   },
   {
    "duration": 189,
    "start_time": "2021-07-20T11:35:40.814Z"
   },
   {
    "duration": 4,
    "start_time": "2021-07-20T11:35:41.005Z"
   },
   {
    "duration": 10,
    "start_time": "2021-07-20T11:35:41.011Z"
   },
   {
    "duration": 10,
    "start_time": "2021-07-20T11:35:41.024Z"
   },
   {
    "duration": 16,
    "start_time": "2021-07-20T11:35:41.036Z"
   },
   {
    "duration": 33,
    "start_time": "2021-07-20T11:35:41.053Z"
   },
   {
    "duration": 8,
    "start_time": "2021-07-20T11:35:41.088Z"
   },
   {
    "duration": 7,
    "start_time": "2021-07-20T11:35:41.098Z"
   },
   {
    "duration": 8,
    "start_time": "2021-07-20T11:35:41.107Z"
   },
   {
    "duration": 348,
    "start_time": "2021-07-20T11:35:41.117Z"
   },
   {
    "duration": 162,
    "start_time": "2021-07-20T11:35:41.467Z"
   },
   {
    "duration": 267,
    "start_time": "2021-07-20T11:35:41.631Z"
   },
   {
    "duration": 15,
    "start_time": "2021-07-20T11:35:41.900Z"
   },
   {
    "duration": 19,
    "start_time": "2021-07-20T11:35:41.917Z"
   },
   {
    "duration": 7,
    "start_time": "2021-07-20T11:35:41.938Z"
   },
   {
    "duration": 341,
    "start_time": "2021-07-20T11:35:41.947Z"
   },
   {
    "duration": 95,
    "start_time": "2021-07-20T11:35:42.290Z"
   },
   {
    "duration": 76,
    "start_time": "2021-07-20T11:35:42.387Z"
   },
   {
    "duration": 89,
    "start_time": "2021-07-20T11:35:42.467Z"
   },
   {
    "duration": 35,
    "start_time": "2021-07-20T11:35:42.558Z"
   },
   {
    "duration": 315,
    "start_time": "2021-07-20T11:35:42.594Z"
   },
   {
    "duration": 809,
    "start_time": "2021-07-20T11:35:42.911Z"
   },
   {
    "duration": 77,
    "start_time": "2021-07-20T11:35:43.722Z"
   },
   {
    "duration": 45,
    "start_time": "2021-07-20T11:35:43.801Z"
   },
   {
    "duration": 12,
    "start_time": "2021-07-20T11:35:43.848Z"
   },
   {
    "duration": 358,
    "start_time": "2021-07-20T11:35:43.861Z"
   },
   {
    "duration": 5,
    "start_time": "2021-07-20T11:35:44.221Z"
   },
   {
    "duration": 12,
    "start_time": "2021-07-20T11:35:44.228Z"
   },
   {
    "duration": 69,
    "start_time": "2021-07-20T11:35:44.242Z"
   },
   {
    "duration": 775,
    "start_time": "2021-07-20T11:35:44.313Z"
   },
   {
    "duration": 404,
    "start_time": "2021-07-20T11:35:45.090Z"
   },
   {
    "duration": 11,
    "start_time": "2021-07-20T11:35:45.496Z"
   },
   {
    "duration": 10,
    "start_time": "2021-07-20T11:35:45.508Z"
   },
   {
    "duration": 181,
    "start_time": "2021-07-20T11:35:45.520Z"
   },
   {
    "duration": 785,
    "start_time": "2021-07-20T11:35:45.703Z"
   },
   {
    "duration": 47,
    "start_time": "2021-07-20T11:35:46.490Z"
   },
   {
    "duration": 20,
    "start_time": "2021-07-20T11:35:46.538Z"
   },
   {
    "duration": 50,
    "start_time": "2021-07-20T11:35:46.560Z"
   },
   {
    "duration": 4970,
    "start_time": "2021-07-20T11:35:46.612Z"
   },
   {
    "duration": -33,
    "start_time": "2021-07-20T11:35:51.617Z"
   },
   {
    "duration": -34,
    "start_time": "2021-07-20T11:35:51.619Z"
   },
   {
    "duration": -35,
    "start_time": "2021-07-20T11:35:51.621Z"
   },
   {
    "duration": -37,
    "start_time": "2021-07-20T11:35:51.624Z"
   },
   {
    "duration": -39,
    "start_time": "2021-07-20T11:35:51.627Z"
   },
   {
    "duration": -40,
    "start_time": "2021-07-20T11:35:51.629Z"
   },
   {
    "duration": -42,
    "start_time": "2021-07-20T11:35:51.631Z"
   },
   {
    "duration": -43,
    "start_time": "2021-07-20T11:35:51.633Z"
   },
   {
    "duration": -44,
    "start_time": "2021-07-20T11:35:51.635Z"
   },
   {
    "duration": -46,
    "start_time": "2021-07-20T11:35:51.638Z"
   },
   {
    "duration": -47,
    "start_time": "2021-07-20T11:35:51.640Z"
   },
   {
    "duration": -48,
    "start_time": "2021-07-20T11:35:51.642Z"
   },
   {
    "duration": -49,
    "start_time": "2021-07-20T11:35:51.644Z"
   },
   {
    "duration": -50,
    "start_time": "2021-07-20T11:35:51.646Z"
   },
   {
    "duration": -51,
    "start_time": "2021-07-20T11:35:51.648Z"
   },
   {
    "duration": -52,
    "start_time": "2021-07-20T11:35:51.650Z"
   },
   {
    "duration": -53,
    "start_time": "2021-07-20T11:35:51.652Z"
   },
   {
    "duration": -55,
    "start_time": "2021-07-20T11:35:51.654Z"
   },
   {
    "duration": -56,
    "start_time": "2021-07-20T11:35:51.656Z"
   },
   {
    "duration": -57,
    "start_time": "2021-07-20T11:35:51.658Z"
   },
   {
    "duration": -58,
    "start_time": "2021-07-20T11:35:51.660Z"
   },
   {
    "duration": -59,
    "start_time": "2021-07-20T11:35:51.662Z"
   },
   {
    "duration": -60,
    "start_time": "2021-07-20T11:35:51.664Z"
   },
   {
    "duration": -63,
    "start_time": "2021-07-20T11:35:51.667Z"
   },
   {
    "duration": -63,
    "start_time": "2021-07-20T11:35:51.668Z"
   },
   {
    "duration": -65,
    "start_time": "2021-07-20T11:35:51.671Z"
   },
   {
    "duration": -66,
    "start_time": "2021-07-20T11:35:51.673Z"
   },
   {
    "duration": -67,
    "start_time": "2021-07-20T11:35:51.675Z"
   },
   {
    "duration": -68,
    "start_time": "2021-07-20T11:35:51.677Z"
   },
   {
    "duration": 2028,
    "start_time": "2021-07-20T13:25:35.887Z"
   },
   {
    "duration": 1199,
    "start_time": "2021-07-20T13:25:37.918Z"
   },
   {
    "duration": 111,
    "start_time": "2021-07-20T13:25:39.122Z"
   },
   {
    "duration": 71,
    "start_time": "2021-07-20T13:25:39.236Z"
   },
   {
    "duration": 468,
    "start_time": "2021-07-20T13:25:39.310Z"
   },
   {
    "duration": 8,
    "start_time": "2021-07-20T13:25:39.782Z"
   },
   {
    "duration": 28,
    "start_time": "2021-07-20T13:25:39.793Z"
   },
   {
    "duration": 36,
    "start_time": "2021-07-20T13:25:39.827Z"
   },
   {
    "duration": 42,
    "start_time": "2021-07-20T13:25:39.868Z"
   },
   {
    "duration": 45,
    "start_time": "2021-07-20T13:25:39.914Z"
   },
   {
    "duration": 12,
    "start_time": "2021-07-20T13:25:39.961Z"
   },
   {
    "duration": 29,
    "start_time": "2021-07-20T13:25:39.976Z"
   },
   {
    "duration": 26,
    "start_time": "2021-07-20T13:25:40.008Z"
   },
   {
    "duration": 498,
    "start_time": "2021-07-20T13:25:40.037Z"
   },
   {
    "duration": 233,
    "start_time": "2021-07-20T13:25:40.538Z"
   },
   {
    "duration": 349,
    "start_time": "2021-07-20T13:25:40.774Z"
   },
   {
    "duration": 29,
    "start_time": "2021-07-20T13:25:41.126Z"
   },
   {
    "duration": 24,
    "start_time": "2021-07-20T13:25:41.158Z"
   },
   {
    "duration": 12,
    "start_time": "2021-07-20T13:25:41.185Z"
   },
   {
    "duration": 535,
    "start_time": "2021-07-20T13:25:41.200Z"
   },
   {
    "duration": 142,
    "start_time": "2021-07-20T13:25:41.738Z"
   },
   {
    "duration": 144,
    "start_time": "2021-07-20T13:25:41.883Z"
   },
   {
    "duration": 152,
    "start_time": "2021-07-20T13:25:42.036Z"
   },
   {
    "duration": 37,
    "start_time": "2021-07-20T13:25:42.192Z"
   },
   {
    "duration": 443,
    "start_time": "2021-07-20T13:25:42.232Z"
   },
   {
    "duration": 1243,
    "start_time": "2021-07-20T13:25:42.677Z"
   },
   {
    "duration": 127,
    "start_time": "2021-07-20T13:25:43.922Z"
   },
   {
    "duration": 115,
    "start_time": "2021-07-20T13:25:44.054Z"
   },
   {
    "duration": 20,
    "start_time": "2021-07-20T13:25:44.171Z"
   },
   {
    "duration": 550,
    "start_time": "2021-07-20T13:25:44.193Z"
   },
   {
    "duration": 14,
    "start_time": "2021-07-20T13:25:44.746Z"
   },
   {
    "duration": 12,
    "start_time": "2021-07-20T13:25:44.763Z"
   },
   {
    "duration": 80,
    "start_time": "2021-07-20T13:25:44.777Z"
   },
   {
    "duration": 1155,
    "start_time": "2021-07-20T13:25:44.860Z"
   },
   {
    "duration": 932,
    "start_time": "2021-07-20T13:25:46.019Z"
   },
   {
    "duration": 18,
    "start_time": "2021-07-20T13:25:46.955Z"
   },
   {
    "duration": 19,
    "start_time": "2021-07-20T13:25:46.977Z"
   },
   {
    "duration": 420,
    "start_time": "2021-07-20T13:25:47.000Z"
   },
   {
    "duration": 1824,
    "start_time": "2021-07-20T13:25:47.424Z"
   },
   {
    "duration": 104,
    "start_time": "2021-07-20T13:25:49.251Z"
   },
   {
    "duration": 34,
    "start_time": "2021-07-20T13:25:49.358Z"
   },
   {
    "duration": 84,
    "start_time": "2021-07-20T13:25:49.395Z"
   },
   {
    "duration": 8340,
    "start_time": "2021-07-20T13:25:49.481Z"
   },
   {
    "duration": -37,
    "start_time": "2021-07-20T13:25:57.862Z"
   },
   {
    "duration": -44,
    "start_time": "2021-07-20T13:25:57.872Z"
   },
   {
    "duration": -48,
    "start_time": "2021-07-20T13:25:57.878Z"
   },
   {
    "duration": -52,
    "start_time": "2021-07-20T13:25:57.884Z"
   },
   {
    "duration": -58,
    "start_time": "2021-07-20T13:25:57.892Z"
   },
   {
    "duration": -63,
    "start_time": "2021-07-20T13:25:57.899Z"
   },
   {
    "duration": -71,
    "start_time": "2021-07-20T13:25:57.909Z"
   },
   {
    "duration": -74,
    "start_time": "2021-07-20T13:25:57.914Z"
   },
   {
    "duration": -81,
    "start_time": "2021-07-20T13:25:57.923Z"
   },
   {
    "duration": -84,
    "start_time": "2021-07-20T13:25:57.928Z"
   },
   {
    "duration": -91,
    "start_time": "2021-07-20T13:25:57.937Z"
   },
   {
    "duration": -95,
    "start_time": "2021-07-20T13:25:57.943Z"
   },
   {
    "duration": -100,
    "start_time": "2021-07-20T13:25:57.950Z"
   },
   {
    "duration": -105,
    "start_time": "2021-07-20T13:25:57.957Z"
   },
   {
    "duration": -109,
    "start_time": "2021-07-20T13:25:57.963Z"
   },
   {
    "duration": -116,
    "start_time": "2021-07-20T13:25:57.972Z"
   },
   {
    "duration": -118,
    "start_time": "2021-07-20T13:25:57.977Z"
   },
   {
    "duration": -122,
    "start_time": "2021-07-20T13:25:57.983Z"
   },
   {
    "duration": -129,
    "start_time": "2021-07-20T13:25:57.992Z"
   },
   {
    "duration": -133,
    "start_time": "2021-07-20T13:25:57.997Z"
   },
   {
    "duration": -140,
    "start_time": "2021-07-20T13:25:58.006Z"
   },
   {
    "duration": -144,
    "start_time": "2021-07-20T13:25:58.012Z"
   },
   {
    "duration": -147,
    "start_time": "2021-07-20T13:25:58.017Z"
   },
   {
    "duration": -159,
    "start_time": "2021-07-20T13:25:58.031Z"
   },
   {
    "duration": -166,
    "start_time": "2021-07-20T13:25:58.040Z"
   },
   {
    "duration": -169,
    "start_time": "2021-07-20T13:25:58.045Z"
   },
   {
    "duration": -177,
    "start_time": "2021-07-20T13:25:58.055Z"
   },
   {
    "duration": -180,
    "start_time": "2021-07-20T13:25:58.060Z"
   },
   {
    "duration": -184,
    "start_time": "2021-07-20T13:25:58.066Z"
   },
   {
    "duration": 7,
    "start_time": "2021-07-20T13:26:10.114Z"
   },
   {
    "duration": 36,
    "start_time": "2021-07-20T13:26:10.912Z"
   },
   {
    "duration": 20,
    "start_time": "2021-07-20T13:26:11.658Z"
   },
   {
    "duration": 27,
    "start_time": "2021-07-20T13:26:11.992Z"
   },
   {
    "duration": 18,
    "start_time": "2021-07-20T13:26:12.283Z"
   },
   {
    "duration": 21,
    "start_time": "2021-07-20T13:26:12.574Z"
   },
   {
    "duration": 1202,
    "start_time": "2021-07-20T13:26:12.884Z"
   },
   {
    "duration": 13,
    "start_time": "2021-07-20T13:26:15.081Z"
   },
   {
    "duration": 6,
    "start_time": "2021-07-20T13:26:15.681Z"
   },
   {
    "duration": 16,
    "start_time": "2021-07-20T13:26:16.160Z"
   },
   {
    "duration": 22087,
    "start_time": "2021-07-20T13:26:16.313Z"
   },
   {
    "duration": 63,
    "start_time": "2021-07-20T13:26:38.403Z"
   },
   {
    "duration": 659,
    "start_time": "2021-07-20T13:26:38.469Z"
   },
   {
    "duration": 24,
    "start_time": "2021-07-20T13:26:39.130Z"
   },
   {
    "duration": 32,
    "start_time": "2021-07-20T13:26:39.158Z"
   },
   {
    "duration": 170,
    "start_time": "2021-07-20T13:26:42.330Z"
   },
   {
    "duration": 3,
    "start_time": "2021-07-20T13:26:42.521Z"
   },
   {
    "duration": 47,
    "start_time": "2021-07-20T13:26:43.408Z"
   },
   {
    "duration": 21,
    "start_time": "2021-07-20T13:26:43.721Z"
   },
   {
    "duration": 26,
    "start_time": "2021-07-20T13:26:44.025Z"
   },
   {
    "duration": 424,
    "start_time": "2021-07-20T13:26:44.647Z"
   },
   {
    "duration": 664,
    "start_time": "2021-07-20T13:26:45.075Z"
   },
   {
    "duration": 41,
    "start_time": "2021-07-20T13:27:22.117Z"
   },
   {
    "duration": 2044,
    "start_time": "2021-07-20T13:27:22.321Z"
   },
   {
    "duration": 7,
    "start_time": "2021-07-20T13:27:24.368Z"
   },
   {
    "duration": 493,
    "start_time": "2021-07-20T13:27:24.378Z"
   },
   {
    "duration": 28,
    "start_time": "2021-07-20T13:27:25.658Z"
   },
   {
    "duration": 1367,
    "start_time": "2021-07-20T13:27:26.161Z"
   },
   {
    "duration": 6,
    "start_time": "2021-07-20T13:27:27.531Z"
   },
   {
    "duration": 137,
    "start_time": "2021-07-22T09:59:38.207Z"
   },
   {
    "duration": 479,
    "start_time": "2021-07-22T10:07:52.503Z"
   },
   {
    "duration": 1436,
    "start_time": "2021-07-22T10:08:06.435Z"
   },
   {
    "duration": 792,
    "start_time": "2021-07-22T10:08:07.875Z"
   },
   {
    "duration": 112,
    "start_time": "2021-07-22T10:08:08.672Z"
   },
   {
    "duration": 80,
    "start_time": "2021-07-22T10:08:08.788Z"
   },
   {
    "duration": 483,
    "start_time": "2021-07-22T10:08:08.872Z"
   },
   {
    "duration": 9,
    "start_time": "2021-07-22T10:08:09.358Z"
   },
   {
    "duration": 38,
    "start_time": "2021-07-22T10:08:09.370Z"
   },
   {
    "duration": 15,
    "start_time": "2021-07-22T10:08:09.413Z"
   },
   {
    "duration": 69,
    "start_time": "2021-07-22T10:08:09.432Z"
   },
   {
    "duration": 12,
    "start_time": "2021-07-22T10:08:09.504Z"
   },
   {
    "duration": 12,
    "start_time": "2021-07-22T10:08:09.756Z"
   },
   {
    "duration": 16,
    "start_time": "2021-07-22T10:08:10.156Z"
   },
   {
    "duration": 11,
    "start_time": "2021-07-22T10:08:10.367Z"
   },
   {
    "duration": 551,
    "start_time": "2021-07-22T10:08:11.447Z"
   },
   {
    "duration": 363,
    "start_time": "2021-07-22T10:08:12.002Z"
   },
   {
    "duration": 464,
    "start_time": "2021-07-22T10:08:12.369Z"
   },
   {
    "duration": 27,
    "start_time": "2021-07-22T10:08:12.851Z"
   },
   {
    "duration": 24,
    "start_time": "2021-07-22T10:08:13.270Z"
   },
   {
    "duration": 12,
    "start_time": "2021-07-22T10:08:13.926Z"
   },
   {
    "duration": 520,
    "start_time": "2021-07-22T10:08:14.141Z"
   },
   {
    "duration": 123,
    "start_time": "2021-07-22T10:08:15.445Z"
   },
   {
    "duration": 119,
    "start_time": "2021-07-22T10:08:15.866Z"
   },
   {
    "duration": 119,
    "start_time": "2021-07-22T10:08:16.303Z"
   },
   {
    "duration": 36,
    "start_time": "2021-07-22T10:08:16.763Z"
   },
   {
    "duration": 413,
    "start_time": "2021-07-22T10:08:17.212Z"
   },
   {
    "duration": 1202,
    "start_time": "2021-07-22T10:08:17.668Z"
   },
   {
    "duration": 105,
    "start_time": "2021-07-22T10:08:21.547Z"
   },
   {
    "duration": 84,
    "start_time": "2021-07-22T10:08:21.768Z"
   },
   {
    "duration": 18,
    "start_time": "2021-07-22T10:08:22.253Z"
   },
   {
    "duration": 441,
    "start_time": "2021-07-22T10:08:22.502Z"
   },
   {
    "duration": 8,
    "start_time": "2021-07-22T10:08:22.945Z"
   },
   {
    "duration": 12,
    "start_time": "2021-07-22T10:08:23.202Z"
   },
   {
    "duration": 49,
    "start_time": "2021-07-22T10:08:24.904Z"
   },
   {
    "duration": 1147,
    "start_time": "2021-07-22T10:08:25.153Z"
   },
   {
    "duration": 598,
    "start_time": "2021-07-22T10:08:26.303Z"
   },
   {
    "duration": 14,
    "start_time": "2021-07-22T10:08:26.903Z"
   },
   {
    "duration": 14,
    "start_time": "2021-07-22T10:08:27.246Z"
   },
   {
    "duration": 268,
    "start_time": "2021-07-22T10:08:27.490Z"
   },
   {
    "duration": 1221,
    "start_time": "2021-07-22T10:08:27.761Z"
   },
   {
    "duration": 89,
    "start_time": "2021-07-22T10:08:28.986Z"
   },
   {
    "duration": 54,
    "start_time": "2021-07-22T10:08:29.078Z"
   },
   {
    "duration": 80,
    "start_time": "2021-07-22T10:08:29.135Z"
   },
   {
    "duration": 7202,
    "start_time": "2021-07-22T10:08:29.424Z"
   },
   {
    "duration": 2048,
    "start_time": "2021-07-22T10:08:34.581Z"
   },
   {
    "duration": 2048,
    "start_time": "2021-07-22T10:08:34.583Z"
   },
   {
    "duration": 2047,
    "start_time": "2021-07-22T10:08:34.585Z"
   },
   {
    "duration": 2046,
    "start_time": "2021-07-22T10:08:34.588Z"
   },
   {
    "duration": 2046,
    "start_time": "2021-07-22T10:08:34.590Z"
   },
   {
    "duration": 2043,
    "start_time": "2021-07-22T10:08:34.594Z"
   },
   {
    "duration": 2042,
    "start_time": "2021-07-22T10:08:34.596Z"
   },
   {
    "duration": 2042,
    "start_time": "2021-07-22T10:08:34.598Z"
   },
   {
    "duration": 2041,
    "start_time": "2021-07-22T10:08:34.600Z"
   },
   {
    "duration": 15,
    "start_time": "2021-07-22T10:08:37.009Z"
   },
   {
    "duration": 1221,
    "start_time": "2021-07-22T10:08:37.213Z"
   },
   {
    "duration": 418,
    "start_time": "2021-07-22T10:08:38.436Z"
   },
   {
    "duration": 1730,
    "start_time": "2021-07-22T10:08:37.128Z"
   },
   {
    "duration": 11,
    "start_time": "2021-07-22T10:08:39.571Z"
   },
   {
    "duration": 17,
    "start_time": "2021-07-22T10:08:39.795Z"
   },
   {
    "duration": 145,
    "start_time": "2021-07-22T10:08:40.292Z"
   },
   {
    "duration": 3,
    "start_time": "2021-07-22T10:08:40.826Z"
   },
   {
    "duration": 262,
    "start_time": "2021-07-22T10:08:41.586Z"
   },
   {
    "duration": 7915,
    "start_time": "2021-07-22T10:08:55.359Z"
   },
   {
    "duration": 2035,
    "start_time": "2021-07-22T10:09:01.242Z"
   },
   {
    "duration": 2034,
    "start_time": "2021-07-22T10:09:01.245Z"
   },
   {
    "duration": 291,
    "start_time": "2021-07-22T10:09:21.075Z"
   },
   {
    "duration": 283,
    "start_time": "2021-07-22T10:09:22.379Z"
   },
   {
    "duration": 275,
    "start_time": "2021-07-22T10:09:24.935Z"
   },
   {
    "duration": 2051,
    "start_time": "2021-07-22T10:09:23.162Z"
   },
   {
    "duration": 291,
    "start_time": "2021-07-22T10:09:26.033Z"
   },
   {
    "duration": 398,
    "start_time": "2021-07-22T10:09:26.471Z"
   },
   {
    "duration": 352,
    "start_time": "2021-07-22T10:09:28.693Z"
   },
   {
    "duration": 2055,
    "start_time": "2021-07-22T10:09:26.993Z"
   },
   {
    "duration": 295,
    "start_time": "2021-07-22T10:09:33.625Z"
   },
   {
    "duration": 246,
    "start_time": "2021-07-22T10:10:47.136Z"
   },
   {
    "duration": 6953,
    "start_time": "2021-07-22T10:10:48.914Z"
   },
   {
    "duration": 2026,
    "start_time": "2021-07-22T10:10:53.844Z"
   },
   {
    "duration": 2025,
    "start_time": "2021-07-22T10:10:53.847Z"
   },
   {
    "duration": 360,
    "start_time": "2021-07-22T10:10:56.272Z"
   },
   {
    "duration": 231,
    "start_time": "2021-07-22T10:12:41.912Z"
   },
   {
    "duration": 295,
    "start_time": "2021-07-22T10:17:00.554Z"
   },
   {
    "duration": 4,
    "start_time": "2021-07-22T10:20:49.873Z"
   },
   {
    "duration": 737,
    "start_time": "2021-07-22T10:20:50.112Z"
   },
   {
    "duration": 65,
    "start_time": "2021-07-22T10:20:51.113Z"
   },
   {
    "duration": 38,
    "start_time": "2021-07-22T10:20:51.349Z"
   },
   {
    "duration": 224,
    "start_time": "2021-07-22T10:20:51.806Z"
   },
   {
    "duration": 6,
    "start_time": "2021-07-22T10:20:52.036Z"
   },
   {
    "duration": 12,
    "start_time": "2021-07-22T10:20:52.597Z"
   },
   {
    "duration": 14,
    "start_time": "2021-07-22T10:20:53.428Z"
   },
   {
    "duration": 24,
    "start_time": "2021-07-22T10:20:53.972Z"
   },
   {
    "duration": 12,
    "start_time": "2021-07-22T10:20:54.257Z"
   },
   {
    "duration": 8,
    "start_time": "2021-07-22T10:20:54.831Z"
   },
   {
    "duration": 11,
    "start_time": "2021-07-22T10:20:55.411Z"
   },
   {
    "duration": 12,
    "start_time": "2021-07-22T10:20:55.696Z"
   },
   {
    "duration": 455,
    "start_time": "2021-07-22T10:20:57.370Z"
   },
   {
    "duration": 207,
    "start_time": "2021-07-22T10:20:58.173Z"
   },
   {
    "duration": 313,
    "start_time": "2021-07-22T10:20:59.101Z"
   },
   {
    "duration": 22,
    "start_time": "2021-07-22T10:21:00.004Z"
   },
   {
    "duration": 25,
    "start_time": "2021-07-22T10:21:00.532Z"
   },
   {
    "duration": 11,
    "start_time": "2021-07-22T10:21:01.560Z"
   },
   {
    "duration": 972,
    "start_time": "2021-07-22T10:21:02.211Z"
   },
   {
    "duration": 118,
    "start_time": "2021-07-22T10:21:04.546Z"
   },
   {
    "duration": 114,
    "start_time": "2021-07-22T10:21:05.346Z"
   },
   {
    "duration": 107,
    "start_time": "2021-07-22T10:21:06.771Z"
   },
   {
    "duration": 32,
    "start_time": "2021-07-22T10:21:08.074Z"
   },
   {
    "duration": 412,
    "start_time": "2021-07-22T10:21:08.991Z"
   },
   {
    "duration": 1226,
    "start_time": "2021-07-22T10:21:10.285Z"
   },
   {
    "duration": 108,
    "start_time": "2021-07-22T10:21:15.651Z"
   },
   {
    "duration": 96,
    "start_time": "2021-07-22T10:21:15.967Z"
   },
   {
    "duration": 18,
    "start_time": "2021-07-22T10:21:18.048Z"
   },
   {
    "duration": 556,
    "start_time": "2021-07-22T10:21:18.785Z"
   },
   {
    "duration": 8,
    "start_time": "2021-07-22T10:21:19.344Z"
   },
   {
    "duration": 12,
    "start_time": "2021-07-22T10:21:20.678Z"
   },
   {
    "duration": 49,
    "start_time": "2021-07-22T10:21:23.763Z"
   },
   {
    "duration": 1136,
    "start_time": "2021-07-22T10:21:24.246Z"
   },
   {
    "duration": 523,
    "start_time": "2021-07-22T10:21:25.668Z"
   },
   {
    "duration": 13,
    "start_time": "2021-07-22T10:21:27.492Z"
   },
   {
    "duration": 10,
    "start_time": "2021-07-22T10:21:30.285Z"
   },
   {
    "duration": 285,
    "start_time": "2021-07-22T10:21:30.298Z"
   },
   {
    "duration": 1259,
    "start_time": "2021-07-22T10:21:30.586Z"
   },
   {
    "duration": 103,
    "start_time": "2021-07-22T10:21:31.848Z"
   },
   {
    "duration": 34,
    "start_time": "2021-07-22T10:21:34.067Z"
   },
   {
    "duration": 53,
    "start_time": "2021-07-22T10:21:34.948Z"
   },
   {
    "duration": 4,
    "start_time": "2021-07-22T10:53:36.704Z"
   },
   {
    "duration": 694,
    "start_time": "2021-07-22T10:53:36.880Z"
   },
   {
    "duration": 63,
    "start_time": "2021-07-22T10:53:37.576Z"
   },
   {
    "duration": 41,
    "start_time": "2021-07-22T10:53:37.642Z"
   },
   {
    "duration": 231,
    "start_time": "2021-07-22T10:53:38.003Z"
   },
   {
    "duration": 6,
    "start_time": "2021-07-22T10:53:38.237Z"
   },
   {
    "duration": 11,
    "start_time": "2021-07-22T10:53:38.553Z"
   },
   {
    "duration": 14,
    "start_time": "2021-07-22T10:53:38.920Z"
   },
   {
    "duration": 24,
    "start_time": "2021-07-22T10:53:39.313Z"
   },
   {
    "duration": 10,
    "start_time": "2021-07-22T10:53:39.511Z"
   },
   {
    "duration": 8,
    "start_time": "2021-07-22T10:53:39.904Z"
   },
   {
    "duration": 11,
    "start_time": "2021-07-22T10:53:40.287Z"
   },
   {
    "duration": 11,
    "start_time": "2021-07-22T10:53:40.484Z"
   },
   {
    "duration": 511,
    "start_time": "2021-07-22T10:53:41.471Z"
   },
   {
    "duration": 219,
    "start_time": "2021-07-22T10:53:41.985Z"
   },
   {
    "duration": 314,
    "start_time": "2021-07-22T10:53:42.328Z"
   },
   {
    "duration": 20,
    "start_time": "2021-07-22T10:53:42.997Z"
   },
   {
    "duration": 25,
    "start_time": "2021-07-22T10:53:43.415Z"
   },
   {
    "duration": 12,
    "start_time": "2021-07-22T10:53:44.054Z"
   },
   {
    "duration": 933,
    "start_time": "2021-07-22T10:53:44.274Z"
   },
   {
    "duration": 141,
    "start_time": "2021-07-22T10:53:45.588Z"
   },
   {
    "duration": 238,
    "start_time": "2021-07-22T10:53:46.005Z"
   },
   {
    "duration": 115,
    "start_time": "2021-07-22T10:53:46.462Z"
   },
   {
    "duration": 34,
    "start_time": "2021-07-22T10:53:46.898Z"
   },
   {
    "duration": 424,
    "start_time": "2021-07-22T10:53:47.333Z"
   },
   {
    "duration": 1252,
    "start_time": "2021-07-22T10:53:47.790Z"
   },
   {
    "duration": 133,
    "start_time": "2021-07-22T10:53:51.356Z"
   },
   {
    "duration": 106,
    "start_time": "2021-07-22T10:53:51.574Z"
   },
   {
    "duration": 25,
    "start_time": "2021-07-22T10:53:52.140Z"
   },
   {
    "duration": 432,
    "start_time": "2021-07-22T10:53:52.444Z"
   },
   {
    "duration": 8,
    "start_time": "2021-07-22T10:53:52.878Z"
   },
   {
    "duration": 13,
    "start_time": "2021-07-22T10:53:53.206Z"
   },
   {
    "duration": 48,
    "start_time": "2021-07-22T10:53:55.151Z"
   },
   {
    "duration": 1132,
    "start_time": "2021-07-22T10:53:55.433Z"
   },
   {
    "duration": 513,
    "start_time": "2021-07-22T10:53:56.568Z"
   },
   {
    "duration": 14,
    "start_time": "2021-07-22T10:53:57.820Z"
   },
   {
    "duration": 10,
    "start_time": "2021-07-22T10:53:58.405Z"
   },
   {
    "duration": 275,
    "start_time": "2021-07-22T10:53:58.648Z"
   },
   {
    "duration": 1397,
    "start_time": "2021-07-22T10:53:58.926Z"
   },
   {
    "duration": 95,
    "start_time": "2021-07-22T10:54:00.326Z"
   },
   {
    "duration": 33,
    "start_time": "2021-07-22T10:54:00.423Z"
   },
   {
    "duration": 81,
    "start_time": "2021-07-22T10:54:00.458Z"
   },
   {
    "duration": 52,
    "start_time": "2021-07-22T10:54:10.351Z"
   },
   {
    "duration": 338,
    "start_time": "2021-07-22T10:55:05.774Z"
   },
   {
    "duration": 337,
    "start_time": "2021-07-22T10:55:28.911Z"
   },
   {
    "duration": 52,
    "start_time": "2021-07-22T10:56:03.383Z"
   },
   {
    "duration": 5475,
    "start_time": "2021-07-22T10:58:11.303Z"
   },
   {
    "duration": 5462,
    "start_time": "2021-07-22T10:59:00.731Z"
   },
   {
    "duration": 4,
    "start_time": "2021-07-22T11:00:07.083Z"
   },
   {
    "duration": 716,
    "start_time": "2021-07-22T11:00:07.277Z"
   },
   {
    "duration": 63,
    "start_time": "2021-07-22T11:00:07.996Z"
   },
   {
    "duration": 49,
    "start_time": "2021-07-22T11:00:08.156Z"
   },
   {
    "duration": 247,
    "start_time": "2021-07-22T11:00:08.537Z"
   },
   {
    "duration": 15,
    "start_time": "2021-07-22T11:00:08.787Z"
   },
   {
    "duration": 12,
    "start_time": "2021-07-22T11:00:09.114Z"
   },
   {
    "duration": 15,
    "start_time": "2021-07-22T11:00:09.488Z"
   },
   {
    "duration": 24,
    "start_time": "2021-07-22T11:00:09.907Z"
   },
   {
    "duration": 11,
    "start_time": "2021-07-22T11:00:10.097Z"
   },
   {
    "duration": 9,
    "start_time": "2021-07-22T11:00:10.508Z"
   },
   {
    "duration": 11,
    "start_time": "2021-07-22T11:00:10.908Z"
   },
   {
    "duration": 11,
    "start_time": "2021-07-22T11:00:11.126Z"
   },
   {
    "duration": 567,
    "start_time": "2021-07-22T11:00:12.186Z"
   },
   {
    "duration": 213,
    "start_time": "2021-07-22T11:00:12.756Z"
   },
   {
    "duration": 311,
    "start_time": "2021-07-22T11:00:13.002Z"
   },
   {
    "duration": 20,
    "start_time": "2021-07-22T11:00:13.609Z"
   },
   {
    "duration": 23,
    "start_time": "2021-07-22T11:00:14.031Z"
   },
   {
    "duration": 12,
    "start_time": "2021-07-22T11:00:14.683Z"
   },
   {
    "duration": 633,
    "start_time": "2021-07-22T11:00:14.876Z"
   },
   {
    "duration": 126,
    "start_time": "2021-07-22T11:00:16.167Z"
   },
   {
    "duration": 109,
    "start_time": "2021-07-22T11:00:16.576Z"
   },
   {
    "duration": 116,
    "start_time": "2021-07-22T11:00:16.985Z"
   },
   {
    "duration": 35,
    "start_time": "2021-07-22T11:00:17.381Z"
   },
   {
    "duration": 404,
    "start_time": "2021-07-22T11:00:17.818Z"
   },
   {
    "duration": 1175,
    "start_time": "2021-07-22T11:00:18.259Z"
   },
   {
    "duration": 101,
    "start_time": "2021-07-22T11:00:20.387Z"
   },
   {
    "duration": 85,
    "start_time": "2021-07-22T11:00:20.602Z"
   },
   {
    "duration": 19,
    "start_time": "2021-07-22T11:00:21.012Z"
   },
   {
    "duration": 417,
    "start_time": "2021-07-22T11:00:21.214Z"
   },
   {
    "duration": 9,
    "start_time": "2021-07-22T11:00:21.634Z"
   },
   {
    "duration": 13,
    "start_time": "2021-07-22T11:00:21.853Z"
   },
   {
    "duration": 49,
    "start_time": "2021-07-22T11:00:23.400Z"
   },
   {
    "duration": 1106,
    "start_time": "2021-07-22T11:00:23.652Z"
   },
   {
    "duration": 532,
    "start_time": "2021-07-22T11:00:24.761Z"
   },
   {
    "duration": 14,
    "start_time": "2021-07-22T11:00:25.300Z"
   },
   {
    "duration": 10,
    "start_time": "2021-07-22T11:00:25.618Z"
   },
   {
    "duration": 272,
    "start_time": "2021-07-22T11:00:25.845Z"
   },
   {
    "duration": 1288,
    "start_time": "2021-07-22T11:00:26.119Z"
   },
   {
    "duration": 105,
    "start_time": "2021-07-22T11:00:27.411Z"
   },
   {
    "duration": 50,
    "start_time": "2021-07-22T11:00:27.518Z"
   },
   {
    "duration": 73,
    "start_time": "2021-07-22T11:00:27.570Z"
   },
   {
    "duration": 5220,
    "start_time": "2021-07-22T11:00:27.646Z"
   },
   {
    "duration": 2049,
    "start_time": "2021-07-22T11:00:30.822Z"
   },
   {
    "duration": 2049,
    "start_time": "2021-07-22T11:00:30.824Z"
   },
   {
    "duration": 2050,
    "start_time": "2021-07-22T11:00:30.826Z"
   },
   {
    "duration": 2045,
    "start_time": "2021-07-22T11:00:30.833Z"
   },
   {
    "duration": 2045,
    "start_time": "2021-07-22T11:00:30.835Z"
   },
   {
    "duration": 2041,
    "start_time": "2021-07-22T11:00:30.841Z"
   },
   {
    "duration": 2042,
    "start_time": "2021-07-22T11:00:30.843Z"
   },
   {
    "duration": 2041,
    "start_time": "2021-07-22T11:00:30.846Z"
   },
   {
    "duration": 5,
    "start_time": "2021-07-22T11:00:33.031Z"
   },
   {
    "duration": 16,
    "start_time": "2021-07-22T11:00:33.699Z"
   },
   {
    "duration": 179,
    "start_time": "2021-07-22T11:00:33.944Z"
   },
   {
    "duration": 285,
    "start_time": "2021-07-22T11:00:34.876Z"
   },
   {
    "duration": 2055,
    "start_time": "2021-07-22T11:00:33.109Z"
   },
   {
    "duration": 13,
    "start_time": "2021-07-22T11:00:36.294Z"
   },
   {
    "duration": 17,
    "start_time": "2021-07-22T11:00:36.508Z"
   },
   {
    "duration": 137,
    "start_time": "2021-07-22T11:00:36.940Z"
   },
   {
    "duration": 3,
    "start_time": "2021-07-22T11:00:37.383Z"
   },
   {
    "duration": 228,
    "start_time": "2021-07-22T11:00:37.848Z"
   },
   {
    "duration": 7168,
    "start_time": "2021-07-22T11:00:38.289Z"
   },
   {
    "duration": 2040,
    "start_time": "2021-07-22T11:00:43.421Z"
   },
   {
    "duration": 2040,
    "start_time": "2021-07-22T11:00:43.423Z"
   },
   {
    "duration": 2040,
    "start_time": "2021-07-22T11:00:43.425Z"
   },
   {
    "duration": 2039,
    "start_time": "2021-07-22T11:00:43.428Z"
   },
   {
    "duration": 2031,
    "start_time": "2021-07-22T11:00:43.439Z"
   },
   {
    "duration": 2031,
    "start_time": "2021-07-22T11:00:43.441Z"
   },
   {
    "duration": 2031,
    "start_time": "2021-07-22T11:00:43.443Z"
   },
   {
    "duration": 438,
    "start_time": "2021-07-22T11:00:45.884Z"
   },
   {
    "duration": 262,
    "start_time": "2021-07-22T11:00:47.853Z"
   },
   {
    "duration": 2056,
    "start_time": "2021-07-22T11:00:46.063Z"
   },
   {
    "duration": 287,
    "start_time": "2021-07-22T11:00:48.268Z"
   },
   {
    "duration": 305,
    "start_time": "2021-07-22T11:02:49.991Z"
   },
   {
    "duration": 332,
    "start_time": "2021-07-22T11:03:02.170Z"
   },
   {
    "duration": 319,
    "start_time": "2021-07-22T11:03:08.496Z"
   },
   {
    "duration": 308,
    "start_time": "2021-07-22T11:04:12.502Z"
   },
   {
    "duration": 7341,
    "start_time": "2021-07-22T11:04:13.672Z"
   },
   {
    "duration": 2029,
    "start_time": "2021-07-22T11:04:18.986Z"
   },
   {
    "duration": 2028,
    "start_time": "2021-07-22T11:04:18.989Z"
   },
   {
    "duration": 2027,
    "start_time": "2021-07-22T11:04:18.991Z"
   },
   {
    "duration": 2027,
    "start_time": "2021-07-22T11:04:18.993Z"
   },
   {
    "duration": 2025,
    "start_time": "2021-07-22T11:04:18.996Z"
   },
   {
    "duration": 2024,
    "start_time": "2021-07-22T11:04:18.998Z"
   },
   {
    "duration": 2021,
    "start_time": "2021-07-22T11:04:19.002Z"
   },
   {
    "duration": 2021,
    "start_time": "2021-07-22T11:04:19.004Z"
   },
   {
    "duration": 2020,
    "start_time": "2021-07-22T11:04:19.007Z"
   },
   {
    "duration": 278,
    "start_time": "2021-07-22T11:04:22.286Z"
   },
   {
    "duration": 1394,
    "start_time": "2021-07-22T11:04:54.049Z"
   },
   {
    "duration": 766,
    "start_time": "2021-07-22T11:04:55.446Z"
   },
   {
    "duration": 100,
    "start_time": "2021-07-22T11:04:56.215Z"
   },
   {
    "duration": 86,
    "start_time": "2021-07-22T11:04:56.318Z"
   },
   {
    "duration": 280,
    "start_time": "2021-07-22T11:04:56.408Z"
   },
   {
    "duration": 15,
    "start_time": "2021-07-22T11:04:56.690Z"
   },
   {
    "duration": 13,
    "start_time": "2021-07-22T11:04:56.707Z"
   },
   {
    "duration": 21,
    "start_time": "2021-07-22T11:04:56.724Z"
   },
   {
    "duration": 52,
    "start_time": "2021-07-22T11:04:56.749Z"
   },
   {
    "duration": 10,
    "start_time": "2021-07-22T11:04:56.804Z"
   },
   {
    "duration": 13,
    "start_time": "2021-07-22T11:04:56.816Z"
   },
   {
    "duration": 15,
    "start_time": "2021-07-22T11:04:56.831Z"
   },
   {
    "duration": 14,
    "start_time": "2021-07-22T11:04:56.849Z"
   },
   {
    "duration": 587,
    "start_time": "2021-07-22T11:04:56.902Z"
   },
   {
    "duration": 219,
    "start_time": "2021-07-22T11:04:57.491Z"
   },
   {
    "duration": 323,
    "start_time": "2021-07-22T11:04:57.713Z"
   },
   {
    "duration": 22,
    "start_time": "2021-07-22T11:04:58.038Z"
   },
   {
    "duration": 50,
    "start_time": "2021-07-22T11:04:58.062Z"
   },
   {
    "duration": 11,
    "start_time": "2021-07-22T11:04:58.114Z"
   },
   {
    "duration": 522,
    "start_time": "2021-07-22T11:04:58.128Z"
   },
   {
    "duration": 139,
    "start_time": "2021-07-22T11:04:58.653Z"
   },
   {
    "duration": 123,
    "start_time": "2021-07-22T11:04:58.794Z"
   },
   {
    "duration": 113,
    "start_time": "2021-07-22T11:04:58.923Z"
   },
   {
    "duration": 36,
    "start_time": "2021-07-22T11:04:59.040Z"
   },
   {
    "duration": 423,
    "start_time": "2021-07-22T11:04:59.099Z"
   },
   {
    "duration": 1253,
    "start_time": "2021-07-22T11:04:59.525Z"
   },
   {
    "duration": 130,
    "start_time": "2021-07-22T11:05:00.781Z"
   },
   {
    "duration": 112,
    "start_time": "2021-07-22T11:05:00.914Z"
   },
   {
    "duration": 18,
    "start_time": "2021-07-22T11:05:01.029Z"
   },
   {
    "duration": 487,
    "start_time": "2021-07-22T11:05:01.050Z"
   },
   {
    "duration": 10,
    "start_time": "2021-07-22T11:05:01.540Z"
   },
   {
    "duration": 18,
    "start_time": "2021-07-22T11:05:01.553Z"
   },
   {
    "duration": 74,
    "start_time": "2021-07-22T11:05:01.602Z"
   },
   {
    "duration": 1283,
    "start_time": "2021-07-22T11:05:01.679Z"
   },
   {
    "duration": 725,
    "start_time": "2021-07-22T11:05:02.964Z"
   },
   {
    "duration": 19,
    "start_time": "2021-07-22T11:05:03.691Z"
   },
   {
    "duration": 10,
    "start_time": "2021-07-22T11:05:03.712Z"
   },
   {
    "duration": 304,
    "start_time": "2021-07-22T11:05:03.725Z"
   },
   {
    "duration": 1177,
    "start_time": "2021-07-22T11:05:04.031Z"
   },
   {
    "duration": 103,
    "start_time": "2021-07-22T11:05:05.211Z"
   },
   {
    "duration": 49,
    "start_time": "2021-07-22T11:05:05.317Z"
   },
   {
    "duration": 73,
    "start_time": "2021-07-22T11:05:05.369Z"
   },
   {
    "duration": 5667,
    "start_time": "2021-07-22T11:05:05.445Z"
   },
   {
    "duration": 2038,
    "start_time": "2021-07-22T11:05:09.078Z"
   },
   {
    "duration": 2037,
    "start_time": "2021-07-22T11:05:09.081Z"
   },
   {
    "duration": 2036,
    "start_time": "2021-07-22T11:05:09.084Z"
   },
   {
    "duration": 2031,
    "start_time": "2021-07-22T11:05:09.091Z"
   },
   {
    "duration": 2030,
    "start_time": "2021-07-22T11:05:09.094Z"
   },
   {
    "duration": 2028,
    "start_time": "2021-07-22T11:05:09.098Z"
   },
   {
    "duration": 2029,
    "start_time": "2021-07-22T11:05:09.100Z"
   },
   {
    "duration": 2029,
    "start_time": "2021-07-22T11:05:09.102Z"
   },
   {
    "duration": 2029,
    "start_time": "2021-07-22T11:05:09.104Z"
   },
   {
    "duration": 2029,
    "start_time": "2021-07-22T11:05:09.106Z"
   },
   {
    "duration": 2028,
    "start_time": "2021-07-22T11:05:09.109Z"
   },
   {
    "duration": 2001,
    "start_time": "2021-07-22T11:05:09.139Z"
   },
   {
    "duration": 1999,
    "start_time": "2021-07-22T11:05:09.142Z"
   },
   {
    "duration": 1997,
    "start_time": "2021-07-22T11:05:09.147Z"
   },
   {
    "duration": 1996,
    "start_time": "2021-07-22T11:05:09.150Z"
   },
   {
    "duration": 1995,
    "start_time": "2021-07-22T11:05:09.153Z"
   },
   {
    "duration": 1994,
    "start_time": "2021-07-22T11:05:09.155Z"
   },
   {
    "duration": 1994,
    "start_time": "2021-07-22T11:05:09.158Z"
   },
   {
    "duration": 2034,
    "start_time": "2021-07-22T11:05:09.167Z"
   },
   {
    "duration": 2033,
    "start_time": "2021-07-22T11:05:09.170Z"
   },
   {
    "duration": 2032,
    "start_time": "2021-07-22T11:05:09.173Z"
   },
   {
    "duration": 2031,
    "start_time": "2021-07-22T11:05:09.176Z"
   },
   {
    "duration": 2031,
    "start_time": "2021-07-22T11:05:09.178Z"
   },
   {
    "duration": 2032,
    "start_time": "2021-07-22T11:05:09.180Z"
   },
   {
    "duration": 2032,
    "start_time": "2021-07-22T11:05:09.182Z"
   },
   {
    "duration": 2027,
    "start_time": "2021-07-22T11:05:09.189Z"
   },
   {
    "duration": 2025,
    "start_time": "2021-07-22T11:05:09.193Z"
   },
   {
    "duration": 272,
    "start_time": "2021-07-22T11:07:32.694Z"
   },
   {
    "duration": 308,
    "start_time": "2021-07-22T11:08:06.668Z"
   },
   {
    "duration": 105,
    "start_time": "2021-07-22T11:10:11.195Z"
   },
   {
    "duration": 91,
    "start_time": "2021-07-22T11:10:17.984Z"
   },
   {
    "duration": 97,
    "start_time": "2021-07-22T11:10:44.133Z"
   },
   {
    "duration": 304,
    "start_time": "2021-07-22T11:10:45.215Z"
   },
   {
    "duration": 296,
    "start_time": "2021-07-22T11:10:46.405Z"
   },
   {
    "duration": 285,
    "start_time": "2021-07-22T11:10:47.267Z"
   },
   {
    "duration": 280,
    "start_time": "2021-07-22T11:10:48.760Z"
   },
   {
    "duration": 269,
    "start_time": "2021-07-22T11:10:49.468Z"
   },
   {
    "duration": 280,
    "start_time": "2021-07-22T11:10:51.411Z"
   },
   {
    "duration": 2048,
    "start_time": "2021-07-22T11:10:49.645Z"
   },
   {
    "duration": 269,
    "start_time": "2021-07-22T11:10:52.895Z"
   },
   {
    "duration": 482,
    "start_time": "2021-07-22T11:10:53.341Z"
   },
   {
    "duration": 99,
    "start_time": "2021-07-22T11:12:42.738Z"
   },
   {
    "duration": 281,
    "start_time": "2021-07-22T11:12:48.470Z"
   },
   {
    "duration": 282,
    "start_time": "2021-07-22T11:12:49.861Z"
   },
   {
    "duration": 280,
    "start_time": "2021-07-22T11:12:51.258Z"
   },
   {
    "duration": 279,
    "start_time": "2021-07-22T11:12:53.435Z"
   },
   {
    "duration": 288,
    "start_time": "2021-07-22T11:14:53.430Z"
   },
   {
    "duration": 4,
    "start_time": "2021-07-22T11:15:06.627Z"
   },
   {
    "duration": 350,
    "start_time": "2021-07-22T11:15:41.350Z"
   },
   {
    "duration": 7,
    "start_time": "2021-07-22T11:17:28.546Z"
   },
   {
    "duration": 25,
    "start_time": "2021-07-22T11:17:29.915Z"
   },
   {
    "duration": 19,
    "start_time": "2021-07-22T11:17:31.735Z"
   },
   {
    "duration": 27,
    "start_time": "2021-07-22T11:17:33.599Z"
   },
   {
    "duration": 18,
    "start_time": "2021-07-22T11:17:34.460Z"
   },
   {
    "duration": 27,
    "start_time": "2021-07-22T11:17:35.602Z"
   },
   {
    "duration": 1203,
    "start_time": "2021-07-22T11:17:36.991Z"
   },
   {
    "duration": 14,
    "start_time": "2021-07-22T11:17:43.170Z"
   },
   {
    "duration": 6,
    "start_time": "2021-07-22T11:17:44.582Z"
   },
   {
    "duration": 17,
    "start_time": "2021-07-22T11:17:46.321Z"
   },
   {
    "duration": 1100,
    "start_time": "2021-07-22T11:17:46.981Z"
   },
   {
    "duration": 18,
    "start_time": "2021-07-22T11:17:48.982Z"
   },
   {
    "duration": 481,
    "start_time": "2021-07-22T11:17:52.162Z"
   },
   {
    "duration": 11,
    "start_time": "2021-07-22T11:17:56.101Z"
   },
   {
    "duration": 18,
    "start_time": "2021-07-22T11:17:56.817Z"
   },
   {
    "duration": 4,
    "start_time": "2021-07-22T11:17:58.244Z"
   },
   {
    "duration": 4,
    "start_time": "2021-07-22T11:17:59.497Z"
   },
   {
    "duration": 435,
    "start_time": "2021-07-22T11:18:00.955Z"
   },
   {
    "duration": 112,
    "start_time": "2021-07-22T11:18:02.464Z"
   },
   {
    "duration": 405,
    "start_time": "2021-07-22T11:18:04.296Z"
   },
   {
    "duration": 104,
    "start_time": "2021-07-22T11:22:52.396Z"
   },
   {
    "duration": 117,
    "start_time": "2021-07-22T11:28:06.455Z"
   },
   {
    "duration": 515,
    "start_time": "2021-07-22T11:28:16.921Z"
   },
   {
    "duration": 28,
    "start_time": "2021-07-22T11:31:00.818Z"
   },
   {
    "duration": 47,
    "start_time": "2021-07-22T11:31:09.517Z"
   },
   {
    "duration": 314,
    "start_time": "2021-07-22T11:31:37.311Z"
   },
   {
    "duration": 34,
    "start_time": "2021-07-22T11:36:28.378Z"
   },
   {
    "duration": 11,
    "start_time": "2021-07-22T11:37:11.593Z"
   },
   {
    "duration": 33,
    "start_time": "2021-07-22T11:37:12.002Z"
   },
   {
    "duration": 289,
    "start_time": "2021-07-22T11:37:15.665Z"
   },
   {
    "duration": 4,
    "start_time": "2021-07-22T11:39:00.552Z"
   },
   {
    "duration": 821,
    "start_time": "2021-07-22T11:39:00.754Z"
   },
   {
    "duration": 66,
    "start_time": "2021-07-22T11:39:01.577Z"
   },
   {
    "duration": 61,
    "start_time": "2021-07-22T11:39:01.645Z"
   },
   {
    "duration": 249,
    "start_time": "2021-07-22T11:39:01.958Z"
   },
   {
    "duration": 7,
    "start_time": "2021-07-22T11:39:02.210Z"
   },
   {
    "duration": 11,
    "start_time": "2021-07-22T11:39:02.583Z"
   },
   {
    "duration": 15,
    "start_time": "2021-07-22T11:39:03.000Z"
   },
   {
    "duration": 23,
    "start_time": "2021-07-22T11:39:03.441Z"
   },
   {
    "duration": 12,
    "start_time": "2021-07-22T11:39:03.702Z"
   },
   {
    "duration": 9,
    "start_time": "2021-07-22T11:39:04.155Z"
   },
   {
    "duration": 11,
    "start_time": "2021-07-22T11:39:04.569Z"
   },
   {
    "duration": 11,
    "start_time": "2021-07-22T11:39:04.776Z"
   },
   {
    "duration": 475,
    "start_time": "2021-07-22T11:39:05.901Z"
   },
   {
    "duration": 217,
    "start_time": "2021-07-22T11:39:06.379Z"
   },
   {
    "duration": 315,
    "start_time": "2021-07-22T11:39:06.830Z"
   },
   {
    "duration": 22,
    "start_time": "2021-07-22T11:39:07.552Z"
   },
   {
    "duration": 24,
    "start_time": "2021-07-22T11:39:08.045Z"
   },
   {
    "duration": 12,
    "start_time": "2021-07-22T11:39:08.751Z"
   },
   {
    "duration": 645,
    "start_time": "2021-07-22T11:39:08.978Z"
   },
   {
    "duration": 113,
    "start_time": "2021-07-22T11:39:10.413Z"
   },
   {
    "duration": 110,
    "start_time": "2021-07-22T11:39:10.861Z"
   },
   {
    "duration": 115,
    "start_time": "2021-07-22T11:39:11.305Z"
   },
   {
    "duration": 34,
    "start_time": "2021-07-22T11:39:11.773Z"
   },
   {
    "duration": 425,
    "start_time": "2021-07-22T11:39:12.294Z"
   },
   {
    "duration": 1144,
    "start_time": "2021-07-22T11:39:12.776Z"
   },
   {
    "duration": 110,
    "start_time": "2021-07-22T11:39:15.304Z"
   },
   {
    "duration": 95,
    "start_time": "2021-07-22T11:39:15.582Z"
   },
   {
    "duration": 19,
    "start_time": "2021-07-22T11:39:18.707Z"
   },
   {
    "duration": 426,
    "start_time": "2021-07-22T11:39:19.145Z"
   },
   {
    "duration": 8,
    "start_time": "2021-07-22T11:39:19.574Z"
   },
   {
    "duration": 11,
    "start_time": "2021-07-22T11:39:19.985Z"
   },
   {
    "duration": 46,
    "start_time": "2021-07-22T11:39:22.065Z"
   },
   {
    "duration": 1092,
    "start_time": "2021-07-22T11:39:22.350Z"
   },
   {
    "duration": 619,
    "start_time": "2021-07-22T11:39:23.444Z"
   },
   {
    "duration": 12,
    "start_time": "2021-07-22T11:39:24.372Z"
   },
   {
    "duration": 10,
    "start_time": "2021-07-22T11:39:24.903Z"
   },
   {
    "duration": 257,
    "start_time": "2021-07-22T11:39:25.180Z"
   },
   {
    "duration": 1137,
    "start_time": "2021-07-22T11:39:25.476Z"
   },
   {
    "duration": 99,
    "start_time": "2021-07-22T11:39:26.615Z"
   },
   {
    "duration": 50,
    "start_time": "2021-07-22T11:39:26.717Z"
   },
   {
    "duration": 50,
    "start_time": "2021-07-22T11:39:27.065Z"
   },
   {
    "duration": 5,
    "start_time": "2021-07-22T11:39:28.951Z"
   },
   {
    "duration": 25,
    "start_time": "2021-07-22T11:39:29.655Z"
   },
   {
    "duration": 19,
    "start_time": "2021-07-22T11:39:30.378Z"
   },
   {
    "duration": 26,
    "start_time": "2021-07-22T11:39:31.241Z"
   },
   {
    "duration": 18,
    "start_time": "2021-07-22T11:39:31.910Z"
   },
   {
    "duration": 23,
    "start_time": "2021-07-22T11:39:32.427Z"
   },
   {
    "duration": 1161,
    "start_time": "2021-07-22T11:39:33.039Z"
   },
   {
    "duration": 12,
    "start_time": "2021-07-22T11:39:35.074Z"
   },
   {
    "duration": 5,
    "start_time": "2021-07-22T11:39:35.682Z"
   },
   {
    "duration": 17,
    "start_time": "2021-07-22T11:39:36.599Z"
   },
   {
    "duration": 299,
    "start_time": "2021-07-22T11:39:36.878Z"
   },
   {
    "duration": 18,
    "start_time": "2021-07-22T11:39:38.253Z"
   },
   {
    "duration": 507,
    "start_time": "2021-07-22T11:39:38.697Z"
   },
   {
    "duration": 3,
    "start_time": "2021-07-22T11:39:40.754Z"
   },
   {
    "duration": 4,
    "start_time": "2021-07-22T11:39:42.349Z"
   },
   {
    "duration": 17,
    "start_time": "2021-07-22T11:39:43.683Z"
   },
   {
    "duration": 10,
    "start_time": "2021-07-22T11:39:44.534Z"
   },
   {
    "duration": 34,
    "start_time": "2021-07-22T11:39:45.235Z"
   },
   {
    "duration": 270,
    "start_time": "2021-07-22T11:39:47.070Z"
   },
   {
    "duration": 1462,
    "start_time": "2021-07-22T11:41:39.516Z"
   },
   {
    "duration": 826,
    "start_time": "2021-07-22T11:41:40.981Z"
   },
   {
    "duration": 68,
    "start_time": "2021-07-22T11:41:41.810Z"
   },
   {
    "duration": 69,
    "start_time": "2021-07-22T11:41:41.880Z"
   },
   {
    "duration": 293,
    "start_time": "2021-07-22T11:41:41.952Z"
   },
   {
    "duration": 7,
    "start_time": "2021-07-22T11:41:42.248Z"
   },
   {
    "duration": 22,
    "start_time": "2021-07-22T11:41:42.258Z"
   },
   {
    "duration": 17,
    "start_time": "2021-07-22T11:41:42.302Z"
   },
   {
    "duration": 26,
    "start_time": "2021-07-22T11:41:42.323Z"
   },
   {
    "duration": 11,
    "start_time": "2021-07-22T11:41:42.353Z"
   },
   {
    "duration": 12,
    "start_time": "2021-07-22T11:41:42.402Z"
   },
   {
    "duration": 14,
    "start_time": "2021-07-22T11:41:42.417Z"
   },
   {
    "duration": 17,
    "start_time": "2021-07-22T11:41:42.434Z"
   },
   {
    "duration": 513,
    "start_time": "2021-07-22T11:41:42.453Z"
   },
   {
    "duration": 226,
    "start_time": "2021-07-22T11:41:42.968Z"
   },
   {
    "duration": 329,
    "start_time": "2021-07-22T11:41:43.197Z"
   },
   {
    "duration": 20,
    "start_time": "2021-07-22T11:41:43.528Z"
   },
   {
    "duration": 25,
    "start_time": "2021-07-22T11:41:43.550Z"
   },
   {
    "duration": 11,
    "start_time": "2021-07-22T11:41:43.601Z"
   },
   {
    "duration": 521,
    "start_time": "2021-07-22T11:41:43.615Z"
   },
   {
    "duration": 141,
    "start_time": "2021-07-22T11:41:44.138Z"
   },
   {
    "duration": 131,
    "start_time": "2021-07-22T11:41:44.281Z"
   },
   {
    "duration": 113,
    "start_time": "2021-07-22T11:41:44.418Z"
   },
   {
    "duration": 37,
    "start_time": "2021-07-22T11:41:44.535Z"
   },
   {
    "duration": 429,
    "start_time": "2021-07-22T11:41:44.575Z"
   },
   {
    "duration": 1144,
    "start_time": "2021-07-22T11:41:45.006Z"
   },
   {
    "duration": 122,
    "start_time": "2021-07-22T11:41:46.153Z"
   },
   {
    "duration": 103,
    "start_time": "2021-07-22T11:41:46.278Z"
   },
   {
    "duration": 32,
    "start_time": "2021-07-22T11:41:46.384Z"
   },
   {
    "duration": 441,
    "start_time": "2021-07-22T11:41:46.418Z"
   },
   {
    "duration": 9,
    "start_time": "2021-07-22T11:41:46.861Z"
   },
   {
    "duration": 31,
    "start_time": "2021-07-22T11:41:46.872Z"
   },
   {
    "duration": 47,
    "start_time": "2021-07-22T11:41:46.905Z"
   },
   {
    "duration": 1111,
    "start_time": "2021-07-22T11:41:46.954Z"
   },
   {
    "duration": 576,
    "start_time": "2021-07-22T11:41:48.068Z"
   },
   {
    "duration": 13,
    "start_time": "2021-07-22T11:41:48.646Z"
   },
   {
    "duration": 9,
    "start_time": "2021-07-22T11:41:48.662Z"
   },
   {
    "duration": 289,
    "start_time": "2021-07-22T11:41:48.674Z"
   },
   {
    "duration": 1155,
    "start_time": "2021-07-22T11:41:48.966Z"
   },
   {
    "duration": 104,
    "start_time": "2021-07-22T11:41:50.124Z"
   },
   {
    "duration": 71,
    "start_time": "2021-07-22T11:41:50.231Z"
   },
   {
    "duration": 53,
    "start_time": "2021-07-22T11:41:50.304Z"
   },
   {
    "duration": 5,
    "start_time": "2021-07-22T11:41:50.359Z"
   },
   {
    "duration": 54,
    "start_time": "2021-07-22T11:41:50.366Z"
   },
   {
    "duration": 20,
    "start_time": "2021-07-22T11:41:50.423Z"
   },
   {
    "duration": 28,
    "start_time": "2021-07-22T11:41:50.445Z"
   },
   {
    "duration": 38,
    "start_time": "2021-07-22T11:41:50.476Z"
   },
   {
    "duration": 41,
    "start_time": "2021-07-22T11:41:50.517Z"
   },
   {
    "duration": 1229,
    "start_time": "2021-07-22T11:41:50.560Z"
   },
   {
    "duration": 18,
    "start_time": "2021-07-22T11:41:51.792Z"
   },
   {
    "duration": 10,
    "start_time": "2021-07-22T11:41:51.813Z"
   },
   {
    "duration": 15,
    "start_time": "2021-07-22T11:41:51.826Z"
   },
   {
    "duration": 1107,
    "start_time": "2021-07-22T11:41:51.844Z"
   },
   {
    "duration": 48,
    "start_time": "2021-07-22T11:41:52.953Z"
   },
   {
    "duration": 672,
    "start_time": "2021-07-22T11:41:53.003Z"
   },
   {
    "duration": 4,
    "start_time": "2021-07-22T11:41:53.678Z"
   },
   {
    "duration": 21,
    "start_time": "2021-07-22T11:41:53.684Z"
   },
   {
    "duration": 23,
    "start_time": "2021-07-22T11:41:53.707Z"
   },
   {
    "duration": 9,
    "start_time": "2021-07-22T11:41:53.733Z"
   },
   {
    "duration": 596,
    "start_time": "2021-07-22T11:41:53.744Z"
   },
   {
    "duration": 2044,
    "start_time": "2021-07-22T11:41:52.298Z"
   },
   {
    "duration": 2042,
    "start_time": "2021-07-22T11:41:52.302Z"
   },
   {
    "duration": 2039,
    "start_time": "2021-07-22T11:41:52.306Z"
   },
   {
    "duration": 2039,
    "start_time": "2021-07-22T11:41:52.308Z"
   },
   {
    "duration": 2038,
    "start_time": "2021-07-22T11:41:52.310Z"
   },
   {
    "duration": 2037,
    "start_time": "2021-07-22T11:41:52.312Z"
   },
   {
    "duration": 2035,
    "start_time": "2021-07-22T11:41:52.315Z"
   },
   {
    "duration": 2034,
    "start_time": "2021-07-22T11:41:52.317Z"
   },
   {
    "duration": 1943,
    "start_time": "2021-07-22T11:41:52.410Z"
   },
   {
    "duration": 1472,
    "start_time": "2021-07-22T11:44:27.875Z"
   },
   {
    "duration": 774,
    "start_time": "2021-07-22T11:44:29.349Z"
   },
   {
    "duration": 67,
    "start_time": "2021-07-22T11:44:30.126Z"
   },
   {
    "duration": 61,
    "start_time": "2021-07-22T11:44:30.196Z"
   },
   {
    "duration": 271,
    "start_time": "2021-07-22T11:44:30.260Z"
   },
   {
    "duration": 6,
    "start_time": "2021-07-22T11:44:30.534Z"
   },
   {
    "duration": 43,
    "start_time": "2021-07-22T11:44:30.542Z"
   },
   {
    "duration": 13,
    "start_time": "2021-07-22T11:44:30.589Z"
   },
   {
    "duration": 31,
    "start_time": "2021-07-22T11:44:30.606Z"
   },
   {
    "duration": 10,
    "start_time": "2021-07-22T11:44:30.640Z"
   },
   {
    "duration": 14,
    "start_time": "2021-07-22T11:44:30.652Z"
   },
   {
    "duration": 36,
    "start_time": "2021-07-22T11:44:30.669Z"
   },
   {
    "duration": 16,
    "start_time": "2021-07-22T11:44:30.707Z"
   },
   {
    "duration": 506,
    "start_time": "2021-07-22T11:44:30.726Z"
   },
   {
    "duration": 302,
    "start_time": "2021-07-22T11:44:31.235Z"
   },
   {
    "duration": 321,
    "start_time": "2021-07-22T11:44:31.540Z"
   },
   {
    "duration": 20,
    "start_time": "2021-07-22T11:44:31.863Z"
   },
   {
    "duration": 24,
    "start_time": "2021-07-22T11:44:31.900Z"
   },
   {
    "duration": 10,
    "start_time": "2021-07-22T11:44:31.926Z"
   },
   {
    "duration": 531,
    "start_time": "2021-07-22T11:44:31.939Z"
   },
   {
    "duration": 137,
    "start_time": "2021-07-22T11:44:32.472Z"
   },
   {
    "duration": 135,
    "start_time": "2021-07-22T11:44:32.612Z"
   },
   {
    "duration": 113,
    "start_time": "2021-07-22T11:44:32.753Z"
   },
   {
    "duration": 51,
    "start_time": "2021-07-22T11:44:32.870Z"
   },
   {
    "duration": 417,
    "start_time": "2021-07-22T11:44:32.924Z"
   },
   {
    "duration": 1201,
    "start_time": "2021-07-22T11:44:33.343Z"
   },
   {
    "duration": 121,
    "start_time": "2021-07-22T11:44:34.546Z"
   },
   {
    "duration": 102,
    "start_time": "2021-07-22T11:44:34.669Z"
   },
   {
    "duration": 32,
    "start_time": "2021-07-22T11:44:34.773Z"
   },
   {
    "duration": 433,
    "start_time": "2021-07-22T11:44:34.807Z"
   },
   {
    "duration": 9,
    "start_time": "2021-07-22T11:44:35.242Z"
   },
   {
    "duration": 12,
    "start_time": "2021-07-22T11:44:35.253Z"
   },
   {
    "duration": 73,
    "start_time": "2021-07-22T11:44:35.267Z"
   },
   {
    "duration": 1096,
    "start_time": "2021-07-22T11:44:35.343Z"
   },
   {
    "duration": 700,
    "start_time": "2021-07-22T11:44:36.442Z"
   },
   {
    "duration": 15,
    "start_time": "2021-07-22T11:44:37.145Z"
   },
   {
    "duration": 11,
    "start_time": "2021-07-22T11:44:37.163Z"
   },
   {
    "duration": 290,
    "start_time": "2021-07-22T11:44:37.202Z"
   },
   {
    "duration": 1157,
    "start_time": "2021-07-22T11:44:37.494Z"
   },
   {
    "duration": 103,
    "start_time": "2021-07-22T11:44:38.655Z"
   },
   {
    "duration": 74,
    "start_time": "2021-07-22T11:44:38.762Z"
   },
   {
    "duration": 83,
    "start_time": "2021-07-22T11:44:38.839Z"
   },
   {
    "duration": 8,
    "start_time": "2021-07-22T11:44:38.925Z"
   },
   {
    "duration": 30,
    "start_time": "2021-07-22T11:44:38.935Z"
   },
   {
    "duration": 47,
    "start_time": "2021-07-22T11:44:38.968Z"
   },
   {
    "duration": 22,
    "start_time": "2021-07-22T11:44:39.018Z"
   },
   {
    "duration": 16,
    "start_time": "2021-07-22T11:44:39.043Z"
   },
   {
    "duration": 62,
    "start_time": "2021-07-22T11:44:39.062Z"
   },
   {
    "duration": 1211,
    "start_time": "2021-07-22T11:44:39.126Z"
   },
   {
    "duration": 13,
    "start_time": "2021-07-22T11:44:40.339Z"
   },
   {
    "duration": 8,
    "start_time": "2021-07-22T11:44:40.355Z"
   },
   {
    "duration": 44,
    "start_time": "2021-07-22T11:44:40.366Z"
   },
   {
    "duration": 1310,
    "start_time": "2021-07-22T11:44:40.412Z"
   },
   {
    "duration": 76,
    "start_time": "2021-07-22T11:44:41.725Z"
   },
   {
    "duration": 617,
    "start_time": "2021-07-22T11:44:41.804Z"
   },
   {
    "duration": 4,
    "start_time": "2021-07-22T11:44:42.423Z"
   },
   {
    "duration": 9,
    "start_time": "2021-07-22T11:44:42.429Z"
   },
   {
    "duration": 24,
    "start_time": "2021-07-22T11:44:42.440Z"
   },
   {
    "duration": 36,
    "start_time": "2021-07-22T11:44:42.467Z"
   },
   {
    "duration": 507,
    "start_time": "2021-07-22T11:44:42.506Z"
   },
   {
    "duration": 2057,
    "start_time": "2021-07-22T11:44:40.958Z"
   },
   {
    "duration": 2048,
    "start_time": "2021-07-22T11:44:40.969Z"
   },
   {
    "duration": 2047,
    "start_time": "2021-07-22T11:44:40.972Z"
   },
   {
    "duration": 2046,
    "start_time": "2021-07-22T11:44:40.974Z"
   },
   {
    "duration": 2045,
    "start_time": "2021-07-22T11:44:40.977Z"
   },
   {
    "duration": 2044,
    "start_time": "2021-07-22T11:44:40.979Z"
   },
   {
    "duration": 2043,
    "start_time": "2021-07-22T11:44:40.982Z"
   },
   {
    "duration": 2037,
    "start_time": "2021-07-22T11:44:40.989Z"
   },
   {
    "duration": 2037,
    "start_time": "2021-07-22T11:44:40.991Z"
   },
   {
    "duration": 224,
    "start_time": "2021-07-22T11:45:48.369Z"
   },
   {
    "duration": 375,
    "start_time": "2021-07-22T11:45:48.875Z"
   },
   {
    "duration": 95,
    "start_time": "2021-07-22T11:45:58.456Z"
   },
   {
    "duration": 106,
    "start_time": "2021-07-22T11:46:03.794Z"
   },
   {
    "duration": 1507,
    "start_time": "2021-07-22T11:46:23.775Z"
   },
   {
    "duration": 813,
    "start_time": "2021-07-22T11:46:25.284Z"
   },
   {
    "duration": 65,
    "start_time": "2021-07-22T11:46:26.100Z"
   },
   {
    "duration": 76,
    "start_time": "2021-07-22T11:46:26.167Z"
   },
   {
    "duration": 276,
    "start_time": "2021-07-22T11:46:26.246Z"
   },
   {
    "duration": 6,
    "start_time": "2021-07-22T11:46:26.524Z"
   },
   {
    "duration": 11,
    "start_time": "2021-07-22T11:46:26.533Z"
   },
   {
    "duration": 14,
    "start_time": "2021-07-22T11:46:26.548Z"
   },
   {
    "duration": 25,
    "start_time": "2021-07-22T11:46:26.600Z"
   },
   {
    "duration": 11,
    "start_time": "2021-07-22T11:46:26.627Z"
   },
   {
    "duration": 13,
    "start_time": "2021-07-22T11:46:26.640Z"
   },
   {
    "duration": 52,
    "start_time": "2021-07-22T11:46:26.655Z"
   },
   {
    "duration": 19,
    "start_time": "2021-07-22T11:46:26.709Z"
   },
   {
    "duration": 528,
    "start_time": "2021-07-22T11:46:26.731Z"
   },
   {
    "duration": 231,
    "start_time": "2021-07-22T11:46:27.262Z"
   },
   {
    "duration": 332,
    "start_time": "2021-07-22T11:46:27.496Z"
   },
   {
    "duration": 24,
    "start_time": "2021-07-22T11:46:27.831Z"
   },
   {
    "duration": 53,
    "start_time": "2021-07-22T11:46:27.858Z"
   },
   {
    "duration": 11,
    "start_time": "2021-07-22T11:46:27.914Z"
   },
   {
    "duration": 521,
    "start_time": "2021-07-22T11:46:27.928Z"
   },
   {
    "duration": 141,
    "start_time": "2021-07-22T11:46:28.451Z"
   },
   {
    "duration": 133,
    "start_time": "2021-07-22T11:46:28.595Z"
   },
   {
    "duration": 123,
    "start_time": "2021-07-22T11:46:28.736Z"
   },
   {
    "duration": 53,
    "start_time": "2021-07-22T11:46:28.864Z"
   },
   {
    "duration": 441,
    "start_time": "2021-07-22T11:46:28.921Z"
   },
   {
    "duration": 1200,
    "start_time": "2021-07-22T11:46:29.364Z"
   },
   {
    "duration": 123,
    "start_time": "2021-07-22T11:46:30.568Z"
   },
   {
    "duration": 93,
    "start_time": "2021-07-22T11:46:30.694Z"
   },
   {
    "duration": 24,
    "start_time": "2021-07-22T11:46:30.801Z"
   },
   {
    "duration": 654,
    "start_time": "2021-07-22T11:46:30.828Z"
   },
   {
    "duration": 18,
    "start_time": "2021-07-22T11:46:31.484Z"
   },
   {
    "duration": 18,
    "start_time": "2021-07-22T11:46:31.505Z"
   },
   {
    "duration": 94,
    "start_time": "2021-07-22T11:46:31.526Z"
   },
   {
    "duration": 1678,
    "start_time": "2021-07-22T11:46:31.624Z"
   },
   {
    "duration": 872,
    "start_time": "2021-07-22T11:46:33.305Z"
   },
   {
    "duration": 29,
    "start_time": "2021-07-22T11:46:34.180Z"
   },
   {
    "duration": 12,
    "start_time": "2021-07-22T11:46:34.212Z"
   },
   {
    "duration": 391,
    "start_time": "2021-07-22T11:46:34.227Z"
   },
   {
    "duration": 1707,
    "start_time": "2021-07-22T11:46:34.621Z"
   },
   {
    "duration": 127,
    "start_time": "2021-07-22T11:46:36.331Z"
   },
   {
    "duration": 74,
    "start_time": "2021-07-22T11:46:36.461Z"
   },
   {
    "duration": 77,
    "start_time": "2021-07-22T11:46:36.538Z"
   },
   {
    "duration": 5,
    "start_time": "2021-07-22T11:46:36.617Z"
   },
   {
    "duration": 42,
    "start_time": "2021-07-22T11:46:36.624Z"
   },
   {
    "duration": 34,
    "start_time": "2021-07-22T11:46:36.668Z"
   },
   {
    "duration": 26,
    "start_time": "2021-07-22T11:46:36.705Z"
   },
   {
    "duration": 19,
    "start_time": "2021-07-22T11:46:36.734Z"
   },
   {
    "duration": 57,
    "start_time": "2021-07-22T11:46:36.755Z"
   },
   {
    "duration": 1242,
    "start_time": "2021-07-22T11:46:36.815Z"
   },
   {
    "duration": 13,
    "start_time": "2021-07-22T11:46:38.059Z"
   },
   {
    "duration": 28,
    "start_time": "2021-07-22T11:46:38.074Z"
   },
   {
    "duration": 18,
    "start_time": "2021-07-22T11:46:38.105Z"
   },
   {
    "duration": 1483,
    "start_time": "2021-07-22T11:46:38.127Z"
   },
   {
    "duration": 18,
    "start_time": "2021-07-22T11:46:39.613Z"
   },
   {
    "duration": 683,
    "start_time": "2021-07-22T11:46:39.634Z"
   },
   {
    "duration": 10,
    "start_time": "2021-07-22T11:46:40.319Z"
   },
   {
    "duration": 23,
    "start_time": "2021-07-22T11:46:40.331Z"
   },
   {
    "duration": 3,
    "start_time": "2021-07-22T11:46:40.356Z"
   },
   {
    "duration": 10,
    "start_time": "2021-07-22T11:46:40.361Z"
   },
   {
    "duration": 614,
    "start_time": "2021-07-22T11:46:40.401Z"
   },
   {
    "duration": 2035,
    "start_time": "2021-07-22T11:46:38.983Z"
   },
   {
    "duration": 2032,
    "start_time": "2021-07-22T11:46:38.988Z"
   },
   {
    "duration": 2032,
    "start_time": "2021-07-22T11:46:38.990Z"
   },
   {
    "duration": 2032,
    "start_time": "2021-07-22T11:46:38.992Z"
   },
   {
    "duration": 2032,
    "start_time": "2021-07-22T11:46:38.994Z"
   },
   {
    "duration": 2032,
    "start_time": "2021-07-22T11:46:38.996Z"
   },
   {
    "duration": 2031,
    "start_time": "2021-07-22T11:46:38.999Z"
   },
   {
    "duration": 2034,
    "start_time": "2021-07-22T11:46:39.001Z"
   },
   {
    "duration": 2034,
    "start_time": "2021-07-22T11:46:39.003Z"
   },
   {
    "duration": 306,
    "start_time": "2021-07-23T15:51:52.324Z"
   },
   {
    "duration": 1425,
    "start_time": "2021-07-23T15:51:58.528Z"
   },
   {
    "duration": 758,
    "start_time": "2021-07-23T15:51:59.956Z"
   },
   {
    "duration": 61,
    "start_time": "2021-07-23T15:52:00.717Z"
   },
   {
    "duration": 56,
    "start_time": "2021-07-23T15:52:00.781Z"
   },
   {
    "duration": 276,
    "start_time": "2021-07-23T15:52:00.840Z"
   },
   {
    "duration": 7,
    "start_time": "2021-07-23T15:52:01.118Z"
   },
   {
    "duration": 11,
    "start_time": "2021-07-23T15:52:01.128Z"
   },
   {
    "duration": 14,
    "start_time": "2021-07-23T15:52:01.604Z"
   },
   {
    "duration": 25,
    "start_time": "2021-07-23T15:52:02.524Z"
   },
   {
    "duration": 11,
    "start_time": "2021-07-23T15:52:02.921Z"
   },
   {
    "duration": 9,
    "start_time": "2021-07-23T15:52:03.691Z"
   },
   {
    "duration": 11,
    "start_time": "2021-07-23T15:52:04.423Z"
   },
   {
    "duration": 10,
    "start_time": "2021-07-23T15:52:04.897Z"
   },
   {
    "duration": 9,
    "start_time": "2021-07-23T15:52:05.417Z"
   },
   {
    "duration": 8,
    "start_time": "2021-07-23T15:52:30.767Z"
   },
   {
    "duration": 18,
    "start_time": "2021-07-23T15:53:58.529Z"
   },
   {
    "duration": 137,
    "start_time": "2021-07-23T15:54:17.570Z"
   },
   {
    "duration": 105,
    "start_time": "2021-07-23T16:10:39.096Z"
   },
   {
    "duration": 136,
    "start_time": "2021-07-23T16:10:56.356Z"
   },
   {
    "duration": 18,
    "start_time": "2021-07-23T16:11:25.777Z"
   },
   {
    "duration": 90,
    "start_time": "2021-07-23T16:13:51.415Z"
   },
   {
    "duration": 810,
    "start_time": "2021-07-23T16:23:30.989Z"
   },
   {
    "duration": 4,
    "start_time": "2021-07-23T16:23:42.335Z"
   },
   {
    "duration": 777,
    "start_time": "2021-07-23T16:23:42.544Z"
   },
   {
    "duration": 64,
    "start_time": "2021-07-23T16:23:43.323Z"
   },
   {
    "duration": 37,
    "start_time": "2021-07-23T16:23:43.389Z"
   },
   {
    "duration": 231,
    "start_time": "2021-07-23T16:23:43.708Z"
   },
   {
    "duration": 7,
    "start_time": "2021-07-23T16:23:43.941Z"
   },
   {
    "duration": 12,
    "start_time": "2021-07-23T16:23:44.355Z"
   },
   {
    "duration": 13,
    "start_time": "2021-07-23T16:23:44.753Z"
   },
   {
    "duration": 31,
    "start_time": "2021-07-23T16:23:45.168Z"
   },
   {
    "duration": 11,
    "start_time": "2021-07-23T16:23:45.383Z"
   },
   {
    "duration": 8,
    "start_time": "2021-07-23T16:23:45.792Z"
   },
   {
    "duration": 10,
    "start_time": "2021-07-23T16:23:46.204Z"
   },
   {
    "duration": 11,
    "start_time": "2021-07-23T16:23:46.396Z"
   },
   {
    "duration": 7,
    "start_time": "2021-07-23T16:23:46.600Z"
   },
   {
    "duration": 17,
    "start_time": "2021-07-23T16:23:46.800Z"
   },
   {
    "duration": 130,
    "start_time": "2021-07-23T16:23:47.011Z"
   },
   {
    "duration": 138,
    "start_time": "2021-07-23T16:23:48.480Z"
   },
   {
    "duration": 18,
    "start_time": "2021-07-23T16:23:49.128Z"
   },
   {
    "duration": 365,
    "start_time": "2021-07-23T16:23:49.566Z"
   },
   {
    "duration": 22,
    "start_time": "2021-07-23T16:23:50.245Z"
   },
   {
    "duration": 25,
    "start_time": "2021-07-23T16:23:50.695Z"
   },
   {
    "duration": 12,
    "start_time": "2021-07-23T16:23:51.476Z"
   },
   {
    "duration": 483,
    "start_time": "2021-07-23T16:23:51.988Z"
   },
   {
    "duration": 98,
    "start_time": "2021-07-23T16:23:53.413Z"
   },
   {
    "duration": 110,
    "start_time": "2021-07-23T16:23:53.901Z"
   },
   {
    "duration": 103,
    "start_time": "2021-07-23T16:23:54.428Z"
   },
   {
    "duration": 33,
    "start_time": "2021-07-23T16:23:54.918Z"
   },
   {
    "duration": 381,
    "start_time": "2021-07-23T16:23:55.377Z"
   },
   {
    "duration": 1220,
    "start_time": "2021-07-23T16:23:55.867Z"
   },
   {
    "duration": 105,
    "start_time": "2021-07-23T16:23:58.466Z"
   },
   {
    "duration": 85,
    "start_time": "2021-07-23T16:23:58.731Z"
   },
   {
    "duration": 20,
    "start_time": "2021-07-23T16:23:59.509Z"
   },
   {
    "duration": 433,
    "start_time": "2021-07-23T16:23:59.806Z"
   },
   {
    "duration": 11,
    "start_time": "2021-07-23T16:24:00.243Z"
   },
   {
    "duration": 12,
    "start_time": "2021-07-23T16:24:00.509Z"
   },
   {
    "duration": 50,
    "start_time": "2021-07-23T16:24:09.851Z"
   },
   {
    "duration": 1112,
    "start_time": "2021-07-23T16:24:10.688Z"
   },
   {
    "duration": 666,
    "start_time": "2021-07-23T16:24:12.023Z"
   },
   {
    "duration": 13,
    "start_time": "2021-07-23T16:24:14.332Z"
   },
   {
    "duration": 10,
    "start_time": "2021-07-23T16:24:15.700Z"
   },
   {
    "duration": 283,
    "start_time": "2021-07-23T16:24:16.280Z"
   },
   {
    "duration": 1241,
    "start_time": "2021-07-23T16:24:16.907Z"
   },
   {
    "duration": 100,
    "start_time": "2021-07-23T16:24:18.150Z"
   },
   {
    "duration": 53,
    "start_time": "2021-07-23T16:24:18.275Z"
   },
   {
    "duration": 48,
    "start_time": "2021-07-23T16:24:18.804Z"
   },
   {
    "duration": 5,
    "start_time": "2021-07-23T16:24:23.987Z"
   },
   {
    "duration": 26,
    "start_time": "2021-07-23T16:24:24.377Z"
   },
   {
    "duration": 19,
    "start_time": "2021-07-23T16:24:24.803Z"
   },
   {
    "duration": 26,
    "start_time": "2021-07-23T16:24:25.271Z"
   },
   {
    "duration": 18,
    "start_time": "2021-07-23T16:24:25.821Z"
   },
   {
    "duration": 22,
    "start_time": "2021-07-23T16:24:26.325Z"
   },
   {
    "duration": 1267,
    "start_time": "2021-07-23T16:24:26.808Z"
   },
   {
    "duration": 13,
    "start_time": "2021-07-23T16:24:31.231Z"
   },
   {
    "duration": 6,
    "start_time": "2021-07-23T16:24:33.992Z"
   },
   {
    "duration": 15,
    "start_time": "2021-07-23T16:24:35.804Z"
   },
   {
    "duration": 779,
    "start_time": "2021-07-23T16:24:40.507Z"
   },
   {
    "duration": 16,
    "start_time": "2021-07-23T16:24:44.449Z"
   },
   {
    "duration": 490,
    "start_time": "2021-07-23T16:24:45.833Z"
   },
   {
    "duration": 10,
    "start_time": "2021-07-23T16:25:25.356Z"
   },
   {
    "duration": 18,
    "start_time": "2021-07-23T16:25:26.116Z"
   },
   {
    "duration": 4,
    "start_time": "2021-07-23T16:25:26.577Z"
   },
   {
    "duration": 3,
    "start_time": "2021-07-23T16:25:28.244Z"
   },
   {
    "duration": 320,
    "start_time": "2021-07-23T16:25:29.275Z"
   },
   {
    "duration": 1079,
    "start_time": "2021-07-24T09:29:12.964Z"
   },
   {
    "duration": 559,
    "start_time": "2021-07-24T09:29:14.045Z"
   },
   {
    "duration": 50,
    "start_time": "2021-07-24T09:29:14.606Z"
   },
   {
    "duration": 40,
    "start_time": "2021-07-24T09:29:14.658Z"
   },
   {
    "duration": 172,
    "start_time": "2021-07-24T09:29:14.699Z"
   },
   {
    "duration": 4,
    "start_time": "2021-07-24T09:29:14.872Z"
   },
   {
    "duration": 7,
    "start_time": "2021-07-24T09:29:14.890Z"
   },
   {
    "duration": 10,
    "start_time": "2021-07-24T09:29:15.260Z"
   },
   {
    "duration": 16,
    "start_time": "2021-07-24T09:29:15.630Z"
   },
   {
    "duration": 7,
    "start_time": "2021-07-24T09:29:15.809Z"
   },
   {
    "duration": 6,
    "start_time": "2021-07-24T09:29:16.189Z"
   },
   {
    "duration": 8,
    "start_time": "2021-07-24T09:29:16.573Z"
   },
   {
    "duration": 7,
    "start_time": "2021-07-24T09:29:16.753Z"
   },
   {
    "duration": 6,
    "start_time": "2021-07-24T09:29:16.947Z"
   },
   {
    "duration": 10,
    "start_time": "2021-07-24T09:29:17.151Z"
   },
   {
    "duration": 71,
    "start_time": "2021-07-24T09:29:17.368Z"
   },
   {
    "duration": 94,
    "start_time": "2021-07-24T09:29:18.788Z"
   },
   {
    "duration": 11,
    "start_time": "2021-07-24T09:29:19.377Z"
   },
   {
    "duration": 273,
    "start_time": "2021-07-24T09:29:19.775Z"
   },
   {
    "duration": 15,
    "start_time": "2021-07-24T09:29:20.320Z"
   },
   {
    "duration": 18,
    "start_time": "2021-07-24T09:29:20.729Z"
   },
   {
    "duration": 7,
    "start_time": "2021-07-24T09:29:21.364Z"
   },
   {
    "duration": 265,
    "start_time": "2021-07-24T09:29:21.559Z"
   },
   {
    "duration": 75,
    "start_time": "2021-07-24T09:29:22.796Z"
   },
   {
    "duration": 69,
    "start_time": "2021-07-24T09:29:23.263Z"
   },
   {
    "duration": 78,
    "start_time": "2021-07-24T09:29:25.431Z"
   },
   {
    "duration": 25,
    "start_time": "2021-07-24T09:29:25.856Z"
   },
   {
    "duration": 307,
    "start_time": "2021-07-24T09:29:26.285Z"
   },
   {
    "duration": 707,
    "start_time": "2021-07-24T09:29:26.754Z"
   },
   {
    "duration": 74,
    "start_time": "2021-07-24T09:29:31.827Z"
   },
   {
    "duration": 44,
    "start_time": "2021-07-24T09:29:32.057Z"
   },
   {
    "duration": 12,
    "start_time": "2021-07-24T09:29:32.536Z"
   },
   {
    "duration": 228,
    "start_time": "2021-07-24T09:29:32.776Z"
   },
   {
    "duration": 5,
    "start_time": "2021-07-24T09:29:33.011Z"
   },
   {
    "duration": 9,
    "start_time": "2021-07-24T09:29:33.465Z"
   },
   {
    "duration": 32,
    "start_time": "2021-07-24T09:29:35.471Z"
   },
   {
    "duration": 596,
    "start_time": "2021-07-24T09:29:35.739Z"
   },
   {
    "duration": 331,
    "start_time": "2021-07-24T09:29:36.615Z"
   },
   {
    "duration": 10,
    "start_time": "2021-07-24T09:29:38.090Z"
   },
   {
    "duration": 7,
    "start_time": "2021-07-24T09:29:38.660Z"
   },
   {
    "duration": 159,
    "start_time": "2021-07-24T09:29:38.930Z"
   },
   {
    "duration": 682,
    "start_time": "2021-07-24T09:29:39.192Z"
   },
   {
    "duration": 49,
    "start_time": "2021-07-24T09:29:39.876Z"
   },
   {
    "duration": 28,
    "start_time": "2021-07-24T09:29:39.926Z"
   },
   {
    "duration": 31,
    "start_time": "2021-07-24T09:29:40.128Z"
   },
   {
    "duration": 4,
    "start_time": "2021-07-24T09:29:52.600Z"
   },
   {
    "duration": 17,
    "start_time": "2021-07-24T09:29:53.093Z"
   },
   {
    "duration": 14,
    "start_time": "2021-07-24T09:29:53.638Z"
   },
   {
    "duration": 17,
    "start_time": "2021-07-24T09:29:54.377Z"
   },
   {
    "duration": 14,
    "start_time": "2021-07-24T09:29:54.979Z"
   },
   {
    "duration": 13,
    "start_time": "2021-07-24T09:29:55.443Z"
   },
   {
    "duration": 754,
    "start_time": "2021-07-24T09:29:55.884Z"
   },
   {
    "duration": 9,
    "start_time": "2021-07-24T09:29:57.528Z"
   },
   {
    "duration": 4,
    "start_time": "2021-07-24T09:29:57.949Z"
   },
   {
    "duration": 12,
    "start_time": "2021-07-24T09:29:58.611Z"
   },
   {
    "duration": 828,
    "start_time": "2021-07-24T09:29:58.867Z"
   },
   {
    "duration": 11,
    "start_time": "2021-07-24T09:30:00.415Z"
   },
   {
    "duration": 269,
    "start_time": "2021-07-24T09:30:01.017Z"
   },
   {
    "duration": 7,
    "start_time": "2021-07-24T09:30:03.532Z"
   },
   {
    "duration": 12,
    "start_time": "2021-07-24T09:30:03.864Z"
   },
   {
    "duration": 3,
    "start_time": "2021-07-24T09:30:04.305Z"
   },
   {
    "duration": 387,
    "start_time": "2021-07-24T09:32:44.902Z"
   },
   {
    "duration": 9,
    "start_time": "2021-07-24T09:33:45.295Z"
   },
   {
    "duration": 12,
    "start_time": "2021-07-24T09:34:57.246Z"
   },
   {
    "duration": 538,
    "start_time": "2021-07-24T09:35:25.099Z"
   },
   {
    "duration": 249,
    "start_time": "2021-07-24T09:40:07.776Z"
   },
   {
    "duration": 22,
    "start_time": "2021-07-24T09:41:13.599Z"
   },
   {
    "duration": 7,
    "start_time": "2021-07-24T09:41:43.852Z"
   },
   {
    "duration": 6,
    "start_time": "2021-07-24T09:42:06.022Z"
   },
   {
    "duration": 252,
    "start_time": "2021-07-24T09:55:41.153Z"
   },
   {
    "duration": 73,
    "start_time": "2021-07-24T09:56:22.820Z"
   },
   {
    "duration": 247,
    "start_time": "2021-07-24T09:56:24.491Z"
   },
   {
    "duration": 165,
    "start_time": "2021-07-24T10:04:10.827Z"
   },
   {
    "duration": 6,
    "start_time": "2021-07-24T10:04:18.094Z"
   },
   {
    "duration": 12,
    "start_time": "2021-07-24T10:04:44.093Z"
   },
   {
    "duration": 2,
    "start_time": "2021-07-24T10:04:44.886Z"
   },
   {
    "duration": 2,
    "start_time": "2021-07-24T10:04:45.359Z"
   },
   {
    "duration": 50,
    "start_time": "2021-07-24T10:04:45.878Z"
   },
   {
    "duration": 235,
    "start_time": "2021-07-24T10:04:56.809Z"
   },
   {
    "duration": 2,
    "start_time": "2021-07-24T10:06:04.733Z"
   },
   {
    "duration": 3,
    "start_time": "2021-07-24T10:06:08.901Z"
   },
   {
    "duration": 50,
    "start_time": "2021-07-24T10:06:13.566Z"
   },
   {
    "duration": 233,
    "start_time": "2021-07-24T10:06:15.194Z"
   },
   {
    "duration": 251,
    "start_time": "2021-07-24T10:09:28.421Z"
   },
   {
    "duration": 12,
    "start_time": "2021-07-24T10:11:21.772Z"
   },
   {
    "duration": 13,
    "start_time": "2021-07-24T10:11:33.306Z"
   },
   {
    "duration": 81,
    "start_time": "2021-07-24T10:11:45.568Z"
   },
   {
    "duration": 251,
    "start_time": "2021-07-24T10:13:59.345Z"
   },
   {
    "duration": 964,
    "start_time": "2021-07-24T10:14:12.933Z"
   },
   {
    "duration": 246,
    "start_time": "2021-07-24T10:14:42.016Z"
   },
   {
    "duration": 217,
    "start_time": "2021-07-24T10:15:30.956Z"
   },
   {
    "duration": 154,
    "start_time": "2021-07-24T10:15:49.657Z"
   },
   {
    "duration": 172,
    "start_time": "2021-07-24T10:15:56.190Z"
   },
   {
    "duration": 246,
    "start_time": "2021-07-24T10:16:28.380Z"
   },
   {
    "duration": 8,
    "start_time": "2021-07-24T10:17:01.069Z"
   },
   {
    "duration": 258,
    "start_time": "2021-07-24T10:17:22.110Z"
   },
   {
    "duration": 255,
    "start_time": "2021-07-24T10:22:29.513Z"
   },
   {
    "duration": 257,
    "start_time": "2021-07-24T10:40:30.032Z"
   },
   {
    "duration": 15,
    "start_time": "2021-07-24T10:40:34.085Z"
   },
   {
    "duration": 6434,
    "start_time": "2021-07-24T10:41:08.819Z"
   },
   {
    "duration": 75,
    "start_time": "2021-07-24T10:42:59.893Z"
   },
   {
    "duration": 310,
    "start_time": "2021-07-24T10:45:20.246Z"
   },
   {
    "duration": 13,
    "start_time": "2021-07-24T10:49:14.847Z"
   },
   {
    "duration": 231,
    "start_time": "2021-07-24T10:49:46.019Z"
   },
   {
    "duration": 3,
    "start_time": "2021-07-24T10:49:59.575Z"
   },
   {
    "duration": 517,
    "start_time": "2021-07-24T10:49:59.996Z"
   },
   {
    "duration": 50,
    "start_time": "2021-07-24T10:50:00.982Z"
   },
   {
    "duration": 29,
    "start_time": "2021-07-24T10:50:01.276Z"
   },
   {
    "duration": 159,
    "start_time": "2021-07-24T10:50:01.777Z"
   },
   {
    "duration": 5,
    "start_time": "2021-07-24T10:50:02.065Z"
   },
   {
    "duration": 8,
    "start_time": "2021-07-24T10:50:02.643Z"
   },
   {
    "duration": 11,
    "start_time": "2021-07-24T10:50:03.257Z"
   },
   {
    "duration": 16,
    "start_time": "2021-07-24T10:50:03.751Z"
   },
   {
    "duration": 8,
    "start_time": "2021-07-24T10:50:03.998Z"
   },
   {
    "duration": 6,
    "start_time": "2021-07-24T10:50:04.500Z"
   },
   {
    "duration": 8,
    "start_time": "2021-07-24T10:50:05.018Z"
   },
   {
    "duration": 7,
    "start_time": "2021-07-24T10:50:05.254Z"
   },
   {
    "duration": 5,
    "start_time": "2021-07-24T10:50:05.511Z"
   },
   {
    "duration": 11,
    "start_time": "2021-07-24T10:50:05.765Z"
   },
   {
    "duration": 62,
    "start_time": "2021-07-24T10:50:06.003Z"
   },
   {
    "duration": 93,
    "start_time": "2021-07-24T10:50:07.990Z"
   },
   {
    "duration": 11,
    "start_time": "2021-07-24T10:50:08.802Z"
   },
   {
    "duration": 249,
    "start_time": "2021-07-24T10:50:09.542Z"
   },
   {
    "duration": 260,
    "start_time": "2021-07-24T10:51:02.175Z"
   },
   {
    "duration": 10,
    "start_time": "2021-07-24T10:56:57.505Z"
   },
   {
    "duration": 52,
    "start_time": "2021-07-24T10:57:12.551Z"
   },
   {
    "duration": 50,
    "start_time": "2021-07-24T10:59:17.973Z"
   },
   {
    "duration": 82,
    "start_time": "2021-07-24T10:59:44.244Z"
   },
   {
    "duration": 227,
    "start_time": "2021-07-24T10:59:55.900Z"
   },
   {
    "duration": 50,
    "start_time": "2021-07-24T11:00:07.155Z"
   },
   {
    "duration": 365,
    "start_time": "2021-07-24T11:07:45.118Z"
   },
   {
    "duration": 49,
    "start_time": "2021-07-24T11:08:18.285Z"
   },
   {
    "duration": 185,
    "start_time": "2021-07-24T11:08:53.031Z"
   },
   {
    "duration": 82,
    "start_time": "2021-07-24T11:13:53.411Z"
   },
   {
    "duration": 84,
    "start_time": "2021-07-24T11:14:54.241Z"
   },
   {
    "duration": 223,
    "start_time": "2021-07-24T11:14:54.933Z"
   },
   {
    "duration": 276,
    "start_time": "2021-07-24T11:14:56.784Z"
   },
   {
    "duration": 266,
    "start_time": "2021-07-24T11:15:00.008Z"
   },
   {
    "duration": 227,
    "start_time": "2021-07-24T11:15:35.362Z"
   },
   {
    "duration": 385,
    "start_time": "2021-07-24T11:15:45.773Z"
   },
   {
    "duration": 371,
    "start_time": "2021-07-24T11:16:25.470Z"
   },
   {
    "duration": 98,
    "start_time": "2021-07-24T11:23:31.244Z"
   },
   {
    "duration": 14,
    "start_time": "2021-07-24T11:23:36.219Z"
   },
   {
    "duration": 233,
    "start_time": "2021-07-24T11:25:44.396Z"
   },
   {
    "duration": 217,
    "start_time": "2021-07-24T11:25:59.175Z"
   },
   {
    "duration": 15,
    "start_time": "2021-07-24T11:35:00.234Z"
   },
   {
    "duration": 11,
    "start_time": "2021-07-24T11:36:11.249Z"
   },
   {
    "duration": 20,
    "start_time": "2021-07-24T11:36:25.156Z"
   },
   {
    "duration": 27,
    "start_time": "2021-07-24T11:36:43.321Z"
   },
   {
    "duration": 21,
    "start_time": "2021-07-24T11:36:54.414Z"
   },
   {
    "duration": 10,
    "start_time": "2021-07-24T11:38:21.908Z"
   },
   {
    "duration": 78,
    "start_time": "2021-07-24T11:38:47.547Z"
   },
   {
    "duration": 5649,
    "start_time": "2021-07-24T11:39:35.996Z"
   },
   {
    "duration": 357,
    "start_time": "2021-07-24T11:39:59.588Z"
   },
   {
    "duration": 339,
    "start_time": "2021-07-24T11:41:31.604Z"
   },
   {
    "duration": 74,
    "start_time": "2021-07-24T11:42:13.985Z"
   },
   {
    "duration": 177,
    "start_time": "2021-07-24T11:42:30.705Z"
   },
   {
    "duration": 76,
    "start_time": "2021-07-24T11:42:55.634Z"
   },
   {
    "duration": 301,
    "start_time": "2021-07-24T11:43:07.526Z"
   },
   {
    "duration": 59,
    "start_time": "2021-07-24T11:43:35.656Z"
   },
   {
    "duration": 231,
    "start_time": "2021-07-24T11:43:42.326Z"
   },
   {
    "duration": 16,
    "start_time": "2021-07-24T11:43:51.790Z"
   },
   {
    "duration": 14,
    "start_time": "2021-07-24T11:44:10.708Z"
   },
   {
    "duration": 113,
    "start_time": "2021-07-24T11:45:06.001Z"
   },
   {
    "duration": 21,
    "start_time": "2021-07-24T11:45:15.022Z"
   },
   {
    "duration": 740,
    "start_time": "2021-07-24T11:45:28.378Z"
   },
   {
    "duration": 10,
    "start_time": "2021-07-24T11:59:14.018Z"
   },
   {
    "duration": 15,
    "start_time": "2021-07-24T11:59:22.087Z"
   },
   {
    "duration": 71,
    "start_time": "2021-07-24T11:59:38.288Z"
   },
   {
    "duration": 5547,
    "start_time": "2021-07-24T11:59:51.401Z"
   },
   {
    "duration": 7045,
    "start_time": "2021-07-24T12:01:53.773Z"
   },
   {
    "duration": 14,
    "start_time": "2021-07-24T12:07:15.220Z"
   },
   {
    "duration": 40,
    "start_time": "2021-07-24T12:07:27.728Z"
   },
   {
    "duration": 10,
    "start_time": "2021-07-24T12:07:39.294Z"
   },
   {
    "duration": 7,
    "start_time": "2021-07-24T12:07:56.663Z"
   },
   {
    "duration": 10,
    "start_time": "2021-07-24T12:08:06.294Z"
   },
   {
    "duration": 6,
    "start_time": "2021-07-24T12:08:16.089Z"
   },
   {
    "duration": 8,
    "start_time": "2021-07-24T12:08:28.558Z"
   },
   {
    "duration": 8,
    "start_time": "2021-07-24T12:08:38.158Z"
   },
   {
    "duration": 5755,
    "start_time": "2021-07-24T12:08:50.784Z"
   },
   {
    "duration": 411,
    "start_time": "2021-07-24T12:09:06.636Z"
   },
   {
    "duration": 5592,
    "start_time": "2021-07-24T12:09:43.215Z"
   },
   {
    "duration": 4064,
    "start_time": "2021-07-24T12:09:44.745Z"
   },
   {
    "duration": 234,
    "start_time": "2021-07-24T12:11:51.010Z"
   },
   {
    "duration": 46,
    "start_time": "2021-07-24T12:11:56.597Z"
   },
   {
    "duration": 10,
    "start_time": "2021-07-24T12:11:57.083Z"
   },
   {
    "duration": 28,
    "start_time": "2021-07-24T12:12:45.689Z"
   },
   {
    "duration": 14,
    "start_time": "2021-07-24T12:13:09.105Z"
   },
   {
    "duration": 3,
    "start_time": "2021-07-24T12:13:16.478Z"
   },
   {
    "duration": 10,
    "start_time": "2021-07-24T12:13:48.651Z"
   },
   {
    "duration": 8,
    "start_time": "2021-07-24T12:14:26.971Z"
   },
   {
    "duration": 228,
    "start_time": "2021-07-24T12:14:59.270Z"
   },
   {
    "duration": 234,
    "start_time": "2021-07-24T12:15:25.866Z"
   },
   {
    "duration": 10,
    "start_time": "2021-07-24T12:17:45.838Z"
   },
   {
    "duration": 6,
    "start_time": "2021-07-24T12:18:29.084Z"
   },
   {
    "duration": 10,
    "start_time": "2021-07-24T12:18:41.801Z"
   },
   {
    "duration": 239,
    "start_time": "2021-07-24T12:18:52.406Z"
   },
   {
    "duration": 6,
    "start_time": "2021-07-24T12:19:28.307Z"
   },
   {
    "duration": 3,
    "start_time": "2021-07-24T12:19:44.092Z"
   },
   {
    "duration": 329,
    "start_time": "2021-07-24T12:19:51.873Z"
   },
   {
    "duration": 5674,
    "start_time": "2021-07-24T12:20:36.359Z"
   },
   {
    "duration": 248,
    "start_time": "2021-07-24T12:21:05.543Z"
   },
   {
    "duration": 280,
    "start_time": "2021-07-24T12:21:37.923Z"
   },
   {
    "duration": 11,
    "start_time": "2021-07-24T12:22:02.417Z"
   },
   {
    "duration": 252,
    "start_time": "2021-07-24T12:26:06.802Z"
   },
   {
    "duration": 259,
    "start_time": "2021-07-24T12:26:34.209Z"
   },
   {
    "duration": 241,
    "start_time": "2021-07-24T12:26:47.864Z"
   },
   {
    "duration": 3,
    "start_time": "2021-07-24T12:27:18.761Z"
   },
   {
    "duration": 493,
    "start_time": "2021-07-24T12:27:18.941Z"
   },
   {
    "duration": 50,
    "start_time": "2021-07-24T12:27:19.539Z"
   },
   {
    "duration": 27,
    "start_time": "2021-07-24T12:27:19.745Z"
   },
   {
    "duration": 156,
    "start_time": "2021-07-24T12:27:20.153Z"
   },
   {
    "duration": 5,
    "start_time": "2021-07-24T12:27:20.384Z"
   },
   {
    "duration": 9,
    "start_time": "2021-07-24T12:27:20.791Z"
   },
   {
    "duration": 11,
    "start_time": "2021-07-24T12:27:21.191Z"
   },
   {
    "duration": 16,
    "start_time": "2021-07-24T12:27:21.607Z"
   },
   {
    "duration": 8,
    "start_time": "2021-07-24T12:27:21.816Z"
   },
   {
    "duration": 7,
    "start_time": "2021-07-24T12:27:22.218Z"
   },
   {
    "duration": 7,
    "start_time": "2021-07-24T12:27:22.622Z"
   },
   {
    "duration": 7,
    "start_time": "2021-07-24T12:27:22.825Z"
   },
   {
    "duration": 5,
    "start_time": "2021-07-24T12:27:23.038Z"
   },
   {
    "duration": 10,
    "start_time": "2021-07-24T12:27:23.239Z"
   },
   {
    "duration": 65,
    "start_time": "2021-07-24T12:27:23.440Z"
   },
   {
    "duration": 94,
    "start_time": "2021-07-24T12:27:24.897Z"
   },
   {
    "duration": 12,
    "start_time": "2021-07-24T12:27:25.323Z"
   },
   {
    "duration": 224,
    "start_time": "2021-07-24T12:27:25.768Z"
   },
   {
    "duration": 14,
    "start_time": "2021-07-24T12:27:26.399Z"
   },
   {
    "duration": 11,
    "start_time": "2021-07-24T12:27:26.858Z"
   },
   {
    "duration": 20,
    "start_time": "2021-07-24T12:27:27.097Z"
   },
   {
    "duration": 22,
    "start_time": "2021-07-24T12:27:27.519Z"
   },
   {
    "duration": 20,
    "start_time": "2021-07-24T12:27:27.717Z"
   },
   {
    "duration": 9,
    "start_time": "2021-07-24T12:27:28.386Z"
   },
   {
    "duration": 333,
    "start_time": "2021-07-24T12:27:28.821Z"
   },
   {
    "duration": 72,
    "start_time": "2021-07-24T12:27:30.179Z"
   },
   {
    "duration": 156,
    "start_time": "2021-07-24T12:27:30.613Z"
   },
   {
    "duration": 59,
    "start_time": "2021-07-24T12:27:31.031Z"
   },
   {
    "duration": 14,
    "start_time": "2021-07-24T12:27:31.264Z"
   },
   {
    "duration": 14,
    "start_time": "2021-07-24T12:27:31.714Z"
   },
   {
    "duration": 121,
    "start_time": "2021-07-24T12:27:31.948Z"
   },
   {
    "duration": 28,
    "start_time": "2021-07-24T12:27:32.178Z"
   },
   {
    "duration": 856,
    "start_time": "2021-07-24T12:27:32.402Z"
   },
   {
    "duration": 8,
    "start_time": "2021-07-24T12:27:34.998Z"
   },
   {
    "duration": 14,
    "start_time": "2021-07-24T12:27:35.238Z"
   },
   {
    "duration": 67,
    "start_time": "2021-07-24T12:27:35.465Z"
   },
   {
    "duration": 15,
    "start_time": "2021-07-24T12:27:35.681Z"
   },
   {
    "duration": 39,
    "start_time": "2021-07-24T12:27:35.918Z"
   },
   {
    "duration": 8,
    "start_time": "2021-07-24T12:27:36.127Z"
   },
   {
    "duration": 6,
    "start_time": "2021-07-24T12:27:36.342Z"
   },
   {
    "duration": 8,
    "start_time": "2021-07-24T12:27:36.560Z"
   },
   {
    "duration": 6,
    "start_time": "2021-07-24T12:27:36.780Z"
   },
   {
    "duration": 8,
    "start_time": "2021-07-24T12:27:37.041Z"
   },
   {
    "duration": 8,
    "start_time": "2021-07-24T12:27:37.244Z"
   },
   {
    "duration": 242,
    "start_time": "2021-07-24T12:27:37.468Z"
   },
   {
    "duration": 39,
    "start_time": "2021-07-24T12:27:39.332Z"
   },
   {
    "duration": 9,
    "start_time": "2021-07-24T12:27:39.565Z"
   },
   {
    "duration": 27,
    "start_time": "2021-07-24T12:27:39.799Z"
   },
   {
    "duration": 12,
    "start_time": "2021-07-24T12:27:40.016Z"
   },
   {
    "duration": 3,
    "start_time": "2021-07-24T12:27:40.242Z"
   },
   {
    "duration": 10,
    "start_time": "2021-07-24T12:27:40.480Z"
   },
   {
    "duration": 8,
    "start_time": "2021-07-24T12:27:40.908Z"
   },
   {
    "duration": 9,
    "start_time": "2021-07-24T12:27:41.377Z"
   },
   {
    "duration": 6,
    "start_time": "2021-07-24T12:27:41.836Z"
   },
   {
    "duration": 10,
    "start_time": "2021-07-24T12:27:42.068Z"
   },
   {
    "duration": 5,
    "start_time": "2021-07-24T12:27:42.286Z"
   },
   {
    "duration": 3,
    "start_time": "2021-07-24T12:27:42.505Z"
   },
   {
    "duration": 327,
    "start_time": "2021-07-24T12:27:42.749Z"
   },
   {
    "duration": 9,
    "start_time": "2021-07-24T12:27:43.541Z"
   },
   {
    "duration": 7,
    "start_time": "2021-07-24T12:27:43.871Z"
   },
   {
    "duration": 5627,
    "start_time": "2021-07-24T12:27:44.508Z"
   },
   {
    "duration": 4048,
    "start_time": "2021-07-24T12:27:46.089Z"
   },
   {
    "duration": 4,
    "start_time": "2021-07-24T12:28:08.483Z"
   },
   {
    "duration": 68,
    "start_time": "2021-07-24T12:28:21.348Z"
   },
   {
    "duration": 310,
    "start_time": "2021-07-24T12:28:36.065Z"
   },
   {
    "duration": 43,
    "start_time": "2021-07-24T12:28:53.153Z"
   },
   {
    "duration": 21,
    "start_time": "2021-07-24T12:29:06.456Z"
   },
   {
    "duration": 97,
    "start_time": "2021-07-24T12:29:19.651Z"
   },
   {
    "duration": 21,
    "start_time": "2021-07-24T12:29:38.877Z"
   },
   {
    "duration": 224,
    "start_time": "2021-07-24T12:29:48.083Z"
   },
   {
    "duration": 25,
    "start_time": "2021-07-24T12:29:57.014Z"
   },
   {
    "duration": 231,
    "start_time": "2021-07-24T12:29:57.427Z"
   },
   {
    "duration": 3,
    "start_time": "2021-07-24T12:30:58.783Z"
   },
   {
    "duration": 548,
    "start_time": "2021-07-24T12:30:58.965Z"
   },
   {
    "duration": 51,
    "start_time": "2021-07-24T12:30:59.568Z"
   },
   {
    "duration": 29,
    "start_time": "2021-07-24T12:30:59.789Z"
   },
   {
    "duration": 166,
    "start_time": "2021-07-24T12:31:00.214Z"
   },
   {
    "duration": 5,
    "start_time": "2021-07-24T12:31:00.416Z"
   },
   {
    "duration": 8,
    "start_time": "2021-07-24T12:31:00.812Z"
   },
   {
    "duration": 10,
    "start_time": "2021-07-24T12:31:01.231Z"
   },
   {
    "duration": 16,
    "start_time": "2021-07-24T12:31:01.662Z"
   },
   {
    "duration": 8,
    "start_time": "2021-07-24T12:31:01.871Z"
   },
   {
    "duration": 7,
    "start_time": "2021-07-24T12:31:02.257Z"
   },
   {
    "duration": 8,
    "start_time": "2021-07-24T12:31:02.677Z"
   },
   {
    "duration": 7,
    "start_time": "2021-07-24T12:31:02.890Z"
   },
   {
    "duration": 5,
    "start_time": "2021-07-24T12:31:03.100Z"
   },
   {
    "duration": 10,
    "start_time": "2021-07-24T12:31:03.303Z"
   },
   {
    "duration": 63,
    "start_time": "2021-07-24T12:31:03.504Z"
   },
   {
    "duration": 94,
    "start_time": "2021-07-24T12:31:05.018Z"
   },
   {
    "duration": 11,
    "start_time": "2021-07-24T12:31:05.497Z"
   },
   {
    "duration": 219,
    "start_time": "2021-07-24T12:31:05.967Z"
   },
   {
    "duration": 15,
    "start_time": "2021-07-24T12:31:06.624Z"
   },
   {
    "duration": 12,
    "start_time": "2021-07-24T12:31:07.063Z"
   },
   {
    "duration": 20,
    "start_time": "2021-07-24T12:31:07.273Z"
   },
   {
    "duration": 22,
    "start_time": "2021-07-24T12:31:07.717Z"
   },
   {
    "duration": 20,
    "start_time": "2021-07-24T12:31:07.952Z"
   },
   {
    "duration": 10,
    "start_time": "2021-07-24T12:31:08.617Z"
   },
   {
    "duration": 536,
    "start_time": "2021-07-24T12:31:09.076Z"
   },
   {
    "duration": 79,
    "start_time": "2021-07-24T12:31:10.468Z"
   },
   {
    "duration": 135,
    "start_time": "2021-07-24T12:31:10.890Z"
   },
   {
    "duration": 63,
    "start_time": "2021-07-24T12:31:11.401Z"
   },
   {
    "duration": 17,
    "start_time": "2021-07-24T12:31:11.635Z"
   },
   {
    "duration": 13,
    "start_time": "2021-07-24T12:31:12.119Z"
   },
   {
    "duration": 101,
    "start_time": "2021-07-24T12:31:12.358Z"
   },
   {
    "duration": 23,
    "start_time": "2021-07-24T12:31:12.629Z"
   },
   {
    "duration": 760,
    "start_time": "2021-07-24T12:31:12.896Z"
   },
   {
    "duration": 8,
    "start_time": "2021-07-24T12:31:15.726Z"
   },
   {
    "duration": 14,
    "start_time": "2021-07-24T12:31:15.977Z"
   },
   {
    "duration": 67,
    "start_time": "2021-07-24T12:31:16.221Z"
   },
   {
    "duration": 14,
    "start_time": "2021-07-24T12:31:16.469Z"
   },
   {
    "duration": 44,
    "start_time": "2021-07-24T12:31:16.714Z"
   },
   {
    "duration": 8,
    "start_time": "2021-07-24T12:31:16.948Z"
   },
   {
    "duration": 7,
    "start_time": "2021-07-24T12:31:17.196Z"
   },
   {
    "duration": 8,
    "start_time": "2021-07-24T12:31:17.423Z"
   },
   {
    "duration": 6,
    "start_time": "2021-07-24T12:31:17.653Z"
   },
   {
    "duration": 8,
    "start_time": "2021-07-24T12:31:17.877Z"
   },
   {
    "duration": 8,
    "start_time": "2021-07-24T12:31:18.116Z"
   },
   {
    "duration": 236,
    "start_time": "2021-07-24T12:31:18.362Z"
   },
   {
    "duration": 43,
    "start_time": "2021-07-24T12:31:20.332Z"
   },
   {
    "duration": 9,
    "start_time": "2021-07-24T12:31:20.612Z"
   },
   {
    "duration": 26,
    "start_time": "2021-07-24T12:31:20.844Z"
   },
   {
    "duration": 12,
    "start_time": "2021-07-24T12:31:21.085Z"
   },
   {
    "duration": 3,
    "start_time": "2021-07-24T12:31:21.316Z"
   },
   {
    "duration": 13,
    "start_time": "2021-07-24T12:31:21.543Z"
   },
   {
    "duration": 8,
    "start_time": "2021-07-24T12:31:21.978Z"
   },
   {
    "duration": 9,
    "start_time": "2021-07-24T12:31:22.407Z"
   },
   {
    "duration": 7,
    "start_time": "2021-07-24T12:31:22.889Z"
   },
   {
    "duration": 10,
    "start_time": "2021-07-24T12:31:23.120Z"
   },
   {
    "duration": 5,
    "start_time": "2021-07-24T12:31:23.371Z"
   },
   {
    "duration": 3,
    "start_time": "2021-07-24T12:31:23.584Z"
   },
   {
    "duration": 325,
    "start_time": "2021-07-24T12:31:23.820Z"
   },
   {
    "duration": 9,
    "start_time": "2021-07-24T12:31:24.535Z"
   },
   {
    "duration": 8,
    "start_time": "2021-07-24T12:31:24.770Z"
   },
   {
    "duration": 4,
    "start_time": "2021-07-24T12:31:25.026Z"
   },
   {
    "duration": 67,
    "start_time": "2021-07-24T12:31:25.248Z"
   },
   {
    "duration": 303,
    "start_time": "2021-07-24T12:31:25.474Z"
   },
   {
    "duration": 55,
    "start_time": "2021-07-24T12:31:25.779Z"
   },
   {
    "duration": 24,
    "start_time": "2021-07-24T12:31:25.927Z"
   },
   {
    "duration": 94,
    "start_time": "2021-07-24T12:31:26.149Z"
   },
   {
    "duration": 22,
    "start_time": "2021-07-24T12:31:26.388Z"
   },
   {
    "duration": 229,
    "start_time": "2021-07-24T12:31:26.643Z"
   },
   {
    "duration": 3,
    "start_time": "2021-07-24T12:35:24.716Z"
   },
   {
    "duration": 2,
    "start_time": "2021-07-24T12:37:36.642Z"
   },
   {
    "duration": 520,
    "start_time": "2021-07-24T12:37:54.029Z"
   },
   {
    "duration": 7,
    "start_time": "2021-07-24T12:38:29.053Z"
   },
   {
    "duration": 50,
    "start_time": "2021-07-24T12:38:45.272Z"
   },
   {
    "duration": 36,
    "start_time": "2021-07-24T12:39:21.887Z"
   },
   {
    "duration": 193,
    "start_time": "2021-07-24T12:39:48.972Z"
   },
   {
    "duration": 21,
    "start_time": "2021-07-24T12:42:19.939Z"
   },
   {
    "duration": 11,
    "start_time": "2021-07-24T12:42:28.034Z"
   },
   {
    "duration": 149,
    "start_time": "2021-07-24T12:42:41.336Z"
   },
   {
    "duration": 22,
    "start_time": "2021-07-24T12:42:55.398Z"
   },
   {
    "duration": 8,
    "start_time": "2021-07-24T12:45:52.305Z"
   },
   {
    "duration": 8,
    "start_time": "2021-07-24T12:46:04.371Z"
   },
   {
    "duration": 62,
    "start_time": "2021-07-24T12:46:13.533Z"
   },
   {
    "duration": 3,
    "start_time": "2021-07-24T12:47:40.270Z"
   },
   {
    "duration": 6,
    "start_time": "2021-07-24T12:47:40.668Z"
   },
   {
    "duration": 13,
    "start_time": "2021-07-24T12:47:40.989Z"
   },
   {
    "duration": 19,
    "start_time": "2021-07-24T12:47:52.856Z"
   },
   {
    "duration": 98,
    "start_time": "2021-07-24T12:48:15.255Z"
   },
   {
    "duration": 7,
    "start_time": "2021-07-24T12:49:07.906Z"
   },
   {
    "duration": 6,
    "start_time": "2021-07-24T12:49:25.019Z"
   },
   {
    "duration": 6,
    "start_time": "2021-07-24T12:49:40.225Z"
   },
   {
    "duration": 4,
    "start_time": "2021-07-24T12:50:29.993Z"
   },
   {
    "duration": 4,
    "start_time": "2021-07-24T12:50:57.197Z"
   },
   {
    "duration": 4,
    "start_time": "2021-07-24T12:51:14.698Z"
   },
   {
    "duration": 4,
    "start_time": "2021-07-24T12:51:33.326Z"
   },
   {
    "duration": 3,
    "start_time": "2021-07-24T12:51:41.625Z"
   },
   {
    "duration": 5,
    "start_time": "2021-07-24T12:52:03.661Z"
   },
   {
    "duration": 5,
    "start_time": "2021-07-24T12:52:13.279Z"
   },
   {
    "duration": 7,
    "start_time": "2021-07-24T12:52:24.966Z"
   },
   {
    "duration": 22,
    "start_time": "2021-07-24T12:58:57.144Z"
   },
   {
    "duration": 7,
    "start_time": "2021-07-24T12:59:02.209Z"
   },
   {
    "duration": 20,
    "start_time": "2021-07-24T12:59:21.001Z"
   },
   {
    "duration": 9,
    "start_time": "2021-07-24T12:59:36.816Z"
   },
   {
    "duration": 263,
    "start_time": "2021-07-24T13:02:40.905Z"
   },
   {
    "duration": 273,
    "start_time": "2021-07-24T13:03:58.731Z"
   },
   {
    "duration": 95,
    "start_time": "2021-07-24T13:04:07.703Z"
   },
   {
    "duration": 94,
    "start_time": "2021-07-24T13:04:50.346Z"
   },
   {
    "duration": 246,
    "start_time": "2021-07-24T13:04:50.823Z"
   },
   {
    "duration": 76,
    "start_time": "2021-07-24T13:04:51.227Z"
   },
   {
    "duration": 112,
    "start_time": "2021-07-24T13:05:00.776Z"
   },
   {
    "duration": 258,
    "start_time": "2021-07-24T13:08:01.173Z"
   },
   {
    "duration": 530,
    "start_time": "2021-07-24T13:11:04.964Z"
   },
   {
    "duration": 515,
    "start_time": "2021-07-24T13:12:08.599Z"
   },
   {
    "duration": 561,
    "start_time": "2021-07-24T13:13:59.768Z"
   },
   {
    "duration": 655,
    "start_time": "2021-07-24T13:14:15.040Z"
   },
   {
    "duration": 526,
    "start_time": "2021-07-24T13:14:24.893Z"
   },
   {
    "duration": 503,
    "start_time": "2021-07-24T13:14:50.923Z"
   },
   {
    "duration": 507,
    "start_time": "2021-07-24T13:15:05.723Z"
   },
   {
    "duration": 751,
    "start_time": "2021-07-24T13:15:16.535Z"
   },
   {
    "duration": 642,
    "start_time": "2021-07-24T13:18:25.564Z"
   },
   {
    "duration": 807,
    "start_time": "2021-07-24T13:19:40.720Z"
   },
   {
    "duration": 310,
    "start_time": "2021-07-24T13:35:12.082Z"
   },
   {
    "duration": 332,
    "start_time": "2021-07-24T13:35:22.480Z"
   },
   {
    "duration": 321,
    "start_time": "2021-07-24T13:36:42.660Z"
   },
   {
    "duration": 3,
    "start_time": "2021-07-24T13:37:06.898Z"
   },
   {
    "duration": 512,
    "start_time": "2021-07-24T13:37:07.088Z"
   },
   {
    "duration": 8,
    "start_time": "2021-07-24T13:37:07.602Z"
   },
   {
    "duration": 48,
    "start_time": "2021-07-24T13:37:07.684Z"
   },
   {
    "duration": 36,
    "start_time": "2021-07-24T13:37:07.906Z"
   },
   {
    "duration": 196,
    "start_time": "2021-07-24T13:37:08.118Z"
   },
   {
    "duration": 3,
    "start_time": "2021-07-24T13:37:08.332Z"
   },
   {
    "duration": 21,
    "start_time": "2021-07-24T13:37:08.567Z"
   },
   {
    "duration": 12,
    "start_time": "2021-07-24T13:37:08.821Z"
   },
   {
    "duration": 146,
    "start_time": "2021-07-24T13:37:09.034Z"
   },
   {
    "duration": 22,
    "start_time": "2021-07-24T13:37:09.250Z"
   },
   {
    "duration": 8,
    "start_time": "2021-07-24T13:37:09.840Z"
   },
   {
    "duration": 8,
    "start_time": "2021-07-24T13:37:10.030Z"
   },
   {
    "duration": 14,
    "start_time": "2021-07-24T13:37:10.237Z"
   },
   {
    "duration": 4,
    "start_time": "2021-07-24T13:37:10.441Z"
   },
   {
    "duration": 3,
    "start_time": "2021-07-24T13:37:10.654Z"
   },
   {
    "duration": 6,
    "start_time": "2021-07-24T13:37:10.876Z"
   },
   {
    "duration": 12,
    "start_time": "2021-07-24T13:37:11.083Z"
   },
   {
    "duration": 8,
    "start_time": "2021-07-24T13:37:11.274Z"
   },
   {
    "duration": 7,
    "start_time": "2021-07-24T13:37:11.897Z"
   },
   {
    "duration": 6,
    "start_time": "2021-07-24T13:37:12.128Z"
   },
   {
    "duration": 5,
    "start_time": "2021-07-24T13:37:12.324Z"
   },
   {
    "duration": 3,
    "start_time": "2021-07-24T13:37:12.537Z"
   },
   {
    "duration": 4,
    "start_time": "2021-07-24T13:37:12.756Z"
   },
   {
    "duration": 5,
    "start_time": "2021-07-24T13:37:12.961Z"
   },
   {
    "duration": 6,
    "start_time": "2021-07-24T13:37:13.170Z"
   },
   {
    "duration": 8,
    "start_time": "2021-07-24T13:37:14.443Z"
   },
   {
    "duration": 93,
    "start_time": "2021-07-24T13:37:14.667Z"
   },
   {
    "duration": 243,
    "start_time": "2021-07-24T13:37:14.899Z"
   },
   {
    "duration": 77,
    "start_time": "2021-07-24T13:37:15.143Z"
   },
   {
    "duration": 826,
    "start_time": "2021-07-24T13:37:15.349Z"
   },
   {
    "duration": 786,
    "start_time": "2021-07-24T13:37:16.177Z"
   },
   {
    "duration": 319,
    "start_time": "2021-07-24T13:37:17.474Z"
   },
   {
    "duration": 92,
    "start_time": "2021-07-24T13:38:07.688Z"
   },
   {
    "duration": 17,
    "start_time": "2021-07-24T13:40:51.202Z"
   },
   {
    "duration": 358,
    "start_time": "2021-07-24T13:45:20.495Z"
   },
   {
    "duration": 240,
    "start_time": "2021-07-24T13:46:41.973Z"
   },
   {
    "duration": 225,
    "start_time": "2021-07-24T13:46:53.192Z"
   },
   {
    "duration": 263,
    "start_time": "2021-07-24T13:47:04.583Z"
   },
   {
    "duration": 18,
    "start_time": "2021-07-24T13:47:54.573Z"
   },
   {
    "duration": 347,
    "start_time": "2021-07-24T13:48:33.652Z"
   },
   {
    "duration": 674,
    "start_time": "2021-07-24T13:48:44.025Z"
   },
   {
    "duration": 29,
    "start_time": "2021-07-24T13:49:45.745Z"
   },
   {
    "duration": 7,
    "start_time": "2021-07-24T13:50:58.790Z"
   },
   {
    "duration": 2,
    "start_time": "2021-07-24T13:57:52.150Z"
   },
   {
    "duration": 75,
    "start_time": "2021-07-24T13:58:24.348Z"
   },
   {
    "duration": 157,
    "start_time": "2021-07-24T13:59:05.214Z"
   },
   {
    "duration": 59,
    "start_time": "2021-07-24T13:59:17.648Z"
   },
   {
    "duration": 14,
    "start_time": "2021-07-24T13:59:25.062Z"
   },
   {
    "duration": 1085,
    "start_time": "2021-07-24T14:01:12.243Z"
   },
   {
    "duration": 5890,
    "start_time": "2021-07-24T14:01:53.020Z"
   },
   {
    "duration": 118,
    "start_time": "2021-07-24T14:02:27.107Z"
   },
   {
    "duration": 1102,
    "start_time": "2021-07-24T14:02:27.883Z"
   },
   {
    "duration": 200,
    "start_time": "2021-07-24T14:06:36.228Z"
   },
   {
    "duration": 6168,
    "start_time": "2021-07-24T14:06:53.268Z"
   },
   {
    "duration": 1215,
    "start_time": "2021-07-24T14:07:30.969Z"
   },
   {
    "duration": 5815,
    "start_time": "2021-07-24T14:07:38.087Z"
   },
   {
    "duration": 1396,
    "start_time": "2021-07-24T14:07:49.691Z"
   },
   {
    "duration": 74,
    "start_time": "2021-07-24T14:08:12.611Z"
   },
   {
    "duration": 192,
    "start_time": "2021-07-24T14:08:17.951Z"
   },
   {
    "duration": 117,
    "start_time": "2021-07-24T14:08:30.930Z"
   },
   {
    "duration": 23,
    "start_time": "2021-07-24T14:08:41.118Z"
   },
   {
    "duration": 22,
    "start_time": "2021-07-24T14:08:50.123Z"
   },
   {
    "duration": 97,
    "start_time": "2021-07-24T14:08:56.265Z"
   },
   {
    "duration": 22,
    "start_time": "2021-07-24T14:09:05.380Z"
   },
   {
    "duration": 711,
    "start_time": "2021-07-24T14:09:12.326Z"
   },
   {
    "duration": 22,
    "start_time": "2021-07-24T14:13:00.137Z"
   },
   {
    "duration": 11,
    "start_time": "2021-07-24T14:13:11.301Z"
   },
   {
    "duration": 73,
    "start_time": "2021-07-24T14:13:46.574Z"
   },
   {
    "duration": 46,
    "start_time": "2021-07-24T14:14:23.378Z"
   },
   {
    "duration": 5624,
    "start_time": "2021-07-24T14:15:38.496Z"
   },
   {
    "duration": 5531,
    "start_time": "2021-07-24T14:17:09.709Z"
   },
   {
    "duration": 12,
    "start_time": "2021-07-24T14:17:24.323Z"
   },
   {
    "duration": 73,
    "start_time": "2021-07-24T14:20:07.613Z"
   },
   {
    "duration": 5561,
    "start_time": "2021-07-24T14:20:07.977Z"
   },
   {
    "duration": 4032,
    "start_time": "2021-07-24T14:20:09.508Z"
   },
   {
    "duration": 4030,
    "start_time": "2021-07-24T14:20:09.511Z"
   },
   {
    "duration": 5471,
    "start_time": "2021-07-24T14:20:35.972Z"
   },
   {
    "duration": 14,
    "start_time": "2021-07-24T14:20:52.944Z"
   },
   {
    "duration": 46,
    "start_time": "2021-07-24T14:20:53.818Z"
   },
   {
    "duration": 13,
    "start_time": "2021-07-24T14:20:56.841Z"
   },
   {
    "duration": 247,
    "start_time": "2021-07-24T14:22:09.113Z"
   },
   {
    "duration": 7,
    "start_time": "2021-07-24T14:26:26.432Z"
   },
   {
    "duration": 5868,
    "start_time": "2021-07-24T14:30:19.382Z"
   },
   {
    "duration": 5521,
    "start_time": "2021-07-24T14:30:34.549Z"
   },
   {
    "duration": 6553,
    "start_time": "2021-07-24T14:30:55.787Z"
   },
   {
    "duration": 5793,
    "start_time": "2021-07-24T14:31:25.318Z"
   },
   {
    "duration": 5602,
    "start_time": "2021-07-24T14:31:50.889Z"
   },
   {
    "duration": 9,
    "start_time": "2021-07-24T14:32:54.258Z"
   },
   {
    "duration": 6028,
    "start_time": "2021-07-24T14:32:54.737Z"
   },
   {
    "duration": 6,
    "start_time": "2021-07-24T14:35:52.979Z"
   },
   {
    "duration": 9,
    "start_time": "2021-07-24T14:36:01.315Z"
   },
   {
    "duration": 41,
    "start_time": "2021-07-24T14:36:34.065Z"
   },
   {
    "duration": 9,
    "start_time": "2021-07-24T14:36:42.038Z"
   },
   {
    "duration": 28,
    "start_time": "2021-07-24T14:37:38.307Z"
   },
   {
    "duration": 13,
    "start_time": "2021-07-24T14:37:38.690Z"
   },
   {
    "duration": 3,
    "start_time": "2021-07-24T14:37:52.291Z"
   },
   {
    "duration": 10,
    "start_time": "2021-07-24T14:38:15.618Z"
   },
   {
    "duration": 19,
    "start_time": "2021-07-24T14:43:43.325Z"
   },
   {
    "duration": 8,
    "start_time": "2021-07-24T14:43:57.359Z"
   },
   {
    "duration": 19,
    "start_time": "2021-07-24T14:43:57.739Z"
   },
   {
    "duration": 249,
    "start_time": "2021-07-24T14:49:34.097Z"
   },
   {
    "duration": 233,
    "start_time": "2021-07-24T14:49:56.358Z"
   },
   {
    "duration": 13,
    "start_time": "2021-07-24T14:50:23.095Z"
   },
   {
    "duration": 20,
    "start_time": "2021-07-24T14:53:05.337Z"
   },
   {
    "duration": 17,
    "start_time": "2021-07-24T14:56:05.830Z"
   },
   {
    "duration": 13,
    "start_time": "2021-07-24T14:58:14.934Z"
   },
   {
    "duration": 77,
    "start_time": "2021-07-24T15:09:25.178Z"
   },
   {
    "duration": 13,
    "start_time": "2021-07-24T15:09:36.455Z"
   },
   {
    "duration": 11,
    "start_time": "2021-07-24T15:12:33.071Z"
   },
   {
    "duration": 248,
    "start_time": "2021-07-24T15:43:36.543Z"
   },
   {
    "duration": 13,
    "start_time": "2021-07-24T15:44:09.628Z"
   },
   {
    "duration": 10,
    "start_time": "2021-07-24T15:44:10.828Z"
   },
   {
    "duration": 236,
    "start_time": "2021-07-24T15:44:11.275Z"
   },
   {
    "duration": 3,
    "start_time": "2021-07-24T15:48:50.136Z"
   },
   {
    "duration": 552,
    "start_time": "2021-07-24T15:48:50.331Z"
   },
   {
    "duration": 8,
    "start_time": "2021-07-24T15:48:53.560Z"
   },
   {
    "duration": 51,
    "start_time": "2021-07-24T15:48:54.070Z"
   },
   {
    "duration": 36,
    "start_time": "2021-07-24T15:48:54.565Z"
   },
   {
    "duration": 235,
    "start_time": "2021-07-24T15:48:55.024Z"
   },
   {
    "duration": 4,
    "start_time": "2021-07-24T15:48:55.436Z"
   },
   {
    "duration": 22,
    "start_time": "2021-07-24T15:48:55.927Z"
   },
   {
    "duration": 1050,
    "start_time": "2021-07-24T15:49:01.343Z"
   },
   {
    "duration": 563,
    "start_time": "2021-07-24T15:49:02.395Z"
   },
   {
    "duration": 11,
    "start_time": "2021-07-24T15:49:02.960Z"
   },
   {
    "duration": 59,
    "start_time": "2021-07-24T15:49:02.973Z"
   },
   {
    "duration": 45,
    "start_time": "2021-07-24T15:49:03.033Z"
   },
   {
    "duration": 238,
    "start_time": "2021-07-24T15:49:03.080Z"
   },
   {
    "duration": 4,
    "start_time": "2021-07-24T15:49:03.320Z"
   },
   {
    "duration": 38,
    "start_time": "2021-07-24T15:49:03.326Z"
   },
   {
    "duration": 11,
    "start_time": "2021-07-24T15:49:03.366Z"
   },
   {
    "duration": 172,
    "start_time": "2021-07-24T15:49:03.378Z"
   },
   {
    "duration": 24,
    "start_time": "2021-07-24T15:49:03.551Z"
   },
   {
    "duration": 18,
    "start_time": "2021-07-24T15:49:03.576Z"
   },
   {
    "duration": 11,
    "start_time": "2021-07-24T15:49:03.595Z"
   },
   {
    "duration": 16,
    "start_time": "2021-07-24T15:49:03.607Z"
   },
   {
    "duration": 4,
    "start_time": "2021-07-24T15:49:03.624Z"
   },
   {
    "duration": 5,
    "start_time": "2021-07-24T15:49:03.629Z"
   },
   {
    "duration": 7,
    "start_time": "2021-07-24T15:49:03.635Z"
   },
   {
    "duration": 14,
    "start_time": "2021-07-24T15:49:03.643Z"
   },
   {
    "duration": 6,
    "start_time": "2021-07-24T15:49:03.658Z"
   },
   {
    "duration": 30,
    "start_time": "2021-07-24T15:49:03.665Z"
   },
   {
    "duration": 9,
    "start_time": "2021-07-24T15:49:03.697Z"
   },
   {
    "duration": 9,
    "start_time": "2021-07-24T15:49:03.707Z"
   },
   {
    "duration": 5,
    "start_time": "2021-07-24T15:49:03.719Z"
   },
   {
    "duration": 7,
    "start_time": "2021-07-24T15:49:03.726Z"
   },
   {
    "duration": 10,
    "start_time": "2021-07-24T15:49:03.735Z"
   },
   {
    "duration": 23,
    "start_time": "2021-07-24T15:49:03.747Z"
   },
   {
    "duration": 16,
    "start_time": "2021-07-24T15:49:03.772Z"
   },
   {
    "duration": 104,
    "start_time": "2021-07-24T15:49:03.789Z"
   },
   {
    "duration": 542,
    "start_time": "2021-07-24T15:49:03.895Z"
   },
   {
    "duration": 4045,
    "start_time": "2021-07-24T15:49:00.394Z"
   },
   {
    "duration": 4044,
    "start_time": "2021-07-24T15:49:00.396Z"
   },
   {
    "duration": 4043,
    "start_time": "2021-07-24T15:49:00.398Z"
   },
   {
    "duration": 4043,
    "start_time": "2021-07-24T15:49:00.399Z"
   },
   {
    "duration": 4041,
    "start_time": "2021-07-24T15:49:00.401Z"
   },
   {
    "duration": 4040,
    "start_time": "2021-07-24T15:49:00.403Z"
   },
   {
    "duration": 4040,
    "start_time": "2021-07-24T15:49:00.404Z"
   },
   {
    "duration": 4039,
    "start_time": "2021-07-24T15:49:00.406Z"
   },
   {
    "duration": 4039,
    "start_time": "2021-07-24T15:49:00.407Z"
   },
   {
    "duration": 4038,
    "start_time": "2021-07-24T15:49:00.409Z"
   },
   {
    "duration": 4037,
    "start_time": "2021-07-24T15:49:00.410Z"
   },
   {
    "duration": 4032,
    "start_time": "2021-07-24T15:49:00.416Z"
   },
   {
    "duration": 4032,
    "start_time": "2021-07-24T15:49:00.417Z"
   },
   {
    "duration": 4031,
    "start_time": "2021-07-24T15:49:00.419Z"
   },
   {
    "duration": 4030,
    "start_time": "2021-07-24T15:49:00.421Z"
   },
   {
    "duration": 4030,
    "start_time": "2021-07-24T15:49:00.422Z"
   },
   {
    "duration": 4029,
    "start_time": "2021-07-24T15:49:00.424Z"
   },
   {
    "duration": 4029,
    "start_time": "2021-07-24T15:49:00.425Z"
   },
   {
    "duration": 4028,
    "start_time": "2021-07-24T15:49:00.427Z"
   },
   {
    "duration": 4027,
    "start_time": "2021-07-24T15:49:00.428Z"
   },
   {
    "duration": 4026,
    "start_time": "2021-07-24T15:49:00.430Z"
   },
   {
    "duration": 4026,
    "start_time": "2021-07-24T15:49:00.431Z"
   },
   {
    "duration": 4025,
    "start_time": "2021-07-24T15:49:00.432Z"
   },
   {
    "duration": 4024,
    "start_time": "2021-07-24T15:49:00.434Z"
   },
   {
    "duration": 4024,
    "start_time": "2021-07-24T15:49:00.435Z"
   },
   {
    "duration": 4023,
    "start_time": "2021-07-24T15:49:00.437Z"
   },
   {
    "duration": 4023,
    "start_time": "2021-07-24T15:49:00.438Z"
   },
   {
    "duration": 4022,
    "start_time": "2021-07-24T15:49:00.439Z"
   },
   {
    "duration": 4021,
    "start_time": "2021-07-24T15:49:00.441Z"
   },
   {
    "duration": 4021,
    "start_time": "2021-07-24T15:49:00.442Z"
   },
   {
    "duration": 4021,
    "start_time": "2021-07-24T15:49:00.443Z"
   },
   {
    "duration": 4021,
    "start_time": "2021-07-24T15:49:00.444Z"
   },
   {
    "duration": 503,
    "start_time": "2021-07-24T15:49:31.280Z"
   },
   {
    "duration": 242,
    "start_time": "2021-07-24T15:49:58.219Z"
   },
   {
    "duration": 745,
    "start_time": "2021-07-24T15:50:01.981Z"
   },
   {
    "duration": 588,
    "start_time": "2021-07-24T15:50:05.216Z"
   },
   {
    "duration": 100,
    "start_time": "2021-07-24T15:50:07.955Z"
   },
   {
    "duration": 17,
    "start_time": "2021-07-24T15:50:08.684Z"
   },
   {
    "duration": 291,
    "start_time": "2021-07-24T15:50:09.102Z"
   },
   {
    "duration": 8,
    "start_time": "2021-07-24T15:50:09.627Z"
   },
   {
    "duration": 77,
    "start_time": "2021-07-24T15:50:10.185Z"
   },
   {
    "duration": 74,
    "start_time": "2021-07-24T15:50:11.793Z"
   },
   {
    "duration": 109,
    "start_time": "2021-07-24T15:50:12.353Z"
   },
   {
    "duration": 59,
    "start_time": "2021-07-24T15:50:12.935Z"
   },
   {
    "duration": 13,
    "start_time": "2021-07-24T15:50:13.664Z"
   },
   {
    "duration": 13,
    "start_time": "2021-07-24T15:50:14.336Z"
   },
   {
    "duration": 109,
    "start_time": "2021-07-24T15:50:14.850Z"
   },
   {
    "duration": 23,
    "start_time": "2021-07-24T15:50:15.555Z"
   },
   {
    "duration": 749,
    "start_time": "2021-07-24T15:50:16.079Z"
   },
   {
    "duration": 12,
    "start_time": "2021-07-24T15:50:17.708Z"
   },
   {
    "duration": 7,
    "start_time": "2021-07-24T15:50:18.398Z"
   },
   {
    "duration": 68,
    "start_time": "2021-07-24T15:50:18.950Z"
   },
   {
    "duration": 15,
    "start_time": "2021-07-24T15:50:19.515Z"
   },
   {
    "duration": 45,
    "start_time": "2021-07-24T15:50:20.162Z"
   },
   {
    "duration": 11,
    "start_time": "2021-07-24T15:50:20.663Z"
   },
   {
    "duration": 311,
    "start_time": "2021-07-24T15:50:21.185Z"
   },
   {
    "duration": 8,
    "start_time": "2021-07-24T15:50:22.999Z"
   },
   {
    "duration": 74,
    "start_time": "2021-07-24T15:50:23.588Z"
   },
   {
    "duration": 4053,
    "start_time": "2021-07-24T15:50:25.532Z"
   },
   {
    "duration": 10,
    "start_time": "2021-07-24T15:50:39.145Z"
   },
   {
    "duration": 6210,
    "start_time": "2021-07-24T15:50:40.175Z"
   },
   {
    "duration": 252,
    "start_time": "2021-07-24T15:51:02.926Z"
   },
   {
    "duration": 5628,
    "start_time": "2021-07-24T15:51:12.709Z"
   },
   {
    "duration": 4041,
    "start_time": "2021-07-24T15:51:14.299Z"
   },
   {
    "duration": 74,
    "start_time": "2021-07-24T15:54:31.572Z"
   },
   {
    "duration": 109,
    "start_time": "2021-07-24T15:54:32.179Z"
   },
   {
    "duration": 73,
    "start_time": "2021-07-24T15:54:32.545Z"
   },
   {
    "duration": 13,
    "start_time": "2021-07-24T15:54:33.057Z"
   },
   {
    "duration": 13,
    "start_time": "2021-07-24T15:54:33.769Z"
   },
   {
    "duration": 91,
    "start_time": "2021-07-24T15:54:34.496Z"
   },
   {
    "duration": 22,
    "start_time": "2021-07-24T15:54:35.230Z"
   },
   {
    "duration": 787,
    "start_time": "2021-07-24T15:54:35.944Z"
   },
   {
    "duration": 13,
    "start_time": "2021-07-24T15:54:38.768Z"
   },
   {
    "duration": 8,
    "start_time": "2021-07-24T15:54:39.480Z"
   },
   {
    "duration": 73,
    "start_time": "2021-07-24T15:54:40.028Z"
   },
   {
    "duration": 15,
    "start_time": "2021-07-24T15:54:40.912Z"
   },
   {
    "duration": 49,
    "start_time": "2021-07-24T15:54:41.838Z"
   },
   {
    "duration": 13,
    "start_time": "2021-07-24T15:54:43.590Z"
   },
   {
    "duration": 247,
    "start_time": "2021-07-24T15:54:43.605Z"
   },
   {
    "duration": 8,
    "start_time": "2021-07-24T15:54:45.279Z"
   },
   {
    "duration": 5729,
    "start_time": "2021-07-24T15:54:47.157Z"
   },
   {
    "duration": 5391,
    "start_time": "2021-07-24T15:55:43.263Z"
   },
   {
    "duration": 5534,
    "start_time": "2021-07-24T15:55:59.154Z"
   },
   {
    "duration": 5500,
    "start_time": "2021-07-24T15:58:33.331Z"
   },
   {
    "duration": 5690,
    "start_time": "2021-07-24T15:58:57.301Z"
   },
   {
    "duration": 266,
    "start_time": "2021-07-24T15:59:22.603Z"
   },
   {
    "duration": 3,
    "start_time": "2021-07-24T16:19:27.261Z"
   },
   {
    "duration": 3,
    "start_time": "2021-07-24T16:19:32.303Z"
   },
   {
    "duration": 548,
    "start_time": "2021-07-24T16:19:36.716Z"
   },
   {
    "duration": 1123,
    "start_time": "2021-07-24T16:19:42.474Z"
   },
   {
    "duration": 548,
    "start_time": "2021-07-24T16:19:43.599Z"
   },
   {
    "duration": 10,
    "start_time": "2021-07-24T16:19:44.150Z"
   },
   {
    "duration": 50,
    "start_time": "2021-07-24T16:19:44.162Z"
   },
   {
    "duration": 47,
    "start_time": "2021-07-24T16:19:44.214Z"
   },
   {
    "duration": 230,
    "start_time": "2021-07-24T16:19:44.262Z"
   },
   {
    "duration": 3,
    "start_time": "2021-07-24T16:19:44.494Z"
   },
   {
    "duration": 32,
    "start_time": "2021-07-24T16:19:44.500Z"
   },
   {
    "duration": 10,
    "start_time": "2021-07-24T16:19:44.535Z"
   },
   {
    "duration": 177,
    "start_time": "2021-07-24T16:19:44.547Z"
   },
   {
    "duration": 24,
    "start_time": "2021-07-24T16:19:44.726Z"
   },
   {
    "duration": 7,
    "start_time": "2021-07-24T16:19:44.752Z"
   },
   {
    "duration": 14,
    "start_time": "2021-07-24T16:19:44.760Z"
   },
   {
    "duration": 27,
    "start_time": "2021-07-24T16:19:44.776Z"
   },
   {
    "duration": 4,
    "start_time": "2021-07-24T16:19:44.805Z"
   },
   {
    "duration": 4,
    "start_time": "2021-07-24T16:19:44.811Z"
   },
   {
    "duration": 6,
    "start_time": "2021-07-24T16:19:44.817Z"
   },
   {
    "duration": 15,
    "start_time": "2021-07-24T16:19:44.825Z"
   },
   {
    "duration": 7,
    "start_time": "2021-07-24T16:19:44.841Z"
   },
   {
    "duration": 8,
    "start_time": "2021-07-24T16:19:44.849Z"
   },
   {
    "duration": 35,
    "start_time": "2021-07-24T16:19:44.858Z"
   },
   {
    "duration": 4,
    "start_time": "2021-07-24T16:19:44.895Z"
   },
   {
    "duration": 5,
    "start_time": "2021-07-24T16:19:44.903Z"
   },
   {
    "duration": 8,
    "start_time": "2021-07-24T16:19:44.910Z"
   },
   {
    "duration": 10,
    "start_time": "2021-07-24T16:19:44.919Z"
   },
   {
    "duration": 11,
    "start_time": "2021-07-24T16:19:44.931Z"
   },
   {
    "duration": 14,
    "start_time": "2021-07-24T16:19:44.943Z"
   },
   {
    "duration": 108,
    "start_time": "2021-07-24T16:19:44.958Z"
   },
   {
    "duration": 248,
    "start_time": "2021-07-24T16:19:45.068Z"
   },
   {
    "duration": 555,
    "start_time": "2021-07-24T16:19:45.318Z"
   },
   {
    "duration": 594,
    "start_time": "2021-07-24T16:19:45.875Z"
   },
   {
    "duration": 109,
    "start_time": "2021-07-24T16:19:46.471Z"
   },
   {
    "duration": 16,
    "start_time": "2021-07-24T16:19:46.581Z"
   },
   {
    "duration": 302,
    "start_time": "2021-07-24T16:19:46.599Z"
   },
   {
    "duration": 7,
    "start_time": "2021-07-24T16:19:46.902Z"
   },
   {
    "duration": 88,
    "start_time": "2021-07-24T16:19:46.910Z"
   },
   {
    "duration": 110,
    "start_time": "2021-07-24T16:19:46.999Z"
   },
   {
    "duration": 58,
    "start_time": "2021-07-24T16:19:47.110Z"
   },
   {
    "duration": 25,
    "start_time": "2021-07-24T16:19:47.169Z"
   },
   {
    "duration": 13,
    "start_time": "2021-07-24T16:19:47.195Z"
   },
   {
    "duration": 113,
    "start_time": "2021-07-24T16:19:47.209Z"
   },
   {
    "duration": 20,
    "start_time": "2021-07-24T16:19:47.324Z"
   },
   {
    "duration": 730,
    "start_time": "2021-07-24T16:19:47.346Z"
   },
   {
    "duration": 17,
    "start_time": "2021-07-24T16:19:48.077Z"
   },
   {
    "duration": 17,
    "start_time": "2021-07-24T16:19:48.095Z"
   },
   {
    "duration": 73,
    "start_time": "2021-07-24T16:19:48.113Z"
   },
   {
    "duration": 14,
    "start_time": "2021-07-24T16:19:48.187Z"
   },
   {
    "duration": 41,
    "start_time": "2021-07-24T16:19:48.203Z"
   },
   {
    "duration": 10,
    "start_time": "2021-07-24T16:19:48.245Z"
   },
   {
    "duration": 327,
    "start_time": "2021-07-24T16:19:48.257Z"
   },
   {
    "duration": 10,
    "start_time": "2021-07-24T16:19:48.586Z"
   },
   {
    "duration": 285,
    "start_time": "2021-07-24T16:19:48.597Z"
   },
   {
    "duration": 291,
    "start_time": "2021-07-24T16:19:48.884Z"
   },
   {
    "duration": -22,
    "start_time": "2021-07-24T16:19:49.200Z"
   },
   {
    "duration": -25,
    "start_time": "2021-07-24T16:19:49.204Z"
   },
   {
    "duration": -27,
    "start_time": "2021-07-24T16:19:49.207Z"
   },
   {
    "duration": -29,
    "start_time": "2021-07-24T16:19:49.210Z"
   },
   {
    "duration": -29,
    "start_time": "2021-07-24T16:19:49.212Z"
   },
   {
    "duration": -30,
    "start_time": "2021-07-24T16:19:49.214Z"
   },
   {
    "duration": 235,
    "start_time": "2021-07-24T16:25:29.193Z"
   },
   {
    "duration": 75,
    "start_time": "2021-07-24T16:29:50.564Z"
   },
   {
    "duration": 230,
    "start_time": "2021-07-24T16:30:17.543Z"
   },
   {
    "duration": 4,
    "start_time": "2021-07-24T16:30:26.811Z"
   },
   {
    "duration": 4,
    "start_time": "2021-07-24T16:30:56.454Z"
   },
   {
    "duration": 4,
    "start_time": "2021-07-24T16:31:04.315Z"
   },
   {
    "duration": 25,
    "start_time": "2021-07-24T16:31:50.712Z"
   },
   {
    "duration": 75,
    "start_time": "2021-07-24T16:32:09.377Z"
   },
   {
    "duration": 247,
    "start_time": "2021-07-24T16:32:17.628Z"
   },
   {
    "duration": 5483,
    "start_time": "2021-07-24T16:33:05.279Z"
   },
   {
    "duration": 18,
    "start_time": "2021-07-24T16:33:23.240Z"
   },
   {
    "duration": 282,
    "start_time": "2021-07-24T16:33:38.176Z"
   },
   {
    "duration": 6,
    "start_time": "2021-07-24T16:33:55.300Z"
   },
   {
    "duration": 192,
    "start_time": "2021-07-24T16:34:45.951Z"
   },
   {
    "duration": 14,
    "start_time": "2021-07-24T16:35:06.225Z"
   },
   {
    "duration": 87,
    "start_time": "2021-07-24T16:35:25.959Z"
   },
   {
    "duration": 9,
    "start_time": "2021-07-24T16:35:51.446Z"
   },
   {
    "duration": 4,
    "start_time": "2021-07-24T16:36:06.591Z"
   },
   {
    "duration": 28,
    "start_time": "2021-07-24T16:36:25.754Z"
   },
   {
    "duration": 708,
    "start_time": "2021-07-24T16:36:44.186Z"
   },
   {
    "duration": 30,
    "start_time": "2021-07-24T16:37:46.078Z"
   },
   {
    "duration": 5408,
    "start_time": "2021-07-24T16:38:00.682Z"
   },
   {
    "duration": 5557,
    "start_time": "2021-07-24T16:38:14.907Z"
   },
   {
    "duration": 13,
    "start_time": "2021-07-24T16:38:59.748Z"
   },
   {
    "duration": 7,
    "start_time": "2021-07-24T16:39:06.554Z"
   },
   {
    "duration": 249,
    "start_time": "2021-07-24T16:39:31.383Z"
   },
   {
    "duration": 6,
    "start_time": "2021-07-24T16:39:52.478Z"
   },
   {
    "duration": 275,
    "start_time": "2021-07-24T16:40:39.341Z"
   },
   {
    "duration": 41,
    "start_time": "2021-07-24T16:41:39.270Z"
   },
   {
    "duration": 6,
    "start_time": "2021-07-24T16:41:57.517Z"
   },
   {
    "duration": 17,
    "start_time": "2021-07-24T16:42:05.292Z"
   },
   {
    "duration": 729,
    "start_time": "2021-07-24T16:42:25.171Z"
   },
   {
    "duration": 19,
    "start_time": "2021-07-24T16:43:20.451Z"
   },
   {
    "duration": 17,
    "start_time": "2021-07-24T16:43:38.382Z"
   },
   {
    "duration": 11,
    "start_time": "2021-07-24T16:43:53.849Z"
   },
   {
    "duration": 13,
    "start_time": "2021-07-24T16:44:10.606Z"
   },
   {
    "duration": 99,
    "start_time": "2021-07-24T16:44:29.342Z"
   },
   {
    "duration": 685,
    "start_time": "2021-07-24T16:44:40.243Z"
   },
   {
    "duration": 5,
    "start_time": "2021-07-24T16:45:38.473Z"
   },
   {
    "duration": 5397,
    "start_time": "2021-07-24T16:46:00.477Z"
   },
   {
    "duration": 5647,
    "start_time": "2021-07-24T16:46:30.215Z"
   },
   {
    "duration": 239,
    "start_time": "2021-07-24T16:46:49.886Z"
   },
   {
    "duration": 232,
    "start_time": "2021-07-24T16:47:03.073Z"
   },
   {
    "duration": 5495,
    "start_time": "2021-07-24T16:47:09.788Z"
   },
   {
    "duration": -33,
    "start_time": "2021-07-24T16:47:15.318Z"
   },
   {
    "duration": 5481,
    "start_time": "2021-07-24T16:48:06.319Z"
   },
   {
    "duration": 5438,
    "start_time": "2021-07-24T16:48:19.013Z"
   },
   {
    "duration": 5911,
    "start_time": "2021-07-24T16:49:14.613Z"
   },
   {
    "duration": 5774,
    "start_time": "2021-07-24T16:50:38.148Z"
   },
   {
    "duration": 232,
    "start_time": "2021-07-24T16:50:53.988Z"
   },
   {
    "duration": 1558,
    "start_time": "2021-07-25T08:00:41.402Z"
   },
   {
    "duration": 888,
    "start_time": "2021-07-25T08:00:42.963Z"
   },
   {
    "duration": 17,
    "start_time": "2021-07-25T08:00:45.433Z"
   },
   {
    "duration": 91,
    "start_time": "2021-07-25T08:00:45.821Z"
   },
   {
    "duration": 71,
    "start_time": "2021-07-25T08:00:46.219Z"
   },
   {
    "duration": 393,
    "start_time": "2021-07-25T08:00:46.611Z"
   },
   {
    "duration": 5,
    "start_time": "2021-07-25T08:00:47.008Z"
   },
   {
    "duration": 39,
    "start_time": "2021-07-25T08:00:47.268Z"
   },
   {
    "duration": 17,
    "start_time": "2021-07-25T08:00:47.603Z"
   },
   {
    "duration": 243,
    "start_time": "2021-07-25T08:00:47.946Z"
   },
   {
    "duration": 35,
    "start_time": "2021-07-25T08:00:48.395Z"
   },
   {
    "duration": 11,
    "start_time": "2021-07-25T08:00:49.540Z"
   },
   {
    "duration": 11,
    "start_time": "2021-07-25T08:00:50.053Z"
   },
   {
    "duration": 24,
    "start_time": "2021-07-25T08:00:50.457Z"
   },
   {
    "duration": 6,
    "start_time": "2021-07-25T08:00:50.732Z"
   },
   {
    "duration": 4,
    "start_time": "2021-07-25T08:00:51.044Z"
   },
   {
    "duration": 7,
    "start_time": "2021-07-25T08:00:51.345Z"
   },
   {
    "duration": 20,
    "start_time": "2021-07-25T08:00:51.662Z"
   },
   {
    "duration": 9,
    "start_time": "2021-07-25T08:00:52.004Z"
   },
   {
    "duration": 10,
    "start_time": "2021-07-25T08:00:52.962Z"
   },
   {
    "duration": 9,
    "start_time": "2021-07-25T08:00:53.252Z"
   },
   {
    "duration": 8,
    "start_time": "2021-07-25T08:00:53.536Z"
   },
   {
    "duration": 6,
    "start_time": "2021-07-25T08:00:53.817Z"
   },
   {
    "duration": 6,
    "start_time": "2021-07-25T08:00:54.113Z"
   },
   {
    "duration": 7,
    "start_time": "2021-07-25T08:00:54.392Z"
   },
   {
    "duration": 10,
    "start_time": "2021-07-25T08:00:54.628Z"
   },
   {
    "duration": 112,
    "start_time": "2021-07-25T08:00:56.122Z"
   },
   {
    "duration": 336,
    "start_time": "2021-07-25T08:00:56.753Z"
   },
   {
    "duration": 5,
    "start_time": "2021-07-25T08:00:57.092Z"
   },
   {
    "duration": 12,
    "start_time": "2021-07-25T08:00:57.401Z"
   },
   {
    "duration": 6,
    "start_time": "2021-07-25T08:00:57.774Z"
   },
   {
    "duration": 26,
    "start_time": "2021-07-25T08:00:59.111Z"
   },
   {
    "duration": 121,
    "start_time": "2021-07-25T08:00:59.854Z"
   },
   {
    "duration": 356,
    "start_time": "2021-07-25T08:01:00.216Z"
   },
   {
    "duration": 30,
    "start_time": "2021-07-25T08:01:01.646Z"
   },
   {
    "duration": 430,
    "start_time": "2021-07-25T08:01:02.360Z"
   },
   {
    "duration": 11,
    "start_time": "2021-07-25T08:01:03.028Z"
   },
   {
    "duration": 363,
    "start_time": "2021-07-25T08:01:05.825Z"
   },
   {
    "duration": 17,
    "start_time": "2021-07-25T08:01:06.689Z"
   },
   {
    "duration": 133,
    "start_time": "2021-07-25T08:01:07.313Z"
   },
   {
    "duration": 13,
    "start_time": "2021-07-25T08:01:07.905Z"
   },
   {
    "duration": 5,
    "start_time": "2021-07-25T08:01:08.529Z"
   },
   {
    "duration": 45,
    "start_time": "2021-07-25T08:01:09.152Z"
   },
   {
    "duration": 1524,
    "start_time": "2021-07-25T08:01:09.465Z"
   },
   {
    "duration": 59,
    "start_time": "2021-07-25T08:01:11.269Z"
   },
   {
    "duration": 17,
    "start_time": "2021-07-25T08:01:11.890Z"
   },
   {
    "duration": 8,
    "start_time": "2021-07-25T08:01:12.198Z"
   },
   {
    "duration": 483,
    "start_time": "2021-07-25T08:01:12.525Z"
   },
   {
    "duration": 8,
    "start_time": "2021-07-25T08:01:13.156Z"
   },
   {
    "duration": 543,
    "start_time": "2021-07-25T08:01:14.124Z"
   },
   {
    "duration": 69,
    "start_time": "2021-07-25T08:01:15.090Z"
   },
   {
    "duration": 9,
    "start_time": "2021-07-25T08:01:15.757Z"
   },
   {
    "duration": 25,
    "start_time": "2021-07-25T08:01:16.101Z"
   },
   {
    "duration": 1451,
    "start_time": "2021-07-25T08:01:16.810Z"
   },
   {
    "duration": 27,
    "start_time": "2021-07-25T08:01:18.426Z"
   },
   {
    "duration": 24,
    "start_time": "2021-07-25T08:01:19.304Z"
   },
   {
    "duration": 18,
    "start_time": "2021-07-25T08:01:20.077Z"
   },
   {
    "duration": 21,
    "start_time": "2021-07-25T08:01:20.868Z"
   },
   {
    "duration": 30,
    "start_time": "2021-07-25T08:01:21.647Z"
   },
   {
    "duration": 1136,
    "start_time": "2021-07-25T08:01:22.084Z"
   },
   {
    "duration": 6,
    "start_time": "2021-07-25T08:01:25.403Z"
   },
   {
    "duration": 9653,
    "start_time": "2021-07-25T08:01:26.395Z"
   },
   {
    "duration": -187,
    "start_time": "2021-07-25T08:01:36.238Z"
   },
   {
    "duration": 580,
    "start_time": "2021-07-25T08:05:03.627Z"
   },
   {
    "duration": 144,
    "start_time": "2021-07-25T08:05:24.794Z"
   },
   {
    "duration": 21,
    "start_time": "2021-07-25T08:06:09.626Z"
   },
   {
    "duration": 13466,
    "start_time": "2021-07-25T08:06:27.523Z"
   },
   {
    "duration": 236,
    "start_time": "2021-07-25T08:07:08.632Z"
   },
   {
    "duration": 18,
    "start_time": "2021-07-25T08:07:31.293Z"
   },
   {
    "duration": 12,
    "start_time": "2021-07-25T08:07:40.066Z"
   },
   {
    "duration": 398,
    "start_time": "2021-07-25T08:08:13.699Z"
   },
   {
    "duration": 12998,
    "start_time": "2021-07-25T08:08:24.347Z"
   },
   {
    "duration": 553,
    "start_time": "2021-07-25T08:09:00.205Z"
   },
   {
    "duration": 1067,
    "start_time": "2021-07-25T08:09:15.764Z"
   },
   {
    "duration": 11,
    "start_time": "2021-07-25T08:16:43.162Z"
   },
   {
    "duration": 7,
    "start_time": "2021-07-25T08:45:56.195Z"
   },
   {
    "duration": 4,
    "start_time": "2021-07-25T08:46:24.459Z"
   },
   {
    "duration": 770,
    "start_time": "2021-07-25T08:46:24.664Z"
   },
   {
    "duration": 11,
    "start_time": "2021-07-25T08:46:25.437Z"
   },
   {
    "duration": 64,
    "start_time": "2021-07-25T08:46:25.451Z"
   },
   {
    "duration": 69,
    "start_time": "2021-07-25T08:46:25.519Z"
   },
   {
    "duration": 344,
    "start_time": "2021-07-25T08:46:25.768Z"
   },
   {
    "duration": 7,
    "start_time": "2021-07-25T08:46:26.115Z"
   },
   {
    "duration": 27,
    "start_time": "2021-07-25T08:46:26.523Z"
   },
   {
    "duration": 17,
    "start_time": "2021-07-25T08:46:27.203Z"
   },
   {
    "duration": 224,
    "start_time": "2021-07-25T08:46:27.660Z"
   },
   {
    "duration": 31,
    "start_time": "2021-07-25T08:46:28.208Z"
   },
   {
    "duration": 10,
    "start_time": "2021-07-25T08:46:28.855Z"
   },
   {
    "duration": 12,
    "start_time": "2021-07-25T08:46:29.068Z"
   },
   {
    "duration": 27,
    "start_time": "2021-07-25T08:46:29.285Z"
   },
   {
    "duration": 6,
    "start_time": "2021-07-25T08:46:29.494Z"
   },
   {
    "duration": 4,
    "start_time": "2021-07-25T08:46:29.689Z"
   },
   {
    "duration": 7,
    "start_time": "2021-07-25T08:46:29.882Z"
   },
   {
    "duration": 19,
    "start_time": "2021-07-25T08:46:30.093Z"
   },
   {
    "duration": 9,
    "start_time": "2021-07-25T08:46:30.294Z"
   },
   {
    "duration": 11,
    "start_time": "2021-07-25T08:46:30.912Z"
   },
   {
    "duration": 9,
    "start_time": "2021-07-25T08:46:31.126Z"
   },
   {
    "duration": 8,
    "start_time": "2021-07-25T08:46:31.329Z"
   },
   {
    "duration": 6,
    "start_time": "2021-07-25T08:46:31.551Z"
   },
   {
    "duration": 6,
    "start_time": "2021-07-25T08:46:31.750Z"
   },
   {
    "duration": 7,
    "start_time": "2021-07-25T08:46:31.965Z"
   },
   {
    "duration": 11,
    "start_time": "2021-07-25T08:46:32.165Z"
   },
   {
    "duration": 114,
    "start_time": "2021-07-25T08:46:33.248Z"
   },
   {
    "duration": 339,
    "start_time": "2021-07-25T08:46:33.673Z"
   },
   {
    "duration": 5,
    "start_time": "2021-07-25T08:46:34.015Z"
   },
   {
    "duration": 5,
    "start_time": "2021-07-25T08:46:34.131Z"
   },
   {
    "duration": 6,
    "start_time": "2021-07-25T08:46:34.377Z"
   },
   {
    "duration": 26,
    "start_time": "2021-07-25T08:46:35.091Z"
   },
   {
    "duration": 116,
    "start_time": "2021-07-25T08:46:35.542Z"
   },
   {
    "duration": 472,
    "start_time": "2021-07-25T08:46:35.776Z"
   },
   {
    "duration": 24,
    "start_time": "2021-07-25T08:46:36.691Z"
   },
   {
    "duration": 539,
    "start_time": "2021-07-25T08:46:37.133Z"
   },
   {
    "duration": 10,
    "start_time": "2021-07-25T08:46:37.675Z"
   },
   {
    "duration": 360,
    "start_time": "2021-07-25T08:46:38.313Z"
   },
   {
    "duration": 15,
    "start_time": "2021-07-25T08:46:38.817Z"
   },
   {
    "duration": 126,
    "start_time": "2021-07-25T08:46:39.313Z"
   },
   {
    "duration": 13,
    "start_time": "2021-07-25T08:46:39.797Z"
   },
   {
    "duration": 5,
    "start_time": "2021-07-25T08:46:40.262Z"
   },
   {
    "duration": 48,
    "start_time": "2021-07-25T08:46:40.727Z"
   },
   {
    "duration": 1196,
    "start_time": "2021-07-25T08:46:40.951Z"
   },
   {
    "duration": 58,
    "start_time": "2021-07-25T08:46:42.189Z"
   },
   {
    "duration": 18,
    "start_time": "2021-07-25T08:46:42.684Z"
   },
   {
    "duration": 9,
    "start_time": "2021-07-25T08:46:42.939Z"
   },
   {
    "duration": 636,
    "start_time": "2021-07-25T08:46:43.202Z"
   },
   {
    "duration": 7,
    "start_time": "2021-07-25T08:46:43.841Z"
   },
   {
    "duration": 521,
    "start_time": "2021-07-25T08:46:44.563Z"
   },
   {
    "duration": 70,
    "start_time": "2021-07-25T08:46:45.355Z"
   },
   {
    "duration": 9,
    "start_time": "2021-07-25T08:46:45.907Z"
   },
   {
    "duration": 27,
    "start_time": "2021-07-25T08:46:46.192Z"
   },
   {
    "duration": 1228,
    "start_time": "2021-07-25T08:46:46.760Z"
   },
   {
    "duration": 25,
    "start_time": "2021-07-25T08:46:47.991Z"
   },
   {
    "duration": 24,
    "start_time": "2021-07-25T08:46:48.452Z"
   },
   {
    "duration": 18,
    "start_time": "2021-07-25T08:46:49.142Z"
   },
   {
    "duration": 21,
    "start_time": "2021-07-25T08:46:49.776Z"
   },
   {
    "duration": 30,
    "start_time": "2021-07-25T08:46:50.486Z"
   },
   {
    "duration": 1316,
    "start_time": "2021-07-25T08:46:50.807Z"
   },
   {
    "duration": 6,
    "start_time": "2021-07-25T08:46:53.021Z"
   },
   {
    "duration": 13,
    "start_time": "2021-07-25T08:46:59.604Z"
   },
   {
    "duration": 8,
    "start_time": "2021-07-25T08:47:00.463Z"
   },
   {
    "duration": 14,
    "start_time": "2021-07-25T08:47:15.942Z"
   },
   {
    "duration": 9529,
    "start_time": "2021-07-25T08:48:23.330Z"
   },
   {
    "duration": 4,
    "start_time": "2021-07-25T08:51:56.139Z"
   },
   {
    "duration": 761,
    "start_time": "2021-07-25T08:51:56.358Z"
   },
   {
    "duration": 11,
    "start_time": "2021-07-25T08:51:57.122Z"
   },
   {
    "duration": 68,
    "start_time": "2021-07-25T08:51:57.136Z"
   },
   {
    "duration": 64,
    "start_time": "2021-07-25T08:51:57.207Z"
   },
   {
    "duration": 337,
    "start_time": "2021-07-25T08:51:57.418Z"
   },
   {
    "duration": 5,
    "start_time": "2021-07-25T08:51:57.757Z"
   },
   {
    "duration": 30,
    "start_time": "2021-07-25T08:51:57.882Z"
   },
   {
    "duration": 18,
    "start_time": "2021-07-25T08:51:58.114Z"
   },
   {
    "duration": 268,
    "start_time": "2021-07-25T08:51:58.327Z"
   },
   {
    "duration": 30,
    "start_time": "2021-07-25T08:51:58.597Z"
   },
   {
    "duration": 11,
    "start_time": "2021-07-25T08:51:59.251Z"
   },
   {
    "duration": 11,
    "start_time": "2021-07-25T08:51:59.472Z"
   },
   {
    "duration": 26,
    "start_time": "2021-07-25T08:51:59.682Z"
   },
   {
    "duration": 5,
    "start_time": "2021-07-25T08:51:59.904Z"
   },
   {
    "duration": 4,
    "start_time": "2021-07-25T08:52:00.108Z"
   },
   {
    "duration": 8,
    "start_time": "2021-07-25T08:52:00.322Z"
   },
   {
    "duration": 21,
    "start_time": "2021-07-25T08:52:00.549Z"
   },
   {
    "duration": 10,
    "start_time": "2021-07-25T08:52:00.775Z"
   },
   {
    "duration": 11,
    "start_time": "2021-07-25T08:52:01.444Z"
   },
   {
    "duration": 9,
    "start_time": "2021-07-25T08:52:01.667Z"
   },
   {
    "duration": 7,
    "start_time": "2021-07-25T08:52:01.900Z"
   },
   {
    "duration": 5,
    "start_time": "2021-07-25T08:52:02.120Z"
   },
   {
    "duration": 6,
    "start_time": "2021-07-25T08:52:02.341Z"
   },
   {
    "duration": 7,
    "start_time": "2021-07-25T08:52:02.564Z"
   },
   {
    "duration": 8,
    "start_time": "2021-07-25T08:52:02.764Z"
   },
   {
    "duration": 113,
    "start_time": "2021-07-25T08:52:03.944Z"
   },
   {
    "duration": 332,
    "start_time": "2021-07-25T08:52:04.388Z"
   },
   {
    "duration": 4,
    "start_time": "2021-07-25T08:52:04.723Z"
   },
   {
    "duration": 5,
    "start_time": "2021-07-25T08:52:04.841Z"
   },
   {
    "duration": 5,
    "start_time": "2021-07-25T08:52:05.149Z"
   },
   {
    "duration": 27,
    "start_time": "2021-07-25T08:52:05.848Z"
   },
   {
    "duration": 119,
    "start_time": "2021-07-25T08:52:06.273Z"
   },
   {
    "duration": 480,
    "start_time": "2021-07-25T08:52:06.482Z"
   },
   {
    "duration": 25,
    "start_time": "2021-07-25T08:52:07.425Z"
   },
   {
    "duration": 537,
    "start_time": "2021-07-25T08:52:07.851Z"
   },
   {
    "duration": 10,
    "start_time": "2021-07-25T08:52:08.391Z"
   },
   {
    "duration": 347,
    "start_time": "2021-07-25T08:52:09.112Z"
   },
   {
    "duration": 17,
    "start_time": "2021-07-25T08:52:09.654Z"
   },
   {
    "duration": 127,
    "start_time": "2021-07-25T08:52:10.185Z"
   },
   {
    "duration": 14,
    "start_time": "2021-07-25T08:52:10.719Z"
   },
   {
    "duration": 6,
    "start_time": "2021-07-25T08:52:11.203Z"
   },
   {
    "duration": 43,
    "start_time": "2021-07-25T08:52:11.728Z"
   },
   {
    "duration": 1212,
    "start_time": "2021-07-25T08:52:12.011Z"
   },
   {
    "duration": 52,
    "start_time": "2021-07-25T08:52:13.348Z"
   },
   {
    "duration": 18,
    "start_time": "2021-07-25T08:52:13.817Z"
   },
   {
    "duration": 9,
    "start_time": "2021-07-25T08:52:14.074Z"
   },
   {
    "duration": 577,
    "start_time": "2021-07-25T08:52:14.326Z"
   },
   {
    "duration": 7,
    "start_time": "2021-07-25T08:52:14.906Z"
   },
   {
    "duration": 506,
    "start_time": "2021-07-25T08:52:15.584Z"
   },
   {
    "duration": 65,
    "start_time": "2021-07-25T08:52:16.385Z"
   },
   {
    "duration": 8,
    "start_time": "2021-07-25T08:52:16.863Z"
   },
   {
    "duration": 24,
    "start_time": "2021-07-25T08:52:17.106Z"
   },
   {
    "duration": 1231,
    "start_time": "2021-07-25T08:52:17.630Z"
   },
   {
    "duration": 26,
    "start_time": "2021-07-25T08:52:18.867Z"
   },
   {
    "duration": 25,
    "start_time": "2021-07-25T08:52:19.446Z"
   },
   {
    "duration": 19,
    "start_time": "2021-07-25T08:52:20.029Z"
   },
   {
    "duration": 21,
    "start_time": "2021-07-25T08:52:20.628Z"
   },
   {
    "duration": 34,
    "start_time": "2021-07-25T08:52:21.122Z"
   },
   {
    "duration": 1169,
    "start_time": "2021-07-25T08:52:21.393Z"
   },
   {
    "duration": 7,
    "start_time": "2021-07-25T08:52:22.765Z"
   },
   {
    "duration": 10,
    "start_time": "2021-07-25T08:52:23.030Z"
   },
   {
    "duration": 13,
    "start_time": "2021-07-25T08:52:23.330Z"
   },
   {
    "duration": 9633,
    "start_time": "2021-07-25T08:52:23.603Z"
   },
   {
    "duration": 9982,
    "start_time": "2021-07-25T08:53:08.249Z"
   },
   {
    "duration": 9737,
    "start_time": "2021-07-25T08:58:07.657Z"
   },
   {
    "duration": 10411,
    "start_time": "2021-07-25T09:01:47.107Z"
   },
   {
    "duration": 1500,
    "start_time": "2021-07-25T16:18:14.056Z"
   },
   {
    "duration": 773,
    "start_time": "2021-07-25T16:18:15.558Z"
   },
   {
    "duration": 16,
    "start_time": "2021-07-25T16:18:16.334Z"
   },
   {
    "duration": 67,
    "start_time": "2021-07-25T16:18:16.354Z"
   },
   {
    "duration": 78,
    "start_time": "2021-07-25T16:18:16.423Z"
   },
   {
    "duration": 368,
    "start_time": "2021-07-25T16:18:16.504Z"
   },
   {
    "duration": 10,
    "start_time": "2021-07-25T16:18:16.874Z"
   },
   {
    "duration": 35,
    "start_time": "2021-07-25T16:18:16.887Z"
   },
   {
    "duration": 18,
    "start_time": "2021-07-25T16:18:16.924Z"
   },
   {
    "duration": 260,
    "start_time": "2021-07-25T16:18:16.945Z"
   },
   {
    "duration": 33,
    "start_time": "2021-07-25T16:18:17.208Z"
   },
   {
    "duration": 10,
    "start_time": "2021-07-25T16:18:17.244Z"
   },
   {
    "duration": 31,
    "start_time": "2021-07-25T16:18:17.256Z"
   },
   {
    "duration": 22,
    "start_time": "2021-07-25T16:18:17.290Z"
   },
   {
    "duration": 5,
    "start_time": "2021-07-25T16:18:17.314Z"
   },
   {
    "duration": 4,
    "start_time": "2021-07-25T16:18:17.497Z"
   },
   {
    "duration": 7,
    "start_time": "2021-07-25T16:18:17.706Z"
   },
   {
    "duration": 19,
    "start_time": "2021-07-25T16:18:17.919Z"
   },
   {
    "duration": 9,
    "start_time": "2021-07-25T16:18:18.123Z"
   },
   {
    "duration": 10,
    "start_time": "2021-07-25T16:18:18.724Z"
   },
   {
    "duration": 8,
    "start_time": "2021-07-25T16:18:18.931Z"
   },
   {
    "duration": 8,
    "start_time": "2021-07-25T16:18:19.126Z"
   },
   {
    "duration": 6,
    "start_time": "2021-07-25T16:18:19.338Z"
   },
   {
    "duration": 6,
    "start_time": "2021-07-25T16:18:19.551Z"
   },
   {
    "duration": 6,
    "start_time": "2021-07-25T16:18:19.767Z"
   },
   {
    "duration": 9,
    "start_time": "2021-07-25T16:18:19.967Z"
   },
   {
    "duration": 112,
    "start_time": "2021-07-25T16:18:20.967Z"
   },
   {
    "duration": 322,
    "start_time": "2021-07-25T16:18:21.367Z"
   },
   {
    "duration": 5,
    "start_time": "2021-07-25T16:18:21.692Z"
   },
   {
    "duration": 10,
    "start_time": "2021-07-25T16:18:21.756Z"
   },
   {
    "duration": 6,
    "start_time": "2021-07-25T16:18:21.929Z"
   },
   {
    "duration": 24,
    "start_time": "2021-07-25T16:18:22.510Z"
   },
   {
    "duration": 119,
    "start_time": "2021-07-25T16:18:22.878Z"
   },
   {
    "duration": 361,
    "start_time": "2021-07-25T16:18:23.075Z"
   },
   {
    "duration": 24,
    "start_time": "2021-07-25T16:18:23.877Z"
   },
   {
    "duration": 405,
    "start_time": "2021-07-25T16:18:24.266Z"
   },
   {
    "duration": 16,
    "start_time": "2021-07-25T16:18:24.673Z"
   },
   {
    "duration": 303,
    "start_time": "2021-07-25T16:18:25.294Z"
   },
   {
    "duration": 17,
    "start_time": "2021-07-25T16:18:25.731Z"
   },
   {
    "duration": 127,
    "start_time": "2021-07-25T16:18:26.205Z"
   },
   {
    "duration": 14,
    "start_time": "2021-07-25T16:18:26.630Z"
   },
   {
    "duration": 6,
    "start_time": "2021-07-25T16:18:27.058Z"
   },
   {
    "duration": 48,
    "start_time": "2021-07-25T16:18:27.452Z"
   },
   {
    "duration": 1231,
    "start_time": "2021-07-25T16:18:27.661Z"
   },
   {
    "duration": 52,
    "start_time": "2021-07-25T16:18:29.051Z"
   },
   {
    "duration": 19,
    "start_time": "2021-07-25T16:18:29.544Z"
   },
   {
    "duration": 9,
    "start_time": "2021-07-25T16:18:30.610Z"
   },
   {
    "duration": 468,
    "start_time": "2021-07-25T16:18:30.922Z"
   },
   {
    "duration": 8,
    "start_time": "2021-07-25T16:18:31.463Z"
   },
   {
    "duration": 500,
    "start_time": "2021-07-25T16:18:32.053Z"
   },
   {
    "duration": 65,
    "start_time": "2021-07-25T16:18:32.692Z"
   },
   {
    "duration": 8,
    "start_time": "2021-07-25T16:18:33.115Z"
   },
   {
    "duration": 25,
    "start_time": "2021-07-25T16:18:33.345Z"
   },
   {
    "duration": 1278,
    "start_time": "2021-07-25T16:18:33.774Z"
   },
   {
    "duration": 40,
    "start_time": "2021-07-25T16:18:35.056Z"
   },
   {
    "duration": 25,
    "start_time": "2021-07-25T16:18:35.131Z"
   },
   {
    "duration": 18,
    "start_time": "2021-07-25T16:18:35.592Z"
   },
   {
    "duration": 20,
    "start_time": "2021-07-25T16:18:36.057Z"
   },
   {
    "duration": 32,
    "start_time": "2021-07-25T16:18:36.511Z"
   },
   {
    "duration": 1186,
    "start_time": "2021-07-25T16:18:36.746Z"
   },
   {
    "duration": 6,
    "start_time": "2021-07-25T16:18:37.949Z"
   },
   {
    "duration": 11,
    "start_time": "2021-07-25T16:18:38.188Z"
   },
   {
    "duration": 8731,
    "start_time": "2021-07-25T16:18:38.414Z"
   },
   {
    "duration": 10026,
    "start_time": "2021-07-25T16:20:40.234Z"
   },
   {
    "duration": 492,
    "start_time": "2021-07-25T16:22:12.293Z"
   },
   {
    "duration": 546,
    "start_time": "2021-07-25T16:25:13.960Z"
   },
   {
    "duration": 20,
    "start_time": "2021-07-25T16:25:27.934Z"
   },
   {
    "duration": 199,
    "start_time": "2021-07-25T16:25:28.907Z"
   },
   {
    "duration": 17,
    "start_time": "2021-07-25T16:25:29.983Z"
   },
   {
    "duration": 12,
    "start_time": "2021-07-25T16:25:30.324Z"
   },
   {
    "duration": 43,
    "start_time": "2021-07-25T16:25:33.203Z"
   },
   {
    "duration": 1130,
    "start_time": "2021-07-25T16:26:09.369Z"
   },
   {
    "duration": 11,
    "start_time": "2021-07-25T16:26:31.743Z"
   },
   {
    "duration": 13,
    "start_time": "2021-07-25T16:26:43.484Z"
   },
   {
    "duration": 19,
    "start_time": "2021-07-25T16:26:52.744Z"
   },
   {
    "duration": 116,
    "start_time": "2021-07-25T16:27:09.790Z"
   },
   {
    "duration": 102,
    "start_time": "2021-07-25T16:27:51.954Z"
   },
   {
    "duration": 1121,
    "start_time": "2021-07-25T16:29:27.910Z"
   },
   {
    "duration": 84,
    "start_time": "2021-07-26T07:58:26.391Z"
   },
   {
    "duration": 1437,
    "start_time": "2021-07-26T07:58:39.583Z"
   },
   {
    "duration": 811,
    "start_time": "2021-07-26T07:58:41.023Z"
   },
   {
    "duration": 17,
    "start_time": "2021-07-26T07:58:41.838Z"
   },
   {
    "duration": 73,
    "start_time": "2021-07-26T07:58:41.858Z"
   },
   {
    "duration": 81,
    "start_time": "2021-07-26T07:58:41.934Z"
   },
   {
    "duration": 371,
    "start_time": "2021-07-26T07:58:42.017Z"
   },
   {
    "duration": 5,
    "start_time": "2021-07-26T07:58:42.391Z"
   },
   {
    "duration": 56,
    "start_time": "2021-07-26T07:58:42.399Z"
   },
   {
    "duration": 19,
    "start_time": "2021-07-26T07:58:42.461Z"
   },
   {
    "duration": 280,
    "start_time": "2021-07-26T07:58:42.485Z"
   },
   {
    "duration": 37,
    "start_time": "2021-07-26T07:58:42.767Z"
   },
   {
    "duration": 12,
    "start_time": "2021-07-26T07:58:42.808Z"
   },
   {
    "duration": 43,
    "start_time": "2021-07-26T07:58:42.823Z"
   },
   {
    "duration": 32,
    "start_time": "2021-07-26T07:58:42.868Z"
   },
   {
    "duration": 6,
    "start_time": "2021-07-26T07:58:42.902Z"
   },
   {
    "duration": 11,
    "start_time": "2021-07-26T07:58:42.910Z"
   },
   {
    "duration": 36,
    "start_time": "2021-07-26T07:58:42.924Z"
   },
   {
    "duration": 24,
    "start_time": "2021-07-26T07:58:42.962Z"
   },
   {
    "duration": 10,
    "start_time": "2021-07-26T07:58:42.988Z"
   },
   {
    "duration": 12,
    "start_time": "2021-07-26T07:58:43.000Z"
   },
   {
    "duration": 46,
    "start_time": "2021-07-26T07:58:43.015Z"
   },
   {
    "duration": 12,
    "start_time": "2021-07-26T07:58:43.063Z"
   },
   {
    "duration": 7,
    "start_time": "2021-07-26T07:58:43.077Z"
   },
   {
    "duration": 11,
    "start_time": "2021-07-26T07:58:43.086Z"
   },
   {
    "duration": 10,
    "start_time": "2021-07-26T07:58:43.100Z"
   },
   {
    "duration": 47,
    "start_time": "2021-07-26T07:58:43.113Z"
   },
   {
    "duration": 121,
    "start_time": "2021-07-26T07:58:43.167Z"
   },
   {
    "duration": 340,
    "start_time": "2021-07-26T07:58:43.292Z"
   },
   {
    "duration": 6,
    "start_time": "2021-07-26T07:58:43.634Z"
   },
   {
    "duration": 11,
    "start_time": "2021-07-26T07:58:43.654Z"
   },
   {
    "duration": 5,
    "start_time": "2021-07-26T07:58:43.668Z"
   },
   {
    "duration": 28,
    "start_time": "2021-07-26T07:58:43.676Z"
   },
   {
    "duration": 150,
    "start_time": "2021-07-26T07:58:43.706Z"
   },
   {
    "duration": 367,
    "start_time": "2021-07-26T07:58:43.858Z"
   },
   {
    "duration": 39,
    "start_time": "2021-07-26T07:58:44.229Z"
   },
   {
    "duration": 417,
    "start_time": "2021-07-26T07:58:44.271Z"
   },
   {
    "duration": 10,
    "start_time": "2021-07-26T07:58:44.690Z"
   },
   {
    "duration": 375,
    "start_time": "2021-07-26T07:58:44.703Z"
   },
   {
    "duration": 16,
    "start_time": "2021-07-26T07:58:45.081Z"
   },
   {
    "duration": 154,
    "start_time": "2021-07-26T07:58:45.100Z"
   },
   {
    "duration": 14,
    "start_time": "2021-07-26T07:58:45.257Z"
   },
   {
    "duration": 20,
    "start_time": "2021-07-26T07:58:45.273Z"
   },
   {
    "duration": 46,
    "start_time": "2021-07-26T07:58:45.295Z"
   },
   {
    "duration": 1212,
    "start_time": "2021-07-26T07:58:45.343Z"
   },
   {
    "duration": 56,
    "start_time": "2021-07-26T07:58:46.557Z"
   },
   {
    "duration": 41,
    "start_time": "2021-07-26T07:58:46.615Z"
   },
   {
    "duration": 8,
    "start_time": "2021-07-26T07:58:46.659Z"
   },
   {
    "duration": 488,
    "start_time": "2021-07-26T07:58:46.669Z"
   },
   {
    "duration": 8,
    "start_time": "2021-07-26T07:58:47.160Z"
   },
   {
    "duration": 556,
    "start_time": "2021-07-26T07:58:47.171Z"
   },
   {
    "duration": 84,
    "start_time": "2021-07-26T07:58:47.729Z"
   },
   {
    "duration": 10,
    "start_time": "2021-07-26T07:58:47.817Z"
   },
   {
    "duration": 48,
    "start_time": "2021-07-26T07:58:47.830Z"
   },
   {
    "duration": 1431,
    "start_time": "2021-07-26T07:58:47.881Z"
   },
   {
    "duration": 40,
    "start_time": "2021-07-26T07:58:49.314Z"
   },
   {
    "duration": 24,
    "start_time": "2021-07-26T07:58:49.356Z"
   },
   {
    "duration": 17,
    "start_time": "2021-07-26T07:58:49.382Z"
   },
   {
    "duration": 53,
    "start_time": "2021-07-26T07:58:49.401Z"
   },
   {
    "duration": 30,
    "start_time": "2021-07-26T07:58:49.457Z"
   },
   {
    "duration": 1208,
    "start_time": "2021-07-26T07:58:49.489Z"
   },
   {
    "duration": 8,
    "start_time": "2021-07-26T07:58:50.700Z"
   },
   {
    "duration": 26,
    "start_time": "2021-07-26T07:58:50.711Z"
   },
   {
    "duration": 535,
    "start_time": "2021-07-26T07:58:50.754Z"
   },
   {
    "duration": 546,
    "start_time": "2021-07-26T07:58:51.292Z"
   },
   {
    "duration": 31,
    "start_time": "2021-07-26T07:58:51.842Z"
   },
   {
    "duration": 241,
    "start_time": "2021-07-26T07:58:51.876Z"
   },
   {
    "duration": 18,
    "start_time": "2021-07-26T07:58:52.120Z"
   },
   {
    "duration": 14,
    "start_time": "2021-07-26T07:58:52.156Z"
   },
   {
    "duration": 45,
    "start_time": "2021-07-26T07:58:52.173Z"
   },
   {
    "duration": 1268,
    "start_time": "2021-07-26T07:58:52.221Z"
   },
   {
    "duration": 9,
    "start_time": "2021-07-26T07:58:53.492Z"
   },
   {
    "duration": 19,
    "start_time": "2021-07-26T07:58:53.503Z"
   },
   {
    "duration": 44,
    "start_time": "2021-07-26T07:58:53.524Z"
   },
   {
    "duration": 307,
    "start_time": "2021-07-26T22:25:17.346Z"
   },
   {
    "duration": 1097,
    "start_time": "2021-07-26T22:25:20.567Z"
   },
   {
    "duration": 604,
    "start_time": "2021-07-26T22:25:21.666Z"
   },
   {
    "duration": 10,
    "start_time": "2021-07-26T22:25:22.272Z"
   },
   {
    "duration": 52,
    "start_time": "2021-07-26T22:25:22.284Z"
   },
   {
    "duration": 51,
    "start_time": "2021-07-26T22:25:22.337Z"
   },
   {
    "duration": 245,
    "start_time": "2021-07-26T22:25:22.389Z"
   },
   {
    "duration": 5,
    "start_time": "2021-07-26T22:25:22.636Z"
   },
   {
    "duration": 27,
    "start_time": "2021-07-26T22:25:22.643Z"
   },
   {
    "duration": 11,
    "start_time": "2021-07-26T22:25:22.672Z"
   },
   {
    "duration": 180,
    "start_time": "2021-07-26T22:25:22.684Z"
   },
   {
    "duration": 24,
    "start_time": "2021-07-26T22:25:22.865Z"
   },
   {
    "duration": 7,
    "start_time": "2021-07-26T22:25:22.891Z"
   },
   {
    "duration": 9,
    "start_time": "2021-07-26T22:25:22.899Z"
   },
   {
    "duration": 35,
    "start_time": "2021-07-26T22:25:22.909Z"
   },
   {
    "duration": 4,
    "start_time": "2021-07-26T22:25:22.945Z"
   },
   {
    "duration": 5,
    "start_time": "2021-07-26T22:25:22.950Z"
   },
   {
    "duration": 7,
    "start_time": "2021-07-26T22:25:22.956Z"
   },
   {
    "duration": 11,
    "start_time": "2021-07-26T22:25:22.965Z"
   },
   {
    "duration": 6,
    "start_time": "2021-07-26T22:25:22.978Z"
   },
   {
    "duration": 7,
    "start_time": "2021-07-26T22:25:22.986Z"
   },
   {
    "duration": 11,
    "start_time": "2021-07-26T22:25:22.994Z"
   },
   {
    "duration": 35,
    "start_time": "2021-07-26T22:25:23.006Z"
   },
   {
    "duration": 3,
    "start_time": "2021-07-26T22:25:23.045Z"
   },
   {
    "duration": 7,
    "start_time": "2021-07-26T22:25:23.050Z"
   },
   {
    "duration": 6,
    "start_time": "2021-07-26T22:25:23.058Z"
   },
   {
    "duration": 7,
    "start_time": "2021-07-26T22:25:23.066Z"
   },
   {
    "duration": 103,
    "start_time": "2021-07-26T22:25:23.075Z"
   },
   {
    "duration": 249,
    "start_time": "2021-07-26T22:25:23.180Z"
   },
   {
    "duration": 3,
    "start_time": "2021-07-26T22:25:23.431Z"
   },
   {
    "duration": 12,
    "start_time": "2021-07-26T22:25:23.436Z"
   },
   {
    "duration": 3,
    "start_time": "2021-07-26T22:25:23.449Z"
   },
   {
    "duration": 18,
    "start_time": "2021-07-26T22:25:23.454Z"
   },
   {
    "duration": 106,
    "start_time": "2021-07-26T22:25:23.474Z"
   },
   {
    "duration": 206,
    "start_time": "2021-07-26T22:25:23.582Z"
   },
   {
    "duration": 21,
    "start_time": "2021-07-26T22:25:23.789Z"
   },
   {
    "duration": 238,
    "start_time": "2021-07-26T22:25:23.812Z"
   },
   {
    "duration": 8,
    "start_time": "2021-07-26T22:25:24.052Z"
   },
   {
    "duration": 231,
    "start_time": "2021-07-26T22:25:24.062Z"
   },
   {
    "duration": 13,
    "start_time": "2021-07-26T22:25:24.295Z"
   },
   {
    "duration": 115,
    "start_time": "2021-07-26T22:25:24.310Z"
   },
   {
    "duration": 16,
    "start_time": "2021-07-26T22:25:24.427Z"
   },
   {
    "duration": 6,
    "start_time": "2021-07-26T22:25:24.444Z"
   },
   {
    "duration": 27,
    "start_time": "2021-07-26T22:25:24.452Z"
   },
   {
    "duration": 795,
    "start_time": "2021-07-26T22:25:24.480Z"
   },
   {
    "duration": 30,
    "start_time": "2021-07-26T22:25:25.276Z"
   },
   {
    "duration": 11,
    "start_time": "2021-07-26T22:25:25.307Z"
   },
   {
    "duration": 24,
    "start_time": "2021-07-26T22:25:25.319Z"
   },
   {
    "duration": 267,
    "start_time": "2021-07-26T22:25:25.344Z"
   },
   {
    "duration": 5,
    "start_time": "2021-07-26T22:25:25.612Z"
   },
   {
    "duration": 300,
    "start_time": "2021-07-26T22:25:25.619Z"
   },
   {
    "duration": 50,
    "start_time": "2021-07-26T22:25:25.921Z"
   },
   {
    "duration": 5,
    "start_time": "2021-07-26T22:25:25.972Z"
   },
   {
    "duration": 17,
    "start_time": "2021-07-26T22:25:25.979Z"
   },
   {
    "duration": 804,
    "start_time": "2021-07-26T22:25:25.998Z"
   },
   {
    "duration": 19,
    "start_time": "2021-07-26T22:25:26.803Z"
   },
   {
    "duration": 28,
    "start_time": "2021-07-26T22:25:26.823Z"
   },
   {
    "duration": 11,
    "start_time": "2021-07-26T22:25:26.852Z"
   },
   {
    "duration": 13,
    "start_time": "2021-07-26T22:25:26.865Z"
   },
   {
    "duration": 17,
    "start_time": "2021-07-26T22:25:26.880Z"
   },
   {
    "duration": 824,
    "start_time": "2021-07-26T22:25:26.898Z"
   },
   {
    "duration": 4,
    "start_time": "2021-07-26T22:25:27.724Z"
   },
   {
    "duration": 17,
    "start_time": "2021-07-26T22:25:27.729Z"
   },
   {
    "duration": 271,
    "start_time": "2021-07-26T22:25:27.748Z"
   },
   {
    "duration": 309,
    "start_time": "2021-07-26T22:25:28.020Z"
   },
   {
    "duration": 126,
    "start_time": "2021-07-26T22:25:28.331Z"
   },
   {
    "duration": -59,
    "start_time": "2021-07-26T22:25:28.518Z"
   },
   {
    "duration": 1727,
    "start_time": "2021-07-27T06:22:11.566Z"
   },
   {
    "duration": 867,
    "start_time": "2021-07-27T06:22:13.296Z"
   },
   {
    "duration": 17,
    "start_time": "2021-07-27T06:22:14.167Z"
   },
   {
    "duration": 67,
    "start_time": "2021-07-27T06:22:14.187Z"
   },
   {
    "duration": 93,
    "start_time": "2021-07-27T06:22:14.257Z"
   },
   {
    "duration": 521,
    "start_time": "2021-07-27T06:22:14.354Z"
   },
   {
    "duration": 7,
    "start_time": "2021-07-27T06:22:14.882Z"
   },
   {
    "duration": 52,
    "start_time": "2021-07-27T06:22:14.893Z"
   },
   {
    "duration": 50,
    "start_time": "2021-07-27T06:22:14.949Z"
   },
   {
    "duration": 341,
    "start_time": "2021-07-27T06:22:15.013Z"
   },
   {
    "duration": 51,
    "start_time": "2021-07-27T06:22:15.357Z"
   },
   {
    "duration": 10,
    "start_time": "2021-07-27T06:22:15.411Z"
   },
   {
    "duration": 16,
    "start_time": "2021-07-27T06:22:15.424Z"
   },
   {
    "duration": 33,
    "start_time": "2021-07-27T06:22:15.564Z"
   },
   {
    "duration": 7,
    "start_time": "2021-07-27T06:22:15.818Z"
   },
   {
    "duration": 5,
    "start_time": "2021-07-27T06:22:16.052Z"
   },
   {
    "duration": 7,
    "start_time": "2021-07-27T06:22:16.257Z"
   },
   {
    "duration": 20,
    "start_time": "2021-07-27T06:22:16.473Z"
   },
   {
    "duration": 10,
    "start_time": "2021-07-27T06:22:16.657Z"
   },
   {
    "duration": 11,
    "start_time": "2021-07-27T06:22:17.342Z"
   },
   {
    "duration": 12,
    "start_time": "2021-07-27T06:22:17.583Z"
   },
   {
    "duration": 8,
    "start_time": "2021-07-27T06:22:17.802Z"
   },
   {
    "duration": 13,
    "start_time": "2021-07-27T06:22:18.032Z"
   },
   {
    "duration": 6,
    "start_time": "2021-07-27T06:22:18.275Z"
   },
   {
    "duration": 7,
    "start_time": "2021-07-27T06:22:18.468Z"
   },
   {
    "duration": 9,
    "start_time": "2021-07-27T06:22:18.666Z"
   },
   {
    "duration": 121,
    "start_time": "2021-07-27T06:22:20.198Z"
   },
   {
    "duration": 354,
    "start_time": "2021-07-27T06:22:20.710Z"
   },
   {
    "duration": 6,
    "start_time": "2021-07-27T06:22:21.067Z"
   },
   {
    "duration": 22,
    "start_time": "2021-07-27T06:22:21.132Z"
   },
   {
    "duration": 5,
    "start_time": "2021-07-27T06:22:21.376Z"
   },
   {
    "duration": 42,
    "start_time": "2021-07-27T06:22:21.798Z"
   },
   {
    "duration": 176,
    "start_time": "2021-07-27T06:22:22.262Z"
   },
   {
    "duration": 520,
    "start_time": "2021-07-27T06:22:22.482Z"
   },
   {
    "duration": 26,
    "start_time": "2021-07-27T06:22:23.540Z"
   },
   {
    "duration": 408,
    "start_time": "2021-07-27T06:22:24.014Z"
   },
   {
    "duration": 11,
    "start_time": "2021-07-27T06:22:24.742Z"
   },
   {
    "duration": 351,
    "start_time": "2021-07-27T06:22:25.437Z"
   },
   {
    "duration": 16,
    "start_time": "2021-07-27T06:22:25.902Z"
   },
   {
    "duration": 128,
    "start_time": "2021-07-27T06:22:26.332Z"
   },
   {
    "duration": 18,
    "start_time": "2021-07-27T06:22:26.925Z"
   },
   {
    "duration": 5,
    "start_time": "2021-07-27T06:22:27.396Z"
   },
   {
    "duration": 61,
    "start_time": "2021-07-27T06:22:27.901Z"
   },
   {
    "duration": 1260,
    "start_time": "2021-07-27T06:22:28.136Z"
   },
   {
    "duration": 59,
    "start_time": "2021-07-27T06:22:29.830Z"
   },
   {
    "duration": 17,
    "start_time": "2021-07-27T06:22:30.278Z"
   },
   {
    "duration": 8,
    "start_time": "2021-07-27T06:22:30.494Z"
   },
   {
    "duration": 491,
    "start_time": "2021-07-27T06:22:30.732Z"
   },
   {
    "duration": 8,
    "start_time": "2021-07-27T06:22:31.243Z"
   },
   {
    "duration": 602,
    "start_time": "2021-07-27T06:22:31.909Z"
   },
   {
    "duration": 78,
    "start_time": "2021-07-27T06:22:32.593Z"
   },
   {
    "duration": 10,
    "start_time": "2021-07-27T06:22:33.029Z"
   },
   {
    "duration": 27,
    "start_time": "2021-07-27T06:22:33.279Z"
   },
   {
    "duration": 1425,
    "start_time": "2021-07-27T06:22:33.750Z"
   },
   {
    "duration": 28,
    "start_time": "2021-07-27T06:22:35.178Z"
   },
   {
    "duration": 33,
    "start_time": "2021-07-27T06:22:35.256Z"
   },
   {
    "duration": 29,
    "start_time": "2021-07-27T06:22:35.748Z"
   },
   {
    "duration": 21,
    "start_time": "2021-07-27T06:22:36.223Z"
   },
   {
    "duration": 30,
    "start_time": "2021-07-27T06:22:36.691Z"
   },
   {
    "duration": 1409,
    "start_time": "2021-07-27T06:22:36.907Z"
   },
   {
    "duration": 7,
    "start_time": "2021-07-27T06:22:38.404Z"
   },
   {
    "duration": 11,
    "start_time": "2021-07-27T06:22:38.647Z"
   },
   {
    "duration": 529,
    "start_time": "2021-07-27T06:22:38.913Z"
   },
   {
    "duration": 590,
    "start_time": "2021-07-27T06:22:39.445Z"
   },
   {
    "duration": 26,
    "start_time": "2021-07-27T06:22:40.684Z"
   },
   {
    "duration": 246,
    "start_time": "2021-07-27T06:22:41.236Z"
   },
   {
    "duration": 28,
    "start_time": "2021-07-27T06:22:41.982Z"
   },
   {
    "duration": 11,
    "start_time": "2021-07-27T06:22:42.239Z"
   },
   {
    "duration": 50,
    "start_time": "2021-07-27T06:22:43.037Z"
   },
   {
    "duration": 1239,
    "start_time": "2021-07-27T06:22:43.325Z"
   },
   {
    "duration": 18,
    "start_time": "2021-07-27T06:22:44.567Z"
   },
   {
    "duration": 12,
    "start_time": "2021-07-27T06:22:44.588Z"
   },
   {
    "duration": 17,
    "start_time": "2021-07-27T06:22:44.603Z"
   },
   {
    "duration": 938,
    "start_time": "2021-07-27T06:24:44.747Z"
   },
   {
    "duration": 461,
    "start_time": "2021-07-27T06:24:53.601Z"
   },
   {
    "duration": 498,
    "start_time": "2021-07-27T06:25:06.453Z"
   },
   {
    "duration": 556,
    "start_time": "2021-07-27T06:25:29.737Z"
   },
   {
    "duration": 478,
    "start_time": "2021-07-27T06:26:05.931Z"
   },
   {
    "duration": 542,
    "start_time": "2021-07-27T06:27:34.385Z"
   },
   {
    "duration": 592,
    "start_time": "2021-07-27T06:28:26.009Z"
   },
   {
    "duration": 519,
    "start_time": "2021-07-27T06:32:47.754Z"
   },
   {
    "duration": 513,
    "start_time": "2021-07-27T06:33:41.913Z"
   },
   {
    "duration": 592,
    "start_time": "2021-07-27T06:34:30.591Z"
   },
   {
    "duration": 600,
    "start_time": "2021-07-27T06:36:16.089Z"
   },
   {
    "duration": 124,
    "start_time": "2021-07-27T06:37:33.547Z"
   },
   {
    "duration": 214,
    "start_time": "2021-07-27T06:37:44.771Z"
   },
   {
    "duration": 489,
    "start_time": "2021-07-27T06:40:30.143Z"
   },
   {
    "duration": 14,
    "start_time": "2021-07-27T06:43:22.846Z"
   },
   {
    "duration": 1054,
    "start_time": "2021-07-27T07:01:20.362Z"
   },
   {
    "duration": 117,
    "start_time": "2021-07-27T07:13:41.430Z"
   },
   {
    "duration": 1327,
    "start_time": "2021-07-27T07:13:48.517Z"
   },
   {
    "duration": 909,
    "start_time": "2021-07-27T07:19:22.505Z"
   },
   {
    "duration": 851,
    "start_time": "2021-07-27T07:19:50.718Z"
   },
   {
    "duration": 772,
    "start_time": "2021-07-27T07:34:31.620Z"
   },
   {
    "duration": 538,
    "start_time": "2021-07-27T07:35:58.096Z"
   },
   {
    "duration": 776,
    "start_time": "2021-07-27T07:36:19.239Z"
   },
   {
    "duration": 657,
    "start_time": "2021-07-27T07:37:17.202Z"
   },
   {
    "duration": 504,
    "start_time": "2021-07-27T07:37:28.388Z"
   },
   {
    "duration": 548,
    "start_time": "2021-07-27T07:37:42.197Z"
   },
   {
    "duration": 13,
    "start_time": "2021-07-27T07:53:58.170Z"
   },
   {
    "duration": 18,
    "start_time": "2021-07-27T07:55:28.237Z"
   },
   {
    "duration": 8,
    "start_time": "2021-07-27T07:59:01.369Z"
   },
   {
    "duration": 9,
    "start_time": "2021-07-27T08:00:30.255Z"
   },
   {
    "duration": 205,
    "start_time": "2021-07-27T08:01:18.431Z"
   },
   {
    "duration": 326,
    "start_time": "2021-07-27T08:01:28.692Z"
   },
   {
    "duration": 11,
    "start_time": "2021-07-27T08:01:46.857Z"
   },
   {
    "duration": 44,
    "start_time": "2021-07-27T08:01:48.934Z"
   },
   {
    "duration": 1115,
    "start_time": "2021-07-27T08:01:49.629Z"
   },
   {
    "duration": 9,
    "start_time": "2021-07-27T08:01:50.856Z"
   },
   {
    "duration": 11,
    "start_time": "2021-07-27T08:01:51.453Z"
   },
   {
    "duration": 16,
    "start_time": "2021-07-27T08:01:52.062Z"
   },
   {
    "duration": 4,
    "start_time": "2021-07-27T08:03:22.918Z"
   },
   {
    "duration": 688,
    "start_time": "2021-07-27T08:03:23.153Z"
   },
   {
    "duration": 11,
    "start_time": "2021-07-27T08:03:23.844Z"
   },
   {
    "duration": 68,
    "start_time": "2021-07-27T08:03:23.858Z"
   },
   {
    "duration": 49,
    "start_time": "2021-07-27T08:03:24.136Z"
   },
   {
    "duration": 317,
    "start_time": "2021-07-27T08:03:24.406Z"
   },
   {
    "duration": 5,
    "start_time": "2021-07-27T08:03:24.726Z"
   },
   {
    "duration": 28,
    "start_time": "2021-07-27T08:03:24.856Z"
   },
   {
    "duration": 24,
    "start_time": "2021-07-27T08:03:25.085Z"
   },
   {
    "duration": 207,
    "start_time": "2021-07-27T08:03:25.432Z"
   },
   {
    "duration": 30,
    "start_time": "2021-07-27T08:03:25.801Z"
   },
   {
    "duration": 10,
    "start_time": "2021-07-27T08:03:26.741Z"
   },
   {
    "duration": 11,
    "start_time": "2021-07-27T08:03:26.986Z"
   },
   {
    "duration": 23,
    "start_time": "2021-07-27T08:03:27.248Z"
   },
   {
    "duration": 5,
    "start_time": "2021-07-27T08:03:27.499Z"
   },
   {
    "duration": 4,
    "start_time": "2021-07-27T08:03:27.746Z"
   },
   {
    "duration": 8,
    "start_time": "2021-07-27T08:03:28.006Z"
   },
   {
    "duration": 17,
    "start_time": "2021-07-27T08:03:28.285Z"
   },
   {
    "duration": 9,
    "start_time": "2021-07-27T08:03:28.528Z"
   },
   {
    "duration": 11,
    "start_time": "2021-07-27T08:03:29.397Z"
   },
   {
    "duration": 9,
    "start_time": "2021-07-27T08:03:29.663Z"
   },
   {
    "duration": 7,
    "start_time": "2021-07-27T08:03:29.923Z"
   },
   {
    "duration": 5,
    "start_time": "2021-07-27T08:03:30.204Z"
   },
   {
    "duration": 6,
    "start_time": "2021-07-27T08:03:30.473Z"
   },
   {
    "duration": 7,
    "start_time": "2021-07-27T08:03:30.734Z"
   },
   {
    "duration": 9,
    "start_time": "2021-07-27T08:03:31.002Z"
   },
   {
    "duration": 107,
    "start_time": "2021-07-27T08:03:32.606Z"
   },
   {
    "duration": 309,
    "start_time": "2021-07-27T08:03:33.099Z"
   },
   {
    "duration": 5,
    "start_time": "2021-07-27T08:03:33.411Z"
   },
   {
    "duration": 5,
    "start_time": "2021-07-27T08:03:33.577Z"
   },
   {
    "duration": 5,
    "start_time": "2021-07-27T08:03:33.801Z"
   },
   {
    "duration": 24,
    "start_time": "2021-07-27T08:03:34.414Z"
   },
   {
    "duration": 102,
    "start_time": "2021-07-27T08:03:34.916Z"
   },
   {
    "duration": 442,
    "start_time": "2021-07-27T08:03:35.200Z"
   },
   {
    "duration": 24,
    "start_time": "2021-07-27T08:03:36.358Z"
   },
   {
    "duration": 601,
    "start_time": "2021-07-27T08:03:36.853Z"
   },
   {
    "duration": 9,
    "start_time": "2021-07-27T08:03:37.941Z"
   },
   {
    "duration": 291,
    "start_time": "2021-07-27T08:03:38.744Z"
   },
   {
    "duration": 17,
    "start_time": "2021-07-27T08:03:39.349Z"
   },
   {
    "duration": 119,
    "start_time": "2021-07-27T08:03:39.901Z"
   },
   {
    "duration": 14,
    "start_time": "2021-07-27T08:03:40.374Z"
   },
   {
    "duration": 5,
    "start_time": "2021-07-27T08:03:40.848Z"
   },
   {
    "duration": 43,
    "start_time": "2021-07-27T08:03:41.354Z"
   },
   {
    "duration": 1197,
    "start_time": "2021-07-27T08:03:41.670Z"
   },
   {
    "duration": 51,
    "start_time": "2021-07-27T08:03:43.300Z"
   },
   {
    "duration": 19,
    "start_time": "2021-07-27T08:03:43.851Z"
   },
   {
    "duration": 8,
    "start_time": "2021-07-27T08:03:44.142Z"
   },
   {
    "duration": 441,
    "start_time": "2021-07-27T08:03:44.426Z"
   },
   {
    "duration": 9,
    "start_time": "2021-07-27T08:03:45.019Z"
   },
   {
    "duration": 486,
    "start_time": "2021-07-27T08:03:45.837Z"
   },
   {
    "duration": 63,
    "start_time": "2021-07-27T08:03:46.706Z"
   },
   {
    "duration": 7,
    "start_time": "2021-07-27T08:03:47.215Z"
   },
   {
    "duration": 23,
    "start_time": "2021-07-27T08:03:47.499Z"
   },
   {
    "duration": 1148,
    "start_time": "2021-07-27T08:03:48.056Z"
   },
   {
    "duration": 25,
    "start_time": "2021-07-27T08:03:49.207Z"
   },
   {
    "duration": 25,
    "start_time": "2021-07-27T08:03:49.711Z"
   },
   {
    "duration": 18,
    "start_time": "2021-07-27T08:03:50.293Z"
   },
   {
    "duration": 19,
    "start_time": "2021-07-27T08:03:50.892Z"
   },
   {
    "duration": 30,
    "start_time": "2021-07-27T08:03:51.437Z"
   },
   {
    "duration": 1120,
    "start_time": "2021-07-27T08:03:51.719Z"
   },
   {
    "duration": 6,
    "start_time": "2021-07-27T08:03:53.700Z"
   },
   {
    "duration": 10,
    "start_time": "2021-07-27T08:03:53.984Z"
   },
   {
    "duration": 500,
    "start_time": "2021-07-27T08:03:54.357Z"
   },
   {
    "duration": 527,
    "start_time": "2021-07-27T08:03:55.201Z"
   },
   {
    "duration": 20,
    "start_time": "2021-07-27T08:03:57.199Z"
   },
   {
    "duration": 11,
    "start_time": "2021-07-27T08:03:57.496Z"
   },
   {
    "duration": 21,
    "start_time": "2021-07-27T08:03:57.882Z"
   },
   {
    "duration": 8,
    "start_time": "2021-07-27T08:03:58.378Z"
   },
   {
    "duration": 215,
    "start_time": "2021-07-27T08:03:59.368Z"
   },
   {
    "duration": 18,
    "start_time": "2021-07-27T08:04:00.713Z"
   },
   {
    "duration": 10,
    "start_time": "2021-07-27T08:10:32.397Z"
   },
   {
    "duration": 124,
    "start_time": "2021-07-27T08:47:34.497Z"
   },
   {
    "duration": 127,
    "start_time": "2021-07-27T08:47:47.646Z"
   },
   {
    "duration": 162,
    "start_time": "2021-07-27T08:51:31.529Z"
   },
   {
    "duration": 128,
    "start_time": "2021-07-27T08:52:11.552Z"
   },
   {
    "duration": 147,
    "start_time": "2021-07-27T08:56:37.602Z"
   },
   {
    "duration": 27,
    "start_time": "2021-07-27T08:57:09.083Z"
   },
   {
    "duration": 487,
    "start_time": "2021-07-27T08:57:21.117Z"
   },
   {
    "duration": 35,
    "start_time": "2021-07-27T08:57:49.377Z"
   },
   {
    "duration": 206,
    "start_time": "2021-07-27T08:58:03.928Z"
   },
   {
    "duration": 18,
    "start_time": "2021-07-27T08:58:08.177Z"
   },
   {
    "duration": 126,
    "start_time": "2021-07-27T08:59:51.495Z"
   },
   {
    "duration": 1312,
    "start_time": "2021-07-27T09:07:45.988Z"
   },
   {
    "duration": 379,
    "start_time": "2021-07-27T09:10:39.612Z"
   },
   {
    "duration": 16,
    "start_time": "2021-07-27T09:18:49.928Z"
   },
   {
    "duration": 8720,
    "start_time": "2021-07-27T09:19:31.942Z"
   },
   {
    "duration": 15,
    "start_time": "2021-07-27T09:20:36.500Z"
   },
   {
    "duration": 27,
    "start_time": "2021-07-27T09:20:44.897Z"
   },
   {
    "duration": 15,
    "start_time": "2021-07-27T09:21:05.349Z"
   },
   {
    "duration": 27,
    "start_time": "2021-07-27T09:21:22.418Z"
   },
   {
    "duration": 919,
    "start_time": "2021-07-27T09:24:03.477Z"
   },
   {
    "duration": 749,
    "start_time": "2021-07-27T09:24:24.577Z"
   },
   {
    "duration": 102,
    "start_time": "2021-07-27T09:26:41.310Z"
   },
   {
    "duration": 108,
    "start_time": "2021-07-27T09:26:53.094Z"
   },
   {
    "duration": 24,
    "start_time": "2021-07-27T09:27:23.499Z"
   },
   {
    "duration": 133,
    "start_time": "2021-07-27T09:27:54.462Z"
   },
   {
    "duration": 112,
    "start_time": "2021-07-27T09:29:26.355Z"
   },
   {
    "duration": 469,
    "start_time": "2021-07-27T09:49:25.761Z"
   },
   {
    "duration": 339,
    "start_time": "2021-07-27T09:50:42.513Z"
   },
   {
    "duration": 202,
    "start_time": "2021-07-27T09:51:50.495Z"
   },
   {
    "duration": 100,
    "start_time": "2021-07-27T09:52:44.418Z"
   },
   {
    "duration": 777,
    "start_time": "2021-07-27T09:56:15.490Z"
   },
   {
    "duration": 129,
    "start_time": "2021-07-27T09:57:11.768Z"
   },
   {
    "duration": 119,
    "start_time": "2021-07-27T09:57:21.640Z"
   },
   {
    "duration": 379,
    "start_time": "2021-07-27T09:57:33.977Z"
   },
   {
    "duration": 364,
    "start_time": "2021-07-27T09:58:06.494Z"
   },
   {
    "duration": 759,
    "start_time": "2021-07-27T09:58:24.992Z"
   },
   {
    "duration": 756,
    "start_time": "2021-07-27T09:59:12.108Z"
   },
   {
    "duration": 731,
    "start_time": "2021-07-27T09:59:17.868Z"
   },
   {
    "duration": 788,
    "start_time": "2021-07-27T10:00:13.619Z"
   },
   {
    "duration": 695,
    "start_time": "2021-07-27T10:00:54.052Z"
   },
   {
    "duration": 20,
    "start_time": "2021-07-27T10:03:22.904Z"
   },
   {
    "duration": 493,
    "start_time": "2021-07-27T10:05:21.806Z"
   },
   {
    "duration": 481,
    "start_time": "2021-07-27T10:06:07.495Z"
   },
   {
    "duration": 540,
    "start_time": "2021-07-27T10:07:04.061Z"
   },
   {
    "duration": 573,
    "start_time": "2021-07-27T10:07:15.363Z"
   },
   {
    "duration": 8681,
    "start_time": "2021-07-27T10:07:45.951Z"
   },
   {
    "duration": 454,
    "start_time": "2021-07-27T10:08:06.744Z"
   },
   {
    "duration": 471,
    "start_time": "2021-07-27T10:09:30.334Z"
   },
   {
    "duration": 364,
    "start_time": "2021-07-27T10:09:52.028Z"
   },
   {
    "duration": 448,
    "start_time": "2021-07-27T10:09:59.049Z"
   },
   {
    "duration": 1462,
    "start_time": "2021-07-27T10:10:25.755Z"
   },
   {
    "duration": 752,
    "start_time": "2021-07-27T10:10:27.220Z"
   },
   {
    "duration": 26,
    "start_time": "2021-07-27T10:10:27.976Z"
   },
   {
    "duration": 135,
    "start_time": "2021-07-27T10:10:28.006Z"
   },
   {
    "duration": 91,
    "start_time": "2021-07-27T10:10:28.145Z"
   },
   {
    "duration": 328,
    "start_time": "2021-07-27T10:10:28.239Z"
   },
   {
    "duration": 4,
    "start_time": "2021-07-27T10:10:28.569Z"
   },
   {
    "duration": 35,
    "start_time": "2021-07-27T10:10:28.584Z"
   },
   {
    "duration": 18,
    "start_time": "2021-07-27T10:10:28.622Z"
   },
   {
    "duration": 240,
    "start_time": "2021-07-27T10:10:28.642Z"
   },
   {
    "duration": 34,
    "start_time": "2021-07-27T10:10:28.884Z"
   },
   {
    "duration": 10,
    "start_time": "2021-07-27T10:10:28.920Z"
   },
   {
    "duration": 20,
    "start_time": "2021-07-27T10:10:28.933Z"
   },
   {
    "duration": 48,
    "start_time": "2021-07-27T10:10:28.955Z"
   },
   {
    "duration": 6,
    "start_time": "2021-07-27T10:10:29.006Z"
   },
   {
    "duration": 20,
    "start_time": "2021-07-27T10:10:29.014Z"
   },
   {
    "duration": 27,
    "start_time": "2021-07-27T10:10:29.036Z"
   },
   {
    "duration": 32,
    "start_time": "2021-07-27T10:10:29.065Z"
   },
   {
    "duration": 23,
    "start_time": "2021-07-27T10:10:29.100Z"
   },
   {
    "duration": 23,
    "start_time": "2021-07-27T10:10:29.125Z"
   },
   {
    "duration": 21,
    "start_time": "2021-07-27T10:10:29.150Z"
   },
   {
    "duration": 22,
    "start_time": "2021-07-27T10:10:29.174Z"
   },
   {
    "duration": 17,
    "start_time": "2021-07-27T10:10:29.203Z"
   },
   {
    "duration": 11,
    "start_time": "2021-07-27T10:10:29.224Z"
   },
   {
    "duration": 16,
    "start_time": "2021-07-27T10:10:29.237Z"
   },
   {
    "duration": 15,
    "start_time": "2021-07-27T10:10:29.255Z"
   },
   {
    "duration": 113,
    "start_time": "2021-07-27T10:10:29.272Z"
   },
   {
    "duration": 329,
    "start_time": "2021-07-27T10:10:29.388Z"
   },
   {
    "duration": 4,
    "start_time": "2021-07-27T10:10:29.720Z"
   },
   {
    "duration": 16,
    "start_time": "2021-07-27T10:10:29.727Z"
   },
   {
    "duration": 18,
    "start_time": "2021-07-27T10:10:29.745Z"
   },
   {
    "duration": 36,
    "start_time": "2021-07-27T10:10:29.765Z"
   },
   {
    "duration": 125,
    "start_time": "2021-07-27T10:10:29.803Z"
   },
   {
    "duration": 373,
    "start_time": "2021-07-27T10:10:29.930Z"
   },
   {
    "duration": 24,
    "start_time": "2021-07-27T10:10:30.306Z"
   },
   {
    "duration": 416,
    "start_time": "2021-07-27T10:10:30.332Z"
   },
   {
    "duration": 10,
    "start_time": "2021-07-27T10:10:30.751Z"
   },
   {
    "duration": 338,
    "start_time": "2021-07-27T10:10:30.763Z"
   },
   {
    "duration": 15,
    "start_time": "2021-07-27T10:10:31.104Z"
   },
   {
    "duration": 138,
    "start_time": "2021-07-27T10:10:31.122Z"
   },
   {
    "duration": 21,
    "start_time": "2021-07-27T10:10:31.263Z"
   },
   {
    "duration": 43,
    "start_time": "2021-07-27T10:10:31.286Z"
   },
   {
    "duration": 49,
    "start_time": "2021-07-27T10:10:31.331Z"
   },
   {
    "duration": 1177,
    "start_time": "2021-07-27T10:10:31.383Z"
   },
   {
    "duration": 62,
    "start_time": "2021-07-27T10:10:32.562Z"
   },
   {
    "duration": 16,
    "start_time": "2021-07-27T10:10:32.627Z"
   },
   {
    "duration": 20,
    "start_time": "2021-07-27T10:10:32.646Z"
   },
   {
    "duration": 498,
    "start_time": "2021-07-27T10:10:32.668Z"
   },
   {
    "duration": 14,
    "start_time": "2021-07-27T10:10:33.169Z"
   },
   {
    "duration": 540,
    "start_time": "2021-07-27T10:10:33.185Z"
   },
   {
    "duration": 70,
    "start_time": "2021-07-27T10:10:33.728Z"
   },
   {
    "duration": 7,
    "start_time": "2021-07-27T10:10:33.800Z"
   },
   {
    "duration": 42,
    "start_time": "2021-07-27T10:10:33.810Z"
   },
   {
    "duration": 1275,
    "start_time": "2021-07-27T10:10:33.855Z"
   },
   {
    "duration": 24,
    "start_time": "2021-07-27T10:10:35.132Z"
   },
   {
    "duration": 43,
    "start_time": "2021-07-27T10:10:35.159Z"
   },
   {
    "duration": 22,
    "start_time": "2021-07-27T10:10:35.204Z"
   },
   {
    "duration": 21,
    "start_time": "2021-07-27T10:10:35.227Z"
   },
   {
    "duration": 44,
    "start_time": "2021-07-27T10:10:35.250Z"
   },
   {
    "duration": 1044,
    "start_time": "2021-07-27T10:10:35.296Z"
   },
   {
    "duration": 6,
    "start_time": "2021-07-27T10:10:36.342Z"
   },
   {
    "duration": 35,
    "start_time": "2021-07-27T10:10:36.350Z"
   },
   {
    "duration": 459,
    "start_time": "2021-07-27T10:10:36.387Z"
   },
   {
    "duration": 514,
    "start_time": "2021-07-27T10:10:36.849Z"
   },
   {
    "duration": 17,
    "start_time": "2021-07-27T10:10:37.365Z"
   },
   {
    "duration": 448,
    "start_time": "2021-07-27T10:10:37.385Z"
   },
   {
    "duration": 20,
    "start_time": "2021-07-27T10:10:37.836Z"
   },
   {
    "duration": 11,
    "start_time": "2021-07-27T10:10:37.884Z"
   },
   {
    "duration": 28,
    "start_time": "2021-07-27T10:10:37.898Z"
   },
   {
    "duration": 26,
    "start_time": "2021-07-27T10:10:37.928Z"
   },
   {
    "duration": 30,
    "start_time": "2021-07-27T10:10:37.956Z"
   },
   {
    "duration": 23,
    "start_time": "2021-07-27T10:10:37.989Z"
   },
   {
    "duration": 212,
    "start_time": "2021-07-27T10:10:38.014Z"
   },
   {
    "duration": 487,
    "start_time": "2021-07-27T10:10:38.228Z"
   },
   {
    "duration": 414,
    "start_time": "2021-07-27T10:10:38.304Z"
   },
   {
    "duration": 402,
    "start_time": "2021-07-27T10:10:38.317Z"
   },
   {
    "duration": 392,
    "start_time": "2021-07-27T10:10:38.329Z"
   },
   {
    "duration": 384,
    "start_time": "2021-07-27T10:10:38.339Z"
   },
   {
    "duration": 374,
    "start_time": "2021-07-27T10:10:38.350Z"
   },
   {
    "duration": 365,
    "start_time": "2021-07-27T10:10:38.360Z"
   },
   {
    "duration": 355,
    "start_time": "2021-07-27T10:10:38.372Z"
   },
   {
    "duration": 388,
    "start_time": "2021-07-27T10:11:39.942Z"
   },
   {
    "duration": 98,
    "start_time": "2021-07-27T10:12:04.595Z"
   },
   {
    "duration": 519,
    "start_time": "2021-07-27T10:18:46.794Z"
   },
   {
    "duration": 502,
    "start_time": "2021-07-27T10:18:58.856Z"
   },
   {
    "duration": 18,
    "start_time": "2021-07-27T10:19:36.763Z"
   },
   {
    "duration": 11,
    "start_time": "2021-07-27T10:19:37.625Z"
   },
   {
    "duration": 43,
    "start_time": "2021-07-27T10:19:41.520Z"
   },
   {
    "duration": 1247,
    "start_time": "2021-07-27T10:19:42.651Z"
   },
   {
    "duration": 9,
    "start_time": "2021-07-27T10:19:44.219Z"
   },
   {
    "duration": 11,
    "start_time": "2021-07-27T10:19:45.041Z"
   },
   {
    "duration": 17,
    "start_time": "2021-07-27T10:19:45.682Z"
   },
   {
    "duration": 120,
    "start_time": "2021-07-27T10:22:33.516Z"
   },
   {
    "duration": 394,
    "start_time": "2021-07-27T10:22:44.600Z"
   },
   {
    "duration": 1402,
    "start_time": "2021-07-27T10:26:48.614Z"
   },
   {
    "duration": 716,
    "start_time": "2021-07-27T10:26:50.019Z"
   },
   {
    "duration": 16,
    "start_time": "2021-07-27T10:26:50.738Z"
   },
   {
    "duration": 65,
    "start_time": "2021-07-27T10:26:50.757Z"
   },
   {
    "duration": 73,
    "start_time": "2021-07-27T10:26:50.825Z"
   },
   {
    "duration": 320,
    "start_time": "2021-07-27T10:26:50.901Z"
   },
   {
    "duration": 6,
    "start_time": "2021-07-27T10:26:51.223Z"
   },
   {
    "duration": 54,
    "start_time": "2021-07-27T10:26:51.232Z"
   },
   {
    "duration": 17,
    "start_time": "2021-07-27T10:26:51.288Z"
   },
   {
    "duration": 238,
    "start_time": "2021-07-27T10:26:51.307Z"
   },
   {
    "duration": 41,
    "start_time": "2021-07-27T10:26:51.547Z"
   },
   {
    "duration": 9,
    "start_time": "2021-07-27T10:26:51.591Z"
   },
   {
    "duration": 16,
    "start_time": "2021-07-27T10:26:51.602Z"
   },
   {
    "duration": 22,
    "start_time": "2021-07-27T10:26:51.620Z"
   },
   {
    "duration": 40,
    "start_time": "2021-07-27T10:26:51.644Z"
   },
   {
    "duration": 7,
    "start_time": "2021-07-27T10:26:51.686Z"
   },
   {
    "duration": 11,
    "start_time": "2021-07-27T10:26:51.695Z"
   },
   {
    "duration": 17,
    "start_time": "2021-07-27T10:26:51.708Z"
   },
   {
    "duration": 12,
    "start_time": "2021-07-27T10:26:51.727Z"
   },
   {
    "duration": 42,
    "start_time": "2021-07-27T10:26:51.741Z"
   },
   {
    "duration": 9,
    "start_time": "2021-07-27T10:26:51.785Z"
   },
   {
    "duration": 9,
    "start_time": "2021-07-27T10:26:51.797Z"
   },
   {
    "duration": 6,
    "start_time": "2021-07-27T10:26:51.812Z"
   },
   {
    "duration": 5,
    "start_time": "2021-07-27T10:26:51.822Z"
   },
   {
    "duration": 53,
    "start_time": "2021-07-27T10:26:51.829Z"
   },
   {
    "duration": 8,
    "start_time": "2021-07-27T10:26:51.885Z"
   },
   {
    "duration": 125,
    "start_time": "2021-07-27T10:26:51.895Z"
   },
   {
    "duration": 327,
    "start_time": "2021-07-27T10:26:52.022Z"
   },
   {
    "duration": 6,
    "start_time": "2021-07-27T10:26:52.352Z"
   },
   {
    "duration": 21,
    "start_time": "2021-07-27T10:26:52.361Z"
   },
   {
    "duration": 6,
    "start_time": "2021-07-27T10:26:52.385Z"
   },
   {
    "duration": 29,
    "start_time": "2021-07-27T10:26:52.394Z"
   },
   {
    "duration": 145,
    "start_time": "2021-07-27T10:26:52.426Z"
   },
   {
    "duration": 396,
    "start_time": "2021-07-27T10:26:52.575Z"
   },
   {
    "duration": 27,
    "start_time": "2021-07-27T10:26:52.974Z"
   },
   {
    "duration": 411,
    "start_time": "2021-07-27T10:26:53.003Z"
   },
   {
    "duration": 10,
    "start_time": "2021-07-27T10:26:53.416Z"
   },
   {
    "duration": 309,
    "start_time": "2021-07-27T10:26:53.428Z"
   },
   {
    "duration": 14,
    "start_time": "2021-07-27T10:26:53.740Z"
   },
   {
    "duration": 136,
    "start_time": "2021-07-27T10:26:53.757Z"
   },
   {
    "duration": 12,
    "start_time": "2021-07-27T10:26:53.895Z"
   },
   {
    "duration": 17,
    "start_time": "2021-07-27T10:26:53.910Z"
   },
   {
    "duration": 52,
    "start_time": "2021-07-27T10:26:53.930Z"
   },
   {
    "duration": 1160,
    "start_time": "2021-07-27T10:26:53.984Z"
   },
   {
    "duration": 63,
    "start_time": "2021-07-27T10:26:55.147Z"
   },
   {
    "duration": 19,
    "start_time": "2021-07-27T10:26:55.212Z"
   },
   {
    "duration": 10,
    "start_time": "2021-07-27T10:26:55.233Z"
   },
   {
    "duration": 491,
    "start_time": "2021-07-27T10:26:55.246Z"
   },
   {
    "duration": 7,
    "start_time": "2021-07-27T10:26:55.739Z"
   },
   {
    "duration": 545,
    "start_time": "2021-07-27T10:26:55.749Z"
   },
   {
    "duration": 63,
    "start_time": "2021-07-27T10:26:56.296Z"
   },
   {
    "duration": 25,
    "start_time": "2021-07-27T10:26:56.361Z"
   },
   {
    "duration": 26,
    "start_time": "2021-07-27T10:26:56.389Z"
   },
   {
    "duration": 1292,
    "start_time": "2021-07-27T10:26:56.417Z"
   },
   {
    "duration": 28,
    "start_time": "2021-07-27T10:26:57.712Z"
   },
   {
    "duration": 57,
    "start_time": "2021-07-27T10:26:57.743Z"
   },
   {
    "duration": 17,
    "start_time": "2021-07-27T10:26:57.803Z"
   },
   {
    "duration": 23,
    "start_time": "2021-07-27T10:26:57.823Z"
   },
   {
    "duration": 64,
    "start_time": "2021-07-27T10:26:57.849Z"
   },
   {
    "duration": 1194,
    "start_time": "2021-07-27T10:26:57.915Z"
   },
   {
    "duration": 7,
    "start_time": "2021-07-27T10:26:59.112Z"
   },
   {
    "duration": 15,
    "start_time": "2021-07-27T10:26:59.121Z"
   },
   {
    "duration": 495,
    "start_time": "2021-07-27T10:26:59.138Z"
   },
   {
    "duration": 562,
    "start_time": "2021-07-27T10:26:59.635Z"
   },
   {
    "duration": 9,
    "start_time": "2021-07-27T10:27:00.199Z"
   },
   {
    "duration": 517,
    "start_time": "2021-07-27T10:27:00.210Z"
   },
   {
    "duration": 20,
    "start_time": "2021-07-27T10:27:00.729Z"
   },
   {
    "duration": 35,
    "start_time": "2021-07-27T10:27:00.756Z"
   },
   {
    "duration": 38,
    "start_time": "2021-07-27T10:27:00.794Z"
   },
   {
    "duration": 20,
    "start_time": "2021-07-27T10:27:00.835Z"
   },
   {
    "duration": 35,
    "start_time": "2021-07-27T10:27:00.857Z"
   },
   {
    "duration": 26,
    "start_time": "2021-07-27T10:27:00.894Z"
   },
   {
    "duration": 222,
    "start_time": "2021-07-27T10:27:00.922Z"
   },
   {
    "duration": 115,
    "start_time": "2021-07-27T10:27:01.147Z"
   },
   {
    "duration": 28,
    "start_time": "2021-07-27T10:27:01.264Z"
   },
   {
    "duration": 23,
    "start_time": "2021-07-27T10:27:01.294Z"
   },
   {
    "duration": 62,
    "start_time": "2021-07-27T10:27:01.320Z"
   },
   {
    "duration": 1144,
    "start_time": "2021-07-27T10:27:01.384Z"
   },
   {
    "duration": 9,
    "start_time": "2021-07-27T10:27:02.530Z"
   },
   {
    "duration": 12,
    "start_time": "2021-07-27T10:27:02.541Z"
   },
   {
    "duration": 39,
    "start_time": "2021-07-27T10:27:02.555Z"
   },
   {
    "duration": 390,
    "start_time": "2021-07-28T06:10:27.247Z"
   },
   {
    "duration": 366,
    "start_time": "2021-07-28T06:12:31.953Z"
   },
   {
    "duration": 287,
    "start_time": "2021-07-28T06:12:44.443Z"
   },
   {
    "duration": 254,
    "start_time": "2021-07-28T06:16:57.550Z"
   },
   {
    "duration": 275,
    "start_time": "2021-07-28T06:17:07.549Z"
   },
   {
    "duration": 253,
    "start_time": "2021-07-28T06:17:18.465Z"
   },
   {
    "duration": 251,
    "start_time": "2021-07-28T06:17:26.770Z"
   },
   {
    "duration": 310,
    "start_time": "2021-07-28T06:17:34.247Z"
   },
   {
    "duration": 338,
    "start_time": "2021-07-28T06:19:50.812Z"
   },
   {
    "duration": 286,
    "start_time": "2021-07-28T06:20:33.476Z"
   },
   {
    "duration": 288,
    "start_time": "2021-07-28T06:20:43.308Z"
   },
   {
    "duration": 285,
    "start_time": "2021-07-28T06:21:31.935Z"
   },
   {
    "duration": 276,
    "start_time": "2021-07-28T06:21:57.695Z"
   },
   {
    "duration": 1390,
    "start_time": "2021-07-28T06:22:14.003Z"
   },
   {
    "duration": 772,
    "start_time": "2021-07-28T06:22:15.396Z"
   },
   {
    "duration": 16,
    "start_time": "2021-07-28T06:22:16.171Z"
   },
   {
    "duration": 76,
    "start_time": "2021-07-28T06:22:16.190Z"
   },
   {
    "duration": 60,
    "start_time": "2021-07-28T06:22:16.270Z"
   },
   {
    "duration": 344,
    "start_time": "2021-07-28T06:22:16.332Z"
   },
   {
    "duration": 4,
    "start_time": "2021-07-28T06:22:16.679Z"
   },
   {
    "duration": 41,
    "start_time": "2021-07-28T06:22:16.686Z"
   },
   {
    "duration": 42,
    "start_time": "2021-07-28T06:22:16.731Z"
   },
   {
    "duration": 250,
    "start_time": "2021-07-28T06:22:16.776Z"
   },
   {
    "duration": 45,
    "start_time": "2021-07-28T06:22:17.028Z"
   },
   {
    "duration": 11,
    "start_time": "2021-07-28T06:22:17.076Z"
   },
   {
    "duration": 18,
    "start_time": "2021-07-28T06:22:17.089Z"
   },
   {
    "duration": 55,
    "start_time": "2021-07-28T06:22:17.110Z"
   },
   {
    "duration": 6,
    "start_time": "2021-07-28T06:22:17.168Z"
   },
   {
    "duration": 3,
    "start_time": "2021-07-28T06:22:17.311Z"
   },
   {
    "duration": 7,
    "start_time": "2021-07-28T06:22:17.567Z"
   },
   {
    "duration": 18,
    "start_time": "2021-07-28T06:22:17.797Z"
   },
   {
    "duration": 9,
    "start_time": "2021-07-28T06:22:17.994Z"
   },
   {
    "duration": 10,
    "start_time": "2021-07-28T06:22:18.685Z"
   },
   {
    "duration": 8,
    "start_time": "2021-07-28T06:22:18.894Z"
   },
   {
    "duration": 8,
    "start_time": "2021-07-28T06:22:19.154Z"
   },
   {
    "duration": 6,
    "start_time": "2021-07-28T06:22:19.369Z"
   },
   {
    "duration": 6,
    "start_time": "2021-07-28T06:22:19.629Z"
   },
   {
    "duration": 7,
    "start_time": "2021-07-28T06:22:19.906Z"
   },
   {
    "duration": 9,
    "start_time": "2021-07-28T06:22:20.120Z"
   },
   {
    "duration": 121,
    "start_time": "2021-07-28T06:22:21.958Z"
   },
   {
    "duration": 317,
    "start_time": "2021-07-28T06:22:22.469Z"
   },
   {
    "duration": 4,
    "start_time": "2021-07-28T06:22:22.789Z"
   },
   {
    "duration": 11,
    "start_time": "2021-07-28T06:22:22.956Z"
   },
   {
    "duration": 5,
    "start_time": "2021-07-28T06:22:23.169Z"
   },
   {
    "duration": 26,
    "start_time": "2021-07-28T06:22:23.798Z"
   },
   {
    "duration": 116,
    "start_time": "2021-07-28T06:22:24.279Z"
   },
   {
    "duration": 349,
    "start_time": "2021-07-28T06:22:24.553Z"
   },
   {
    "duration": 24,
    "start_time": "2021-07-28T06:22:25.630Z"
   },
   {
    "duration": 403,
    "start_time": "2021-07-28T06:22:26.181Z"
   },
   {
    "duration": 11,
    "start_time": "2021-07-28T06:22:27.245Z"
   },
   {
    "duration": 315,
    "start_time": "2021-07-28T06:22:28.088Z"
   },
   {
    "duration": 15,
    "start_time": "2021-07-28T06:22:28.605Z"
   },
   {
    "duration": 131,
    "start_time": "2021-07-28T06:22:29.143Z"
   },
   {
    "duration": 17,
    "start_time": "2021-07-28T06:22:30.054Z"
   },
   {
    "duration": 9,
    "start_time": "2021-07-28T06:22:30.654Z"
   },
   {
    "duration": 45,
    "start_time": "2021-07-28T06:22:31.184Z"
   },
   {
    "duration": 1181,
    "start_time": "2021-07-28T06:22:31.485Z"
   },
   {
    "duration": 54,
    "start_time": "2021-07-28T06:22:33.317Z"
   },
   {
    "duration": 18,
    "start_time": "2021-07-28T06:22:33.861Z"
   },
   {
    "duration": 8,
    "start_time": "2021-07-28T06:22:34.104Z"
   },
   {
    "duration": 479,
    "start_time": "2021-07-28T06:22:34.368Z"
   },
   {
    "duration": 7,
    "start_time": "2021-07-28T06:22:34.998Z"
   },
   {
    "duration": 511,
    "start_time": "2021-07-28T06:22:35.838Z"
   },
   {
    "duration": 68,
    "start_time": "2021-07-28T06:22:36.624Z"
   },
   {
    "duration": 8,
    "start_time": "2021-07-28T06:22:37.111Z"
   },
   {
    "duration": 24,
    "start_time": "2021-07-28T06:22:37.378Z"
   },
   {
    "duration": 1306,
    "start_time": "2021-07-28T06:22:38.045Z"
   },
   {
    "duration": 30,
    "start_time": "2021-07-28T06:22:39.353Z"
   },
   {
    "duration": 24,
    "start_time": "2021-07-28T06:22:39.688Z"
   },
   {
    "duration": 18,
    "start_time": "2021-07-28T06:22:40.412Z"
   },
   {
    "duration": 20,
    "start_time": "2021-07-28T06:22:41.015Z"
   },
   {
    "duration": 31,
    "start_time": "2021-07-28T06:22:41.726Z"
   },
   {
    "duration": 1147,
    "start_time": "2021-07-28T06:22:42.025Z"
   },
   {
    "duration": 6,
    "start_time": "2021-07-28T06:22:44.231Z"
   },
   {
    "duration": 12,
    "start_time": "2021-07-28T06:22:44.649Z"
   },
   {
    "duration": 474,
    "start_time": "2021-07-28T06:22:45.068Z"
   },
   {
    "duration": 649,
    "start_time": "2021-07-28T06:22:46.159Z"
   },
   {
    "duration": 9,
    "start_time": "2021-07-28T06:22:49.495Z"
   },
   {
    "duration": 343,
    "start_time": "2021-07-28T06:22:52.167Z"
   },
   {
    "duration": 552,
    "start_time": "2021-07-28T06:26:04.140Z"
   },
   {
    "duration": 458,
    "start_time": "2021-07-28T06:26:16.234Z"
   },
   {
    "duration": 464,
    "start_time": "2021-07-28T06:27:54.916Z"
   },
   {
    "duration": 414,
    "start_time": "2021-07-28T06:28:27.186Z"
   },
   {
    "duration": 1544,
    "start_time": "2021-07-28T06:34:40.821Z"
   },
   {
    "duration": 1133,
    "start_time": "2021-07-28T06:34:42.373Z"
   },
   {
    "duration": 21,
    "start_time": "2021-07-28T06:34:43.510Z"
   },
   {
    "duration": 79,
    "start_time": "2021-07-28T06:34:43.534Z"
   },
   {
    "duration": 83,
    "start_time": "2021-07-28T06:34:43.616Z"
   },
   {
    "duration": 446,
    "start_time": "2021-07-28T06:34:43.702Z"
   },
   {
    "duration": 7,
    "start_time": "2021-07-28T06:34:44.155Z"
   },
   {
    "duration": 38,
    "start_time": "2021-07-28T06:34:44.167Z"
   },
   {
    "duration": 18,
    "start_time": "2021-07-28T06:34:44.208Z"
   },
   {
    "duration": 264,
    "start_time": "2021-07-28T06:34:44.256Z"
   },
   {
    "duration": 53,
    "start_time": "2021-07-28T06:34:44.523Z"
   },
   {
    "duration": 10,
    "start_time": "2021-07-28T06:34:44.578Z"
   },
   {
    "duration": 26,
    "start_time": "2021-07-28T06:34:44.591Z"
   },
   {
    "duration": 26,
    "start_time": "2021-07-28T06:34:44.620Z"
   },
   {
    "duration": 13,
    "start_time": "2021-07-28T06:34:44.649Z"
   },
   {
    "duration": 18,
    "start_time": "2021-07-28T06:34:44.664Z"
   },
   {
    "duration": 15,
    "start_time": "2021-07-28T06:34:44.685Z"
   },
   {
    "duration": 27,
    "start_time": "2021-07-28T06:34:44.702Z"
   },
   {
    "duration": 13,
    "start_time": "2021-07-28T06:34:44.731Z"
   },
   {
    "duration": 16,
    "start_time": "2021-07-28T06:34:44.758Z"
   },
   {
    "duration": 11,
    "start_time": "2021-07-28T06:34:44.777Z"
   },
   {
    "duration": 16,
    "start_time": "2021-07-28T06:34:44.790Z"
   },
   {
    "duration": 15,
    "start_time": "2021-07-28T06:34:44.812Z"
   },
   {
    "duration": 23,
    "start_time": "2021-07-28T06:34:44.833Z"
   },
   {
    "duration": 22,
    "start_time": "2021-07-28T06:34:44.861Z"
   },
   {
    "duration": 15,
    "start_time": "2021-07-28T06:34:44.886Z"
   },
   {
    "duration": 134,
    "start_time": "2021-07-28T06:34:44.904Z"
   },
   {
    "duration": 354,
    "start_time": "2021-07-28T06:34:45.041Z"
   },
   {
    "duration": 5,
    "start_time": "2021-07-28T06:34:45.397Z"
   },
   {
    "duration": 32,
    "start_time": "2021-07-28T06:34:45.404Z"
   },
   {
    "duration": 4,
    "start_time": "2021-07-28T06:34:45.439Z"
   },
   {
    "duration": 58,
    "start_time": "2021-07-28T06:34:45.446Z"
   },
   {
    "duration": 163,
    "start_time": "2021-07-28T06:34:45.507Z"
   },
   {
    "duration": 391,
    "start_time": "2021-07-28T06:34:45.673Z"
   },
   {
    "duration": 25,
    "start_time": "2021-07-28T06:34:46.067Z"
   },
   {
    "duration": 448,
    "start_time": "2021-07-28T06:34:46.095Z"
   },
   {
    "duration": 20,
    "start_time": "2021-07-28T06:34:46.545Z"
   },
   {
    "duration": 357,
    "start_time": "2021-07-28T06:34:46.568Z"
   },
   {
    "duration": 29,
    "start_time": "2021-07-28T06:34:46.927Z"
   },
   {
    "duration": 149,
    "start_time": "2021-07-28T06:34:46.959Z"
   },
   {
    "duration": 13,
    "start_time": "2021-07-28T06:34:47.110Z"
   },
   {
    "duration": 23,
    "start_time": "2021-07-28T06:34:47.125Z"
   },
   {
    "duration": 71,
    "start_time": "2021-07-28T06:34:47.151Z"
   },
   {
    "duration": 1285,
    "start_time": "2021-07-28T06:34:47.224Z"
   },
   {
    "duration": 74,
    "start_time": "2021-07-28T06:34:48.512Z"
   },
   {
    "duration": 18,
    "start_time": "2021-07-28T06:34:48.588Z"
   },
   {
    "duration": 16,
    "start_time": "2021-07-28T06:34:48.608Z"
   },
   {
    "duration": 517,
    "start_time": "2021-07-28T06:34:48.626Z"
   },
   {
    "duration": 19,
    "start_time": "2021-07-28T06:34:49.146Z"
   },
   {
    "duration": 529,
    "start_time": "2021-07-28T06:34:49.168Z"
   },
   {
    "duration": 91,
    "start_time": "2021-07-28T06:34:49.700Z"
   },
   {
    "duration": 8,
    "start_time": "2021-07-28T06:34:49.793Z"
   },
   {
    "duration": 37,
    "start_time": "2021-07-28T06:34:49.803Z"
   },
   {
    "duration": 1319,
    "start_time": "2021-07-28T06:34:49.842Z"
   },
   {
    "duration": 27,
    "start_time": "2021-07-28T06:34:51.163Z"
   },
   {
    "duration": 26,
    "start_time": "2021-07-28T06:34:51.193Z"
   },
   {
    "duration": 61,
    "start_time": "2021-07-28T06:34:51.221Z"
   },
   {
    "duration": 21,
    "start_time": "2021-07-28T06:34:51.284Z"
   },
   {
    "duration": 32,
    "start_time": "2021-07-28T06:34:51.307Z"
   },
   {
    "duration": 1166,
    "start_time": "2021-07-28T06:34:51.363Z"
   },
   {
    "duration": 6,
    "start_time": "2021-07-28T06:34:52.531Z"
   },
   {
    "duration": 34,
    "start_time": "2021-07-28T06:34:52.540Z"
   },
   {
    "duration": 491,
    "start_time": "2021-07-28T06:34:52.576Z"
   },
   {
    "duration": 544,
    "start_time": "2021-07-28T06:34:53.070Z"
   },
   {
    "duration": 9,
    "start_time": "2021-07-28T06:34:53.616Z"
   },
   {
    "duration": 438,
    "start_time": "2021-07-28T06:34:53.627Z"
   },
   {
    "duration": 22,
    "start_time": "2021-07-28T06:34:54.068Z"
   },
   {
    "duration": 10,
    "start_time": "2021-07-28T06:34:54.098Z"
   },
   {
    "duration": 45,
    "start_time": "2021-07-28T06:34:54.111Z"
   },
   {
    "duration": 12,
    "start_time": "2021-07-28T06:34:54.159Z"
   },
   {
    "duration": 39,
    "start_time": "2021-07-28T06:34:54.173Z"
   },
   {
    "duration": 44,
    "start_time": "2021-07-28T06:34:54.215Z"
   },
   {
    "duration": 224,
    "start_time": "2021-07-28T06:34:54.269Z"
   },
   {
    "duration": 111,
    "start_time": "2021-07-28T06:34:54.495Z"
   },
   {
    "duration": 16,
    "start_time": "2021-07-28T06:34:54.609Z"
   },
   {
    "duration": 32,
    "start_time": "2021-07-28T06:34:54.627Z"
   },
   {
    "duration": 48,
    "start_time": "2021-07-28T06:34:54.661Z"
   },
   {
    "duration": 1188,
    "start_time": "2021-07-28T06:34:54.711Z"
   },
   {
    "duration": 9,
    "start_time": "2021-07-28T06:34:55.902Z"
   },
   {
    "duration": 22,
    "start_time": "2021-07-28T06:34:55.913Z"
   },
   {
    "duration": 36,
    "start_time": "2021-07-28T06:34:55.938Z"
   },
   {
    "duration": 4,
    "start_time": "2021-07-28T08:29:24.060Z"
   }
  ],
  "kernelspec": {
   "display_name": "Python 3 (ipykernel)",
   "language": "python",
   "name": "python3"
  },
  "language_info": {
   "codemirror_mode": {
    "name": "ipython",
    "version": 3
   },
   "file_extension": ".py",
   "mimetype": "text/x-python",
   "name": "python",
   "nbconvert_exporter": "python",
   "pygments_lexer": "ipython3",
   "version": "3.9.7"
  },
  "toc": {
   "base_numbering": 1,
   "nav_menu": {
    "height": "186.989px",
    "width": "255.156px"
   },
   "number_sections": true,
   "sideBar": true,
   "skip_h1_title": true,
   "title_cell": "Table of Contents",
   "title_sidebar": "Contents",
   "toc_cell": false,
   "toc_position": {},
   "toc_section_display": true,
   "toc_window_display": false
  }
 },
 "nbformat": 4,
 "nbformat_minor": 2
}
