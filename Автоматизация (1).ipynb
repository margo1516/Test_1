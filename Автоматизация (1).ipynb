{
 "cells": [
  {
   "cell_type": "markdown",
   "metadata": {},
   "source": [
    "# Автоматизация "
   ]
  },
  {
   "cell_type": "markdown",
   "metadata": {},
   "source": [
    "Создам коннекцию к базе"
   ]
  },
  {
   "cell_type": "code",
   "execution_count": null,
   "metadata": {},
   "outputs": [],
   "source": [
    "# импортируем библиотеки\n",
    "import pandas as pd\n",
    "from sqlalchemy import create_engine\n",
    "\n",
    "db_config = {'user': 'praktikum_student', # имя пользователя\n",
    "            'pwd': 'Sdf4$2;d-d30pp', # пароль\n",
    "            'host': 'rc1b-wcoijxj3yxfsf3fs.mdb.yandexcloud.net',\n",
    "            'port': 6432, # порт подключения\n",
    "            'db': 'data-analyst-zen-project-db'} # название базы данных\n",
    "\n",
    "connection_string = 'postgresql://{}:{}@{}:{}/{}'.format(db_config['user'],\n",
    "                                                db_config['pwd'],\n",
    "                                                db_config['host'],\n",
    "                                                db_config['port'],\n",
    "                                                db_config['db'])\n",
    "\n",
    "engine = create_engine(connection_string) "
   ]
  },
  {
   "cell_type": "markdown",
   "metadata": {},
   "source": [
    "получаем сырые данные"
   ]
  },
  {
   "cell_type": "code",
   "execution_count": null,
   "metadata": {},
   "outputs": [],
   "source": [
    "quere='''\n",
    "        SELECT*FROM dash_visits\n",
    "      '''"
   ]
  },
  {
   "cell_type": "code",
   "execution_count": null,
   "metadata": {},
   "outputs": [],
   "source": [
    "dash_visits = pd.io.sql.read_sql(query, con = engine.connect()) \n",
    "dash_visits.to_csv('dash_visits.csv')"
   ]
  },
  {
   "cell_type": "code",
   "execution_count": null,
   "metadata": {},
   "outputs": [],
   "source": [
    "Дашборд по ссылке: https://public.tableau.com/app/profile/margarita1226/viz/Book9_16312797156810/12?publish=yes"
   ]
  }
 ],
 "metadata": {
  "ExecuteTimeLog": [
   {
    "duration": 3,
    "start_time": "2021-08-03T14:27:05.582Z"
   },
   {
    "duration": 2,
    "start_time": "2021-08-03T14:27:52.917Z"
   },
   {
    "duration": 81,
    "start_time": "2021-08-03T14:38:35.617Z"
   },
   {
    "duration": 284,
    "start_time": "2021-08-03T14:45:20.847Z"
   },
   {
    "duration": 617,
    "start_time": "2021-08-03T14:45:27.079Z"
   },
   {
    "duration": 8,
    "start_time": "2021-08-03T14:45:58.245Z"
   },
   {
    "duration": 264,
    "start_time": "2021-08-03T14:48:25.454Z"
   },
   {
    "duration": 9,
    "start_time": "2021-08-03T14:49:50.242Z"
   },
   {
    "duration": 29,
    "start_time": "2021-08-03T14:50:42.025Z"
   },
   {
    "duration": 18,
    "start_time": "2021-08-03T14:53:04.437Z"
   },
   {
    "duration": 251,
    "start_time": "2021-08-03T14:53:16.455Z"
   },
   {
    "duration": 18,
    "start_time": "2021-08-03T14:53:21.934Z"
   },
   {
    "duration": 14,
    "start_time": "2021-08-03T14:56:54.594Z"
   },
   {
    "duration": 8,
    "start_time": "2021-08-03T14:57:37.055Z"
   },
   {
    "duration": 314,
    "start_time": "2021-08-04T06:54:05.990Z"
   },
   {
    "duration": 842,
    "start_time": "2021-08-04T06:54:13.736Z"
   },
   {
    "duration": 13,
    "start_time": "2021-08-04T06:54:14.581Z"
   },
   {
    "duration": 13,
    "start_time": "2021-08-04T06:54:14.598Z"
   },
   {
    "duration": 44,
    "start_time": "2021-08-04T06:54:14.975Z"
   },
   {
    "duration": 11,
    "start_time": "2021-08-04T06:54:15.700Z"
   },
   {
    "duration": 20,
    "start_time": "2021-08-04T06:54:15.981Z"
   },
   {
    "duration": 19,
    "start_time": "2021-08-04T06:54:17.667Z"
   },
   {
    "duration": 451,
    "start_time": "2021-08-04T07:27:33.794Z"
   },
   {
    "duration": 275,
    "start_time": "2021-08-04T07:28:36.006Z"
   },
   {
    "duration": 21,
    "start_time": "2021-08-04T07:30:35.125Z"
   },
   {
    "duration": 280,
    "start_time": "2021-08-04T07:33:11.531Z"
   },
   {
    "duration": 21,
    "start_time": "2021-08-04T07:33:27.905Z"
   },
   {
    "duration": 20,
    "start_time": "2021-08-04T07:33:40.192Z"
   },
   {
    "duration": 292,
    "start_time": "2021-08-04T07:34:36.391Z"
   },
   {
    "duration": 690,
    "start_time": "2021-08-04T07:34:52.870Z"
   },
   {
    "duration": 21,
    "start_time": "2021-08-04T07:36:26.319Z"
   },
   {
    "duration": 1765,
    "start_time": "2021-08-04T07:49:32.844Z"
   },
   {
    "duration": 78,
    "start_time": "2021-08-04T07:49:36.100Z"
   },
   {
    "duration": 13,
    "start_time": "2021-08-04T07:49:38.116Z"
   },
   {
    "duration": 13,
    "start_time": "2021-08-04T07:49:39.347Z"
   },
   {
    "duration": 39,
    "start_time": "2021-08-04T07:49:41.131Z"
   },
   {
    "duration": 11,
    "start_time": "2021-08-04T07:49:41.920Z"
   },
   {
    "duration": 22,
    "start_time": "2021-08-04T07:49:42.458Z"
   },
   {
    "duration": 20,
    "start_time": "2021-08-04T07:49:47.396Z"
   },
   {
    "duration": 27,
    "start_time": "2021-08-04T07:49:48.131Z"
   },
   {
    "duration": 439,
    "start_time": "2021-08-04T07:51:43.783Z"
   },
   {
    "duration": 734,
    "start_time": "2021-08-04T07:52:16.534Z"
   },
   {
    "duration": 271,
    "start_time": "2021-08-04T07:52:28.946Z"
   },
   {
    "duration": 281,
    "start_time": "2021-08-04T07:52:44.833Z"
   },
   {
    "duration": 263,
    "start_time": "2021-08-04T11:59:33.778Z"
   },
   {
    "duration": 268,
    "start_time": "2021-08-04T11:59:42.636Z"
   },
   {
    "duration": 270,
    "start_time": "2021-08-04T11:59:58.954Z"
   },
   {
    "duration": 320,
    "start_time": "2021-08-04T12:00:09.612Z"
   },
   {
    "duration": 285,
    "start_time": "2021-08-04T12:00:25.125Z"
   },
   {
    "duration": 265,
    "start_time": "2021-08-04T12:00:56.396Z"
   },
   {
    "duration": 393,
    "start_time": "2021-08-04T12:01:58.170Z"
   },
   {
    "duration": 534,
    "start_time": "2021-08-04T12:02:52.480Z"
   },
   {
    "duration": 3,
    "start_time": "2021-08-04T12:03:41.754Z"
   },
   {
    "duration": 262,
    "start_time": "2021-08-04T12:04:50.401Z"
   },
   {
    "duration": 1114,
    "start_time": "2021-08-04T12:05:08.745Z"
   },
   {
    "duration": 455,
    "start_time": "2021-08-04T12:05:52.671Z"
   },
   {
    "duration": 588,
    "start_time": "2021-08-04T12:06:31.426Z"
   },
   {
    "duration": 350,
    "start_time": "2021-08-04T12:25:06.558Z"
   },
   {
    "duration": 282,
    "start_time": "2021-08-04T12:25:25.402Z"
   },
   {
    "duration": 294,
    "start_time": "2021-08-04T12:25:35.227Z"
   },
   {
    "duration": 1165,
    "start_time": "2021-08-04T12:25:45.602Z"
   },
   {
    "duration": 494,
    "start_time": "2021-08-04T12:25:54.580Z"
   },
   {
    "duration": 566,
    "start_time": "2021-08-04T12:30:04.814Z"
   },
   {
    "duration": 478,
    "start_time": "2021-08-04T12:30:20.898Z"
   },
   {
    "duration": 600,
    "start_time": "2021-08-04T12:31:08.768Z"
   },
   {
    "duration": 275,
    "start_time": "2021-08-04T12:42:06.556Z"
   },
   {
    "duration": 232,
    "start_time": "2021-08-04T12:42:19.221Z"
   },
   {
    "duration": 527,
    "start_time": "2021-08-04T12:42:37.865Z"
   },
   {
    "duration": 663,
    "start_time": "2021-08-04T12:43:16.647Z"
   },
   {
    "duration": 282,
    "start_time": "2021-08-04T12:43:39.699Z"
   },
   {
    "duration": 172,
    "start_time": "2021-08-04T12:43:58.235Z"
   },
   {
    "duration": 181,
    "start_time": "2021-08-04T12:44:14.437Z"
   },
   {
    "duration": 178,
    "start_time": "2021-08-04T12:46:22.755Z"
   },
   {
    "duration": 18,
    "start_time": "2021-08-04T12:52:07.030Z"
   },
   {
    "duration": 28,
    "start_time": "2021-08-04T12:54:07.526Z"
   },
   {
    "duration": 51,
    "start_time": "2021-08-04T12:54:18.781Z"
   },
   {
    "duration": 528,
    "start_time": "2021-08-04T12:54:44.139Z"
   },
   {
    "duration": 870,
    "start_time": "2021-08-04T12:55:21.061Z"
   },
   {
    "duration": 287,
    "start_time": "2021-08-04T12:56:15.960Z"
   },
   {
    "duration": 706,
    "start_time": "2021-08-04T12:56:28.588Z"
   },
   {
    "duration": 271,
    "start_time": "2021-08-04T12:59:58.962Z"
   },
   {
    "duration": 279,
    "start_time": "2021-08-04T13:00:30.072Z"
   },
   {
    "duration": 33,
    "start_time": "2021-08-04T13:02:03.854Z"
   },
   {
    "duration": 28,
    "start_time": "2021-08-04T13:34:29.417Z"
   },
   {
    "duration": 921,
    "start_time": "2021-08-04T13:34:29.945Z"
   },
   {
    "duration": 34,
    "start_time": "2021-08-04T13:39:54.410Z"
   },
   {
    "duration": 35,
    "start_time": "2021-08-04T13:40:01.399Z"
   },
   {
    "duration": 294,
    "start_time": "2021-08-04T13:47:01.391Z"
   },
   {
    "duration": 302,
    "start_time": "2021-08-04T13:47:20.769Z"
   },
   {
    "duration": 285,
    "start_time": "2021-08-04T13:47:29.553Z"
   },
   {
    "duration": 554,
    "start_time": "2021-08-04T13:50:14.701Z"
   },
   {
    "duration": 587,
    "start_time": "2021-08-04T13:54:12.635Z"
   },
   {
    "duration": 446,
    "start_time": "2021-08-04T13:55:39.046Z"
   },
   {
    "duration": 616,
    "start_time": "2021-08-04T13:56:07.930Z"
   },
   {
    "duration": 449,
    "start_time": "2021-08-04T13:56:33.301Z"
   },
   {
    "duration": 650,
    "start_time": "2021-08-04T13:56:53.156Z"
   },
   {
    "duration": 452,
    "start_time": "2021-08-04T13:58:05.514Z"
   },
   {
    "duration": 940,
    "start_time": "2021-08-04T13:59:26.039Z"
   },
   {
    "duration": 5,
    "start_time": "2021-08-04T14:00:09.640Z"
   },
   {
    "duration": 27,
    "start_time": "2021-08-04T14:01:57.222Z"
   },
   {
    "duration": 41,
    "start_time": "2021-08-04T14:02:53.365Z"
   },
   {
    "duration": 291,
    "start_time": "2021-08-04T14:05:26.522Z"
   },
   {
    "duration": 20,
    "start_time": "2021-08-04T14:06:01.075Z"
   },
   {
    "duration": 24,
    "start_time": "2021-08-04T14:06:07.028Z"
   },
   {
    "duration": 934,
    "start_time": "2021-08-04T14:16:26.947Z"
   },
   {
    "duration": 305,
    "start_time": "2021-08-04T14:16:48.228Z"
   },
   {
    "duration": 264,
    "start_time": "2021-08-04T14:17:45.548Z"
   },
   {
    "duration": 469,
    "start_time": "2021-08-04T14:18:03.162Z"
   },
   {
    "duration": 642,
    "start_time": "2021-08-04T14:18:31.773Z"
   },
   {
    "duration": 446,
    "start_time": "2021-08-04T14:19:46.909Z"
   },
   {
    "duration": 31,
    "start_time": "2021-08-04T14:24:58.120Z"
   },
   {
    "duration": 291,
    "start_time": "2021-08-04T14:25:13.649Z"
   },
   {
    "duration": 528,
    "start_time": "2021-08-04T14:27:07.496Z"
   },
   {
    "duration": 7269,
    "start_time": "2021-08-04T14:27:38.417Z"
   },
   {
    "duration": 2220,
    "start_time": "2021-08-06T10:29:37.143Z"
   },
   {
    "duration": 110,
    "start_time": "2021-08-06T10:29:39.367Z"
   },
   {
    "duration": 37,
    "start_time": "2021-08-06T10:29:39.481Z"
   },
   {
    "duration": 14,
    "start_time": "2021-08-06T10:29:42.367Z"
   },
   {
    "duration": 42,
    "start_time": "2021-08-06T10:29:45.334Z"
   },
   {
    "duration": 17,
    "start_time": "2021-08-06T10:29:49.477Z"
   },
   {
    "duration": 32,
    "start_time": "2021-08-06T10:29:50.764Z"
   },
   {
    "duration": 25,
    "start_time": "2021-08-06T10:30:15.828Z"
   },
   {
    "duration": 1540,
    "start_time": "2021-08-06T10:30:16.595Z"
   },
   {
    "duration": 262,
    "start_time": "2021-08-06T10:30:21.742Z"
   },
   {
    "duration": 62,
    "start_time": "2021-08-06T10:30:25.467Z"
   },
   {
    "duration": 580,
    "start_time": "2021-08-06T10:30:29.068Z"
   },
   {
    "duration": 704,
    "start_time": "2021-08-06T10:30:30.333Z"
   },
   {
    "duration": 714,
    "start_time": "2021-08-06T10:30:31.040Z"
   },
   {
    "duration": 677,
    "start_time": "2021-08-06T10:30:31.758Z"
   },
   {
    "duration": -262,
    "start_time": "2021-08-06T10:30:32.701Z"
   },
   {
    "duration": 28,
    "start_time": "2021-08-06T10:31:04.076Z"
   },
   {
    "duration": 414,
    "start_time": "2021-08-06T10:52:59.223Z"
   },
   {
    "duration": 28,
    "start_time": "2021-08-06T10:53:10.272Z"
   },
   {
    "duration": 18,
    "start_time": "2021-08-06T10:55:03.526Z"
   },
   {
    "duration": 357,
    "start_time": "2021-08-06T10:58:39.308Z"
   },
   {
    "duration": 2112,
    "start_time": "2021-08-06T11:02:15.769Z"
   },
   {
    "duration": 71,
    "start_time": "2021-08-06T11:02:17.888Z"
   },
   {
    "duration": 23,
    "start_time": "2021-08-06T11:02:17.962Z"
   },
   {
    "duration": 19,
    "start_time": "2021-08-06T11:02:17.988Z"
   },
   {
    "duration": 49,
    "start_time": "2021-08-06T11:02:18.009Z"
   },
   {
    "duration": 16,
    "start_time": "2021-08-06T11:02:18.087Z"
   },
   {
    "duration": 20,
    "start_time": "2021-08-06T11:02:18.106Z"
   },
   {
    "duration": 18,
    "start_time": "2021-08-06T11:02:18.130Z"
   },
   {
    "duration": 19,
    "start_time": "2021-08-06T11:02:18.191Z"
   },
   {
    "duration": 2062,
    "start_time": "2021-08-06T11:06:28.730Z"
   },
   {
    "duration": 74,
    "start_time": "2021-08-06T11:06:30.796Z"
   },
   {
    "duration": 21,
    "start_time": "2021-08-06T11:06:30.878Z"
   },
   {
    "duration": 14,
    "start_time": "2021-08-06T11:06:30.901Z"
   },
   {
    "duration": 87,
    "start_time": "2021-08-06T11:06:30.917Z"
   },
   {
    "duration": 11,
    "start_time": "2021-08-06T11:06:31.006Z"
   },
   {
    "duration": 24,
    "start_time": "2021-08-06T11:06:31.020Z"
   },
   {
    "duration": 61,
    "start_time": "2021-08-06T11:06:31.047Z"
   },
   {
    "duration": 20,
    "start_time": "2021-08-06T11:06:31.111Z"
   },
   {
    "duration": 610,
    "start_time": "2021-08-06T11:06:31.134Z"
   },
   {
    "duration": 4,
    "start_time": "2021-08-06T11:06:35.533Z"
   },
   {
    "duration": 67,
    "start_time": "2021-08-06T11:06:37.212Z"
   },
   {
    "duration": 12,
    "start_time": "2021-08-06T11:06:38.114Z"
   },
   {
    "duration": 17,
    "start_time": "2021-08-06T11:06:39.283Z"
   },
   {
    "duration": 42,
    "start_time": "2021-08-06T11:06:40.956Z"
   },
   {
    "duration": 13,
    "start_time": "2021-08-06T11:06:43.389Z"
   },
   {
    "duration": 22,
    "start_time": "2021-08-06T11:06:44.506Z"
   },
   {
    "duration": 28,
    "start_time": "2021-08-06T11:06:47.068Z"
   },
   {
    "duration": 19,
    "start_time": "2021-08-06T11:06:48.008Z"
   },
   {
    "duration": 372,
    "start_time": "2021-08-06T11:06:48.836Z"
   },
   {
    "duration": 2171,
    "start_time": "2021-08-06T11:07:10.764Z"
   },
   {
    "duration": 873,
    "start_time": "2021-08-06T11:25:57.240Z"
   },
   {
    "duration": 21,
    "start_time": "2021-08-06T11:36:00.726Z"
   },
   {
    "duration": 17,
    "start_time": "2021-08-06T11:42:28.123Z"
   },
   {
    "duration": 15,
    "start_time": "2021-08-06T11:44:05.382Z"
   },
   {
    "duration": 13,
    "start_time": "2021-08-06T11:44:12.747Z"
   },
   {
    "duration": 17,
    "start_time": "2021-08-06T11:44:19.759Z"
   },
   {
    "duration": 503,
    "start_time": "2021-08-06T11:46:26.336Z"
   },
   {
    "duration": 21,
    "start_time": "2021-08-06T11:46:31.095Z"
   },
   {
    "duration": 148,
    "start_time": "2021-08-06T11:47:57.817Z"
   },
   {
    "duration": 117,
    "start_time": "2021-08-06T11:49:40.659Z"
   },
   {
    "duration": 444,
    "start_time": "2021-08-06T11:50:02.281Z"
   },
   {
    "duration": 804,
    "start_time": "2021-08-06T11:50:33.809Z"
   },
   {
    "duration": 555,
    "start_time": "2021-08-06T11:50:54.377Z"
   },
   {
    "duration": 310,
    "start_time": "2021-08-06T11:51:13.248Z"
   },
   {
    "duration": 7,
    "start_time": "2021-08-06T12:16:33.578Z"
   },
   {
    "duration": 404,
    "start_time": "2021-08-06T12:16:59.572Z"
   },
   {
    "duration": 234,
    "start_time": "2021-08-06T12:17:21.874Z"
   },
   {
    "duration": 6,
    "start_time": "2021-08-06T12:17:45.568Z"
   },
   {
    "duration": 394,
    "start_time": "2021-08-06T12:20:33.314Z"
   },
   {
    "duration": 438,
    "start_time": "2021-08-06T12:20:44.118Z"
   },
   {
    "duration": 400,
    "start_time": "2021-08-06T12:20:45.399Z"
   },
   {
    "duration": 4,
    "start_time": "2021-08-06T12:21:05.857Z"
   },
   {
    "duration": 68,
    "start_time": "2021-08-06T12:21:06.681Z"
   },
   {
    "duration": 17,
    "start_time": "2021-08-06T12:21:07.733Z"
   },
   {
    "duration": 14,
    "start_time": "2021-08-06T12:21:08.609Z"
   },
   {
    "duration": 54,
    "start_time": "2021-08-06T12:21:10.266Z"
   },
   {
    "duration": 14,
    "start_time": "2021-08-06T12:21:11.197Z"
   },
   {
    "duration": 32,
    "start_time": "2021-08-06T12:21:12.054Z"
   },
   {
    "duration": 26,
    "start_time": "2021-08-06T12:21:15.234Z"
   },
   {
    "duration": 843,
    "start_time": "2021-08-06T12:21:16.874Z"
   },
   {
    "duration": 16,
    "start_time": "2021-08-06T12:21:18.311Z"
   },
   {
    "duration": 372,
    "start_time": "2021-08-06T12:21:28.176Z"
   },
   {
    "duration": 23,
    "start_time": "2021-08-06T12:21:31.553Z"
   },
   {
    "duration": 18,
    "start_time": "2021-08-06T12:21:42.134Z"
   },
   {
    "duration": 28,
    "start_time": "2021-08-06T12:23:07.147Z"
   },
   {
    "duration": 4,
    "start_time": "2021-08-06T12:42:09.304Z"
   },
   {
    "duration": 70,
    "start_time": "2021-08-06T12:42:09.679Z"
   },
   {
    "duration": 12,
    "start_time": "2021-08-06T12:42:09.909Z"
   },
   {
    "duration": 13,
    "start_time": "2021-08-06T12:42:10.121Z"
   },
   {
    "duration": 53,
    "start_time": "2021-08-06T12:42:10.467Z"
   },
   {
    "duration": 16,
    "start_time": "2021-08-06T12:42:10.804Z"
   },
   {
    "duration": 28,
    "start_time": "2021-08-06T12:42:10.983Z"
   },
   {
    "duration": 17,
    "start_time": "2021-08-06T12:42:11.759Z"
   },
   {
    "duration": 813,
    "start_time": "2021-08-06T12:42:11.952Z"
   },
   {
    "duration": 37,
    "start_time": "2021-08-06T12:42:12.768Z"
   },
   {
    "duration": 330,
    "start_time": "2021-08-06T12:42:12.808Z"
   },
   {
    "duration": 20,
    "start_time": "2021-08-06T12:42:13.338Z"
   },
   {
    "duration": 36,
    "start_time": "2021-08-06T12:42:13.560Z"
   },
   {
    "duration": 11,
    "start_time": "2021-08-06T12:46:13.226Z"
   },
   {
    "duration": 35,
    "start_time": "2021-08-06T12:47:51.397Z"
   },
   {
    "duration": 13,
    "start_time": "2021-08-06T12:48:48.118Z"
   },
   {
    "duration": 764,
    "start_time": "2021-08-06T12:50:03.797Z"
   },
   {
    "duration": 478,
    "start_time": "2021-08-06T12:50:23.189Z"
   },
   {
    "duration": 41,
    "start_time": "2021-08-06T12:50:31.628Z"
   },
   {
    "duration": 813,
    "start_time": "2021-08-06T12:58:23.951Z"
   },
   {
    "duration": 945,
    "start_time": "2021-08-06T12:59:07.759Z"
   },
   {
    "duration": 305,
    "start_time": "2021-08-06T12:59:16.636Z"
   },
   {
    "duration": 2023,
    "start_time": "2021-08-06T13:00:38.499Z"
   },
   {
    "duration": 86,
    "start_time": "2021-08-06T13:00:40.525Z"
   },
   {
    "duration": 19,
    "start_time": "2021-08-06T13:00:40.615Z"
   },
   {
    "duration": 18,
    "start_time": "2021-08-06T13:00:40.637Z"
   },
   {
    "duration": 72,
    "start_time": "2021-08-06T13:00:40.658Z"
   },
   {
    "duration": 11,
    "start_time": "2021-08-06T13:00:40.732Z"
   },
   {
    "duration": 54,
    "start_time": "2021-08-06T13:00:40.745Z"
   },
   {
    "duration": 18,
    "start_time": "2021-08-06T13:00:40.805Z"
   },
   {
    "duration": 1695,
    "start_time": "2021-08-06T13:00:40.826Z"
   },
   {
    "duration": 69,
    "start_time": "2021-08-06T13:00:42.524Z"
   },
   {
    "duration": 412,
    "start_time": "2021-08-06T13:00:42.596Z"
   },
   {
    "duration": 20,
    "start_time": "2021-08-06T13:00:43.011Z"
   },
   {
    "duration": 46,
    "start_time": "2021-08-06T13:00:43.086Z"
   },
   {
    "duration": 710,
    "start_time": "2021-08-06T13:00:43.134Z"
   },
   {
    "duration": 26,
    "start_time": "2021-08-06T13:02:09.578Z"
   },
   {
    "duration": 417,
    "start_time": "2021-08-06T13:02:41.876Z"
   },
   {
    "duration": 683,
    "start_time": "2021-08-06T13:03:27.659Z"
   },
   {
    "duration": 512,
    "start_time": "2021-08-06T13:03:59.952Z"
   },
   {
    "duration": 680,
    "start_time": "2021-08-06T13:05:11.246Z"
   },
   {
    "duration": 381,
    "start_time": "2021-08-06T13:16:01.890Z"
   },
   {
    "duration": 736,
    "start_time": "2021-08-06T13:16:20.368Z"
   },
   {
    "duration": 421,
    "start_time": "2021-08-06T13:18:20.708Z"
   },
   {
    "duration": 897,
    "start_time": "2021-08-06T13:18:42.199Z"
   },
   {
    "duration": 18,
    "start_time": "2021-08-06T13:19:33.552Z"
   },
   {
    "duration": 8,
    "start_time": "2021-08-06T13:19:50.565Z"
   },
   {
    "duration": 117,
    "start_time": "2021-08-06T13:24:03.221Z"
   },
   {
    "duration": 41,
    "start_time": "2021-08-06T13:25:25.497Z"
   },
   {
    "duration": 34,
    "start_time": "2021-08-06T13:28:32.590Z"
   },
   {
    "duration": 21,
    "start_time": "2021-08-06T13:28:43.656Z"
   },
   {
    "duration": 27,
    "start_time": "2021-08-06T13:28:52.337Z"
   },
   {
    "duration": 411,
    "start_time": "2021-08-06T13:29:55.341Z"
   },
   {
    "duration": 377,
    "start_time": "2021-08-06T13:30:18.127Z"
   },
   {
    "duration": 378,
    "start_time": "2021-08-06T13:30:46.295Z"
   },
   {
    "duration": 341,
    "start_time": "2021-08-06T13:30:55.818Z"
   },
   {
    "duration": 384,
    "start_time": "2021-08-06T13:31:03.933Z"
   },
   {
    "duration": 26,
    "start_time": "2021-08-06T13:34:43.859Z"
   },
   {
    "duration": 29,
    "start_time": "2021-08-06T13:34:52.582Z"
   },
   {
    "duration": 32,
    "start_time": "2021-08-06T13:35:04.895Z"
   },
   {
    "duration": 30,
    "start_time": "2021-08-06T13:35:18.136Z"
   },
   {
    "duration": 397,
    "start_time": "2021-08-06T13:35:18.872Z"
   },
   {
    "duration": 458,
    "start_time": "2021-08-06T13:40:19.094Z"
   },
   {
    "duration": 1892,
    "start_time": "2021-08-09T07:22:56.342Z"
   },
   {
    "duration": 73,
    "start_time": "2021-08-09T07:22:58.237Z"
   },
   {
    "duration": 12,
    "start_time": "2021-08-09T07:22:58.313Z"
   },
   {
    "duration": 14,
    "start_time": "2021-08-09T07:22:58.328Z"
   },
   {
    "duration": 43,
    "start_time": "2021-08-09T07:22:59.216Z"
   },
   {
    "duration": 12,
    "start_time": "2021-08-09T07:22:59.732Z"
   },
   {
    "duration": 22,
    "start_time": "2021-08-09T07:23:00.219Z"
   },
   {
    "duration": 19,
    "start_time": "2021-08-09T07:23:02.059Z"
   },
   {
    "duration": 1588,
    "start_time": "2021-08-09T07:23:02.564Z"
   },
   {
    "duration": 14,
    "start_time": "2021-08-09T07:23:04.202Z"
   },
   {
    "duration": 169,
    "start_time": "2021-08-09T07:23:05.513Z"
   },
   {
    "duration": 37,
    "start_time": "2021-08-09T07:23:15.755Z"
   },
   {
    "duration": 525,
    "start_time": "2021-08-09T07:23:19.554Z"
   },
   {
    "duration": 467,
    "start_time": "2021-08-09T07:23:22.091Z"
   },
   {
    "duration": 19,
    "start_time": "2021-08-09T07:23:23.795Z"
   },
   {
    "duration": 43,
    "start_time": "2021-08-09T07:23:24.322Z"
   },
   {
    "duration": 33,
    "start_time": "2021-08-09T07:23:25.340Z"
   },
   {
    "duration": 336,
    "start_time": "2021-08-09T07:23:25.911Z"
   },
   {
    "duration": 693,
    "start_time": "2021-08-09T07:23:27.412Z"
   },
   {
    "duration": 477,
    "start_time": "2021-08-09T07:57:55.648Z"
   },
   {
    "duration": 29,
    "start_time": "2021-08-09T07:58:17.370Z"
   },
   {
    "duration": 26,
    "start_time": "2021-08-09T07:58:27.535Z"
   },
   {
    "duration": 28,
    "start_time": "2021-08-09T07:58:35.121Z"
   },
   {
    "duration": 33,
    "start_time": "2021-08-09T08:00:25.584Z"
   },
   {
    "duration": 22,
    "start_time": "2021-08-09T08:03:54.155Z"
   },
   {
    "duration": 25,
    "start_time": "2021-08-09T08:04:10.058Z"
   },
   {
    "duration": 15,
    "start_time": "2021-08-09T08:04:27.010Z"
   },
   {
    "duration": 6,
    "start_time": "2021-08-09T08:04:34.474Z"
   },
   {
    "duration": 22,
    "start_time": "2021-08-09T08:04:55.033Z"
   },
   {
    "duration": 411,
    "start_time": "2021-08-09T08:15:10.877Z"
   },
   {
    "duration": 3,
    "start_time": "2021-08-09T08:16:04.077Z"
   },
   {
    "duration": 874,
    "start_time": "2021-08-09T08:19:50.305Z"
   },
   {
    "duration": 945,
    "start_time": "2021-08-09T08:20:12.778Z"
   },
   {
    "duration": 185664,
    "start_time": "2021-08-09T08:22:21.889Z"
   },
   {
    "duration": 1936,
    "start_time": "2021-08-09T08:25:25.896Z"
   },
   {
    "duration": 254,
    "start_time": "2021-08-09T08:25:48.917Z"
   },
   {
    "duration": 18,
    "start_time": "2021-08-09T08:26:02.179Z"
   },
   {
    "duration": 268,
    "start_time": "2021-08-09T08:26:03.181Z"
   },
   {
    "duration": 277,
    "start_time": "2021-08-09T08:26:52.953Z"
   },
   {
    "duration": 286,
    "start_time": "2021-08-09T08:27:18.594Z"
   },
   {
    "duration": 278,
    "start_time": "2021-08-09T08:28:47.981Z"
   },
   {
    "duration": 3498,
    "start_time": "2021-08-09T08:29:03.889Z"
   },
   {
    "duration": 788,
    "start_time": "2021-08-09T08:33:40.259Z"
   },
   {
    "duration": 723,
    "start_time": "2021-08-09T08:33:59.436Z"
   },
   {
    "duration": 747,
    "start_time": "2021-08-09T08:37:34.319Z"
   },
   {
    "duration": 341,
    "start_time": "2021-08-09T08:59:58.813Z"
   },
   {
    "duration": 295,
    "start_time": "2021-08-09T09:00:15.429Z"
   },
   {
    "duration": 751,
    "start_time": "2021-08-09T09:00:34.444Z"
   },
   {
    "duration": 318,
    "start_time": "2021-08-09T09:01:25.206Z"
   },
   {
    "duration": 775,
    "start_time": "2021-08-09T09:02:28.336Z"
   },
   {
    "duration": 302,
    "start_time": "2021-08-09T09:03:22.942Z"
   },
   {
    "duration": 280,
    "start_time": "2021-08-09T09:04:12.914Z"
   },
   {
    "duration": 252,
    "start_time": "2021-08-09T09:04:48.532Z"
   },
   {
    "duration": 96,
    "start_time": "2021-08-09T09:06:34.013Z"
   },
   {
    "duration": 283,
    "start_time": "2021-08-09T09:06:59.634Z"
   },
   {
    "duration": 93,
    "start_time": "2021-08-09T09:07:10.641Z"
   },
   {
    "duration": 772,
    "start_time": "2021-08-09T09:07:17.142Z"
   },
   {
    "duration": 754,
    "start_time": "2021-08-09T09:08:21.258Z"
   },
   {
    "duration": 786,
    "start_time": "2021-08-09T09:12:38.058Z"
   },
   {
    "duration": 878,
    "start_time": "2021-08-09T09:12:48.930Z"
   },
   {
    "duration": 753,
    "start_time": "2021-08-09T09:12:54.136Z"
   },
   {
    "duration": 105,
    "start_time": "2021-08-09T09:14:29.644Z"
   },
   {
    "duration": 387,
    "start_time": "2021-08-09T09:14:36.098Z"
   },
   {
    "duration": 394,
    "start_time": "2021-08-09T09:14:48.261Z"
   },
   {
    "duration": 386,
    "start_time": "2021-08-09T09:15:07.075Z"
   },
   {
    "duration": 3886,
    "start_time": "2021-08-09T09:16:29.808Z"
   },
   {
    "duration": 3517,
    "start_time": "2021-08-09T09:16:54.830Z"
   },
   {
    "duration": 1833,
    "start_time": "2021-08-09T09:18:01.848Z"
   },
   {
    "duration": 74,
    "start_time": "2021-08-09T09:18:03.683Z"
   },
   {
    "duration": 14,
    "start_time": "2021-08-09T09:18:03.762Z"
   },
   {
    "duration": 14,
    "start_time": "2021-08-09T09:18:03.801Z"
   },
   {
    "duration": 41,
    "start_time": "2021-08-09T09:18:03.818Z"
   },
   {
    "duration": 40,
    "start_time": "2021-08-09T09:18:03.862Z"
   },
   {
    "duration": 20,
    "start_time": "2021-08-09T09:18:03.905Z"
   },
   {
    "duration": 17,
    "start_time": "2021-08-09T09:18:03.929Z"
   },
   {
    "duration": 1492,
    "start_time": "2021-08-09T09:18:03.949Z"
   },
   {
    "duration": 57,
    "start_time": "2021-08-09T09:18:05.445Z"
   },
   {
    "duration": 511,
    "start_time": "2021-08-09T09:18:05.505Z"
   },
   {
    "duration": 105,
    "start_time": "2021-08-09T09:18:06.020Z"
   },
   {
    "duration": 554,
    "start_time": "2021-08-09T09:18:06.127Z"
   },
   {
    "duration": 462,
    "start_time": "2021-08-09T09:18:06.684Z"
   },
   {
    "duration": 20,
    "start_time": "2021-08-09T09:18:07.148Z"
   },
   {
    "duration": 60,
    "start_time": "2021-08-09T09:18:07.171Z"
   },
   {
    "duration": 33,
    "start_time": "2021-08-09T09:18:07.234Z"
   },
   {
    "duration": 367,
    "start_time": "2021-08-09T09:18:07.269Z"
   },
   {
    "duration": 474,
    "start_time": "2021-08-09T09:18:07.638Z"
   },
   {
    "duration": 33,
    "start_time": "2021-08-09T09:18:08.114Z"
   },
   {
    "duration": 22,
    "start_time": "2021-08-09T09:18:08.149Z"
   },
   {
    "duration": 14,
    "start_time": "2021-08-09T09:18:08.201Z"
   },
   {
    "duration": 11,
    "start_time": "2021-08-09T09:18:08.219Z"
   },
   {
    "duration": 444,
    "start_time": "2021-08-09T09:18:08.233Z"
   },
   {
    "duration": 87,
    "start_time": "2021-08-09T09:20:51.995Z"
   },
   {
    "duration": 88,
    "start_time": "2021-08-09T09:28:35.007Z"
   },
   {
    "duration": 1871,
    "start_time": "2021-08-09T09:33:48.200Z"
   },
   {
    "duration": 73,
    "start_time": "2021-08-09T09:33:50.073Z"
   },
   {
    "duration": 13,
    "start_time": "2021-08-09T09:33:50.150Z"
   },
   {
    "duration": 12,
    "start_time": "2021-08-09T09:33:50.166Z"
   },
   {
    "duration": 39,
    "start_time": "2021-08-09T09:33:50.200Z"
   },
   {
    "duration": 9,
    "start_time": "2021-08-09T09:33:50.242Z"
   },
   {
    "duration": 53,
    "start_time": "2021-08-09T09:33:50.253Z"
   },
   {
    "duration": 18,
    "start_time": "2021-08-09T09:33:50.309Z"
   },
   {
    "duration": 1533,
    "start_time": "2021-08-09T09:33:50.329Z"
   },
   {
    "duration": 43,
    "start_time": "2021-08-09T09:33:51.865Z"
   },
   {
    "duration": 334,
    "start_time": "2021-08-09T09:33:51.910Z"
   },
   {
    "duration": 88,
    "start_time": "2021-08-09T09:33:52.246Z"
   },
   {
    "duration": 583,
    "start_time": "2021-08-09T09:33:52.336Z"
   },
   {
    "duration": 633,
    "start_time": "2021-08-09T09:33:52.921Z"
   },
   {
    "duration": 20,
    "start_time": "2021-08-09T09:33:53.557Z"
   },
   {
    "duration": 43,
    "start_time": "2021-08-09T09:33:53.600Z"
   },
   {
    "duration": 56,
    "start_time": "2021-08-09T09:33:53.646Z"
   },
   {
    "duration": 357,
    "start_time": "2021-08-09T09:33:53.705Z"
   },
   {
    "duration": 450,
    "start_time": "2021-08-09T09:33:54.065Z"
   },
   {
    "duration": 32,
    "start_time": "2021-08-09T09:33:54.517Z"
   },
   {
    "duration": 21,
    "start_time": "2021-08-09T09:33:54.552Z"
   },
   {
    "duration": 37,
    "start_time": "2021-08-09T09:33:54.576Z"
   },
   {
    "duration": 6,
    "start_time": "2021-08-09T09:33:54.617Z"
   },
   {
    "duration": 457,
    "start_time": "2021-08-09T09:33:54.626Z"
   },
   {
    "duration": 87,
    "start_time": "2021-08-09T09:36:59.199Z"
   },
   {
    "duration": 93,
    "start_time": "2021-08-09T09:40:18.980Z"
   },
   {
    "duration": 2397,
    "start_time": "2021-08-09T12:12:22.293Z"
   },
   {
    "duration": 102,
    "start_time": "2021-08-09T12:12:24.694Z"
   },
   {
    "duration": 18,
    "start_time": "2021-08-09T12:12:24.800Z"
   },
   {
    "duration": 17,
    "start_time": "2021-08-09T12:12:24.821Z"
   },
   {
    "duration": 73,
    "start_time": "2021-08-09T12:12:24.840Z"
   },
   {
    "duration": 13,
    "start_time": "2021-08-09T12:12:24.916Z"
   },
   {
    "duration": 24,
    "start_time": "2021-08-09T12:12:24.932Z"
   },
   {
    "duration": 54,
    "start_time": "2021-08-09T12:12:24.961Z"
   },
   {
    "duration": 1636,
    "start_time": "2021-08-09T12:12:25.019Z"
   },
   {
    "duration": 52,
    "start_time": "2021-08-09T12:12:26.658Z"
   },
   {
    "duration": 462,
    "start_time": "2021-08-09T12:12:26.713Z"
   },
   {
    "duration": 51,
    "start_time": "2021-08-09T12:12:27.202Z"
   },
   {
    "duration": 827,
    "start_time": "2021-08-09T12:12:27.256Z"
   },
   {
    "duration": 725,
    "start_time": "2021-08-09T12:12:28.101Z"
   },
   {
    "duration": 25,
    "start_time": "2021-08-09T12:12:28.829Z"
   },
   {
    "duration": 91,
    "start_time": "2021-08-09T12:12:28.857Z"
   },
   {
    "duration": 59,
    "start_time": "2021-08-09T12:12:28.951Z"
   },
   {
    "duration": 375,
    "start_time": "2021-08-09T12:12:29.013Z"
   },
   {
    "duration": 723,
    "start_time": "2021-08-09T12:12:29.391Z"
   },
   {
    "duration": 33,
    "start_time": "2021-08-09T12:12:30.118Z"
   },
   {
    "duration": 48,
    "start_time": "2021-08-09T12:12:30.154Z"
   },
   {
    "duration": 15,
    "start_time": "2021-08-09T12:12:30.205Z"
   },
   {
    "duration": 7,
    "start_time": "2021-08-09T12:12:30.224Z"
   },
   {
    "duration": 471,
    "start_time": "2021-08-09T12:12:30.233Z"
   },
   {
    "duration": 119,
    "start_time": "2021-08-09T20:17:16.369Z"
   },
   {
    "duration": 5346,
    "start_time": "2021-08-09T20:17:27.018Z"
   },
   {
    "duration": 104,
    "start_time": "2021-08-09T20:17:32.368Z"
   },
   {
    "duration": 18,
    "start_time": "2021-08-09T20:17:32.476Z"
   },
   {
    "duration": 28,
    "start_time": "2021-08-09T20:17:32.497Z"
   },
   {
    "duration": 83,
    "start_time": "2021-08-09T20:17:32.529Z"
   },
   {
    "duration": 16,
    "start_time": "2021-08-09T20:17:32.616Z"
   },
   {
    "duration": 54,
    "start_time": "2021-08-09T20:17:32.635Z"
   },
   {
    "duration": 26,
    "start_time": "2021-08-09T20:17:32.695Z"
   },
   {
    "duration": 1557,
    "start_time": "2021-08-09T20:17:32.726Z"
   },
   {
    "duration": 75,
    "start_time": "2021-08-09T20:17:34.287Z"
   },
   {
    "duration": 332,
    "start_time": "2021-08-09T20:17:34.365Z"
   },
   {
    "duration": 91,
    "start_time": "2021-08-09T20:17:34.699Z"
   },
   {
    "duration": 784,
    "start_time": "2021-08-09T20:17:34.792Z"
   },
   {
    "duration": 499,
    "start_time": "2021-08-09T20:17:35.578Z"
   },
   {
    "duration": 19,
    "start_time": "2021-08-09T20:17:36.080Z"
   },
   {
    "duration": 93,
    "start_time": "2021-08-09T20:17:36.101Z"
   },
   {
    "duration": 64,
    "start_time": "2021-08-09T20:17:36.197Z"
   },
   {
    "duration": 513,
    "start_time": "2021-08-09T20:17:36.265Z"
   },
   {
    "duration": 592,
    "start_time": "2021-08-09T20:17:36.781Z"
   },
   {
    "duration": 37,
    "start_time": "2021-08-09T20:17:37.377Z"
   },
   {
    "duration": 49,
    "start_time": "2021-08-09T20:17:37.417Z"
   },
   {
    "duration": 17,
    "start_time": "2021-08-09T20:17:37.469Z"
   },
   {
    "duration": 14,
    "start_time": "2021-08-09T20:17:37.492Z"
   },
   {
    "duration": 620,
    "start_time": "2021-08-09T20:17:37.509Z"
   },
   {
    "duration": 107,
    "start_time": "2021-08-09T20:23:20.417Z"
   },
   {
    "duration": 114,
    "start_time": "2021-08-09T20:26:40.716Z"
   },
   {
    "duration": 1342,
    "start_time": "2021-08-10T06:35:55.073Z"
   },
   {
    "duration": 58,
    "start_time": "2021-08-10T06:35:56.417Z"
   },
   {
    "duration": 10,
    "start_time": "2021-08-10T06:35:57.218Z"
   },
   {
    "duration": 9,
    "start_time": "2021-08-10T06:35:57.861Z"
   },
   {
    "duration": 28,
    "start_time": "2021-08-10T06:35:59.117Z"
   },
   {
    "duration": 8,
    "start_time": "2021-08-10T06:36:05.442Z"
   },
   {
    "duration": 21,
    "start_time": "2021-08-10T06:36:05.452Z"
   },
   {
    "duration": 71,
    "start_time": "2021-08-10T06:36:05.475Z"
   },
   {
    "duration": 285,
    "start_time": "2021-08-10T06:36:10.942Z"
   },
   {
    "duration": 52,
    "start_time": "2021-08-10T06:37:57.861Z"
   },
   {
    "duration": 172,
    "start_time": "2021-08-10T06:40:43.923Z"
   },
   {
    "duration": 7,
    "start_time": "2021-08-10T06:40:58.386Z"
   },
   {
    "duration": 16,
    "start_time": "2021-08-10T06:42:34.707Z"
   },
   {
    "duration": 18,
    "start_time": "2021-08-10T06:43:30.063Z"
   },
   {
    "duration": 16,
    "start_time": "2021-08-10T06:44:34.944Z"
   },
   {
    "duration": 17,
    "start_time": "2021-08-10T06:44:44.769Z"
   },
   {
    "duration": 15,
    "start_time": "2021-08-10T06:44:53.080Z"
   },
   {
    "duration": 187,
    "start_time": "2021-08-10T06:46:18.220Z"
   },
   {
    "duration": 172,
    "start_time": "2021-08-10T06:46:47.001Z"
   },
   {
    "duration": 188,
    "start_time": "2021-08-10T06:46:59.805Z"
   },
   {
    "duration": 182,
    "start_time": "2021-08-10T06:47:22.552Z"
   },
   {
    "duration": 184,
    "start_time": "2021-08-10T06:47:36.134Z"
   },
   {
    "duration": 372,
    "start_time": "2021-08-10T06:50:37.153Z"
   },
   {
    "duration": 13,
    "start_time": "2021-08-10T06:52:43.744Z"
   },
   {
    "duration": 15,
    "start_time": "2021-08-10T06:53:29.261Z"
   },
   {
    "duration": 58,
    "start_time": "2021-08-10T06:55:57.848Z"
   },
   {
    "duration": 27,
    "start_time": "2021-08-10T06:57:14.703Z"
   },
   {
    "duration": 12,
    "start_time": "2021-08-10T06:57:15.781Z"
   },
   {
    "duration": 15,
    "start_time": "2021-08-10T06:57:17.823Z"
   },
   {
    "duration": 8,
    "start_time": "2021-08-10T06:57:20.454Z"
   },
   {
    "duration": 15,
    "start_time": "2021-08-10T06:57:21.998Z"
   },
   {
    "duration": 7,
    "start_time": "2021-08-10T06:57:23.439Z"
   },
   {
    "duration": 497,
    "start_time": "2021-08-10T07:14:34.001Z"
   },
   {
    "duration": 205,
    "start_time": "2021-08-10T07:15:46.622Z"
   },
   {
    "duration": 111,
    "start_time": "2021-08-10T07:16:04.952Z"
   },
   {
    "duration": 110,
    "start_time": "2021-08-10T07:16:25.862Z"
   },
   {
    "duration": 107,
    "start_time": "2021-08-10T07:16:56.926Z"
   },
   {
    "duration": 256,
    "start_time": "2021-08-10T07:17:31.541Z"
   },
   {
    "duration": 103,
    "start_time": "2021-08-10T07:18:14.349Z"
   },
   {
    "duration": 237,
    "start_time": "2021-08-10T07:18:34.420Z"
   },
   {
    "duration": 358,
    "start_time": "2021-08-10T07:19:39.374Z"
   },
   {
    "duration": 234,
    "start_time": "2021-08-10T07:20:43.976Z"
   },
   {
    "duration": 583,
    "start_time": "2021-08-10T07:21:01.680Z"
   },
   {
    "duration": 233,
    "start_time": "2021-08-10T07:21:07.937Z"
   },
   {
    "duration": 177,
    "start_time": "2021-08-10T07:24:50.323Z"
   },
   {
    "duration": 273,
    "start_time": "2021-08-10T07:24:56.102Z"
   },
   {
    "duration": 3,
    "start_time": "2021-08-10T07:25:05.224Z"
   },
   {
    "duration": 55,
    "start_time": "2021-08-10T07:25:05.473Z"
   },
   {
    "duration": 10,
    "start_time": "2021-08-10T07:25:05.660Z"
   },
   {
    "duration": 9,
    "start_time": "2021-08-10T07:25:05.867Z"
   },
   {
    "duration": 28,
    "start_time": "2021-08-10T07:25:06.316Z"
   },
   {
    "duration": 12,
    "start_time": "2021-08-10T07:25:06.563Z"
   },
   {
    "duration": 17,
    "start_time": "2021-08-10T07:25:07.078Z"
   },
   {
    "duration": 9,
    "start_time": "2021-08-10T07:25:07.510Z"
   },
   {
    "duration": 17,
    "start_time": "2021-08-10T07:25:07.707Z"
   },
   {
    "duration": 7,
    "start_time": "2021-08-10T07:25:07.962Z"
   },
   {
    "duration": 17,
    "start_time": "2021-08-10T07:25:08.193Z"
   },
   {
    "duration": 14,
    "start_time": "2021-08-10T07:25:09.359Z"
   },
   {
    "duration": 599,
    "start_time": "2021-08-10T07:25:09.817Z"
   },
   {
    "duration": 14,
    "start_time": "2021-08-10T07:25:10.419Z"
   },
   {
    "duration": 109,
    "start_time": "2021-08-10T07:25:10.832Z"
   },
   {
    "duration": 24,
    "start_time": "2021-08-10T07:25:11.950Z"
   },
   {
    "duration": 377,
    "start_time": "2021-08-10T07:25:19.467Z"
   },
   {
    "duration": 275,
    "start_time": "2021-08-10T07:25:22.130Z"
   },
   {
    "duration": 13,
    "start_time": "2021-08-10T07:25:23.514Z"
   },
   {
    "duration": 28,
    "start_time": "2021-08-10T07:25:23.782Z"
   },
   {
    "duration": 24,
    "start_time": "2021-08-10T07:25:24.755Z"
   },
   {
    "duration": 220,
    "start_time": "2021-08-10T07:25:25.239Z"
   },
   {
    "duration": 124,
    "start_time": "2021-08-10T07:25:26.313Z"
   },
   {
    "duration": 22,
    "start_time": "2021-08-10T07:25:26.872Z"
   },
   {
    "duration": 169,
    "start_time": "2021-08-10T07:25:27.708Z"
   },
   {
    "duration": 16,
    "start_time": "2021-08-10T07:25:28.352Z"
   },
   {
    "duration": 11,
    "start_time": "2021-08-10T07:25:29.467Z"
   },
   {
    "duration": 5,
    "start_time": "2021-08-10T07:25:30.041Z"
   },
   {
    "duration": 256,
    "start_time": "2021-08-10T07:25:31.136Z"
   },
   {
    "duration": 222,
    "start_time": "2021-08-10T07:38:34.252Z"
   },
   {
    "duration": 212,
    "start_time": "2021-08-10T07:38:52.973Z"
   },
   {
    "duration": 1478,
    "start_time": "2021-08-10T21:03:10.097Z"
   },
   {
    "duration": 57,
    "start_time": "2021-08-10T21:03:11.577Z"
   },
   {
    "duration": 8,
    "start_time": "2021-08-10T21:03:11.636Z"
   },
   {
    "duration": 10,
    "start_time": "2021-08-10T21:03:11.646Z"
   },
   {
    "duration": 27,
    "start_time": "2021-08-10T21:03:11.657Z"
   },
   {
    "duration": 12,
    "start_time": "2021-08-10T21:03:11.686Z"
   },
   {
    "duration": 18,
    "start_time": "2021-08-10T21:03:11.700Z"
   },
   {
    "duration": 9,
    "start_time": "2021-08-10T21:03:11.740Z"
   },
   {
    "duration": 15,
    "start_time": "2021-08-10T21:03:11.752Z"
   },
   {
    "duration": 6,
    "start_time": "2021-08-10T21:03:11.769Z"
   },
   {
    "duration": 17,
    "start_time": "2021-08-10T21:03:11.777Z"
   },
   {
    "duration": 11,
    "start_time": "2021-08-10T21:03:11.795Z"
   },
   {
    "duration": 1055,
    "start_time": "2021-08-10T21:03:11.807Z"
   },
   {
    "duration": 11,
    "start_time": "2021-08-10T21:03:12.864Z"
   },
   {
    "duration": 218,
    "start_time": "2021-08-10T21:03:12.940Z"
   },
   {
    "duration": 28,
    "start_time": "2021-08-10T21:03:13.159Z"
   },
   {
    "duration": 303,
    "start_time": "2021-08-10T21:03:13.189Z"
   },
   {
    "duration": 530,
    "start_time": "2021-08-10T21:03:13.494Z"
   },
   {
    "duration": 24,
    "start_time": "2021-08-10T21:03:14.027Z"
   },
   {
    "duration": 26,
    "start_time": "2021-08-10T21:03:14.054Z"
   },
   {
    "duration": 23,
    "start_time": "2021-08-10T21:03:14.081Z"
   },
   {
    "duration": 229,
    "start_time": "2021-08-10T21:03:14.106Z"
   },
   {
    "duration": 400,
    "start_time": "2021-08-10T21:03:14.340Z"
   },
   {
    "duration": 21,
    "start_time": "2021-08-10T21:03:14.742Z"
   },
   {
    "duration": 15,
    "start_time": "2021-08-10T21:03:14.765Z"
   },
   {
    "duration": 11,
    "start_time": "2021-08-10T21:03:14.782Z"
   },
   {
    "duration": 22,
    "start_time": "2021-08-10T21:03:14.796Z"
   },
   {
    "duration": 274,
    "start_time": "2021-08-10T21:03:14.820Z"
   },
   {
    "duration": 416,
    "start_time": "2021-08-10T21:07:00.970Z"
   },
   {
    "duration": 3,
    "start_time": "2021-08-10T21:07:04.977Z"
   },
   {
    "duration": 68,
    "start_time": "2021-08-10T21:07:04.981Z"
   },
   {
    "duration": 8,
    "start_time": "2021-08-10T21:07:05.051Z"
   },
   {
    "duration": 18,
    "start_time": "2021-08-10T21:07:05.061Z"
   },
   {
    "duration": 34,
    "start_time": "2021-08-10T21:07:05.081Z"
   },
   {
    "duration": 30,
    "start_time": "2021-08-10T21:07:05.117Z"
   },
   {
    "duration": 26,
    "start_time": "2021-08-10T21:07:05.149Z"
   },
   {
    "duration": 14,
    "start_time": "2021-08-10T21:07:05.177Z"
   },
   {
    "duration": 14,
    "start_time": "2021-08-10T21:07:05.193Z"
   },
   {
    "duration": 6,
    "start_time": "2021-08-10T21:07:05.209Z"
   },
   {
    "duration": 35,
    "start_time": "2021-08-10T21:07:05.216Z"
   },
   {
    "duration": 11,
    "start_time": "2021-08-10T21:07:05.253Z"
   },
   {
    "duration": 652,
    "start_time": "2021-08-10T21:07:05.266Z"
   },
   {
    "duration": 27,
    "start_time": "2021-08-10T21:07:05.920Z"
   },
   {
    "duration": 336,
    "start_time": "2021-08-10T21:07:05.949Z"
   },
   {
    "duration": 84,
    "start_time": "2021-08-10T21:07:06.287Z"
   },
   {
    "duration": 448,
    "start_time": "2021-08-10T21:07:06.373Z"
   },
   {
    "duration": 86,
    "start_time": "2021-08-10T21:07:06.823Z"
   },
   {
    "duration": 265,
    "start_time": "2021-08-10T21:07:35.851Z"
   },
   {
    "duration": 230,
    "start_time": "2021-08-10T21:07:48.175Z"
   },
   {
    "duration": 245,
    "start_time": "2021-08-10T21:08:35.646Z"
   },
   {
    "duration": 391,
    "start_time": "2021-08-10T21:08:40.438Z"
   },
   {
    "duration": 91,
    "start_time": "2021-08-10T21:12:23.192Z"
   },
   {
    "duration": 88,
    "start_time": "2021-08-10T21:12:29.868Z"
   },
   {
    "duration": 6354,
    "start_time": "2021-08-10T21:12:31.414Z"
   },
   {
    "duration": 277,
    "start_time": "2021-08-10T21:12:38.864Z"
   },
   {
    "duration": 250,
    "start_time": "2021-08-10T21:13:23.945Z"
   },
   {
    "duration": 657,
    "start_time": "2021-08-10T21:13:33.254Z"
   },
   {
    "duration": 269,
    "start_time": "2021-08-10T21:15:15.348Z"
   },
   {
    "duration": 396,
    "start_time": "2021-08-10T21:15:22.204Z"
   },
   {
    "duration": 278,
    "start_time": "2021-08-10T21:15:35.204Z"
   },
   {
    "duration": 82,
    "start_time": "2021-08-10T21:15:50.201Z"
   },
   {
    "duration": 475,
    "start_time": "2021-08-10T21:15:59.627Z"
   },
   {
    "duration": 295,
    "start_time": "2021-08-10T21:16:14.037Z"
   },
   {
    "duration": 98,
    "start_time": "2021-08-10T21:19:06.116Z"
   },
   {
    "duration": 286,
    "start_time": "2021-08-10T21:19:11.555Z"
   },
   {
    "duration": 265,
    "start_time": "2021-08-10T21:19:16.125Z"
   },
   {
    "duration": 86,
    "start_time": "2021-08-10T21:20:56.482Z"
   },
   {
    "duration": 291,
    "start_time": "2021-08-10T21:21:00.551Z"
   },
   {
    "duration": 299,
    "start_time": "2021-08-10T21:22:00.410Z"
   },
   {
    "duration": 346,
    "start_time": "2021-08-10T21:22:15.035Z"
   },
   {
    "duration": 384,
    "start_time": "2021-08-10T21:22:47.754Z"
   },
   {
    "duration": 253,
    "start_time": "2021-08-10T21:22:58.100Z"
   },
   {
    "duration": 429,
    "start_time": "2021-08-10T21:23:00.196Z"
   },
   {
    "duration": 262,
    "start_time": "2021-08-10T21:23:15.549Z"
   },
   {
    "duration": 5353,
    "start_time": "2021-08-10T21:23:33.882Z"
   },
   {
    "duration": 576,
    "start_time": "2021-08-10T21:23:53.546Z"
   },
   {
    "duration": 319,
    "start_time": "2021-08-10T21:24:07.407Z"
   },
   {
    "duration": 86,
    "start_time": "2021-08-10T21:24:26.359Z"
   },
   {
    "duration": 671,
    "start_time": "2021-08-10T21:24:36.940Z"
   },
   {
    "duration": 331,
    "start_time": "2021-08-10T21:24:57.680Z"
   },
   {
    "duration": 482,
    "start_time": "2021-08-10T21:25:40.524Z"
   },
   {
    "duration": 456,
    "start_time": "2021-08-10T21:25:55.290Z"
   },
   {
    "duration": 319,
    "start_time": "2021-08-10T21:26:56.894Z"
   },
   {
    "duration": 321,
    "start_time": "2021-08-10T21:27:07.508Z"
   },
   {
    "duration": 1400,
    "start_time": "2021-08-11T06:07:33.015Z"
   },
   {
    "duration": 53,
    "start_time": "2021-08-11T06:07:34.417Z"
   },
   {
    "duration": 8,
    "start_time": "2021-08-11T06:07:34.471Z"
   },
   {
    "duration": 8,
    "start_time": "2021-08-11T06:07:34.699Z"
   },
   {
    "duration": 28,
    "start_time": "2021-08-11T06:07:35.850Z"
   },
   {
    "duration": 12,
    "start_time": "2021-08-11T06:07:36.639Z"
   },
   {
    "duration": 15,
    "start_time": "2021-08-11T06:07:38.288Z"
   },
   {
    "duration": 8,
    "start_time": "2021-08-11T06:07:40.543Z"
   },
   {
    "duration": 15,
    "start_time": "2021-08-11T06:07:41.218Z"
   },
   {
    "duration": 7,
    "start_time": "2021-08-11T06:07:42.158Z"
   },
   {
    "duration": 6,
    "start_time": "2021-08-11T06:07:52.089Z"
   },
   {
    "duration": 5,
    "start_time": "2021-08-11T06:08:23.032Z"
   },
   {
    "duration": 6,
    "start_time": "2021-08-11T06:08:39.128Z"
   },
   {
    "duration": 5,
    "start_time": "2021-08-11T06:09:12.774Z"
   },
   {
    "duration": 6,
    "start_time": "2021-08-11T06:09:22.832Z"
   },
   {
    "duration": 6,
    "start_time": "2021-08-11T06:09:28.682Z"
   },
   {
    "duration": 15,
    "start_time": "2021-08-11T06:14:21.434Z"
   },
   {
    "duration": 8,
    "start_time": "2021-08-11T06:14:22.385Z"
   },
   {
    "duration": 12,
    "start_time": "2021-08-11T06:14:23.548Z"
   },
   {
    "duration": 982,
    "start_time": "2021-08-11T06:14:24.009Z"
   },
   {
    "duration": 11,
    "start_time": "2021-08-11T06:14:24.994Z"
   },
   {
    "duration": 116,
    "start_time": "2021-08-11T06:14:25.152Z"
   },
   {
    "duration": 26,
    "start_time": "2021-08-11T06:14:26.060Z"
   },
   {
    "duration": 1291,
    "start_time": "2021-08-11T06:52:08.423Z"
   },
   {
    "duration": 53,
    "start_time": "2021-08-11T06:52:09.716Z"
   },
   {
    "duration": 8,
    "start_time": "2021-08-11T06:52:09.771Z"
   },
   {
    "duration": 8,
    "start_time": "2021-08-11T06:52:09.780Z"
   },
   {
    "duration": 26,
    "start_time": "2021-08-11T06:52:09.789Z"
   },
   {
    "duration": 10,
    "start_time": "2021-08-11T06:52:09.817Z"
   },
   {
    "duration": 14,
    "start_time": "2021-08-11T06:52:09.829Z"
   },
   {
    "duration": 7,
    "start_time": "2021-08-11T06:52:09.846Z"
   },
   {
    "duration": 13,
    "start_time": "2021-08-11T06:52:09.855Z"
   },
   {
    "duration": 5,
    "start_time": "2021-08-11T06:52:09.891Z"
   },
   {
    "duration": 5,
    "start_time": "2021-08-11T06:52:09.898Z"
   },
   {
    "duration": 7,
    "start_time": "2021-08-11T06:52:09.905Z"
   },
   {
    "duration": 22,
    "start_time": "2021-08-11T06:52:09.913Z"
   },
   {
    "duration": 5,
    "start_time": "2021-08-11T06:52:09.936Z"
   },
   {
    "duration": 15,
    "start_time": "2021-08-11T06:52:09.942Z"
   },
   {
    "duration": 959,
    "start_time": "2021-08-11T06:52:09.959Z"
   },
   {
    "duration": 11,
    "start_time": "2021-08-11T06:52:10.920Z"
   },
   {
    "duration": 262,
    "start_time": "2021-08-11T06:52:10.932Z"
   },
   {
    "duration": 27,
    "start_time": "2021-08-11T06:52:11.195Z"
   },
   {
    "duration": 279,
    "start_time": "2021-08-11T06:52:11.223Z"
   },
   {
    "duration": 458,
    "start_time": "2021-08-11T06:52:11.504Z"
   },
   {
    "duration": 269,
    "start_time": "2021-08-11T06:52:11.964Z"
   },
   {
    "duration": 10,
    "start_time": "2021-08-11T06:52:12.236Z"
   },
   {
    "duration": 27,
    "start_time": "2021-08-11T06:52:12.248Z"
   },
   {
    "duration": 20,
    "start_time": "2021-08-11T06:52:12.292Z"
   },
   {
    "duration": 343,
    "start_time": "2021-08-11T06:52:12.314Z"
   },
   {
    "duration": 583,
    "start_time": "2021-08-11T06:52:12.658Z"
   },
   {
    "duration": -8409,
    "start_time": "2021-08-11T06:52:21.651Z"
   },
   {
    "duration": -8430,
    "start_time": "2021-08-11T06:52:21.673Z"
   },
   {
    "duration": -8448,
    "start_time": "2021-08-11T06:52:21.692Z"
   },
   {
    "duration": -8463,
    "start_time": "2021-08-11T06:52:21.707Z"
   },
   {
    "duration": -8482,
    "start_time": "2021-08-11T06:52:21.727Z"
   },
   {
    "duration": 444,
    "start_time": "2021-08-11T06:53:20.199Z"
   },
   {
    "duration": 1930,
    "start_time": "2021-08-13T06:16:10.910Z"
   },
   {
    "duration": 77,
    "start_time": "2021-08-13T06:16:12.842Z"
   },
   {
    "duration": 11,
    "start_time": "2021-08-13T06:16:12.921Z"
   },
   {
    "duration": 11,
    "start_time": "2021-08-13T06:16:12.935Z"
   },
   {
    "duration": 68,
    "start_time": "2021-08-13T06:16:12.948Z"
   },
   {
    "duration": 18,
    "start_time": "2021-08-13T06:16:13.018Z"
   },
   {
    "duration": 49,
    "start_time": "2021-08-13T06:16:13.038Z"
   },
   {
    "duration": 10,
    "start_time": "2021-08-13T06:16:13.327Z"
   },
   {
    "duration": 22,
    "start_time": "2021-08-13T06:16:13.556Z"
   },
   {
    "duration": 8,
    "start_time": "2021-08-13T06:16:13.775Z"
   },
   {
    "duration": 6,
    "start_time": "2021-08-13T06:16:13.975Z"
   },
   {
    "duration": 8,
    "start_time": "2021-08-13T06:16:14.234Z"
   },
   {
    "duration": 24,
    "start_time": "2021-08-13T06:16:14.677Z"
   },
   {
    "duration": 10,
    "start_time": "2021-08-13T06:16:15.165Z"
   },
   {
    "duration": 19,
    "start_time": "2021-08-13T06:16:16.486Z"
   },
   {
    "duration": 1560,
    "start_time": "2021-08-13T06:16:16.933Z"
   },
   {
    "duration": 17,
    "start_time": "2021-08-13T06:16:18.497Z"
   },
   {
    "duration": 384,
    "start_time": "2021-08-13T06:16:18.517Z"
   },
   {
    "duration": 90,
    "start_time": "2021-08-13T06:16:18.918Z"
   },
   {
    "duration": 535,
    "start_time": "2021-08-13T06:16:20.392Z"
   },
   {
    "duration": 573,
    "start_time": "2021-08-13T06:16:21.701Z"
   },
   {
    "duration": 624,
    "start_time": "2021-08-13T06:16:22.917Z"
   },
   {
    "duration": 20,
    "start_time": "2021-08-13T06:16:30.734Z"
   },
   {
    "duration": 42,
    "start_time": "2021-08-13T06:16:31.632Z"
   },
   {
    "duration": 36,
    "start_time": "2021-08-13T06:16:33.428Z"
   },
   {
    "duration": 343,
    "start_time": "2021-08-13T06:16:34.115Z"
   },
   {
    "duration": 481,
    "start_time": "2021-08-13T06:16:35.259Z"
   },
   {
    "duration": 33,
    "start_time": "2021-08-13T06:16:35.746Z"
   },
   {
    "duration": 23,
    "start_time": "2021-08-13T06:16:37.587Z"
   },
   {
    "duration": 15,
    "start_time": "2021-08-13T06:16:37.813Z"
   },
   {
    "duration": 7,
    "start_time": "2021-08-13T06:16:38.350Z"
   },
   {
    "duration": 425,
    "start_time": "2021-08-13T06:16:39.345Z"
   }
  ],
  "kernelspec": {
   "display_name": "Python 3 (ipykernel)",
   "language": "python",
   "name": "python3"
  },
  "language_info": {
   "codemirror_mode": {
    "name": "ipython",
    "version": 3
   },
   "file_extension": ".py",
   "mimetype": "text/x-python",
   "name": "python",
   "nbconvert_exporter": "python",
   "pygments_lexer": "ipython3",
   "version": "3.9.7"
  },
  "toc": {
   "base_numbering": 1,
   "nav_menu": {
    "height": "149px",
    "width": "224px"
   },
   "number_sections": true,
   "sideBar": true,
   "skip_h1_title": true,
   "title_cell": "Table of Contents",
   "title_sidebar": "Contents",
   "toc_cell": false,
   "toc_position": {},
   "toc_section_display": true,
   "toc_window_display": false
  }
 },
 "nbformat": 4,
 "nbformat_minor": 2
}
