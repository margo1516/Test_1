{
 "cells": [
  {
   "cell_type": "markdown",
   "metadata": {},
   "source": [
    "# Исследование надёжности заёмщиков\n",
    "\n",
    "Заказчик — кредитный отдел банка. Нужно разобраться, влияет ли семейное положение и количество детей клиента на факт погашения кредита в срок. Входные данные от банка — статистика о платёжеспособности клиентов.\n",
    "\n"
   ]
  },
  {
   "cell_type": "markdown",
   "metadata": {},
   "source": [
    "Описание данных\n",
    "\n",
    "children — количество детей в семье\n",
    "days_employed — общий трудовой стаж в днях\n",
    "dob_years — возраст клиента в годах\n",
    "education — уровень образования клиента\n",
    "education_id — идентификатор уровня образования\n",
    "family_status — семейное положение\n",
    "family_status_id — идентификатор семейного положения\n",
    "gender — пол клиента\n",
    "income_type — тип занятости\n",
    "debt — имел ли задолженность по возврату кредитов\n",
    "total_income — ежемесячный доход\n",
    "purpose — цель получения кредита\n",
    "Необходимо подготовить данные к анализу: выявить аномалии в данных, произвести чистку данных от артефактов и дубликатов и т.д. Необходимо произвести категоризацию данных и выявить факторы, влияющие на погашение кредита в срок.\n",
    "\n",
    "Шаг 1. Откройте файл с данными и изучите общую информацию.\n",
    "Вывод\n",
    "Шаг 2. Предобработка данных\n",
    "Обработка пропусков\n",
    "Вывод\n",
    "Замена типа данных\n",
    "Вывод\n",
    "Обработка дубликатов\n",
    "Вывод\n",
    "Лемматизация\n",
    "Вывод\n",
    "Категоризация данных\n",
    "Вывод\n",
    "Шаг 3. Ответьте на вопросы\n",
    "Шаг 4. Общий вывод"
   ]
  },
  {
   "cell_type": "markdown",
   "metadata": {},
   "source": [
    "## Шаг 1. Откройте файл с данными и изучите общую информацию"
   ]
  },
  {
   "cell_type": "code",
   "execution_count": 4,
   "metadata": {},
   "outputs": [],
   "source": [
    "import pandas as pd\n",
    "data = pd.read_csv('/datasets/data.csv')\n",
    "data.head()"
   ]
  },
  {
   "cell_type": "code",
   "execution_count": null,
   "metadata": {
    "scrolled": true
   },
   "outputs": [],
   "source": [
    "data.info()"
   ]
  },
  {
   "cell_type": "markdown",
   "metadata": {},
   "source": [
    "Пропущенные значения присутствуют в графах с трудовым стажем и доход в месяц"
   ]
  },
  {
   "cell_type": "markdown",
   "metadata": {},
   "source": [
    "при выгрузке таблицы мы видим, что в столбцах days_employed  и total_income  есть пропуски."
   ]
  },
  {
   "cell_type": "code",
   "execution_count": null,
   "metadata": {},
   "outputs": [],
   "source": [
    "display(data.describe()) # сразу видно аномалии\n",
    "\n",
    "for col in data.columns:\n",
    "    \n",
    "    if data[col].dtype == \"object\":\n",
    "    \n",
    "        print(col)\n",
    "        print(data[col].unique())\n",
    "        print()"
   ]
  },
  {
   "cell_type": "markdown",
   "metadata": {},
   "source": [
    "## Шаг 2. Предобработка данных"
   ]
  },
  {
   "cell_type": "markdown",
   "metadata": {},
   "source": [
    "Обработка пропусков"
   ]
  },
  {
   "cell_type": "markdown",
   "metadata": {},
   "source": [
    "мы видем что  столбце days_employed  и total_income пропущены значения Nan"
   ]
  },
  {
   "cell_type": "code",
   "execution_count": null,
   "metadata": {},
   "outputs": [],
   "source": [
    "data[data['days_employed'].isnull()].head(10)\n",
    "data[data['total_income'].isnull()].head(10)"
   ]
  },
  {
   "cell_type": "markdown",
   "metadata": {},
   "source": [
    "посмотрим количество пропущенных Nan столбце days_employed и total_income"
   ]
  },
  {
   "cell_type": "code",
   "execution_count": null,
   "metadata": {},
   "outputs": [],
   "source": [
    "len(data[data['days_employed'].isna()])"
   ]
  },
  {
   "cell_type": "markdown",
   "metadata": {},
   "source": [
    "всего пропусков 2174"
   ]
  },
  {
   "cell_type": "markdown",
   "metadata": {},
   "source": [
    "группировка по столбцу зарплата"
   ]
  },
  {
   "cell_type": "code",
   "execution_count": null,
   "metadata": {},
   "outputs": [],
   "source": [
    "med_salary = data.groupby('income_type')['total_income'].transform('median')\n"
   ]
  },
  {
   "cell_type": "markdown",
   "metadata": {},
   "source": [
    "заполним пропуски на медианный доход"
   ]
  },
  {
   "cell_type": "code",
   "execution_count": null,
   "metadata": {},
   "outputs": [],
   "source": [
    "data['total_income'] = data['total_income'].fillna(med_salary)\n"
   ]
  },
  {
   "cell_type": "markdown",
   "metadata": {},
   "source": [
    "заменим NAN на среднее значение "
   ]
  },
  {
   "cell_type": "raw",
   "metadata": {},
   "source": [
    "data['total_income'].fillna(med_salary, inplace=True)\n"
   ]
  },
  {
   "cell_type": "code",
   "execution_count": null,
   "metadata": {},
   "outputs": [],
   "source": [
    "data.head(10)"
   ]
  },
  {
   "cell_type": "markdown",
   "metadata": {},
   "source": [
    "просмотрим количество пропусков в таблице"
   ]
  },
  {
   "cell_type": "code",
   "execution_count": null,
   "metadata": {},
   "outputs": [],
   "source": [
    "data['days_employed'].isnull().sum()\n",
    "print(data.head(10))"
   ]
  },
  {
   "cell_type": "code",
   "execution_count": null,
   "metadata": {},
   "outputs": [],
   "source": [
    "print(data['income_type'].unique())"
   ]
  },
  {
   "cell_type": "markdown",
   "metadata": {},
   "source": [
    "создадим отдельный дата для каждого типа занятости "
   ]
  },
  {
   "cell_type": "code",
   "execution_count": null,
   "metadata": {},
   "outputs": [],
   "source": [
    "data_sotrudnik = data[(data['income_type'] == 'сотрудник')]\n",
    "data_penciober = data[(data['income_type'] == 'пенсионер')]\n",
    "data_companion = data[(data['income_type'] == 'компаньон')]\n",
    "data_gosslujaci = data[(data['income_type'] == 'госслужащий')]\n",
    "data_unemployed = data[(data['income_type'] == 'безработный')]\n",
    "data_bisnesmen = data[(data['income_type'] == 'предприниматель')]\n",
    "data_student = data[(data['income_type'] == 'студент')]\n",
    "data_dikret = data[(data['income_type'] == 'в декрете')]\n",
    "\n",
    "print(data_sotrudnik.info())\n",
    "print(data_penciober.info())\n",
    "print(data_companion.info())\n",
    "print(data_gosslujaci.info())\n",
    "print(data_unemployed.info())\n",
    "print(data_bisnesmen.info())\n",
    "print(data_student.info())\n",
    "print(data_dikret.info())\n",
    "\n",
    "\n"
   ]
  },
  {
   "cell_type": "markdown",
   "metadata": {},
   "source": [
    "заполняю всю таблицу, так как пропущенные значения есть в этих столбцах, заменим пропущенные значение на 0 все таблицы"
   ]
  },
  {
   "cell_type": "code",
   "execution_count": null,
   "metadata": {},
   "outputs": [],
   "source": [
    "data_sotrudnik.fillna(0)\n",
    "data_penciober.fillna(0)\n",
    "data_companion.fillna(0)\n",
    "data_gosslujaci.fillna(0)\n",
    "data_unemployed.fillna(0)\n",
    "data_bisnesmen.fillna(0)\n",
    "data_student.fillna(0)\n",
    "data_dikret.fillna(0)\n",
    "\n",
    "print(data.info())\n"
   ]
  },
  {
   "cell_type": "code",
   "execution_count": null,
   "metadata": {},
   "outputs": [],
   "source": [
    "# сформируем сводную табличку с группировкой по типу занятости и измерением медианного дохода\n",
    "group_income = df.groupby('income_type')['total_income'].median()"
   ]
  },
  {
   "cell_type": "code",
   "execution_count": null,
   "metadata": {},
   "outputs": [],
   "source": [
    "# заполним пропуски на медианный доход, основываясь на типе занятости\n",
    "for i in group_income.index:\n",
    "\n",
    "    df.loc[(data['income_type'] == i) & (df['total_income'].isnull()), 'total_income'] = group_income[i]"
   ]
  },
  {
   "cell_type": "code",
   "execution_count": null,
   "metadata": {
    "scrolled": true
   },
   "outputs": [],
   "source": [
    "data.groupby('income_type')['days_employed'].mean() / 365 # смотрю средний стаж по типам занятости, для наглядности поделил на 365, чтобы легче было интерпретировать"
   ]
  },
  {
   "cell_type": "code",
   "execution_count": null,
   "metadata": {},
   "outputs": [],
   "source": [
    "data['days_employed'] = data['days_employed'].apply(lambda x: x / 24 if x > 0 else abs(x))\n",
    "\n",
    "# проверяем\n",
    "\n",
    "data.groupby('income_type')['days_employed'].mean() / 365\n",
    "\n",
    "# картина уже куда лучше, стаж вполне адекватный, теперь мы можем заменить пропуски\n",
    "\n",
    "data['days_employed'] = data['days_employed'].fillna(data.groupby('income_type')['days_employed'].transform('median'))\n",
    "\n"
   ]
  },
  {
   "cell_type": "code",
   "execution_count": null,
   "metadata": {},
   "outputs": [],
   "source": [
    "# проверяем пропуски еще раз\n",
    "\n",
    "data.isnull().sum() # пропусков нет, ура!"
   ]
  },
  {
   "cell_type": "code",
   "execution_count": null,
   "metadata": {},
   "outputs": [],
   "source": [
    "# Возраст как вариант можно заполнить на основе семейного статуса, потому что как правило люди в разводе \\ женатые \\ вдовцы\n",
    "# старше, нежели люди не состоявшие в браке или в гражданском\n",
    "\n",
    "data['dob_years'] = data.groupby('family_status')['dob_years'].transform(lambda x: x.replace(0, int(x.median())))\n",
    "\n",
    "# XNa заменяем просто на наиболее популярный пол\n",
    "\n",
    "data['gender'] = data['gender'].replace('XNA', 'F')"
   ]
  },
  {
   "cell_type": "markdown",
   "metadata": {},
   "source": [
    "заменяем вещественный тип данных на целочисленный. Переведем данные float в int в столбце total_income "
   ]
  },
  {
   "cell_type": "code",
   "execution_count": null,
   "metadata": {},
   "outputs": [],
   "source": [
    "data['days_employed'] = data['days_employed'].astype('int')"
   ]
  },
  {
   "cell_type": "markdown",
   "metadata": {},
   "source": [
    "### Обработка дубликатов"
   ]
  },
  {
   "cell_type": "code",
   "execution_count": null,
   "metadata": {},
   "outputs": [],
   "source": [
    "data.duplicated().sum()"
   ]
  },
  {
   "cell_type": "code",
   "execution_count": null,
   "metadata": {},
   "outputs": [],
   "source": [
    "data['education'] = data['education'].str.lower()\n",
    "data['family_status'] = data['family_status'].str.lower()\n",
    "data['gender'] = data['gender'].str.lower()\n",
    "data['income_type'] = data['income_type'].str.lower()\n",
    "data['purpose'] = data['purpose'].str.lower()"
   ]
  },
  {
   "cell_type": "code",
   "execution_count": null,
   "metadata": {},
   "outputs": [],
   "source": [
    "print(data['education'].unique())\n",
    "print()\n",
    "print('Уникальные значения в графе family_status:')\n",
    "print(data['family_status'].unique())\n",
    "print()\n",
    "print('Уникальные значения в графе gender:')\n",
    "print(data['gender'].unique())\n",
    "print()\n",
    "print('Уникальные значения в графе income_type:')\n",
    "print(data['income_type'].unique())\n",
    "print()\n",
    "print('Уникальные значения в графе purpose:')\n",
    "print(data['purpose'].unique())\n",
    "print()"
   ]
  },
  {
   "cell_type": "code",
   "execution_count": null,
   "metadata": {},
   "outputs": [],
   "source": [
    "data.duplicated().sum()"
   ]
  },
  {
   "cell_type": "code",
   "execution_count": null,
   "metadata": {},
   "outputs": [],
   "source": [
    "data = data.drop_duplicates().reset_index(drop= True)"
   ]
  },
  {
   "cell_type": "markdown",
   "metadata": {},
   "source": [
    "проверим остались ли дубликаты"
   ]
  },
  {
   "cell_type": "code",
   "execution_count": null,
   "metadata": {},
   "outputs": [],
   "source": [
    "data.duplicated().sum()"
   ]
  },
  {
   "cell_type": "markdown",
   "metadata": {},
   "source": [
    "### Лемматизация"
   ]
  },
  {
   "cell_type": "code",
   "execution_count": null,
   "metadata": {},
   "outputs": [],
   "source": [
    "# создадим лемматизацию"
   ]
  },
  {
   "cell_type": "code",
   "execution_count": null,
   "metadata": {},
   "outputs": [],
   "source": [
    "from pymystem3 import Mystem\n",
    "m = Mystem()"
   ]
  },
  {
   "cell_type": "code",
   "execution_count": null,
   "metadata": {},
   "outputs": [],
   "source": [
    "def do_lemma(row):\n",
    "    lemma = m.lemmatize(row)\n",
    "    return lemma"
   ]
  },
  {
   "cell_type": "markdown",
   "metadata": {},
   "source": [
    "дополнительный столбец лемматизации"
   ]
  },
  {
   "cell_type": "code",
   "execution_count": null,
   "metadata": {},
   "outputs": [],
   "source": [
    "data['purpose_lemma'] = data['purpose'].apply(do_lemma)"
   ]
  },
  {
   "cell_type": "code",
   "execution_count": null,
   "metadata": {},
   "outputs": [],
   "source": [
    "созданим страку из уникальных целей "
   ]
  },
  {
   "cell_type": "code",
   "execution_count": null,
   "metadata": {},
   "outputs": [],
   "source": [
    "all_lemmas_list = data['purpose_lemma'].values\n",
    "flat_lemmas_list = []\n",
    "for sublist in all_lemmas_list:\n",
    "   for item in sublist:\n",
    "       flat_lemmas_list.append(item)"
   ]
  },
  {
   "cell_type": "code",
   "execution_count": null,
   "metadata": {},
   "outputs": [],
   "source": [
    "посчитаем самые часто встречаемые слова для цели кредита"
   ]
  },
  {
   "cell_type": "code",
   "execution_count": null,
   "metadata": {},
   "outputs": [],
   "source": [
    "print(all_lemmas_list)\n",
    "from collections import Counter\n",
    "print(Counter(flat_lemmas_list))"
   ]
  },
  {
   "cell_type": "code",
   "execution_count": null,
   "metadata": {},
   "outputs": [],
   "source": [
    "# созданим словарь с новыми словами и впишем объединеные по значению слова "
   ]
  },
  {
   "cell_type": "code",
   "execution_count": null,
   "metadata": {},
   "outputs": [],
   "source": [
    "def dictionary(world, data):\n",
    "    for row in data:\n",
    "        if world == row:\n",
    "            return row\n",
    "dict = []\n",
    "dict.append(dictionary('жилье', flat_lemmas_list))\n",
    "dict.append(dictionary('недвижимость', flat_lemmas_list))\n",
    "dict.append(dictionary('образование', flat_lemmas_list))\n",
    "dict.append(dictionary('автомобиль', flat_lemmas_list))\n",
    "dict.append(dictionary('свадьба', flat_lemmas_list))\n",
    "print(dict)"
   ]
  },
  {
   "cell_type": "code",
   "execution_count": null,
   "metadata": {},
   "outputs": [],
   "source": [
    "#создаем столбец с категориями, которые объединят все значение в одно "
   ]
  },
  {
   "cell_type": "code",
   "execution_count": null,
   "metadata": {},
   "outputs": [],
   "source": [
    "def category(data):\n",
    "    if dict[0] in data:\n",
    "        return dict[0]\n",
    "    elif dict[1] in data:\n",
    "        return dict[1]\n",
    "    elif dict[2] in data:\n",
    "        return dict[2]\n",
    "    elif dict[3] in data:\n",
    "        return dict[3]\n",
    "    else:\n",
    "        return dict[4]\n",
    "    \n",
    "print()\n",
    "data['category_purpose'] = data['purpose_lemma'].apply(category)\n",
    "print(data.loc[:, ['purpose', 'category_purpose']] .head(10))"
   ]
  },
  {
   "cell_type": "code",
   "execution_count": null,
   "metadata": {},
   "outputs": [],
   "source": [
    "data['category_purpose'].value_counts()"
   ]
  },
  {
   "cell_type": "markdown",
   "metadata": {},
   "source": [
    "## Шаг 3. Ответьте на вопросы"
   ]
  },
  {
   "cell_type": "markdown",
   "metadata": {},
   "source": [
    "- Есть ли зависимость между наличием детей и возвратом кредита в срок?"
   ]
  },
  {
   "cell_type": "code",
   "execution_count": null,
   "metadata": {},
   "outputs": [],
   "source": [
    "data_kindred = data[data['children'] != 0]\n",
    "data_freekind = data[data['children'] == 0]\n",
    "#print(df_kindred.info())\n",
    "kindred_debit = data_kindred['debt'].sum() / len(data_kindred)\n",
    "freekind_debit = data_freekind['debt'].sum() / len(data_freekind)\n",
    "print('Процент среди людей с детьми, которые имели задолжности: {:.1%}'.format(kindred_debit))\n",
    "print('Процент среди бездетных, которые имели задолжности: {:.1%}'.format(freekind_debit))"
   ]
  },
  {
   "cell_type": "markdown",
   "metadata": {},
   "source": [
    "ВЫВОД :Казалось бы что люди, которые заводят детей более ответственно относятся к выплате долгов, но на деле оказалось наоборот"
   ]
  },
  {
   "cell_type": "markdown",
   "metadata": {},
   "source": [
    "- Есть ли зависимость между семейным положением и возвратом кредита в срок?"
   ]
  },
  {
   "cell_type": "code",
   "execution_count": null,
   "metadata": {},
   "outputs": [],
   "source": [
    "print('Типы семейного положения и их id соответственно:')\n",
    "print(data['family_status'].unique())\n",
    "print(data['family_status_id'].unique())\n",
    "print()\n",
    "#['женат / замужем' 'гражданский брак' 'вдовец / вдова' 'в разводе'\n",
    "# 'не женат / не замужем']\n",
    "#[0 1 2 3 4]\n",
    "\n",
    "#создаем таблицу data_pivot_family_status где смотрим дожников по категории семейного положения\n",
    "data_pivot_family_status = data.pivot_table(index='family_status', columns='debt', values='family_status_id', aggfunc='count')\n",
    "#считаем процент должников\n",
    "data_pivot_family_status['ratio %'] = (data_pivot_family_status[1] / data_pivot_family_status[0]) * 100\n",
    "data_pivot_family_status['ratio %'] = data_pivot_family_status['ratio %'].astype('int')\n",
    "#cчитаем сумму клиентов каждой категории\n",
    "data_pivot_family_status['sum'] = data_pivot_family_status[1] + data_pivot_family_status[0]\n",
    "\n",
    "\n",
    "print(data_pivot_family_status.loc[:, ['ratio %', 'sum']])\n",
    "print()\n",
    "print('Из таблицы видно что те люди кто никогда не был в официальном браке более склонны к задолжностям:')\n",
    "print('Гражданский брак, не женат / не замужем - 10% с задолжностями')\n",
    "print('В разводе, вдовец / вдова, женат / замужем - 7-8% с задолжностями')"
   ]
  },
  {
   "cell_type": "code",
   "execution_count": null,
   "metadata": {},
   "outputs": [],
   "source": [
    "fam_pivot = data.pivot_table(index = 'family_status', values = 'debt', aggfunc = ['count', 'sum'])\n",
    "fam_pivot.columns = ['all', 'debetors']\n",
    "\n",
    "# считаем % невозвратов, делим должников на общее число клиентов\n",
    "fam_pivot['%'] = (fam_pivot['debetors'] / fam_pivot['all']) * 100\n",
    "\n",
    "display(fam_pivot)"
   ]
  },
  {
   "cell_type": "markdown",
   "metadata": {},
   "source": [
    "- Есть ли зависимость между уровнем дохода и возвратом кредита в срок?"
   ]
  },
  {
   "cell_type": "code",
   "execution_count": null,
   "metadata": {},
   "outputs": [],
   "source": [
    "print('Разобьем доход на уровни: 0, 0-20, 20-50, 50-100, 100-250, 250-500, 500+')\n",
    "\n",
    "def income(data):\n",
    "    if data == 0:\n",
    "        return '0'\n",
    "    elif data <= 20000:\n",
    "        return '0-20'\n",
    "    elif data <= 50000:\n",
    "        return '20-50'\n",
    "    elif data <= 100000:\n",
    "        return '50-100'\n",
    "    elif data <= 250000:\n",
    "        return '100-250'\n",
    "    elif data <= 500000:\n",
    "        return '250-500'\n",
    "    else:\n",
    "        return '500+'\n",
    "#\n",
    "data['category_income'] = data['total_income'].apply(income)\n",
    "print()\n",
    "#print(data.loc[:, ['total_income', 'category_income']] .head(15))\n",
    "#\n",
    "#создаем таблицу data_pivot_income где смотрим дожников по категории заработка\n",
    "data_pivot_income = data.pivot_table(index='category_income', columns='debt', values='total_income', aggfunc='count')\n",
    "#считаем процент должников\n",
    "data_pivot_income['ratio %'] = (data_pivot_income[1] / data_pivot_income[0]) * 100\n",
    "data_pivot_income['ratio %'] = data_pivot_income['ratio %'].astype('int')\n",
    "#cчитаем сумму клиентов каждой категории\n",
    "data_pivot_income['sum'] = data_pivot_income[1] + data_pivot_income[0]\n",
    "\n",
    "print(data_pivot_income.loc[:, ['ratio %', 'sum']])\n",
    "print()\n",
    "print('Из таблицы видно что те люди кто имеет заработок выше среднего более склонны к задолжностям:')\n",
    "print('50-250 тысяч рублей в месяц - 9-10% с задолжностями')\n",
    "print('До 50 и свыше 250 тысяч рублей в месяц - 7% с задолжностями')"
   ]
  },
  {
   "cell_type": "markdown",
   "metadata": {},
   "source": [
    "Из таблицы видно что те люди кто имеет заработок выше среднего более склонны к задолжностям:\n",
    "50-250 тысяч рублей в месяц - 9-10% с задолжностями\n",
    "До 50 и свыше 250 тысяч рублей в месяц - 7% с задолжностями"
   ]
  },
  {
   "cell_type": "code",
   "execution_count": null,
   "metadata": {},
   "outputs": [],
   "source": [
    "data['total_income_category'] = pd.qcut(data['total_income'], 4, labels=[\"низкий\", \"средний\", \"выше среднего\", \"высокий\"])\n",
    "print(data['total_income_category'].value_counts())\n"
   ]
  },
  {
   "cell_type": "code",
   "execution_count": null,
   "metadata": {},
   "outputs": [],
   "source": [
    "import plotly.express as px\n",
    "\n",
    "def pivot(data, index):\n",
    " \n",
    "    pivot = data.pivot_table(index = index, values = 'debt', aggfunc = ['count', 'sum', 'mean']).reset_index()\n",
    "    pivot.columns = [index, 'Кол-во клиентов', 'Кол-во должников', '% невозврата']\n",
    "    display(pivot.sort_values('% невозврата', ascending = False))\n",
    "    \n",
    "    \n",
    "    \n",
    "    fig = px.bar(pivot, x = index, y = '% невозврата', color = '% невозврата', title = '% невозврата по ' + index)\n",
    "    fig.show()\n",
    "    \n",
    "\n",
    "pivot(data, 'total_income_category')"
   ]
  },
  {
   "cell_type": "markdown",
   "metadata": {},
   "source": [
    "Из таблицы видно что те люди кто берет кредит на более мелкие цели более склонны к задолжностям:\n",
    "Автомобиль, образование, свадьба - 9-11% с задолжностями\n",
    "Жилье, недвижимость - 7-8% с задолжностями"
   ]
  },
  {
   "cell_type": "markdown",
   "metadata": {},
   "source": [
    "Как разные цели кредита влияют на его возврат в срок?"
   ]
  },
  {
   "cell_type": "code",
   "execution_count": null,
   "metadata": {},
   "outputs": [],
   "source": [
    "#создаем таблицу data_pivot_income где смотрим дожников по цели кредита\n",
    "data_pivot_purpose = data.pivot_table(index='category_purpose', columns='debt', values='purpose', aggfunc='count')\n",
    "#считаем процент должников\n",
    "data_pivot_purpose['ratio %'] = (data_pivot_purpose[1] / data_pivot_purpose[0]) * 100\n",
    "data_pivot_purpose['ratio %'] = data_pivot_purpose['ratio %'].astype('int')\n",
    "#cчитаем сумму клиентов каждой категории\n",
    "data_pivot_purpose['sum'] = data_pivot_purpose[1] + data_pivot_purpose[0]\n",
    "\n",
    "print(data_pivot_purpose.loc[:, ['ratio %', 'sum']])\n",
    "print()\n",
    "print('Из таблицы видно что те люди кто берет кредит на более мелкие цели более склонны к задолжностям:')\n",
    "print('Автомобиль, образование, свадьба - 9-11% с задолжностями')\n",
    "print('Жилье, недвижимость - 7-8% с задолжностями')\n",
    "\n"
   ]
  },
  {
   "cell_type": "code",
   "execution_count": null,
   "metadata": {},
   "outputs": [],
   "source": [
    "pivot(data, 'category_purpose')"
   ]
  },
  {
   "cell_type": "code",
   "execution_count": null,
   "metadata": {},
   "outputs": [],
   "source": [
    "round(data.groupby('category_purpose')['debt'].mean() * 100, 2)"
   ]
  },
  {
   "cell_type": "markdown",
   "metadata": {},
   "source": [
    "## Шаг 4. Общий вывод"
   ]
  },
  {
   "cell_type": "markdown",
   "metadata": {},
   "source": [
    "Из выше указанных исследований видно что более надежными оказались люди, которые были или состоят в браке, имеют ЗП\n",
    "до 50 и свыше 250 тысяч рублей в месяц и с более масштабной целью кредита, например жилье или недвижимость"
   ]
  },
  {
   "cell_type": "code",
   "execution_count": null,
   "metadata": {},
   "outputs": [],
   "source": []
  },
  {
   "cell_type": "code",
   "execution_count": null,
   "metadata": {},
   "outputs": [],
   "source": []
  }
 ],
 "metadata": {
  "kernelspec": {
   "display_name": "Python 3 (ipykernel)",
   "language": "python",
   "name": "python3"
  },
  "language_info": {
   "codemirror_mode": {
    "name": "ipython",
    "version": 3
   },
   "file_extension": ".py",
   "mimetype": "text/x-python",
   "name": "python",
   "nbconvert_exporter": "python",
   "pygments_lexer": "ipython3",
   "version": "3.9.7"
  },
  "toc": {
   "base_numbering": 1,
   "nav_menu": {},
   "number_sections": true,
   "sideBar": true,
   "skip_h1_title": true,
   "title_cell": "Table of Contents",
   "title_sidebar": "Contents",
   "toc_cell": false,
   "toc_position": {
    "height": "605px",
    "left": "21px",
    "top": "110.176px",
    "width": "170.938px"
   },
   "toc_section_display": true,
   "toc_window_display": true
  }
 },
 "nbformat": 4,
 "nbformat_minor": 2
}
