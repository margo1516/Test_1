{
 "cells": [
  {
   "cell_type": "markdown",
   "metadata": {},
   "source": [
    "<div style=\"border:solid green 2px; padding: 20px\">\n",
    "\n",
    "<b>Привет, Маргарита!</b>\n",
    "\n",
    "Меня зовут Ярослав П. и я буду проверять твой проект. Попробую помочь сделать тебе его еще лучше!\n",
    "\n",
    "Предлагаю общаться на «**ты**». Если это неприемлемо, обязательно напиши мне в комментариях — мы перейдем на «**вы**».\n",
    "\n",
    "Ниже ты найдешь мои комментарии - пожалуйста, не перемещай, не изменяй и не удаляй их. Я буду использовать цветовую разметку:\n",
    "\n",
    "<div class=\"alert alert-danger\">\n",
    "<b>Комментарий ревьюера:</b> Так выделены самые важные замечания. Без их отработки проект не будет принят. </div>\n",
    "\n",
    "<div class=\"alert alert-warning\">\n",
    "<b>Комментарий ревьюера:</b> Так выделены небольшие замечания или советы.\n",
    "\n",
    "</div>\n",
    "\n",
    "<div class=\"alert alert-success\">\n",
    "<b>Комментарий ревьюера:</b> Так я выделяю все остальные комментарии.</div>\n",
    "\n",
    "Давай работать над проектом в диалоге: если ты что-то меняешь в проекте или отвечаешь на мои комменатри — пиши об этом. Мне будет легче отследить изменения, если ты выделишь свои комментарии:\n",
    "<div class=\"alert alert-info\"> <b>Комментарий студента:</b> Например, вот так.</div>\n",
    "\n",
    "Всё это поможет выполнить повторную проверку твоего проекта оперативнее. \n",
    "    \n",
    "    \n",
    "### <span style=\"color:orange\">Обратная связь</span><a class=\"tocSkip\">\n",
    "\n",
    "- Проект отлично выполнен.\n",
    "- В проекте наглядная (но ее можно немного улучшить, оставил пару комментариев) визуализация и верные выводы по графикам.\n",
    "- Пожалуйста, поработай над оформлением графиков - это важная часть любого аналитического отчета.\n",
    "- Также часть кода, к сожалению, не работает. Проверь, пожалуйста, в чем дело.\n",
    "    \n",
    "### <span style=\"color:orange\">Обратная связь (v2)</span><a class=\"tocSkip\">\n",
    "\n",
    "- Оставил пару примеров по графикам :)\n",
    "    \n",
    "### <span style=\"color:orange\">Обратная связь (v3)</span><a class=\"tocSkip\">\n",
    "\n",
    "- Оставил пару еще пару комментариев и примеров в продолжение нашего разговора :)\n",
    "    \n",
    "### <span style=\"color:orange\">Обратная связь (v4)</span><a class=\"tocSkip\">\n",
    "\n",
    "- Проект отлично доработан, спасибо за уделенное время!\n",
    "    \n",
    "Проект принят, успехов в дальнейшем обучении!"
   ]
  },
  {
   "cell_type": "markdown",
   "metadata": {},
   "source": [
    "# Часть 1 \n",
    "# Парсинг Данных"
   ]
  },
  {
   "cell_type": "code",
   "execution_count": null,
   "metadata": {},
   "outputs": [],
   "source": [
    "# Напишите парсер для сбора с сайта данных о 11 крупнейших фестивалях 2018 года. \n",
    "# Сохраните данные в датафрейм festivals и выведите на экран.\n",
    "import requests  \n",
    "from bs4 import (\n",
    "    BeautifulSoup, \n",
    ") \n",
    "URL = 'https://code.s3.yandex.net/learning-materials/data-analyst/festival_news/index.html'\n",
    "req = requests.get(URL)\n",
    "# print(req)\n",
    "soup = BeautifulSoup(req.text, 'lxml')\n",
    "table = soup.find('table')\n",
    "# применим метод find к тегу table\n",
    "\n",
    "heading_table = [] \n",
    "for row in table.find_all('th'): \n",
    "        heading_table.append(row.text) \n",
    "\n",
    "content=[] \n",
    "for row in table.find_all('tr'): \n",
    "\n",
    "    if not row.find_all('th'): \n",
    "            content.append([element.text for element in row.find_all('td')])\n",
    "\n",
    "import pandas as pd\n",
    "festivals = pd.DataFrame(content, columns=heading_table)\n",
    "print(festivals)"
   ]
  },
  {
   "cell_type": "markdown",
   "metadata": {},
   "source": [
    "## Работа с базой данных"
   ]
  },
  {
   "cell_type": "code",
   "execution_count": null,
   "metadata": {},
   "outputs": [],
   "source": [
    "# Изучите таблицу flights и подсчитайте количество вылетов (flight_id) \n",
    "# из каждого аэропорта вылета (departure_airport). Назовите переменную cnt_flights и \n",
    "# выведите её вместе со столбцом departure_airport — сначала departure_airport, потом cnt_flights. \n",
    "# Результат отсортируйте в порядке убывания количества вылетов.\n",
    "SELECT \n",
    "   departure_airport,\n",
    "   COUNT(flight_id) AS cnt_flights\n",
    "    \n",
    "FROM     \n",
    "   flights\n",
    "\n",
    "GROUP BY\n",
    "   departure_airport\n",
    "ORDER BY\n",
    "    cnt_flights DESC;"
   ]
  },
  {
   "cell_type": "code",
   "execution_count": null,
   "metadata": {},
   "outputs": [],
   "source": [
    "# Найдите количество рейсов на каждой модели самолёта с вылетом в сентябре 2018 года. \n",
    "# Назовите получившийся столбец flights_amount и выведите его, также выведите столбец model\n",
    "--SELECT\n",
    "--    aircrafts.model AS model,\n",
    "--    COUNT(flights.flight_id) AS flights_amount\n",
    "--FROM\n",
    "--    flights\n",
    "--INNER JOIN aircrafts ON aircrafts.aircraft_code = flights.aircraft_code\n",
    "--WHERE\n",
    "--    CAST(departure_time AS date) < '2018-10-01' AND\n",
    "--    CAST(departure_time AS date) > '2018-08-01'\n",
    "--GROUP BY \n",
    "--    model;\n",
    "SELECT\n",
    "    aircrafts.model AS model,\n",
    "    COUNT(flights.flight_id) AS flights_amount\n",
    "FROM\n",
    "    flights\n",
    "LEFT JOIN\n",
    "    aircrafts ON aircrafts.aircraft_code = flights.aircraft_code\n",
    "WHERE\n",
    "    CAST(departure_time AS date) < '2018-10-01' AND\n",
    "    CAST(departure_time AS date) > '2018-08-31'\n",
    "GROUP BY\n",
    "    model"
   ]
  },
  {
   "cell_type": "code",
   "execution_count": null,
   "metadata": {},
   "outputs": [],
   "source": [
    "# Посчитайте количество рейсов по всем моделям самолётов Boeing, Airbus и другим ('other') в сентябре. Типы моделей поместите \n",
    "# в столбец type_aircraft, а количество рейсов — во flights_amount. Выведите их на экран\n",
    "SELECT\n",
    "   COUNT(flights.flight_id) AS flights_amount,\n",
    "   CASE WHEN model LIKE 'Airbus%' THEN 'Airbus'\n",
    "        WHEN model LIKE 'Boeing%' THEN 'Boeing'\n",
    "        ELSE 'other'\n",
    "        END AS type_aircraft\n",
    "FROM\n",
    "   flights\n",
    "INNER JOIN\n",
    "    aircrafts ON aircrafts.aircraft_code = flights.aircraft_code\n",
    "WHERE\n",
    "    CAST(departure_time AS date) BETWEEN '2018-09-01' AND '2018-09-30'\n",
    "GROUP BY\n",
    "    type_aircraft"
   ]
  },
  {
   "cell_type": "code",
   "execution_count": null,
   "metadata": {},
   "outputs": [],
   "source": [
    "# Посчитайте среднее количество прибывающих рейсов в день для каждого города за август 2018 года. \n",
    "# Назовите получившееся поле average_flights, вместе с ним выведите столбец city.\n",
    "SELECT\n",
    "    SUBQ.city,\n",
    "    AVG(SUBQ.count_flights) as average_flights \n",
    "FROM\n",
    "    (SELECT\n",
    "        airports.city,\n",
    "        EXTRACT(day from flights.arrival_time) as day_number,\n",
    "        COUNT(flights.flight_id) as count_flights\n",
    "    FROM\n",
    "        flights\n",
    "    LEFT JOIN\n",
    "        airports ON airports.airport_code = flights.arrival_airport\n",
    "    WHERE\n",
    "        (flights.arrival_time :: date) BETWEEN '2018-08-01' AND '2018-08-31'\n",
    "    GROUP BY\n",
    "        airports.city, day_number) AS SUBQ\n",
    "GROUP BY\n",
    "    SUBQ.city;"
   ]
  },
  {
   "cell_type": "code",
   "execution_count": null,
   "metadata": {},
   "outputs": [],
   "source": [
    "# Установите фестивали, которые проходили с 23 июля по 30 сентября 2018 года в Москве, и номер недели, в которую они проходили. \n",
    "# Выведите название фестиваля festival_name и номер недели festival_week\n",
    "SELECT\n",
    "    festival_name,\n",
    "    EXTRACT(WEEK FROM CAST(festival_date AS date)) AS festival_week\n",
    "FROM\n",
    "    festivals\n",
    "WHERE\n",
    "    festival_city = 'Москва' AND festival_date BETWEEN  '2018-07-23' AND '2018-09-30'"
   ]
  },
  {
   "cell_type": "code",
   "execution_count": null,
   "metadata": {},
   "outputs": [],
   "source": [
    "# Для каждой недели с 23 июля по 30 сентября 2018 года посчитайте количество\n",
    "# билетов, купленных на рейсы в Москву (номер недели week_number и количество билетов ticket_amount). \n",
    "# Получите таблицу, в которой будет номер недели; информация о количестве купленных за неделю билетов; \n",
    "# номер недели ещё раз, если в эту неделю проходил фестиваль, \n",
    "# и nan, если не проходил; а также название фестиваля festival_name\n",
    "SELECT \n",
    "    T.week_number,\n",
    "    T.ticket_amount,\n",
    "    T.festival_week,\n",
    "    T.festival_name\n",
    "FROM \n",
    "(\n",
    "(SELECT\n",
    "        EXTRACT (week FROM flights.departure_time) AS week_number,\n",
    "        COUNT(ticket_flights.ticket_no) AS ticket_amount\n",
    "    FROM\n",
    "        airports\n",
    "    INNER JOIN\n",
    "        flights\n",
    "    ON\n",
    "        airports.airport_code = flights.arrival_airport\n",
    "    INNER JOIN\n",
    "        ticket_flights\n",
    "    ON\n",
    "        flights.flight_id = ticket_flights.flight_id\n",
    "    WHERE\n",
    "        airports.city = 'Москва'\n",
    "        AND CAST(flights.departure_time AS date) BETWEEN '2018-07-23' AND '2018-09-30'\n",
    "    GROUP BY\n",
    "        week_number\n",
    ") t\n",
    "LEFT JOIN \n",
    "(SELECT\n",
    "        festival_name,\n",
    "        EXTRACT (week FROM festivals.festival_date) AS festival_week\n",
    "    FROM\n",
    "        festivals\n",
    "    WHERE\n",
    "        festival_city = 'Москва'\n",
    "      AND CAST(festivals.festival_date AS date) BETWEEN '2018-07-23' AND '2018-09-30'\n",
    ") t2 \n",
    "ON \n",
    "    t.week_number = t2.festival_week\n",
    ") AS T"
   ]
  },
  {
   "cell_type": "markdown",
   "metadata": {},
   "source": [
    "# Аналитика в авиакомпании"
   ]
  },
  {
   "cell_type": "markdown",
   "metadata": {},
   "source": [
    "Получены файлы, в которых содержатся результаты запросов из предыдущих этапов проекта\n",
    "\n",
    "/datasets/query_1.csv — результат первого запроса. В нём содержится информация о:\n",
    " model — модели самолета\n",
    " flights_amount — количество рейсов для каждой модели самолетов model в сентябре 2018 года\n",
    "\n",
    "/datasets/query_3.csv — результат третьего запроса. В нём содержится информация о:\n",
    " city — городах\n",
    " average_flights — среднем количестве рейсов, прибывающих в город city за день в августе 2018 года\n",
    "\n"
   ]
  },
  {
   "cell_type": "markdown",
   "metadata": {},
   "source": [
    "Для этих двух наборов данных нужно:  \n",
    "• импортировать файлы;  \n",
    "• изучить данные в них;  \n",
    "• проверить типы данных на корректность;\n",
    "• выбрать топ-10 городов по количеству рейсов;\n",
    "• построить графики: модели самолетов и количество рейсов, города и количество рейсов, топ-10 городов и количество рейсов;\n",
    "•с делать выводы по каждому из графиков, пояснить результат"
   ]
  },
  {
   "cell_type": "markdown",
   "metadata": {},
   "source": [
    "## Изучим данные"
   ]
  },
  {
   "cell_type": "code",
   "execution_count": 1,
   "metadata": {},
   "outputs": [],
   "source": [
    "# откроем нужные библиотеки \n",
    "import pandas as pd\n",
    "import matplotlib\n",
    "import matplotlib.pyplot as plt \n",
    "import seaborn as sns"
   ]
  },
  {
   "cell_type": "code",
   "execution_count": 2,
   "metadata": {},
   "outputs": [
    {
     "name": "stdout",
     "output_type": "stream",
     "text": [
      "<class 'pandas.core.frame.DataFrame'>\n",
      "RangeIndex: 8 entries, 0 to 7\n",
      "Data columns (total 2 columns):\n",
      "model             8 non-null object\n",
      "flights_amount    8 non-null int64\n",
      "dtypes: int64(1), object(1)\n",
      "memory usage: 256.0+ bytes\n"
     ]
    }
   ],
   "source": [
    "query_1 = pd.read_csv('/datasets/query_1.csv')\n",
    "query_1.info()\n"
   ]
  },
  {
   "cell_type": "code",
   "execution_count": 3,
   "metadata": {},
   "outputs": [
    {
     "data": {
      "text/html": [
       "<div>\n",
       "<style scoped>\n",
       "    .dataframe tbody tr th:only-of-type {\n",
       "        vertical-align: middle;\n",
       "    }\n",
       "\n",
       "    .dataframe tbody tr th {\n",
       "        vertical-align: top;\n",
       "    }\n",
       "\n",
       "    .dataframe thead th {\n",
       "        text-align: right;\n",
       "    }\n",
       "</style>\n",
       "<table border=\"1\" class=\"dataframe\">\n",
       "  <thead>\n",
       "    <tr style=\"text-align: right;\">\n",
       "      <th></th>\n",
       "      <th>model</th>\n",
       "      <th>flights_amount</th>\n",
       "    </tr>\n",
       "  </thead>\n",
       "  <tbody>\n",
       "    <tr>\n",
       "      <td>0</td>\n",
       "      <td>Airbus A319-100</td>\n",
       "      <td>607</td>\n",
       "    </tr>\n",
       "    <tr>\n",
       "      <td>1</td>\n",
       "      <td>Airbus A321-200</td>\n",
       "      <td>960</td>\n",
       "    </tr>\n",
       "    <tr>\n",
       "      <td>2</td>\n",
       "      <td>Boeing 737-300</td>\n",
       "      <td>630</td>\n",
       "    </tr>\n",
       "    <tr>\n",
       "      <td>3</td>\n",
       "      <td>Boeing 767-300</td>\n",
       "      <td>600</td>\n",
       "    </tr>\n",
       "    <tr>\n",
       "      <td>4</td>\n",
       "      <td>Boeing 777-300</td>\n",
       "      <td>300</td>\n",
       "    </tr>\n",
       "    <tr>\n",
       "      <td>5</td>\n",
       "      <td>Bombardier CRJ-200</td>\n",
       "      <td>4446</td>\n",
       "    </tr>\n",
       "    <tr>\n",
       "      <td>6</td>\n",
       "      <td>Cessna 208 Caravan</td>\n",
       "      <td>4557</td>\n",
       "    </tr>\n",
       "    <tr>\n",
       "      <td>7</td>\n",
       "      <td>Sukhoi SuperJet-100</td>\n",
       "      <td>4185</td>\n",
       "    </tr>\n",
       "  </tbody>\n",
       "</table>\n",
       "</div>"
      ],
      "text/plain": [
       "                 model  flights_amount\n",
       "0      Airbus A319-100             607\n",
       "1      Airbus A321-200             960\n",
       "2       Boeing 737-300             630\n",
       "3       Boeing 767-300             600\n",
       "4       Boeing 777-300             300\n",
       "5   Bombardier CRJ-200            4446\n",
       "6   Cessna 208 Caravan            4557\n",
       "7  Sukhoi SuperJet-100            4185"
      ]
     },
     "execution_count": 3,
     "metadata": {},
     "output_type": "execute_result"
    }
   ],
   "source": [
    "query_1"
   ]
  },
  {
   "cell_type": "code",
   "execution_count": 4,
   "metadata": {},
   "outputs": [
    {
     "data": {
      "text/html": [
       "<div>\n",
       "<style scoped>\n",
       "    .dataframe tbody tr th:only-of-type {\n",
       "        vertical-align: middle;\n",
       "    }\n",
       "\n",
       "    .dataframe tbody tr th {\n",
       "        vertical-align: top;\n",
       "    }\n",
       "\n",
       "    .dataframe thead th {\n",
       "        text-align: right;\n",
       "    }\n",
       "</style>\n",
       "<table border=\"1\" class=\"dataframe\">\n",
       "  <thead>\n",
       "    <tr style=\"text-align: right;\">\n",
       "      <th></th>\n",
       "      <th>flights_amount</th>\n",
       "    </tr>\n",
       "  </thead>\n",
       "  <tbody>\n",
       "    <tr>\n",
       "      <td>count</td>\n",
       "      <td>8.000000</td>\n",
       "    </tr>\n",
       "    <tr>\n",
       "      <td>mean</td>\n",
       "      <td>2035.625000</td>\n",
       "    </tr>\n",
       "    <tr>\n",
       "      <td>std</td>\n",
       "      <td>1965.203947</td>\n",
       "    </tr>\n",
       "    <tr>\n",
       "      <td>min</td>\n",
       "      <td>300.000000</td>\n",
       "    </tr>\n",
       "    <tr>\n",
       "      <td>25%</td>\n",
       "      <td>605.250000</td>\n",
       "    </tr>\n",
       "    <tr>\n",
       "      <td>50%</td>\n",
       "      <td>795.000000</td>\n",
       "    </tr>\n",
       "    <tr>\n",
       "      <td>75%</td>\n",
       "      <td>4250.250000</td>\n",
       "    </tr>\n",
       "    <tr>\n",
       "      <td>max</td>\n",
       "      <td>4557.000000</td>\n",
       "    </tr>\n",
       "  </tbody>\n",
       "</table>\n",
       "</div>"
      ],
      "text/plain": [
       "       flights_amount\n",
       "count        8.000000\n",
       "mean      2035.625000\n",
       "std       1965.203947\n",
       "min        300.000000\n",
       "25%        605.250000\n",
       "50%        795.000000\n",
       "75%       4250.250000\n",
       "max       4557.000000"
      ]
     },
     "execution_count": 4,
     "metadata": {},
     "output_type": "execute_result"
    }
   ],
   "source": [
    "query_1.describe()"
   ]
  },
  {
   "cell_type": "code",
   "execution_count": 5,
   "metadata": {},
   "outputs": [
    {
     "name": "stdout",
     "output_type": "stream",
     "text": [
      "<class 'pandas.core.frame.DataFrame'>\n",
      "RangeIndex: 101 entries, 0 to 100\n",
      "Data columns (total 2 columns):\n",
      "city               101 non-null object\n",
      "average_flights    101 non-null float64\n",
      "dtypes: float64(1), object(1)\n",
      "memory usage: 1.7+ KB\n"
     ]
    }
   ],
   "source": [
    "query_3 = pd.read_csv('/datasets/query_3.csv')\n",
    "query_3.info()"
   ]
  },
  {
   "cell_type": "code",
   "execution_count": 6,
   "metadata": {},
   "outputs": [
    {
     "data": {
      "text/html": [
       "<div>\n",
       "<style scoped>\n",
       "    .dataframe tbody tr th:only-of-type {\n",
       "        vertical-align: middle;\n",
       "    }\n",
       "\n",
       "    .dataframe tbody tr th {\n",
       "        vertical-align: top;\n",
       "    }\n",
       "\n",
       "    .dataframe thead th {\n",
       "        text-align: right;\n",
       "    }\n",
       "</style>\n",
       "<table border=\"1\" class=\"dataframe\">\n",
       "  <thead>\n",
       "    <tr style=\"text-align: right;\">\n",
       "      <th></th>\n",
       "      <th>city</th>\n",
       "      <th>average_flights</th>\n",
       "    </tr>\n",
       "  </thead>\n",
       "  <tbody>\n",
       "    <tr>\n",
       "      <td>0</td>\n",
       "      <td>Абакан</td>\n",
       "      <td>3.870968</td>\n",
       "    </tr>\n",
       "    <tr>\n",
       "      <td>1</td>\n",
       "      <td>Анадырь</td>\n",
       "      <td>1.000000</td>\n",
       "    </tr>\n",
       "    <tr>\n",
       "      <td>2</td>\n",
       "      <td>Анапа</td>\n",
       "      <td>2.161290</td>\n",
       "    </tr>\n",
       "    <tr>\n",
       "      <td>3</td>\n",
       "      <td>Архангельск</td>\n",
       "      <td>5.354839</td>\n",
       "    </tr>\n",
       "    <tr>\n",
       "      <td>4</td>\n",
       "      <td>Астрахань</td>\n",
       "      <td>2.451613</td>\n",
       "    </tr>\n",
       "    <tr>\n",
       "      <td>...</td>\n",
       "      <td>...</td>\n",
       "      <td>...</td>\n",
       "    </tr>\n",
       "    <tr>\n",
       "      <td>96</td>\n",
       "      <td>Чита</td>\n",
       "      <td>1.580645</td>\n",
       "    </tr>\n",
       "    <tr>\n",
       "      <td>97</td>\n",
       "      <td>Элиста</td>\n",
       "      <td>4.870968</td>\n",
       "    </tr>\n",
       "    <tr>\n",
       "      <td>98</td>\n",
       "      <td>Южно-Сахалинск</td>\n",
       "      <td>4.290323</td>\n",
       "    </tr>\n",
       "    <tr>\n",
       "      <td>99</td>\n",
       "      <td>Якутск</td>\n",
       "      <td>2.741935</td>\n",
       "    </tr>\n",
       "    <tr>\n",
       "      <td>100</td>\n",
       "      <td>Ярославль</td>\n",
       "      <td>1.322581</td>\n",
       "    </tr>\n",
       "  </tbody>\n",
       "</table>\n",
       "<p>101 rows × 2 columns</p>\n",
       "</div>"
      ],
      "text/plain": [
       "               city  average_flights\n",
       "0            Абакан         3.870968\n",
       "1           Анадырь         1.000000\n",
       "2             Анапа         2.161290\n",
       "3       Архангельск         5.354839\n",
       "4         Астрахань         2.451613\n",
       "..              ...              ...\n",
       "96             Чита         1.580645\n",
       "97           Элиста         4.870968\n",
       "98   Южно-Сахалинск         4.290323\n",
       "99           Якутск         2.741935\n",
       "100       Ярославль         1.322581\n",
       "\n",
       "[101 rows x 2 columns]"
      ]
     },
     "execution_count": 6,
     "metadata": {},
     "output_type": "execute_result"
    }
   ],
   "source": [
    "query_3 "
   ]
  },
  {
   "cell_type": "markdown",
   "metadata": {},
   "source": [
    "переведем average_flights в должный формат int"
   ]
  },
  {
   "cell_type": "code",
   "execution_count": 7,
   "metadata": {},
   "outputs": [],
   "source": [
    "# query_3['average_flights'] = query_3['average_flights'].astype('int')\n",
    "# убираем)"
   ]
  },
  {
   "cell_type": "code",
   "execution_count": 8,
   "metadata": {},
   "outputs": [],
   "source": [
    "# query_3"
   ]
  },
  {
   "cell_type": "code",
   "execution_count": 9,
   "metadata": {},
   "outputs": [
    {
     "data": {
      "text/html": [
       "<div>\n",
       "<style scoped>\n",
       "    .dataframe tbody tr th:only-of-type {\n",
       "        vertical-align: middle;\n",
       "    }\n",
       "\n",
       "    .dataframe tbody tr th {\n",
       "        vertical-align: top;\n",
       "    }\n",
       "\n",
       "    .dataframe thead th {\n",
       "        text-align: right;\n",
       "    }\n",
       "</style>\n",
       "<table border=\"1\" class=\"dataframe\">\n",
       "  <thead>\n",
       "    <tr style=\"text-align: right;\">\n",
       "      <th></th>\n",
       "      <th>average_flights</th>\n",
       "    </tr>\n",
       "  </thead>\n",
       "  <tbody>\n",
       "    <tr>\n",
       "      <td>count</td>\n",
       "      <td>101.000000</td>\n",
       "    </tr>\n",
       "    <tr>\n",
       "      <td>mean</td>\n",
       "      <td>5.494189</td>\n",
       "    </tr>\n",
       "    <tr>\n",
       "      <td>std</td>\n",
       "      <td>13.119790</td>\n",
       "    </tr>\n",
       "    <tr>\n",
       "      <td>min</td>\n",
       "      <td>1.000000</td>\n",
       "    </tr>\n",
       "    <tr>\n",
       "      <td>25%</td>\n",
       "      <td>2.000000</td>\n",
       "    </tr>\n",
       "    <tr>\n",
       "      <td>50%</td>\n",
       "      <td>3.000000</td>\n",
       "    </tr>\n",
       "    <tr>\n",
       "      <td>75%</td>\n",
       "      <td>5.870968</td>\n",
       "    </tr>\n",
       "    <tr>\n",
       "      <td>max</td>\n",
       "      <td>129.774194</td>\n",
       "    </tr>\n",
       "  </tbody>\n",
       "</table>\n",
       "</div>"
      ],
      "text/plain": [
       "       average_flights\n",
       "count       101.000000\n",
       "mean          5.494189\n",
       "std          13.119790\n",
       "min           1.000000\n",
       "25%           2.000000\n",
       "50%           3.000000\n",
       "75%           5.870968\n",
       "max         129.774194"
      ]
     },
     "execution_count": 9,
     "metadata": {},
     "output_type": "execute_result"
    }
   ],
   "source": [
    "query_3.describe()"
   ]
  },
  {
   "cell_type": "code",
   "execution_count": 10,
   "metadata": {},
   "outputs": [
    {
     "data": {
      "text/plain": [
       "0"
      ]
     },
     "execution_count": 10,
     "metadata": {},
     "output_type": "execute_result"
    }
   ],
   "source": [
    "# Проверили на дубликаты, их нет\n",
    "query_3.duplicated().sum()"
   ]
  },
  {
   "cell_type": "markdown",
   "metadata": {},
   "source": [
    "Таблице в порядке, для расчета ам ни чего не мешает.\n"
   ]
  },
  {
   "cell_type": "markdown",
   "metadata": {},
   "source": [
    "найдем top_10"
   ]
  },
  {
   "cell_type": "code",
   "execution_count": 11,
   "metadata": {},
   "outputs": [
    {
     "data": {
      "text/html": [
       "<div>\n",
       "<style scoped>\n",
       "    .dataframe tbody tr th:only-of-type {\n",
       "        vertical-align: middle;\n",
       "    }\n",
       "\n",
       "    .dataframe tbody tr th {\n",
       "        vertical-align: top;\n",
       "    }\n",
       "\n",
       "    .dataframe thead th {\n",
       "        text-align: right;\n",
       "    }\n",
       "</style>\n",
       "<table border=\"1\" class=\"dataframe\">\n",
       "  <thead>\n",
       "    <tr style=\"text-align: right;\">\n",
       "      <th></th>\n",
       "      <th>city</th>\n",
       "      <th>average_flights</th>\n",
       "    </tr>\n",
       "  </thead>\n",
       "  <tbody>\n",
       "    <tr>\n",
       "      <td>43</td>\n",
       "      <td>Москва</td>\n",
       "      <td>129.774194</td>\n",
       "    </tr>\n",
       "    <tr>\n",
       "      <td>70</td>\n",
       "      <td>Санкт-Петербург</td>\n",
       "      <td>31.161290</td>\n",
       "    </tr>\n",
       "    <tr>\n",
       "      <td>54</td>\n",
       "      <td>Новосибирск</td>\n",
       "      <td>17.322581</td>\n",
       "    </tr>\n",
       "    <tr>\n",
       "      <td>33</td>\n",
       "      <td>Красноярск</td>\n",
       "      <td>11.580645</td>\n",
       "    </tr>\n",
       "    <tr>\n",
       "      <td>20</td>\n",
       "      <td>Екатеринбург</td>\n",
       "      <td>11.322581</td>\n",
       "    </tr>\n",
       "    <tr>\n",
       "      <td>67</td>\n",
       "      <td>Ростов-на-Дону</td>\n",
       "      <td>10.193548</td>\n",
       "    </tr>\n",
       "    <tr>\n",
       "      <td>63</td>\n",
       "      <td>Пермь</td>\n",
       "      <td>10.129032</td>\n",
       "    </tr>\n",
       "    <tr>\n",
       "      <td>10</td>\n",
       "      <td>Брянск</td>\n",
       "      <td>10.000000</td>\n",
       "    </tr>\n",
       "    <tr>\n",
       "      <td>74</td>\n",
       "      <td>Сочи</td>\n",
       "      <td>9.612903</td>\n",
       "    </tr>\n",
       "    <tr>\n",
       "      <td>84</td>\n",
       "      <td>Ульяновск</td>\n",
       "      <td>9.580645</td>\n",
       "    </tr>\n",
       "  </tbody>\n",
       "</table>\n",
       "</div>"
      ],
      "text/plain": [
       "               city  average_flights\n",
       "43           Москва       129.774194\n",
       "70  Санкт-Петербург        31.161290\n",
       "54      Новосибирск        17.322581\n",
       "33       Красноярск        11.580645\n",
       "20     Екатеринбург        11.322581\n",
       "67   Ростов-на-Дону        10.193548\n",
       "63            Пермь        10.129032\n",
       "10           Брянск        10.000000\n",
       "74             Сочи         9.612903\n",
       "84        Ульяновск         9.580645"
      ]
     },
     "execution_count": 11,
     "metadata": {},
     "output_type": "execute_result"
    }
   ],
   "source": [
    "top10_cities=query_3.sort_values(by='average_flights', ascending=False).head(10)\n",
    "top10_cities"
   ]
  },
  {
   "cell_type": "markdown",
   "metadata": {},
   "source": [
    "## Анализ данных"
   ]
  },
  {
   "cell_type": "markdown",
   "metadata": {},
   "source": [
    "Найдем наиболее популярные модели самолетов, построив график количества рейсов по моделям самолета"
   ]
  },
  {
   "cell_type": "code",
   "execution_count": 12,
   "metadata": {},
   "outputs": [
    {
     "data": {
      "image/png": "[encoded data removed]",
      "text/plain": [
       "<Figure size 1152x288 with 1 Axes>"
      ]
     },
     "metadata": {
      "needs_background": "light"
     },
     "output_type": "display_data"
    }
   ],
   "source": [
    "# Строим график количества рейсов по моделям самолета\n",
    "plot_one = query_1.sort_values(by = 'flights_amount', ascending = False)\n",
    "plot_one.plot(x='model', grid=True, kind='bar', figsize=(16, 4), title='График количества рейсов по моделям самолета')\n",
    "plt.show()"
   ]
  },
  {
   "cell_type": "code",
   "execution_count": 13,
   "metadata": {},
   "outputs": [
    {
     "data": {
      "image/png": "[encoded data removed]",
      "text/plain": [
       "<Figure size 576x288 with 1 Axes>"
      ]
     },
     "metadata": {
      "needs_background": "light"
     },
     "output_type": "display_data"
    }
   ],
   "source": [
    "# Строим график количества рейсов по моделям самолета\n",
    "plot_one = query_1.sort_values(by = 'flights_amount', ascending = True)\n",
    "plot_one.plot(x='model', grid=True, kind='barh', figsize=(8, 4), legend=False)\n",
    "plt.title('График количества рейсов по моделям самолета')\n",
    "plt.xlabel('Количество рейсов')\n",
    "plt.ylabel('Модель самолета')\n",
    "plt.show()"
   ]
  },
  {
   "cell_type": "code",
   "execution_count": 14,
   "metadata": {},
   "outputs": [
    {
     "data": {
      "image/png": "[encoded data removed]",
      "text/plain": [
       "<Figure size 720x432 with 1 Axes>"
      ]
     },
     "metadata": {
      "needs_background": "light"
     },
     "output_type": "display_data"
    }
   ],
   "source": [
    "plt.figure(figsize=(10, 6))\n",
    "sns.barplot(x='flights_amount', y='model', data=query_1.sort_values(by = 'flights_amount', ascending = False))\n",
    "plt.title('График количества рейсов по моделям самолета')\n",
    "plt.xlabel('Количество рейсов')\n",
    "plt.ylabel('Модель самолета');"
   ]
  },
  {
   "cell_type": "markdown",
   "metadata": {},
   "source": [
    "По графику видно, что оснавную часть рейсов выполняют самалеты моделей, Cessna 208 Caravan, Bombardier CRJ-200 и Sukhoi SuperJet-100."
   ]
  },
  {
   "cell_type": "markdown",
   "metadata": {},
   "source": [
    "Построим график количества рейсов по основным городам."
   ]
  },
  {
   "cell_type": "code",
   "execution_count": 15,
   "metadata": {},
   "outputs": [],
   "source": [
    "# Найдем количество рейсов из третьего запроса и удалим столбец со средним кол-ом рейсов\n",
    "query_3['flights_amount'] = query_3['average_flights'] * 31\n",
    "query_3['flights_amount'] = query_3['flights_amount'].astype('int', errors = 'ignore')\n",
    "del query_3['average_flights']"
   ]
  },
  {
   "cell_type": "code",
   "execution_count": 16,
   "metadata": {},
   "outputs": [
    {
     "data": {
      "text/plain": [
       "<matplotlib.axes._subplots.AxesSubplot at 0x7f131b820c10>"
      ]
     },
     "execution_count": 16,
     "metadata": {},
     "output_type": "execute_result"
    },
    {
     "data": {
      "image/png": "[encoded data removed]",
      "text/plain": [
       "<Figure size 1152x288 with 1 Axes>"
      ]
     },
     "metadata": {
      "needs_background": "light"
     },
     "output_type": "display_data"
    }
   ],
   "source": [
    "# Построим график количества рейсов по основным городам\n",
    "plot_two = query_3.sort_values(by='flights_amount', ascending=False).head(60)\n",
    "plot_two.plot(x='city', grid=True, kind='bar', figsize=(16, 4), title='График количества рейсов по городам')"
   ]
  },
  {
   "cell_type": "code",
   "execution_count": 18,
   "metadata": {},
   "outputs": [
    {
     "data": {
      "image/png": "[encoded data removed]",
      "text/plain": [
       "<Figure size 576x1296 with 1 Axes>"
      ]
     },
     "metadata": {
      "needs_background": "light"
     },
     "output_type": "display_data"
    }
   ],
   "source": [
    "plot_two = query_3.sort_values(by = 'flights_amount', ascending = True)\n",
    "plot_two.plot(x='city', grid=True, kind='barh', figsize=(8, 18), legend=False)\n",
    "plt.title('График количества рейсов по городам')\n",
    "plt.xlabel('Количество рейсов')\n",
    "plt.ylabel('Города')\n",
    "plt.show()"
   ]
  },
  {
   "cell_type": "markdown",
   "metadata": {},
   "source": [
    "Видем, что большая часть полетов совершается в больших городах Москва, Санкт-Петербург."
   ]
  },
  {
   "cell_type": "code",
   "execution_count": 19,
   "metadata": {},
   "outputs": [
    {
     "data": {
      "text/plain": [
       "<matplotlib.axes._subplots.AxesSubplot at 0x7f131b93b8d0>"
      ]
     },
     "execution_count": 19,
     "metadata": {},
     "output_type": "execute_result"
    },
    {
     "data": {
      "image/png": "[encoded data removed]",
      "text/plain": [
       "<Figure size 1152x288 with 1 Axes>"
      ]
     },
     "metadata": {
      "needs_background": "light"
     },
     "output_type": "display_data"
    }
   ],
   "source": [
    "# Построим график ТОП 10 городов по количеству рейсов\n",
    "\n",
    "plot_three = plot_two.sort_values(by='flights_amount', ascending=False).head(10)\n",
    "plot_three.plot(x='city', grid=True, kind='bar', figsize=(16, 4), title='График ТОП 10 городов по количеству рейсов')"
   ]
  },
  {
   "cell_type": "code",
   "execution_count": 20,
   "metadata": {},
   "outputs": [
    {
     "data": {
      "text/html": [
       "<div>\n",
       "<style scoped>\n",
       "    .dataframe tbody tr th:only-of-type {\n",
       "        vertical-align: middle;\n",
       "    }\n",
       "\n",
       "    .dataframe tbody tr th {\n",
       "        vertical-align: top;\n",
       "    }\n",
       "\n",
       "    .dataframe thead th {\n",
       "        text-align: right;\n",
       "    }\n",
       "</style>\n",
       "<table border=\"1\" class=\"dataframe\">\n",
       "  <thead>\n",
       "    <tr style=\"text-align: right;\">\n",
       "      <th></th>\n",
       "      <th>city</th>\n",
       "      <th>average_flights</th>\n",
       "    </tr>\n",
       "  </thead>\n",
       "  <tbody>\n",
       "    <tr>\n",
       "      <td>43</td>\n",
       "      <td>Москва</td>\n",
       "      <td>129.774194</td>\n",
       "    </tr>\n",
       "    <tr>\n",
       "      <td>70</td>\n",
       "      <td>Санкт-Петербург</td>\n",
       "      <td>31.161290</td>\n",
       "    </tr>\n",
       "    <tr>\n",
       "      <td>54</td>\n",
       "      <td>Новосибирск</td>\n",
       "      <td>17.322581</td>\n",
       "    </tr>\n",
       "    <tr>\n",
       "      <td>33</td>\n",
       "      <td>Красноярск</td>\n",
       "      <td>11.580645</td>\n",
       "    </tr>\n",
       "    <tr>\n",
       "      <td>20</td>\n",
       "      <td>Екатеринбург</td>\n",
       "      <td>11.322581</td>\n",
       "    </tr>\n",
       "    <tr>\n",
       "      <td>67</td>\n",
       "      <td>Ростов-на-Дону</td>\n",
       "      <td>10.193548</td>\n",
       "    </tr>\n",
       "    <tr>\n",
       "      <td>63</td>\n",
       "      <td>Пермь</td>\n",
       "      <td>10.129032</td>\n",
       "    </tr>\n",
       "    <tr>\n",
       "      <td>10</td>\n",
       "      <td>Брянск</td>\n",
       "      <td>10.000000</td>\n",
       "    </tr>\n",
       "    <tr>\n",
       "      <td>74</td>\n",
       "      <td>Сочи</td>\n",
       "      <td>9.612903</td>\n",
       "    </tr>\n",
       "    <tr>\n",
       "      <td>84</td>\n",
       "      <td>Ульяновск</td>\n",
       "      <td>9.580645</td>\n",
       "    </tr>\n",
       "  </tbody>\n",
       "</table>\n",
       "</div>"
      ],
      "text/plain": [
       "               city  average_flights\n",
       "43           Москва       129.774194\n",
       "70  Санкт-Петербург        31.161290\n",
       "54      Новосибирск        17.322581\n",
       "33       Красноярск        11.580645\n",
       "20     Екатеринбург        11.322581\n",
       "67   Ростов-на-Дону        10.193548\n",
       "63            Пермь        10.129032\n",
       "10           Брянск        10.000000\n",
       "74             Сочи         9.612903\n",
       "84        Ульяновск         9.580645"
      ]
     },
     "execution_count": 20,
     "metadata": {},
     "output_type": "execute_result"
    }
   ],
   "source": [
    "top10_cities"
   ]
  },
  {
   "cell_type": "code",
   "execution_count": 21,
   "metadata": {},
   "outputs": [
    {
     "data": {
      "image/png": "[encoded data removed]",
      "text/plain": [
       "<Figure size 1152x1296 with 1 Axes>"
      ]
     },
     "metadata": {
      "needs_background": "light"
     },
     "output_type": "display_data"
    }
   ],
   "source": [
    "# Построим график ТОП 10 городов по количеству рейсов\n",
    "plt.figure(figsize=(16, 18))\n",
    "sns.barplot(x='average_flights', y='city', data=top10_cities.sort_values(by = 'average_flights', ascending = False))\n",
    "plt.title('график TOP 10 городов по количеству рейсов')\n",
    "plt.xlabel('Количество рейсов')\n",
    "plt.ylabel('Города');\n",
    "\n"
   ]
  },
  {
   "cell_type": "code",
   "execution_count": 22,
   "metadata": {},
   "outputs": [
    {
     "data": {
      "image/png": "[encoded data removed]",
      "text/plain": [
       "<Figure size 1152x1296 with 1 Axes>"
      ]
     },
     "metadata": {
      "needs_background": "light"
     },
     "output_type": "display_data"
    }
   ],
   "source": [
    "plt.figure(figsize=(16, 18))\n",
    "sns.barplot(x='flights_amount', y='city', data=query_3.sort_values(by = 'flights_amount', ascending = False))\n",
    "plt.title('график городов по количеству рейсов')\n",
    "plt.xlabel('Количество рейсов')\n",
    "plt.ylabel('Города');"
   ]
  },
  {
   "cell_type": "markdown",
   "metadata": {},
   "source": [
    "В крупных городах полетов больше, лидеры Москва, Санкт-Петербург, Новосибирск"
   ]
  },
  {
   "cell_type": "markdown",
   "metadata": {},
   "source": [
    "## Общий вывод\n"
   ]
  },
  {
   "cell_type": "markdown",
   "metadata": {},
   "source": [
    "Основную часть всех рейсов выполняется на 3-х моделях самолетов : Cessna 208 Caravan, Bombardier CRJ-200 и Sukhoi SuperJet-100;\n",
    "Первая тройка городов по количеству рейсов - Москва, Санкт-Петербург и Новосибирск."
   ]
  },
  {
   "cell_type": "code",
   "execution_count": null,
   "metadata": {},
   "outputs": [],
   "source": []
  }
 ],
 "metadata": {
  "ExecuteTimeLog": [
   {
    "duration": 1519,
    "start_time": "2021-06-30T08:57:22.428Z"
   },
   {
    "duration": 502,
    "start_time": "2021-06-30T08:58:45.895Z"
   },
   {
    "duration": 1219,
    "start_time": "2021-06-30T09:02:20.637Z"
   },
   {
    "duration": 13,
    "start_time": "2021-06-30T09:02:34.706Z"
   },
   {
    "duration": 40,
    "start_time": "2021-06-30T09:03:42.554Z"
   },
   {
    "duration": 21,
    "start_time": "2021-06-30T09:03:48.522Z"
   },
   {
    "duration": 1593,
    "start_time": "2021-06-30T09:03:53.101Z"
   },
   {
    "duration": 14,
    "start_time": "2021-06-30T09:04:00.704Z"
   },
   {
    "duration": 329,
    "start_time": "2021-06-30T09:06:00.137Z"
   },
   {
    "duration": 301,
    "start_time": "2021-06-30T09:06:14.385Z"
   },
   {
    "duration": 18,
    "start_time": "2021-06-30T09:06:29.469Z"
   },
   {
    "duration": 6,
    "start_time": "2021-06-30T09:06:41.446Z"
   },
   {
    "duration": 16,
    "start_time": "2021-06-30T09:07:38.628Z"
   },
   {
    "duration": 5,
    "start_time": "2021-06-30T09:12:59.613Z"
   },
   {
    "duration": 13,
    "start_time": "2021-06-30T09:13:00.037Z"
   },
   {
    "duration": 17,
    "start_time": "2021-06-30T09:13:07.692Z"
   },
   {
    "duration": 11,
    "start_time": "2021-06-30T09:13:09.023Z"
   },
   {
    "duration": 93,
    "start_time": "2021-06-30T09:13:11.091Z"
   },
   {
    "duration": 411,
    "start_time": "2021-06-30T09:15:54.342Z"
   },
   {
    "duration": 10,
    "start_time": "2021-06-30T09:19:03.103Z"
   },
   {
    "duration": 1575,
    "start_time": "2021-06-30T09:19:41.884Z"
   },
   {
    "duration": 1572,
    "start_time": "2021-06-30T09:19:52.837Z"
   },
   {
    "duration": 431,
    "start_time": "2021-06-30T10:41:12.114Z"
   },
   {
    "duration": 117,
    "start_time": "2021-06-30T10:52:52.891Z"
   },
   {
    "duration": 3,
    "start_time": "2021-06-30T10:54:28.503Z"
   },
   {
    "duration": 1444,
    "start_time": "2021-06-30T16:52:56.450Z"
   },
   {
    "duration": 21,
    "start_time": "2021-06-30T16:52:57.896Z"
   },
   {
    "duration": 18,
    "start_time": "2021-06-30T16:52:57.920Z"
   },
   {
    "duration": 22,
    "start_time": "2021-06-30T16:52:57.941Z"
   },
   {
    "duration": 18,
    "start_time": "2021-06-30T16:52:57.965Z"
   },
   {
    "duration": 117,
    "start_time": "2021-06-30T16:52:58.009Z"
   },
   {
    "duration": 2,
    "start_time": "2021-06-30T16:52:58.127Z"
   },
   {
    "duration": -1,
    "start_time": "2021-06-30T16:52:58.131Z"
   },
   {
    "duration": -5,
    "start_time": "2021-06-30T16:52:58.136Z"
   },
   {
    "duration": -6,
    "start_time": "2021-06-30T16:52:58.139Z"
   },
   {
    "duration": -58,
    "start_time": "2021-06-30T16:52:58.192Z"
   },
   {
    "duration": -58,
    "start_time": "2021-06-30T16:52:58.194Z"
   },
   {
    "duration": -58,
    "start_time": "2021-06-30T16:52:58.195Z"
   },
   {
    "duration": -58,
    "start_time": "2021-06-30T16:52:58.196Z"
   },
   {
    "duration": 5,
    "start_time": "2021-06-30T16:53:26.249Z"
   },
   {
    "duration": 12,
    "start_time": "2021-06-30T16:53:26.635Z"
   },
   {
    "duration": 17,
    "start_time": "2021-06-30T16:53:27.271Z"
   },
   {
    "duration": 12,
    "start_time": "2021-06-30T16:53:28.645Z"
   },
   {
    "duration": 408,
    "start_time": "2021-06-30T16:53:30.189Z"
   },
   {
    "duration": 518,
    "start_time": "2021-06-30T16:53:33.181Z"
   },
   {
    "duration": 353,
    "start_time": "2021-06-30T16:53:34.597Z"
   },
   {
    "duration": 114,
    "start_time": "2021-06-30T16:53:50.557Z"
   },
   {
    "duration": 4,
    "start_time": "2021-07-01T06:19:52.979Z"
   },
   {
    "duration": 1482,
    "start_time": "2021-07-01T06:20:06.642Z"
   },
   {
    "duration": 25,
    "start_time": "2021-07-01T06:20:08.126Z"
   },
   {
    "duration": 31,
    "start_time": "2021-07-01T06:20:08.155Z"
   },
   {
    "duration": 35,
    "start_time": "2021-07-01T06:20:08.189Z"
   },
   {
    "duration": 30,
    "start_time": "2021-07-01T06:20:08.227Z"
   },
   {
    "duration": 5,
    "start_time": "2021-07-01T06:20:08.592Z"
   },
   {
    "duration": 12,
    "start_time": "2021-07-01T06:20:08.961Z"
   },
   {
    "duration": 18,
    "start_time": "2021-07-01T06:20:09.157Z"
   },
   {
    "duration": 11,
    "start_time": "2021-07-01T06:20:09.780Z"
   },
   {
    "duration": 406,
    "start_time": "2021-07-01T06:20:10.631Z"
   },
   {
    "duration": 404,
    "start_time": "2021-07-01T06:20:12.453Z"
   },
   {
    "duration": 270,
    "start_time": "2021-07-01T06:20:12.918Z"
   },
   {
    "duration": 95,
    "start_time": "2021-07-01T06:20:14.244Z"
   },
   {
    "duration": 4,
    "start_time": "2021-07-01T06:22:15.552Z"
   },
   {
    "duration": 23,
    "start_time": "2021-07-01T06:22:16.058Z"
   },
   {
    "duration": 9,
    "start_time": "2021-07-01T06:22:16.394Z"
   },
   {
    "duration": 23,
    "start_time": "2021-07-01T06:22:16.642Z"
   },
   {
    "duration": 14,
    "start_time": "2021-07-01T06:22:17.779Z"
   },
   {
    "duration": 95,
    "start_time": "2021-07-01T06:22:18.906Z"
   },
   {
    "duration": 3,
    "start_time": "2021-07-01T06:22:28.863Z"
   },
   {
    "duration": 16,
    "start_time": "2021-07-01T06:22:34.440Z"
   },
   {
    "duration": 17,
    "start_time": "2021-07-01T06:22:34.728Z"
   },
   {
    "duration": 14,
    "start_time": "2021-07-01T06:22:35.624Z"
   },
   {
    "duration": 386,
    "start_time": "2021-07-01T06:22:37.112Z"
   },
   {
    "duration": 61,
    "start_time": "2021-07-01T06:27:24.759Z"
   },
   {
    "duration": 5,
    "start_time": "2021-07-01T06:27:49.891Z"
   },
   {
    "duration": 30,
    "start_time": "2021-07-01T06:27:50.056Z"
   },
   {
    "duration": 10,
    "start_time": "2021-07-01T06:27:50.552Z"
   },
   {
    "duration": 25,
    "start_time": "2021-07-01T06:27:51.226Z"
   },
   {
    "duration": 14,
    "start_time": "2021-07-01T06:27:53.026Z"
   },
   {
    "duration": 3,
    "start_time": "2021-07-01T06:27:54.349Z"
   },
   {
    "duration": 19,
    "start_time": "2021-07-01T06:27:55.445Z"
   },
   {
    "duration": 16,
    "start_time": "2021-07-01T06:27:55.948Z"
   },
   {
    "duration": 14,
    "start_time": "2021-07-01T06:27:57.422Z"
   },
   {
    "duration": 416,
    "start_time": "2021-07-01T06:27:59.784Z"
   },
   {
    "duration": 8,
    "start_time": "2021-07-01T06:28:04.953Z"
   },
   {
    "duration": 355,
    "start_time": "2021-07-01T06:28:07.307Z"
   },
   {
    "duration": 10253,
    "start_time": "2021-07-01T06:29:50.206Z"
   },
   {
    "duration": 10308,
    "start_time": "2021-07-01T06:30:28.613Z"
   },
   {
    "duration": 22,
    "start_time": "2021-07-01T06:33:02.628Z"
   },
   {
    "duration": 9,
    "start_time": "2021-07-01T06:39:06.469Z"
   },
   {
    "duration": 8,
    "start_time": "2021-07-01T06:39:19.859Z"
   },
   {
    "duration": 8136,
    "start_time": "2021-07-01T06:46:13.386Z"
   },
   {
    "duration": 4,
    "start_time": "2021-07-01T06:46:27.477Z"
   },
   {
    "duration": 22,
    "start_time": "2021-07-01T06:46:27.939Z"
   },
   {
    "duration": 15,
    "start_time": "2021-07-01T06:46:28.363Z"
   },
   {
    "duration": 18,
    "start_time": "2021-07-01T06:46:28.858Z"
   },
   {
    "duration": 23,
    "start_time": "2021-07-01T06:46:29.377Z"
   },
   {
    "duration": 14,
    "start_time": "2021-07-01T06:46:31.081Z"
   },
   {
    "duration": 8,
    "start_time": "2021-07-01T06:46:32.129Z"
   },
   {
    "duration": 4,
    "start_time": "2021-07-01T06:46:33.172Z"
   },
   {
    "duration": 24,
    "start_time": "2021-07-01T06:46:33.682Z"
   },
   {
    "duration": 9,
    "start_time": "2021-07-01T06:46:34.203Z"
   },
   {
    "duration": 16,
    "start_time": "2021-07-01T06:46:36.447Z"
   },
   {
    "duration": 679,
    "start_time": "2021-07-01T06:46:52.403Z"
   },
   {
    "duration": 395,
    "start_time": "2021-07-01T06:55:35.146Z"
   },
   {
    "duration": 288,
    "start_time": "2021-07-01T06:55:39.399Z"
   },
   {
    "duration": 98,
    "start_time": "2021-07-01T06:55:57.088Z"
   },
   {
    "duration": 115,
    "start_time": "2021-07-01T06:56:31.278Z"
   },
   {
    "duration": 86,
    "start_time": "2021-07-01T06:56:35.984Z"
   },
   {
    "duration": 2122,
    "start_time": "2021-07-01T06:56:55.574Z"
   },
   {
    "duration": 6,
    "start_time": "2021-07-01T06:57:17.967Z"
   },
   {
    "duration": 1573,
    "start_time": "2021-07-01T06:57:18.967Z"
   },
   {
    "duration": 441,
    "start_time": "2021-07-01T06:57:29.734Z"
   },
   {
    "duration": 97,
    "start_time": "2021-07-01T06:57:47.515Z"
   },
   {
    "duration": 1600,
    "start_time": "2021-07-01T11:06:48.589Z"
   },
   {
    "duration": 26,
    "start_time": "2021-07-01T11:06:50.193Z"
   },
   {
    "duration": 20,
    "start_time": "2021-07-01T11:06:50.222Z"
   },
   {
    "duration": 22,
    "start_time": "2021-07-01T11:06:50.245Z"
   },
   {
    "duration": 26,
    "start_time": "2021-07-01T11:06:50.269Z"
   },
   {
    "duration": 14,
    "start_time": "2021-07-01T11:06:50.298Z"
   },
   {
    "duration": 9,
    "start_time": "2021-07-01T11:06:50.314Z"
   },
   {
    "duration": 7,
    "start_time": "2021-07-01T11:06:50.327Z"
   },
   {
    "duration": 50,
    "start_time": "2021-07-01T11:06:50.337Z"
   },
   {
    "duration": 8,
    "start_time": "2021-07-01T11:06:50.389Z"
   },
   {
    "duration": 16,
    "start_time": "2021-07-01T11:06:50.399Z"
   },
   {
    "duration": 441,
    "start_time": "2021-07-01T11:06:50.417Z"
   },
   {
    "duration": 25,
    "start_time": "2021-07-01T11:06:50.860Z"
   },
   {
    "duration": 1608,
    "start_time": "2021-07-01T11:06:50.888Z"
   },
   {
    "duration": 467,
    "start_time": "2021-07-01T11:06:52.498Z"
   },
   {
    "duration": 372,
    "start_time": "2021-07-01T11:07:26.539Z"
   },
   {
    "duration": 396,
    "start_time": "2021-07-01T11:07:35.637Z"
   },
   {
    "duration": 385,
    "start_time": "2021-07-01T11:07:47.611Z"
   },
   {
    "duration": 403,
    "start_time": "2021-07-01T11:07:54.151Z"
   },
   {
    "duration": 321,
    "start_time": "2021-07-01T11:08:35.102Z"
   },
   {
    "duration": 327,
    "start_time": "2021-07-01T11:08:48.365Z"
   },
   {
    "duration": 9,
    "start_time": "2021-07-01T11:10:16.760Z"
   },
   {
    "duration": 480,
    "start_time": "2021-07-01T11:10:26.862Z"
   },
   {
    "duration": 360,
    "start_time": "2021-07-01T11:10:30.866Z"
   },
   {
    "duration": 365,
    "start_time": "2021-07-01T11:10:46.759Z"
   },
   {
    "duration": 1607,
    "start_time": "2021-07-01T11:31:34.346Z"
   },
   {
    "duration": 24,
    "start_time": "2021-07-01T11:31:35.956Z"
   },
   {
    "duration": 21,
    "start_time": "2021-07-01T11:31:35.983Z"
   },
   {
    "duration": 20,
    "start_time": "2021-07-01T11:31:36.007Z"
   },
   {
    "duration": 30,
    "start_time": "2021-07-01T11:31:36.030Z"
   },
   {
    "duration": 13,
    "start_time": "2021-07-01T11:31:36.858Z"
   },
   {
    "duration": 3,
    "start_time": "2021-07-01T11:31:37.410Z"
   },
   {
    "duration": 3,
    "start_time": "2021-07-01T11:31:38.187Z"
   },
   {
    "duration": 17,
    "start_time": "2021-07-01T11:31:38.457Z"
   },
   {
    "duration": 7,
    "start_time": "2021-07-01T11:31:38.720Z"
   },
   {
    "duration": 13,
    "start_time": "2021-07-01T11:31:39.873Z"
   },
   {
    "duration": 493,
    "start_time": "2021-07-01T11:31:41.167Z"
   },
   {
    "duration": 314,
    "start_time": "2021-07-01T11:31:42.978Z"
   },
   {
    "duration": 353,
    "start_time": "2021-07-01T11:31:44.185Z"
   },
   {
    "duration": 12,
    "start_time": "2021-07-01T11:31:47.194Z"
   },
   {
    "duration": 1533,
    "start_time": "2021-07-01T11:31:49.696Z"
   },
   {
    "duration": 1550,
    "start_time": "2021-07-01T11:33:14.985Z"
   },
   {
    "duration": 1430,
    "start_time": "2021-07-01T11:35:00.296Z"
   },
   {
    "duration": 1324,
    "start_time": "2021-07-01T11:35:50.888Z"
   },
   {
    "duration": 1483,
    "start_time": "2021-07-01T11:36:08.700Z"
   },
   {
    "duration": 397,
    "start_time": "2021-07-01T11:40:39.383Z"
   },
   {
    "duration": 1392,
    "start_time": "2021-07-01T11:40:46.760Z"
   },
   {
    "duration": 346,
    "start_time": "2021-07-01T11:41:20.613Z"
   },
   {
    "duration": 6656,
    "start_time": "2021-07-01T11:41:23.908Z"
   },
   {
    "duration": 1174,
    "start_time": "2021-07-01T11:41:29.392Z"
   },
   {
    "duration": 1172,
    "start_time": "2021-07-01T11:41:29.397Z"
   },
   {
    "duration": 4,
    "start_time": "2021-07-01T11:41:37.199Z"
   },
   {
    "duration": 22,
    "start_time": "2021-07-01T11:41:37.573Z"
   },
   {
    "duration": 10,
    "start_time": "2021-07-01T11:41:37.781Z"
   },
   {
    "duration": 16,
    "start_time": "2021-07-01T11:41:37.982Z"
   },
   {
    "duration": 22,
    "start_time": "2021-07-01T11:41:38.217Z"
   },
   {
    "duration": 13,
    "start_time": "2021-07-01T11:41:38.813Z"
   },
   {
    "duration": 4,
    "start_time": "2021-07-01T11:41:39.205Z"
   },
   {
    "duration": 3,
    "start_time": "2021-07-01T11:41:39.627Z"
   },
   {
    "duration": 17,
    "start_time": "2021-07-01T11:41:39.866Z"
   },
   {
    "duration": 7,
    "start_time": "2021-07-01T11:41:40.044Z"
   },
   {
    "duration": 14,
    "start_time": "2021-07-01T11:41:40.862Z"
   },
   {
    "duration": 363,
    "start_time": "2021-07-01T11:41:41.752Z"
   },
   {
    "duration": 283,
    "start_time": "2021-07-01T11:41:42.159Z"
   },
   {
    "duration": 453,
    "start_time": "2021-07-01T11:41:42.445Z"
   },
   {
    "duration": 6,
    "start_time": "2021-07-01T11:41:44.325Z"
   },
   {
    "duration": 1434,
    "start_time": "2021-07-01T11:41:44.539Z"
   },
   {
    "duration": 415,
    "start_time": "2021-07-01T11:41:45.983Z"
   },
   {
    "duration": 256,
    "start_time": "2021-07-01T11:46:16.616Z"
   },
   {
    "duration": 268,
    "start_time": "2021-07-01T11:46:40.264Z"
   },
   {
    "duration": 273,
    "start_time": "2021-07-01T11:50:34.373Z"
   },
   {
    "duration": 1519,
    "start_time": "2021-07-01T11:51:27.435Z"
   },
   {
    "duration": 1557,
    "start_time": "2021-07-01T11:52:17.834Z"
   },
   {
    "duration": 445,
    "start_time": "2021-07-01T11:52:41.288Z"
   },
   {
    "duration": 2328,
    "start_time": "2021-07-01T12:00:48.835Z"
   },
   {
    "duration": 2964,
    "start_time": "2021-07-01T12:01:10.866Z"
   },
   {
    "duration": 1231,
    "start_time": "2021-07-01T12:01:36.252Z"
   },
   {
    "duration": 552,
    "start_time": "2021-07-01T12:01:51.187Z"
   },
   {
    "duration": 1599,
    "start_time": "2021-07-01T12:02:10.011Z"
   },
   {
    "duration": 709,
    "start_time": "2021-07-01T12:02:51.818Z"
   },
   {
    "duration": 661,
    "start_time": "2021-07-01T12:04:06.698Z"
   },
   {
    "duration": 343,
    "start_time": "2021-07-01T12:07:25.991Z"
   },
   {
    "duration": 2547,
    "start_time": "2021-07-01T12:08:49.171Z"
   },
   {
    "duration": 3221,
    "start_time": "2021-07-01T12:09:22.713Z"
   },
   {
    "duration": 2750,
    "start_time": "2021-07-01T12:09:34.693Z"
   },
   {
    "duration": 2737,
    "start_time": "2021-07-01T12:10:04.017Z"
   },
   {
    "duration": 2466,
    "start_time": "2021-07-01T12:10:31.341Z"
   },
   {
    "duration": 2745,
    "start_time": "2021-07-01T12:11:01.186Z"
   },
   {
    "duration": 2624,
    "start_time": "2021-07-01T12:11:11.205Z"
   },
   {
    "duration": 4856,
    "start_time": "2021-07-01T12:11:22.046Z"
   },
   {
    "duration": 2699,
    "start_time": "2021-07-01T12:11:42.223Z"
   },
   {
    "duration": 1473,
    "start_time": "2021-07-01T12:12:45.546Z"
   },
   {
    "duration": 22,
    "start_time": "2021-07-01T12:12:47.022Z"
   },
   {
    "duration": 12,
    "start_time": "2021-07-01T12:12:47.048Z"
   },
   {
    "duration": 40,
    "start_time": "2021-07-01T12:12:47.063Z"
   },
   {
    "duration": 22,
    "start_time": "2021-07-01T12:12:47.105Z"
   },
   {
    "duration": 16,
    "start_time": "2021-07-01T12:12:47.129Z"
   },
   {
    "duration": 3,
    "start_time": "2021-07-01T12:12:47.147Z"
   },
   {
    "duration": 29,
    "start_time": "2021-07-01T12:12:47.154Z"
   },
   {
    "duration": 21,
    "start_time": "2021-07-01T12:12:47.188Z"
   },
   {
    "duration": 17,
    "start_time": "2021-07-01T12:12:47.212Z"
   },
   {
    "duration": 16,
    "start_time": "2021-07-01T12:12:47.231Z"
   },
   {
    "duration": 428,
    "start_time": "2021-07-01T12:12:47.249Z"
   },
   {
    "duration": 321,
    "start_time": "2021-07-01T12:12:47.683Z"
   },
   {
    "duration": 389,
    "start_time": "2021-07-01T12:12:48.006Z"
   },
   {
    "duration": 20,
    "start_time": "2021-07-01T12:12:48.398Z"
   },
   {
    "duration": 1607,
    "start_time": "2021-07-01T12:12:48.421Z"
   },
   {
    "duration": 596,
    "start_time": "2021-07-01T12:12:50.030Z"
   },
   {
    "duration": 435,
    "start_time": "2021-07-01T12:12:50.628Z"
   },
   {
    "duration": 2728,
    "start_time": "2021-07-01T12:12:51.066Z"
   },
   {
    "duration": 1469,
    "start_time": "2021-07-02T04:47:07.962Z"
   },
   {
    "duration": 21,
    "start_time": "2021-07-02T04:47:09.434Z"
   },
   {
    "duration": 19,
    "start_time": "2021-07-02T04:47:09.460Z"
   },
   {
    "duration": 18,
    "start_time": "2021-07-02T04:47:09.483Z"
   },
   {
    "duration": 22,
    "start_time": "2021-07-02T04:47:09.504Z"
   },
   {
    "duration": 43,
    "start_time": "2021-07-02T04:47:09.529Z"
   },
   {
    "duration": 4,
    "start_time": "2021-07-02T04:47:09.575Z"
   },
   {
    "duration": 5,
    "start_time": "2021-07-02T04:47:09.582Z"
   },
   {
    "duration": 17,
    "start_time": "2021-07-02T04:47:09.593Z"
   },
   {
    "duration": 55,
    "start_time": "2021-07-02T04:47:09.613Z"
   },
   {
    "duration": 13,
    "start_time": "2021-07-02T04:47:09.671Z"
   },
   {
    "duration": 425,
    "start_time": "2021-07-02T04:47:09.686Z"
   },
   {
    "duration": 331,
    "start_time": "2021-07-02T04:47:10.114Z"
   },
   {
    "duration": 385,
    "start_time": "2021-07-02T04:47:10.447Z"
   },
   {
    "duration": 11,
    "start_time": "2021-07-02T04:47:10.834Z"
   },
   {
    "duration": 1592,
    "start_time": "2021-07-02T04:47:10.849Z"
   },
   {
    "duration": 587,
    "start_time": "2021-07-02T04:47:12.444Z"
   },
   {
    "duration": 582,
    "start_time": "2021-07-02T04:47:13.033Z"
   },
   {
    "duration": 510,
    "start_time": "2021-07-02T04:47:13.617Z"
   },
   {
    "duration": 2750,
    "start_time": "2021-07-02T04:47:14.130Z"
   },
   {
    "duration": 2253,
    "start_time": "2021-07-02T04:47:25.893Z"
   },
   {
    "duration": 2180,
    "start_time": "2021-07-02T04:47:37.128Z"
   },
   {
    "duration": 2403,
    "start_time": "2021-07-02T04:47:47.252Z"
   },
   {
    "duration": 2444,
    "start_time": "2021-07-02T04:48:11.187Z"
   },
   {
    "duration": 2291,
    "start_time": "2021-07-02T04:48:21.342Z"
   },
   {
    "duration": 2514,
    "start_time": "2021-07-02T04:48:30.630Z"
   },
   {
    "duration": 3001,
    "start_time": "2021-07-02T04:49:26.313Z"
   },
   {
    "duration": 10,
    "start_time": "2021-07-02T04:51:13.907Z"
   },
   {
    "duration": 2009,
    "start_time": "2021-07-02T06:43:31.613Z"
   },
   {
    "duration": 25,
    "start_time": "2021-07-02T06:43:33.625Z"
   },
   {
    "duration": 30,
    "start_time": "2021-07-02T06:43:33.655Z"
   },
   {
    "duration": 16,
    "start_time": "2021-07-02T06:43:33.688Z"
   },
   {
    "duration": 24,
    "start_time": "2021-07-02T06:43:33.708Z"
   },
   {
    "duration": 15,
    "start_time": "2021-07-02T06:43:33.735Z"
   },
   {
    "duration": 4,
    "start_time": "2021-07-02T06:43:33.910Z"
   },
   {
    "duration": 4,
    "start_time": "2021-07-02T06:43:34.410Z"
   },
   {
    "duration": 17,
    "start_time": "2021-07-02T06:43:34.625Z"
   },
   {
    "duration": 8,
    "start_time": "2021-07-02T06:43:34.883Z"
   },
   {
    "duration": 13,
    "start_time": "2021-07-02T06:43:36.191Z"
   },
   {
    "duration": 514,
    "start_time": "2021-07-02T06:43:37.125Z"
   },
   {
    "duration": 432,
    "start_time": "2021-07-02T06:43:37.642Z"
   },
   {
    "duration": 511,
    "start_time": "2021-07-02T06:43:38.078Z"
   },
   {
    "duration": 15,
    "start_time": "2021-07-02T06:43:39.581Z"
   },
   {
    "duration": 2182,
    "start_time": "2021-07-02T06:43:39.859Z"
   },
   {
    "duration": 808,
    "start_time": "2021-07-02T06:43:42.044Z"
   },
   {
    "duration": 3409,
    "start_time": "2021-07-02T06:43:42.855Z"
   },
   {
    "duration": 647,
    "start_time": "2021-07-02T06:43:46.268Z"
   },
   {
    "duration": 3399,
    "start_time": "2021-07-02T06:43:46.918Z"
   },
   {
    "duration": 462,
    "start_time": "2021-07-02T06:48:51.938Z"
   },
   {
    "duration": 342,
    "start_time": "2021-07-02T06:50:12.238Z"
   },
   {
    "duration": 360,
    "start_time": "2021-07-02T06:53:08.603Z"
   },
   {
    "duration": 338,
    "start_time": "2021-07-02T06:53:14.324Z"
   },
   {
    "duration": 10,
    "start_time": "2021-07-02T07:04:52.988Z"
   },
   {
    "duration": 861,
    "start_time": "2021-07-02T07:05:22.525Z"
   },
   {
    "duration": 1518,
    "start_time": "2021-07-02T07:06:24.634Z"
   },
   {
    "duration": 24,
    "start_time": "2021-07-02T07:06:26.155Z"
   },
   {
    "duration": 17,
    "start_time": "2021-07-02T07:06:26.187Z"
   },
   {
    "duration": 35,
    "start_time": "2021-07-02T07:06:26.208Z"
   },
   {
    "duration": 42,
    "start_time": "2021-07-02T07:06:26.247Z"
   },
   {
    "duration": 16,
    "start_time": "2021-07-02T07:06:26.292Z"
   },
   {
    "duration": 11,
    "start_time": "2021-07-02T07:06:26.311Z"
   },
   {
    "duration": 12,
    "start_time": "2021-07-02T07:06:26.327Z"
   },
   {
    "duration": 22,
    "start_time": "2021-07-02T07:06:26.343Z"
   },
   {
    "duration": 19,
    "start_time": "2021-07-02T07:06:26.385Z"
   },
   {
    "duration": 31,
    "start_time": "2021-07-02T07:06:26.408Z"
   },
   {
    "duration": 409,
    "start_time": "2021-07-02T07:06:26.441Z"
   },
   {
    "duration": 328,
    "start_time": "2021-07-02T07:06:26.853Z"
   },
   {
    "duration": 515,
    "start_time": "2021-07-02T07:06:27.185Z"
   },
   {
    "duration": 13,
    "start_time": "2021-07-02T07:06:27.703Z"
   },
   {
    "duration": 1675,
    "start_time": "2021-07-02T07:06:27.719Z"
   },
   {
    "duration": 789,
    "start_time": "2021-07-02T07:06:29.396Z"
   },
   {
    "duration": 3636,
    "start_time": "2021-07-02T07:06:30.188Z"
   },
   {
    "duration": 567,
    "start_time": "2021-07-02T07:06:33.828Z"
   },
   {
    "duration": 10,
    "start_time": "2021-07-02T07:06:34.398Z"
   },
   {
    "duration": 914,
    "start_time": "2021-07-02T07:06:34.411Z"
   },
   {
    "duration": 3639,
    "start_time": "2021-07-02T07:06:35.328Z"
   },
   {
    "duration": 1898,
    "start_time": "2021-07-02T07:10:14.410Z"
   },
   {
    "duration": 27,
    "start_time": "2021-07-02T07:10:16.312Z"
   },
   {
    "duration": 20,
    "start_time": "2021-07-02T07:10:16.343Z"
   },
   {
    "duration": 34,
    "start_time": "2021-07-02T07:10:16.366Z"
   },
   {
    "duration": 28,
    "start_time": "2021-07-02T07:10:16.403Z"
   },
   {
    "duration": 13,
    "start_time": "2021-07-02T07:10:16.434Z"
   },
   {
    "duration": 9,
    "start_time": "2021-07-02T07:10:16.450Z"
   },
   {
    "duration": 4,
    "start_time": "2021-07-02T07:10:16.464Z"
   },
   {
    "duration": 24,
    "start_time": "2021-07-02T07:10:16.486Z"
   },
   {
    "duration": 8,
    "start_time": "2021-07-02T07:10:16.513Z"
   },
   {
    "duration": 15,
    "start_time": "2021-07-02T07:10:16.523Z"
   },
   {
    "duration": 547,
    "start_time": "2021-07-02T07:10:16.540Z"
   },
   {
    "duration": 329,
    "start_time": "2021-07-02T07:10:17.090Z"
   },
   {
    "duration": 401,
    "start_time": "2021-07-02T07:10:17.422Z"
   },
   {
    "duration": 30,
    "start_time": "2021-07-02T07:10:17.826Z"
   },
   {
    "duration": 1607,
    "start_time": "2021-07-02T07:10:17.859Z"
   },
   {
    "duration": 603,
    "start_time": "2021-07-02T07:10:19.469Z"
   },
   {
    "duration": 3424,
    "start_time": "2021-07-02T07:10:20.075Z"
   },
   {
    "duration": 623,
    "start_time": "2021-07-02T07:10:23.502Z"
   },
   {
    "duration": 11,
    "start_time": "2021-07-02T07:10:24.129Z"
   },
   {
    "duration": 878,
    "start_time": "2021-07-02T07:10:24.144Z"
   },
   {
    "duration": 3296,
    "start_time": "2021-07-02T07:10:25.025Z"
   }
  ],
  "kernelspec": {
   "display_name": "Python 3 (ipykernel)",
   "language": "python",
   "name": "python3"
  },
  "language_info": {
   "codemirror_mode": {
    "name": "ipython",
    "version": 3
   },
   "file_extension": ".py",
   "mimetype": "text/x-python",
   "name": "python",
   "nbconvert_exporter": "python",
   "pygments_lexer": "ipython3",
   "version": "3.9.7"
  },
  "toc": {
   "base_numbering": 1,
   "nav_menu": {
    "height": "138px",
    "width": "206px"
   },
   "number_sections": true,
   "sideBar": true,
   "skip_h1_title": true,
   "title_cell": "Table of Contents",
   "title_sidebar": "Contents",
   "toc_cell": false,
   "toc_position": {},
   "toc_section_display": true,
   "toc_window_display": false
  }
 },
 "nbformat": 4,
 "nbformat_minor": 2
}
