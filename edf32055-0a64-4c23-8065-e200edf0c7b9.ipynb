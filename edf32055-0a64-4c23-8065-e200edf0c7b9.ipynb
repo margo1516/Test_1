{
 "cells": [
  {
   "cell_type": "markdown",
   "metadata": {},
   "source": [
    "# Описание данных\n",
    "# Таблица books\n",
    "Содержит данные о книгах:\n",
    "book_id — идентификатор книги;\n",
    "author_id — идентификатор автора;\n",
    "title — название книги;\n",
    "num_pages — количество страниц;\n",
    "publication_date — дата публикации книги;\n",
    "publisher_id — идентификатор издателя.\n",
    "# Таблица authors\n",
    "Содержит данные об авторах:\n",
    "author_id — идентификатор автора;\n",
    "author — имя автора.\n",
    "# Таблица publishers\n",
    "Содержит данные об издательствах:\n",
    "publisher_id — идентификатор издательства;\n",
    "publisher — название издательства;\n",
    "# Таблица ratings\n",
    "Содержит данные о пользовательских оценках книг:\n",
    "rating_id — идентификатор оценки;\n",
    "book_id — идентификатор книги;\n",
    "username — имя пользователя, оставившего оценку;\n",
    "rating — оценка книги.\n",
    "# Таблица reviews\n",
    "Содержит данные о пользовательских обзорах:\n",
    "review_id — идентификатор обзора;\n",
    "book_id — идентификатор книги;\n",
    "username — имя автора обзора;\n",
    "text — текст обзора.\n",
    "\n"
   ]
  },
  {
   "cell_type": "markdown",
   "metadata": {},
   "source": [
    "# Задания\n",
    "1. Посчитайте, сколько книг вышло после 1 января 2000 года;\n",
    "2. Для каждой книги посчитайте количество обзоров и среднюю оценку;\n",
    "3. Определите издательство, которое выпустило наибольшее число книг толще 50 страниц — так вы исключите из анализа брошюры;\n",
    "4. Определите автора с самой высокой средней оценкой книг — учитывайте только книги с 50 и более оценками;\n",
    "5. Посчитайте среднее количество обзоров от пользователей, которые поставили больше 50 оценок.\n",
    "# Как выполнить задание?\n",
    "Опишите цели исследования;\n",
    "Исследуйте таблицы — выведите первые строки;\n",
    "Сделайте по одному SQL-запросу для решения каждого задания;\n",
    "Выведите результаты каждого запроса в тетрадке;\n",
    "Опишите выводы по каждой из решённых задач."
   ]
  },
  {
   "cell_type": "markdown",
   "metadata": {},
   "source": [
    "# 1. Посчитайте, сколько книг вышло после 1 января 2000 года;"
   ]
  },
  {
   "cell_type": "code",
   "execution_count": 1,
   "metadata": {},
   "outputs": [],
   "source": [
    "# импортируем библиотеки\n",
    "import pandas as pd\n",
    "from sqlalchemy import create_engine\n",
    "# устанавливаем параметры\n",
    "db_config = {'user': 'praktikum_student', # имя пользователя\n",
    "              'pwd': 'Sdf4$2;d-d30pp', # пароль\n",
    "              'host': 'rc1b-wcoijxj3yxfsf3fs.mdb.yandexcloud.net',\n",
    "              'port': 6432, # порт подключения\n",
    "              'db': 'data-analyst-final-project-db'} # название базы данных\n",
    "connection_string = 'postgresql://{}:{}@{}:{}/{}'.format(db_config['user'],\n",
    "                                                         db_config['pwd'],\n",
    "                                                         db_config['host'],\n",
    "                                                         db_config['port'],\n",
    "                                                         db_config['db'])\n",
    "# сохраняем коннектор\n",
    "engine = create_engine(connection_string, connect_args={'sslmode':'require'})"
   ]
  },
  {
   "cell_type": "markdown",
   "metadata": {},
   "source": [
    "Просмотрю все таблицы "
   ]
  },
  {
   "cell_type": "markdown",
   "metadata": {},
   "source": [
    "Таблица books"
   ]
  },
  {
   "cell_type": "code",
   "execution_count": 2,
   "metadata": {},
   "outputs": [],
   "source": [
    "# создаём запрос\n",
    "query = '''\n",
    "SELECT *\n",
    "FROM books\n",
    "LIMIT 5;\n",
    "'''"
   ]
  },
  {
   "cell_type": "code",
   "execution_count": 3,
   "metadata": {},
   "outputs": [],
   "source": [
    "# получаем данные на основании запроса\n",
    "data = pd.io.sql.read_sql(query, con = engine)"
   ]
  },
  {
   "cell_type": "code",
   "execution_count": 4,
   "metadata": {},
   "outputs": [
    {
     "data": {
      "text/html": [
       "<div>\n",
       "<style scoped>\n",
       "    .dataframe tbody tr th:only-of-type {\n",
       "        vertical-align: middle;\n",
       "    }\n",
       "\n",
       "    .dataframe tbody tr th {\n",
       "        vertical-align: top;\n",
       "    }\n",
       "\n",
       "    .dataframe thead th {\n",
       "        text-align: right;\n",
       "    }\n",
       "</style>\n",
       "<table border=\"1\" class=\"dataframe\">\n",
       "  <thead>\n",
       "    <tr style=\"text-align: right;\">\n",
       "      <th></th>\n",
       "      <th>book_id</th>\n",
       "      <th>author_id</th>\n",
       "      <th>title</th>\n",
       "      <th>num_pages</th>\n",
       "      <th>publication_date</th>\n",
       "      <th>publisher_id</th>\n",
       "    </tr>\n",
       "  </thead>\n",
       "  <tbody>\n",
       "    <tr>\n",
       "      <td>0</td>\n",
       "      <td>1</td>\n",
       "      <td>546</td>\n",
       "      <td>'Salem's Lot</td>\n",
       "      <td>594</td>\n",
       "      <td>2005-11-01</td>\n",
       "      <td>93</td>\n",
       "    </tr>\n",
       "    <tr>\n",
       "      <td>1</td>\n",
       "      <td>2</td>\n",
       "      <td>465</td>\n",
       "      <td>1 000 Places to See Before You Die</td>\n",
       "      <td>992</td>\n",
       "      <td>2003-05-22</td>\n",
       "      <td>336</td>\n",
       "    </tr>\n",
       "    <tr>\n",
       "      <td>2</td>\n",
       "      <td>3</td>\n",
       "      <td>407</td>\n",
       "      <td>13 Little Blue Envelopes (Little Blue Envelope...</td>\n",
       "      <td>322</td>\n",
       "      <td>2010-12-21</td>\n",
       "      <td>135</td>\n",
       "    </tr>\n",
       "    <tr>\n",
       "      <td>3</td>\n",
       "      <td>4</td>\n",
       "      <td>82</td>\n",
       "      <td>1491: New Revelations of the Americas Before C...</td>\n",
       "      <td>541</td>\n",
       "      <td>2006-10-10</td>\n",
       "      <td>309</td>\n",
       "    </tr>\n",
       "    <tr>\n",
       "      <td>4</td>\n",
       "      <td>5</td>\n",
       "      <td>125</td>\n",
       "      <td>1776</td>\n",
       "      <td>386</td>\n",
       "      <td>2006-07-04</td>\n",
       "      <td>268</td>\n",
       "    </tr>\n",
       "  </tbody>\n",
       "</table>\n",
       "</div>"
      ],
      "text/plain": [
       "   book_id  author_id                                              title  \\\n",
       "0        1        546                                       'Salem's Lot   \n",
       "1        2        465                 1 000 Places to See Before You Die   \n",
       "2        3        407  13 Little Blue Envelopes (Little Blue Envelope...   \n",
       "3        4         82  1491: New Revelations of the Americas Before C...   \n",
       "4        5        125                                               1776   \n",
       "\n",
       "   num_pages publication_date  publisher_id  \n",
       "0        594       2005-11-01            93  \n",
       "1        992       2003-05-22           336  \n",
       "2        322       2010-12-21           135  \n",
       "3        541       2006-10-10           309  \n",
       "4        386       2006-07-04           268  "
      ]
     },
     "metadata": {},
     "output_type": "display_data"
    }
   ],
   "source": [
    "# выводим на экран\n",
    "display(data)"
   ]
  },
  {
   "cell_type": "markdown",
   "metadata": {},
   "source": [
    "# Таблица содержит \n",
    "* book_id — идентификатор книги; \n",
    "* author_id — идентификатор автора; \n",
    "* title — название книги; \n",
    "* num_pages — количество страниц; \n",
    "* publication_date — дата публикации книги; \n",
    "* publisher_id — идентификатор издателя."
   ]
  },
  {
   "cell_type": "markdown",
   "metadata": {},
   "source": [
    "Таблица authors"
   ]
  },
  {
   "cell_type": "code",
   "execution_count": 5,
   "metadata": {},
   "outputs": [],
   "source": [
    "# создаём запрос\n",
    "query = '''\n",
    "SELECT *\n",
    "FROM authors\n",
    "LIMIT 5;\n",
    "'''"
   ]
  },
  {
   "cell_type": "code",
   "execution_count": 6,
   "metadata": {},
   "outputs": [],
   "source": [
    "data = pd.io.sql.read_sql(query, con = engine)"
   ]
  },
  {
   "cell_type": "code",
   "execution_count": 7,
   "metadata": {},
   "outputs": [
    {
     "data": {
      "text/html": [
       "<div>\n",
       "<style scoped>\n",
       "    .dataframe tbody tr th:only-of-type {\n",
       "        vertical-align: middle;\n",
       "    }\n",
       "\n",
       "    .dataframe tbody tr th {\n",
       "        vertical-align: top;\n",
       "    }\n",
       "\n",
       "    .dataframe thead th {\n",
       "        text-align: right;\n",
       "    }\n",
       "</style>\n",
       "<table border=\"1\" class=\"dataframe\">\n",
       "  <thead>\n",
       "    <tr style=\"text-align: right;\">\n",
       "      <th></th>\n",
       "      <th>author_id</th>\n",
       "      <th>author</th>\n",
       "    </tr>\n",
       "  </thead>\n",
       "  <tbody>\n",
       "    <tr>\n",
       "      <td>0</td>\n",
       "      <td>1</td>\n",
       "      <td>A.S. Byatt</td>\n",
       "    </tr>\n",
       "    <tr>\n",
       "      <td>1</td>\n",
       "      <td>2</td>\n",
       "      <td>Aesop/Laura Harris/Laura Gibbs</td>\n",
       "    </tr>\n",
       "    <tr>\n",
       "      <td>2</td>\n",
       "      <td>3</td>\n",
       "      <td>Agatha Christie</td>\n",
       "    </tr>\n",
       "    <tr>\n",
       "      <td>3</td>\n",
       "      <td>4</td>\n",
       "      <td>Alan Brennert</td>\n",
       "    </tr>\n",
       "    <tr>\n",
       "      <td>4</td>\n",
       "      <td>5</td>\n",
       "      <td>Alan Moore/David   Lloyd</td>\n",
       "    </tr>\n",
       "  </tbody>\n",
       "</table>\n",
       "</div>"
      ],
      "text/plain": [
       "   author_id                          author\n",
       "0          1                      A.S. Byatt\n",
       "1          2  Aesop/Laura Harris/Laura Gibbs\n",
       "2          3                 Agatha Christie\n",
       "3          4                   Alan Brennert\n",
       "4          5        Alan Moore/David   Lloyd"
      ]
     },
     "metadata": {},
     "output_type": "display_data"
    }
   ],
   "source": [
    "display(data)"
   ]
  },
  {
   "cell_type": "markdown",
   "metadata": {},
   "source": [
    "# Таблица содержит\n",
    "* author_id — идентификатор автора; \n",
    "* author — имя автора"
   ]
  },
  {
   "cell_type": "markdown",
   "metadata": {},
   "source": [
    "Таблица publishers"
   ]
  },
  {
   "cell_type": "code",
   "execution_count": 8,
   "metadata": {},
   "outputs": [],
   "source": [
    "query = '''\n",
    "SELECT *\n",
    "FROM publishers\n",
    "LIMIT 5;\n",
    "'''"
   ]
  },
  {
   "cell_type": "code",
   "execution_count": 9,
   "metadata": {},
   "outputs": [],
   "source": [
    "data = pd.io.sql.read_sql(query, con = engine)"
   ]
  },
  {
   "cell_type": "code",
   "execution_count": 10,
   "metadata": {},
   "outputs": [
    {
     "data": {
      "text/html": [
       "<div>\n",
       "<style scoped>\n",
       "    .dataframe tbody tr th:only-of-type {\n",
       "        vertical-align: middle;\n",
       "    }\n",
       "\n",
       "    .dataframe tbody tr th {\n",
       "        vertical-align: top;\n",
       "    }\n",
       "\n",
       "    .dataframe thead th {\n",
       "        text-align: right;\n",
       "    }\n",
       "</style>\n",
       "<table border=\"1\" class=\"dataframe\">\n",
       "  <thead>\n",
       "    <tr style=\"text-align: right;\">\n",
       "      <th></th>\n",
       "      <th>publisher_id</th>\n",
       "      <th>publisher</th>\n",
       "    </tr>\n",
       "  </thead>\n",
       "  <tbody>\n",
       "    <tr>\n",
       "      <td>0</td>\n",
       "      <td>1</td>\n",
       "      <td>Ace</td>\n",
       "    </tr>\n",
       "    <tr>\n",
       "      <td>1</td>\n",
       "      <td>2</td>\n",
       "      <td>Ace Book</td>\n",
       "    </tr>\n",
       "    <tr>\n",
       "      <td>2</td>\n",
       "      <td>3</td>\n",
       "      <td>Ace Books</td>\n",
       "    </tr>\n",
       "    <tr>\n",
       "      <td>3</td>\n",
       "      <td>4</td>\n",
       "      <td>Ace Hardcover</td>\n",
       "    </tr>\n",
       "    <tr>\n",
       "      <td>4</td>\n",
       "      <td>5</td>\n",
       "      <td>Addison Wesley Publishing Company</td>\n",
       "    </tr>\n",
       "  </tbody>\n",
       "</table>\n",
       "</div>"
      ],
      "text/plain": [
       "   publisher_id                          publisher\n",
       "0             1                                Ace\n",
       "1             2                           Ace Book\n",
       "2             3                          Ace Books\n",
       "3             4                      Ace Hardcover\n",
       "4             5  Addison Wesley Publishing Company"
      ]
     },
     "metadata": {},
     "output_type": "display_data"
    }
   ],
   "source": [
    "display(data)"
   ]
  },
  {
   "cell_type": "markdown",
   "metadata": {},
   "source": [
    "# Таблица содержит \n",
    "* publisher_id — идентификатор издательства; \n",
    "* publisher — название издательства;"
   ]
  },
  {
   "cell_type": "markdown",
   "metadata": {},
   "source": [
    "Таблица  ratings"
   ]
  },
  {
   "cell_type": "code",
   "execution_count": 11,
   "metadata": {},
   "outputs": [],
   "source": [
    "query = '''\n",
    "SELECT *\n",
    "FROM ratings\n",
    "LIMIT 5;\n",
    "'''"
   ]
  },
  {
   "cell_type": "code",
   "execution_count": 12,
   "metadata": {},
   "outputs": [],
   "source": [
    "data = pd.io.sql.read_sql(query, con = engine)"
   ]
  },
  {
   "cell_type": "code",
   "execution_count": 13,
   "metadata": {},
   "outputs": [
    {
     "data": {
      "text/html": [
       "<div>\n",
       "<style scoped>\n",
       "    .dataframe tbody tr th:only-of-type {\n",
       "        vertical-align: middle;\n",
       "    }\n",
       "\n",
       "    .dataframe tbody tr th {\n",
       "        vertical-align: top;\n",
       "    }\n",
       "\n",
       "    .dataframe thead th {\n",
       "        text-align: right;\n",
       "    }\n",
       "</style>\n",
       "<table border=\"1\" class=\"dataframe\">\n",
       "  <thead>\n",
       "    <tr style=\"text-align: right;\">\n",
       "      <th></th>\n",
       "      <th>rating_id</th>\n",
       "      <th>book_id</th>\n",
       "      <th>username</th>\n",
       "      <th>rating</th>\n",
       "    </tr>\n",
       "  </thead>\n",
       "  <tbody>\n",
       "    <tr>\n",
       "      <td>0</td>\n",
       "      <td>1</td>\n",
       "      <td>1</td>\n",
       "      <td>ryanfranco</td>\n",
       "      <td>4</td>\n",
       "    </tr>\n",
       "    <tr>\n",
       "      <td>1</td>\n",
       "      <td>2</td>\n",
       "      <td>1</td>\n",
       "      <td>grantpatricia</td>\n",
       "      <td>2</td>\n",
       "    </tr>\n",
       "    <tr>\n",
       "      <td>2</td>\n",
       "      <td>3</td>\n",
       "      <td>1</td>\n",
       "      <td>brandtandrea</td>\n",
       "      <td>5</td>\n",
       "    </tr>\n",
       "    <tr>\n",
       "      <td>3</td>\n",
       "      <td>4</td>\n",
       "      <td>2</td>\n",
       "      <td>lorichen</td>\n",
       "      <td>3</td>\n",
       "    </tr>\n",
       "    <tr>\n",
       "      <td>4</td>\n",
       "      <td>5</td>\n",
       "      <td>2</td>\n",
       "      <td>mariokeller</td>\n",
       "      <td>2</td>\n",
       "    </tr>\n",
       "  </tbody>\n",
       "</table>\n",
       "</div>"
      ],
      "text/plain": [
       "   rating_id  book_id       username  rating\n",
       "0          1        1     ryanfranco       4\n",
       "1          2        1  grantpatricia       2\n",
       "2          3        1   brandtandrea       5\n",
       "3          4        2       lorichen       3\n",
       "4          5        2    mariokeller       2"
      ]
     },
     "metadata": {},
     "output_type": "display_data"
    }
   ],
   "source": [
    "display(data)"
   ]
  },
  {
   "cell_type": "markdown",
   "metadata": {},
   "source": [
    "# Таблица содержит\n",
    "* rating_id — идентификатор оценки; \n",
    "* book_id — идентификатор книги; \n",
    "* username — имя пользователя, оставившего оценку; \n",
    "* rating — оценка книги"
   ]
  },
  {
   "cell_type": "markdown",
   "metadata": {},
   "source": [
    "Таблица reviews"
   ]
  },
  {
   "cell_type": "code",
   "execution_count": 14,
   "metadata": {},
   "outputs": [],
   "source": [
    "query = '''\n",
    "SELECT *\n",
    "FROM ratings\n",
    "LIMIT 5;\n",
    "'''"
   ]
  },
  {
   "cell_type": "code",
   "execution_count": 15,
   "metadata": {},
   "outputs": [],
   "source": [
    "data = pd.io.sql.read_sql(query, con = engine)"
   ]
  },
  {
   "cell_type": "code",
   "execution_count": 16,
   "metadata": {},
   "outputs": [
    {
     "data": {
      "text/html": [
       "<div>\n",
       "<style scoped>\n",
       "    .dataframe tbody tr th:only-of-type {\n",
       "        vertical-align: middle;\n",
       "    }\n",
       "\n",
       "    .dataframe tbody tr th {\n",
       "        vertical-align: top;\n",
       "    }\n",
       "\n",
       "    .dataframe thead th {\n",
       "        text-align: right;\n",
       "    }\n",
       "</style>\n",
       "<table border=\"1\" class=\"dataframe\">\n",
       "  <thead>\n",
       "    <tr style=\"text-align: right;\">\n",
       "      <th></th>\n",
       "      <th>rating_id</th>\n",
       "      <th>book_id</th>\n",
       "      <th>username</th>\n",
       "      <th>rating</th>\n",
       "    </tr>\n",
       "  </thead>\n",
       "  <tbody>\n",
       "    <tr>\n",
       "      <td>0</td>\n",
       "      <td>1</td>\n",
       "      <td>1</td>\n",
       "      <td>ryanfranco</td>\n",
       "      <td>4</td>\n",
       "    </tr>\n",
       "    <tr>\n",
       "      <td>1</td>\n",
       "      <td>2</td>\n",
       "      <td>1</td>\n",
       "      <td>grantpatricia</td>\n",
       "      <td>2</td>\n",
       "    </tr>\n",
       "    <tr>\n",
       "      <td>2</td>\n",
       "      <td>3</td>\n",
       "      <td>1</td>\n",
       "      <td>brandtandrea</td>\n",
       "      <td>5</td>\n",
       "    </tr>\n",
       "    <tr>\n",
       "      <td>3</td>\n",
       "      <td>4</td>\n",
       "      <td>2</td>\n",
       "      <td>lorichen</td>\n",
       "      <td>3</td>\n",
       "    </tr>\n",
       "    <tr>\n",
       "      <td>4</td>\n",
       "      <td>5</td>\n",
       "      <td>2</td>\n",
       "      <td>mariokeller</td>\n",
       "      <td>2</td>\n",
       "    </tr>\n",
       "  </tbody>\n",
       "</table>\n",
       "</div>"
      ],
      "text/plain": [
       "   rating_id  book_id       username  rating\n",
       "0          1        1     ryanfranco       4\n",
       "1          2        1  grantpatricia       2\n",
       "2          3        1   brandtandrea       5\n",
       "3          4        2       lorichen       3\n",
       "4          5        2    mariokeller       2"
      ]
     },
     "metadata": {},
     "output_type": "display_data"
    }
   ],
   "source": [
    "display(data)"
   ]
  },
  {
   "cell_type": "markdown",
   "metadata": {},
   "source": [
    "# Таблица содержит\n",
    "* review_id — идентификатор обзора; \n",
    "* book_id — идентификатор книги; \n",
    "* username — имя автора обзора; \n",
    "* text — текст обзора."
   ]
  },
  {
   "cell_type": "markdown",
   "metadata": {},
   "source": [
    "# Вывод\n",
    "Базы все изучила, просмотрела.Все в продядке, как и заявленно в описании.\n"
   ]
  },
  {
   "cell_type": "markdown",
   "metadata": {},
   "source": [
    "# 1. Посчитайте, сколько книг вышло после 1 января 2000 года;"
   ]
  },
  {
   "cell_type": "code",
   "execution_count": 17,
   "metadata": {},
   "outputs": [],
   "source": [
    "query = '''\n",
    "SELECT COUNT(book_id) AS количество_книг \n",
    "FROM books\n",
    "WHERE publication_date::DATE > '2000-01-01';\n",
    "'''"
   ]
  },
  {
   "cell_type": "code",
   "execution_count": 18,
   "metadata": {},
   "outputs": [],
   "source": [
    "data = pd.io.sql.read_sql(query, con = engine)"
   ]
  },
  {
   "cell_type": "code",
   "execution_count": 19,
   "metadata": {},
   "outputs": [
    {
     "data": {
      "text/html": [
       "<div>\n",
       "<style scoped>\n",
       "    .dataframe tbody tr th:only-of-type {\n",
       "        vertical-align: middle;\n",
       "    }\n",
       "\n",
       "    .dataframe tbody tr th {\n",
       "        vertical-align: top;\n",
       "    }\n",
       "\n",
       "    .dataframe thead th {\n",
       "        text-align: right;\n",
       "    }\n",
       "</style>\n",
       "<table border=\"1\" class=\"dataframe\">\n",
       "  <thead>\n",
       "    <tr style=\"text-align: right;\">\n",
       "      <th></th>\n",
       "      <th>количество_книг</th>\n",
       "    </tr>\n",
       "  </thead>\n",
       "  <tbody>\n",
       "    <tr>\n",
       "      <td>0</td>\n",
       "      <td>819</td>\n",
       "    </tr>\n",
       "  </tbody>\n",
       "</table>\n",
       "</div>"
      ],
      "text/plain": [
       "   количество_книг\n",
       "0              819"
      ]
     },
     "metadata": {},
     "output_type": "display_data"
    }
   ],
   "source": [
    "display(data)"
   ]
  },
  {
   "cell_type": "markdown",
   "metadata": {},
   "source": [
    "Вывод: 819 книг вышло после 1 января 2000 года"
   ]
  },
  {
   "cell_type": "markdown",
   "metadata": {},
   "source": [
    "# 2. Для каждой книги посчитайте количество обзоров и среднюю оценку\n"
   ]
  },
  {
   "cell_type": "code",
   "execution_count": 20,
   "metadata": {},
   "outputs": [],
   "source": [
    "query = '''\n",
    "SELECT title AS кол_обзоров, средняя_оценка FROM books \n",
    "LEFT JOIN \n",
    "(SELECT book_id, COUNT(review_id) AS кол_обзоров FROM reviews GROUP BY book_id) AS count_rew\n",
    "ON count_rew.book_id = books.book_id \n",
    "LEFT JOIN \n",
    "(SELECT book_id, AVG(rating) AS средняя_оценка FROM ratings GROUP BY book_id) AS avg_rating\n",
    "ON books.book_id = avg_rating.book_id\n",
    "'''"
   ]
  },
  {
   "cell_type": "code",
   "execution_count": 21,
   "metadata": {},
   "outputs": [],
   "source": [
    "data = pd.io.sql.read_sql(query, con = engine)"
   ]
  },
  {
   "cell_type": "code",
   "execution_count": 22,
   "metadata": {},
   "outputs": [
    {
     "data": {
      "text/html": [
       "<div>\n",
       "<style scoped>\n",
       "    .dataframe tbody tr th:only-of-type {\n",
       "        vertical-align: middle;\n",
       "    }\n",
       "\n",
       "    .dataframe tbody tr th {\n",
       "        vertical-align: top;\n",
       "    }\n",
       "\n",
       "    .dataframe thead th {\n",
       "        text-align: right;\n",
       "    }\n",
       "</style>\n",
       "<table border=\"1\" class=\"dataframe\">\n",
       "  <thead>\n",
       "    <tr style=\"text-align: right;\">\n",
       "      <th></th>\n",
       "      <th>кол_обзоров</th>\n",
       "      <th>средняя_оценка</th>\n",
       "    </tr>\n",
       "  </thead>\n",
       "  <tbody>\n",
       "    <tr>\n",
       "      <td>0</td>\n",
       "      <td>The Body in the Library (Miss Marple  #3)</td>\n",
       "      <td>4.500000</td>\n",
       "    </tr>\n",
       "    <tr>\n",
       "      <td>1</td>\n",
       "      <td>Galápagos</td>\n",
       "      <td>4.500000</td>\n",
       "    </tr>\n",
       "    <tr>\n",
       "      <td>2</td>\n",
       "      <td>A Tree Grows in Brooklyn</td>\n",
       "      <td>4.250000</td>\n",
       "    </tr>\n",
       "    <tr>\n",
       "      <td>3</td>\n",
       "      <td>Undaunted Courage: The Pioneering First Missio...</td>\n",
       "      <td>4.000000</td>\n",
       "    </tr>\n",
       "    <tr>\n",
       "      <td>4</td>\n",
       "      <td>The Prophet</td>\n",
       "      <td>4.285714</td>\n",
       "    </tr>\n",
       "    <tr>\n",
       "      <td>...</td>\n",
       "      <td>...</td>\n",
       "      <td>...</td>\n",
       "    </tr>\n",
       "    <tr>\n",
       "      <td>995</td>\n",
       "      <td>Alice in Wonderland</td>\n",
       "      <td>4.230769</td>\n",
       "    </tr>\n",
       "    <tr>\n",
       "      <td>996</td>\n",
       "      <td>A Woman of Substance (Emma Harte Saga #1)</td>\n",
       "      <td>5.000000</td>\n",
       "    </tr>\n",
       "    <tr>\n",
       "      <td>997</td>\n",
       "      <td>Christine</td>\n",
       "      <td>3.428571</td>\n",
       "    </tr>\n",
       "    <tr>\n",
       "      <td>998</td>\n",
       "      <td>The Magicians' Guild (Black Magician Trilogy  #1)</td>\n",
       "      <td>3.500000</td>\n",
       "    </tr>\n",
       "    <tr>\n",
       "      <td>999</td>\n",
       "      <td>The Plot Against America</td>\n",
       "      <td>3.000000</td>\n",
       "    </tr>\n",
       "  </tbody>\n",
       "</table>\n",
       "<p>1000 rows × 2 columns</p>\n",
       "</div>"
      ],
      "text/plain": [
       "                                           кол_обзоров  средняя_оценка\n",
       "0            The Body in the Library (Miss Marple  #3)        4.500000\n",
       "1                                            Galápagos        4.500000\n",
       "2                             A Tree Grows in Brooklyn        4.250000\n",
       "3    Undaunted Courage: The Pioneering First Missio...        4.000000\n",
       "4                                          The Prophet        4.285714\n",
       "..                                                 ...             ...\n",
       "995                                Alice in Wonderland        4.230769\n",
       "996          A Woman of Substance (Emma Harte Saga #1)        5.000000\n",
       "997                                          Christine        3.428571\n",
       "998  The Magicians' Guild (Black Magician Trilogy  #1)        3.500000\n",
       "999                           The Plot Against America        3.000000\n",
       "\n",
       "[1000 rows x 2 columns]"
      ]
     },
     "metadata": {},
     "output_type": "display_data"
    }
   ],
   "source": [
    "display(data)"
   ]
  },
  {
   "cell_type": "markdown",
   "metadata": {},
   "source": [
    "# Вывод\n",
    "Для каждой книги посчитано количество обзоров и средний рейтинг"
   ]
  },
  {
   "cell_type": "markdown",
   "metadata": {},
   "source": [
    "# 3. Определите издательство, которое выпустило наибольшее число книг толще 50 страниц — так вы исключите из анализа брошюры;"
   ]
  },
  {
   "cell_type": "code",
   "execution_count": 23,
   "metadata": {},
   "outputs": [],
   "source": [
    "query = '''\n",
    "SELECT\n",
    "    publishers.publisher,\n",
    "    COUNT(book_id)\n",
    "FROM books INNER JOIN publishers ON books.publisher_id = publishers.publisher_id\n",
    "WHERE books.num_pages > 50\n",
    "GROUP BY publishers.publisher\n",
    "ORDER BY count DESC\n",
    "LIMIT 1;\n",
    "'''"
   ]
  },
  {
   "cell_type": "code",
   "execution_count": 24,
   "metadata": {},
   "outputs": [],
   "source": [
    "data = pd.io.sql.read_sql(query, con = engine)"
   ]
  },
  {
   "cell_type": "code",
   "execution_count": 25,
   "metadata": {},
   "outputs": [
    {
     "data": {
      "text/html": [
       "<div>\n",
       "<style scoped>\n",
       "    .dataframe tbody tr th:only-of-type {\n",
       "        vertical-align: middle;\n",
       "    }\n",
       "\n",
       "    .dataframe tbody tr th {\n",
       "        vertical-align: top;\n",
       "    }\n",
       "\n",
       "    .dataframe thead th {\n",
       "        text-align: right;\n",
       "    }\n",
       "</style>\n",
       "<table border=\"1\" class=\"dataframe\">\n",
       "  <thead>\n",
       "    <tr style=\"text-align: right;\">\n",
       "      <th></th>\n",
       "      <th>publisher</th>\n",
       "      <th>count</th>\n",
       "    </tr>\n",
       "  </thead>\n",
       "  <tbody>\n",
       "    <tr>\n",
       "      <td>0</td>\n",
       "      <td>Penguin Books</td>\n",
       "      <td>42</td>\n",
       "    </tr>\n",
       "  </tbody>\n",
       "</table>\n",
       "</div>"
      ],
      "text/plain": [
       "       publisher  count\n",
       "0  Penguin Books     42"
      ]
     },
     "metadata": {},
     "output_type": "display_data"
    }
   ],
   "source": [
    "display(data)"
   ]
  },
  {
   "cell_type": "markdown",
   "metadata": {},
   "source": [
    "# Вывод\n",
    "\n",
    "Самое продуктивное издательство - Penguin Books, оно выпустило 42 книги толще 50 стр."
   ]
  },
  {
   "cell_type": "markdown",
   "metadata": {},
   "source": [
    "# 4. Определите автора с самой высокой средней оценкой книг — учитывайте только книги с 50 и более оценками;\n"
   ]
  },
  {
   "cell_type": "code",
   "execution_count": 26,
   "metadata": {},
   "outputs": [],
   "source": [
    "query = '''\n",
    "SELECT\n",
    "    author,\n",
    "    AVG(subq.rating) AS avg_rating\n",
    "FROM (\n",
    "    SELECT\n",
    "        author,\n",
    "        title,\n",
    "        AVG(rating) AS rating\n",
    "    FROM (\n",
    "        SELECT *\n",
    "        FROM books\n",
    "        WHERE book_id IN (\n",
    "            SELECT book_id\n",
    "            FROM ratings\n",
    "            GROUP BY book_id\n",
    "            HAVING COUNT(rating) >= 50\n",
    "        ) \n",
    "    ) AS rated_books\n",
    "    INNER JOIN authors ON rated_books.author_id = authors.author_id\n",
    "    INNER JOIN ratings ON rated_books.book_id = ratings.book_id\n",
    "    GROUP BY author, title\n",
    "    ORDER BY author\n",
    ") AS subq\n",
    "GROUP BY author\n",
    "ORDER BY avg_rating DESC\n",
    "LIMIT 1\n",
    "'''"
   ]
  },
  {
   "cell_type": "code",
   "execution_count": 27,
   "metadata": {},
   "outputs": [],
   "source": [
    "data = pd.io.sql.read_sql(query, con = engine)"
   ]
  },
  {
   "cell_type": "code",
   "execution_count": 28,
   "metadata": {},
   "outputs": [
    {
     "data": {
      "text/html": [
       "<div>\n",
       "<style scoped>\n",
       "    .dataframe tbody tr th:only-of-type {\n",
       "        vertical-align: middle;\n",
       "    }\n",
       "\n",
       "    .dataframe tbody tr th {\n",
       "        vertical-align: top;\n",
       "    }\n",
       "\n",
       "    .dataframe thead th {\n",
       "        text-align: right;\n",
       "    }\n",
       "</style>\n",
       "<table border=\"1\" class=\"dataframe\">\n",
       "  <thead>\n",
       "    <tr style=\"text-align: right;\">\n",
       "      <th></th>\n",
       "      <th>author</th>\n",
       "      <th>avg_rating</th>\n",
       "    </tr>\n",
       "  </thead>\n",
       "  <tbody>\n",
       "    <tr>\n",
       "      <td>0</td>\n",
       "      <td>J.K. Rowling/Mary GrandPré</td>\n",
       "      <td>4.283844</td>\n",
       "    </tr>\n",
       "  </tbody>\n",
       "</table>\n",
       "</div>"
      ],
      "text/plain": [
       "                       author  avg_rating\n",
       "0  J.K. Rowling/Mary GrandPré    4.283844"
      ]
     },
     "metadata": {},
     "output_type": "display_data"
    }
   ],
   "source": [
    "display(data)"
   ]
  },
  {
   "cell_type": "markdown",
   "metadata": {},
   "source": [
    "# Вывод\n",
    "Дуэт писательницы Джоанны Роулинг и иллюстратора Мэри Гранпрэ имеет наивысший средний рейтинг написанных книг (4.28) среди книг, имеющих 50 и более оценок"
   ]
  },
  {
   "cell_type": "markdown",
   "metadata": {},
   "source": [
    "# 5. Посчитайте среднее количество обзоров от пользователей, которые поставили больше 50 оценок"
   ]
  },
  {
   "cell_type": "code",
   "execution_count": 29,
   "metadata": {},
   "outputs": [],
   "source": [
    "# создаём запрос\n",
    "query = '''\n",
    "SELECT\n",
    "    AVG(subq.review_count) AS average_review_count\n",
    "FROM (\n",
    "    SELECT COUNT(review_id) AS review_count\n",
    "        FROM\n",
    "            reviews\n",
    "        WHERE username IN (\n",
    "            SELECT\n",
    "                username\n",
    "            FROM ratings\n",
    "            GROUP BY username\n",
    "            HAVING COUNT(rating) > 50\n",
    "            )\n",
    "    GROUP BY username\n",
    "    ) AS subq;\n",
    "'''"
   ]
  },
  {
   "cell_type": "code",
   "execution_count": 30,
   "metadata": {},
   "outputs": [],
   "source": [
    "data = pd.io.sql.read_sql(query, con = engine)"
   ]
  },
  {
   "cell_type": "code",
   "execution_count": 31,
   "metadata": {},
   "outputs": [
    {
     "data": {
      "text/html": [
       "<div>\n",
       "<style scoped>\n",
       "    .dataframe tbody tr th:only-of-type {\n",
       "        vertical-align: middle;\n",
       "    }\n",
       "\n",
       "    .dataframe tbody tr th {\n",
       "        vertical-align: top;\n",
       "    }\n",
       "\n",
       "    .dataframe thead th {\n",
       "        text-align: right;\n",
       "    }\n",
       "</style>\n",
       "<table border=\"1\" class=\"dataframe\">\n",
       "  <thead>\n",
       "    <tr style=\"text-align: right;\">\n",
       "      <th></th>\n",
       "      <th>average_review_count</th>\n",
       "    </tr>\n",
       "  </thead>\n",
       "  <tbody>\n",
       "    <tr>\n",
       "      <td>0</td>\n",
       "      <td>24.333333</td>\n",
       "    </tr>\n",
       "  </tbody>\n",
       "</table>\n",
       "</div>"
      ],
      "text/plain": [
       "   average_review_count\n",
       "0             24.333333"
      ]
     },
     "metadata": {},
     "output_type": "display_data"
    }
   ],
   "source": [
    "display(data)"
   ]
  },
  {
   "cell_type": "markdown",
   "metadata": {},
   "source": [
    "# Вывод\n",
    "Среднее количество обзоров, написанных пользователями, которые поставили более 50 оценок, составляет 24.(3)"
   ]
  },
  {
   "cell_type": "markdown",
   "metadata": {},
   "source": [
    "# Итог:\n",
    "* Посчитала, сколько книг вышло после 1 января 2000 года - 819 книг;\n",
    "* Для каждой книги посчитать количество обзоров и среднюю оценку - посчитала:\n",
    "* Определить издательство, которое выпустило наибольшее число книг толще 50 страниц - Penguin Books;\n",
    "* Определить автора с самой высокой средней оценкой книг - J.K. Rowling/Mary GrandPré;\n",
    "* Посчитать среднее количество обзоров от пользователей, которые поставили больше 50 оценок - 24,3 \n",
    "    "
   ]
  },
  {
   "cell_type": "code",
   "execution_count": null,
   "metadata": {},
   "outputs": [],
   "source": []
  }
 ],
 "metadata": {
  "ExecuteTimeLog": [
   {
    "duration": 4,
    "start_time": "2021-10-15T07:21:52.927Z"
   },
   {
    "duration": 133,
    "start_time": "2021-10-15T07:28:42.896Z"
   },
   {
    "duration": 803,
    "start_time": "2021-10-15T07:29:37.974Z"
   },
   {
    "duration": 101,
    "start_time": "2021-10-15T07:29:49.318Z"
   },
   {
    "duration": 379,
    "start_time": "2021-10-15T07:30:09.483Z"
   },
   {
    "duration": 97,
    "start_time": "2021-10-15T07:30:45.735Z"
   },
   {
    "duration": 99,
    "start_time": "2021-10-15T07:32:33.452Z"
   },
   {
    "duration": 45,
    "start_time": "2021-10-15T07:32:59.667Z"
   },
   {
    "duration": 95,
    "start_time": "2021-10-15T07:33:02.545Z"
   },
   {
    "duration": 78,
    "start_time": "2021-10-15T07:33:13.025Z"
   },
   {
    "duration": 90,
    "start_time": "2021-10-15T07:34:19.856Z"
   },
   {
    "duration": 3,
    "start_time": "2021-10-15T07:34:38.567Z"
   },
   {
    "duration": 203,
    "start_time": "2021-10-15T07:35:09.910Z"
   },
   {
    "duration": 21,
    "start_time": "2021-10-15T07:35:23.830Z"
   },
   {
    "duration": 4,
    "start_time": "2021-10-15T07:38:37.627Z"
   },
   {
    "duration": 11,
    "start_time": "2021-10-15T07:39:08.362Z"
   },
   {
    "duration": 4,
    "start_time": "2021-10-15T07:39:41.736Z"
   },
   {
    "duration": 55,
    "start_time": "2021-10-15T07:39:42.272Z"
   },
   {
    "duration": 9,
    "start_time": "2021-10-15T07:39:42.731Z"
   },
   {
    "duration": 3,
    "start_time": "2021-10-15T07:41:13.216Z"
   },
   {
    "duration": 4,
    "start_time": "2021-10-15T07:41:33.821Z"
   },
   {
    "duration": 56,
    "start_time": "2021-10-15T07:41:34.351Z"
   },
   {
    "duration": 9,
    "start_time": "2021-10-15T07:41:35.039Z"
   },
   {
    "duration": 4,
    "start_time": "2021-10-15T07:43:20.298Z"
   },
   {
    "duration": 57,
    "start_time": "2021-10-15T07:43:21.030Z"
   },
   {
    "duration": 11,
    "start_time": "2021-10-15T07:43:21.548Z"
   },
   {
    "duration": 3,
    "start_time": "2021-10-15T07:44:51.782Z"
   },
   {
    "duration": 55,
    "start_time": "2021-10-15T07:44:52.268Z"
   },
   {
    "duration": 11,
    "start_time": "2021-10-15T07:44:52.690Z"
   },
   {
    "duration": 4,
    "start_time": "2021-10-15T07:48:59.633Z"
   },
   {
    "duration": 3,
    "start_time": "2021-10-15T07:49:14.505Z"
   },
   {
    "duration": 351,
    "start_time": "2021-10-15T07:49:15.062Z"
   },
   {
    "duration": 11,
    "start_time": "2021-10-15T07:49:15.546Z"
   },
   {
    "duration": 3,
    "start_time": "2021-10-15T07:50:43.157Z"
   },
   {
    "duration": 55,
    "start_time": "2021-10-15T07:50:43.976Z"
   },
   {
    "duration": 7,
    "start_time": "2021-10-15T07:50:44.941Z"
   },
   {
    "duration": 100,
    "start_time": "2021-10-15T08:24:15.780Z"
   },
   {
    "duration": 4,
    "start_time": "2021-10-15T08:24:30.480Z"
   },
   {
    "duration": 544,
    "start_time": "2021-10-15T08:24:31.080Z"
   },
   {
    "duration": -245,
    "start_time": "2021-10-15T08:24:31.872Z"
   },
   {
    "duration": 90,
    "start_time": "2021-10-15T08:26:06.693Z"
   },
   {
    "duration": 349,
    "start_time": "2021-10-15T08:26:07.193Z"
   },
   {
    "duration": 8,
    "start_time": "2021-10-15T08:26:08.301Z"
   },
   {
    "duration": 274,
    "start_time": "2021-10-15T08:26:20.667Z"
   },
   {
    "duration": 93,
    "start_time": "2021-10-15T08:26:51.622Z"
   },
   {
    "duration": 3,
    "start_time": "2021-10-15T08:26:58.613Z"
   },
   {
    "duration": 80,
    "start_time": "2021-10-15T08:27:00.240Z"
   },
   {
    "duration": 19,
    "start_time": "2021-10-15T08:27:02.229Z"
   },
   {
    "duration": 3,
    "start_time": "2021-10-15T08:29:23.523Z"
   },
   {
    "duration": 408,
    "start_time": "2021-10-15T08:29:24.059Z"
   },
   {
    "duration": 15,
    "start_time": "2021-10-15T08:29:24.531Z"
   },
   {
    "duration": 3,
    "start_time": "2021-10-15T08:30:20.660Z"
   },
   {
    "duration": 55,
    "start_time": "2021-10-15T08:30:21.079Z"
   },
   {
    "duration": 7,
    "start_time": "2021-10-15T08:30:21.475Z"
   },
   {
    "duration": 4,
    "start_time": "2021-10-15T08:30:36.507Z"
   },
   {
    "duration": 76,
    "start_time": "2021-10-15T08:30:37.185Z"
   },
   {
    "duration": 14,
    "start_time": "2021-10-15T08:30:38.409Z"
   },
   {
    "duration": 4,
    "start_time": "2021-10-15T08:34:57.531Z"
   },
   {
    "duration": 353,
    "start_time": "2021-10-15T08:34:58.825Z"
   },
   {
    "duration": 15,
    "start_time": "2021-10-15T08:35:00.160Z"
   },
   {
    "duration": 4,
    "start_time": "2021-10-15T08:36:17.161Z"
   },
   {
    "duration": 58,
    "start_time": "2021-10-15T08:36:17.786Z"
   },
   {
    "duration": 8,
    "start_time": "2021-10-15T08:36:18.638Z"
   },
   {
    "duration": 3,
    "start_time": "2021-10-15T08:38:44.198Z"
   },
   {
    "duration": 60,
    "start_time": "2021-10-15T08:38:44.950Z"
   },
   {
    "duration": 9,
    "start_time": "2021-10-15T08:38:45.759Z"
   },
   {
    "duration": 4,
    "start_time": "2021-10-15T08:39:35.906Z"
   },
   {
    "duration": 3,
    "start_time": "2021-10-15T08:40:09.237Z"
   },
   {
    "duration": 57,
    "start_time": "2021-10-15T08:40:10.010Z"
   },
   {
    "duration": 8,
    "start_time": "2021-10-15T08:40:10.533Z"
   },
   {
    "duration": 659,
    "start_time": "2021-10-18T06:36:40.795Z"
   },
   {
    "duration": 3,
    "start_time": "2021-10-18T06:36:41.456Z"
   },
   {
    "duration": 257,
    "start_time": "2021-10-18T06:36:41.463Z"
   },
   {
    "duration": 13,
    "start_time": "2021-10-18T06:36:41.722Z"
   },
   {
    "duration": 2,
    "start_time": "2021-10-18T06:36:41.737Z"
   },
   {
    "duration": 73,
    "start_time": "2021-10-18T06:36:41.740Z"
   },
   {
    "duration": 6,
    "start_time": "2021-10-18T06:36:41.816Z"
   },
   {
    "duration": 5,
    "start_time": "2021-10-18T06:36:41.823Z"
   },
   {
    "duration": 72,
    "start_time": "2021-10-18T06:36:41.829Z"
   },
   {
    "duration": 5,
    "start_time": "2021-10-18T06:36:41.903Z"
   },
   {
    "duration": 4,
    "start_time": "2021-10-18T06:36:41.910Z"
   },
   {
    "duration": 73,
    "start_time": "2021-10-18T06:36:41.915Z"
   },
   {
    "duration": 7,
    "start_time": "2021-10-18T06:36:41.989Z"
   },
   {
    "duration": 4,
    "start_time": "2021-10-18T06:36:41.997Z"
   },
   {
    "duration": 73,
    "start_time": "2021-10-18T06:36:42.002Z"
   },
   {
    "duration": 6,
    "start_time": "2021-10-18T06:36:42.076Z"
   },
   {
    "duration": 4,
    "start_time": "2021-10-18T06:36:42.084Z"
   },
   {
    "duration": 73,
    "start_time": "2021-10-18T06:36:42.089Z"
   },
   {
    "duration": 5,
    "start_time": "2021-10-18T06:36:42.163Z"
   },
   {
    "duration": 5,
    "start_time": "2021-10-18T06:36:42.169Z"
   },
   {
    "duration": 133,
    "start_time": "2021-10-18T06:36:42.175Z"
   },
   {
    "duration": 10,
    "start_time": "2021-10-18T06:36:42.310Z"
   },
   {
    "duration": 5,
    "start_time": "2021-10-18T06:36:42.322Z"
   },
   {
    "duration": 73,
    "start_time": "2021-10-18T06:36:42.329Z"
   },
   {
    "duration": 6,
    "start_time": "2021-10-18T06:36:42.406Z"
   },
   {
    "duration": 4,
    "start_time": "2021-10-18T06:36:42.414Z"
   },
   {
    "duration": 78,
    "start_time": "2021-10-18T06:36:42.420Z"
   },
   {
    "duration": 7,
    "start_time": "2021-10-18T06:36:42.499Z"
   },
   {
    "duration": 5,
    "start_time": "2021-10-18T06:36:42.508Z"
   },
   {
    "duration": 79,
    "start_time": "2021-10-18T06:36:42.514Z"
   },
   {
    "duration": 6,
    "start_time": "2021-10-18T06:36:42.595Z"
   },
   {
    "duration": 2,
    "start_time": "2021-10-18T06:41:22.877Z"
   },
   {
    "duration": 110,
    "start_time": "2021-10-18T06:41:24.617Z"
   },
   {
    "duration": 11,
    "start_time": "2021-10-18T06:41:25.000Z"
   },
   {
    "duration": 3,
    "start_time": "2021-10-18T06:49:36.454Z"
   },
   {
    "duration": 95,
    "start_time": "2021-10-18T06:49:36.991Z"
   },
   {
    "duration": 9,
    "start_time": "2021-10-18T06:49:37.544Z"
   },
   {
    "duration": 614,
    "start_time": "2021-10-18T06:50:03.305Z"
   },
   {
    "duration": 3,
    "start_time": "2021-10-18T06:50:03.920Z"
   },
   {
    "duration": 251,
    "start_time": "2021-10-18T06:50:03.925Z"
   },
   {
    "duration": 13,
    "start_time": "2021-10-18T06:50:04.177Z"
   },
   {
    "duration": 2,
    "start_time": "2021-10-18T06:50:04.191Z"
   },
   {
    "duration": 70,
    "start_time": "2021-10-18T06:50:04.195Z"
   },
   {
    "duration": 6,
    "start_time": "2021-10-18T06:50:04.266Z"
   },
   {
    "duration": 4,
    "start_time": "2021-10-18T06:50:04.274Z"
   },
   {
    "duration": 77,
    "start_time": "2021-10-18T06:50:04.280Z"
   },
   {
    "duration": 5,
    "start_time": "2021-10-18T06:50:04.359Z"
   },
   {
    "duration": 6,
    "start_time": "2021-10-18T06:50:04.366Z"
   },
   {
    "duration": 72,
    "start_time": "2021-10-18T06:50:04.373Z"
   },
   {
    "duration": 7,
    "start_time": "2021-10-18T06:50:04.447Z"
   },
   {
    "duration": 4,
    "start_time": "2021-10-18T06:50:04.456Z"
   },
   {
    "duration": 71,
    "start_time": "2021-10-18T06:50:04.461Z"
   },
   {
    "duration": 6,
    "start_time": "2021-10-18T06:50:04.534Z"
   },
   {
    "duration": 4,
    "start_time": "2021-10-18T06:50:04.542Z"
   },
   {
    "duration": 71,
    "start_time": "2021-10-18T06:50:04.547Z"
   },
   {
    "duration": 5,
    "start_time": "2021-10-18T06:50:04.619Z"
   },
   {
    "duration": 4,
    "start_time": "2021-10-18T06:50:04.626Z"
   },
   {
    "duration": 98,
    "start_time": "2021-10-18T06:50:04.631Z"
   },
   {
    "duration": 9,
    "start_time": "2021-10-18T06:50:04.731Z"
   },
   {
    "duration": 2,
    "start_time": "2021-10-18T06:50:04.743Z"
   },
   {
    "duration": 73,
    "start_time": "2021-10-18T06:50:04.747Z"
   },
   {
    "duration": 5,
    "start_time": "2021-10-18T06:50:04.822Z"
   },
   {
    "duration": 4,
    "start_time": "2021-10-18T06:50:04.829Z"
   },
   {
    "duration": 78,
    "start_time": "2021-10-18T06:50:04.834Z"
   },
   {
    "duration": 7,
    "start_time": "2021-10-18T06:50:04.914Z"
   },
   {
    "duration": 5,
    "start_time": "2021-10-18T06:50:04.923Z"
   },
   {
    "duration": 72,
    "start_time": "2021-10-18T06:50:04.929Z"
   },
   {
    "duration": 5,
    "start_time": "2021-10-18T06:50:05.003Z"
   },
   {
    "duration": 642,
    "start_time": "2021-10-18T21:49:31.903Z"
   },
   {
    "duration": 3,
    "start_time": "2021-10-18T21:49:32.547Z"
   },
   {
    "duration": 240,
    "start_time": "2021-10-18T21:49:32.552Z"
   },
   {
    "duration": 14,
    "start_time": "2021-10-18T21:49:32.794Z"
   },
   {
    "duration": 4,
    "start_time": "2021-10-18T21:49:32.810Z"
   },
   {
    "duration": 67,
    "start_time": "2021-10-18T21:49:32.815Z"
   },
   {
    "duration": 6,
    "start_time": "2021-10-18T21:49:32.884Z"
   },
   {
    "duration": 7,
    "start_time": "2021-10-18T21:49:32.891Z"
   },
   {
    "duration": 65,
    "start_time": "2021-10-18T21:49:32.900Z"
   },
   {
    "duration": 6,
    "start_time": "2021-10-18T21:49:32.967Z"
   },
   {
    "duration": 6,
    "start_time": "2021-10-18T21:49:32.974Z"
   },
   {
    "duration": 71,
    "start_time": "2021-10-18T21:49:32.982Z"
   },
   {
    "duration": 8,
    "start_time": "2021-10-18T21:49:33.055Z"
   },
   {
    "duration": 4,
    "start_time": "2021-10-18T21:49:33.065Z"
   },
   {
    "duration": 67,
    "start_time": "2021-10-18T21:49:33.070Z"
   },
   {
    "duration": 6,
    "start_time": "2021-10-18T21:49:33.138Z"
   },
   {
    "duration": 4,
    "start_time": "2021-10-18T21:49:33.146Z"
   },
   {
    "duration": 66,
    "start_time": "2021-10-18T21:49:33.151Z"
   },
   {
    "duration": 5,
    "start_time": "2021-10-18T21:49:33.218Z"
   },
   {
    "duration": 5,
    "start_time": "2021-10-18T21:49:33.225Z"
   },
   {
    "duration": 93,
    "start_time": "2021-10-18T21:49:33.231Z"
   },
   {
    "duration": 8,
    "start_time": "2021-10-18T21:49:33.326Z"
   },
   {
    "duration": 8,
    "start_time": "2021-10-18T21:49:33.336Z"
   },
   {
    "duration": 68,
    "start_time": "2021-10-18T21:49:33.345Z"
   },
   {
    "duration": 6,
    "start_time": "2021-10-18T21:49:33.415Z"
   },
   {
    "duration": 7,
    "start_time": "2021-10-18T21:49:33.422Z"
   },
   {
    "duration": 69,
    "start_time": "2021-10-18T21:49:33.432Z"
   },
   {
    "duration": 5,
    "start_time": "2021-10-18T21:49:33.503Z"
   },
   {
    "duration": 5,
    "start_time": "2021-10-18T21:49:33.510Z"
   },
   {
    "duration": 76,
    "start_time": "2021-10-18T21:49:33.516Z"
   },
   {
    "duration": 7,
    "start_time": "2021-10-18T21:49:33.593Z"
   },
   {
    "duration": 665,
    "start_time": "2021-10-18T21:50:08.466Z"
   },
   {
    "duration": 3,
    "start_time": "2021-10-18T21:50:09.133Z"
   },
   {
    "duration": 231,
    "start_time": "2021-10-18T21:50:09.137Z"
   },
   {
    "duration": 14,
    "start_time": "2021-10-18T21:50:09.371Z"
   },
   {
    "duration": 3,
    "start_time": "2021-10-18T21:50:09.387Z"
   },
   {
    "duration": 65,
    "start_time": "2021-10-18T21:50:09.392Z"
   },
   {
    "duration": 7,
    "start_time": "2021-10-18T21:50:09.459Z"
   },
   {
    "duration": 3,
    "start_time": "2021-10-18T21:50:09.469Z"
   },
   {
    "duration": 65,
    "start_time": "2021-10-18T21:50:09.475Z"
   },
   {
    "duration": 7,
    "start_time": "2021-10-18T21:50:09.541Z"
   },
   {
    "duration": 4,
    "start_time": "2021-10-18T21:50:09.551Z"
   },
   {
    "duration": 64,
    "start_time": "2021-10-18T21:50:09.557Z"
   },
   {
    "duration": 8,
    "start_time": "2021-10-18T21:50:09.623Z"
   },
   {
    "duration": 3,
    "start_time": "2021-10-18T21:50:09.633Z"
   },
   {
    "duration": 66,
    "start_time": "2021-10-18T21:50:09.638Z"
   },
   {
    "duration": 8,
    "start_time": "2021-10-18T21:50:09.705Z"
   },
   {
    "duration": 5,
    "start_time": "2021-10-18T21:50:09.715Z"
   },
   {
    "duration": 66,
    "start_time": "2021-10-18T21:50:09.721Z"
   },
   {
    "duration": 7,
    "start_time": "2021-10-18T21:50:09.789Z"
   },
   {
    "duration": 4,
    "start_time": "2021-10-18T21:50:09.798Z"
   },
   {
    "duration": 91,
    "start_time": "2021-10-18T21:50:09.804Z"
   },
   {
    "duration": 9,
    "start_time": "2021-10-18T21:50:09.897Z"
   },
   {
    "duration": 3,
    "start_time": "2021-10-18T21:50:09.910Z"
   },
   {
    "duration": 66,
    "start_time": "2021-10-18T21:50:09.915Z"
   },
   {
    "duration": 6,
    "start_time": "2021-10-18T21:50:09.982Z"
   },
   {
    "duration": 5,
    "start_time": "2021-10-18T21:50:09.990Z"
   },
   {
    "duration": 69,
    "start_time": "2021-10-18T21:50:09.997Z"
   },
   {
    "duration": 7,
    "start_time": "2021-10-18T21:50:10.067Z"
   },
   {
    "duration": 5,
    "start_time": "2021-10-18T21:50:10.075Z"
   },
   {
    "duration": 67,
    "start_time": "2021-10-18T21:50:10.082Z"
   },
   {
    "duration": 6,
    "start_time": "2021-10-18T21:50:10.150Z"
   },
   {
    "duration": 1201,
    "start_time": "2021-10-19T08:11:41.130Z"
   },
   {
    "duration": 5,
    "start_time": "2021-10-19T08:11:42.334Z"
   },
   {
    "duration": 238,
    "start_time": "2021-10-19T08:11:42.343Z"
   },
   {
    "duration": 30,
    "start_time": "2021-10-19T08:11:42.583Z"
   },
   {
    "duration": 4,
    "start_time": "2021-10-19T08:11:42.616Z"
   },
   {
    "duration": 66,
    "start_time": "2021-10-19T08:11:42.623Z"
   },
   {
    "duration": 12,
    "start_time": "2021-10-19T08:11:42.693Z"
   },
   {
    "duration": 8,
    "start_time": "2021-10-19T08:11:42.710Z"
   },
   {
    "duration": 63,
    "start_time": "2021-10-19T08:11:42.722Z"
   },
   {
    "duration": 9,
    "start_time": "2021-10-19T08:11:42.787Z"
   },
   {
    "duration": 11,
    "start_time": "2021-10-19T08:11:42.798Z"
   },
   {
    "duration": 72,
    "start_time": "2021-10-19T08:11:42.812Z"
   },
   {
    "duration": 10,
    "start_time": "2021-10-19T08:11:42.887Z"
   },
   {
    "duration": 13,
    "start_time": "2021-10-19T08:11:42.900Z"
   },
   {
    "duration": 68,
    "start_time": "2021-10-19T08:11:42.916Z"
   },
   {
    "duration": 11,
    "start_time": "2021-10-19T08:11:42.987Z"
   },
   {
    "duration": 9,
    "start_time": "2021-10-19T08:11:43.001Z"
   },
   {
    "duration": 70,
    "start_time": "2021-10-19T08:11:43.012Z"
   },
   {
    "duration": 8,
    "start_time": "2021-10-19T08:11:43.085Z"
   },
   {
    "duration": 14,
    "start_time": "2021-10-19T08:11:43.097Z"
   },
   {
    "duration": 446,
    "start_time": "2021-10-19T08:11:43.114Z"
   },
   {
    "duration": 1768,
    "start_time": "2021-10-19T08:11:41.796Z"
   },
   {
    "duration": 1763,
    "start_time": "2021-10-19T08:11:41.802Z"
   },
   {
    "duration": 1759,
    "start_time": "2021-10-19T08:11:41.808Z"
   },
   {
    "duration": 1754,
    "start_time": "2021-10-19T08:11:41.814Z"
   },
   {
    "duration": 1751,
    "start_time": "2021-10-19T08:11:41.819Z"
   },
   {
    "duration": 1746,
    "start_time": "2021-10-19T08:11:41.825Z"
   },
   {
    "duration": 1743,
    "start_time": "2021-10-19T08:11:41.830Z"
   },
   {
    "duration": 1739,
    "start_time": "2021-10-19T08:11:41.836Z"
   },
   {
    "duration": 1735,
    "start_time": "2021-10-19T08:11:41.841Z"
   },
   {
    "duration": 1731,
    "start_time": "2021-10-19T08:11:41.847Z"
   },
   {
    "duration": 3,
    "start_time": "2021-10-19T08:17:00.135Z"
   },
   {
    "duration": 87,
    "start_time": "2021-10-19T08:17:01.728Z"
   },
   {
    "duration": 21,
    "start_time": "2021-10-19T08:17:02.737Z"
   },
   {
    "duration": 5,
    "start_time": "2021-10-19T08:26:10.136Z"
   },
   {
    "duration": 86,
    "start_time": "2021-10-19T08:26:11.425Z"
   },
   {
    "duration": 14,
    "start_time": "2021-10-19T08:26:11.926Z"
   },
   {
    "duration": 4,
    "start_time": "2021-10-19T08:27:02.201Z"
   },
   {
    "duration": 84,
    "start_time": "2021-10-19T08:27:02.679Z"
   },
   {
    "duration": 15,
    "start_time": "2021-10-19T08:27:03.079Z"
   },
   {
    "duration": 955,
    "start_time": "2021-10-19T08:31:16.185Z"
   },
   {
    "duration": 4,
    "start_time": "2021-10-19T08:31:17.143Z"
   },
   {
    "duration": 235,
    "start_time": "2021-10-19T08:31:17.150Z"
   },
   {
    "duration": 22,
    "start_time": "2021-10-19T08:31:17.388Z"
   },
   {
    "duration": 3,
    "start_time": "2021-10-19T08:31:17.413Z"
   },
   {
    "duration": 63,
    "start_time": "2021-10-19T08:31:17.418Z"
   },
   {
    "duration": 11,
    "start_time": "2021-10-19T08:31:17.484Z"
   },
   {
    "duration": 4,
    "start_time": "2021-10-19T08:31:17.500Z"
   },
   {
    "duration": 67,
    "start_time": "2021-10-19T08:31:17.508Z"
   },
   {
    "duration": 13,
    "start_time": "2021-10-19T08:31:17.578Z"
   },
   {
    "duration": 6,
    "start_time": "2021-10-19T08:31:17.594Z"
   },
   {
    "duration": 67,
    "start_time": "2021-10-19T08:31:17.603Z"
   },
   {
    "duration": 16,
    "start_time": "2021-10-19T08:31:17.673Z"
   },
   {
    "duration": 16,
    "start_time": "2021-10-19T08:31:17.692Z"
   },
   {
    "duration": 70,
    "start_time": "2021-10-19T08:31:17.710Z"
   },
   {
    "duration": 10,
    "start_time": "2021-10-19T08:31:17.783Z"
   },
   {
    "duration": 5,
    "start_time": "2021-10-19T08:31:17.795Z"
   },
   {
    "duration": 62,
    "start_time": "2021-10-19T08:31:17.802Z"
   },
   {
    "duration": 8,
    "start_time": "2021-10-19T08:31:17.867Z"
   },
   {
    "duration": 9,
    "start_time": "2021-10-19T08:31:17.878Z"
   },
   {
    "duration": 94,
    "start_time": "2021-10-19T08:31:17.890Z"
   },
   {
    "duration": 16,
    "start_time": "2021-10-19T08:31:17.987Z"
   },
   {
    "duration": 4,
    "start_time": "2021-10-19T08:31:18.009Z"
   },
   {
    "duration": 66,
    "start_time": "2021-10-19T08:31:18.016Z"
   },
   {
    "duration": 12,
    "start_time": "2021-10-19T08:31:18.085Z"
   },
   {
    "duration": 21,
    "start_time": "2021-10-19T08:31:18.100Z"
   },
   {
    "duration": 84,
    "start_time": "2021-10-19T08:31:18.123Z"
   },
   {
    "duration": 10,
    "start_time": "2021-10-19T08:31:18.209Z"
   },
   {
    "duration": 7,
    "start_time": "2021-10-19T08:31:18.222Z"
   },
   {
    "duration": 82,
    "start_time": "2021-10-19T08:31:18.231Z"
   },
   {
    "duration": 9,
    "start_time": "2021-10-19T08:31:18.315Z"
   }
  ],
  "kernelspec": {
   "display_name": "Python 3 (ipykernel)",
   "language": "python",
   "name": "python3"
  },
  "language_info": {
   "codemirror_mode": {
    "name": "ipython",
    "version": 3
   },
   "file_extension": ".py",
   "mimetype": "text/x-python",
   "name": "python",
   "nbconvert_exporter": "python",
   "pygments_lexer": "ipython3",
   "version": "3.9.7"
  },
  "toc": {
   "base_numbering": 1,
   "nav_menu": {},
   "number_sections": true,
   "sideBar": true,
   "skip_h1_title": true,
   "title_cell": "Table of Contents",
   "title_sidebar": "Contents",
   "toc_cell": false,
   "toc_position": {},
   "toc_section_display": true,
   "toc_window_display": false
  }
 },
 "nbformat": 4,
 "nbformat_minor": 2
}
