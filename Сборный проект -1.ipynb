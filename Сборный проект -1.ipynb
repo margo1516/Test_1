{
 "cells": [
  {
   "cell_type": "markdown",
   "metadata": {},
   "source": [
    "# Сборный проект"
   ]
  },
  {
   "cell_type": "markdown",
   "metadata": {},
   "source": [
    "# Содержание\n",
    " 1. Изучение данных из файла\n",
    " 2. Предобработка данных\n",
    " 3. Исследовательский анализ данных\n",
    " 4. Составьте портрет пользователя каждого региона\n",
    " 5. Проверим гипотезы\n",
    " 6. Общий вывод"
   ]
  },
  {
   "cell_type": "markdown",
   "metadata": {},
   "source": [
    "## Изучение данных из файла\n",
    " "
   ]
  },
  {
   "cell_type": "code",
   "execution_count": 42,
   "metadata": {},
   "outputs": [],
   "source": [
    "# Подключим все библиотеки, что б к ним не возращаться\n",
    "import pandas as pd\n",
    "import numpy as np\n",
    "import matplotlib.pyplot as plt\n",
    "import seaborn as sns\n",
    "import scipy.stats as st"
   ]
  },
  {
   "cell_type": "code",
   "execution_count": 43,
   "metadata": {},
   "outputs": [
    {
     "data": {
      "text/html": [
       "<div>\n",
       "<style scoped>\n",
       "    .dataframe tbody tr th:only-of-type {\n",
       "        vertical-align: middle;\n",
       "    }\n",
       "\n",
       "    .dataframe tbody tr th {\n",
       "        vertical-align: top;\n",
       "    }\n",
       "\n",
       "    .dataframe thead th {\n",
       "        text-align: right;\n",
       "    }\n",
       "</style>\n",
       "<table border=\"1\" class=\"dataframe\">\n",
       "  <thead>\n",
       "    <tr style=\"text-align: right;\">\n",
       "      <th></th>\n",
       "      <th>Name</th>\n",
       "      <th>Platform</th>\n",
       "      <th>Year_of_Release</th>\n",
       "      <th>Genre</th>\n",
       "      <th>NA_sales</th>\n",
       "      <th>EU_sales</th>\n",
       "      <th>JP_sales</th>\n",
       "      <th>Other_sales</th>\n",
       "      <th>Critic_Score</th>\n",
       "      <th>User_Score</th>\n",
       "      <th>Rating</th>\n",
       "    </tr>\n",
       "  </thead>\n",
       "  <tbody>\n",
       "    <tr>\n",
       "      <td>0</td>\n",
       "      <td>Wii Sports</td>\n",
       "      <td>Wii</td>\n",
       "      <td>2006.0</td>\n",
       "      <td>Sports</td>\n",
       "      <td>41.36</td>\n",
       "      <td>28.96</td>\n",
       "      <td>3.77</td>\n",
       "      <td>8.45</td>\n",
       "      <td>76.0</td>\n",
       "      <td>8</td>\n",
       "      <td>E</td>\n",
       "    </tr>\n",
       "    <tr>\n",
       "      <td>1</td>\n",
       "      <td>Super Mario Bros.</td>\n",
       "      <td>NES</td>\n",
       "      <td>1985.0</td>\n",
       "      <td>Platform</td>\n",
       "      <td>29.08</td>\n",
       "      <td>3.58</td>\n",
       "      <td>6.81</td>\n",
       "      <td>0.77</td>\n",
       "      <td>NaN</td>\n",
       "      <td>NaN</td>\n",
       "      <td>NaN</td>\n",
       "    </tr>\n",
       "    <tr>\n",
       "      <td>2</td>\n",
       "      <td>Mario Kart Wii</td>\n",
       "      <td>Wii</td>\n",
       "      <td>2008.0</td>\n",
       "      <td>Racing</td>\n",
       "      <td>15.68</td>\n",
       "      <td>12.76</td>\n",
       "      <td>3.79</td>\n",
       "      <td>3.29</td>\n",
       "      <td>82.0</td>\n",
       "      <td>8.3</td>\n",
       "      <td>E</td>\n",
       "    </tr>\n",
       "    <tr>\n",
       "      <td>3</td>\n",
       "      <td>Wii Sports Resort</td>\n",
       "      <td>Wii</td>\n",
       "      <td>2009.0</td>\n",
       "      <td>Sports</td>\n",
       "      <td>15.61</td>\n",
       "      <td>10.93</td>\n",
       "      <td>3.28</td>\n",
       "      <td>2.95</td>\n",
       "      <td>80.0</td>\n",
       "      <td>8</td>\n",
       "      <td>E</td>\n",
       "    </tr>\n",
       "    <tr>\n",
       "      <td>4</td>\n",
       "      <td>Pokemon Red/Pokemon Blue</td>\n",
       "      <td>GB</td>\n",
       "      <td>1996.0</td>\n",
       "      <td>Role-Playing</td>\n",
       "      <td>11.27</td>\n",
       "      <td>8.89</td>\n",
       "      <td>10.22</td>\n",
       "      <td>1.00</td>\n",
       "      <td>NaN</td>\n",
       "      <td>NaN</td>\n",
       "      <td>NaN</td>\n",
       "    </tr>\n",
       "    <tr>\n",
       "      <td>...</td>\n",
       "      <td>...</td>\n",
       "      <td>...</td>\n",
       "      <td>...</td>\n",
       "      <td>...</td>\n",
       "      <td>...</td>\n",
       "      <td>...</td>\n",
       "      <td>...</td>\n",
       "      <td>...</td>\n",
       "      <td>...</td>\n",
       "      <td>...</td>\n",
       "      <td>...</td>\n",
       "    </tr>\n",
       "    <tr>\n",
       "      <td>16710</td>\n",
       "      <td>Samurai Warriors: Sanada Maru</td>\n",
       "      <td>PS3</td>\n",
       "      <td>2016.0</td>\n",
       "      <td>Action</td>\n",
       "      <td>0.00</td>\n",
       "      <td>0.00</td>\n",
       "      <td>0.01</td>\n",
       "      <td>0.00</td>\n",
       "      <td>NaN</td>\n",
       "      <td>NaN</td>\n",
       "      <td>NaN</td>\n",
       "    </tr>\n",
       "    <tr>\n",
       "      <td>16711</td>\n",
       "      <td>LMA Manager 2007</td>\n",
       "      <td>X360</td>\n",
       "      <td>2006.0</td>\n",
       "      <td>Sports</td>\n",
       "      <td>0.00</td>\n",
       "      <td>0.01</td>\n",
       "      <td>0.00</td>\n",
       "      <td>0.00</td>\n",
       "      <td>NaN</td>\n",
       "      <td>NaN</td>\n",
       "      <td>NaN</td>\n",
       "    </tr>\n",
       "    <tr>\n",
       "      <td>16712</td>\n",
       "      <td>Haitaka no Psychedelica</td>\n",
       "      <td>PSV</td>\n",
       "      <td>2016.0</td>\n",
       "      <td>Adventure</td>\n",
       "      <td>0.00</td>\n",
       "      <td>0.00</td>\n",
       "      <td>0.01</td>\n",
       "      <td>0.00</td>\n",
       "      <td>NaN</td>\n",
       "      <td>NaN</td>\n",
       "      <td>NaN</td>\n",
       "    </tr>\n",
       "    <tr>\n",
       "      <td>16713</td>\n",
       "      <td>Spirits &amp; Spells</td>\n",
       "      <td>GBA</td>\n",
       "      <td>2003.0</td>\n",
       "      <td>Platform</td>\n",
       "      <td>0.01</td>\n",
       "      <td>0.00</td>\n",
       "      <td>0.00</td>\n",
       "      <td>0.00</td>\n",
       "      <td>NaN</td>\n",
       "      <td>NaN</td>\n",
       "      <td>NaN</td>\n",
       "    </tr>\n",
       "    <tr>\n",
       "      <td>16714</td>\n",
       "      <td>Winning Post 8 2016</td>\n",
       "      <td>PSV</td>\n",
       "      <td>2016.0</td>\n",
       "      <td>Simulation</td>\n",
       "      <td>0.00</td>\n",
       "      <td>0.00</td>\n",
       "      <td>0.01</td>\n",
       "      <td>0.00</td>\n",
       "      <td>NaN</td>\n",
       "      <td>NaN</td>\n",
       "      <td>NaN</td>\n",
       "    </tr>\n",
       "  </tbody>\n",
       "</table>\n",
       "<p>16715 rows × 11 columns</p>\n",
       "</div>"
      ],
      "text/plain": [
       "                                Name Platform  Year_of_Release         Genre  \\\n",
       "0                         Wii Sports      Wii           2006.0        Sports   \n",
       "1                  Super Mario Bros.      NES           1985.0      Platform   \n",
       "2                     Mario Kart Wii      Wii           2008.0        Racing   \n",
       "3                  Wii Sports Resort      Wii           2009.0        Sports   \n",
       "4           Pokemon Red/Pokemon Blue       GB           1996.0  Role-Playing   \n",
       "...                              ...      ...              ...           ...   \n",
       "16710  Samurai Warriors: Sanada Maru      PS3           2016.0        Action   \n",
       "16711               LMA Manager 2007     X360           2006.0        Sports   \n",
       "16712        Haitaka no Psychedelica      PSV           2016.0     Adventure   \n",
       "16713               Spirits & Spells      GBA           2003.0      Platform   \n",
       "16714            Winning Post 8 2016      PSV           2016.0    Simulation   \n",
       "\n",
       "       NA_sales  EU_sales  JP_sales  Other_sales  Critic_Score User_Score  \\\n",
       "0         41.36     28.96      3.77         8.45          76.0          8   \n",
       "1         29.08      3.58      6.81         0.77           NaN        NaN   \n",
       "2         15.68     12.76      3.79         3.29          82.0        8.3   \n",
       "3         15.61     10.93      3.28         2.95          80.0          8   \n",
       "4         11.27      8.89     10.22         1.00           NaN        NaN   \n",
       "...         ...       ...       ...          ...           ...        ...   \n",
       "16710      0.00      0.00      0.01         0.00           NaN        NaN   \n",
       "16711      0.00      0.01      0.00         0.00           NaN        NaN   \n",
       "16712      0.00      0.00      0.01         0.00           NaN        NaN   \n",
       "16713      0.01      0.00      0.00         0.00           NaN        NaN   \n",
       "16714      0.00      0.00      0.01         0.00           NaN        NaN   \n",
       "\n",
       "      Rating  \n",
       "0          E  \n",
       "1        NaN  \n",
       "2          E  \n",
       "3          E  \n",
       "4        NaN  \n",
       "...      ...  \n",
       "16710    NaN  \n",
       "16711    NaN  \n",
       "16712    NaN  \n",
       "16713    NaN  \n",
       "16714    NaN  \n",
       "\n",
       "[16715 rows x 11 columns]"
      ]
     },
     "execution_count": 43,
     "metadata": {},
     "output_type": "execute_result"
    }
   ],
   "source": [
    "# Прочтем файл с данными\n",
    "import pandas as pd\n",
    "data = pd.read_csv('/datasets/games.csv')\n",
    "data"
   ]
  },
  {
   "cell_type": "code",
   "execution_count": 44,
   "metadata": {},
   "outputs": [
    {
     "name": "stdout",
     "output_type": "stream",
     "text": [
      "<class 'pandas.core.frame.DataFrame'>\n",
      "RangeIndex: 16715 entries, 0 to 16714\n",
      "Data columns (total 11 columns):\n",
      "Name               16713 non-null object\n",
      "Platform           16715 non-null object\n",
      "Year_of_Release    16446 non-null float64\n",
      "Genre              16713 non-null object\n",
      "NA_sales           16715 non-null float64\n",
      "EU_sales           16715 non-null float64\n",
      "JP_sales           16715 non-null float64\n",
      "Other_sales        16715 non-null float64\n",
      "Critic_Score       8137 non-null float64\n",
      "User_Score         10014 non-null object\n",
      "Rating             9949 non-null object\n",
      "dtypes: float64(6), object(5)\n",
      "memory usage: 1.4+ MB\n"
     ]
    }
   ],
   "source": [
    "# Посмотрим информацию методом Info\n",
    "data.info(20)"
   ]
  },
  {
   "cell_type": "code",
   "execution_count": 45,
   "metadata": {},
   "outputs": [
    {
     "data": {
      "text/html": [
       "<div>\n",
       "<style scoped>\n",
       "    .dataframe tbody tr th:only-of-type {\n",
       "        vertical-align: middle;\n",
       "    }\n",
       "\n",
       "    .dataframe tbody tr th {\n",
       "        vertical-align: top;\n",
       "    }\n",
       "\n",
       "    .dataframe thead th {\n",
       "        text-align: right;\n",
       "    }\n",
       "</style>\n",
       "<table border=\"1\" class=\"dataframe\">\n",
       "  <thead>\n",
       "    <tr style=\"text-align: right;\">\n",
       "      <th></th>\n",
       "      <th>Year_of_Release</th>\n",
       "      <th>NA_sales</th>\n",
       "      <th>EU_sales</th>\n",
       "      <th>JP_sales</th>\n",
       "      <th>Other_sales</th>\n",
       "      <th>Critic_Score</th>\n",
       "    </tr>\n",
       "  </thead>\n",
       "  <tbody>\n",
       "    <tr>\n",
       "      <td>count</td>\n",
       "      <td>16446.000000</td>\n",
       "      <td>16715.000000</td>\n",
       "      <td>16715.000000</td>\n",
       "      <td>16715.000000</td>\n",
       "      <td>16715.000000</td>\n",
       "      <td>8137.000000</td>\n",
       "    </tr>\n",
       "    <tr>\n",
       "      <td>mean</td>\n",
       "      <td>2006.484616</td>\n",
       "      <td>0.263377</td>\n",
       "      <td>0.145060</td>\n",
       "      <td>0.077617</td>\n",
       "      <td>0.047342</td>\n",
       "      <td>68.967679</td>\n",
       "    </tr>\n",
       "    <tr>\n",
       "      <td>std</td>\n",
       "      <td>5.877050</td>\n",
       "      <td>0.813604</td>\n",
       "      <td>0.503339</td>\n",
       "      <td>0.308853</td>\n",
       "      <td>0.186731</td>\n",
       "      <td>13.938165</td>\n",
       "    </tr>\n",
       "    <tr>\n",
       "      <td>min</td>\n",
       "      <td>1980.000000</td>\n",
       "      <td>0.000000</td>\n",
       "      <td>0.000000</td>\n",
       "      <td>0.000000</td>\n",
       "      <td>0.000000</td>\n",
       "      <td>13.000000</td>\n",
       "    </tr>\n",
       "    <tr>\n",
       "      <td>25%</td>\n",
       "      <td>2003.000000</td>\n",
       "      <td>0.000000</td>\n",
       "      <td>0.000000</td>\n",
       "      <td>0.000000</td>\n",
       "      <td>0.000000</td>\n",
       "      <td>60.000000</td>\n",
       "    </tr>\n",
       "    <tr>\n",
       "      <td>50%</td>\n",
       "      <td>2007.000000</td>\n",
       "      <td>0.080000</td>\n",
       "      <td>0.020000</td>\n",
       "      <td>0.000000</td>\n",
       "      <td>0.010000</td>\n",
       "      <td>71.000000</td>\n",
       "    </tr>\n",
       "    <tr>\n",
       "      <td>75%</td>\n",
       "      <td>2010.000000</td>\n",
       "      <td>0.240000</td>\n",
       "      <td>0.110000</td>\n",
       "      <td>0.040000</td>\n",
       "      <td>0.030000</td>\n",
       "      <td>79.000000</td>\n",
       "    </tr>\n",
       "    <tr>\n",
       "      <td>max</td>\n",
       "      <td>2016.000000</td>\n",
       "      <td>41.360000</td>\n",
       "      <td>28.960000</td>\n",
       "      <td>10.220000</td>\n",
       "      <td>10.570000</td>\n",
       "      <td>98.000000</td>\n",
       "    </tr>\n",
       "  </tbody>\n",
       "</table>\n",
       "</div>"
      ],
      "text/plain": [
       "       Year_of_Release      NA_sales      EU_sales      JP_sales  \\\n",
       "count     16446.000000  16715.000000  16715.000000  16715.000000   \n",
       "mean       2006.484616      0.263377      0.145060      0.077617   \n",
       "std           5.877050      0.813604      0.503339      0.308853   \n",
       "min        1980.000000      0.000000      0.000000      0.000000   \n",
       "25%        2003.000000      0.000000      0.000000      0.000000   \n",
       "50%        2007.000000      0.080000      0.020000      0.000000   \n",
       "75%        2010.000000      0.240000      0.110000      0.040000   \n",
       "max        2016.000000     41.360000     28.960000     10.220000   \n",
       "\n",
       "        Other_sales  Critic_Score  \n",
       "count  16715.000000   8137.000000  \n",
       "mean       0.047342     68.967679  \n",
       "std        0.186731     13.938165  \n",
       "min        0.000000     13.000000  \n",
       "25%        0.000000     60.000000  \n",
       "50%        0.010000     71.000000  \n",
       "75%        0.030000     79.000000  \n",
       "max       10.570000     98.000000  "
      ]
     },
     "metadata": {},
     "output_type": "display_data"
    },
    {
     "name": "stdout",
     "output_type": "stream",
     "text": [
      "Name\n",
      "['Wii Sports' 'Super Mario Bros.' 'Mario Kart Wii' ...\n",
      " 'Woody Woodpecker in Crazy Castle 5' 'LMA Manager 2007'\n",
      " 'Haitaka no Psychedelica']\n",
      "Platform\n",
      "['Wii' 'NES' 'GB' 'DS' 'X360' 'PS3' 'PS2' 'SNES' 'GBA' 'PS4' '3DS' 'N64'\n",
      " 'PS' 'XB' 'PC' '2600' 'PSP' 'XOne' 'WiiU' 'GC' 'GEN' 'DC' 'PSV' 'SAT'\n",
      " 'SCD' 'WS' 'NG' 'TG16' '3DO' 'GG' 'PCFX']\n",
      "Genre\n",
      "['Sports' 'Platform' 'Racing' 'Role-Playing' 'Puzzle' 'Misc' 'Shooter'\n",
      " 'Simulation' 'Action' 'Fighting' 'Adventure' 'Strategy' nan]\n",
      "User_Score\n",
      "['8' nan '8.3' '8.5' '6.6' '8.4' '8.6' '7.7' '6.3' '7.4' '8.2' '9' '7.9'\n",
      " '8.1' '8.7' '7.1' '3.4' '5.3' '4.8' '3.2' '8.9' '6.4' '7.8' '7.5' '2.6'\n",
      " '7.2' '9.2' '7' '7.3' '4.3' '7.6' '5.7' '5' '9.1' '6.5' 'tbd' '8.8' '6.9'\n",
      " '9.4' '6.8' '6.1' '6.7' '5.4' '4' '4.9' '4.5' '9.3' '6.2' '4.2' '6' '3.7'\n",
      " '4.1' '5.8' '5.6' '5.5' '4.4' '4.6' '5.9' '3.9' '3.1' '2.9' '5.2' '3.3'\n",
      " '4.7' '5.1' '3.5' '2.5' '1.9' '3' '2.7' '2.2' '2' '9.5' '2.1' '3.6' '2.8'\n",
      " '1.8' '3.8' '0' '1.6' '9.6' '2.4' '1.7' '1.1' '0.3' '1.5' '0.7' '1.2'\n",
      " '2.3' '0.5' '1.3' '0.2' '0.6' '1.4' '0.9' '1' '9.7']\n",
      "Rating\n",
      "['E' nan 'M' 'T' 'E10+' 'K-A' 'AO' 'EC' 'RP']\n"
     ]
    }
   ],
   "source": [
    "# посмотрим на значение по категорийным признакам\n",
    "display(data.describe())\n",
    "for col in data.columns:\n",
    "    if data[col].dtype == \"object\":\n",
    "    \n",
    "        print(col)\n",
    "        print(data[col].unique())\n",
    "        print"
   ]
  },
  {
   "cell_type": "markdown",
   "metadata": {},
   "source": [
    "в столбце User_Score видим абривиатуру tbd, просмотрим ее чуть позжу"
   ]
  },
  {
   "cell_type": "code",
   "execution_count": 46,
   "metadata": {},
   "outputs": [
    {
     "data": {
      "text/plain": [
       "Index(['Name', 'Platform', 'Year_of_Release', 'Genre', 'NA_sales', 'EU_sales',\n",
       "       'JP_sales', 'Other_sales', 'Critic_Score', 'User_Score', 'Rating'],\n",
       "      dtype='object')"
      ]
     },
     "execution_count": 46,
     "metadata": {},
     "output_type": "execute_result"
    }
   ],
   "source": [
    "# Посмотрим на столбцы в столбце\n",
    "data.columns"
   ]
  },
  {
   "cell_type": "code",
   "execution_count": 47,
   "metadata": {},
   "outputs": [
    {
     "data": {
      "text/plain": [
       "Name                  2\n",
       "Platform              0\n",
       "Year_of_Release     269\n",
       "Genre                 2\n",
       "NA_sales              0\n",
       "EU_sales              0\n",
       "JP_sales              0\n",
       "Other_sales           0\n",
       "Critic_Score       8578\n",
       "User_Score         6701\n",
       "Rating             6766\n",
       "dtype: int64"
      ]
     },
     "execution_count": 47,
     "metadata": {},
     "output_type": "execute_result"
    }
   ],
   "source": [
    "# Проверим наличие пустых значений\n",
    "data.isnull().sum()"
   ]
  },
  {
   "cell_type": "code",
   "execution_count": 48,
   "metadata": {},
   "outputs": [
    {
     "data": {
      "text/html": [
       "<div>\n",
       "<style scoped>\n",
       "    .dataframe tbody tr th:only-of-type {\n",
       "        vertical-align: middle;\n",
       "    }\n",
       "\n",
       "    .dataframe tbody tr th {\n",
       "        vertical-align: top;\n",
       "    }\n",
       "\n",
       "    .dataframe thead th {\n",
       "        text-align: right;\n",
       "    }\n",
       "</style>\n",
       "<table border=\"1\" class=\"dataframe\">\n",
       "  <thead>\n",
       "    <tr style=\"text-align: right;\">\n",
       "      <th></th>\n",
       "      <th>Name</th>\n",
       "      <th>Platform</th>\n",
       "      <th>Year_of_Release</th>\n",
       "      <th>Genre</th>\n",
       "      <th>NA_sales</th>\n",
       "      <th>EU_sales</th>\n",
       "      <th>JP_sales</th>\n",
       "      <th>Other_sales</th>\n",
       "      <th>Critic_Score</th>\n",
       "      <th>User_Score</th>\n",
       "      <th>Rating</th>\n",
       "    </tr>\n",
       "  </thead>\n",
       "  <tbody>\n",
       "    <tr>\n",
       "      <td>1</td>\n",
       "      <td>Super Mario Bros.</td>\n",
       "      <td>NES</td>\n",
       "      <td>1985.0</td>\n",
       "      <td>Platform</td>\n",
       "      <td>29.08</td>\n",
       "      <td>3.58</td>\n",
       "      <td>6.81</td>\n",
       "      <td>0.77</td>\n",
       "      <td>NaN</td>\n",
       "      <td>NaN</td>\n",
       "      <td>NaN</td>\n",
       "    </tr>\n",
       "    <tr>\n",
       "      <td>4</td>\n",
       "      <td>Pokemon Red/Pokemon Blue</td>\n",
       "      <td>GB</td>\n",
       "      <td>1996.0</td>\n",
       "      <td>Role-Playing</td>\n",
       "      <td>11.27</td>\n",
       "      <td>8.89</td>\n",
       "      <td>10.22</td>\n",
       "      <td>1.00</td>\n",
       "      <td>NaN</td>\n",
       "      <td>NaN</td>\n",
       "      <td>NaN</td>\n",
       "    </tr>\n",
       "    <tr>\n",
       "      <td>5</td>\n",
       "      <td>Tetris</td>\n",
       "      <td>GB</td>\n",
       "      <td>1989.0</td>\n",
       "      <td>Puzzle</td>\n",
       "      <td>23.20</td>\n",
       "      <td>2.26</td>\n",
       "      <td>4.22</td>\n",
       "      <td>0.58</td>\n",
       "      <td>NaN</td>\n",
       "      <td>NaN</td>\n",
       "      <td>NaN</td>\n",
       "    </tr>\n",
       "    <tr>\n",
       "      <td>9</td>\n",
       "      <td>Duck Hunt</td>\n",
       "      <td>NES</td>\n",
       "      <td>1984.0</td>\n",
       "      <td>Shooter</td>\n",
       "      <td>26.93</td>\n",
       "      <td>0.63</td>\n",
       "      <td>0.28</td>\n",
       "      <td>0.47</td>\n",
       "      <td>NaN</td>\n",
       "      <td>NaN</td>\n",
       "      <td>NaN</td>\n",
       "    </tr>\n",
       "    <tr>\n",
       "      <td>10</td>\n",
       "      <td>Nintendogs</td>\n",
       "      <td>DS</td>\n",
       "      <td>2005.0</td>\n",
       "      <td>Simulation</td>\n",
       "      <td>9.05</td>\n",
       "      <td>10.95</td>\n",
       "      <td>1.93</td>\n",
       "      <td>2.74</td>\n",
       "      <td>NaN</td>\n",
       "      <td>NaN</td>\n",
       "      <td>NaN</td>\n",
       "    </tr>\n",
       "    <tr>\n",
       "      <td>...</td>\n",
       "      <td>...</td>\n",
       "      <td>...</td>\n",
       "      <td>...</td>\n",
       "      <td>...</td>\n",
       "      <td>...</td>\n",
       "      <td>...</td>\n",
       "      <td>...</td>\n",
       "      <td>...</td>\n",
       "      <td>...</td>\n",
       "      <td>...</td>\n",
       "      <td>...</td>\n",
       "    </tr>\n",
       "    <tr>\n",
       "      <td>16710</td>\n",
       "      <td>Samurai Warriors: Sanada Maru</td>\n",
       "      <td>PS3</td>\n",
       "      <td>2016.0</td>\n",
       "      <td>Action</td>\n",
       "      <td>0.00</td>\n",
       "      <td>0.00</td>\n",
       "      <td>0.01</td>\n",
       "      <td>0.00</td>\n",
       "      <td>NaN</td>\n",
       "      <td>NaN</td>\n",
       "      <td>NaN</td>\n",
       "    </tr>\n",
       "    <tr>\n",
       "      <td>16711</td>\n",
       "      <td>LMA Manager 2007</td>\n",
       "      <td>X360</td>\n",
       "      <td>2006.0</td>\n",
       "      <td>Sports</td>\n",
       "      <td>0.00</td>\n",
       "      <td>0.01</td>\n",
       "      <td>0.00</td>\n",
       "      <td>0.00</td>\n",
       "      <td>NaN</td>\n",
       "      <td>NaN</td>\n",
       "      <td>NaN</td>\n",
       "    </tr>\n",
       "    <tr>\n",
       "      <td>16712</td>\n",
       "      <td>Haitaka no Psychedelica</td>\n",
       "      <td>PSV</td>\n",
       "      <td>2016.0</td>\n",
       "      <td>Adventure</td>\n",
       "      <td>0.00</td>\n",
       "      <td>0.00</td>\n",
       "      <td>0.01</td>\n",
       "      <td>0.00</td>\n",
       "      <td>NaN</td>\n",
       "      <td>NaN</td>\n",
       "      <td>NaN</td>\n",
       "    </tr>\n",
       "    <tr>\n",
       "      <td>16713</td>\n",
       "      <td>Spirits &amp; Spells</td>\n",
       "      <td>GBA</td>\n",
       "      <td>2003.0</td>\n",
       "      <td>Platform</td>\n",
       "      <td>0.01</td>\n",
       "      <td>0.00</td>\n",
       "      <td>0.00</td>\n",
       "      <td>0.00</td>\n",
       "      <td>NaN</td>\n",
       "      <td>NaN</td>\n",
       "      <td>NaN</td>\n",
       "    </tr>\n",
       "    <tr>\n",
       "      <td>16714</td>\n",
       "      <td>Winning Post 8 2016</td>\n",
       "      <td>PSV</td>\n",
       "      <td>2016.0</td>\n",
       "      <td>Simulation</td>\n",
       "      <td>0.00</td>\n",
       "      <td>0.00</td>\n",
       "      <td>0.01</td>\n",
       "      <td>0.00</td>\n",
       "      <td>NaN</td>\n",
       "      <td>NaN</td>\n",
       "      <td>NaN</td>\n",
       "    </tr>\n",
       "  </tbody>\n",
       "</table>\n",
       "<p>8578 rows × 11 columns</p>\n",
       "</div>"
      ],
      "text/plain": [
       "                                Name Platform  Year_of_Release         Genre  \\\n",
       "1                  Super Mario Bros.      NES           1985.0      Platform   \n",
       "4           Pokemon Red/Pokemon Blue       GB           1996.0  Role-Playing   \n",
       "5                             Tetris       GB           1989.0        Puzzle   \n",
       "9                          Duck Hunt      NES           1984.0       Shooter   \n",
       "10                        Nintendogs       DS           2005.0    Simulation   \n",
       "...                              ...      ...              ...           ...   \n",
       "16710  Samurai Warriors: Sanada Maru      PS3           2016.0        Action   \n",
       "16711               LMA Manager 2007     X360           2006.0        Sports   \n",
       "16712        Haitaka no Psychedelica      PSV           2016.0     Adventure   \n",
       "16713               Spirits & Spells      GBA           2003.0      Platform   \n",
       "16714            Winning Post 8 2016      PSV           2016.0    Simulation   \n",
       "\n",
       "       NA_sales  EU_sales  JP_sales  Other_sales  Critic_Score User_Score  \\\n",
       "1         29.08      3.58      6.81         0.77           NaN        NaN   \n",
       "4         11.27      8.89     10.22         1.00           NaN        NaN   \n",
       "5         23.20      2.26      4.22         0.58           NaN        NaN   \n",
       "9         26.93      0.63      0.28         0.47           NaN        NaN   \n",
       "10         9.05     10.95      1.93         2.74           NaN        NaN   \n",
       "...         ...       ...       ...          ...           ...        ...   \n",
       "16710      0.00      0.00      0.01         0.00           NaN        NaN   \n",
       "16711      0.00      0.01      0.00         0.00           NaN        NaN   \n",
       "16712      0.00      0.00      0.01         0.00           NaN        NaN   \n",
       "16713      0.01      0.00      0.00         0.00           NaN        NaN   \n",
       "16714      0.00      0.00      0.01         0.00           NaN        NaN   \n",
       "\n",
       "      Rating  \n",
       "1        NaN  \n",
       "4        NaN  \n",
       "5        NaN  \n",
       "9        NaN  \n",
       "10       NaN  \n",
       "...      ...  \n",
       "16710    NaN  \n",
       "16711    NaN  \n",
       "16712    NaN  \n",
       "16713    NaN  \n",
       "16714    NaN  \n",
       "\n",
       "[8578 rows x 11 columns]"
      ]
     },
     "execution_count": 48,
     "metadata": {},
     "output_type": "execute_result"
    }
   ],
   "source": [
    "#Посмотрим на таблицу, где имеются пустые значения в столбце critic_score\n",
    "data[data['Critic_Score'].isna()]"
   ]
  },
  {
   "cell_type": "code",
   "execution_count": 49,
   "metadata": {},
   "outputs": [
    {
     "data": {
      "text/html": [
       "<div>\n",
       "<style scoped>\n",
       "    .dataframe tbody tr th:only-of-type {\n",
       "        vertical-align: middle;\n",
       "    }\n",
       "\n",
       "    .dataframe tbody tr th {\n",
       "        vertical-align: top;\n",
       "    }\n",
       "\n",
       "    .dataframe thead th {\n",
       "        text-align: right;\n",
       "    }\n",
       "</style>\n",
       "<table border=\"1\" class=\"dataframe\">\n",
       "  <thead>\n",
       "    <tr style=\"text-align: right;\">\n",
       "      <th></th>\n",
       "      <th>Name</th>\n",
       "      <th>Platform</th>\n",
       "      <th>Year_of_Release</th>\n",
       "      <th>Genre</th>\n",
       "      <th>NA_sales</th>\n",
       "      <th>EU_sales</th>\n",
       "      <th>JP_sales</th>\n",
       "      <th>Other_sales</th>\n",
       "      <th>Critic_Score</th>\n",
       "      <th>User_Score</th>\n",
       "      <th>Rating</th>\n",
       "    </tr>\n",
       "  </thead>\n",
       "  <tbody>\n",
       "    <tr>\n",
       "      <td>1</td>\n",
       "      <td>Super Mario Bros.</td>\n",
       "      <td>NES</td>\n",
       "      <td>1985.0</td>\n",
       "      <td>Platform</td>\n",
       "      <td>29.08</td>\n",
       "      <td>3.58</td>\n",
       "      <td>6.81</td>\n",
       "      <td>0.77</td>\n",
       "      <td>NaN</td>\n",
       "      <td>NaN</td>\n",
       "      <td>NaN</td>\n",
       "    </tr>\n",
       "    <tr>\n",
       "      <td>4</td>\n",
       "      <td>Pokemon Red/Pokemon Blue</td>\n",
       "      <td>GB</td>\n",
       "      <td>1996.0</td>\n",
       "      <td>Role-Playing</td>\n",
       "      <td>11.27</td>\n",
       "      <td>8.89</td>\n",
       "      <td>10.22</td>\n",
       "      <td>1.00</td>\n",
       "      <td>NaN</td>\n",
       "      <td>NaN</td>\n",
       "      <td>NaN</td>\n",
       "    </tr>\n",
       "    <tr>\n",
       "      <td>5</td>\n",
       "      <td>Tetris</td>\n",
       "      <td>GB</td>\n",
       "      <td>1989.0</td>\n",
       "      <td>Puzzle</td>\n",
       "      <td>23.20</td>\n",
       "      <td>2.26</td>\n",
       "      <td>4.22</td>\n",
       "      <td>0.58</td>\n",
       "      <td>NaN</td>\n",
       "      <td>NaN</td>\n",
       "      <td>NaN</td>\n",
       "    </tr>\n",
       "    <tr>\n",
       "      <td>9</td>\n",
       "      <td>Duck Hunt</td>\n",
       "      <td>NES</td>\n",
       "      <td>1984.0</td>\n",
       "      <td>Shooter</td>\n",
       "      <td>26.93</td>\n",
       "      <td>0.63</td>\n",
       "      <td>0.28</td>\n",
       "      <td>0.47</td>\n",
       "      <td>NaN</td>\n",
       "      <td>NaN</td>\n",
       "      <td>NaN</td>\n",
       "    </tr>\n",
       "    <tr>\n",
       "      <td>10</td>\n",
       "      <td>Nintendogs</td>\n",
       "      <td>DS</td>\n",
       "      <td>2005.0</td>\n",
       "      <td>Simulation</td>\n",
       "      <td>9.05</td>\n",
       "      <td>10.95</td>\n",
       "      <td>1.93</td>\n",
       "      <td>2.74</td>\n",
       "      <td>NaN</td>\n",
       "      <td>NaN</td>\n",
       "      <td>NaN</td>\n",
       "    </tr>\n",
       "    <tr>\n",
       "      <td>...</td>\n",
       "      <td>...</td>\n",
       "      <td>...</td>\n",
       "      <td>...</td>\n",
       "      <td>...</td>\n",
       "      <td>...</td>\n",
       "      <td>...</td>\n",
       "      <td>...</td>\n",
       "      <td>...</td>\n",
       "      <td>...</td>\n",
       "      <td>...</td>\n",
       "      <td>...</td>\n",
       "    </tr>\n",
       "    <tr>\n",
       "      <td>16710</td>\n",
       "      <td>Samurai Warriors: Sanada Maru</td>\n",
       "      <td>PS3</td>\n",
       "      <td>2016.0</td>\n",
       "      <td>Action</td>\n",
       "      <td>0.00</td>\n",
       "      <td>0.00</td>\n",
       "      <td>0.01</td>\n",
       "      <td>0.00</td>\n",
       "      <td>NaN</td>\n",
       "      <td>NaN</td>\n",
       "      <td>NaN</td>\n",
       "    </tr>\n",
       "    <tr>\n",
       "      <td>16711</td>\n",
       "      <td>LMA Manager 2007</td>\n",
       "      <td>X360</td>\n",
       "      <td>2006.0</td>\n",
       "      <td>Sports</td>\n",
       "      <td>0.00</td>\n",
       "      <td>0.01</td>\n",
       "      <td>0.00</td>\n",
       "      <td>0.00</td>\n",
       "      <td>NaN</td>\n",
       "      <td>NaN</td>\n",
       "      <td>NaN</td>\n",
       "    </tr>\n",
       "    <tr>\n",
       "      <td>16712</td>\n",
       "      <td>Haitaka no Psychedelica</td>\n",
       "      <td>PSV</td>\n",
       "      <td>2016.0</td>\n",
       "      <td>Adventure</td>\n",
       "      <td>0.00</td>\n",
       "      <td>0.00</td>\n",
       "      <td>0.01</td>\n",
       "      <td>0.00</td>\n",
       "      <td>NaN</td>\n",
       "      <td>NaN</td>\n",
       "      <td>NaN</td>\n",
       "    </tr>\n",
       "    <tr>\n",
       "      <td>16713</td>\n",
       "      <td>Spirits &amp; Spells</td>\n",
       "      <td>GBA</td>\n",
       "      <td>2003.0</td>\n",
       "      <td>Platform</td>\n",
       "      <td>0.01</td>\n",
       "      <td>0.00</td>\n",
       "      <td>0.00</td>\n",
       "      <td>0.00</td>\n",
       "      <td>NaN</td>\n",
       "      <td>NaN</td>\n",
       "      <td>NaN</td>\n",
       "    </tr>\n",
       "    <tr>\n",
       "      <td>16714</td>\n",
       "      <td>Winning Post 8 2016</td>\n",
       "      <td>PSV</td>\n",
       "      <td>2016.0</td>\n",
       "      <td>Simulation</td>\n",
       "      <td>0.00</td>\n",
       "      <td>0.00</td>\n",
       "      <td>0.01</td>\n",
       "      <td>0.00</td>\n",
       "      <td>NaN</td>\n",
       "      <td>NaN</td>\n",
       "      <td>NaN</td>\n",
       "    </tr>\n",
       "  </tbody>\n",
       "</table>\n",
       "<p>6701 rows × 11 columns</p>\n",
       "</div>"
      ],
      "text/plain": [
       "                                Name Platform  Year_of_Release         Genre  \\\n",
       "1                  Super Mario Bros.      NES           1985.0      Platform   \n",
       "4           Pokemon Red/Pokemon Blue       GB           1996.0  Role-Playing   \n",
       "5                             Tetris       GB           1989.0        Puzzle   \n",
       "9                          Duck Hunt      NES           1984.0       Shooter   \n",
       "10                        Nintendogs       DS           2005.0    Simulation   \n",
       "...                              ...      ...              ...           ...   \n",
       "16710  Samurai Warriors: Sanada Maru      PS3           2016.0        Action   \n",
       "16711               LMA Manager 2007     X360           2006.0        Sports   \n",
       "16712        Haitaka no Psychedelica      PSV           2016.0     Adventure   \n",
       "16713               Spirits & Spells      GBA           2003.0      Platform   \n",
       "16714            Winning Post 8 2016      PSV           2016.0    Simulation   \n",
       "\n",
       "       NA_sales  EU_sales  JP_sales  Other_sales  Critic_Score User_Score  \\\n",
       "1         29.08      3.58      6.81         0.77           NaN        NaN   \n",
       "4         11.27      8.89     10.22         1.00           NaN        NaN   \n",
       "5         23.20      2.26      4.22         0.58           NaN        NaN   \n",
       "9         26.93      0.63      0.28         0.47           NaN        NaN   \n",
       "10         9.05     10.95      1.93         2.74           NaN        NaN   \n",
       "...         ...       ...       ...          ...           ...        ...   \n",
       "16710      0.00      0.00      0.01         0.00           NaN        NaN   \n",
       "16711      0.00      0.01      0.00         0.00           NaN        NaN   \n",
       "16712      0.00      0.00      0.01         0.00           NaN        NaN   \n",
       "16713      0.01      0.00      0.00         0.00           NaN        NaN   \n",
       "16714      0.00      0.00      0.01         0.00           NaN        NaN   \n",
       "\n",
       "      Rating  \n",
       "1        NaN  \n",
       "4        NaN  \n",
       "5        NaN  \n",
       "9        NaN  \n",
       "10       NaN  \n",
       "...      ...  \n",
       "16710    NaN  \n",
       "16711    NaN  \n",
       "16712    NaN  \n",
       "16713    NaN  \n",
       "16714    NaN  \n",
       "\n",
       "[6701 rows x 11 columns]"
      ]
     },
     "execution_count": 49,
     "metadata": {},
     "output_type": "execute_result"
    }
   ],
   "source": [
    "#Посмотрим на таблицу, где имеются пустые значения в столбце user_score\n",
    "data[data['User_Score'].isna()]"
   ]
  },
  {
   "cell_type": "code",
   "execution_count": 50,
   "metadata": {},
   "outputs": [
    {
     "data": {
      "text/html": [
       "<div>\n",
       "<style scoped>\n",
       "    .dataframe tbody tr th:only-of-type {\n",
       "        vertical-align: middle;\n",
       "    }\n",
       "\n",
       "    .dataframe tbody tr th {\n",
       "        vertical-align: top;\n",
       "    }\n",
       "\n",
       "    .dataframe thead th {\n",
       "        text-align: right;\n",
       "    }\n",
       "</style>\n",
       "<table border=\"1\" class=\"dataframe\">\n",
       "  <thead>\n",
       "    <tr style=\"text-align: right;\">\n",
       "      <th></th>\n",
       "      <th>Name</th>\n",
       "      <th>Platform</th>\n",
       "      <th>Year_of_Release</th>\n",
       "      <th>Genre</th>\n",
       "      <th>NA_sales</th>\n",
       "      <th>EU_sales</th>\n",
       "      <th>JP_sales</th>\n",
       "      <th>Other_sales</th>\n",
       "      <th>Critic_Score</th>\n",
       "      <th>User_Score</th>\n",
       "      <th>Rating</th>\n",
       "    </tr>\n",
       "  </thead>\n",
       "  <tbody>\n",
       "    <tr>\n",
       "      <td>1</td>\n",
       "      <td>Super Mario Bros.</td>\n",
       "      <td>NES</td>\n",
       "      <td>1985.0</td>\n",
       "      <td>Platform</td>\n",
       "      <td>29.08</td>\n",
       "      <td>3.58</td>\n",
       "      <td>6.81</td>\n",
       "      <td>0.77</td>\n",
       "      <td>NaN</td>\n",
       "      <td>NaN</td>\n",
       "      <td>NaN</td>\n",
       "    </tr>\n",
       "    <tr>\n",
       "      <td>4</td>\n",
       "      <td>Pokemon Red/Pokemon Blue</td>\n",
       "      <td>GB</td>\n",
       "      <td>1996.0</td>\n",
       "      <td>Role-Playing</td>\n",
       "      <td>11.27</td>\n",
       "      <td>8.89</td>\n",
       "      <td>10.22</td>\n",
       "      <td>1.00</td>\n",
       "      <td>NaN</td>\n",
       "      <td>NaN</td>\n",
       "      <td>NaN</td>\n",
       "    </tr>\n",
       "    <tr>\n",
       "      <td>5</td>\n",
       "      <td>Tetris</td>\n",
       "      <td>GB</td>\n",
       "      <td>1989.0</td>\n",
       "      <td>Puzzle</td>\n",
       "      <td>23.20</td>\n",
       "      <td>2.26</td>\n",
       "      <td>4.22</td>\n",
       "      <td>0.58</td>\n",
       "      <td>NaN</td>\n",
       "      <td>NaN</td>\n",
       "      <td>NaN</td>\n",
       "    </tr>\n",
       "    <tr>\n",
       "      <td>9</td>\n",
       "      <td>Duck Hunt</td>\n",
       "      <td>NES</td>\n",
       "      <td>1984.0</td>\n",
       "      <td>Shooter</td>\n",
       "      <td>26.93</td>\n",
       "      <td>0.63</td>\n",
       "      <td>0.28</td>\n",
       "      <td>0.47</td>\n",
       "      <td>NaN</td>\n",
       "      <td>NaN</td>\n",
       "      <td>NaN</td>\n",
       "    </tr>\n",
       "    <tr>\n",
       "      <td>10</td>\n",
       "      <td>Nintendogs</td>\n",
       "      <td>DS</td>\n",
       "      <td>2005.0</td>\n",
       "      <td>Simulation</td>\n",
       "      <td>9.05</td>\n",
       "      <td>10.95</td>\n",
       "      <td>1.93</td>\n",
       "      <td>2.74</td>\n",
       "      <td>NaN</td>\n",
       "      <td>NaN</td>\n",
       "      <td>NaN</td>\n",
       "    </tr>\n",
       "    <tr>\n",
       "      <td>...</td>\n",
       "      <td>...</td>\n",
       "      <td>...</td>\n",
       "      <td>...</td>\n",
       "      <td>...</td>\n",
       "      <td>...</td>\n",
       "      <td>...</td>\n",
       "      <td>...</td>\n",
       "      <td>...</td>\n",
       "      <td>...</td>\n",
       "      <td>...</td>\n",
       "      <td>...</td>\n",
       "    </tr>\n",
       "    <tr>\n",
       "      <td>16710</td>\n",
       "      <td>Samurai Warriors: Sanada Maru</td>\n",
       "      <td>PS3</td>\n",
       "      <td>2016.0</td>\n",
       "      <td>Action</td>\n",
       "      <td>0.00</td>\n",
       "      <td>0.00</td>\n",
       "      <td>0.01</td>\n",
       "      <td>0.00</td>\n",
       "      <td>NaN</td>\n",
       "      <td>NaN</td>\n",
       "      <td>NaN</td>\n",
       "    </tr>\n",
       "    <tr>\n",
       "      <td>16711</td>\n",
       "      <td>LMA Manager 2007</td>\n",
       "      <td>X360</td>\n",
       "      <td>2006.0</td>\n",
       "      <td>Sports</td>\n",
       "      <td>0.00</td>\n",
       "      <td>0.01</td>\n",
       "      <td>0.00</td>\n",
       "      <td>0.00</td>\n",
       "      <td>NaN</td>\n",
       "      <td>NaN</td>\n",
       "      <td>NaN</td>\n",
       "    </tr>\n",
       "    <tr>\n",
       "      <td>16712</td>\n",
       "      <td>Haitaka no Psychedelica</td>\n",
       "      <td>PSV</td>\n",
       "      <td>2016.0</td>\n",
       "      <td>Adventure</td>\n",
       "      <td>0.00</td>\n",
       "      <td>0.00</td>\n",
       "      <td>0.01</td>\n",
       "      <td>0.00</td>\n",
       "      <td>NaN</td>\n",
       "      <td>NaN</td>\n",
       "      <td>NaN</td>\n",
       "    </tr>\n",
       "    <tr>\n",
       "      <td>16713</td>\n",
       "      <td>Spirits &amp; Spells</td>\n",
       "      <td>GBA</td>\n",
       "      <td>2003.0</td>\n",
       "      <td>Platform</td>\n",
       "      <td>0.01</td>\n",
       "      <td>0.00</td>\n",
       "      <td>0.00</td>\n",
       "      <td>0.00</td>\n",
       "      <td>NaN</td>\n",
       "      <td>NaN</td>\n",
       "      <td>NaN</td>\n",
       "    </tr>\n",
       "    <tr>\n",
       "      <td>16714</td>\n",
       "      <td>Winning Post 8 2016</td>\n",
       "      <td>PSV</td>\n",
       "      <td>2016.0</td>\n",
       "      <td>Simulation</td>\n",
       "      <td>0.00</td>\n",
       "      <td>0.00</td>\n",
       "      <td>0.01</td>\n",
       "      <td>0.00</td>\n",
       "      <td>NaN</td>\n",
       "      <td>NaN</td>\n",
       "      <td>NaN</td>\n",
       "    </tr>\n",
       "  </tbody>\n",
       "</table>\n",
       "<p>6766 rows × 11 columns</p>\n",
       "</div>"
      ],
      "text/plain": [
       "                                Name Platform  Year_of_Release         Genre  \\\n",
       "1                  Super Mario Bros.      NES           1985.0      Platform   \n",
       "4           Pokemon Red/Pokemon Blue       GB           1996.0  Role-Playing   \n",
       "5                             Tetris       GB           1989.0        Puzzle   \n",
       "9                          Duck Hunt      NES           1984.0       Shooter   \n",
       "10                        Nintendogs       DS           2005.0    Simulation   \n",
       "...                              ...      ...              ...           ...   \n",
       "16710  Samurai Warriors: Sanada Maru      PS3           2016.0        Action   \n",
       "16711               LMA Manager 2007     X360           2006.0        Sports   \n",
       "16712        Haitaka no Psychedelica      PSV           2016.0     Adventure   \n",
       "16713               Spirits & Spells      GBA           2003.0      Platform   \n",
       "16714            Winning Post 8 2016      PSV           2016.0    Simulation   \n",
       "\n",
       "       NA_sales  EU_sales  JP_sales  Other_sales  Critic_Score User_Score  \\\n",
       "1         29.08      3.58      6.81         0.77           NaN        NaN   \n",
       "4         11.27      8.89     10.22         1.00           NaN        NaN   \n",
       "5         23.20      2.26      4.22         0.58           NaN        NaN   \n",
       "9         26.93      0.63      0.28         0.47           NaN        NaN   \n",
       "10         9.05     10.95      1.93         2.74           NaN        NaN   \n",
       "...         ...       ...       ...          ...           ...        ...   \n",
       "16710      0.00      0.00      0.01         0.00           NaN        NaN   \n",
       "16711      0.00      0.01      0.00         0.00           NaN        NaN   \n",
       "16712      0.00      0.00      0.01         0.00           NaN        NaN   \n",
       "16713      0.01      0.00      0.00         0.00           NaN        NaN   \n",
       "16714      0.00      0.00      0.01         0.00           NaN        NaN   \n",
       "\n",
       "      Rating  \n",
       "1        NaN  \n",
       "4        NaN  \n",
       "5        NaN  \n",
       "9        NaN  \n",
       "10       NaN  \n",
       "...      ...  \n",
       "16710    NaN  \n",
       "16711    NaN  \n",
       "16712    NaN  \n",
       "16713    NaN  \n",
       "16714    NaN  \n",
       "\n",
       "[6766 rows x 11 columns]"
      ]
     },
     "execution_count": 50,
     "metadata": {},
     "output_type": "execute_result"
    }
   ],
   "source": [
    "#Посмотрим на таблицу, где имеются пустые значения в столбце rating\n",
    "data[data['Rating'].isna()]"
   ]
  },
  {
   "cell_type": "code",
   "execution_count": 51,
   "metadata": {},
   "outputs": [
    {
     "data": {
      "text/html": [
       "<div>\n",
       "<style scoped>\n",
       "    .dataframe tbody tr th:only-of-type {\n",
       "        vertical-align: middle;\n",
       "    }\n",
       "\n",
       "    .dataframe tbody tr th {\n",
       "        vertical-align: top;\n",
       "    }\n",
       "\n",
       "    .dataframe thead th {\n",
       "        text-align: right;\n",
       "    }\n",
       "</style>\n",
       "<table border=\"1\" class=\"dataframe\">\n",
       "  <thead>\n",
       "    <tr style=\"text-align: right;\">\n",
       "      <th></th>\n",
       "      <th>Name</th>\n",
       "      <th>Platform</th>\n",
       "      <th>Year_of_Release</th>\n",
       "      <th>Genre</th>\n",
       "      <th>NA_sales</th>\n",
       "      <th>EU_sales</th>\n",
       "      <th>JP_sales</th>\n",
       "      <th>Other_sales</th>\n",
       "      <th>Critic_Score</th>\n",
       "      <th>User_Score</th>\n",
       "      <th>Rating</th>\n",
       "    </tr>\n",
       "  </thead>\n",
       "  <tbody>\n",
       "    <tr>\n",
       "      <td>183</td>\n",
       "      <td>Madden NFL 2004</td>\n",
       "      <td>PS2</td>\n",
       "      <td>NaN</td>\n",
       "      <td>Sports</td>\n",
       "      <td>4.26</td>\n",
       "      <td>0.26</td>\n",
       "      <td>0.01</td>\n",
       "      <td>0.71</td>\n",
       "      <td>94.0</td>\n",
       "      <td>8.5</td>\n",
       "      <td>E</td>\n",
       "    </tr>\n",
       "    <tr>\n",
       "      <td>377</td>\n",
       "      <td>FIFA Soccer 2004</td>\n",
       "      <td>PS2</td>\n",
       "      <td>NaN</td>\n",
       "      <td>Sports</td>\n",
       "      <td>0.59</td>\n",
       "      <td>2.36</td>\n",
       "      <td>0.04</td>\n",
       "      <td>0.51</td>\n",
       "      <td>84.0</td>\n",
       "      <td>6.4</td>\n",
       "      <td>E</td>\n",
       "    </tr>\n",
       "    <tr>\n",
       "      <td>456</td>\n",
       "      <td>LEGO Batman: The Videogame</td>\n",
       "      <td>Wii</td>\n",
       "      <td>NaN</td>\n",
       "      <td>Action</td>\n",
       "      <td>1.80</td>\n",
       "      <td>0.97</td>\n",
       "      <td>0.00</td>\n",
       "      <td>0.29</td>\n",
       "      <td>74.0</td>\n",
       "      <td>7.9</td>\n",
       "      <td>E10+</td>\n",
       "    </tr>\n",
       "    <tr>\n",
       "      <td>475</td>\n",
       "      <td>wwe Smackdown vs. Raw 2006</td>\n",
       "      <td>PS2</td>\n",
       "      <td>NaN</td>\n",
       "      <td>Fighting</td>\n",
       "      <td>1.57</td>\n",
       "      <td>1.02</td>\n",
       "      <td>0.00</td>\n",
       "      <td>0.41</td>\n",
       "      <td>NaN</td>\n",
       "      <td>NaN</td>\n",
       "      <td>NaN</td>\n",
       "    </tr>\n",
       "    <tr>\n",
       "      <td>609</td>\n",
       "      <td>Space Invaders</td>\n",
       "      <td>2600</td>\n",
       "      <td>NaN</td>\n",
       "      <td>Shooter</td>\n",
       "      <td>2.36</td>\n",
       "      <td>0.14</td>\n",
       "      <td>0.00</td>\n",
       "      <td>0.03</td>\n",
       "      <td>NaN</td>\n",
       "      <td>NaN</td>\n",
       "      <td>NaN</td>\n",
       "    </tr>\n",
       "    <tr>\n",
       "      <td>...</td>\n",
       "      <td>...</td>\n",
       "      <td>...</td>\n",
       "      <td>...</td>\n",
       "      <td>...</td>\n",
       "      <td>...</td>\n",
       "      <td>...</td>\n",
       "      <td>...</td>\n",
       "      <td>...</td>\n",
       "      <td>...</td>\n",
       "      <td>...</td>\n",
       "      <td>...</td>\n",
       "    </tr>\n",
       "    <tr>\n",
       "      <td>16373</td>\n",
       "      <td>PDC World Championship Darts 2008</td>\n",
       "      <td>PSP</td>\n",
       "      <td>NaN</td>\n",
       "      <td>Sports</td>\n",
       "      <td>0.01</td>\n",
       "      <td>0.00</td>\n",
       "      <td>0.00</td>\n",
       "      <td>0.00</td>\n",
       "      <td>43.0</td>\n",
       "      <td>tbd</td>\n",
       "      <td>E10+</td>\n",
       "    </tr>\n",
       "    <tr>\n",
       "      <td>16405</td>\n",
       "      <td>Freaky Flyers</td>\n",
       "      <td>GC</td>\n",
       "      <td>NaN</td>\n",
       "      <td>Racing</td>\n",
       "      <td>0.01</td>\n",
       "      <td>0.00</td>\n",
       "      <td>0.00</td>\n",
       "      <td>0.00</td>\n",
       "      <td>69.0</td>\n",
       "      <td>6.5</td>\n",
       "      <td>T</td>\n",
       "    </tr>\n",
       "    <tr>\n",
       "      <td>16448</td>\n",
       "      <td>Inversion</td>\n",
       "      <td>PC</td>\n",
       "      <td>NaN</td>\n",
       "      <td>Shooter</td>\n",
       "      <td>0.01</td>\n",
       "      <td>0.00</td>\n",
       "      <td>0.00</td>\n",
       "      <td>0.00</td>\n",
       "      <td>59.0</td>\n",
       "      <td>6.7</td>\n",
       "      <td>M</td>\n",
       "    </tr>\n",
       "    <tr>\n",
       "      <td>16458</td>\n",
       "      <td>Hakuouki: Shinsengumi Kitan</td>\n",
       "      <td>PS3</td>\n",
       "      <td>NaN</td>\n",
       "      <td>Adventure</td>\n",
       "      <td>0.01</td>\n",
       "      <td>0.00</td>\n",
       "      <td>0.00</td>\n",
       "      <td>0.00</td>\n",
       "      <td>NaN</td>\n",
       "      <td>NaN</td>\n",
       "      <td>NaN</td>\n",
       "    </tr>\n",
       "    <tr>\n",
       "      <td>16522</td>\n",
       "      <td>Virtua Quest</td>\n",
       "      <td>GC</td>\n",
       "      <td>NaN</td>\n",
       "      <td>Role-Playing</td>\n",
       "      <td>0.01</td>\n",
       "      <td>0.00</td>\n",
       "      <td>0.00</td>\n",
       "      <td>0.00</td>\n",
       "      <td>55.0</td>\n",
       "      <td>5.5</td>\n",
       "      <td>T</td>\n",
       "    </tr>\n",
       "  </tbody>\n",
       "</table>\n",
       "<p>269 rows × 11 columns</p>\n",
       "</div>"
      ],
      "text/plain": [
       "                                    Name Platform  Year_of_Release  \\\n",
       "183                      Madden NFL 2004      PS2              NaN   \n",
       "377                     FIFA Soccer 2004      PS2              NaN   \n",
       "456           LEGO Batman: The Videogame      Wii              NaN   \n",
       "475           wwe Smackdown vs. Raw 2006      PS2              NaN   \n",
       "609                       Space Invaders     2600              NaN   \n",
       "...                                  ...      ...              ...   \n",
       "16373  PDC World Championship Darts 2008      PSP              NaN   \n",
       "16405                      Freaky Flyers       GC              NaN   \n",
       "16448                          Inversion       PC              NaN   \n",
       "16458        Hakuouki: Shinsengumi Kitan      PS3              NaN   \n",
       "16522                       Virtua Quest       GC              NaN   \n",
       "\n",
       "              Genre  NA_sales  EU_sales  JP_sales  Other_sales  Critic_Score  \\\n",
       "183          Sports      4.26      0.26      0.01         0.71          94.0   \n",
       "377          Sports      0.59      2.36      0.04         0.51          84.0   \n",
       "456          Action      1.80      0.97      0.00         0.29          74.0   \n",
       "475        Fighting      1.57      1.02      0.00         0.41           NaN   \n",
       "609         Shooter      2.36      0.14      0.00         0.03           NaN   \n",
       "...             ...       ...       ...       ...          ...           ...   \n",
       "16373        Sports      0.01      0.00      0.00         0.00          43.0   \n",
       "16405        Racing      0.01      0.00      0.00         0.00          69.0   \n",
       "16448       Shooter      0.01      0.00      0.00         0.00          59.0   \n",
       "16458     Adventure      0.01      0.00      0.00         0.00           NaN   \n",
       "16522  Role-Playing      0.01      0.00      0.00         0.00          55.0   \n",
       "\n",
       "      User_Score Rating  \n",
       "183          8.5      E  \n",
       "377          6.4      E  \n",
       "456          7.9   E10+  \n",
       "475          NaN    NaN  \n",
       "609          NaN    NaN  \n",
       "...          ...    ...  \n",
       "16373        tbd   E10+  \n",
       "16405        6.5      T  \n",
       "16448        6.7      M  \n",
       "16458        NaN    NaN  \n",
       "16522        5.5      T  \n",
       "\n",
       "[269 rows x 11 columns]"
      ]
     },
     "execution_count": 51,
     "metadata": {},
     "output_type": "execute_result"
    }
   ],
   "source": [
    "#Посмотрим на таблицу, где имеются пустые значения в столбце year_of_release\n",
    "data[data['Year_of_Release'].isna()]"
   ]
  },
  {
   "cell_type": "code",
   "execution_count": 52,
   "metadata": {
    "scrolled": true
   },
   "outputs": [
    {
     "data": {
      "text/plain": [
       "PS2     2161\n",
       "DS      2151\n",
       "PS3     1331\n",
       "Wii     1320\n",
       "X360    1262\n",
       "PSP     1209\n",
       "PS      1197\n",
       "PC       974\n",
       "XB       824\n",
       "GBA      822\n",
       "GC       556\n",
       "3DS      520\n",
       "PSV      430\n",
       "PS4      392\n",
       "N64      319\n",
       "XOne     247\n",
       "SNES     239\n",
       "SAT      173\n",
       "WiiU     147\n",
       "2600     133\n",
       "NES       98\n",
       "GB        98\n",
       "DC        52\n",
       "GEN       29\n",
       "NG        12\n",
       "WS         6\n",
       "SCD        6\n",
       "3DO        3\n",
       "TG16       2\n",
       "GG         1\n",
       "PCFX       1\n",
       "Name: Platform, dtype: int64"
      ]
     },
     "execution_count": 52,
     "metadata": {},
     "output_type": "execute_result"
    }
   ],
   "source": [
    "#Посмотрим какие платформы для игры у нас имеются\n",
    "data['Platform'].value_counts()"
   ]
  },
  {
   "cell_type": "code",
   "execution_count": 53,
   "metadata": {},
   "outputs": [
    {
     "data": {
      "text/plain": [
       "Action          3369\n",
       "Sports          2348\n",
       "Misc            1750\n",
       "Role-Playing    1498\n",
       "Shooter         1323\n",
       "Adventure       1303\n",
       "Racing          1249\n",
       "Platform         888\n",
       "Simulation       873\n",
       "Fighting         849\n",
       "Strategy         683\n",
       "Puzzle           580\n",
       "Name: Genre, dtype: int64"
      ]
     },
     "execution_count": 53,
     "metadata": {},
     "output_type": "execute_result"
    }
   ],
   "source": [
    "#Посмотрим какие жанры игр мы имеем и нет ли повторений\n",
    "data['Genre'].value_counts()"
   ]
  },
  {
   "cell_type": "markdown",
   "metadata": {},
   "source": [
    "Необходимо привести к правильному типу столбец : Year of Release\n",
    "Также нужно привести к нижнему регистру столбцы нашей таблицы, а так же сами названия колонок\n",
    "Имеются пустые значения в столбцах rating, user_score, critic_score. Мы можем заменить имеющиеся пустые значения в таблице: year of release на года от той же игры только другой платформы, в остальных случаях решим в процессе предобработки\n"
   ]
  },
  {
   "cell_type": "markdown",
   "metadata": {},
   "source": [
    "## Предобработка данных\n"
   ]
  },
  {
   "cell_type": "code",
   "execution_count": 54,
   "metadata": {},
   "outputs": [
    {
     "data": {
      "text/plain": [
       "Index(['name', 'platform', 'year_of_release', 'genre', 'na_sales', 'eu_sales',\n",
       "       'jp_sales', 'other_sales', 'critic_score', 'user_score', 'rating'],\n",
       "      dtype='object')"
      ]
     },
     "execution_count": 54,
     "metadata": {},
     "output_type": "execute_result"
    }
   ],
   "source": [
    "# Заменим названия столбцов (приведем к нижнему регистру) \n",
    "data.columns = data.columns.str.lower()\n",
    "data.columns"
   ]
  },
  {
   "cell_type": "code",
   "execution_count": 55,
   "metadata": {},
   "outputs": [],
   "source": [
    "# Приведем к нижнему регистру следующие столбцы:\n",
    "for column in data[['name','platform','genre','rating']]:\n",
    "    data[column] = data[column].str.lower()"
   ]
  },
  {
   "cell_type": "markdown",
   "metadata": {},
   "source": [
    "Преобразуем данные в нужные типы. Опишем, в каких столбцах заменили тип данных и почему;"
   ]
  },
  {
   "cell_type": "code",
   "execution_count": 56,
   "metadata": {},
   "outputs": [
    {
     "data": {
      "text/plain": [
       "name                object\n",
       "platform            object\n",
       "year_of_release      Int64\n",
       "genre               object\n",
       "na_sales           float64\n",
       "eu_sales           float64\n",
       "jp_sales           float64\n",
       "other_sales        float64\n",
       "critic_score       float64\n",
       "user_score          object\n",
       "rating              object\n",
       "dtype: object"
      ]
     },
     "execution_count": 56,
     "metadata": {},
     "output_type": "execute_result"
    }
   ],
   "source": [
    "data['year_of_release'] = data['year_of_release'].astype('Int64')\n",
    "\n",
    "data.dtypes"
   ]
  },
  {
   "cell_type": "markdown",
   "metadata": {},
   "source": [
    "Обработаем пропуски при необходимости:"
   ]
  },
  {
   "cell_type": "code",
   "execution_count": 57,
   "metadata": {},
   "outputs": [
    {
     "data": {
      "text/plain": [
       "269"
      ]
     },
     "execution_count": 57,
     "metadata": {},
     "output_type": "execute_result"
    }
   ],
   "source": [
    "# Посчитаем количество пустых значений в столбце year_of_release\n",
    "data['year_of_release'].isna().sum()"
   ]
  },
  {
   "cell_type": "code",
   "execution_count": 58,
   "metadata": {},
   "outputs": [
    {
     "data": {
      "text/html": [
       "<div>\n",
       "<style scoped>\n",
       "    .dataframe tbody tr th:only-of-type {\n",
       "        vertical-align: middle;\n",
       "    }\n",
       "\n",
       "    .dataframe tbody tr th {\n",
       "        vertical-align: top;\n",
       "    }\n",
       "\n",
       "    .dataframe thead th {\n",
       "        text-align: right;\n",
       "    }\n",
       "</style>\n",
       "<table border=\"1\" class=\"dataframe\">\n",
       "  <thead>\n",
       "    <tr style=\"text-align: right;\">\n",
       "      <th></th>\n",
       "      <th>name</th>\n",
       "      <th>platform</th>\n",
       "      <th>year_of_release</th>\n",
       "      <th>genre</th>\n",
       "      <th>na_sales</th>\n",
       "      <th>eu_sales</th>\n",
       "      <th>jp_sales</th>\n",
       "      <th>other_sales</th>\n",
       "      <th>critic_score</th>\n",
       "      <th>user_score</th>\n",
       "      <th>rating</th>\n",
       "    </tr>\n",
       "  </thead>\n",
       "  <tbody>\n",
       "    <tr>\n",
       "      <td>183</td>\n",
       "      <td>madden nfl 2004</td>\n",
       "      <td>ps2</td>\n",
       "      <td>NaN</td>\n",
       "      <td>sports</td>\n",
       "      <td>4.26</td>\n",
       "      <td>0.26</td>\n",
       "      <td>0.01</td>\n",
       "      <td>0.71</td>\n",
       "      <td>94.0</td>\n",
       "      <td>8.5</td>\n",
       "      <td>e</td>\n",
       "    </tr>\n",
       "    <tr>\n",
       "      <td>1881</td>\n",
       "      <td>madden nfl 2004</td>\n",
       "      <td>xb</td>\n",
       "      <td>2003</td>\n",
       "      <td>sports</td>\n",
       "      <td>1.02</td>\n",
       "      <td>0.02</td>\n",
       "      <td>0.00</td>\n",
       "      <td>0.05</td>\n",
       "      <td>92.0</td>\n",
       "      <td>8.3</td>\n",
       "      <td>e</td>\n",
       "    </tr>\n",
       "    <tr>\n",
       "      <td>3889</td>\n",
       "      <td>madden nfl 2004</td>\n",
       "      <td>gc</td>\n",
       "      <td>2003</td>\n",
       "      <td>sports</td>\n",
       "      <td>0.40</td>\n",
       "      <td>0.10</td>\n",
       "      <td>0.00</td>\n",
       "      <td>0.01</td>\n",
       "      <td>94.0</td>\n",
       "      <td>7.7</td>\n",
       "      <td>e</td>\n",
       "    </tr>\n",
       "    <tr>\n",
       "      <td>5708</td>\n",
       "      <td>madden nfl 2004</td>\n",
       "      <td>gba</td>\n",
       "      <td>2003</td>\n",
       "      <td>sports</td>\n",
       "      <td>0.22</td>\n",
       "      <td>0.08</td>\n",
       "      <td>0.00</td>\n",
       "      <td>0.01</td>\n",
       "      <td>70.0</td>\n",
       "      <td>6.6</td>\n",
       "      <td>e</td>\n",
       "    </tr>\n",
       "  </tbody>\n",
       "</table>\n",
       "</div>"
      ],
      "text/plain": [
       "                 name platform  year_of_release   genre  na_sales  eu_sales  \\\n",
       "183   madden nfl 2004      ps2              NaN  sports      4.26      0.26   \n",
       "1881  madden nfl 2004       xb             2003  sports      1.02      0.02   \n",
       "3889  madden nfl 2004       gc             2003  sports      0.40      0.10   \n",
       "5708  madden nfl 2004      gba             2003  sports      0.22      0.08   \n",
       "\n",
       "      jp_sales  other_sales  critic_score user_score rating  \n",
       "183       0.01         0.71          94.0        8.5      e  \n",
       "1881      0.00         0.05          92.0        8.3      e  \n",
       "3889      0.00         0.01          94.0        7.7      e  \n",
       "5708      0.00         0.01          70.0        6.6      e  "
      ]
     },
     "execution_count": 58,
     "metadata": {},
     "output_type": "execute_result"
    }
   ],
   "source": [
    "# Возьмем одну из 269 игр с неуказанным годом и проверим, выпускалась ли она на других платформах.\n",
    "data.query('name == \"madden nfl 2004\"')"
   ]
  },
  {
   "cell_type": "code",
   "execution_count": 59,
   "metadata": {},
   "outputs": [],
   "source": [
    "# Можно попробовать восполнить пробелы в годах за счет наличия в датасете информации об одних и тех же играх, только выпущенных\n",
    "# для разных платформ (в надежде, что у какой-то из версий игры будет запись о годе, как это оказалось с игрой \"madden nfl 2004\").\n",
    "for i in data[data['year_of_release'].isnull() == True].index:  \n",
    "    data['year_of_release'][i] = data.loc[data['name'] == data['name'][i], 'year_of_release'].max()"
   ]
  },
  {
   "cell_type": "code",
   "execution_count": 60,
   "metadata": {},
   "outputs": [
    {
     "data": {
      "text/plain": [
       "146"
      ]
     },
     "execution_count": 60,
     "metadata": {},
     "output_type": "execute_result"
    }
   ],
   "source": [
    "#Посмотрим сколько удалось заполнить пустых значений\n",
    "data['year_of_release'].isna().sum()"
   ]
  },
  {
   "cell_type": "markdown",
   "metadata": {},
   "source": [
    "Обратим внимание на аббревиатуру tbd в столбцах с рейтингом. Отдельно разберем это значение и опишем, как его обработать"
   ]
  },
  {
   "cell_type": "markdown",
   "metadata": {},
   "source": [
    "Аббревиатура tbd значит to be determined, to be done. То есть, данные были нарочно не заполнены, так как не определились с рейтингом. \n",
    "Поэтому предлагаю заменить tbd на Nan"
   ]
  },
  {
   "cell_type": "code",
   "execution_count": 61,
   "metadata": {},
   "outputs": [],
   "source": [
    "#Заменим tbd на Nan\n",
    "data['user_score'] = data['user_score'].replace('tbd', np.nan, regex=True)"
   ]
  },
  {
   "cell_type": "code",
   "execution_count": 62,
   "metadata": {},
   "outputs": [
    {
     "data": {
      "text/plain": [
       "dtype('float64')"
      ]
     },
     "execution_count": 62,
     "metadata": {},
     "output_type": "execute_result"
    }
   ],
   "source": [
    "# Поменяем формат столбца user_score на float\n",
    "data['user_score'] = data['user_score'].astype(float)\n",
    "data['user_score'].dtype"
   ]
  },
  {
   "cell_type": "code",
   "execution_count": 63,
   "metadata": {},
   "outputs": [
    {
     "data": {
      "text/plain": [
       "0        8.0\n",
       "1        NaN\n",
       "2        8.3\n",
       "3        8.0\n",
       "4        NaN\n",
       "        ... \n",
       "16710    NaN\n",
       "16711    NaN\n",
       "16712    NaN\n",
       "16713    NaN\n",
       "16714    NaN\n",
       "Name: user_score, Length: 16715, dtype: float64"
      ]
     },
     "execution_count": 63,
     "metadata": {},
     "output_type": "execute_result"
    }
   ],
   "source": [
    "data['user_score'].replace('tbd', np.nan, regex=True).astype(float)"
   ]
  },
  {
   "cell_type": "markdown",
   "metadata": {},
   "source": [
    "Посчитаем суммарные продажи во всех регионах и запишем их в отдельный столбец"
   ]
  },
  {
   "cell_type": "code",
   "execution_count": 64,
   "metadata": {},
   "outputs": [
    {
     "data": {
      "text/html": [
       "<div>\n",
       "<style scoped>\n",
       "    .dataframe tbody tr th:only-of-type {\n",
       "        vertical-align: middle;\n",
       "    }\n",
       "\n",
       "    .dataframe tbody tr th {\n",
       "        vertical-align: top;\n",
       "    }\n",
       "\n",
       "    .dataframe thead th {\n",
       "        text-align: right;\n",
       "    }\n",
       "</style>\n",
       "<table border=\"1\" class=\"dataframe\">\n",
       "  <thead>\n",
       "    <tr style=\"text-align: right;\">\n",
       "      <th></th>\n",
       "      <th>name</th>\n",
       "      <th>platform</th>\n",
       "      <th>year_of_release</th>\n",
       "      <th>genre</th>\n",
       "      <th>na_sales</th>\n",
       "      <th>eu_sales</th>\n",
       "      <th>jp_sales</th>\n",
       "      <th>other_sales</th>\n",
       "      <th>critic_score</th>\n",
       "      <th>user_score</th>\n",
       "      <th>rating</th>\n",
       "      <th>total_sales</th>\n",
       "    </tr>\n",
       "  </thead>\n",
       "  <tbody>\n",
       "    <tr>\n",
       "      <td>0</td>\n",
       "      <td>wii sports</td>\n",
       "      <td>wii</td>\n",
       "      <td>2006</td>\n",
       "      <td>sports</td>\n",
       "      <td>41.36</td>\n",
       "      <td>28.96</td>\n",
       "      <td>3.77</td>\n",
       "      <td>8.45</td>\n",
       "      <td>76.0</td>\n",
       "      <td>8.0</td>\n",
       "      <td>e</td>\n",
       "      <td>82.54</td>\n",
       "    </tr>\n",
       "    <tr>\n",
       "      <td>1</td>\n",
       "      <td>super mario bros.</td>\n",
       "      <td>nes</td>\n",
       "      <td>1985</td>\n",
       "      <td>platform</td>\n",
       "      <td>29.08</td>\n",
       "      <td>3.58</td>\n",
       "      <td>6.81</td>\n",
       "      <td>0.77</td>\n",
       "      <td>NaN</td>\n",
       "      <td>NaN</td>\n",
       "      <td>NaN</td>\n",
       "      <td>40.24</td>\n",
       "    </tr>\n",
       "    <tr>\n",
       "      <td>2</td>\n",
       "      <td>mario kart wii</td>\n",
       "      <td>wii</td>\n",
       "      <td>2008</td>\n",
       "      <td>racing</td>\n",
       "      <td>15.68</td>\n",
       "      <td>12.76</td>\n",
       "      <td>3.79</td>\n",
       "      <td>3.29</td>\n",
       "      <td>82.0</td>\n",
       "      <td>8.3</td>\n",
       "      <td>e</td>\n",
       "      <td>35.52</td>\n",
       "    </tr>\n",
       "    <tr>\n",
       "      <td>3</td>\n",
       "      <td>wii sports resort</td>\n",
       "      <td>wii</td>\n",
       "      <td>2009</td>\n",
       "      <td>sports</td>\n",
       "      <td>15.61</td>\n",
       "      <td>10.93</td>\n",
       "      <td>3.28</td>\n",
       "      <td>2.95</td>\n",
       "      <td>80.0</td>\n",
       "      <td>8.0</td>\n",
       "      <td>e</td>\n",
       "      <td>32.77</td>\n",
       "    </tr>\n",
       "    <tr>\n",
       "      <td>4</td>\n",
       "      <td>pokemon red/pokemon blue</td>\n",
       "      <td>gb</td>\n",
       "      <td>1996</td>\n",
       "      <td>role-playing</td>\n",
       "      <td>11.27</td>\n",
       "      <td>8.89</td>\n",
       "      <td>10.22</td>\n",
       "      <td>1.00</td>\n",
       "      <td>NaN</td>\n",
       "      <td>NaN</td>\n",
       "      <td>NaN</td>\n",
       "      <td>31.38</td>\n",
       "    </tr>\n",
       "    <tr>\n",
       "      <td>...</td>\n",
       "      <td>...</td>\n",
       "      <td>...</td>\n",
       "      <td>...</td>\n",
       "      <td>...</td>\n",
       "      <td>...</td>\n",
       "      <td>...</td>\n",
       "      <td>...</td>\n",
       "      <td>...</td>\n",
       "      <td>...</td>\n",
       "      <td>...</td>\n",
       "      <td>...</td>\n",
       "      <td>...</td>\n",
       "    </tr>\n",
       "    <tr>\n",
       "      <td>16710</td>\n",
       "      <td>samurai warriors: sanada maru</td>\n",
       "      <td>ps3</td>\n",
       "      <td>2016</td>\n",
       "      <td>action</td>\n",
       "      <td>0.00</td>\n",
       "      <td>0.00</td>\n",
       "      <td>0.01</td>\n",
       "      <td>0.00</td>\n",
       "      <td>NaN</td>\n",
       "      <td>NaN</td>\n",
       "      <td>NaN</td>\n",
       "      <td>0.01</td>\n",
       "    </tr>\n",
       "    <tr>\n",
       "      <td>16711</td>\n",
       "      <td>lma manager 2007</td>\n",
       "      <td>x360</td>\n",
       "      <td>2006</td>\n",
       "      <td>sports</td>\n",
       "      <td>0.00</td>\n",
       "      <td>0.01</td>\n",
       "      <td>0.00</td>\n",
       "      <td>0.00</td>\n",
       "      <td>NaN</td>\n",
       "      <td>NaN</td>\n",
       "      <td>NaN</td>\n",
       "      <td>0.01</td>\n",
       "    </tr>\n",
       "    <tr>\n",
       "      <td>16712</td>\n",
       "      <td>haitaka no psychedelica</td>\n",
       "      <td>psv</td>\n",
       "      <td>2016</td>\n",
       "      <td>adventure</td>\n",
       "      <td>0.00</td>\n",
       "      <td>0.00</td>\n",
       "      <td>0.01</td>\n",
       "      <td>0.00</td>\n",
       "      <td>NaN</td>\n",
       "      <td>NaN</td>\n",
       "      <td>NaN</td>\n",
       "      <td>0.01</td>\n",
       "    </tr>\n",
       "    <tr>\n",
       "      <td>16713</td>\n",
       "      <td>spirits &amp; spells</td>\n",
       "      <td>gba</td>\n",
       "      <td>2003</td>\n",
       "      <td>platform</td>\n",
       "      <td>0.01</td>\n",
       "      <td>0.00</td>\n",
       "      <td>0.00</td>\n",
       "      <td>0.00</td>\n",
       "      <td>NaN</td>\n",
       "      <td>NaN</td>\n",
       "      <td>NaN</td>\n",
       "      <td>0.01</td>\n",
       "    </tr>\n",
       "    <tr>\n",
       "      <td>16714</td>\n",
       "      <td>winning post 8 2016</td>\n",
       "      <td>psv</td>\n",
       "      <td>2016</td>\n",
       "      <td>simulation</td>\n",
       "      <td>0.00</td>\n",
       "      <td>0.00</td>\n",
       "      <td>0.01</td>\n",
       "      <td>0.00</td>\n",
       "      <td>NaN</td>\n",
       "      <td>NaN</td>\n",
       "      <td>NaN</td>\n",
       "      <td>0.01</td>\n",
       "    </tr>\n",
       "  </tbody>\n",
       "</table>\n",
       "<p>16715 rows × 12 columns</p>\n",
       "</div>"
      ],
      "text/plain": [
       "                                name platform  year_of_release         genre  \\\n",
       "0                         wii sports      wii             2006        sports   \n",
       "1                  super mario bros.      nes             1985      platform   \n",
       "2                     mario kart wii      wii             2008        racing   \n",
       "3                  wii sports resort      wii             2009        sports   \n",
       "4           pokemon red/pokemon blue       gb             1996  role-playing   \n",
       "...                              ...      ...              ...           ...   \n",
       "16710  samurai warriors: sanada maru      ps3             2016        action   \n",
       "16711               lma manager 2007     x360             2006        sports   \n",
       "16712        haitaka no psychedelica      psv             2016     adventure   \n",
       "16713               spirits & spells      gba             2003      platform   \n",
       "16714            winning post 8 2016      psv             2016    simulation   \n",
       "\n",
       "       na_sales  eu_sales  jp_sales  other_sales  critic_score  user_score  \\\n",
       "0         41.36     28.96      3.77         8.45          76.0         8.0   \n",
       "1         29.08      3.58      6.81         0.77           NaN         NaN   \n",
       "2         15.68     12.76      3.79         3.29          82.0         8.3   \n",
       "3         15.61     10.93      3.28         2.95          80.0         8.0   \n",
       "4         11.27      8.89     10.22         1.00           NaN         NaN   \n",
       "...         ...       ...       ...          ...           ...         ...   \n",
       "16710      0.00      0.00      0.01         0.00           NaN         NaN   \n",
       "16711      0.00      0.01      0.00         0.00           NaN         NaN   \n",
       "16712      0.00      0.00      0.01         0.00           NaN         NaN   \n",
       "16713      0.01      0.00      0.00         0.00           NaN         NaN   \n",
       "16714      0.00      0.00      0.01         0.00           NaN         NaN   \n",
       "\n",
       "      rating  total_sales  \n",
       "0          e        82.54  \n",
       "1        NaN        40.24  \n",
       "2          e        35.52  \n",
       "3          e        32.77  \n",
       "4        NaN        31.38  \n",
       "...      ...          ...  \n",
       "16710    NaN         0.01  \n",
       "16711    NaN         0.01  \n",
       "16712    NaN         0.01  \n",
       "16713    NaN         0.01  \n",
       "16714    NaN         0.01  \n",
       "\n",
       "[16715 rows x 12 columns]"
      ]
     },
     "execution_count": 64,
     "metadata": {},
     "output_type": "execute_result"
    }
   ],
   "source": [
    "#Создадим новый столбец total_sales и прибавим продажи всех столбцов\n",
    "data['total_sales'] = data['na_sales'] + data['eu_sales'] + data['jp_sales'] + data['other_sales']\n",
    "data"
   ]
  },
  {
   "cell_type": "markdown",
   "metadata": {},
   "source": [
    "Вывод по подготовке данных:\n",
    "\n",
    "Необходимо привести к правильному типу столбец : Year of Release\n",
    "Также нужно привести к нижнему регистру столбцы нашей таблицы, а так же сами названия колонок\n",
    "Имеются пустые значения в столбцах rating, user_score, critic_score. Мы можем заменить имеющиеся пустые значения в таблице: year of release на года от той же игры только другой платформы, в остальных случаях решим в процессе предобработки\n",
    "Дубликатов не имеется"
   ]
  },
  {
   "cell_type": "markdown",
   "metadata": {},
   "source": [
    "## Исследовательский анализ данных"
   ]
  },
  {
   "cell_type": "markdown",
   "metadata": {},
   "source": [
    "Посмотрим, сколько игр выпускалось в разные годы. Важны ли данные за все периоды?"
   ]
  },
  {
   "cell_type": "code",
   "execution_count": 65,
   "metadata": {
    "scrolled": true
   },
   "outputs": [
    {
     "data": {
      "image/png": "[encoded data removed]",
      "text/plain": [
       "<Figure size 864x360 with 1 Axes>"
      ]
     },
     "metadata": {
      "needs_background": "light"
     },
     "output_type": "display_data"
    }
   ],
   "source": [
    "# Методом пивот отсортируем таблицы и отрисуем график, чтобы просмотреть как менялось количество выпускаемых игр\n",
    "games_year = data.pivot_table(index='year_of_release', values='name',aggfunc='count').plot(grid=True, figsize=(12, 5))"
   ]
  },
  {
   "cell_type": "markdown",
   "metadata": {},
   "source": [
    "по гистаграмме видно что после 1995 годов игры стали выпускатся чаше и больше до 2009 года, потом пошел спад "
   ]
  },
  {
   "cell_type": "markdown",
   "metadata": {},
   "source": [
    "По графику видно что платформы появляются в год по 1-2 шт, так же продолжительность если брать с 2005 года, к примеру\n",
    "х360 - про существовала 11 лет, а ps3 - 10 лет. Платформы живут от 10- 13 лет"
   ]
  },
  {
   "cell_type": "code",
   "execution_count": 66,
   "metadata": {},
   "outputs": [
    {
     "data": {
      "text/plain": [
       "Text(0, 0.5, 'Количество продаж')"
      ]
     },
     "execution_count": 66,
     "metadata": {},
     "output_type": "execute_result"
    },
    {
     "data": {
      "image/png": "[encoded data removed]",
      "text/plain": [
       "<Figure size 936x432 with 1 Axes>"
      ]
     },
     "metadata": {
      "needs_background": "light"
     },
     "output_type": "display_data"
    }
   ],
   "source": [
    "platform_on_sales = data.pivot_table(\n",
    "    index='platform', values='total_sales', aggfunc='sum').sort_values(by='total_sales', ascending=False)\n",
    "\n",
    "plt.figure(figsize=(13,6))\n",
    "sns.barplot(x=platform_on_sales.index,y=platform_on_sales['total_sales'])\n",
    "plt.title(\"Продажи по платформам за весь период\")\n",
    "plt.xlabel(\"Название платформы\")\n",
    "plt.ylabel(\"Количество продаж\")"
   ]
  },
  {
   "cell_type": "markdown",
   "metadata": {},
   "source": [
    "Из графика видно, что самые популярные игровые платформы за весь период это PS2, X360, PS3, WII, DS, PS"
   ]
  },
  {
   "cell_type": "code",
   "execution_count": 67,
   "metadata": {},
   "outputs": [],
   "source": [
    "# Напишем функцию, которая будет возвращать нужную сводную таблицу и выводить данные с 2005 года\n",
    "def year_total_platform(name, data):\n",
    "    slicee = data[(data['platform'] == name) & (data['year_of_release'] > 2005)]\n",
    "    total = slicee.pivot_table(index='year_of_release', values='total_sales', aggfunc='sum').sort_values('year_of_release', ascending=False)\n",
    "    return total"
   ]
  },
  {
   "cell_type": "code",
   "execution_count": 68,
   "metadata": {},
   "outputs": [
    {
     "data": {
      "text/html": [
       "<div>\n",
       "<style scoped>\n",
       "    .dataframe tbody tr th:only-of-type {\n",
       "        vertical-align: middle;\n",
       "    }\n",
       "\n",
       "    .dataframe tbody tr th {\n",
       "        vertical-align: top;\n",
       "    }\n",
       "\n",
       "    .dataframe thead th {\n",
       "        text-align: right;\n",
       "    }\n",
       "</style>\n",
       "<table border=\"1\" class=\"dataframe\">\n",
       "  <thead>\n",
       "    <tr style=\"text-align: right;\">\n",
       "      <th></th>\n",
       "      <th>platform</th>\n",
       "      <th>total_sales</th>\n",
       "    </tr>\n",
       "  </thead>\n",
       "  <tbody>\n",
       "    <tr>\n",
       "      <td>0</td>\n",
       "      <td>ps2</td>\n",
       "      <td>1255.77</td>\n",
       "    </tr>\n",
       "    <tr>\n",
       "      <td>1</td>\n",
       "      <td>x360</td>\n",
       "      <td>971.42</td>\n",
       "    </tr>\n",
       "    <tr>\n",
       "      <td>2</td>\n",
       "      <td>ps3</td>\n",
       "      <td>939.65</td>\n",
       "    </tr>\n",
       "    <tr>\n",
       "      <td>3</td>\n",
       "      <td>wii</td>\n",
       "      <td>907.51</td>\n",
       "    </tr>\n",
       "    <tr>\n",
       "      <td>4</td>\n",
       "      <td>ds</td>\n",
       "      <td>806.12</td>\n",
       "    </tr>\n",
       "  </tbody>\n",
       "</table>\n",
       "</div>"
      ],
      "text/plain": [
       "  platform  total_sales\n",
       "0      ps2      1255.77\n",
       "1     x360       971.42\n",
       "2      ps3       939.65\n",
       "3      wii       907.51\n",
       "4       ds       806.12"
      ]
     },
     "execution_count": 68,
     "metadata": {},
     "output_type": "execute_result"
    }
   ],
   "source": [
    "# Создадим свою таблицу по платформам и их обшим продажам. отсортируем их по убыванию и оставим только топ 5.\n",
    "top5_platforms = data.pivot_table(index='platform', values='total_sales', aggfunc='sum').sort_values(by='total_sales', ascending=False).head(5)\n",
    "top5_platforms = top5_platforms.reset_index().rename_axis(None, axis=1)\n",
    "top5_platforms"
   ]
  },
  {
   "cell_type": "code",
   "execution_count": 69,
   "metadata": {},
   "outputs": [
    {
     "data": {
      "image/png": "[encoded data removed]",
      "text/plain": [
       "<Figure size 864x432 with 1 Axes>"
      ]
     },
     "metadata": {
      "needs_background": "light"
     },
     "output_type": "display_data"
    }
   ],
   "source": [
    "#Отрисуем все игровые платформы и их поведение за последние 10 лет\n",
    "plt.figure(figsize=(12,6))\n",
    "plt.title('Количество продаж популярных игровых платформ')\n",
    "plt.xlabel('Годы игровых релизов')\n",
    "plt.ylabel('Продажи')\n",
    "\n",
    "for i in list(top5_platforms['platform']):\n",
    "    sns.lineplot(data=year_total_platform(i,data)['total_sales'], label=i)\n",
    "    plt.legend()"
   ]
  },
  {
   "cell_type": "markdown",
   "metadata": {},
   "source": [
    "Вывод:\n",
    "Практически все игровые платформы в среднем существуют по 10 лет. \n",
    "Cамые продаваемые это ps3, ps2, x360\n",
    "Самый пик наступает примерно через 5 лет после выхода приставки\n",
    "у  WII был быстрый скачок в 2009 году и такой же резкий провал"
   ]
  },
  {
   "cell_type": "markdown",
   "metadata": {},
   "source": [
    "Построим график «ящик с усами» по глобальным продажам игр в разбивке по платформам. Опишем результат."
   ]
  },
  {
   "cell_type": "code",
   "execution_count": 70,
   "metadata": {},
   "outputs": [],
   "source": [
    "#Сохраним в переменной data_top5_platforms топ 5 платформ и избавимся от выбросов\n",
    "top5 = ['ps2','x360','ps3','wii','ds']\n",
    "data_top5_platforms = data[data['platform'].isin(['ps2','x360','ps3','wii','ds'])]\n",
    "data_top5_platforms = data_top5_platforms[data_top5_platforms['total_sales']<1.4]"
   ]
  },
  {
   "cell_type": "code",
   "execution_count": 71,
   "metadata": {},
   "outputs": [
    {
     "data": {
      "text/plain": [
       "count    7469.000000\n",
       "mean        0.280778\n",
       "std         0.300902\n",
       "min         0.000000\n",
       "25%         0.060000\n",
       "50%         0.160000\n",
       "75%         0.400000\n",
       "max         1.390000\n",
       "Name: total_sales, dtype: float64"
      ]
     },
     "execution_count": 71,
     "metadata": {},
     "output_type": "execute_result"
    }
   ],
   "source": [
    "data_top5_platforms['total_sales'].describe()"
   ]
  },
  {
   "cell_type": "code",
   "execution_count": 72,
   "metadata": {},
   "outputs": [
    {
     "data": {
      "text/html": [
       "<div>\n",
       "<style scoped>\n",
       "    .dataframe tbody tr th:only-of-type {\n",
       "        vertical-align: middle;\n",
       "    }\n",
       "\n",
       "    .dataframe tbody tr th {\n",
       "        vertical-align: top;\n",
       "    }\n",
       "\n",
       "    .dataframe thead th {\n",
       "        text-align: right;\n",
       "    }\n",
       "</style>\n",
       "<table border=\"1\" class=\"dataframe\">\n",
       "  <thead>\n",
       "    <tr style=\"text-align: right;\">\n",
       "      <th></th>\n",
       "      <th>count</th>\n",
       "      <th>mean</th>\n",
       "      <th>std</th>\n",
       "      <th>min</th>\n",
       "      <th>25%</th>\n",
       "      <th>50%</th>\n",
       "      <th>75%</th>\n",
       "      <th>max</th>\n",
       "    </tr>\n",
       "    <tr>\n",
       "      <th>platform</th>\n",
       "      <th></th>\n",
       "      <th></th>\n",
       "      <th></th>\n",
       "      <th></th>\n",
       "      <th></th>\n",
       "      <th></th>\n",
       "      <th></th>\n",
       "      <th></th>\n",
       "    </tr>\n",
       "  </thead>\n",
       "  <tbody>\n",
       "    <tr>\n",
       "      <td>ds</td>\n",
       "      <td>2055.0</td>\n",
       "      <td>0.189358</td>\n",
       "      <td>0.236453</td>\n",
       "      <td>0.01</td>\n",
       "      <td>0.04</td>\n",
       "      <td>0.10</td>\n",
       "      <td>0.23</td>\n",
       "      <td>1.38</td>\n",
       "    </tr>\n",
       "    <tr>\n",
       "      <td>ps2</td>\n",
       "      <td>1929.0</td>\n",
       "      <td>0.298891</td>\n",
       "      <td>0.301820</td>\n",
       "      <td>0.00</td>\n",
       "      <td>0.07</td>\n",
       "      <td>0.19</td>\n",
       "      <td>0.43</td>\n",
       "      <td>1.39</td>\n",
       "    </tr>\n",
       "    <tr>\n",
       "      <td>ps3</td>\n",
       "      <td>1180.0</td>\n",
       "      <td>0.358280</td>\n",
       "      <td>0.346588</td>\n",
       "      <td>0.00</td>\n",
       "      <td>0.09</td>\n",
       "      <td>0.23</td>\n",
       "      <td>0.56</td>\n",
       "      <td>1.39</td>\n",
       "    </tr>\n",
       "    <tr>\n",
       "      <td>wii</td>\n",
       "      <td>1211.0</td>\n",
       "      <td>0.278109</td>\n",
       "      <td>0.289531</td>\n",
       "      <td>0.01</td>\n",
       "      <td>0.08</td>\n",
       "      <td>0.17</td>\n",
       "      <td>0.39</td>\n",
       "      <td>1.39</td>\n",
       "    </tr>\n",
       "    <tr>\n",
       "      <td>x360</td>\n",
       "      <td>1094.0</td>\n",
       "      <td>0.339927</td>\n",
       "      <td>0.322823</td>\n",
       "      <td>0.01</td>\n",
       "      <td>0.10</td>\n",
       "      <td>0.22</td>\n",
       "      <td>0.49</td>\n",
       "      <td>1.38</td>\n",
       "    </tr>\n",
       "  </tbody>\n",
       "</table>\n",
       "</div>"
      ],
      "text/plain": [
       "           count      mean       std   min   25%   50%   75%   max\n",
       "platform                                                          \n",
       "ds        2055.0  0.189358  0.236453  0.01  0.04  0.10  0.23  1.38\n",
       "ps2       1929.0  0.298891  0.301820  0.00  0.07  0.19  0.43  1.39\n",
       "ps3       1180.0  0.358280  0.346588  0.00  0.09  0.23  0.56  1.39\n",
       "wii       1211.0  0.278109  0.289531  0.01  0.08  0.17  0.39  1.39\n",
       "x360      1094.0  0.339927  0.322823  0.01  0.10  0.22  0.49  1.38"
      ]
     },
     "execution_count": 72,
     "metadata": {},
     "output_type": "execute_result"
    }
   ],
   "source": [
    "#Посмотрим на количество выпущенных каждой платформой игр, а также на средние глобальные продажи по платформам.\n",
    "data_top5_platforms.groupby('platform')['total_sales'].describe()"
   ]
  },
  {
   "cell_type": "code",
   "execution_count": 73,
   "metadata": {},
   "outputs": [
    {
     "data": {
      "text/plain": [
       "Text(0, 0.5, 'Глобальные продажи')"
      ]
     },
     "execution_count": 73,
     "metadata": {},
     "output_type": "execute_result"
    },
    {
     "data": {
      "image/png": "[encoded data removed]",
      "text/plain": [
       "<Figure size 864x720 with 1 Axes>"
      ]
     },
     "metadata": {
      "needs_background": "light"
     },
     "output_type": "display_data"
    }
   ],
   "source": [
    "#Отрисуем ящики с усами \n",
    "plt.figure(figsize=(12,10))\n",
    "sns.boxplot(data=data_top5_platforms, x='platform', y='total_sales')\n",
    "\n",
    "plt.title('Ящик с усами', fontsize=15)\n",
    "plt.xlabel('Платформа', fontsize=12)\n",
    "plt.ylabel('Глобальные продажи',fontsize=12)"
   ]
  },
  {
   "cell_type": "markdown",
   "metadata": {},
   "source": [
    "Вывод:\n",
    "Провели срез данных для того, чтоыб отрисовать ящики с усами. \n",
    "Исходя из графиков видно, что медиана протекает у всех по разному\n",
    "Больше всех продаж у PS3, затем X360, после PS2, WII и DS на последнем месте."
   ]
  },
  {
   "cell_type": "code",
   "execution_count": 74,
   "metadata": {},
   "outputs": [
    {
     "data": {
      "text/plain": [
       "['wii', 'x360', 'ds', 'ps3', 'ps2']"
      ]
     },
     "execution_count": 74,
     "metadata": {},
     "output_type": "execute_result"
    }
   ],
   "source": [
    "platforms_new = data_top5_platforms.groupby('platform')['total_sales'].sum().sort_values()[-5:].index.tolist()\n",
    "platforms_new"
   ]
  },
  {
   "cell_type": "code",
   "execution_count": 98,
   "metadata": {},
   "outputs": [
    {
     "data": {
      "text/html": [
       "<div>\n",
       "<style scoped>\n",
       "    .dataframe tbody tr th:only-of-type {\n",
       "        vertical-align: middle;\n",
       "    }\n",
       "\n",
       "    .dataframe tbody tr th {\n",
       "        vertical-align: top;\n",
       "    }\n",
       "\n",
       "    .dataframe thead th {\n",
       "        text-align: right;\n",
       "    }\n",
       "</style>\n",
       "<table border=\"1\" class=\"dataframe\">\n",
       "  <thead>\n",
       "    <tr style=\"text-align: right;\">\n",
       "      <th></th>\n",
       "      <th>index</th>\n",
       "      <th>platform</th>\n",
       "      <th>total_sales</th>\n",
       "    </tr>\n",
       "  </thead>\n",
       "  <tbody>\n",
       "    <tr>\n",
       "      <td>0</td>\n",
       "      <td>0</td>\n",
       "      <td>ps2</td>\n",
       "      <td>1255.77</td>\n",
       "    </tr>\n",
       "    <tr>\n",
       "      <td>1</td>\n",
       "      <td>1</td>\n",
       "      <td>x360</td>\n",
       "      <td>971.42</td>\n",
       "    </tr>\n",
       "    <tr>\n",
       "      <td>2</td>\n",
       "      <td>2</td>\n",
       "      <td>ps3</td>\n",
       "      <td>939.65</td>\n",
       "    </tr>\n",
       "    <tr>\n",
       "      <td>3</td>\n",
       "      <td>3</td>\n",
       "      <td>wii</td>\n",
       "      <td>907.51</td>\n",
       "    </tr>\n",
       "    <tr>\n",
       "      <td>4</td>\n",
       "      <td>4</td>\n",
       "      <td>ds</td>\n",
       "      <td>806.12</td>\n",
       "    </tr>\n",
       "  </tbody>\n",
       "</table>\n",
       "</div>"
      ],
      "text/plain": [
       "   index platform  total_sales\n",
       "0      0      ps2      1255.77\n",
       "1      1     x360       971.42\n",
       "2      2      ps3       939.65\n",
       "3      3      wii       907.51\n",
       "4      4       ds       806.12"
      ]
     },
     "execution_count": 98,
     "metadata": {},
     "output_type": "execute_result"
    }
   ],
   "source": [
    "platforms_new = data.pivot_table(index='platform', values='total_sales', aggfunc='sum').sort_values(by='total_sales', ascending=False).head(5)\n",
    "platforms_new = top5_platforms.reset_index().rename_axis(None, axis=1)\n",
    "platforms_new"
   ]
  },
  {
   "cell_type": "code",
   "execution_count": 99,
   "metadata": {},
   "outputs": [
    {
     "data": {
      "text/plain": [
       "count       5.000000\n",
       "mean      976.094000\n",
       "std       168.198991\n",
       "min       806.120000\n",
       "25%       907.510000\n",
       "50%       939.650000\n",
       "75%       971.420000\n",
       "max      1255.770000\n",
       "Name: total_sales, dtype: float64"
      ]
     },
     "execution_count": 99,
     "metadata": {},
     "output_type": "execute_result"
    }
   ],
   "source": [
    "platforms_new['total_sales'].describe()"
   ]
  },
  {
   "cell_type": "code",
   "execution_count": 100,
   "metadata": {},
   "outputs": [
    {
     "data": {
      "text/plain": [
       "Text(0, 0.5, 'Глобальные продажи')"
      ]
     },
     "execution_count": 100,
     "metadata": {},
     "output_type": "execute_result"
    },
    {
     "data": {
      "image/png": "[encoded data removed]",
      "text/plain": [
       "<Figure size 864x720 with 1 Axes>"
      ]
     },
     "metadata": {},
     "output_type": "display_data"
    }
   ],
   "source": [
    "#Отрисуем ящики с усами \n",
    "plt.figure(figsize=(12,10))\n",
    "sns.boxplot(data=platforms_new, x='platform', y='total_sales')\n",
    "\n",
    "plt.title('Ящик с усами', fontsize=15)\n",
    "plt.xlabel('Платформа', fontsize=12)\n",
    "plt.ylabel('Глобальные продажи',fontsize=12)"
   ]
  },
  {
   "cell_type": "markdown",
   "metadata": {},
   "source": [
    "Посмотрим, как влияют на продажи внутри одной популярной платформы отзывы пользователей и критиков. \n",
    "Построем диаграмму рассеяния и посчитаем корреляцию между отзывами и продажами. Сформулируем выводы"
   ]
  },
  {
   "cell_type": "code",
   "execution_count": 75,
   "metadata": {},
   "outputs": [
    {
     "data": {
      "text/plain": [
       "0.17286551112058213"
      ]
     },
     "execution_count": 75,
     "metadata": {},
     "output_type": "execute_result"
    }
   ],
   "source": [
    "#Корреляция между оценками пользователей и продажами \n",
    "sony_play_station2 = data[data['platform']=='ps2']\n",
    "sony_play_station2['user_score'].corr(sony_play_station2['total_sales'])"
   ]
  },
  {
   "cell_type": "code",
   "execution_count": 76,
   "metadata": {},
   "outputs": [
    {
     "data": {
      "text/plain": [
       "Text(0.5, 1.0, 'test')"
      ]
     },
     "execution_count": 76,
     "metadata": {},
     "output_type": "execute_result"
    },
    {
     "data": {
      "image/png": "[encoded data removed]",
      "text/plain": [
       "<Figure size 864x432 with 1 Axes>"
      ]
     },
     "metadata": {
      "needs_background": "light"
     },
     "output_type": "display_data"
    }
   ],
   "source": [
    "#Построим диаграмму рассеяния\n",
    "plt.figure(figsize=(12,6))\n",
    "sns.scatterplot(x='user_score', y='total_sales', data=sony_play_station2)\n",
    "plt.title('test')"
   ]
  },
  {
   "cell_type": "code",
   "execution_count": 77,
   "metadata": {},
   "outputs": [
    {
     "data": {
      "text/plain": [
       "Text(0.5, 1.0, 'test')"
      ]
     },
     "execution_count": 77,
     "metadata": {},
     "output_type": "execute_result"
    },
    {
     "data": {
      "image/png": "[encoded data removed]",
      "text/plain": [
       "<Figure size 864x432 with 1 Axes>"
      ]
     },
     "metadata": {
      "needs_background": "light"
     },
     "output_type": "display_data"
    }
   ],
   "source": [
    "#Построим диаграмму рассеяния по оценкам критиков \n",
    "plt.figure(figsize=(12,6))\n",
    "sns.scatterplot(x='critic_score', y='total_sales', data=sony_play_station2)\n",
    "plt.title('test')"
   ]
  },
  {
   "cell_type": "code",
   "execution_count": 78,
   "metadata": {},
   "outputs": [
    {
     "data": {
      "text/plain": [
       "0.39543454945454876"
      ]
     },
     "execution_count": 78,
     "metadata": {},
     "output_type": "execute_result"
    }
   ],
   "source": [
    "#Корреляция между оценкой критиков и продажам\n",
    "sony_play_station2['critic_score'].corr(sony_play_station2['total_sales'])"
   ]
  },
  {
   "cell_type": "markdown",
   "metadata": {},
   "source": [
    "Соотнесем выводы с продажами игр на других платформах."
   ]
  },
  {
   "cell_type": "code",
   "execution_count": 79,
   "metadata": {},
   "outputs": [],
   "source": [
    "#Напишем функцию, которая будет отрисовывать графики рассеивания и считать корреляции\n",
    "def other_platform_matrix(name_of_platform):\n",
    "    platform = data[data['platform']==name_of_platform]\n",
    "    fig, ax = plt.subplots(1 ,2, figsize=(15,5))\n",
    "    sns.scatterplot(x='user_score', y='total_sales', data=platform, ax=ax[0])\n",
    "    sns.scatterplot(x='critic_score', y='total_sales', data=platform, ax=ax[1])\n",
    "    fig.suptitle(name_of_platform, fontsize=15)\n",
    "    ax[0].set(xlabel='Оценка пользователей')\n",
    "    ax[1].set(xlabel='Оценка критиков')\n",
    "    ax[0].set(ylabel='Количество продаж')\n",
    "    ax[1].set(ylabel='Количество продаж')\n",
    "    plt.show()\n",
    "    \n",
    "    correl = platform['user_score'].corr(platform['total_sales'])\n",
    "    critic_correl = platform['critic_score'].corr(platform['total_sales'])\n",
    "    \n",
    "    \n",
    "    if 0.3 >= critic_correl >= 0.1:\n",
    "        print('Корреляция между отзывами критиков и игровой платформой ', name_of_platform.upper(), ': Слабая', critic_correl)\n",
    "    if 0.5 >= critic_correl >= 0.3:\n",
    "        print('Корреляция между отзывами критиков и игровой платформой ', name_of_platform.upper(), ': Умеренная', critic_correl)\n",
    "    if 0.7 >= critic_correl >= 0.5:\n",
    "        print('Корреляция между отзывами критиков и игровой платформой ', name_of_platform.upper(), ': Высокая', critic_correl)\n",
    "    if 0.9 >= critic_correl >= 0.7:\n",
    "        print('Корреляция между отзывами критиков и игровой платформой ', name_of_platform.upper(), ': Весьма высокая', critic_correl)\n",
    "    if 1 >= critic_correl >= 0.9:\n",
    "        print('Корреляция между отзывами критиков и игровой платформой ', name_of_platform.upper(), ': Сильная', critic_correl)\n",
    "    \n",
    "    if 0.3 >= correl >= 0.1:\n",
    "        print('Корреляция между отзывами пользователей и продажами ', name_of_platform.upper(), ': Слабая', correl)\n",
    "    if 0.5 >= correl >= 0.3:\n",
    "        print('Корреляция между отзывами пользователей и продажами ', name_of_platform.upper(), ': Умеренная', correl)\n",
    "    if 0.7 >= correl >= 0.5:\n",
    "        print('Корреляция между отзывами пользователей и продажами ', name_of_platform.upper(), ': Высокая', correl)\n",
    "    if 0.9 >= correl >= 0.7:\n",
    "        print('Корреляция между отзывами пользователей и продажами ', name_of_platform.upper(), ': Весьма высокая', correl)\n",
    "    if 1 >= correl >= 0.9:\n",
    "        print('Корреляция между отзывами пользователей и продажами ', name_of_platform.upper(), ': Сильная', correl)\n",
    "    print('\\n')"
   ]
  },
  {
   "cell_type": "code",
   "execution_count": 80,
   "metadata": {},
   "outputs": [
    {
     "data": {
      "image/png": "[encoded data removed]",
      "text/plain": [
       "<Figure size 1080x360 with 2 Axes>"
      ]
     },
     "metadata": {
      "needs_background": "light"
     },
     "output_type": "display_data"
    },
    {
     "name": "stdout",
     "output_type": "stream",
     "text": [
      "Корреляция между отзывами критиков и игровой платформой  PS2 : Умеренная 0.39543454945454876\n",
      "Корреляция между отзывами пользователей и продажами  PS2 : Слабая 0.17286551112058213\n",
      "\n",
      "\n"
     ]
    },
    {
     "data": {
      "image/png": "[encoded data removed]",
      "text/plain": [
       "<Figure size 1080x360 with 2 Axes>"
      ]
     },
     "metadata": {
      "needs_background": "light"
     },
     "output_type": "display_data"
    },
    {
     "name": "stdout",
     "output_type": "stream",
     "text": [
      "Корреляция между отзывами критиков и игровой платформой  X360 : Умеренная 0.3937358653072588\n",
      "Корреляция между отзывами пользователей и продажами  X360 : Слабая 0.11445882978454185\n",
      "\n",
      "\n"
     ]
    },
    {
     "data": {
      "image/png": "[encoded data removed]",
      "text/plain": [
       "<Figure size 1080x360 with 2 Axes>"
      ]
     },
     "metadata": {
      "needs_background": "light"
     },
     "output_type": "display_data"
    },
    {
     "name": "stdout",
     "output_type": "stream",
     "text": [
      "Корреляция между отзывами критиков и игровой платформой  PS3 : Умеренная 0.4324315685642061\n",
      "Корреляция между отзывами пользователей и продажами  PS3 : Слабая 0.12669133936341712\n",
      "\n",
      "\n"
     ]
    },
    {
     "data": {
      "image/png": "[encoded data removed]",
      "text/plain": [
       "<Figure size 1080x360 with 2 Axes>"
      ]
     },
     "metadata": {
      "needs_background": "light"
     },
     "output_type": "display_data"
    },
    {
     "name": "stdout",
     "output_type": "stream",
     "text": [
      "Корреляция между отзывами критиков и игровой платформой  WII : Слабая 0.17755988806089948\n",
      "Корреляция между отзывами пользователей и продажами  WII : Слабая 0.11241436067003169\n",
      "\n",
      "\n"
     ]
    },
    {
     "data": {
      "image/png": "[encoded data removed]",
      "text/plain": [
       "<Figure size 1080x360 with 2 Axes>"
      ]
     },
     "metadata": {
      "needs_background": "light"
     },
     "output_type": "display_data"
    },
    {
     "name": "stdout",
     "output_type": "stream",
     "text": [
      "Корреляция между отзывами критиков и игровой платформой  DS : Слабая 0.23637945738859747\n",
      "Корреляция между отзывами пользователей и продажами  DS : Слабая 0.1304355011164249\n",
      "\n",
      "\n"
     ]
    }
   ],
   "source": [
    "#С помощью цикла выведем все 5 графиков\n",
    "for platform in top5:\n",
    "    other_platform_matrix(platform)"
   ]
  },
  {
   "cell_type": "code",
   "execution_count": 81,
   "metadata": {},
   "outputs": [
    {
     "name": "stdout",
     "output_type": "stream",
     "text": [
      "Дисперсия PS2 : 1.7128899713716355\n",
      "Стандартное отклонение PS2 : 1.3087742247506386\n",
      "Среднее PS2 : 7.626833199033038\n",
      "Медиана PS2 : 8.0\n",
      "\n",
      "\n",
      "Дисперсия X360 : 2.0752880868793646\n",
      "Стандартное отклонение X360 : 1.4405860220338682\n",
      "Среднее X360 : 6.683540372670807\n",
      "Медиана X360 : 7.0\n",
      "\n",
      "\n",
      "Дисперсия PS3 : 2.1327377071986624\n",
      "Стандартное отклонение PS3 : 1.460389573777717\n",
      "Среднее PS3 : 6.726567844925884\n",
      "Медиана PS3 : 7.1\n",
      "\n",
      "\n",
      "Дисперсия WII : 3.019767825255102\n",
      "Стандартное отклонение WII : 1.7377479176379702\n",
      "Среднее WII : 6.742678571428572\n",
      "Медиана WII : 7.15\n",
      "\n",
      "\n",
      "Дисперсия DS : 2.27045054383751\n",
      "Стандартное отклонение DS : 1.5068014281375997\n",
      "Среднее DS : 7.025193798449613\n",
      "Медиана DS : 7.4\n",
      "\n",
      "\n"
     ]
    }
   ],
   "source": [
    "#Посчитаем дисперсию, стандартное отклонение, среднее и медиану у топ 5 платформ к оценкам пользователей\n",
    "for platform in top5:\n",
    "    print('Дисперсия', platform.upper(),':', np.var(data[data['platform']==platform]['user_score']))\n",
    "    print('Стандартное отклонение', platform.upper(),':', np.std(data[data['platform']==platform]['user_score']))\n",
    "    print('Среднее',platform.upper(),':',  data[data['platform']==platform]['user_score'].mean())\n",
    "    print('Медиана',platform.upper(),':',  data[data['platform']==platform]['user_score'].median())\n",
    "    print('\\n')"
   ]
  },
  {
   "cell_type": "code",
   "execution_count": 82,
   "metadata": {},
   "outputs": [
    {
     "name": "stdout",
     "output_type": "stream",
     "text": [
      "Дисперсия PS2 : 170.82854741560442\n",
      "Стандартное отклонение PS2 : 13.070139533134466\n",
      "Среднее PS2 : 68.72727272727273\n",
      "Медиана PS2 : 70.0\n",
      "\n",
      "\n",
      "Дисперсия X360 : 225.25163874640072\n",
      "Стандартное отклонение X360 : 15.008385614262473\n",
      "Среднее X360 : 68.61681222707423\n",
      "Медиана X360 : 71.0\n",
      "\n",
      "\n",
      "Дисперсия PS3 : 196.96800118976796\n",
      "Стандартное отклонение PS3 : 14.034528890909305\n",
      "Среднее PS3 : 70.3829268292683\n",
      "Медиана PS3 : 73.0\n",
      "\n",
      "\n",
      "Дисперсия WII : 220.95190590985464\n",
      "Стандартное отклонение WII : 14.86445108000476\n",
      "Среднее WII : 62.82393162393162\n",
      "Медиана WII : 65.0\n",
      "\n",
      "\n",
      "Дисперсия DS : 184.03656565302896\n",
      "Стандартное отклонение DS : 13.566007727147621\n",
      "Среднее DS : 63.76150627615063\n",
      "Медиана DS : 66.0\n",
      "\n",
      "\n"
     ]
    }
   ],
   "source": [
    "#Посчитаем дисперсию, стандартное отклонение, среднее и медиану у топ 5 платформ к оценкам критиков\n",
    "for platform in top5:\n",
    "    print('Дисперсия', platform.upper(),':', np.var(data[data['platform']==platform]['critic_score']))\n",
    "    print('Стандартное отклонение', platform.upper(),':', np.std(data[data['platform']==platform]['critic_score']))\n",
    "    print('Среднее',platform.upper(),':',  data[data['platform']==platform]['critic_score'].mean())\n",
    "    print('Медиана',platform.upper(),':',  data[data['platform']==platform]['critic_score'].median())\n",
    "    print('\\n')"
   ]
  },
  {
   "cell_type": "markdown",
   "metadata": {},
   "source": [
    "Практически у всех платформ присутствуем корреляция, между оценками пользователей и критиков к продажам.\n",
    "Оценка пользователей слабо влияет на продажи, чего не скажешь о оценке критиков. Покупатели прислушиваются \n",
    "больше к критикам чем к оценкам других пользователей"
   ]
  },
  {
   "cell_type": "markdown",
   "metadata": {},
   "source": [
    "Посмотрим на общее распределение игр по жанрам. Что можно сказать о самых прибыльных жанрах?\n",
    "Выделяются ли жанры с высокими и низкими продажами?"
   ]
  },
  {
   "cell_type": "code",
   "execution_count": 83,
   "metadata": {},
   "outputs": [
    {
     "data": {
      "text/html": [
       "<div>\n",
       "<style scoped>\n",
       "    .dataframe tbody tr th:only-of-type {\n",
       "        vertical-align: middle;\n",
       "    }\n",
       "\n",
       "    .dataframe tbody tr th {\n",
       "        vertical-align: top;\n",
       "    }\n",
       "\n",
       "    .dataframe thead th {\n",
       "        text-align: right;\n",
       "    }\n",
       "</style>\n",
       "<table border=\"1\" class=\"dataframe\">\n",
       "  <thead>\n",
       "    <tr style=\"text-align: right;\">\n",
       "      <th></th>\n",
       "      <th>genre</th>\n",
       "      <th>total_sales</th>\n",
       "    </tr>\n",
       "  </thead>\n",
       "  <tbody>\n",
       "    <tr>\n",
       "      <td>0</td>\n",
       "      <td>action</td>\n",
       "      <td>1744.17</td>\n",
       "    </tr>\n",
       "    <tr>\n",
       "      <td>1</td>\n",
       "      <td>sports</td>\n",
       "      <td>1331.27</td>\n",
       "    </tr>\n",
       "    <tr>\n",
       "      <td>2</td>\n",
       "      <td>shooter</td>\n",
       "      <td>1052.45</td>\n",
       "    </tr>\n",
       "    <tr>\n",
       "      <td>3</td>\n",
       "      <td>role-playing</td>\n",
       "      <td>934.56</td>\n",
       "    </tr>\n",
       "    <tr>\n",
       "      <td>4</td>\n",
       "      <td>platform</td>\n",
       "      <td>827.77</td>\n",
       "    </tr>\n",
       "    <tr>\n",
       "      <td>5</td>\n",
       "      <td>misc</td>\n",
       "      <td>802.51</td>\n",
       "    </tr>\n",
       "    <tr>\n",
       "      <td>6</td>\n",
       "      <td>racing</td>\n",
       "      <td>728.67</td>\n",
       "    </tr>\n",
       "    <tr>\n",
       "      <td>7</td>\n",
       "      <td>fighting</td>\n",
       "      <td>447.53</td>\n",
       "    </tr>\n",
       "    <tr>\n",
       "      <td>8</td>\n",
       "      <td>simulation</td>\n",
       "      <td>389.97</td>\n",
       "    </tr>\n",
       "    <tr>\n",
       "      <td>9</td>\n",
       "      <td>puzzle</td>\n",
       "      <td>242.57</td>\n",
       "    </tr>\n",
       "    <tr>\n",
       "      <td>10</td>\n",
       "      <td>adventure</td>\n",
       "      <td>237.59</td>\n",
       "    </tr>\n",
       "    <tr>\n",
       "      <td>11</td>\n",
       "      <td>strategy</td>\n",
       "      <td>174.23</td>\n",
       "    </tr>\n",
       "  </tbody>\n",
       "</table>\n",
       "</div>"
      ],
      "text/plain": [
       "           genre  total_sales\n",
       "0         action      1744.17\n",
       "1         sports      1331.27\n",
       "2        shooter      1052.45\n",
       "3   role-playing       934.56\n",
       "4       platform       827.77\n",
       "5           misc       802.51\n",
       "6         racing       728.67\n",
       "7       fighting       447.53\n",
       "8     simulation       389.97\n",
       "9         puzzle       242.57\n",
       "10     adventure       237.59\n",
       "11      strategy       174.23"
      ]
     },
     "execution_count": 83,
     "metadata": {},
     "output_type": "execute_result"
    }
   ],
   "source": [
    "# Методом сводных таблиц выведем жанры и их продажи.  отсортируем по убыванию. \n",
    "distr_genre = data.pivot_table(\n",
    "    index='genre', values='total_sales', aggfunc='sum').sort_values(by='total_sales', ascending=False)\n",
    "distr_genre = distr_genre.reset_index().rename_axis(None, axis=1)\n",
    "distr_genre"
   ]
  },
  {
   "cell_type": "code",
   "execution_count": 84,
   "metadata": {},
   "outputs": [
    {
     "data": {
      "text/plain": [
       "Text(0, 0.5, 'Продажи')"
      ]
     },
     "execution_count": 84,
     "metadata": {},
     "output_type": "execute_result"
    },
    {
     "data": {
      "image/png": "[encoded data removed]",
      "text/plain": [
       "<Figure size 864x432 with 1 Axes>"
      ]
     },
     "metadata": {
      "needs_background": "light"
     },
     "output_type": "display_data"
    }
   ],
   "source": [
    "#Отрисуем барплот чтобы наглядно посмотреть какие жанры лидирует, а какие остаются внизу\n",
    "plt.figure(figsize=(12,6))\n",
    "plt.title('Распределение игр по жанрам ',fontsize=15)\n",
    "sns.barplot(data=distr_genre, x='genre', y='total_sales')\n",
    "plt.xlabel('Жанры игр',fontsize=12)\n",
    "plt.ylabel('Продажи',fontsize=12)"
   ]
  },
  {
   "cell_type": "markdown",
   "metadata": {},
   "source": [
    "Лучше всего продаются жанры Экшн. Стратегии как ни странно держутся на последнем месте"
   ]
  },
  {
   "cell_type": "markdown",
   "metadata": {},
   "source": [
    "Вывод по исследовательскому анализу данных:\n",
    "\n",
    "Количество игр на игровые приставки и компьютеры начало расти с большой скоростью с 90х годов до 2008 года. С 2008 года, после того как массово начали создавать мобильные приложения и мобильные игры, произошел резкий спад разработок игр на игровые платформы.\n",
    "Самые популярные игровые платформы за весь период : Sony PlayStation 2, Xbox 360, Sony Playstation 3, Nintendo WII, Nintendo DS, Sony Playstation.\n",
    "Средняя жизнь игровой платформы составляет 10 лет. Пик продаж наступает примерно через 5 лет после выхода приставки.\n",
    "Больше всего продаются игры на Sony Playstation и Xbox 360\n",
    "Nintendo WII как быстро появился также быстро и потух. Возможно потому что появился прям перед выходом мобильных приложений и игр.\n",
    "У всех платформ наблюдается взаимосвязь между продажами и оценками критиков и пользователей. Заметнее всего корреляция между оценками критиков и продажами. Это значит для людей мнение критиков важнее мнения других пользователей"
   ]
  },
  {
   "cell_type": "markdown",
   "metadata": {},
   "source": [
    "## Составьте портрет пользователя каждого региона"
   ]
  },
  {
   "cell_type": "markdown",
   "metadata": {},
   "source": [
    "Определите для пользователя каждого региона (NA, EU, JP):\n",
    "  - Самые популярные платформы (топ-5). Опишем различия в долях продаж.\n",
    "    - Самые популярные жанры (топ-5). Поясним разницу.\n",
    "    - Влияет ли рейтинг ESRB на продажи в отдельном регионе?"
   ]
  },
  {
   "cell_type": "code",
   "execution_count": 85,
   "metadata": {},
   "outputs": [],
   "source": [
    "#Напишем функции для создания сводных таблиц и отсривоки барплотов\n",
    "\n",
    "#Функция для создания сводбных таблиц за весь период\n",
    "def forpivot(row, title):\n",
    "    fig, axes = plt.subplots(1, 3, figsize=(20, 4))\n",
    "    for pivot, ax in zip(list(['platform','genre','rating']),axes.flatten()[:3]):\n",
    "        ppivot = data.pivot_table(index=pivot, values=row, aggfunc='sum'\n",
    "                  ).sort_values(by=row, ascending=False).reset_index().rename_axis(None, axis=1).head(5)\n",
    "        print(ppivot)\n",
    "        print('\\n\\n') \n",
    "        sns.set_palette(\"Blues\")\n",
    "        sns.barplot(data=ppivot, x=pivot, y=row, ax=ax)\n",
    "        fig.suptitle(title, fontsize=15)\n",
    "        \n",
    "\n",
    "plt.show()\n",
    "sns.set()\n",
    "\n",
    "#Функция для создания сводных таблиц за последний год\n",
    "def for_pivot_2016(row, title):\n",
    "    temp = data[data['year_of_release']>2015]\n",
    "    fig, axes = plt.subplots(1, 3, figsize=(20, 4))\n",
    "    for pivot, ax in zip(list(['platform','genre','rating']), axes.flatten()[:3]):\n",
    "        ppivot = temp.pivot_table(index=pivot, values=row, aggfunc='sum').sort_values(by=row, ascending=False).reset_index().rename_axis(None, axis=1).head(5)\n",
    "        print(ppivot)\n",
    "        print('\\n\\n')\n",
    "        sns.set_palette(\"BuGn_r\")\n",
    "        sns.barplot(data=ppivot, x=pivot, y=row, ax=ax)\n",
    "        fig.suptitle(title, fontsize=15)\n",
    "        "
   ]
  },
  {
   "cell_type": "markdown",
   "metadata": {},
   "source": [
    "Портрет пользователя NA"
   ]
  },
  {
   "cell_type": "code",
   "execution_count": 86,
   "metadata": {},
   "outputs": [
    {
     "name": "stdout",
     "output_type": "stream",
     "text": [
      "  platform  na_sales\n",
      "0     x360    602.47\n",
      "1      ps2    583.84\n",
      "2      wii    496.90\n",
      "3      ps3    393.49\n",
      "4       ds    382.40\n",
      "\n",
      "\n",
      "\n",
      "      genre  na_sales\n",
      "0    action    879.01\n",
      "1    sports    684.43\n",
      "2   shooter    592.24\n",
      "3  platform    445.50\n",
      "4      misc    407.27\n",
      "\n",
      "\n",
      "\n",
      "  rating  na_sales\n",
      "0      e   1292.99\n",
      "1      t    759.75\n",
      "2      m    748.48\n",
      "3   e10+    353.32\n",
      "4    k-a      2.56\n",
      "\n",
      "\n",
      "\n"
     ]
    },
    {
     "data": {
      "image/png": "[encoded data removed]",
      "text/plain": [
       "<Figure size 1440x288 with 3 Axes>"
      ]
     },
     "metadata": {},
     "output_type": "display_data"
    }
   ],
   "source": [
    "#Выведем топ 5 платформ, жанров и рейтингов за весь период\n",
    "forpivot('na_sales','Топ 5 платформ, жанров и рейтингов за весь период')"
   ]
  },
  {
   "cell_type": "code",
   "execution_count": 87,
   "metadata": {},
   "outputs": [
    {
     "name": "stdout",
     "output_type": "stream",
     "text": [
      "  platform  na_sales\n",
      "0      ps4     21.49\n",
      "1     xone     14.27\n",
      "2      3ds      4.14\n",
      "3     wiiu      2.10\n",
      "4       pc      1.36\n",
      "\n",
      "\n",
      "\n",
      "          genre  na_sales\n",
      "0       shooter     16.24\n",
      "1        action      9.29\n",
      "2        sports      7.54\n",
      "3  role-playing      5.89\n",
      "4      fighting      1.84\n",
      "\n",
      "\n",
      "\n",
      "  rating  na_sales\n",
      "0      m     15.67\n",
      "1      t      8.95\n",
      "2      e      7.97\n",
      "3   e10+      3.81\n",
      "\n",
      "\n",
      "\n"
     ]
    },
    {
     "data": {
      "image/png": "[encoded data removed]",
      "text/plain": [
       "<Figure size 1440x288 with 3 Axes>"
      ]
     },
     "metadata": {},
     "output_type": "display_data"
    }
   ],
   "source": [
    "#Выведем топ 5 платформ, жанров и рейтингов за последний год\n",
    "for_pivot_2016('na_sales','Топ 5 платформ, жанров и рейтингов за последний год')"
   ]
  },
  {
   "cell_type": "markdown",
   "metadata": {},
   "source": [
    "Вывод:\n",
    "    Самые популярные игровые платформы в северной америке за все время это: XBOX, PS2, WII, PS3, DS\n",
    "Топ 5 жанров в северной америке за все время: action, sports, shooter, platform, misc\n",
    "По рейтингам видно, что больше всего продаж за все время у игр с рейтингом \"для всех\", на втором месте игры с рейтингом \"от 13 и выше\" и на третьем месте игры с рейтингом \"от 17 и выше\"\n",
    "\n",
    "Если посмотреть с 2015 по 2016 года, то мы видим как интерес кардинально меняется:\n",
    "Топ игровых приставок выглядит таким образом : PS4, Xone, DS3\n",
    "Топ жанров игр: Shooter, Action, Sports\n",
    "Топ рейтингов игр : \"От 17 и выше\" , \"от 13 и выше\" и \"для всех\""
   ]
  },
  {
   "cell_type": "markdown",
   "metadata": {},
   "source": [
    "Портрет пользователя EU"
   ]
  },
  {
   "cell_type": "code",
   "execution_count": 88,
   "metadata": {},
   "outputs": [
    {
     "name": "stdout",
     "output_type": "stream",
     "text": [
      "  platform  eu_sales\n",
      "0      ps2    339.29\n",
      "1      ps3    330.29\n",
      "2     x360    270.76\n",
      "3      wii    262.21\n",
      "4       ps    213.61\n",
      "\n",
      "\n",
      "\n",
      "     genre  eu_sales\n",
      "0   action    519.13\n",
      "1   sports    376.79\n",
      "2  shooter    317.34\n",
      "3   racing    236.51\n",
      "4     misc    212.74\n",
      "\n",
      "\n",
      "\n",
      "  rating  eu_sales\n",
      "0      e    710.25\n",
      "1      m    483.97\n",
      "2      t    427.03\n",
      "3   e10+    188.52\n",
      "4     ao      0.61\n",
      "\n",
      "\n",
      "\n"
     ]
    },
    {
     "data": {
      "image/png": "[encoded data removed]",
      "text/plain": [
       "<Figure size 1440x288 with 3 Axes>"
      ]
     },
     "metadata": {},
     "output_type": "display_data"
    }
   ],
   "source": [
    "#Выведем топ 5 платформ, жанров и рейтингов за весь период для Европейского союза\n",
    "forpivot('eu_sales','Топ 5 платформ, жанров и рейтингов за весь период для Европейского союза')"
   ]
  },
  {
   "cell_type": "code",
   "execution_count": 89,
   "metadata": {},
   "outputs": [
    {
     "name": "stdout",
     "output_type": "stream",
     "text": [
      "  platform  eu_sales\n",
      "0      ps4     31.78\n",
      "1     xone      9.63\n",
      "2       pc      3.53\n",
      "3      3ds      2.33\n",
      "4     wiiu      1.48\n",
      "\n",
      "\n",
      "\n",
      "          genre  eu_sales\n",
      "0       shooter     15.90\n",
      "1        sports     12.01\n",
      "2        action     10.68\n",
      "3  role-playing      4.28\n",
      "4        racing      1.77\n",
      "\n",
      "\n",
      "\n",
      "  rating  eu_sales\n",
      "0      m     16.54\n",
      "1      e     13.61\n",
      "2      t      9.79\n",
      "3   e10+      3.81\n",
      "\n",
      "\n",
      "\n"
     ]
    },
    {
     "data": {
      "image/png": "[encoded data removed]",
      "text/plain": [
       "<Figure size 1440x288 with 3 Axes>"
      ]
     },
     "metadata": {},
     "output_type": "display_data"
    }
   ],
   "source": [
    "#Выведем топ 5 платформ, жанров и рейтингов за последний год для европейского союза\n",
    "for_pivot_2016('eu_sales','Топ 5 платформ, жанров и рейтингов за последний год для европейского союза')"
   ]
  },
  {
   "cell_type": "markdown",
   "metadata": {},
   "source": [
    "Вывод: Самые популярные игровые платформы в Европе это: PS2, PS3, X360, WII, PS\n",
    "Топ 5 жанров в Европе : action, sports, shooter, racing, misc\n",
    "По рейтингам видно, что больше всего продаж у игр с рейтингом \"для всех\", на втором месте игры с рейтингом \"от 17 и выше\" и на третьем месте игры с рейтингом \"от 13 и выше\"\n",
    "\n",
    "За последний год интерес у пользователя кардинально изменился:\n",
    "Топ жанров стал: shooter, sports, action\n",
    "Топ платформ: PS4, Xone, PC\n",
    "Топ рейтингов: \"От 17 и выше\" , \"Для всех\" и \"от 13 и выше\""
   ]
  },
  {
   "cell_type": "markdown",
   "metadata": {},
   "source": [
    "Портрет пользователя JP"
   ]
  },
  {
   "cell_type": "code",
   "execution_count": 90,
   "metadata": {},
   "outputs": [
    {
     "name": "stdout",
     "output_type": "stream",
     "text": [
      "  platform  jp_sales\n",
      "0       ds    175.57\n",
      "1       ps    139.82\n",
      "2      ps2    139.20\n",
      "3     snes    116.55\n",
      "4      3ds    100.67\n",
      "\n",
      "\n",
      "\n",
      "          genre  jp_sales\n",
      "0  role-playing    355.41\n",
      "1        action    161.43\n",
      "2        sports    135.54\n",
      "3      platform    130.83\n",
      "4          misc    108.11\n",
      "\n",
      "\n",
      "\n",
      "  rating  jp_sales\n",
      "0      e    198.11\n",
      "1      t    151.40\n",
      "2      m     64.24\n",
      "3   e10+     40.20\n",
      "4    k-a      1.46\n",
      "\n",
      "\n",
      "\n"
     ]
    },
    {
     "data": {
      "image/png": "[encoded data removed]",
      "text/plain": [
       "<Figure size 1440x288 with 3 Axes>"
      ]
     },
     "metadata": {},
     "output_type": "display_data"
    }
   ],
   "source": [
    "#Выведем топ 5 платформ, жанров и рейтингов за весь период для Японии\n",
    "forpivot('jp_sales','Топ 5 платформ, жанров и рейтингов за весь период для Японии')"
   ]
  },
  {
   "cell_type": "code",
   "execution_count": 91,
   "metadata": {},
   "outputs": [
    {
     "name": "stdout",
     "output_type": "stream",
     "text": [
      "  platform  jp_sales\n",
      "0      3ds      8.03\n",
      "1      ps4      5.74\n",
      "2      psv      3.56\n",
      "3      ps3      1.30\n",
      "4     wiiu      0.67\n",
      "\n",
      "\n",
      "\n",
      "          genre  jp_sales\n",
      "0        action      7.07\n",
      "1  role-playing      6.61\n",
      "2     adventure      1.18\n",
      "3       shooter      1.06\n",
      "4          misc      1.04\n",
      "\n",
      "\n",
      "\n",
      "  rating  jp_sales\n",
      "0      t      2.27\n",
      "1      m      1.20\n",
      "2      e      1.07\n",
      "3   e10+      0.45\n",
      "\n",
      "\n",
      "\n"
     ]
    },
    {
     "data": {
      "image/png": "[encoded data removed]",
      "text/plain": [
       "<Figure size 1440x288 with 3 Axes>"
      ]
     },
     "metadata": {},
     "output_type": "display_data"
    }
   ],
   "source": [
    "#Выведем топ 5 платформ, жанров и рейтингов за последний год для японии\n",
    "for_pivot_2016('jp_sales','Топ 5 платформ, жанров и рейтингов за последний год для японии')"
   ]
  },
  {
   "cell_type": "markdown",
   "metadata": {},
   "source": [
    "Вывод: Самые популярные игровые платформы в Японии это: DS, PS, PS2, SNES, 3DS\n",
    "Топ 5 жанров в Японии : Role-Playing, action, sports, platform, misc\n",
    "По рейтингам видно, что больше всего продаж у игр с рейтингом \"для всех\", на втором месте игры с рейтингом \"от 13 и выше\" и на третьем месте игры с рейтингом \"от 17 и выше\"\n",
    "\n",
    "За последний год интерес у пользователя кардинально изменился\n",
    "Топ Жанров: action, role-playing, adventure\n",
    "топ платформ: 3ds, ps4, psv\n",
    "топ рейтингов: \"от 13 и выше\", \"от 17 и выше\" и \"для всех"
   ]
  },
  {
   "cell_type": "markdown",
   "metadata": {},
   "source": [
    "## Проверим гипотезы"
   ]
  },
  {
   "cell_type": "markdown",
   "metadata": {},
   "source": [
    "Средние пользовательские рейтинги платформ Xbox One и PC одинаковые"
   ]
  },
  {
   "cell_type": "markdown",
   "metadata": {},
   "source": [
    "Сформулируем нулевые гипотезы:\n",
    "\n",
    "Нулевая гипотеза H₀: Средние пользовательские рейтинги платформ Xbox One и PC одинаковые;\n",
    "Альтернативная гипотеза H₁: Средние пользовательские рейтинги платформ Xbox One и PC различаются"
   ]
  },
  {
   "cell_type": "code",
   "execution_count": 92,
   "metadata": {},
   "outputs": [
    {
     "data": {
      "text/plain": [
       "6.521428571428572"
      ]
     },
     "execution_count": 92,
     "metadata": {},
     "output_type": "execute_result"
    }
   ],
   "source": [
    "# Сохраним в переменных xbox_hyp и pc_hyp соответствующие данные (актуальные данные за последние 10 лет)\n",
    "xone_hyp = data[(data['platform']=='xone') & (data['year_of_release']>2006)]['user_score']\n",
    "pc_hyp = data[(data['platform']=='pc') & (data['year_of_release']>2006)]['user_score']\n",
    "\n",
    "#Посчитаем средний рейтинг пользователя для xbox платформ\n",
    "xone_hyp.mean()"
   ]
  },
  {
   "cell_type": "code",
   "execution_count": 93,
   "metadata": {},
   "outputs": [
    {
     "data": {
      "text/plain": [
       "6.773024054982817"
      ]
     },
     "execution_count": 93,
     "metadata": {},
     "output_type": "execute_result"
    }
   ],
   "source": [
    "#Посчитаем средний рейтинг пользователя для PC платформ\n",
    "pc_hyp.mean()"
   ]
  },
  {
   "cell_type": "code",
   "execution_count": 94,
   "metadata": {
    "scrolled": true
   },
   "outputs": [
    {
     "name": "stdout",
     "output_type": "stream",
     "text": [
      "p-значение: 0.037253715630861925\n",
      "Не получилось отвергнуть нулевую гипотезу\n"
     ]
    }
   ],
   "source": [
    "#Выполним проверку гипотезы. Будем использовать метод ttest_ind\n",
    "\n",
    "alpha = .01\n",
    "\n",
    "results = st.ttest_ind(xone_hyp.dropna(), pc_hyp.dropna(), equal_var=False)\n",
    "\n",
    "print('p-значение:', results.pvalue)\n",
    "\n",
    "\n",
    "if (results.pvalue < alpha):\n",
    "    print(\"Отвергаем нулевую гипотезу\")\n",
    "else:\n",
    "    print(\"Не получилось отвергнуть нулевую гипотезу\")"
   ]
  },
  {
   "cell_type": "markdown",
   "metadata": {},
   "source": [
    "Вывод: Значение p-value равно чуть меньше 4%. Таким образом, не получилось опровергнуть Нулевую гипотезу. То есть, с вероятностью в 4% можно получить различность рейтингов двух платформ"
   ]
  },
  {
   "cell_type": "markdown",
   "metadata": {},
   "source": [
    "Средние пользовательские рейтинги жанров Action "
   ]
  },
  {
   "cell_type": "markdown",
   "metadata": {},
   "source": [
    "Сформулируем нулевые гипотезы:\n",
    "\n",
    "Нулевая гипотеза H₀: Средние пользовательские рейтинги жанров Action и Sports одинаковые\n",
    "Альтернативная гипотеза H₁: Средние пользовательские рейтинги жанров Action и Sports различаются"
   ]
  },
  {
   "cell_type": "code",
   "execution_count": 95,
   "metadata": {},
   "outputs": [
    {
     "data": {
      "text/plain": [
       "6.839204545454545"
      ]
     },
     "execution_count": 95,
     "metadata": {},
     "output_type": "execute_result"
    }
   ],
   "source": [
    "# Сохраним в переменных genre_action_hyp и genre_sports_hyp соответствующие данные с пользовательскими оценками\n",
    "genre_action_hyp = data[(data['genre']=='action') & (data['year_of_release']>2006)]['user_score']\n",
    "genre_sports_hyp = data[(data['genre']=='sports') & (data['year_of_release']>2006)]['user_score']\n",
    "\n",
    "#выведем среднюю оценку по жанру экшн\n",
    "genre_action_hyp.mean()"
   ]
  },
  {
   "cell_type": "code",
   "execution_count": 96,
   "metadata": {},
   "outputs": [
    {
     "data": {
      "text/plain": [
       "6.3086294416243645"
      ]
     },
     "execution_count": 96,
     "metadata": {},
     "output_type": "execute_result"
    }
   ],
   "source": [
    "#выведем среднюю оценку по жанру спорт\n",
    "genre_sports_hyp.mean()"
   ]
  },
  {
   "cell_type": "code",
   "execution_count": 97,
   "metadata": {},
   "outputs": [
    {
     "name": "stdout",
     "output_type": "stream",
     "text": [
      "p-значение: 3.064098789244688e-11\n",
      "Отвергаем нулевую гипотезу\n"
     ]
    }
   ],
   "source": [
    "#Выполним проверку гипотезы. Будем использовать метод ttest_ind\n",
    "\n",
    "alpha = .01\n",
    "\n",
    "results = st.ttest_ind(genre_action_hyp.dropna(), genre_sports_hyp.dropna(), equal_var=False)\n",
    "\n",
    "print('p-значение:', results.pvalue)\n",
    "\n",
    "\n",
    "if (results.pvalue < alpha):\n",
    "    print(\"Отвергаем нулевую гипотезу\")\n",
    "else:\n",
    "    print(\"Не получилось отвергнуть нулевую гипотезу\")"
   ]
  },
  {
   "cell_type": "markdown",
   "metadata": {},
   "source": [
    "Вывод: Получив p-value, мы отвергли Нулевую гипотезу. Таким образом, у нас практически нет вероятности получить одинакове средние рейнтинги по двум жанрам"
   ]
  },
  {
   "cell_type": "markdown",
   "metadata": {},
   "source": [
    "## Общий вывод\n"
   ]
  },
  {
   "cell_type": "markdown",
   "metadata": {},
   "source": [
    "Перед анализом данных, мы подготовили наши данные, привели к правильным данным столбцы, привели к нижнему регистру таблицы и сами названия колонок и Привели к правильным типам данных необходимые столбцы.\n",
    "Определили, что аббревиатура TBD значит to be determined, to be done. То есть данные были нарочно не заполнены. Поэтому заменили tbd на nan для проведения дальнейшего анализа\n",
    "Проведя анализ, мы выявили, что количество игр на игровые приставки и компьютеры начало расти с большой скоростью с 90х до 2008 года. С 2008 года после того как массово начали создавать мобильные приложения и мобильные игры, произошел резкий спад разработок консольных игр\n",
    "За весь период консольных приставок самые популярные оказались: PS2, X360, PS3, WII, DS, PS\n",
    "Также мы выявили, что средняя продолжительность жизни игровой приставки составляет порядка 10 лет. Самый пик продаж наступает примерно через 5 лет после выпуска консоли\n",
    "Исходя из анализа мы увидели, что у Nintendo WII был резкий скачок в 2009 году и такой же резкий провал. Скорее всего потому что у людей не было особого интереса к приставке, когда как под рукой всегда был смартфон с любыми играми на вкус\n",
    "Проведя анализ оценок пользователей и критиков. Мы выявили, что оценки критиков и пользователей взаимосвязаны с продажами самих игр. То есть чем больше оценка критиков или пользователей, тем лучше продажа игры.\n",
    "Так же определили, что самый популярный жанр за все время это Экшн. На последнем месте стратегии\n",
    "\n",
    "После мы составили портреты пользователей каждого региона.\n",
    "Выяснили, что в Северной америке самые популярные жанры это action, sports, shooter. Игровые приставки : XBOX, PS2 и WII. А по рейтингу игр люди предпочитают игры с рейтингами: \"для всех\", \"от 13 и выше\" и \"от 17 и выше\".\n",
    "В Европе же, популярные жанры точно такие же как и в Северной Америке. Но приставки по предпочитают по следующей очередности: PS2, PS3, XBOX. Рейтинг игр отличается лишь вторым местом, на втором месте у них от 17 и выше, а на третьем 13 и выше.\n",
    "В японии люди предпочитают игровые приставки: DS, PS, PS2. А жанры игры : Role-playing, action и sports. Рейтинг игр аналогичный Северной Америке.\n",
    "\n",
    "Исходя из всех данных предполагаем, что лучше всего продавать игры для таких приставок как Sony Playstation 4\n",
    "Жанр необходимо выбирать Shooter и выбирать игры с рейтингом \"от 17 и выше\", тогда продажи будут значительно больше, чем если продавать другие игры."
   ]
  },
  {
   "cell_type": "code",
   "execution_count": null,
   "metadata": {},
   "outputs": [],
   "source": []
  },
  {
   "cell_type": "code",
   "execution_count": null,
   "metadata": {},
   "outputs": [],
   "source": []
  }
 ],
 "metadata": {
  "ExecuteTimeLog": [
   {
    "duration": 60,
    "start_time": "2021-06-09T06:19:11.575Z"
   },
   {
    "duration": 1079,
    "start_time": "2021-06-09T06:19:17.058Z"
   },
   {
    "duration": 56,
    "start_time": "2021-06-09T06:19:18.138Z"
   },
   {
    "duration": 8,
    "start_time": "2021-06-09T06:19:18.196Z"
   },
   {
    "duration": 36,
    "start_time": "2021-06-09T06:19:18.206Z"
   },
   {
    "duration": 5,
    "start_time": "2021-06-09T06:19:18.326Z"
   },
   {
    "duration": 9,
    "start_time": "2021-06-09T06:19:18.568Z"
   },
   {
    "duration": 15,
    "start_time": "2021-06-09T06:19:18.794Z"
   },
   {
    "duration": 22,
    "start_time": "2021-06-09T06:19:19.924Z"
   },
   {
    "duration": 11,
    "start_time": "2021-06-09T06:19:20.175Z"
   },
   {
    "duration": 13,
    "start_time": "2021-06-09T06:19:20.418Z"
   },
   {
    "duration": 33,
    "start_time": "2021-06-09T06:19:20.683Z"
   },
   {
    "duration": 5,
    "start_time": "2021-06-09T06:19:20.943Z"
   },
   {
    "duration": 5,
    "start_time": "2021-06-09T06:19:21.213Z"
   },
   {
    "duration": 6,
    "start_time": "2021-06-09T06:19:21.448Z"
   },
   {
    "duration": 9,
    "start_time": "2021-06-09T06:19:21.714Z"
   },
   {
    "duration": 7,
    "start_time": "2021-06-09T06:19:21.922Z"
   },
   {
    "duration": 20,
    "start_time": "2021-06-09T06:19:22.162Z"
   },
   {
    "duration": 236,
    "start_time": "2021-06-09T06:19:23.153Z"
   },
   {
    "duration": 276,
    "start_time": "2021-06-09T06:19:24.072Z"
   },
   {
    "duration": 189,
    "start_time": "2021-06-09T06:19:24.936Z"
   },
   {
    "duration": 64,
    "start_time": "2021-06-09T06:19:25.439Z"
   },
   {
    "duration": 373,
    "start_time": "2021-06-09T06:19:26.713Z"
   },
   {
    "duration": 499,
    "start_time": "2021-06-09T06:25:17.889Z"
   },
   {
    "duration": 243,
    "start_time": "2021-06-09T06:29:19.675Z"
   },
   {
    "duration": 398,
    "start_time": "2021-06-09T06:30:18.131Z"
   },
   {
    "duration": 4,
    "start_time": "2021-06-09T06:32:16.426Z"
   },
   {
    "duration": 13,
    "start_time": "2021-06-09T06:33:01.078Z"
   },
   {
    "duration": 3,
    "start_time": "2021-06-09T06:33:24.714Z"
   },
   {
    "duration": 13,
    "start_time": "2021-06-09T06:33:25.249Z"
   },
   {
    "duration": 16,
    "start_time": "2021-06-09T06:33:43.062Z"
   },
   {
    "duration": 429,
    "start_time": "2021-06-09T06:34:44.248Z"
   },
   {
    "duration": 442,
    "start_time": "2021-06-09T06:35:10.254Z"
   },
   {
    "duration": 9,
    "start_time": "2021-06-09T06:45:58.669Z"
   },
   {
    "duration": 4550,
    "start_time": "2021-06-09T06:46:15.750Z"
   },
   {
    "duration": 13,
    "start_time": "2021-06-09T06:46:29.220Z"
   },
   {
    "duration": 248,
    "start_time": "2021-06-09T06:47:27.119Z"
   },
   {
    "duration": 3,
    "start_time": "2021-06-09T06:53:52.022Z"
   },
   {
    "duration": 51,
    "start_time": "2021-06-09T06:53:52.635Z"
   },
   {
    "duration": 10,
    "start_time": "2021-06-09T06:53:52.994Z"
   },
   {
    "duration": 34,
    "start_time": "2021-06-09T06:53:53.223Z"
   },
   {
    "duration": 4,
    "start_time": "2021-06-09T06:53:53.524Z"
   },
   {
    "duration": 8,
    "start_time": "2021-06-09T06:53:53.923Z"
   },
   {
    "duration": 16,
    "start_time": "2021-06-09T06:53:54.198Z"
   },
   {
    "duration": 21,
    "start_time": "2021-06-09T06:53:55.452Z"
   },
   {
    "duration": 10,
    "start_time": "2021-06-09T06:53:55.719Z"
   },
   {
    "duration": 13,
    "start_time": "2021-06-09T06:53:56.022Z"
   },
   {
    "duration": 32,
    "start_time": "2021-06-09T06:53:56.308Z"
   },
   {
    "duration": 5,
    "start_time": "2021-06-09T06:53:56.627Z"
   },
   {
    "duration": 5,
    "start_time": "2021-06-09T06:53:56.963Z"
   },
   {
    "duration": 5,
    "start_time": "2021-06-09T06:53:57.257Z"
   },
   {
    "duration": 10,
    "start_time": "2021-06-09T06:53:57.551Z"
   },
   {
    "duration": 7,
    "start_time": "2021-06-09T06:53:57.892Z"
   },
   {
    "duration": 20,
    "start_time": "2021-06-09T06:53:58.183Z"
   },
   {
    "duration": 231,
    "start_time": "2021-06-09T06:53:59.946Z"
   },
   {
    "duration": 413,
    "start_time": "2021-06-09T06:54:01.228Z"
   },
   {
    "duration": 4,
    "start_time": "2021-06-09T06:54:01.998Z"
   },
   {
    "duration": 17,
    "start_time": "2021-06-09T06:54:02.529Z"
   },
   {
    "duration": 370,
    "start_time": "2021-06-09T06:54:03.005Z"
   },
   {
    "duration": 9,
    "start_time": "2021-06-09T06:54:04.764Z"
   },
   {
    "duration": 8,
    "start_time": "2021-06-09T06:54:05.408Z"
   },
   {
    "duration": 256,
    "start_time": "2021-06-09T06:54:06.124Z"
   },
   {
    "duration": 253,
    "start_time": "2021-06-09T06:55:39.027Z"
   },
   {
    "duration": 371,
    "start_time": "2021-06-09T06:56:12.072Z"
   },
   {
    "duration": 338,
    "start_time": "2021-06-09T06:56:27.977Z"
   },
   {
    "duration": 431,
    "start_time": "2021-06-09T06:59:27.981Z"
   },
   {
    "duration": 249,
    "start_time": "2021-06-09T06:59:51.223Z"
   },
   {
    "duration": 262,
    "start_time": "2021-06-09T07:00:50.140Z"
   },
   {
    "duration": 254,
    "start_time": "2021-06-09T07:01:02.022Z"
   },
   {
    "duration": 244,
    "start_time": "2021-06-09T07:02:08.332Z"
   },
   {
    "duration": 9,
    "start_time": "2021-06-09T07:02:53.855Z"
   },
   {
    "duration": 7,
    "start_time": "2021-06-09T07:02:54.801Z"
   },
   {
    "duration": 255,
    "start_time": "2021-06-09T07:02:55.513Z"
   },
   {
    "duration": 10,
    "start_time": "2021-06-09T07:03:14.788Z"
   },
   {
    "duration": 8,
    "start_time": "2021-06-09T07:03:15.557Z"
   },
   {
    "duration": 262,
    "start_time": "2021-06-09T07:03:16.110Z"
   },
   {
    "duration": 398,
    "start_time": "2021-06-09T07:06:36.243Z"
   },
   {
    "duration": 348,
    "start_time": "2021-06-09T07:06:52.059Z"
   },
   {
    "duration": 303,
    "start_time": "2021-06-09T07:14:00.054Z"
   },
   {
    "duration": 25,
    "start_time": "2021-06-09T07:14:54.861Z"
   },
   {
    "duration": 9,
    "start_time": "2021-06-09T07:19:27.635Z"
   },
   {
    "duration": 8,
    "start_time": "2021-06-09T07:19:28.310Z"
   },
   {
    "duration": 23,
    "start_time": "2021-06-09T07:19:28.976Z"
   },
   {
    "duration": 319,
    "start_time": "2021-06-09T07:19:29.769Z"
   },
   {
    "duration": 9,
    "start_time": "2021-06-09T07:39:52.428Z"
   },
   {
    "duration": 6,
    "start_time": "2021-06-09T07:40:34.228Z"
   },
   {
    "duration": 185,
    "start_time": "2021-06-09T07:40:46.475Z"
   },
   {
    "duration": 6,
    "start_time": "2021-06-09T07:40:56.874Z"
   },
   {
    "duration": 6,
    "start_time": "2021-06-09T07:42:05.162Z"
   },
   {
    "duration": 8,
    "start_time": "2021-06-09T07:42:16.656Z"
   },
   {
    "duration": 170,
    "start_time": "2021-06-09T07:44:39.499Z"
   },
   {
    "duration": 15,
    "start_time": "2021-06-09T07:46:55.759Z"
   },
   {
    "duration": 204,
    "start_time": "2021-06-09T07:48:59.842Z"
   },
   {
    "duration": 4,
    "start_time": "2021-06-09T07:49:07.641Z"
   },
   {
    "duration": 367,
    "start_time": "2021-06-09T07:51:03.582Z"
   },
   {
    "duration": 5,
    "start_time": "2021-06-09T07:51:40.786Z"
   },
   {
    "duration": 3,
    "start_time": "2021-06-09T07:51:59.789Z"
   },
   {
    "duration": 52,
    "start_time": "2021-06-09T07:52:00.016Z"
   },
   {
    "duration": 10,
    "start_time": "2021-06-09T07:52:00.220Z"
   },
   {
    "duration": 36,
    "start_time": "2021-06-09T07:52:00.486Z"
   },
   {
    "duration": 4,
    "start_time": "2021-06-09T07:52:00.666Z"
   },
   {
    "duration": 9,
    "start_time": "2021-06-09T07:52:00.867Z"
   },
   {
    "duration": 4,
    "start_time": "2021-06-09T07:52:01.835Z"
   },
   {
    "duration": 11,
    "start_time": "2021-06-09T07:52:02.006Z"
   },
   {
    "duration": 346,
    "start_time": "2021-06-09T07:52:02.217Z"
   },
   {
    "duration": 5,
    "start_time": "2021-06-09T07:52:02.564Z"
   },
   {
    "duration": 22,
    "start_time": "2021-06-09T07:52:02.820Z"
   },
   {
    "duration": 11,
    "start_time": "2021-06-09T07:52:03.103Z"
   },
   {
    "duration": 12,
    "start_time": "2021-06-09T07:52:03.440Z"
   },
   {
    "duration": 31,
    "start_time": "2021-06-09T07:52:03.707Z"
   },
   {
    "duration": 5,
    "start_time": "2021-06-09T07:52:03.952Z"
   },
   {
    "duration": 5,
    "start_time": "2021-06-09T07:52:04.161Z"
   },
   {
    "duration": 6,
    "start_time": "2021-06-09T07:52:04.380Z"
   },
   {
    "duration": 9,
    "start_time": "2021-06-09T07:52:04.598Z"
   },
   {
    "duration": 8,
    "start_time": "2021-06-09T07:52:04.770Z"
   },
   {
    "duration": 19,
    "start_time": "2021-06-09T07:52:04.998Z"
   },
   {
    "duration": 243,
    "start_time": "2021-06-09T07:52:05.882Z"
   },
   {
    "duration": 402,
    "start_time": "2021-06-09T07:52:06.559Z"
   },
   {
    "duration": 4,
    "start_time": "2021-06-09T07:52:07.020Z"
   },
   {
    "duration": 16,
    "start_time": "2021-06-09T07:52:07.220Z"
   },
   {
    "duration": 376,
    "start_time": "2021-06-09T07:52:07.456Z"
   },
   {
    "duration": 9,
    "start_time": "2021-06-09T07:52:08.216Z"
   },
   {
    "duration": 8,
    "start_time": "2021-06-09T07:52:08.446Z"
   },
   {
    "duration": 23,
    "start_time": "2021-06-09T07:52:08.676Z"
   },
   {
    "duration": 315,
    "start_time": "2021-06-09T07:52:08.899Z"
   },
   {
    "duration": 3,
    "start_time": "2021-06-09T07:53:33.983Z"
   },
   {
    "duration": 50,
    "start_time": "2021-06-09T07:53:34.604Z"
   },
   {
    "duration": 9,
    "start_time": "2021-06-09T07:53:35.255Z"
   },
   {
    "duration": 38,
    "start_time": "2021-06-09T07:53:36.089Z"
   },
   {
    "duration": 5,
    "start_time": "2021-06-09T07:53:36.823Z"
   },
   {
    "duration": 10,
    "start_time": "2021-06-09T07:53:38.520Z"
   },
   {
    "duration": 5,
    "start_time": "2021-06-09T07:53:39.429Z"
   },
   {
    "duration": 11,
    "start_time": "2021-06-09T07:53:39.779Z"
   },
   {
    "duration": 349,
    "start_time": "2021-06-09T07:53:40.414Z"
   },
   {
    "duration": 5,
    "start_time": "2021-06-09T07:53:40.983Z"
   },
   {
    "duration": 2,
    "start_time": "2021-06-09T07:53:42.178Z"
   },
   {
    "duration": 10,
    "start_time": "2021-06-09T07:53:42.758Z"
   },
   {
    "duration": 197,
    "start_time": "2021-06-09T07:53:43.322Z"
   },
   {
    "duration": 29,
    "start_time": "2021-06-09T07:53:43.972Z"
   },
   {
    "duration": 6,
    "start_time": "2021-06-09T07:53:44.859Z"
   },
   {
    "duration": 6,
    "start_time": "2021-06-09T07:53:45.518Z"
   },
   {
    "duration": 5,
    "start_time": "2021-06-09T07:53:46.062Z"
   },
   {
    "duration": 11,
    "start_time": "2021-06-09T07:53:46.614Z"
   },
   {
    "duration": 8,
    "start_time": "2021-06-09T07:53:47.182Z"
   },
   {
    "duration": 22,
    "start_time": "2021-06-09T07:53:47.728Z"
   },
   {
    "duration": 231,
    "start_time": "2021-06-09T07:53:49.861Z"
   },
   {
    "duration": 412,
    "start_time": "2021-06-09T07:53:51.666Z"
   },
   {
    "duration": 3,
    "start_time": "2021-06-09T07:53:53.230Z"
   },
   {
    "duration": 17,
    "start_time": "2021-06-09T07:53:53.864Z"
   },
   {
    "duration": 386,
    "start_time": "2021-06-09T07:53:54.527Z"
   },
   {
    "duration": 9,
    "start_time": "2021-06-09T07:53:56.447Z"
   },
   {
    "duration": 8,
    "start_time": "2021-06-09T07:53:57.063Z"
   },
   {
    "duration": 23,
    "start_time": "2021-06-09T07:53:57.983Z"
   },
   {
    "duration": 401,
    "start_time": "2021-06-09T07:53:58.875Z"
   },
   {
    "duration": 196,
    "start_time": "2021-06-09T07:54:58.033Z"
   },
   {
    "duration": 7,
    "start_time": "2021-06-09T07:56:53.052Z"
   },
   {
    "duration": 248,
    "start_time": "2021-06-09T07:58:18.354Z"
   },
   {
    "duration": 8,
    "start_time": "2021-06-09T07:58:25.720Z"
   },
   {
    "duration": 6,
    "start_time": "2021-06-09T07:58:39.395Z"
   },
   {
    "duration": 17,
    "start_time": "2021-06-09T07:58:40.232Z"
   },
   {
    "duration": 197,
    "start_time": "2021-06-09T07:58:41.097Z"
   },
   {
    "duration": 5,
    "start_time": "2021-06-09T07:58:42.194Z"
   },
   {
    "duration": 3,
    "start_time": "2021-06-09T07:58:43.900Z"
   },
   {
    "duration": 17,
    "start_time": "2021-06-09T07:58:44.800Z"
   },
   {
    "duration": 7,
    "start_time": "2021-06-09T07:58:45.472Z"
   },
   {
    "duration": 33,
    "start_time": "2021-06-09T07:58:46.096Z"
   },
   {
    "duration": 6,
    "start_time": "2021-06-09T07:58:46.949Z"
   },
   {
    "duration": 5,
    "start_time": "2021-06-09T07:58:47.669Z"
   },
   {
    "duration": 5,
    "start_time": "2021-06-09T07:58:48.421Z"
   },
   {
    "duration": 12,
    "start_time": "2021-06-09T07:58:49.061Z"
   },
   {
    "duration": 7,
    "start_time": "2021-06-09T07:58:49.699Z"
   },
   {
    "duration": 20,
    "start_time": "2021-06-09T07:58:50.330Z"
   },
   {
    "duration": 232,
    "start_time": "2021-06-09T07:58:52.880Z"
   },
   {
    "duration": 403,
    "start_time": "2021-06-09T07:58:54.849Z"
   },
   {
    "duration": 3,
    "start_time": "2021-06-09T07:58:56.671Z"
   },
   {
    "duration": 16,
    "start_time": "2021-06-09T07:58:57.520Z"
   },
   {
    "duration": 375,
    "start_time": "2021-06-09T07:58:58.335Z"
   },
   {
    "duration": 10,
    "start_time": "2021-06-09T07:59:00.689Z"
   },
   {
    "duration": 8,
    "start_time": "2021-06-09T07:59:01.335Z"
   },
   {
    "duration": 25,
    "start_time": "2021-06-09T07:59:02.008Z"
   },
   {
    "duration": 292,
    "start_time": "2021-06-09T07:59:03.471Z"
   },
   {
    "duration": 22,
    "start_time": "2021-06-09T08:02:27.116Z"
   },
   {
    "duration": 21,
    "start_time": "2021-06-09T08:02:48.509Z"
   },
   {
    "duration": 9,
    "start_time": "2021-06-09T08:03:11.123Z"
   },
   {
    "duration": 20,
    "start_time": "2021-06-09T08:03:34.676Z"
   },
   {
    "duration": 8,
    "start_time": "2021-06-09T08:03:57.580Z"
   },
   {
    "duration": 8,
    "start_time": "2021-06-09T08:04:13.527Z"
   },
   {
    "duration": 18,
    "start_time": "2021-06-09T08:04:35.863Z"
   },
   {
    "duration": 104,
    "start_time": "2021-06-09T08:05:26.840Z"
   },
   {
    "duration": 5021,
    "start_time": "2021-06-09T08:06:30.052Z"
   },
   {
    "duration": 5,
    "start_time": "2021-06-09T08:06:56.500Z"
   },
   {
    "duration": 233,
    "start_time": "2021-06-09T08:07:21.928Z"
   },
   {
    "duration": 32,
    "start_time": "2021-06-09T08:07:40.427Z"
   },
   {
    "duration": 4794,
    "start_time": "2021-06-09T08:08:12.792Z"
   },
   {
    "duration": 6,
    "start_time": "2021-06-09T08:08:49.105Z"
   },
   {
    "duration": 4,
    "start_time": "2021-06-09T08:10:22.346Z"
   },
   {
    "duration": 191,
    "start_time": "2021-06-09T08:12:46.703Z"
   },
   {
    "duration": 20,
    "start_time": "2021-06-09T08:12:53.592Z"
   },
   {
    "duration": 3,
    "start_time": "2021-06-09T08:15:13.788Z"
   },
   {
    "duration": 52,
    "start_time": "2021-06-09T08:15:14.386Z"
   },
   {
    "duration": 11,
    "start_time": "2021-06-09T08:15:14.891Z"
   },
   {
    "duration": 36,
    "start_time": "2021-06-09T08:15:15.503Z"
   },
   {
    "duration": 5,
    "start_time": "2021-06-09T08:15:16.200Z"
   },
   {
    "duration": 10,
    "start_time": "2021-06-09T08:15:16.906Z"
   },
   {
    "duration": 19,
    "start_time": "2021-06-09T08:15:17.514Z"
   },
   {
    "duration": 20,
    "start_time": "2021-06-09T08:15:18.101Z"
   },
   {
    "duration": 19,
    "start_time": "2021-06-09T08:15:18.693Z"
   },
   {
    "duration": 20,
    "start_time": "2021-06-09T08:15:19.394Z"
   },
   {
    "duration": 7,
    "start_time": "2021-06-09T08:15:20.050Z"
   },
   {
    "duration": 7,
    "start_time": "2021-06-09T08:15:20.851Z"
   },
   {
    "duration": 5,
    "start_time": "2021-06-09T08:15:22.977Z"
   },
   {
    "duration": 26,
    "start_time": "2021-06-09T08:15:23.690Z"
   },
   {
    "duration": 6,
    "start_time": "2021-06-09T08:15:24.985Z"
   },
   {
    "duration": 4897,
    "start_time": "2021-06-09T08:15:26.400Z"
   },
   {
    "duration": 1138,
    "start_time": "2021-06-09T08:15:30.162Z"
   },
   {
    "duration": 1128,
    "start_time": "2021-06-09T08:15:30.173Z"
   },
   {
    "duration": 1122,
    "start_time": "2021-06-09T08:15:30.181Z"
   },
   {
    "duration": 1113,
    "start_time": "2021-06-09T08:15:30.191Z"
   },
   {
    "duration": 4,
    "start_time": "2021-06-09T08:16:11.230Z"
   },
   {
    "duration": 5,
    "start_time": "2021-06-09T08:17:18.250Z"
   },
   {
    "duration": 16,
    "start_time": "2021-06-09T08:17:18.933Z"
   },
   {
    "duration": 343,
    "start_time": "2021-06-09T08:17:19.471Z"
   },
   {
    "duration": 183,
    "start_time": "2021-06-09T08:17:41.125Z"
   },
   {
    "duration": 5,
    "start_time": "2021-06-09T08:17:46.716Z"
   },
   {
    "duration": 12,
    "start_time": "2021-06-09T08:20:46.715Z"
   },
   {
    "duration": 11,
    "start_time": "2021-06-09T08:20:47.310Z"
   },
   {
    "duration": 5,
    "start_time": "2021-06-09T08:21:32.991Z"
   },
   {
    "duration": 23,
    "start_time": "2021-06-09T08:21:40.068Z"
   },
   {
    "duration": 238,
    "start_time": "2021-06-09T08:22:38.292Z"
   },
   {
    "duration": 416,
    "start_time": "2021-06-09T08:23:07.387Z"
   },
   {
    "duration": 4,
    "start_time": "2021-06-09T08:23:40.871Z"
   },
   {
    "duration": 16,
    "start_time": "2021-06-09T08:23:59.259Z"
   },
   {
    "duration": 377,
    "start_time": "2021-06-09T08:24:09.651Z"
   },
   {
    "duration": 382,
    "start_time": "2021-06-09T08:24:22.042Z"
   },
   {
    "duration": 11,
    "start_time": "2021-06-09T08:24:25.242Z"
   },
   {
    "duration": 9,
    "start_time": "2021-06-09T08:24:31.217Z"
   },
   {
    "duration": 318,
    "start_time": "2021-06-09T08:24:58.653Z"
   },
   {
    "duration": 184,
    "start_time": "2021-06-09T08:31:04.749Z"
   },
   {
    "duration": 8,
    "start_time": "2021-06-09T08:31:16.941Z"
   },
   {
    "duration": 373,
    "start_time": "2021-06-09T08:31:38.283Z"
   },
   {
    "duration": 344,
    "start_time": "2021-06-09T08:32:17.006Z"
   },
   {
    "duration": 5,
    "start_time": "2021-06-09T08:40:41.823Z"
   },
   {
    "duration": 163,
    "start_time": "2021-06-09T08:42:59.410Z"
   },
   {
    "duration": 11,
    "start_time": "2021-06-09T08:43:39.887Z"
   },
   {
    "duration": 2752,
    "start_time": "2021-06-09T08:44:39.244Z"
   },
   {
    "duration": 208,
    "start_time": "2021-06-09T08:45:45.898Z"
   },
   {
    "duration": 198,
    "start_time": "2021-06-09T08:46:13.919Z"
   },
   {
    "duration": 63,
    "start_time": "2021-06-09T08:46:33.932Z"
   },
   {
    "duration": 66,
    "start_time": "2021-06-09T08:47:23.281Z"
   },
   {
    "duration": 22,
    "start_time": "2021-06-09T08:48:45.279Z"
   },
   {
    "duration": 266,
    "start_time": "2021-06-09T08:49:10.038Z"
   },
   {
    "duration": 8,
    "start_time": "2021-06-09T08:54:13.570Z"
   },
   {
    "duration": 566,
    "start_time": "2021-06-09T08:54:54.070Z"
   },
   {
    "duration": 576,
    "start_time": "2021-06-09T08:55:24.575Z"
   },
   {
    "duration": 573,
    "start_time": "2021-06-09T08:57:35.543Z"
   },
   {
    "duration": 540,
    "start_time": "2021-06-09T08:57:52.294Z"
   },
   {
    "duration": 763,
    "start_time": "2021-06-09T08:58:52.144Z"
   },
   {
    "duration": 551,
    "start_time": "2021-06-09T08:59:06.631Z"
   },
   {
    "duration": 63,
    "start_time": "2021-06-09T08:59:32.471Z"
   },
   {
    "duration": 13,
    "start_time": "2021-06-09T09:03:25.568Z"
   },
   {
    "duration": 5,
    "start_time": "2021-06-09T09:03:46.901Z"
   },
   {
    "duration": 10,
    "start_time": "2021-06-09T09:03:59.945Z"
   },
   {
    "duration": 12,
    "start_time": "2021-06-09T09:05:43.627Z"
   },
   {
    "duration": 5,
    "start_time": "2021-06-09T09:05:52.163Z"
   },
   {
    "duration": 8,
    "start_time": "2021-06-09T09:06:01.461Z"
   },
   {
    "duration": 3,
    "start_time": "2021-06-09T09:07:17.449Z"
   },
   {
    "duration": 1473,
    "start_time": "2021-06-09T10:09:32.754Z"
   },
   {
    "duration": 75,
    "start_time": "2021-06-09T10:09:34.230Z"
   },
   {
    "duration": 13,
    "start_time": "2021-06-09T10:09:34.308Z"
   },
   {
    "duration": 79,
    "start_time": "2021-06-09T10:09:34.325Z"
   },
   {
    "duration": 123,
    "start_time": "2021-06-09T10:09:34.406Z"
   },
   {
    "duration": 30,
    "start_time": "2021-06-09T10:09:34.506Z"
   },
   {
    "duration": 29,
    "start_time": "2021-06-09T10:09:34.509Z"
   },
   {
    "duration": 27,
    "start_time": "2021-06-09T10:09:34.513Z"
   },
   {
    "duration": 26,
    "start_time": "2021-06-09T10:09:34.516Z"
   },
   {
    "duration": 25,
    "start_time": "2021-06-09T10:09:34.520Z"
   },
   {
    "duration": 22,
    "start_time": "2021-06-09T10:09:34.525Z"
   },
   {
    "duration": 21,
    "start_time": "2021-06-09T10:09:34.528Z"
   },
   {
    "duration": 19,
    "start_time": "2021-06-09T10:09:34.532Z"
   },
   {
    "duration": 18,
    "start_time": "2021-06-09T10:09:34.536Z"
   },
   {
    "duration": 17,
    "start_time": "2021-06-09T10:09:34.539Z"
   },
   {
    "duration": 15,
    "start_time": "2021-06-09T10:09:34.543Z"
   },
   {
    "duration": 15,
    "start_time": "2021-06-09T10:09:34.546Z"
   },
   {
    "duration": 13,
    "start_time": "2021-06-09T10:09:34.550Z"
   },
   {
    "duration": 12,
    "start_time": "2021-06-09T10:09:34.553Z"
   },
   {
    "duration": 11,
    "start_time": "2021-06-09T10:09:34.556Z"
   },
   {
    "duration": 11,
    "start_time": "2021-06-09T10:09:34.559Z"
   },
   {
    "duration": 10,
    "start_time": "2021-06-09T10:09:34.562Z"
   },
   {
    "duration": 8,
    "start_time": "2021-06-09T10:09:34.566Z"
   },
   {
    "duration": 7,
    "start_time": "2021-06-09T10:09:34.569Z"
   },
   {
    "duration": 7,
    "start_time": "2021-06-09T10:09:34.572Z"
   },
   {
    "duration": -43,
    "start_time": "2021-06-09T10:09:34.624Z"
   },
   {
    "duration": -45,
    "start_time": "2021-06-09T10:09:34.628Z"
   },
   {
    "duration": -47,
    "start_time": "2021-06-09T10:09:34.632Z"
   },
   {
    "duration": -48,
    "start_time": "2021-06-09T10:09:34.635Z"
   },
   {
    "duration": -49,
    "start_time": "2021-06-09T10:09:34.638Z"
   },
   {
    "duration": -49,
    "start_time": "2021-06-09T10:09:34.641Z"
   },
   {
    "duration": -51,
    "start_time": "2021-06-09T10:09:34.645Z"
   },
   {
    "duration": -52,
    "start_time": "2021-06-09T10:09:34.648Z"
   },
   {
    "duration": -55,
    "start_time": "2021-06-09T10:09:34.653Z"
   },
   {
    "duration": -55,
    "start_time": "2021-06-09T10:09:34.656Z"
   },
   {
    "duration": -58,
    "start_time": "2021-06-09T10:09:34.660Z"
   },
   {
    "duration": -59,
    "start_time": "2021-06-09T10:09:34.663Z"
   },
   {
    "duration": -5,
    "start_time": "2021-06-09T10:09:34.666Z"
   },
   {
    "duration": -6,
    "start_time": "2021-06-09T10:09:34.669Z"
   },
   {
    "duration": -9,
    "start_time": "2021-06-09T10:09:34.673Z"
   },
   {
    "duration": -10,
    "start_time": "2021-06-09T10:09:34.676Z"
   },
   {
    "duration": -12,
    "start_time": "2021-06-09T10:09:34.679Z"
   },
   {
    "duration": -14,
    "start_time": "2021-06-09T10:09:34.682Z"
   },
   {
    "duration": -16,
    "start_time": "2021-06-09T10:09:34.685Z"
   },
   {
    "duration": -16,
    "start_time": "2021-06-09T10:09:34.687Z"
   },
   {
    "duration": -19,
    "start_time": "2021-06-09T10:09:34.691Z"
   },
   {
    "duration": -21,
    "start_time": "2021-06-09T10:09:34.694Z"
   },
   {
    "duration": -24,
    "start_time": "2021-06-09T10:09:34.698Z"
   },
   {
    "duration": -25,
    "start_time": "2021-06-09T10:09:34.701Z"
   },
   {
    "duration": -28,
    "start_time": "2021-06-09T10:09:34.705Z"
   },
   {
    "duration": -29,
    "start_time": "2021-06-09T10:09:34.708Z"
   },
   {
    "duration": -31,
    "start_time": "2021-06-09T10:09:34.711Z"
   },
   {
    "duration": -47,
    "start_time": "2021-06-09T10:09:34.728Z"
   },
   {
    "duration": -49,
    "start_time": "2021-06-09T10:09:34.732Z"
   },
   {
    "duration": -51,
    "start_time": "2021-06-09T10:09:34.735Z"
   },
   {
    "duration": 5,
    "start_time": "2021-06-09T10:09:48.871Z"
   },
   {
    "duration": 11,
    "start_time": "2021-06-09T10:09:49.025Z"
   },
   {
    "duration": 31,
    "start_time": "2021-06-09T10:09:49.180Z"
   },
   {
    "duration": 30,
    "start_time": "2021-06-09T10:09:49.492Z"
   },
   {
    "duration": 30,
    "start_time": "2021-06-09T10:09:49.613Z"
   },
   {
    "duration": 43,
    "start_time": "2021-06-09T10:09:49.760Z"
   },
   {
    "duration": 13,
    "start_time": "2021-06-09T10:09:49.900Z"
   },
   {
    "duration": 10,
    "start_time": "2021-06-09T10:09:50.043Z"
   },
   {
    "duration": 6,
    "start_time": "2021-06-09T10:09:50.480Z"
   },
   {
    "duration": 39,
    "start_time": "2021-06-09T10:09:50.623Z"
   },
   {
    "duration": 11,
    "start_time": "2021-06-09T10:09:50.920Z"
   },
   {
    "duration": 7,
    "start_time": "2021-06-09T10:09:51.208Z"
   },
   {
    "duration": 30,
    "start_time": "2021-06-09T10:09:51.517Z"
   },
   {
    "duration": 548,
    "start_time": "2021-06-09T10:09:51.680Z"
   },
   {
    "duration": 6,
    "start_time": "2021-06-09T10:09:52.230Z"
   },
   {
    "duration": 16,
    "start_time": "2021-06-09T10:09:52.320Z"
   },
   {
    "duration": 9,
    "start_time": "2021-06-09T10:09:52.500Z"
   },
   {
    "duration": 39,
    "start_time": "2021-06-09T10:09:52.819Z"
   },
   {
    "duration": 395,
    "start_time": "2021-06-09T10:09:53.662Z"
   },
   {
    "duration": 664,
    "start_time": "2021-06-09T10:09:54.137Z"
   },
   {
    "duration": 6,
    "start_time": "2021-06-09T10:09:54.804Z"
   },
   {
    "duration": 51,
    "start_time": "2021-06-09T10:09:54.813Z"
   },
   {
    "duration": 962,
    "start_time": "2021-06-09T10:09:54.867Z"
   },
   {
    "duration": 29,
    "start_time": "2021-06-09T10:09:55.833Z"
   },
   {
    "duration": 14,
    "start_time": "2021-06-09T10:09:55.865Z"
   },
   {
    "duration": 53,
    "start_time": "2021-06-09T10:09:55.882Z"
   },
   {
    "duration": 781,
    "start_time": "2021-06-09T10:09:55.939Z"
   },
   {
    "duration": 14,
    "start_time": "2021-06-09T10:09:56.724Z"
   },
   {
    "duration": 684,
    "start_time": "2021-06-09T10:09:56.741Z"
   },
   {
    "duration": 684,
    "start_time": "2021-06-09T10:09:57.429Z"
   },
   {
    "duration": 10,
    "start_time": "2021-06-09T10:09:58.116Z"
   },
   {
    "duration": 36,
    "start_time": "2021-06-09T10:09:58.129Z"
   },
   {
    "duration": 4663,
    "start_time": "2021-06-09T10:09:58.170Z"
   },
   {
    "duration": 110,
    "start_time": "2021-06-09T10:10:02.835Z"
   },
   {
    "duration": 120,
    "start_time": "2021-06-09T10:10:02.947Z"
   },
   {
    "duration": 26,
    "start_time": "2021-06-09T10:10:03.070Z"
   },
   {
    "duration": 488,
    "start_time": "2021-06-09T10:10:03.100Z"
   },
   {
    "duration": 12,
    "start_time": "2021-06-09T10:10:03.591Z"
   },
   {
    "duration": 896,
    "start_time": "2021-06-09T10:10:03.605Z"
   },
   {
    "duration": 977,
    "start_time": "2021-06-09T10:10:04.503Z"
   },
   {
    "duration": 907,
    "start_time": "2021-06-09T10:10:05.483Z"
   },
   {
    "duration": 886,
    "start_time": "2021-06-09T10:10:06.393Z"
   },
   {
    "duration": 998,
    "start_time": "2021-06-09T10:10:07.281Z"
   },
   {
    "duration": 850,
    "start_time": "2021-06-09T10:10:08.281Z"
   },
   {
    "duration": 28,
    "start_time": "2021-06-09T10:10:09.135Z"
   },
   {
    "duration": 6,
    "start_time": "2021-06-09T10:10:09.166Z"
   },
   {
    "duration": 9,
    "start_time": "2021-06-09T10:10:09.175Z"
   },
   {
    "duration": 22,
    "start_time": "2021-06-09T10:10:09.187Z"
   },
   {
    "duration": 5,
    "start_time": "2021-06-09T10:10:09.212Z"
   },
   {
    "duration": 49,
    "start_time": "2021-06-09T10:10:09.219Z"
   },
   {
    "duration": 1574,
    "start_time": "2021-06-11T06:22:25.209Z"
   },
   {
    "duration": 78,
    "start_time": "2021-06-11T06:22:26.786Z"
   },
   {
    "duration": 15,
    "start_time": "2021-06-11T06:22:26.866Z"
   },
   {
    "duration": 85,
    "start_time": "2021-06-11T06:22:26.883Z"
   },
   {
    "duration": 6,
    "start_time": "2021-06-11T06:22:27.902Z"
   },
   {
    "duration": 12,
    "start_time": "2021-06-11T06:22:28.350Z"
   },
   {
    "duration": 30,
    "start_time": "2021-06-11T06:22:28.799Z"
   },
   {
    "duration": 32,
    "start_time": "2021-06-11T06:22:29.300Z"
   },
   {
    "duration": 33,
    "start_time": "2021-06-11T06:22:29.641Z"
   },
   {
    "duration": 30,
    "start_time": "2021-06-11T06:22:31.272Z"
   },
   {
    "duration": 21,
    "start_time": "2021-06-11T06:22:31.304Z"
   },
   {
    "duration": 16,
    "start_time": "2021-06-11T06:22:31.328Z"
   },
   {
    "duration": 6,
    "start_time": "2021-06-11T06:22:32.775Z"
   },
   {
    "duration": 46,
    "start_time": "2021-06-11T06:22:33.690Z"
   },
   {
    "duration": 11,
    "start_time": "2021-06-11T06:22:34.493Z"
   },
   {
    "duration": 6,
    "start_time": "2021-06-11T06:22:35.414Z"
   },
   {
    "duration": 28,
    "start_time": "2021-06-11T06:22:35.914Z"
   },
   {
    "duration": 534,
    "start_time": "2021-06-11T06:22:36.393Z"
   },
   {
    "duration": 6,
    "start_time": "2021-06-11T06:22:36.929Z"
   },
   {
    "duration": 16,
    "start_time": "2021-06-11T06:22:38.280Z"
   },
   {
    "duration": 8,
    "start_time": "2021-06-11T06:22:38.462Z"
   },
   {
    "duration": 30,
    "start_time": "2021-06-11T06:22:38.996Z"
   },
   {
    "duration": 33,
    "start_time": "2021-06-11T06:22:39.545Z"
   },
   {
    "duration": 391,
    "start_time": "2021-06-11T06:22:40.877Z"
   },
   {
    "duration": 667,
    "start_time": "2021-06-11T06:22:42.018Z"
   },
   {
    "duration": 5,
    "start_time": "2021-06-11T06:22:42.761Z"
   },
   {
    "duration": 25,
    "start_time": "2021-06-11T06:22:42.991Z"
   },
   {
    "duration": 619,
    "start_time": "2021-06-11T06:22:43.254Z"
   },
   {
    "duration": 11,
    "start_time": "2021-06-11T06:22:44.400Z"
   },
   {
    "duration": 11,
    "start_time": "2021-06-11T06:22:44.702Z"
   },
   {
    "duration": 35,
    "start_time": "2021-06-11T06:22:44.975Z"
   },
   {
    "duration": 546,
    "start_time": "2021-06-11T06:22:45.228Z"
   },
   {
    "duration": 489,
    "start_time": "2021-06-11T06:22:46.890Z"
   },
   {
    "duration": 8,
    "start_time": "2021-06-11T06:23:17.529Z"
   },
   {
    "duration": 9,
    "start_time": "2021-06-11T06:23:26.460Z"
   },
   {
    "duration": 109,
    "start_time": "2021-06-11T06:25:08.267Z"
   },
   {
    "duration": 379,
    "start_time": "2021-06-11T06:26:46.049Z"
   },
   {
    "duration": 12,
    "start_time": "2021-06-11T06:27:18.207Z"
   },
   {
    "duration": 466,
    "start_time": "2021-06-11T06:27:18.897Z"
   },
   {
    "duration": 465,
    "start_time": "2021-06-11T06:28:07.008Z"
   },
   {
    "duration": -1237,
    "start_time": "2021-06-11T06:28:44.231Z"
   },
   {
    "duration": -1259,
    "start_time": "2021-06-11T06:28:44.254Z"
   },
   {
    "duration": 4,
    "start_time": "2021-06-11T06:28:56.295Z"
   },
   {
    "duration": 75,
    "start_time": "2021-06-11T06:28:56.845Z"
   },
   {
    "duration": 19,
    "start_time": "2021-06-11T06:28:57.399Z"
   },
   {
    "duration": 57,
    "start_time": "2021-06-11T06:28:57.952Z"
   },
   {
    "duration": 6,
    "start_time": "2021-06-11T06:28:59.054Z"
   },
   {
    "duration": 11,
    "start_time": "2021-06-11T06:28:59.608Z"
   },
   {
    "duration": 30,
    "start_time": "2021-06-11T06:29:00.154Z"
   },
   {
    "duration": 29,
    "start_time": "2021-06-11T06:29:00.723Z"
   },
   {
    "duration": 30,
    "start_time": "2021-06-11T06:29:01.299Z"
   },
   {
    "duration": 29,
    "start_time": "2021-06-11T06:29:01.925Z"
   },
   {
    "duration": 14,
    "start_time": "2021-06-11T06:29:02.557Z"
   },
   {
    "duration": 13,
    "start_time": "2021-06-11T06:29:03.376Z"
   },
   {
    "duration": 6,
    "start_time": "2021-06-11T06:29:05.907Z"
   },
   {
    "duration": 43,
    "start_time": "2021-06-11T06:29:07.180Z"
   },
   {
    "duration": 9,
    "start_time": "2021-06-11T06:29:08.244Z"
   },
   {
    "duration": 6,
    "start_time": "2021-06-11T06:29:09.428Z"
   },
   {
    "duration": 26,
    "start_time": "2021-06-11T06:29:09.951Z"
   },
   {
    "duration": 556,
    "start_time": "2021-06-11T06:29:10.502Z"
   },
   {
    "duration": 7,
    "start_time": "2021-06-11T06:29:11.061Z"
   },
   {
    "duration": 26,
    "start_time": "2021-06-11T06:29:12.604Z"
   },
   {
    "duration": 8,
    "start_time": "2021-06-11T06:29:13.095Z"
   },
   {
    "duration": 31,
    "start_time": "2021-06-11T06:29:14.205Z"
   },
   {
    "duration": 35,
    "start_time": "2021-06-11T06:29:15.340Z"
   },
   {
    "duration": 377,
    "start_time": "2021-06-11T06:29:18.528Z"
   },
   {
    "duration": 749,
    "start_time": "2021-06-11T06:29:21.421Z"
   },
   {
    "duration": 5,
    "start_time": "2021-06-11T06:29:23.091Z"
   },
   {
    "duration": 23,
    "start_time": "2021-06-11T06:29:23.672Z"
   },
   {
    "duration": 660,
    "start_time": "2021-06-11T06:29:24.295Z"
   },
   {
    "duration": 11,
    "start_time": "2021-06-11T06:29:26.469Z"
   },
   {
    "duration": 11,
    "start_time": "2021-06-11T06:29:27.430Z"
   },
   {
    "duration": 36,
    "start_time": "2021-06-11T06:29:28.174Z"
   },
   {
    "duration": 538,
    "start_time": "2021-06-11T06:29:28.886Z"
   },
   {
    "duration": 10,
    "start_time": "2021-06-11T06:29:31.996Z"
   },
   {
    "duration": 11,
    "start_time": "2021-06-11T06:29:35.533Z"
   },
   {
    "duration": 492,
    "start_time": "2021-06-11T06:29:36.543Z"
   },
   {
    "duration": 494,
    "start_time": "2021-06-11T06:29:37.910Z"
   },
   {
    "duration": 7,
    "start_time": "2021-06-11T06:29:38.409Z"
   },
   {
    "duration": 14,
    "start_time": "2021-06-11T06:29:38.699Z"
   },
   {
    "duration": 4132,
    "start_time": "2021-06-11T06:29:39.559Z"
   },
   {
    "duration": 96,
    "start_time": "2021-06-11T06:29:43.694Z"
   },
   {
    "duration": 117,
    "start_time": "2021-06-11T06:29:43.793Z"
   },
   {
    "duration": 26,
    "start_time": "2021-06-11T06:29:43.912Z"
   },
   {
    "duration": 452,
    "start_time": "2021-06-11T06:29:43.940Z"
   },
   {
    "duration": 18,
    "start_time": "2021-06-11T06:29:44.395Z"
   },
   {
    "duration": 863,
    "start_time": "2021-06-11T06:29:44.505Z"
   },
   {
    "duration": 872,
    "start_time": "2021-06-11T06:29:45.371Z"
   },
   {
    "duration": 922,
    "start_time": "2021-06-11T06:29:46.246Z"
   },
   {
    "duration": 900,
    "start_time": "2021-06-11T06:29:47.171Z"
   },
   {
    "duration": 1027,
    "start_time": "2021-06-11T06:29:48.073Z"
   },
   {
    "duration": 866,
    "start_time": "2021-06-11T06:29:49.109Z"
   },
   {
    "duration": 16,
    "start_time": "2021-06-11T06:29:49.978Z"
   },
   {
    "duration": 6,
    "start_time": "2021-06-11T06:29:50.008Z"
   },
   {
    "duration": 29,
    "start_time": "2021-06-11T06:29:50.017Z"
   },
   {
    "duration": 17,
    "start_time": "2021-06-11T06:29:52.143Z"
   },
   {
    "duration": 6,
    "start_time": "2021-06-11T06:29:52.511Z"
   },
   {
    "duration": 9,
    "start_time": "2021-06-11T06:29:52.797Z"
   },
   {
    "duration": 24,
    "start_time": "2021-06-11T06:32:16.518Z"
   },
   {
    "duration": 14,
    "start_time": "2021-06-11T06:35:29.079Z"
   },
   {
    "duration": 530,
    "start_time": "2021-06-11T06:37:08.070Z"
   }
  ],
  "kernelspec": {
   "display_name": "Python 3 (ipykernel)",
   "language": "python",
   "name": "python3"
  },
  "language_info": {
   "codemirror_mode": {
    "name": "ipython",
    "version": 3
   },
   "file_extension": ".py",
   "mimetype": "text/x-python",
   "name": "python",
   "nbconvert_exporter": "python",
   "pygments_lexer": "ipython3",
   "version": "3.9.7"
  },
  "toc": {
   "base_numbering": 1,
   "nav_menu": {
    "height": "291px",
    "width": "310px"
   },
   "number_sections": true,
   "sideBar": true,
   "skip_h1_title": true,
   "title_cell": "Table of Contents",
   "title_sidebar": "Contents",
   "toc_cell": false,
   "toc_position": {},
   "toc_section_display": true,
   "toc_window_display": false
  }
 },
 "nbformat": 4,
 "nbformat_minor": 2
}
