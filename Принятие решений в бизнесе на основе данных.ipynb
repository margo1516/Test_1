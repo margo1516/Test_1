{
 "cells": [
  {
   "cell_type": "markdown",
   "metadata": {},
   "source": [
    "# Проектная работа"
   ]
  },
  {
   "cell_type": "markdown",
   "metadata": {},
   "source": [
    "## Загрузите данные и подготовьте их к анализу"
   ]
  },
  {
   "cell_type": "markdown",
   "metadata": {},
   "source": [
    "## Часть 1. Приоритизация гипотез"
   ]
  },
  {
   "cell_type": "markdown",
   "metadata": {},
   "source": [
    "1. Примените фреймворк ICE для приоритизации гипотез. Отсортируйте их по убыванию приоритета\n",
    "2. Укажите, как изменилась приоритизация гипотез при применении RICE вместо ICE. Объясните, почему так произошло"
   ]
  },
  {
   "cell_type": "markdown",
   "metadata": {},
   "source": [
    "## Часть 2. Анализ А/В-ткста"
   ]
  },
  {
   "cell_type": "markdown",
   "metadata": {},
   "source": [
    "1. Кумулятивная выручка в разбивке по группам.\n",
    "2. Кумулятивный средний чек в разбивке по группам.\n",
    "3. Относительное изменение кумулятивного среднего чека группы B к группе A.\n",
    "4. Постройте график кумулятивной конверсии по группам.\n",
    "5. Относительное изменение кумулятивной конверсии группы B к группе А.\n",
    "6. Постройте точечный график количества заказов по пользователям.\n",
    "7. Посчитаем 95-й и 99-й перцентили.\n",
    "8. Построим графики стоимостей заказов.\n",
    "9. Посчитаем 95-й и 99-й перцентили стоимости заказов.\n",
    "10.Посчитаем статистическую значимость различий в конверсии между группами по «сырым» данным.\n",
    "11.Посчитайте статистическую значимость различия средних чеков между группами по «сырым» данным.\n",
    "12.Статистическая значимость различий в конверсии между группами по «очищенным» данным.\n",
    "13.Статистическая значимость различий в среднем чеке заказа между группами по « «очищенным» данным.\n",
    "14.Примите решение по результатам теста и объясните его."
   ]
  },
  {
   "cell_type": "markdown",
   "metadata": {},
   "source": [
    "## Вывод"
   ]
  },
  {
   "cell_type": "markdown",
   "metadata": {},
   "source": [
    "# 1  Загрузите данные и подготовьте их к анализу"
   ]
  },
  {
   "cell_type": "code",
   "execution_count": 2,
   "metadata": {},
   "outputs": [],
   "source": [
    "import pandas as pd\n",
    "import scipy.stats as stats\n",
    "import datetime as dt\n",
    "import numpy as np\n",
    "import matplotlib.pyplot as plt"
   ]
  },
  {
   "cell_type": "code",
   "execution_count": 3,
   "metadata": {},
   "outputs": [],
   "source": [
    "hypothesis = pd.read_csv('/datasets/hypothesis.csv', sep=',')\n",
    "orders = pd.read_csv('/datasets/orders.csv', sep=',')\n",
    "visitors = pd.read_csv('/datasets/visitors.csv', sep=',')"
   ]
  },
  {
   "cell_type": "markdown",
   "metadata": {},
   "source": [
    "Получим общую информацию о данных:"
   ]
  },
  {
   "cell_type": "code",
   "execution_count": 4,
   "metadata": {},
   "outputs": [
    {
     "name": "stdout",
     "output_type": "stream",
     "text": [
      "<class 'pandas.core.frame.DataFrame'>\n",
      "RangeIndex: 9 entries, 0 to 8\n",
      "Data columns (total 5 columns):\n",
      "Hypothesis    9 non-null object\n",
      "Reach         9 non-null int64\n",
      "Impact        9 non-null int64\n",
      "Confidence    9 non-null int64\n",
      "Efforts       9 non-null int64\n",
      "dtypes: int64(4), object(1)\n",
      "memory usage: 488.0+ bytes\n"
     ]
    }
   ],
   "source": [
    "hypothesis.info()"
   ]
  },
  {
   "cell_type": "code",
   "execution_count": 5,
   "metadata": {},
   "outputs": [
    {
     "name": "stdout",
     "output_type": "stream",
     "text": [
      "<class 'pandas.core.frame.DataFrame'>\n",
      "RangeIndex: 1197 entries, 0 to 1196\n",
      "Data columns (total 5 columns):\n",
      "transactionId    1197 non-null int64\n",
      "visitorId        1197 non-null int64\n",
      "date             1197 non-null object\n",
      "revenue          1197 non-null int64\n",
      "group            1197 non-null object\n",
      "dtypes: int64(3), object(2)\n",
      "memory usage: 46.9+ KB\n"
     ]
    }
   ],
   "source": [
    "orders.info()"
   ]
  },
  {
   "cell_type": "code",
   "execution_count": 6,
   "metadata": {},
   "outputs": [
    {
     "name": "stdout",
     "output_type": "stream",
     "text": [
      "<class 'pandas.core.frame.DataFrame'>\n",
      "RangeIndex: 62 entries, 0 to 61\n",
      "Data columns (total 3 columns):\n",
      "date        62 non-null object\n",
      "group       62 non-null object\n",
      "visitors    62 non-null int64\n",
      "dtypes: int64(1), object(2)\n",
      "memory usage: 1.6+ KB\n"
     ]
    }
   ],
   "source": [
    "visitors.info()"
   ]
  },
  {
   "cell_type": "code",
   "execution_count": 8,
   "metadata": {},
   "outputs": [
    {
     "data": {
      "text/html": [
       "<div>\n",
       "<style scoped>\n",
       "    .dataframe tbody tr th:only-of-type {\n",
       "        vertical-align: middle;\n",
       "    }\n",
       "\n",
       "    .dataframe tbody tr th {\n",
       "        vertical-align: top;\n",
       "    }\n",
       "\n",
       "    .dataframe thead th {\n",
       "        text-align: right;\n",
       "    }\n",
       "</style>\n",
       "<table border=\"1\" class=\"dataframe\">\n",
       "  <thead>\n",
       "    <tr style=\"text-align: right;\">\n",
       "      <th></th>\n",
       "      <th>Hypothesis</th>\n",
       "      <th>Reach</th>\n",
       "      <th>Impact</th>\n",
       "      <th>Confidence</th>\n",
       "      <th>Efforts</th>\n",
       "    </tr>\n",
       "  </thead>\n",
       "  <tbody>\n",
       "    <tr>\n",
       "      <td>0</td>\n",
       "      <td>Добавить два новых канала привлечения трафика,...</td>\n",
       "      <td>3</td>\n",
       "      <td>10</td>\n",
       "      <td>8</td>\n",
       "      <td>6</td>\n",
       "    </tr>\n",
       "    <tr>\n",
       "      <td>1</td>\n",
       "      <td>Запустить собственную службу доставки, что сок...</td>\n",
       "      <td>2</td>\n",
       "      <td>5</td>\n",
       "      <td>4</td>\n",
       "      <td>10</td>\n",
       "    </tr>\n",
       "    <tr>\n",
       "      <td>2</td>\n",
       "      <td>Добавить блоки рекомендаций товаров на сайт ин...</td>\n",
       "      <td>8</td>\n",
       "      <td>3</td>\n",
       "      <td>7</td>\n",
       "      <td>3</td>\n",
       "    </tr>\n",
       "    <tr>\n",
       "      <td>3</td>\n",
       "      <td>Изменить структура категорий, что увеличит кон...</td>\n",
       "      <td>8</td>\n",
       "      <td>3</td>\n",
       "      <td>3</td>\n",
       "      <td>8</td>\n",
       "    </tr>\n",
       "    <tr>\n",
       "      <td>4</td>\n",
       "      <td>Изменить цвет фона главной страницы, чтобы уве...</td>\n",
       "      <td>3</td>\n",
       "      <td>1</td>\n",
       "      <td>1</td>\n",
       "      <td>1</td>\n",
       "    </tr>\n",
       "    <tr>\n",
       "      <td>5</td>\n",
       "      <td>Добавить страницу отзывов клиентов о магазине,...</td>\n",
       "      <td>3</td>\n",
       "      <td>2</td>\n",
       "      <td>2</td>\n",
       "      <td>3</td>\n",
       "    </tr>\n",
       "    <tr>\n",
       "      <td>6</td>\n",
       "      <td>Показать на главной странице баннеры с актуаль...</td>\n",
       "      <td>5</td>\n",
       "      <td>3</td>\n",
       "      <td>8</td>\n",
       "      <td>3</td>\n",
       "    </tr>\n",
       "    <tr>\n",
       "      <td>7</td>\n",
       "      <td>Добавить форму подписки на все основные страни...</td>\n",
       "      <td>10</td>\n",
       "      <td>7</td>\n",
       "      <td>8</td>\n",
       "      <td>5</td>\n",
       "    </tr>\n",
       "    <tr>\n",
       "      <td>8</td>\n",
       "      <td>Запустить акцию, дающую скидку на товар в день...</td>\n",
       "      <td>1</td>\n",
       "      <td>9</td>\n",
       "      <td>9</td>\n",
       "      <td>5</td>\n",
       "    </tr>\n",
       "  </tbody>\n",
       "</table>\n",
       "</div>"
      ],
      "text/plain": [
       "                                          Hypothesis  Reach  Impact  \\\n",
       "0  Добавить два новых канала привлечения трафика,...      3      10   \n",
       "1  Запустить собственную службу доставки, что сок...      2       5   \n",
       "2  Добавить блоки рекомендаций товаров на сайт ин...      8       3   \n",
       "3  Изменить структура категорий, что увеличит кон...      8       3   \n",
       "4  Изменить цвет фона главной страницы, чтобы уве...      3       1   \n",
       "5  Добавить страницу отзывов клиентов о магазине,...      3       2   \n",
       "6  Показать на главной странице баннеры с актуаль...      5       3   \n",
       "7  Добавить форму подписки на все основные страни...     10       7   \n",
       "8  Запустить акцию, дающую скидку на товар в день...      1       9   \n",
       "\n",
       "   Confidence  Efforts  \n",
       "0           8        6  \n",
       "1           4       10  \n",
       "2           7        3  \n",
       "3           3        8  \n",
       "4           1        1  \n",
       "5           2        3  \n",
       "6           8        3  \n",
       "7           8        5  \n",
       "8           9        5  "
      ]
     },
     "execution_count": 8,
     "metadata": {},
     "output_type": "execute_result"
    }
   ],
   "source": [
    "hypothesis"
   ]
  },
  {
   "cell_type": "markdown",
   "metadata": {},
   "source": [
    "Приведём название столбцов к нижнему регистру"
   ]
  },
  {
   "cell_type": "code",
   "execution_count": 6,
   "metadata": {},
   "outputs": [],
   "source": [
    "# Приведение к нижнему регистру\n",
    "hypothesis.columns = map(str.lower, hypothesis.columns)"
   ]
  },
  {
   "cell_type": "markdown",
   "metadata": {},
   "source": [
    "Приведем типы даты в необходимый формат для работы над ними."
   ]
  },
  {
   "cell_type": "code",
   "execution_count": 7,
   "metadata": {},
   "outputs": [],
   "source": [
    "# Изменение формата данных\n",
    "orders['date'] = pd.to_datetime(orders['date'], format ='%Y-%m-%d' )\n",
    "visitors['date'] = pd.to_datetime(visitors['date'], format ='%Y-%m-%d' )"
   ]
  },
  {
   "cell_type": "code",
   "execution_count": 8,
   "metadata": {
    "scrolled": true
   },
   "outputs": [
    {
     "data": {
      "text/html": [
       "<div>\n",
       "<style scoped>\n",
       "    .dataframe tbody tr th:only-of-type {\n",
       "        vertical-align: middle;\n",
       "    }\n",
       "\n",
       "    .dataframe tbody tr th {\n",
       "        vertical-align: top;\n",
       "    }\n",
       "\n",
       "    .dataframe thead th {\n",
       "        text-align: right;\n",
       "    }\n",
       "</style>\n",
       "<table border=\"1\" class=\"dataframe\">\n",
       "  <thead>\n",
       "    <tr style=\"text-align: right;\">\n",
       "      <th></th>\n",
       "      <th>transactionId</th>\n",
       "      <th>visitorId</th>\n",
       "      <th>date</th>\n",
       "      <th>revenue</th>\n",
       "      <th>group</th>\n",
       "    </tr>\n",
       "  </thead>\n",
       "  <tbody>\n",
       "    <tr>\n",
       "      <td>0</td>\n",
       "      <td>3667963787</td>\n",
       "      <td>3312258926</td>\n",
       "      <td>2019-08-15</td>\n",
       "      <td>1650</td>\n",
       "      <td>B</td>\n",
       "    </tr>\n",
       "    <tr>\n",
       "      <td>1</td>\n",
       "      <td>2804400009</td>\n",
       "      <td>3642806036</td>\n",
       "      <td>2019-08-15</td>\n",
       "      <td>730</td>\n",
       "      <td>B</td>\n",
       "    </tr>\n",
       "    <tr>\n",
       "      <td>2</td>\n",
       "      <td>2961555356</td>\n",
       "      <td>4069496402</td>\n",
       "      <td>2019-08-15</td>\n",
       "      <td>400</td>\n",
       "      <td>A</td>\n",
       "    </tr>\n",
       "    <tr>\n",
       "      <td>3</td>\n",
       "      <td>3797467345</td>\n",
       "      <td>1196621759</td>\n",
       "      <td>2019-08-15</td>\n",
       "      <td>9759</td>\n",
       "      <td>B</td>\n",
       "    </tr>\n",
       "    <tr>\n",
       "      <td>4</td>\n",
       "      <td>2282983706</td>\n",
       "      <td>2322279887</td>\n",
       "      <td>2019-08-15</td>\n",
       "      <td>2308</td>\n",
       "      <td>B</td>\n",
       "    </tr>\n",
       "    <tr>\n",
       "      <td>...</td>\n",
       "      <td>...</td>\n",
       "      <td>...</td>\n",
       "      <td>...</td>\n",
       "      <td>...</td>\n",
       "      <td>...</td>\n",
       "    </tr>\n",
       "    <tr>\n",
       "      <td>1192</td>\n",
       "      <td>2662137336</td>\n",
       "      <td>3733762160</td>\n",
       "      <td>2019-08-14</td>\n",
       "      <td>6490</td>\n",
       "      <td>B</td>\n",
       "    </tr>\n",
       "    <tr>\n",
       "      <td>1193</td>\n",
       "      <td>2203539145</td>\n",
       "      <td>370388673</td>\n",
       "      <td>2019-08-14</td>\n",
       "      <td>3190</td>\n",
       "      <td>A</td>\n",
       "    </tr>\n",
       "    <tr>\n",
       "      <td>1194</td>\n",
       "      <td>1807773912</td>\n",
       "      <td>573423106</td>\n",
       "      <td>2019-08-14</td>\n",
       "      <td>10550</td>\n",
       "      <td>A</td>\n",
       "    </tr>\n",
       "    <tr>\n",
       "      <td>1195</td>\n",
       "      <td>1947021204</td>\n",
       "      <td>1614305549</td>\n",
       "      <td>2019-08-14</td>\n",
       "      <td>100</td>\n",
       "      <td>A</td>\n",
       "    </tr>\n",
       "    <tr>\n",
       "      <td>1196</td>\n",
       "      <td>3936777065</td>\n",
       "      <td>2108080724</td>\n",
       "      <td>2019-08-15</td>\n",
       "      <td>202740</td>\n",
       "      <td>B</td>\n",
       "    </tr>\n",
       "  </tbody>\n",
       "</table>\n",
       "<p>1197 rows × 5 columns</p>\n",
       "</div>"
      ],
      "text/plain": [
       "      transactionId   visitorId       date  revenue group\n",
       "0        3667963787  3312258926 2019-08-15     1650     B\n",
       "1        2804400009  3642806036 2019-08-15      730     B\n",
       "2        2961555356  4069496402 2019-08-15      400     A\n",
       "3        3797467345  1196621759 2019-08-15     9759     B\n",
       "4        2282983706  2322279887 2019-08-15     2308     B\n",
       "...             ...         ...        ...      ...   ...\n",
       "1192     2662137336  3733762160 2019-08-14     6490     B\n",
       "1193     2203539145   370388673 2019-08-14     3190     A\n",
       "1194     1807773912   573423106 2019-08-14    10550     A\n",
       "1195     1947021204  1614305549 2019-08-14      100     A\n",
       "1196     3936777065  2108080724 2019-08-15   202740     B\n",
       "\n",
       "[1197 rows x 5 columns]"
      ]
     },
     "execution_count": 8,
     "metadata": {},
     "output_type": "execute_result"
    }
   ],
   "source": [
    "orders"
   ]
  },
  {
   "cell_type": "code",
   "execution_count": 9,
   "metadata": {},
   "outputs": [
    {
     "data": {
      "text/html": [
       "<div>\n",
       "<style scoped>\n",
       "    .dataframe tbody tr th:only-of-type {\n",
       "        vertical-align: middle;\n",
       "    }\n",
       "\n",
       "    .dataframe tbody tr th {\n",
       "        vertical-align: top;\n",
       "    }\n",
       "\n",
       "    .dataframe thead th {\n",
       "        text-align: right;\n",
       "    }\n",
       "</style>\n",
       "<table border=\"1\" class=\"dataframe\">\n",
       "  <thead>\n",
       "    <tr style=\"text-align: right;\">\n",
       "      <th></th>\n",
       "      <th>group</th>\n",
       "      <th>visitorId</th>\n",
       "      <th>revenue</th>\n",
       "    </tr>\n",
       "  </thead>\n",
       "  <tbody>\n",
       "    <tr>\n",
       "      <td>0</td>\n",
       "      <td>A</td>\n",
       "      <td>1211535685633</td>\n",
       "      <td>4084803</td>\n",
       "    </tr>\n",
       "    <tr>\n",
       "      <td>1</td>\n",
       "      <td>B</td>\n",
       "      <td>1381118605657</td>\n",
       "      <td>5907760</td>\n",
       "    </tr>\n",
       "  </tbody>\n",
       "</table>\n",
       "</div>"
      ],
      "text/plain": [
       "  group      visitorId  revenue\n",
       "0     A  1211535685633  4084803\n",
       "1     B  1381118605657  5907760"
      ]
     },
     "execution_count": 9,
     "metadata": {},
     "output_type": "execute_result"
    }
   ],
   "source": [
    "# проверим как разделены наши пользователи на группы\n",
    "orders.drop(['date'], axis=1).groupby('group', as_index=False).agg({'visitorId': 'sum', 'revenue': 'sum'})"
   ]
  },
  {
   "cell_type": "code",
   "execution_count": 10,
   "metadata": {},
   "outputs": [
    {
     "data": {
      "text/html": [
       "<div>\n",
       "<style scoped>\n",
       "    .dataframe tbody tr th:only-of-type {\n",
       "        vertical-align: middle;\n",
       "    }\n",
       "\n",
       "    .dataframe tbody tr th {\n",
       "        vertical-align: top;\n",
       "    }\n",
       "\n",
       "    .dataframe thead th {\n",
       "        text-align: right;\n",
       "    }\n",
       "</style>\n",
       "<table border=\"1\" class=\"dataframe\">\n",
       "  <thead>\n",
       "    <tr style=\"text-align: right;\">\n",
       "      <th></th>\n",
       "      <th>visitorId</th>\n",
       "      <th>group</th>\n",
       "      <th>revenue</th>\n",
       "    </tr>\n",
       "  </thead>\n",
       "  <tbody>\n",
       "    <tr>\n",
       "      <td>0</td>\n",
       "      <td>5114589</td>\n",
       "      <td>B</td>\n",
       "      <td>570</td>\n",
       "    </tr>\n",
       "    <tr>\n",
       "      <td>1</td>\n",
       "      <td>6958315</td>\n",
       "      <td>B</td>\n",
       "      <td>1490</td>\n",
       "    </tr>\n",
       "    <tr>\n",
       "      <td>2</td>\n",
       "      <td>8300375</td>\n",
       "      <td>BA</td>\n",
       "      <td>12300</td>\n",
       "    </tr>\n",
       "    <tr>\n",
       "      <td>3</td>\n",
       "      <td>11685486</td>\n",
       "      <td>A</td>\n",
       "      <td>6201</td>\n",
       "    </tr>\n",
       "    <tr>\n",
       "      <td>4</td>\n",
       "      <td>39475350</td>\n",
       "      <td>B</td>\n",
       "      <td>3990</td>\n",
       "    </tr>\n",
       "    <tr>\n",
       "      <td>...</td>\n",
       "      <td>...</td>\n",
       "      <td>...</td>\n",
       "      <td>...</td>\n",
       "    </tr>\n",
       "    <tr>\n",
       "      <td>1026</td>\n",
       "      <td>4266935830</td>\n",
       "      <td>AB</td>\n",
       "      <td>157980</td>\n",
       "    </tr>\n",
       "    <tr>\n",
       "      <td>1027</td>\n",
       "      <td>4278982564</td>\n",
       "      <td>A</td>\n",
       "      <td>24744</td>\n",
       "    </tr>\n",
       "    <tr>\n",
       "      <td>1028</td>\n",
       "      <td>4279090005</td>\n",
       "      <td>B</td>\n",
       "      <td>6716</td>\n",
       "    </tr>\n",
       "    <tr>\n",
       "      <td>1029</td>\n",
       "      <td>4281247801</td>\n",
       "      <td>B</td>\n",
       "      <td>2640</td>\n",
       "    </tr>\n",
       "    <tr>\n",
       "      <td>1030</td>\n",
       "      <td>4283872382</td>\n",
       "      <td>B</td>\n",
       "      <td>3806</td>\n",
       "    </tr>\n",
       "  </tbody>\n",
       "</table>\n",
       "<p>1031 rows × 3 columns</p>\n",
       "</div>"
      ],
      "text/plain": [
       "       visitorId group  revenue\n",
       "0        5114589     B      570\n",
       "1        6958315     B     1490\n",
       "2        8300375    BA    12300\n",
       "3       11685486     A     6201\n",
       "4       39475350     B     3990\n",
       "...          ...   ...      ...\n",
       "1026  4266935830    AB   157980\n",
       "1027  4278982564     A    24744\n",
       "1028  4279090005     B     6716\n",
       "1029  4281247801     B     2640\n",
       "1030  4283872382     B     3806\n",
       "\n",
       "[1031 rows x 3 columns]"
      ]
     },
     "execution_count": 10,
     "metadata": {},
     "output_type": "execute_result"
    }
   ],
   "source": [
    "orders.drop(['date'], axis=1).groupby('visitorId', as_index=False).agg({'group': 'sum', 'revenue': 'sum'})"
   ]
  },
  {
   "cell_type": "code",
   "execution_count": 11,
   "metadata": {},
   "outputs": [
    {
     "data": {
      "text/plain": [
       "array([   8300375,  199603092,  232979603,  237748145,  276558944,\n",
       "        351125977,  393266494,  457167155,  471551937,  477780734,\n",
       "        818047933,  963407295, 1230306981, 1294878855, 1316129916,\n",
       "       1333886533, 1404934699, 1602967004, 1614305549, 1648269707,\n",
       "       1668030113, 1738359350, 1801183820, 1959144690, 2038680547,\n",
       "       2044997962, 2378935119, 2458001652, 2579882178, 2587333274,\n",
       "       2600415354, 2654030115, 2686716486, 2712142231, 2716752286,\n",
       "       2780786433, 2927087541, 2949041841, 2954449915, 3062433592,\n",
       "       3202540741, 3234906277, 3656415546, 3717692402, 3766097110,\n",
       "       3803269165, 3891541246, 3941795274, 3951559397, 3957174400,\n",
       "       3963646447, 3972127743, 3984495233, 4069496402, 4120364173,\n",
       "       4186807279, 4256040402, 4266935830])"
      ]
     },
     "execution_count": 11,
     "metadata": {},
     "output_type": "execute_result"
    }
   ],
   "source": [
    "np.intersect1d(orders.query('group == \"A\"')['visitorId'].unique(), orders.query('group == \"B\"')['visitorId'].unique())"
   ]
  },
  {
   "cell_type": "markdown",
   "metadata": {},
   "source": [
    "<p style=\"font-family: Arial; font-size:1.4em;color:blue;\">  Комментарий студента: Исправила </p>"
   ]
  },
  {
   "cell_type": "code",
   "execution_count": 12,
   "metadata": {},
   "outputs": [
    {
     "data": {
      "text/plain": [
       "0"
      ]
     },
     "execution_count": 12,
     "metadata": {},
     "output_type": "execute_result"
    }
   ],
   "source": [
    "# проверим на дубликаты\n",
    "hypothesis.duplicated().sum()"
   ]
  },
  {
   "cell_type": "code",
   "execution_count": 13,
   "metadata": {},
   "outputs": [
    {
     "data": {
      "text/plain": [
       "0"
      ]
     },
     "execution_count": 13,
     "metadata": {},
     "output_type": "execute_result"
    }
   ],
   "source": [
    "orders.duplicated().sum()"
   ]
  },
  {
   "cell_type": "code",
   "execution_count": 14,
   "metadata": {},
   "outputs": [
    {
     "data": {
      "text/plain": [
       "0"
      ]
     },
     "execution_count": 14,
     "metadata": {},
     "output_type": "execute_result"
    }
   ],
   "source": [
    "visitors.duplicated().sum()"
   ]
  },
  {
   "cell_type": "code",
   "execution_count": 15,
   "metadata": {},
   "outputs": [
    {
     "data": {
      "text/html": [
       "<div>\n",
       "<style scoped>\n",
       "    .dataframe tbody tr th:only-of-type {\n",
       "        vertical-align: middle;\n",
       "    }\n",
       "\n",
       "    .dataframe tbody tr th {\n",
       "        vertical-align: top;\n",
       "    }\n",
       "\n",
       "    .dataframe thead th {\n",
       "        text-align: right;\n",
       "    }\n",
       "</style>\n",
       "<table border=\"1\" class=\"dataframe\">\n",
       "  <thead>\n",
       "    <tr style=\"text-align: right;\">\n",
       "      <th></th>\n",
       "      <th>hypothesis</th>\n",
       "      <th>reach</th>\n",
       "      <th>impact</th>\n",
       "      <th>confidence</th>\n",
       "      <th>efforts</th>\n",
       "    </tr>\n",
       "  </thead>\n",
       "  <tbody>\n",
       "    <tr>\n",
       "      <td>0</td>\n",
       "      <td>False</td>\n",
       "      <td>False</td>\n",
       "      <td>False</td>\n",
       "      <td>False</td>\n",
       "      <td>False</td>\n",
       "    </tr>\n",
       "    <tr>\n",
       "      <td>1</td>\n",
       "      <td>False</td>\n",
       "      <td>False</td>\n",
       "      <td>False</td>\n",
       "      <td>False</td>\n",
       "      <td>False</td>\n",
       "    </tr>\n",
       "    <tr>\n",
       "      <td>2</td>\n",
       "      <td>False</td>\n",
       "      <td>False</td>\n",
       "      <td>False</td>\n",
       "      <td>False</td>\n",
       "      <td>False</td>\n",
       "    </tr>\n",
       "    <tr>\n",
       "      <td>3</td>\n",
       "      <td>False</td>\n",
       "      <td>False</td>\n",
       "      <td>False</td>\n",
       "      <td>False</td>\n",
       "      <td>False</td>\n",
       "    </tr>\n",
       "    <tr>\n",
       "      <td>4</td>\n",
       "      <td>False</td>\n",
       "      <td>False</td>\n",
       "      <td>False</td>\n",
       "      <td>False</td>\n",
       "      <td>False</td>\n",
       "    </tr>\n",
       "    <tr>\n",
       "      <td>5</td>\n",
       "      <td>False</td>\n",
       "      <td>False</td>\n",
       "      <td>False</td>\n",
       "      <td>False</td>\n",
       "      <td>False</td>\n",
       "    </tr>\n",
       "    <tr>\n",
       "      <td>6</td>\n",
       "      <td>False</td>\n",
       "      <td>False</td>\n",
       "      <td>False</td>\n",
       "      <td>False</td>\n",
       "      <td>False</td>\n",
       "    </tr>\n",
       "    <tr>\n",
       "      <td>7</td>\n",
       "      <td>False</td>\n",
       "      <td>False</td>\n",
       "      <td>False</td>\n",
       "      <td>False</td>\n",
       "      <td>False</td>\n",
       "    </tr>\n",
       "    <tr>\n",
       "      <td>8</td>\n",
       "      <td>False</td>\n",
       "      <td>False</td>\n",
       "      <td>False</td>\n",
       "      <td>False</td>\n",
       "      <td>False</td>\n",
       "    </tr>\n",
       "  </tbody>\n",
       "</table>\n",
       "</div>"
      ],
      "text/plain": [
       "   hypothesis  reach  impact  confidence  efforts\n",
       "0       False  False   False       False    False\n",
       "1       False  False   False       False    False\n",
       "2       False  False   False       False    False\n",
       "3       False  False   False       False    False\n",
       "4       False  False   False       False    False\n",
       "5       False  False   False       False    False\n",
       "6       False  False   False       False    False\n",
       "7       False  False   False       False    False\n",
       "8       False  False   False       False    False"
      ]
     },
     "execution_count": 15,
     "metadata": {},
     "output_type": "execute_result"
    }
   ],
   "source": [
    "hypothesis.isnull()"
   ]
  },
  {
   "cell_type": "code",
   "execution_count": 16,
   "metadata": {},
   "outputs": [
    {
     "data": {
      "text/html": [
       "<div>\n",
       "<style scoped>\n",
       "    .dataframe tbody tr th:only-of-type {\n",
       "        vertical-align: middle;\n",
       "    }\n",
       "\n",
       "    .dataframe tbody tr th {\n",
       "        vertical-align: top;\n",
       "    }\n",
       "\n",
       "    .dataframe thead th {\n",
       "        text-align: right;\n",
       "    }\n",
       "</style>\n",
       "<table border=\"1\" class=\"dataframe\">\n",
       "  <thead>\n",
       "    <tr style=\"text-align: right;\">\n",
       "      <th></th>\n",
       "      <th>transactionId</th>\n",
       "      <th>visitorId</th>\n",
       "      <th>date</th>\n",
       "      <th>revenue</th>\n",
       "      <th>group</th>\n",
       "    </tr>\n",
       "  </thead>\n",
       "  <tbody>\n",
       "    <tr>\n",
       "      <td>0</td>\n",
       "      <td>False</td>\n",
       "      <td>False</td>\n",
       "      <td>False</td>\n",
       "      <td>False</td>\n",
       "      <td>False</td>\n",
       "    </tr>\n",
       "    <tr>\n",
       "      <td>1</td>\n",
       "      <td>False</td>\n",
       "      <td>False</td>\n",
       "      <td>False</td>\n",
       "      <td>False</td>\n",
       "      <td>False</td>\n",
       "    </tr>\n",
       "    <tr>\n",
       "      <td>2</td>\n",
       "      <td>False</td>\n",
       "      <td>False</td>\n",
       "      <td>False</td>\n",
       "      <td>False</td>\n",
       "      <td>False</td>\n",
       "    </tr>\n",
       "    <tr>\n",
       "      <td>3</td>\n",
       "      <td>False</td>\n",
       "      <td>False</td>\n",
       "      <td>False</td>\n",
       "      <td>False</td>\n",
       "      <td>False</td>\n",
       "    </tr>\n",
       "    <tr>\n",
       "      <td>4</td>\n",
       "      <td>False</td>\n",
       "      <td>False</td>\n",
       "      <td>False</td>\n",
       "      <td>False</td>\n",
       "      <td>False</td>\n",
       "    </tr>\n",
       "    <tr>\n",
       "      <td>...</td>\n",
       "      <td>...</td>\n",
       "      <td>...</td>\n",
       "      <td>...</td>\n",
       "      <td>...</td>\n",
       "      <td>...</td>\n",
       "    </tr>\n",
       "    <tr>\n",
       "      <td>1192</td>\n",
       "      <td>False</td>\n",
       "      <td>False</td>\n",
       "      <td>False</td>\n",
       "      <td>False</td>\n",
       "      <td>False</td>\n",
       "    </tr>\n",
       "    <tr>\n",
       "      <td>1193</td>\n",
       "      <td>False</td>\n",
       "      <td>False</td>\n",
       "      <td>False</td>\n",
       "      <td>False</td>\n",
       "      <td>False</td>\n",
       "    </tr>\n",
       "    <tr>\n",
       "      <td>1194</td>\n",
       "      <td>False</td>\n",
       "      <td>False</td>\n",
       "      <td>False</td>\n",
       "      <td>False</td>\n",
       "      <td>False</td>\n",
       "    </tr>\n",
       "    <tr>\n",
       "      <td>1195</td>\n",
       "      <td>False</td>\n",
       "      <td>False</td>\n",
       "      <td>False</td>\n",
       "      <td>False</td>\n",
       "      <td>False</td>\n",
       "    </tr>\n",
       "    <tr>\n",
       "      <td>1196</td>\n",
       "      <td>False</td>\n",
       "      <td>False</td>\n",
       "      <td>False</td>\n",
       "      <td>False</td>\n",
       "      <td>False</td>\n",
       "    </tr>\n",
       "  </tbody>\n",
       "</table>\n",
       "<p>1197 rows × 5 columns</p>\n",
       "</div>"
      ],
      "text/plain": [
       "      transactionId  visitorId   date  revenue  group\n",
       "0             False      False  False    False  False\n",
       "1             False      False  False    False  False\n",
       "2             False      False  False    False  False\n",
       "3             False      False  False    False  False\n",
       "4             False      False  False    False  False\n",
       "...             ...        ...    ...      ...    ...\n",
       "1192          False      False  False    False  False\n",
       "1193          False      False  False    False  False\n",
       "1194          False      False  False    False  False\n",
       "1195          False      False  False    False  False\n",
       "1196          False      False  False    False  False\n",
       "\n",
       "[1197 rows x 5 columns]"
      ]
     },
     "execution_count": 16,
     "metadata": {},
     "output_type": "execute_result"
    }
   ],
   "source": [
    "orders.isnull()"
   ]
  },
  {
   "cell_type": "code",
   "execution_count": 17,
   "metadata": {},
   "outputs": [
    {
     "data": {
      "text/html": [
       "<div>\n",
       "<style scoped>\n",
       "    .dataframe tbody tr th:only-of-type {\n",
       "        vertical-align: middle;\n",
       "    }\n",
       "\n",
       "    .dataframe tbody tr th {\n",
       "        vertical-align: top;\n",
       "    }\n",
       "\n",
       "    .dataframe thead th {\n",
       "        text-align: right;\n",
       "    }\n",
       "</style>\n",
       "<table border=\"1\" class=\"dataframe\">\n",
       "  <thead>\n",
       "    <tr style=\"text-align: right;\">\n",
       "      <th></th>\n",
       "      <th>date</th>\n",
       "      <th>group</th>\n",
       "      <th>visitors</th>\n",
       "    </tr>\n",
       "  </thead>\n",
       "  <tbody>\n",
       "    <tr>\n",
       "      <td>0</td>\n",
       "      <td>False</td>\n",
       "      <td>False</td>\n",
       "      <td>False</td>\n",
       "    </tr>\n",
       "    <tr>\n",
       "      <td>1</td>\n",
       "      <td>False</td>\n",
       "      <td>False</td>\n",
       "      <td>False</td>\n",
       "    </tr>\n",
       "    <tr>\n",
       "      <td>2</td>\n",
       "      <td>False</td>\n",
       "      <td>False</td>\n",
       "      <td>False</td>\n",
       "    </tr>\n",
       "    <tr>\n",
       "      <td>3</td>\n",
       "      <td>False</td>\n",
       "      <td>False</td>\n",
       "      <td>False</td>\n",
       "    </tr>\n",
       "    <tr>\n",
       "      <td>4</td>\n",
       "      <td>False</td>\n",
       "      <td>False</td>\n",
       "      <td>False</td>\n",
       "    </tr>\n",
       "    <tr>\n",
       "      <td>...</td>\n",
       "      <td>...</td>\n",
       "      <td>...</td>\n",
       "      <td>...</td>\n",
       "    </tr>\n",
       "    <tr>\n",
       "      <td>57</td>\n",
       "      <td>False</td>\n",
       "      <td>False</td>\n",
       "      <td>False</td>\n",
       "    </tr>\n",
       "    <tr>\n",
       "      <td>58</td>\n",
       "      <td>False</td>\n",
       "      <td>False</td>\n",
       "      <td>False</td>\n",
       "    </tr>\n",
       "    <tr>\n",
       "      <td>59</td>\n",
       "      <td>False</td>\n",
       "      <td>False</td>\n",
       "      <td>False</td>\n",
       "    </tr>\n",
       "    <tr>\n",
       "      <td>60</td>\n",
       "      <td>False</td>\n",
       "      <td>False</td>\n",
       "      <td>False</td>\n",
       "    </tr>\n",
       "    <tr>\n",
       "      <td>61</td>\n",
       "      <td>False</td>\n",
       "      <td>False</td>\n",
       "      <td>False</td>\n",
       "    </tr>\n",
       "  </tbody>\n",
       "</table>\n",
       "<p>62 rows × 3 columns</p>\n",
       "</div>"
      ],
      "text/plain": [
       "     date  group  visitors\n",
       "0   False  False     False\n",
       "1   False  False     False\n",
       "2   False  False     False\n",
       "3   False  False     False\n",
       "4   False  False     False\n",
       "..    ...    ...       ...\n",
       "57  False  False     False\n",
       "58  False  False     False\n",
       "59  False  False     False\n",
       "60  False  False     False\n",
       "61  False  False     False\n",
       "\n",
       "[62 rows x 3 columns]"
      ]
     },
     "execution_count": 17,
     "metadata": {},
     "output_type": "execute_result"
    }
   ],
   "source": [
    "visitors.isnull()"
   ]
  },
  {
   "cell_type": "markdown",
   "metadata": {},
   "source": [
    "Вывод\n",
    "Таблицу hypothesis привели к нижнему регистру, в таблицах orders и visitors d сталбецах  data поменили тип на datetime.\n",
    "Пропусков и дубликатов не обнаруженно."
   ]
  },
  {
   "cell_type": "markdown",
   "metadata": {},
   "source": [
    "# 2  Часть 1. Приоритизация гипотез"
   ]
  },
  {
   "cell_type": "code",
   "execution_count": 18,
   "metadata": {},
   "outputs": [
    {
     "data": {
      "text/html": [
       "<div>\n",
       "<style scoped>\n",
       "    .dataframe tbody tr th:only-of-type {\n",
       "        vertical-align: middle;\n",
       "    }\n",
       "\n",
       "    .dataframe tbody tr th {\n",
       "        vertical-align: top;\n",
       "    }\n",
       "\n",
       "    .dataframe thead th {\n",
       "        text-align: right;\n",
       "    }\n",
       "</style>\n",
       "<table border=\"1\" class=\"dataframe\">\n",
       "  <thead>\n",
       "    <tr style=\"text-align: right;\">\n",
       "      <th></th>\n",
       "      <th>hypothesis</th>\n",
       "      <th>reach</th>\n",
       "      <th>impact</th>\n",
       "      <th>confidence</th>\n",
       "      <th>efforts</th>\n",
       "    </tr>\n",
       "  </thead>\n",
       "  <tbody>\n",
       "    <tr>\n",
       "      <td>0</td>\n",
       "      <td>Добавить два новых канала привлечения трафика,...</td>\n",
       "      <td>3</td>\n",
       "      <td>10</td>\n",
       "      <td>8</td>\n",
       "      <td>6</td>\n",
       "    </tr>\n",
       "    <tr>\n",
       "      <td>1</td>\n",
       "      <td>Запустить собственную службу доставки, что сок...</td>\n",
       "      <td>2</td>\n",
       "      <td>5</td>\n",
       "      <td>4</td>\n",
       "      <td>10</td>\n",
       "    </tr>\n",
       "    <tr>\n",
       "      <td>2</td>\n",
       "      <td>Добавить блоки рекомендаций товаров на сайт ин...</td>\n",
       "      <td>8</td>\n",
       "      <td>3</td>\n",
       "      <td>7</td>\n",
       "      <td>3</td>\n",
       "    </tr>\n",
       "    <tr>\n",
       "      <td>3</td>\n",
       "      <td>Изменить структура категорий, что увеличит кон...</td>\n",
       "      <td>8</td>\n",
       "      <td>3</td>\n",
       "      <td>3</td>\n",
       "      <td>8</td>\n",
       "    </tr>\n",
       "    <tr>\n",
       "      <td>4</td>\n",
       "      <td>Изменить цвет фона главной страницы, чтобы уве...</td>\n",
       "      <td>3</td>\n",
       "      <td>1</td>\n",
       "      <td>1</td>\n",
       "      <td>1</td>\n",
       "    </tr>\n",
       "    <tr>\n",
       "      <td>5</td>\n",
       "      <td>Добавить страницу отзывов клиентов о магазине,...</td>\n",
       "      <td>3</td>\n",
       "      <td>2</td>\n",
       "      <td>2</td>\n",
       "      <td>3</td>\n",
       "    </tr>\n",
       "    <tr>\n",
       "      <td>6</td>\n",
       "      <td>Показать на главной странице баннеры с актуаль...</td>\n",
       "      <td>5</td>\n",
       "      <td>3</td>\n",
       "      <td>8</td>\n",
       "      <td>3</td>\n",
       "    </tr>\n",
       "    <tr>\n",
       "      <td>7</td>\n",
       "      <td>Добавить форму подписки на все основные страни...</td>\n",
       "      <td>10</td>\n",
       "      <td>7</td>\n",
       "      <td>8</td>\n",
       "      <td>5</td>\n",
       "    </tr>\n",
       "    <tr>\n",
       "      <td>8</td>\n",
       "      <td>Запустить акцию, дающую скидку на товар в день...</td>\n",
       "      <td>1</td>\n",
       "      <td>9</td>\n",
       "      <td>9</td>\n",
       "      <td>5</td>\n",
       "    </tr>\n",
       "  </tbody>\n",
       "</table>\n",
       "</div>"
      ],
      "text/plain": [
       "                                          hypothesis  reach  impact  \\\n",
       "0  Добавить два новых канала привлечения трафика,...      3      10   \n",
       "1  Запустить собственную службу доставки, что сок...      2       5   \n",
       "2  Добавить блоки рекомендаций товаров на сайт ин...      8       3   \n",
       "3  Изменить структура категорий, что увеличит кон...      8       3   \n",
       "4  Изменить цвет фона главной страницы, чтобы уве...      3       1   \n",
       "5  Добавить страницу отзывов клиентов о магазине,...      3       2   \n",
       "6  Показать на главной странице баннеры с актуаль...      5       3   \n",
       "7  Добавить форму подписки на все основные страни...     10       7   \n",
       "8  Запустить акцию, дающую скидку на товар в день...      1       9   \n",
       "\n",
       "   confidence  efforts  \n",
       "0           8        6  \n",
       "1           4       10  \n",
       "2           7        3  \n",
       "3           3        8  \n",
       "4           1        1  \n",
       "5           2        3  \n",
       "6           8        3  \n",
       "7           8        5  \n",
       "8           9        5  "
      ]
     },
     "execution_count": 18,
     "metadata": {},
     "output_type": "execute_result"
    }
   ],
   "source": [
    "hypothesis"
   ]
  },
  {
   "cell_type": "code",
   "execution_count": 19,
   "metadata": {},
   "outputs": [
    {
     "data": {
      "text/html": [
       "<div>\n",
       "<style scoped>\n",
       "    .dataframe tbody tr th:only-of-type {\n",
       "        vertical-align: middle;\n",
       "    }\n",
       "\n",
       "    .dataframe tbody tr th {\n",
       "        vertical-align: top;\n",
       "    }\n",
       "\n",
       "    .dataframe thead th {\n",
       "        text-align: right;\n",
       "    }\n",
       "</style>\n",
       "<table border=\"1\" class=\"dataframe\">\n",
       "  <thead>\n",
       "    <tr style=\"text-align: right;\">\n",
       "      <th></th>\n",
       "      <th>hypothesis</th>\n",
       "      <th>reach</th>\n",
       "      <th>impact</th>\n",
       "      <th>confidence</th>\n",
       "      <th>efforts</th>\n",
       "    </tr>\n",
       "  </thead>\n",
       "  <tbody>\n",
       "    <tr>\n",
       "      <td>0</td>\n",
       "      <td>Добавить два новых канала привлечения трафика, что позволит привлекать на 30% больше пользователей</td>\n",
       "      <td>3</td>\n",
       "      <td>10</td>\n",
       "      <td>8</td>\n",
       "      <td>6</td>\n",
       "    </tr>\n",
       "    <tr>\n",
       "      <td>1</td>\n",
       "      <td>Запустить собственную службу доставки, что сократит срок доставки заказов</td>\n",
       "      <td>2</td>\n",
       "      <td>5</td>\n",
       "      <td>4</td>\n",
       "      <td>10</td>\n",
       "    </tr>\n",
       "    <tr>\n",
       "      <td>2</td>\n",
       "      <td>Добавить блоки рекомендаций товаров на сайт интернет магазина, чтобы повысить конверсию и средний чек заказа</td>\n",
       "      <td>8</td>\n",
       "      <td>3</td>\n",
       "      <td>7</td>\n",
       "      <td>3</td>\n",
       "    </tr>\n",
       "    <tr>\n",
       "      <td>3</td>\n",
       "      <td>Изменить структура категорий, что увеличит конверсию, т.к. пользователи быстрее найдут нужный товар</td>\n",
       "      <td>8</td>\n",
       "      <td>3</td>\n",
       "      <td>3</td>\n",
       "      <td>8</td>\n",
       "    </tr>\n",
       "    <tr>\n",
       "      <td>4</td>\n",
       "      <td>Изменить цвет фона главной страницы, чтобы увеличить вовлеченность пользователей</td>\n",
       "      <td>3</td>\n",
       "      <td>1</td>\n",
       "      <td>1</td>\n",
       "      <td>1</td>\n",
       "    </tr>\n",
       "    <tr>\n",
       "      <td>5</td>\n",
       "      <td>Добавить страницу отзывов клиентов о магазине, что позволит увеличить количество заказов</td>\n",
       "      <td>3</td>\n",
       "      <td>2</td>\n",
       "      <td>2</td>\n",
       "      <td>3</td>\n",
       "    </tr>\n",
       "    <tr>\n",
       "      <td>6</td>\n",
       "      <td>Показать на главной странице баннеры с актуальными акциями и распродажами, чтобы увеличить конверсию</td>\n",
       "      <td>5</td>\n",
       "      <td>3</td>\n",
       "      <td>8</td>\n",
       "      <td>3</td>\n",
       "    </tr>\n",
       "    <tr>\n",
       "      <td>7</td>\n",
       "      <td>Добавить форму подписки на все основные страницы, чтобы собрать базу клиентов для email-рассылок</td>\n",
       "      <td>10</td>\n",
       "      <td>7</td>\n",
       "      <td>8</td>\n",
       "      <td>5</td>\n",
       "    </tr>\n",
       "    <tr>\n",
       "      <td>8</td>\n",
       "      <td>Запустить акцию, дающую скидку на товар в день рождения</td>\n",
       "      <td>1</td>\n",
       "      <td>9</td>\n",
       "      <td>9</td>\n",
       "      <td>5</td>\n",
       "    </tr>\n",
       "  </tbody>\n",
       "</table>\n",
       "</div>"
      ],
      "text/plain": [
       "                                                                                                     hypothesis  \\\n",
       "0            Добавить два новых канала привлечения трафика, что позволит привлекать на 30% больше пользователей   \n",
       "1                                     Запустить собственную службу доставки, что сократит срок доставки заказов   \n",
       "2  Добавить блоки рекомендаций товаров на сайт интернет магазина, чтобы повысить конверсию и средний чек заказа   \n",
       "3           Изменить структура категорий, что увеличит конверсию, т.к. пользователи быстрее найдут нужный товар   \n",
       "4                              Изменить цвет фона главной страницы, чтобы увеличить вовлеченность пользователей   \n",
       "5                      Добавить страницу отзывов клиентов о магазине, что позволит увеличить количество заказов   \n",
       "6          Показать на главной странице баннеры с актуальными акциями и распродажами, чтобы увеличить конверсию   \n",
       "7              Добавить форму подписки на все основные страницы, чтобы собрать базу клиентов для email-рассылок   \n",
       "8                                                       Запустить акцию, дающую скидку на товар в день рождения   \n",
       "\n",
       "   reach  impact  confidence  efforts  \n",
       "0      3      10           8        6  \n",
       "1      2       5           4       10  \n",
       "2      8       3           7        3  \n",
       "3      8       3           3        8  \n",
       "4      3       1           1        1  \n",
       "5      3       2           2        3  \n",
       "6      5       3           8        3  \n",
       "7     10       7           8        5  \n",
       "8      1       9           9        5  "
      ]
     },
     "execution_count": 19,
     "metadata": {},
     "output_type": "execute_result"
    }
   ],
   "source": [
    "pd.set_option('display.max_columns', None)\n",
    "pd.options.display.max_colwidth = 150\n",
    "hypothesis"
   ]
  },
  {
   "cell_type": "markdown",
   "metadata": {},
   "source": [
    "Применим фреймворк ICE для приоритизации гипотез и отсортируем по убыванию"
   ]
  },
  {
   "cell_type": "code",
   "execution_count": 20,
   "metadata": {},
   "outputs": [
    {
     "data": {
      "text/html": [
       "<div>\n",
       "<style scoped>\n",
       "    .dataframe tbody tr th:only-of-type {\n",
       "        vertical-align: middle;\n",
       "    }\n",
       "\n",
       "    .dataframe tbody tr th {\n",
       "        vertical-align: top;\n",
       "    }\n",
       "\n",
       "    .dataframe thead th {\n",
       "        text-align: right;\n",
       "    }\n",
       "</style>\n",
       "<table border=\"1\" class=\"dataframe\">\n",
       "  <thead>\n",
       "    <tr style=\"text-align: right;\">\n",
       "      <th></th>\n",
       "      <th>hypothesis</th>\n",
       "      <th>ICE</th>\n",
       "    </tr>\n",
       "  </thead>\n",
       "  <tbody>\n",
       "    <tr>\n",
       "      <td>8</td>\n",
       "      <td>Запустить акцию, дающую скидку на товар в день рождения</td>\n",
       "      <td>16.200000</td>\n",
       "    </tr>\n",
       "    <tr>\n",
       "      <td>0</td>\n",
       "      <td>Добавить два новых канала привлечения трафика, что позволит привлекать на 30% больше пользователей</td>\n",
       "      <td>13.333333</td>\n",
       "    </tr>\n",
       "    <tr>\n",
       "      <td>7</td>\n",
       "      <td>Добавить форму подписки на все основные страницы, чтобы собрать базу клиентов для email-рассылок</td>\n",
       "      <td>11.200000</td>\n",
       "    </tr>\n",
       "    <tr>\n",
       "      <td>6</td>\n",
       "      <td>Показать на главной странице баннеры с актуальными акциями и распродажами, чтобы увеличить конверсию</td>\n",
       "      <td>8.000000</td>\n",
       "    </tr>\n",
       "    <tr>\n",
       "      <td>2</td>\n",
       "      <td>Добавить блоки рекомендаций товаров на сайт интернет магазина, чтобы повысить конверсию и средний чек заказа</td>\n",
       "      <td>7.000000</td>\n",
       "    </tr>\n",
       "    <tr>\n",
       "      <td>1</td>\n",
       "      <td>Запустить собственную службу доставки, что сократит срок доставки заказов</td>\n",
       "      <td>2.000000</td>\n",
       "    </tr>\n",
       "    <tr>\n",
       "      <td>5</td>\n",
       "      <td>Добавить страницу отзывов клиентов о магазине, что позволит увеличить количество заказов</td>\n",
       "      <td>1.333333</td>\n",
       "    </tr>\n",
       "    <tr>\n",
       "      <td>3</td>\n",
       "      <td>Изменить структура категорий, что увеличит конверсию, т.к. пользователи быстрее найдут нужный товар</td>\n",
       "      <td>1.125000</td>\n",
       "    </tr>\n",
       "    <tr>\n",
       "      <td>4</td>\n",
       "      <td>Изменить цвет фона главной страницы, чтобы увеличить вовлеченность пользователей</td>\n",
       "      <td>1.000000</td>\n",
       "    </tr>\n",
       "  </tbody>\n",
       "</table>\n",
       "</div>"
      ],
      "text/plain": [
       "                                                                                                     hypothesis  \\\n",
       "8                                                       Запустить акцию, дающую скидку на товар в день рождения   \n",
       "0            Добавить два новых канала привлечения трафика, что позволит привлекать на 30% больше пользователей   \n",
       "7              Добавить форму подписки на все основные страницы, чтобы собрать базу клиентов для email-рассылок   \n",
       "6          Показать на главной странице баннеры с актуальными акциями и распродажами, чтобы увеличить конверсию   \n",
       "2  Добавить блоки рекомендаций товаров на сайт интернет магазина, чтобы повысить конверсию и средний чек заказа   \n",
       "1                                     Запустить собственную службу доставки, что сократит срок доставки заказов   \n",
       "5                      Добавить страницу отзывов клиентов о магазине, что позволит увеличить количество заказов   \n",
       "3           Изменить структура категорий, что увеличит конверсию, т.к. пользователи быстрее найдут нужный товар   \n",
       "4                              Изменить цвет фона главной страницы, чтобы увеличить вовлеченность пользователей   \n",
       "\n",
       "         ICE  \n",
       "8  16.200000  \n",
       "0  13.333333  \n",
       "7  11.200000  \n",
       "6   8.000000  \n",
       "2   7.000000  \n",
       "1   2.000000  \n",
       "5   1.333333  \n",
       "3   1.125000  \n",
       "4   1.000000  "
      ]
     },
     "execution_count": 20,
     "metadata": {},
     "output_type": "execute_result"
    }
   ],
   "source": [
    "hypothesis['ICE'] = (hypothesis['impact'] * hypothesis['confidence']) / hypothesis['efforts']\n",
    "hypothesis[['hypothesis', 'ICE']].sort_values('ICE', ascending = False)"
   ]
  },
  {
   "cell_type": "markdown",
   "metadata": {},
   "source": [
    "Применим фреймворк RICE для приоритизации гипотез и отсортируем по убыванию"
   ]
  },
  {
   "cell_type": "code",
   "execution_count": 21,
   "metadata": {},
   "outputs": [
    {
     "data": {
      "text/html": [
       "<div>\n",
       "<style scoped>\n",
       "    .dataframe tbody tr th:only-of-type {\n",
       "        vertical-align: middle;\n",
       "    }\n",
       "\n",
       "    .dataframe tbody tr th {\n",
       "        vertical-align: top;\n",
       "    }\n",
       "\n",
       "    .dataframe thead th {\n",
       "        text-align: right;\n",
       "    }\n",
       "</style>\n",
       "<table border=\"1\" class=\"dataframe\">\n",
       "  <thead>\n",
       "    <tr style=\"text-align: right;\">\n",
       "      <th></th>\n",
       "      <th>hypothesis</th>\n",
       "      <th>RICE</th>\n",
       "    </tr>\n",
       "  </thead>\n",
       "  <tbody>\n",
       "    <tr>\n",
       "      <td>7</td>\n",
       "      <td>Добавить форму подписки на все основные страницы, чтобы собрать базу клиентов для email-рассылок</td>\n",
       "      <td>112.0</td>\n",
       "    </tr>\n",
       "    <tr>\n",
       "      <td>2</td>\n",
       "      <td>Добавить блоки рекомендаций товаров на сайт интернет магазина, чтобы повысить конверсию и средний чек заказа</td>\n",
       "      <td>56.0</td>\n",
       "    </tr>\n",
       "    <tr>\n",
       "      <td>0</td>\n",
       "      <td>Добавить два новых канала привлечения трафика, что позволит привлекать на 30% больше пользователей</td>\n",
       "      <td>40.0</td>\n",
       "    </tr>\n",
       "    <tr>\n",
       "      <td>6</td>\n",
       "      <td>Показать на главной странице баннеры с актуальными акциями и распродажами, чтобы увеличить конверсию</td>\n",
       "      <td>40.0</td>\n",
       "    </tr>\n",
       "    <tr>\n",
       "      <td>8</td>\n",
       "      <td>Запустить акцию, дающую скидку на товар в день рождения</td>\n",
       "      <td>16.2</td>\n",
       "    </tr>\n",
       "    <tr>\n",
       "      <td>3</td>\n",
       "      <td>Изменить структура категорий, что увеличит конверсию, т.к. пользователи быстрее найдут нужный товар</td>\n",
       "      <td>9.0</td>\n",
       "    </tr>\n",
       "    <tr>\n",
       "      <td>1</td>\n",
       "      <td>Запустить собственную службу доставки, что сократит срок доставки заказов</td>\n",
       "      <td>4.0</td>\n",
       "    </tr>\n",
       "    <tr>\n",
       "      <td>5</td>\n",
       "      <td>Добавить страницу отзывов клиентов о магазине, что позволит увеличить количество заказов</td>\n",
       "      <td>4.0</td>\n",
       "    </tr>\n",
       "    <tr>\n",
       "      <td>4</td>\n",
       "      <td>Изменить цвет фона главной страницы, чтобы увеличить вовлеченность пользователей</td>\n",
       "      <td>3.0</td>\n",
       "    </tr>\n",
       "  </tbody>\n",
       "</table>\n",
       "</div>"
      ],
      "text/plain": [
       "                                                                                                     hypothesis  \\\n",
       "7              Добавить форму подписки на все основные страницы, чтобы собрать базу клиентов для email-рассылок   \n",
       "2  Добавить блоки рекомендаций товаров на сайт интернет магазина, чтобы повысить конверсию и средний чек заказа   \n",
       "0            Добавить два новых канала привлечения трафика, что позволит привлекать на 30% больше пользователей   \n",
       "6          Показать на главной странице баннеры с актуальными акциями и распродажами, чтобы увеличить конверсию   \n",
       "8                                                       Запустить акцию, дающую скидку на товар в день рождения   \n",
       "3           Изменить структура категорий, что увеличит конверсию, т.к. пользователи быстрее найдут нужный товар   \n",
       "1                                     Запустить собственную службу доставки, что сократит срок доставки заказов   \n",
       "5                      Добавить страницу отзывов клиентов о магазине, что позволит увеличить количество заказов   \n",
       "4                              Изменить цвет фона главной страницы, чтобы увеличить вовлеченность пользователей   \n",
       "\n",
       "    RICE  \n",
       "7  112.0  \n",
       "2   56.0  \n",
       "0   40.0  \n",
       "6   40.0  \n",
       "8   16.2  \n",
       "3    9.0  \n",
       "1    4.0  \n",
       "5    4.0  \n",
       "4    3.0  "
      ]
     },
     "execution_count": 21,
     "metadata": {},
     "output_type": "execute_result"
    }
   ],
   "source": [
    "hypothesis['RICE'] = (hypothesis['reach'] * hypothesis['impact'] * hypothesis['confidence']) / hypothesis['efforts']\n",
    "hypothesis[['hypothesis', 'RICE']].sort_values('RICE', ascending = False)"
   ]
  },
  {
   "cell_type": "markdown",
   "metadata": {},
   "source": [
    "Укажите, как изменилась приоритизация гипотез при применении RICE вместо ICE. Объясните, почему так произошло"
   ]
  },
  {
   "cell_type": "markdown",
   "metadata": {},
   "source": [
    "По метрике RICE на первом месте гипотезы \n",
    "* 8 (Запустить акцию, дающую скидку на товар в день рождения),\n",
    "* 7 (Добавить форму подписки на все основные страницы, чтобы собрать базу клиентов для email-рассылок),\n",
    "* 2 (Добавить блоки рекомендаций товаров на сайт интернет магазина, чтобы повысить конверсию и средний чек заказа), \n",
    "* 0 (Добавить два новых канала привлечения трафика, что позволит привлекать на 30% больше пользователей),\n",
    "* 6 (Показать на главной странице баннеры с актуальными акциями и распродажами, чтобы увеличить конверсию),\n",
    "\n",
    "Т .к. в отличии от ICE эта метрика учитывает охват (как много пользователей затронет гипотеза). \n",
    "Лидирующая метрика \n",
    "\n",
    "* 8 (Запустить акцию, дающую скидку на товар в день рождения) в метрике ICE упала на 5 позицию поскольку имеет не такой большой охват по сравнению с гипотезами \n",
    "* 7 (Добавить форму подписки на все основные страницы, чтобы собрать базу клиентов для email-рассылок), \n",
    "* 2 (Добавить блоки рекомендаций товаров на сайт интернет магазина, чтобы повысить конверсию и средний чек заказа), \n",
    "* 0 (Добавить два новых канала привлечения трафика, что позволит привлекать на 30% больше пользователей), \n",
    "* 6 (Показать на главной странице баннеры с актуальными акциями и распродажами, чтобы увеличить конверсию).\n",
    "\n",
    "В первую очередь нужно проверить гипотезу \n",
    "* 7 (Добавить форму подписки на все основные страницы, чтобы собрать базу клиентов для email-рассылок),\n",
    "* 0 (Добавить два новых канала привлечения трафика, что позволит привлекать на 30% больше пользователей)"
   ]
  },
  {
   "cell_type": "markdown",
   "metadata": {},
   "source": [
    "# Шаг 3. Анализ A/B-теста"
   ]
  },
  {
   "cell_type": "markdown",
   "metadata": {},
   "source": [
    "1.Кумулятивная выручка в разбивке по группам"
   ]
  },
  {
   "cell_type": "code",
   "execution_count": 22,
   "metadata": {},
   "outputs": [
    {
     "data": {
      "text/html": [
       "<div>\n",
       "<style scoped>\n",
       "    .dataframe tbody tr th:only-of-type {\n",
       "        vertical-align: middle;\n",
       "    }\n",
       "\n",
       "    .dataframe tbody tr th {\n",
       "        vertical-align: top;\n",
       "    }\n",
       "\n",
       "    .dataframe thead th {\n",
       "        text-align: right;\n",
       "    }\n",
       "</style>\n",
       "<table border=\"1\" class=\"dataframe\">\n",
       "  <thead>\n",
       "    <tr style=\"text-align: right;\">\n",
       "      <th></th>\n",
       "      <th>date</th>\n",
       "      <th>group</th>\n",
       "      <th>orders</th>\n",
       "      <th>buyers</th>\n",
       "      <th>revenue</th>\n",
       "      <th>visitors</th>\n",
       "    </tr>\n",
       "  </thead>\n",
       "  <tbody>\n",
       "    <tr>\n",
       "      <td>0</td>\n",
       "      <td>2019-08-01</td>\n",
       "      <td>A</td>\n",
       "      <td>24</td>\n",
       "      <td>20</td>\n",
       "      <td>148579</td>\n",
       "      <td>719</td>\n",
       "    </tr>\n",
       "    <tr>\n",
       "      <td>1</td>\n",
       "      <td>2019-08-01</td>\n",
       "      <td>B</td>\n",
       "      <td>21</td>\n",
       "      <td>20</td>\n",
       "      <td>101217</td>\n",
       "      <td>713</td>\n",
       "    </tr>\n",
       "    <tr>\n",
       "      <td>2</td>\n",
       "      <td>2019-08-02</td>\n",
       "      <td>A</td>\n",
       "      <td>44</td>\n",
       "      <td>38</td>\n",
       "      <td>242401</td>\n",
       "      <td>1338</td>\n",
       "    </tr>\n",
       "    <tr>\n",
       "      <td>3</td>\n",
       "      <td>2019-08-02</td>\n",
       "      <td>B</td>\n",
       "      <td>45</td>\n",
       "      <td>43</td>\n",
       "      <td>266748</td>\n",
       "      <td>1294</td>\n",
       "    </tr>\n",
       "    <tr>\n",
       "      <td>4</td>\n",
       "      <td>2019-08-03</td>\n",
       "      <td>A</td>\n",
       "      <td>68</td>\n",
       "      <td>62</td>\n",
       "      <td>354874</td>\n",
       "      <td>1845</td>\n",
       "    </tr>\n",
       "  </tbody>\n",
       "</table>\n",
       "</div>"
      ],
      "text/plain": [
       "        date group  orders  buyers  revenue  visitors\n",
       "0 2019-08-01     A      24      20   148579       719\n",
       "1 2019-08-01     B      21      20   101217       713\n",
       "2 2019-08-02     A      44      38   242401      1338\n",
       "3 2019-08-02     B      45      43   266748      1294\n",
       "4 2019-08-03     A      68      62   354874      1845"
      ]
     },
     "execution_count": 22,
     "metadata": {},
     "output_type": "execute_result"
    }
   ],
   "source": [
    "# создаем массив уникальных пар значений дат и групп теста\n",
    "datesGroups = orders[['date','group']].drop_duplicates()\n",
    "\n",
    "# получаем агрегированные кумулятивные по дням данные о заказах \n",
    "ordersAggregated = datesGroups.apply(lambda x: orders[np.logical_and(orders['date'] <= x['date'], orders['group'] == x['group'])].agg({'date' : 'max', 'group' : 'max', 'transactionId' : pd.Series.nunique, 'visitorId' : pd.Series.nunique, 'revenue' : 'sum'}), axis=1).sort_values(by=['date','group'])\n",
    "\n",
    "# получаем агрегированные кумулятивные по дням данные о посетителях интернет-магазина \n",
    "visitorsAggregated = datesGroups.apply(lambda x: visitors[np.logical_and(visitors['date'] <= x['date'], visitors['group'] == x['group'])].agg({'date' : 'max', 'group' : 'max', 'visitors' : 'sum'}), axis=1).sort_values(by=['date','group'])\n",
    "\n",
    "# объединяем кумулятивные данные в одной таблице и присваиваем ее столбцам понятные названия\n",
    "cumulativeData = ordersAggregated.merge(visitorsAggregated, left_on=['date', 'group'], right_on=['date', 'group'])\n",
    "cumulativeData.columns = ['date', 'group', 'orders', 'buyers', 'revenue', 'visitors']\n",
    "\n",
    "# выведем 5 значений\n",
    "cumulativeData.head(5)"
   ]
  },
  {
   "cell_type": "markdown",
   "metadata": {},
   "source": [
    "Объявем переменные cumulativeRevenueA и cummulativeRevenueB, в которых сохраним данные о датах, выручке и числе заказов в группах A и B. Построим график."
   ]
  },
  {
   "cell_type": "code",
   "execution_count": 23,
   "metadata": {},
   "outputs": [],
   "source": [
    "# датафрейм с кумулятивным количеством заказов и кумулятивной выручкой по дням в группе А\n",
    "cumulativeRevenueA = cumulativeData[cumulativeData['group']=='A'][['date','revenue', 'orders']]\n",
    "\n",
    "# датафрейм с кумулятивным количеством заказов и кумулятивной выручкой по дням в группе B\n",
    "cumulativeRevenueB = cumulativeData[cumulativeData['group']=='B'][['date','revenue', 'orders']]"
   ]
  },
  {
   "cell_type": "markdown",
   "metadata": {},
   "source": [
    "Построим графики накопления выручки в каждой группе"
   ]
  },
  {
   "cell_type": "code",
   "execution_count": 24,
   "metadata": {},
   "outputs": [
    {
     "name": "stderr",
     "output_type": "stream",
     "text": [
      "/opt/conda/lib/python3.7/site-packages/pandas/plotting/_matplotlib/converter.py:103: FutureWarning: Using an implicitly registered datetime converter for a matplotlib plotting method. The converter was registered by pandas on import. Future versions of pandas will require you to explicitly register matplotlib converters.\n",
      "\n",
      "To register the converters:\n",
      "\t>>> from pandas.plotting import register_matplotlib_converters\n",
      "\t>>> register_matplotlib_converters()\n",
      "  warnings.warn(msg, FutureWarning)\n"
     ]
    },
    {
     "data": {
      "text/plain": [
       "<matplotlib.legend.Legend at 0x7f5b641a2290>"
      ]
     },
     "execution_count": 24,
     "metadata": {},
     "output_type": "execute_result"
    },
    {
     "data": {
      "image/png": "[encoded data removed]",
      "text/plain": [
       "<Figure size 432x288 with 1 Axes>"
      ]
     },
     "metadata": {
      "needs_background": "light"
     },
     "output_type": "display_data"
    }
   ],
   "source": [
    "# Строим график выручки группы А\n",
    "plt.plot(cumulativeRevenueA['date'], cumulativeRevenueA['revenue'], label='A')\n",
    "# Строим график выручки группы B\n",
    "plt.plot(cumulativeRevenueB['date'], cumulativeRevenueB['revenue'], label='B')\n",
    "\n",
    "plt.legend()"
   ]
  },
  {
   "cell_type": "code",
   "execution_count": 25,
   "metadata": {},
   "outputs": [
    {
     "data": {
      "image/png": "[encoded data removed]",
      "text/plain": [
       "<Figure size 432x288 with 1 Axes>"
      ]
     },
     "metadata": {
      "needs_background": "light"
     },
     "output_type": "display_data"
    }
   ],
   "source": [
    "from pandas.plotting import register_matplotlib_converters\n",
    "register_matplotlib_converters()\n",
    "plt.plot(cumulativeRevenueA['date'], cumulativeRevenueA['revenue'], label='A')\n",
    "# Строим график выручки группы B\n",
    "plt.plot(cumulativeRevenueB['date'], cumulativeRevenueB['revenue'], label='B')\n",
    "plt.xticks(rotation=90)\n",
    "plt.title('График выручки')\n",
    "plt.xlabel('Дата')\n",
    "plt.ylabel('Выручка, руб')\n",
    "plt.legend()\n",
    "\n",
    "plt.annotate('скачок', xy=('2019-08-17', 2800000), xytext=('2019-08-10', 3500000),\n",
    "            arrowprops=dict(facecolor='g'))\n",
    "plt.annotate('отрыв', xy=('2019-08-05', 800000), xytext=('2019-08-05', 2000000),\n",
    "            arrowprops=dict(facecolor='g')) \n",
    "plt.show()"
   ]
  },
  {
   "cell_type": "markdown",
   "metadata": {},
   "source": [
    "График кумулятивной выручки группы B в течении всего теста лежит выше, чем график кумулятивной выручки группы A. Пользователи, посещающие сайт в версии \"B\", приносят нам больше денег."
   ]
  },
  {
   "cell_type": "markdown",
   "metadata": {},
   "source": [
    "2. Кумулятивный средний чек в разбивке по группам"
   ]
  },
  {
   "cell_type": "code",
   "execution_count": 26,
   "metadata": {},
   "outputs": [
    {
     "data": {
      "image/png": "[encoded data removed]",
      "text/plain": [
       "<Figure size 432x288 with 1 Axes>"
      ]
     },
     "metadata": {
      "needs_background": "light"
     },
     "output_type": "display_data"
    }
   ],
   "source": [
    "# Для каждой группы постройте графики кумулятивного среднего чека по дням.\n",
    "plt.plot(cumulativeRevenueA['date'], cumulativeRevenueA['revenue']/cumulativeRevenueA['orders'], label='A')\n",
    "plt.plot(cumulativeRevenueB['date'], cumulativeRevenueB['revenue']/cumulativeRevenueB['orders'], label='B')\n",
    "plt.xticks(rotation=90)\n",
    "plt.title('График кумулятивного среднего чека ')\n",
    "plt.xlabel('Дата')\n",
    "plt.ylabel('Выручка, руб')\n",
    "plt.legend()\n",
    "plt.show()"
   ]
  },
  {
   "cell_type": "markdown",
   "metadata": {},
   "source": [
    "По среднему чеку видно, что группа В сначала приносила больший среднний чек, а затем немножко просела. После наблюдается резкий скачок. Скорее всего это аномальные значения в группе В."
   ]
  },
  {
   "cell_type": "markdown",
   "metadata": {},
   "source": [
    "3. Относительное изменение кумулятивного среднего чека группы B к группе A."
   ]
  },
  {
   "cell_type": "code",
   "execution_count": 27,
   "metadata": {},
   "outputs": [
    {
     "data": {
      "text/html": [
       "<div>\n",
       "<style scoped>\n",
       "    .dataframe tbody tr th:only-of-type {\n",
       "        vertical-align: middle;\n",
       "    }\n",
       "\n",
       "    .dataframe tbody tr th {\n",
       "        vertical-align: top;\n",
       "    }\n",
       "\n",
       "    .dataframe thead th {\n",
       "        text-align: right;\n",
       "    }\n",
       "</style>\n",
       "<table border=\"1\" class=\"dataframe\">\n",
       "  <thead>\n",
       "    <tr style=\"text-align: right;\">\n",
       "      <th></th>\n",
       "      <th>date</th>\n",
       "      <th>revenueA</th>\n",
       "      <th>ordersA</th>\n",
       "      <th>revenueB</th>\n",
       "      <th>ordersB</th>\n",
       "    </tr>\n",
       "  </thead>\n",
       "  <tbody>\n",
       "    <tr>\n",
       "      <td>0</td>\n",
       "      <td>2019-08-01</td>\n",
       "      <td>148579</td>\n",
       "      <td>24</td>\n",
       "      <td>101217</td>\n",
       "      <td>21</td>\n",
       "    </tr>\n",
       "    <tr>\n",
       "      <td>1</td>\n",
       "      <td>2019-08-02</td>\n",
       "      <td>242401</td>\n",
       "      <td>44</td>\n",
       "      <td>266748</td>\n",
       "      <td>45</td>\n",
       "    </tr>\n",
       "    <tr>\n",
       "      <td>2</td>\n",
       "      <td>2019-08-03</td>\n",
       "      <td>354874</td>\n",
       "      <td>68</td>\n",
       "      <td>380996</td>\n",
       "      <td>61</td>\n",
       "    </tr>\n",
       "    <tr>\n",
       "      <td>3</td>\n",
       "      <td>2019-08-04</td>\n",
       "      <td>425699</td>\n",
       "      <td>84</td>\n",
       "      <td>489567</td>\n",
       "      <td>78</td>\n",
       "    </tr>\n",
       "    <tr>\n",
       "      <td>4</td>\n",
       "      <td>2019-08-05</td>\n",
       "      <td>549917</td>\n",
       "      <td>109</td>\n",
       "      <td>581995</td>\n",
       "      <td>101</td>\n",
       "    </tr>\n",
       "  </tbody>\n",
       "</table>\n",
       "</div>"
      ],
      "text/plain": [
       "        date  revenueA  ordersA  revenueB  ordersB\n",
       "0 2019-08-01    148579       24    101217       21\n",
       "1 2019-08-02    242401       44    266748       45\n",
       "2 2019-08-03    354874       68    380996       61\n",
       "3 2019-08-04    425699       84    489567       78\n",
       "4 2019-08-05    549917      109    581995      101"
      ]
     },
     "execution_count": 27,
     "metadata": {},
     "output_type": "execute_result"
    }
   ],
   "source": [
    "# Объединим таблицы cumulativeRevenueA и cumulativeRevenueB \n",
    "mergedCumulativeRevenue = cumulativeRevenueA.merge(cumulativeRevenueB, left_on='date', right_on='date', \n",
    "                                                   how='left', suffixes=['A', 'B'])\n",
    "mergedCumulativeRevenue.head(5)"
   ]
  },
  {
   "cell_type": "code",
   "execution_count": 28,
   "metadata": {},
   "outputs": [
    {
     "data": {
      "image/png": "[encoded data removed]",
      "text/plain": [
       "<Figure size 432x288 with 1 Axes>"
      ]
     },
     "metadata": {
      "needs_background": "light"
     },
     "output_type": "display_data"
    }
   ],
   "source": [
    "# Постройте график относительно различия кумулятивного среднего чека группы B к группе A.\n",
    "plt.plot(mergedCumulativeRevenue['date'], (mergedCumulativeRevenue['revenueB']/mergedCumulativeRevenue['ordersB'])\n",
    "         /(mergedCumulativeRevenue['revenueA']/mergedCumulativeRevenue['ordersA'])-1)\n",
    "plt.xticks(rotation=90)\n",
    "plt.title('График относительного различия кумулятивного среднего чека по группам ')\n",
    "plt.xlabel('Дата')\n",
    "plt.ylabel('Группа')\n",
    "# Добавим ось Х\n",
    "plt.axhline(y=0, color='black', linestyle='--')\n",
    "plt.show()"
   ]
  },
  {
   "cell_type": "markdown",
   "metadata": {},
   "source": [
    "Результаты теста значительно и резко менялись в несколько дат. Видимо, именно тогда были совершены аномальные заказы\n"
   ]
  },
  {
   "cell_type": "markdown",
   "metadata": {},
   "source": [
    "4.Постройте график кумулятивной конверсии по группам"
   ]
  },
  {
   "cell_type": "code",
   "execution_count": 29,
   "metadata": {},
   "outputs": [
    {
     "data": {
      "text/html": [
       "<div>\n",
       "<style scoped>\n",
       "    .dataframe tbody tr th:only-of-type {\n",
       "        vertical-align: middle;\n",
       "    }\n",
       "\n",
       "    .dataframe tbody tr th {\n",
       "        vertical-align: top;\n",
       "    }\n",
       "\n",
       "    .dataframe thead th {\n",
       "        text-align: right;\n",
       "    }\n",
       "</style>\n",
       "<table border=\"1\" class=\"dataframe\">\n",
       "  <thead>\n",
       "    <tr style=\"text-align: right;\">\n",
       "      <th></th>\n",
       "      <th>date</th>\n",
       "      <th>group</th>\n",
       "      <th>orders</th>\n",
       "      <th>buyers</th>\n",
       "      <th>revenue</th>\n",
       "      <th>visitors</th>\n",
       "    </tr>\n",
       "  </thead>\n",
       "  <tbody>\n",
       "    <tr>\n",
       "      <td>0</td>\n",
       "      <td>2019-08-01</td>\n",
       "      <td>A</td>\n",
       "      <td>24</td>\n",
       "      <td>20</td>\n",
       "      <td>148579</td>\n",
       "      <td>719</td>\n",
       "    </tr>\n",
       "    <tr>\n",
       "      <td>1</td>\n",
       "      <td>2019-08-01</td>\n",
       "      <td>B</td>\n",
       "      <td>21</td>\n",
       "      <td>20</td>\n",
       "      <td>101217</td>\n",
       "      <td>713</td>\n",
       "    </tr>\n",
       "    <tr>\n",
       "      <td>2</td>\n",
       "      <td>2019-08-02</td>\n",
       "      <td>A</td>\n",
       "      <td>44</td>\n",
       "      <td>38</td>\n",
       "      <td>242401</td>\n",
       "      <td>1338</td>\n",
       "    </tr>\n",
       "    <tr>\n",
       "      <td>3</td>\n",
       "      <td>2019-08-02</td>\n",
       "      <td>B</td>\n",
       "      <td>45</td>\n",
       "      <td>43</td>\n",
       "      <td>266748</td>\n",
       "      <td>1294</td>\n",
       "    </tr>\n",
       "    <tr>\n",
       "      <td>4</td>\n",
       "      <td>2019-08-03</td>\n",
       "      <td>A</td>\n",
       "      <td>68</td>\n",
       "      <td>62</td>\n",
       "      <td>354874</td>\n",
       "      <td>1845</td>\n",
       "    </tr>\n",
       "    <tr>\n",
       "      <td>...</td>\n",
       "      <td>...</td>\n",
       "      <td>...</td>\n",
       "      <td>...</td>\n",
       "      <td>...</td>\n",
       "      <td>...</td>\n",
       "      <td>...</td>\n",
       "    </tr>\n",
       "    <tr>\n",
       "      <td>57</td>\n",
       "      <td>2019-08-29</td>\n",
       "      <td>B</td>\n",
       "      <td>596</td>\n",
       "      <td>544</td>\n",
       "      <td>5559398</td>\n",
       "      <td>17708</td>\n",
       "    </tr>\n",
       "    <tr>\n",
       "      <td>58</td>\n",
       "      <td>2019-08-30</td>\n",
       "      <td>A</td>\n",
       "      <td>545</td>\n",
       "      <td>493</td>\n",
       "      <td>4022970</td>\n",
       "      <td>18037</td>\n",
       "    </tr>\n",
       "    <tr>\n",
       "      <td>59</td>\n",
       "      <td>2019-08-30</td>\n",
       "      <td>B</td>\n",
       "      <td>620</td>\n",
       "      <td>567</td>\n",
       "      <td>5774631</td>\n",
       "      <td>18198</td>\n",
       "    </tr>\n",
       "    <tr>\n",
       "      <td>60</td>\n",
       "      <td>2019-08-31</td>\n",
       "      <td>A</td>\n",
       "      <td>557</td>\n",
       "      <td>503</td>\n",
       "      <td>4084803</td>\n",
       "      <td>18736</td>\n",
       "    </tr>\n",
       "    <tr>\n",
       "      <td>61</td>\n",
       "      <td>2019-08-31</td>\n",
       "      <td>B</td>\n",
       "      <td>640</td>\n",
       "      <td>586</td>\n",
       "      <td>5907760</td>\n",
       "      <td>18916</td>\n",
       "    </tr>\n",
       "  </tbody>\n",
       "</table>\n",
       "<p>62 rows × 6 columns</p>\n",
       "</div>"
      ],
      "text/plain": [
       "         date group  orders  buyers  revenue  visitors\n",
       "0  2019-08-01     A      24      20   148579       719\n",
       "1  2019-08-01     B      21      20   101217       713\n",
       "2  2019-08-02     A      44      38   242401      1338\n",
       "3  2019-08-02     B      45      43   266748      1294\n",
       "4  2019-08-03     A      68      62   354874      1845\n",
       "..        ...   ...     ...     ...      ...       ...\n",
       "57 2019-08-29     B     596     544  5559398     17708\n",
       "58 2019-08-30     A     545     493  4022970     18037\n",
       "59 2019-08-30     B     620     567  5774631     18198\n",
       "60 2019-08-31     A     557     503  4084803     18736\n",
       "61 2019-08-31     B     640     586  5907760     18916\n",
       "\n",
       "[62 rows x 6 columns]"
      ]
     },
     "execution_count": 29,
     "metadata": {},
     "output_type": "execute_result"
    }
   ],
   "source": [
    "cumulativeData"
   ]
  },
  {
   "cell_type": "code",
   "execution_count": 30,
   "metadata": {},
   "outputs": [
    {
     "data": {
      "image/png": "[encoded data removed]",
      "text/plain": [
       "<Figure size 432x288 with 1 Axes>"
      ]
     },
     "metadata": {
      "needs_background": "light"
     },
     "output_type": "display_data"
    }
   ],
   "source": [
    "#  считаем кумулятивную конверсию \n",
    "cumulativeData['conversion'] = cumulativeData['orders'] / cumulativeData['visitors']\n",
    "\n",
    "# отделяем данные по группе A\n",
    "cumulativeDataA = cumulativeData[cumulativeData['group']=='A']\n",
    "\n",
    "# отделяем данные по группе B\n",
    "cumulativeDataB = cumulativeData[cumulativeData['group']=='B']\n",
    "\n",
    "# Построим график\n",
    "plt.plot(cumulativeDataA['date'], cumulativeDataA['conversion'], label='A')\n",
    "plt.plot(cumulativeDataB['date'], cumulativeDataB['conversion'], label='B')\n",
    "plt.xticks(rotation=90)\n",
    "plt.title('График кумулятивной конверсии ')\n",
    "plt.xlabel('Дата')\n",
    "plt.ylabel('Конвесия')\n",
    "plt.legend()\n",
    "plt.axis([\"2019-08-01\", '2019-08-31', 0, 0.05])\n",
    "plt.show()"
   ]
  },
  {
   "cell_type": "markdown",
   "metadata": {},
   "source": [
    "В начале группа А имела большую коныкрсию чем В, но дальше у группы В конверсия становится луше и да конца теста у группы В конверсия вышк группы А"
   ]
  },
  {
   "cell_type": "markdown",
   "metadata": {},
   "source": [
    "5.Относительное изменение кумулятивной конверсии группы B к группе А"
   ]
  },
  {
   "cell_type": "code",
   "execution_count": 31,
   "metadata": {},
   "outputs": [],
   "source": [
    "# Объедините таблицы cumulativeDataA и cumulativeDataB \n",
    "mergedCumulativeConversions = cumulativeDataA[['date','conversion']].merge(cumulativeDataB[['date','conversion']], \n",
    "      left_on='date', right_on='date', how='left', suffixes=['A', 'B'])"
   ]
  },
  {
   "cell_type": "code",
   "execution_count": 32,
   "metadata": {},
   "outputs": [
    {
     "data": {
      "image/png": "[encoded data removed]",
      "text/plain": [
       "<Figure size 432x288 with 1 Axes>"
      ]
     },
     "metadata": {
      "needs_background": "light"
     },
     "output_type": "display_data"
    }
   ],
   "source": [
    "mergedCumulativeConversions = cumulativeDataA[['date','conversion']].merge(cumulativeDataB[['date','conversion']], \n",
    "                                                                           left_on='date', right_on='date', how='left', \n",
    "                                                                           suffixes=['A', 'B'])\n",
    "# Построим график\n",
    "plt.plot(mergedCumulativeConversions['date'], mergedCumulativeConversions['conversionB']/mergedCumulativeConversions['conversionA']-1, \n",
    "         label=\"Относительный прирост конверсии группы B относительно группы A\")\n",
    "plt.axhline(y=0, color='black', linestyle='--')\n",
    "plt.axhline(y=-0.1, color='grey', linestyle='--')\n",
    "plt.axis([\"2019-08-01\", '2019-08-31', -0.5, 0.5])\n",
    "plt.xticks(rotation=90)\n",
    "plt.xlabel('Дата')\n",
    "plt.ylabel('Конверсия')\n",
    "plt.legend()\n",
    "plt.show()"
   ]
  },
  {
   "cell_type": "markdown",
   "metadata": {},
   "source": [
    "По графику накопительная конверсия по группе B практически на всем протяжении лежит значительно выше накопительной конверсии группы A."
   ]
  },
  {
   "cell_type": "markdown",
   "metadata": {},
   "source": [
    "6.Постройте точечный график количества заказов по пользователям"
   ]
  },
  {
   "cell_type": "markdown",
   "metadata": {},
   "source": [
    "Найдем количество заказов пользователей в каждый день теста. Постороим точечный график распределения заказов"
   ]
  },
  {
   "cell_type": "code",
   "execution_count": 33,
   "metadata": {},
   "outputs": [
    {
     "data": {
      "text/html": [
       "<div>\n",
       "<style scoped>\n",
       "    .dataframe tbody tr th:only-of-type {\n",
       "        vertical-align: middle;\n",
       "    }\n",
       "\n",
       "    .dataframe tbody tr th {\n",
       "        vertical-align: top;\n",
       "    }\n",
       "\n",
       "    .dataframe thead th {\n",
       "        text-align: right;\n",
       "    }\n",
       "</style>\n",
       "<table border=\"1\" class=\"dataframe\">\n",
       "  <thead>\n",
       "    <tr style=\"text-align: right;\">\n",
       "      <th></th>\n",
       "      <th>transactionId</th>\n",
       "      <th>visitorId</th>\n",
       "      <th>date</th>\n",
       "      <th>revenue</th>\n",
       "      <th>group</th>\n",
       "    </tr>\n",
       "  </thead>\n",
       "  <tbody>\n",
       "    <tr>\n",
       "      <td>0</td>\n",
       "      <td>3667963787</td>\n",
       "      <td>3312258926</td>\n",
       "      <td>2019-08-15</td>\n",
       "      <td>1650</td>\n",
       "      <td>B</td>\n",
       "    </tr>\n",
       "    <tr>\n",
       "      <td>1</td>\n",
       "      <td>2804400009</td>\n",
       "      <td>3642806036</td>\n",
       "      <td>2019-08-15</td>\n",
       "      <td>730</td>\n",
       "      <td>B</td>\n",
       "    </tr>\n",
       "    <tr>\n",
       "      <td>2</td>\n",
       "      <td>2961555356</td>\n",
       "      <td>4069496402</td>\n",
       "      <td>2019-08-15</td>\n",
       "      <td>400</td>\n",
       "      <td>A</td>\n",
       "    </tr>\n",
       "    <tr>\n",
       "      <td>3</td>\n",
       "      <td>3797467345</td>\n",
       "      <td>1196621759</td>\n",
       "      <td>2019-08-15</td>\n",
       "      <td>9759</td>\n",
       "      <td>B</td>\n",
       "    </tr>\n",
       "    <tr>\n",
       "      <td>4</td>\n",
       "      <td>2282983706</td>\n",
       "      <td>2322279887</td>\n",
       "      <td>2019-08-15</td>\n",
       "      <td>2308</td>\n",
       "      <td>B</td>\n",
       "    </tr>\n",
       "    <tr>\n",
       "      <td>...</td>\n",
       "      <td>...</td>\n",
       "      <td>...</td>\n",
       "      <td>...</td>\n",
       "      <td>...</td>\n",
       "      <td>...</td>\n",
       "    </tr>\n",
       "    <tr>\n",
       "      <td>1192</td>\n",
       "      <td>2662137336</td>\n",
       "      <td>3733762160</td>\n",
       "      <td>2019-08-14</td>\n",
       "      <td>6490</td>\n",
       "      <td>B</td>\n",
       "    </tr>\n",
       "    <tr>\n",
       "      <td>1193</td>\n",
       "      <td>2203539145</td>\n",
       "      <td>370388673</td>\n",
       "      <td>2019-08-14</td>\n",
       "      <td>3190</td>\n",
       "      <td>A</td>\n",
       "    </tr>\n",
       "    <tr>\n",
       "      <td>1194</td>\n",
       "      <td>1807773912</td>\n",
       "      <td>573423106</td>\n",
       "      <td>2019-08-14</td>\n",
       "      <td>10550</td>\n",
       "      <td>A</td>\n",
       "    </tr>\n",
       "    <tr>\n",
       "      <td>1195</td>\n",
       "      <td>1947021204</td>\n",
       "      <td>1614305549</td>\n",
       "      <td>2019-08-14</td>\n",
       "      <td>100</td>\n",
       "      <td>A</td>\n",
       "    </tr>\n",
       "    <tr>\n",
       "      <td>1196</td>\n",
       "      <td>3936777065</td>\n",
       "      <td>2108080724</td>\n",
       "      <td>2019-08-15</td>\n",
       "      <td>202740</td>\n",
       "      <td>B</td>\n",
       "    </tr>\n",
       "  </tbody>\n",
       "</table>\n",
       "<p>1197 rows × 5 columns</p>\n",
       "</div>"
      ],
      "text/plain": [
       "      transactionId   visitorId       date  revenue group\n",
       "0        3667963787  3312258926 2019-08-15     1650     B\n",
       "1        2804400009  3642806036 2019-08-15      730     B\n",
       "2        2961555356  4069496402 2019-08-15      400     A\n",
       "3        3797467345  1196621759 2019-08-15     9759     B\n",
       "4        2282983706  2322279887 2019-08-15     2308     B\n",
       "...             ...         ...        ...      ...   ...\n",
       "1192     2662137336  3733762160 2019-08-14     6490     B\n",
       "1193     2203539145   370388673 2019-08-14     3190     A\n",
       "1194     1807773912   573423106 2019-08-14    10550     A\n",
       "1195     1947021204  1614305549 2019-08-14      100     A\n",
       "1196     3936777065  2108080724 2019-08-15   202740     B\n",
       "\n",
       "[1197 rows x 5 columns]"
      ]
     },
     "execution_count": 33,
     "metadata": {},
     "output_type": "execute_result"
    }
   ],
   "source": [
    "orders"
   ]
  },
  {
   "cell_type": "code",
   "execution_count": 34,
   "metadata": {},
   "outputs": [],
   "source": [
    "ordersByUsers = (\n",
    "    orders.drop(['group','revenue','date'], axis=1)\n",
    "    .groupby('visitorId', as_index=False)\n",
    "    .agg({'transactionId': pd.Series.nunique})\n",
    ")\n",
    "ordersByUsers.columns = ['visitorId', 'orders']    \n"
   ]
  },
  {
   "cell_type": "code",
   "execution_count": 35,
   "metadata": {},
   "outputs": [
    {
     "name": "stdout",
     "output_type": "stream",
     "text": [
      "       visitorId  orders\n",
      "1023  4256040402      11\n",
      "591   2458001652      11\n",
      "569   2378935119       9\n",
      "487   2038680547       8\n",
      "44     199603092       5\n",
      "744   3062433592       5\n",
      "55     237748145       5\n",
      "917   3803269165       5\n",
      "299   1230306981       5\n",
      "897   3717692402       5\n"
     ]
    }
   ],
   "source": [
    "print(ordersByUsers.sort_values(by='orders', ascending=False).head(10))  "
   ]
  },
  {
   "cell_type": "code",
   "execution_count": 36,
   "metadata": {},
   "outputs": [
    {
     "data": {
      "image/png": "[encoded data removed]",
      "text/plain": [
       "<Figure size 432x288 with 1 Axes>"
      ]
     },
     "metadata": {
      "needs_background": "light"
     },
     "output_type": "display_data"
    }
   ],
   "source": [
    "# Постройте гистограмму распределения числа заказов по пользователям\n",
    "plt.hist(ordersByUsers['orders'])\n",
    "plt.title('распределения числа заказов по пользователям ')\n",
    "plt.xlabel('Заказы')\n",
    "plt.ylabel('Пользователи')\n",
    "\n",
    "plt.show()"
   ]
  },
  {
   "cell_type": "markdown",
   "metadata": {},
   "source": [
    "Большинство пользователей совершило всего 1 заказ. Однако не ясно, сколько пользователей заказало 2, 3 и более раза. построим график другого вида"
   ]
  },
  {
   "cell_type": "code",
   "execution_count": 37,
   "metadata": {},
   "outputs": [
    {
     "data": {
      "image/png": "[encoded data removed]",
      "text/plain": [
       "<Figure size 432x288 with 1 Axes>"
      ]
     },
     "metadata": {
      "needs_background": "light"
     },
     "output_type": "display_data"
    }
   ],
   "source": [
    "# Построим диаграмму методом scatter()\n",
    "x_values = pd.Series(range(0, len(ordersByUsers)))\n",
    "plt.scatter(x_values, ordersByUsers['orders'])\n",
    "plt.title('Диаграмма scatter ')\n",
    "plt.xlabel('Пользователи')\n",
    "plt.ylabel('Заказы')\n",
    "\n",
    "plt.show()"
   ]
  },
  {
   "cell_type": "markdown",
   "metadata": {},
   "source": [
    "По диаграмме видно, что пользователь заказавших более 2 раз мало, они могут быть анамальными.\n",
    "Нужно посчитать перцентили."
   ]
  },
  {
   "cell_type": "markdown",
   "metadata": {},
   "source": [
    "7.Посчитаем 95-й и 99-й перцентили"
   ]
  },
  {
   "cell_type": "code",
   "execution_count": 38,
   "metadata": {},
   "outputs": [
    {
     "name": "stdout",
     "output_type": "stream",
     "text": [
      "[1. 2. 4.]\n"
     ]
    }
   ],
   "source": [
    "# Метод np.percentile() находит перцентили.\n",
    "print(np.percentile(ordersByUsers['orders'], [90, 95, 99]))\n"
   ]
  },
  {
   "cell_type": "markdown",
   "metadata": {},
   "source": [
    "Из полученных данных можно сделать вывод, что только 5% пользователей от общего числа совершали 2 заказ. 1% процент пользователей совершал 4 заказа"
   ]
  },
  {
   "cell_type": "markdown",
   "metadata": {},
   "source": [
    "8.Построим графики стоимостей заказов"
   ]
  },
  {
   "cell_type": "code",
   "execution_count": 39,
   "metadata": {},
   "outputs": [
    {
     "name": "stdout",
     "output_type": "stream",
     "text": [
      "      transactionId   visitorId       date  revenue group\n",
      "425       590470918  1920142716 2019-08-19  1294500     B\n",
      "1196     3936777065  2108080724 2019-08-15   202740     B\n",
      "858       192721366  1316129916 2019-08-27    93940     A\n",
      "1136      666610489  1307669133 2019-08-13    92550     A\n",
      "744      3668308183   888512513 2019-08-27    86620     B\n",
      "682      1216533772  4266935830 2019-08-29    78990     B\n",
      "662      1811671147  4266935830 2019-08-29    78990     A\n",
      "743      3603576309  4133034833 2019-08-09    67990     A\n",
      "1103     1348774318  1164614297 2019-08-12    66350     A\n",
      "1099      316924019   148427295 2019-08-12    65710     A\n"
     ]
    },
    {
     "data": {
      "image/png": "[encoded data removed]",
      "text/plain": [
       "<Figure size 432x288 with 1 Axes>"
      ]
     },
     "metadata": {
      "needs_background": "light"
     },
     "output_type": "display_data"
    }
   ],
   "source": [
    "# Постройте гистограмму распределения выручек\n",
    "print(orders.sort_values(by='revenue', ascending=False).head(10))\n",
    "plt.hist(orders['revenue'])\n",
    "plt.title('Распределения выручек')\n",
    "plt.xlabel('Заказы')\n",
    "plt.ylabel('Выручка')\n",
    "\n",
    "plt.show()\n"
   ]
  },
  {
   "cell_type": "markdown",
   "metadata": {},
   "source": [
    "Видем по гистаграмме что все заказы меньше 200 тыс однако мы не можем сказать о более дешевых заказах, построим диаграмму scatter()"
   ]
  },
  {
   "cell_type": "code",
   "execution_count": 40,
   "metadata": {},
   "outputs": [
    {
     "data": {
      "image/png": "[encoded data removed]",
      "text/plain": [
       "<Figure size 432x288 with 1 Axes>"
      ]
     },
     "metadata": {
      "needs_background": "light"
     },
     "output_type": "display_data"
    }
   ],
   "source": [
    "x_values = pd.Series(range(0, len(orders['revenue'])))\n",
    "plt.scatter(x_values, orders['revenue'])\n",
    "plt.title('Диаграмма scatter ')\n",
    "plt.xlabel('Выручка')\n",
    "plt.ylabel('Заказы')\n",
    "\n",
    "plt.show()"
   ]
  },
  {
   "cell_type": "markdown",
   "metadata": {},
   "source": [
    "По диаграмме видно что заказов выше 200 тыс нет, есть выбросы в райне 1200 тыс и 200 тыс, но заказ на 1200 тыс выглядит анамально."
   ]
  },
  {
   "cell_type": "markdown",
   "metadata": {},
   "source": [
    "9.Посчитаем 95-й и 99-й перцентили стоимости заказов"
   ]
  },
  {
   "cell_type": "code",
   "execution_count": 41,
   "metadata": {},
   "outputs": [
    {
     "name": "stdout",
     "output_type": "stream",
     "text": [
      "[18168.  28000.  58233.2]\n"
     ]
    }
   ],
   "source": [
    "print(np.percentile(orders['revenue'], [90, 95, 99]))"
   ]
  },
  {
   "cell_type": "markdown",
   "metadata": {},
   "source": [
    "у 5% покупатель чек 28 тыс, а у 1% - 58 тыс"
   ]
  },
  {
   "cell_type": "markdown",
   "metadata": {},
   "source": [
    "10.Посчитаем статистическую значимость различий в конверсии между группами по «сырым» данным"
   ]
  },
  {
   "cell_type": "markdown",
   "metadata": {},
   "source": [
    "Создадим переменные ordersByUsersA и ordersByUsersB со столбцами ['visitorId', 'orders']. В них для пользователей, которые заказывали хотя бы 1 раз, укажем число совершённых заказов. Затем получим семпл каждой группы, вычев из количества поситетелей количество заказов. Проведем тест Уилкоксона-Манна-Уитни для нахождения статистической значимости конверсии между группами."
   ]
  },
  {
   "cell_type": "markdown",
   "metadata": {},
   "source": [
    "<p style=\"font-family: Arial; font-size:1.4em;color:blue;\">  \n",
    "1. Нуливая гипотеза: конверсии в группах А и В равны. \n",
    "2. Альтернативная гипотеза:конверсии в группах А и В отличаются. </p>"
   ]
  },
  {
   "cell_type": "code",
   "execution_count": 42,
   "metadata": {},
   "outputs": [
    {
     "data": {
      "text/html": [
       "<div>\n",
       "<style scoped>\n",
       "    .dataframe tbody tr th:only-of-type {\n",
       "        vertical-align: middle;\n",
       "    }\n",
       "\n",
       "    .dataframe tbody tr th {\n",
       "        vertical-align: top;\n",
       "    }\n",
       "\n",
       "    .dataframe thead th {\n",
       "        text-align: right;\n",
       "    }\n",
       "</style>\n",
       "<table border=\"1\" class=\"dataframe\">\n",
       "  <thead>\n",
       "    <tr style=\"text-align: right;\">\n",
       "      <th></th>\n",
       "      <th>transactionId</th>\n",
       "      <th>visitorId</th>\n",
       "      <th>date</th>\n",
       "      <th>revenue</th>\n",
       "      <th>group</th>\n",
       "    </tr>\n",
       "  </thead>\n",
       "  <tbody>\n",
       "    <tr>\n",
       "      <td>0</td>\n",
       "      <td>3667963787</td>\n",
       "      <td>3312258926</td>\n",
       "      <td>2019-08-15</td>\n",
       "      <td>1650</td>\n",
       "      <td>B</td>\n",
       "    </tr>\n",
       "    <tr>\n",
       "      <td>1</td>\n",
       "      <td>2804400009</td>\n",
       "      <td>3642806036</td>\n",
       "      <td>2019-08-15</td>\n",
       "      <td>730</td>\n",
       "      <td>B</td>\n",
       "    </tr>\n",
       "    <tr>\n",
       "      <td>2</td>\n",
       "      <td>2961555356</td>\n",
       "      <td>4069496402</td>\n",
       "      <td>2019-08-15</td>\n",
       "      <td>400</td>\n",
       "      <td>A</td>\n",
       "    </tr>\n",
       "    <tr>\n",
       "      <td>3</td>\n",
       "      <td>3797467345</td>\n",
       "      <td>1196621759</td>\n",
       "      <td>2019-08-15</td>\n",
       "      <td>9759</td>\n",
       "      <td>B</td>\n",
       "    </tr>\n",
       "    <tr>\n",
       "      <td>4</td>\n",
       "      <td>2282983706</td>\n",
       "      <td>2322279887</td>\n",
       "      <td>2019-08-15</td>\n",
       "      <td>2308</td>\n",
       "      <td>B</td>\n",
       "    </tr>\n",
       "    <tr>\n",
       "      <td>...</td>\n",
       "      <td>...</td>\n",
       "      <td>...</td>\n",
       "      <td>...</td>\n",
       "      <td>...</td>\n",
       "      <td>...</td>\n",
       "    </tr>\n",
       "    <tr>\n",
       "      <td>1192</td>\n",
       "      <td>2662137336</td>\n",
       "      <td>3733762160</td>\n",
       "      <td>2019-08-14</td>\n",
       "      <td>6490</td>\n",
       "      <td>B</td>\n",
       "    </tr>\n",
       "    <tr>\n",
       "      <td>1193</td>\n",
       "      <td>2203539145</td>\n",
       "      <td>370388673</td>\n",
       "      <td>2019-08-14</td>\n",
       "      <td>3190</td>\n",
       "      <td>A</td>\n",
       "    </tr>\n",
       "    <tr>\n",
       "      <td>1194</td>\n",
       "      <td>1807773912</td>\n",
       "      <td>573423106</td>\n",
       "      <td>2019-08-14</td>\n",
       "      <td>10550</td>\n",
       "      <td>A</td>\n",
       "    </tr>\n",
       "    <tr>\n",
       "      <td>1195</td>\n",
       "      <td>1947021204</td>\n",
       "      <td>1614305549</td>\n",
       "      <td>2019-08-14</td>\n",
       "      <td>100</td>\n",
       "      <td>A</td>\n",
       "    </tr>\n",
       "    <tr>\n",
       "      <td>1196</td>\n",
       "      <td>3936777065</td>\n",
       "      <td>2108080724</td>\n",
       "      <td>2019-08-15</td>\n",
       "      <td>202740</td>\n",
       "      <td>B</td>\n",
       "    </tr>\n",
       "  </tbody>\n",
       "</table>\n",
       "<p>1197 rows × 5 columns</p>\n",
       "</div>"
      ],
      "text/plain": [
       "      transactionId   visitorId       date  revenue group\n",
       "0        3667963787  3312258926 2019-08-15     1650     B\n",
       "1        2804400009  3642806036 2019-08-15      730     B\n",
       "2        2961555356  4069496402 2019-08-15      400     A\n",
       "3        3797467345  1196621759 2019-08-15     9759     B\n",
       "4        2282983706  2322279887 2019-08-15     2308     B\n",
       "...             ...         ...        ...      ...   ...\n",
       "1192     2662137336  3733762160 2019-08-14     6490     B\n",
       "1193     2203539145   370388673 2019-08-14     3190     A\n",
       "1194     1807773912   573423106 2019-08-14    10550     A\n",
       "1195     1947021204  1614305549 2019-08-14      100     A\n",
       "1196     3936777065  2108080724 2019-08-15   202740     B\n",
       "\n",
       "[1197 rows x 5 columns]"
      ]
     },
     "execution_count": 42,
     "metadata": {},
     "output_type": "execute_result"
    }
   ],
   "source": [
    "orders"
   ]
  },
  {
   "cell_type": "code",
   "execution_count": 43,
   "metadata": {
    "scrolled": true
   },
   "outputs": [
    {
     "data": {
      "text/html": [
       "<div>\n",
       "<style scoped>\n",
       "    .dataframe tbody tr th:only-of-type {\n",
       "        vertical-align: middle;\n",
       "    }\n",
       "\n",
       "    .dataframe tbody tr th {\n",
       "        vertical-align: top;\n",
       "    }\n",
       "\n",
       "    .dataframe thead th {\n",
       "        text-align: right;\n",
       "    }\n",
       "</style>\n",
       "<table border=\"1\" class=\"dataframe\">\n",
       "  <thead>\n",
       "    <tr style=\"text-align: right;\">\n",
       "      <th></th>\n",
       "      <th>date</th>\n",
       "      <th>ordersPerDateA</th>\n",
       "      <th>revenuePerDateA</th>\n",
       "      <th>ordersPerDateB</th>\n",
       "      <th>revenuePerDateB</th>\n",
       "      <th>ordersCummulativeA</th>\n",
       "      <th>revenueCummulativeA</th>\n",
       "      <th>ordersCummulativeB</th>\n",
       "      <th>revenueCummulativeB</th>\n",
       "      <th>visitorsPerDateA</th>\n",
       "      <th>visitorsPerDateB</th>\n",
       "      <th>visitorsCummulativeA</th>\n",
       "      <th>visitorsCummulativeB</th>\n",
       "    </tr>\n",
       "  </thead>\n",
       "  <tbody>\n",
       "    <tr>\n",
       "      <td>0</td>\n",
       "      <td>2019-08-01</td>\n",
       "      <td>24</td>\n",
       "      <td>148579</td>\n",
       "      <td>21</td>\n",
       "      <td>101217</td>\n",
       "      <td>24</td>\n",
       "      <td>148579</td>\n",
       "      <td>21</td>\n",
       "      <td>101217</td>\n",
       "      <td>719</td>\n",
       "      <td>713</td>\n",
       "      <td>719</td>\n",
       "      <td>713</td>\n",
       "    </tr>\n",
       "    <tr>\n",
       "      <td>1</td>\n",
       "      <td>2019-08-02</td>\n",
       "      <td>20</td>\n",
       "      <td>93822</td>\n",
       "      <td>24</td>\n",
       "      <td>165531</td>\n",
       "      <td>44</td>\n",
       "      <td>242401</td>\n",
       "      <td>45</td>\n",
       "      <td>266748</td>\n",
       "      <td>619</td>\n",
       "      <td>581</td>\n",
       "      <td>1338</td>\n",
       "      <td>1294</td>\n",
       "    </tr>\n",
       "    <tr>\n",
       "      <td>2</td>\n",
       "      <td>2019-08-03</td>\n",
       "      <td>24</td>\n",
       "      <td>112473</td>\n",
       "      <td>16</td>\n",
       "      <td>114248</td>\n",
       "      <td>68</td>\n",
       "      <td>354874</td>\n",
       "      <td>61</td>\n",
       "      <td>380996</td>\n",
       "      <td>507</td>\n",
       "      <td>509</td>\n",
       "      <td>1845</td>\n",
       "      <td>1803</td>\n",
       "    </tr>\n",
       "    <tr>\n",
       "      <td>3</td>\n",
       "      <td>2019-08-04</td>\n",
       "      <td>16</td>\n",
       "      <td>70825</td>\n",
       "      <td>17</td>\n",
       "      <td>108571</td>\n",
       "      <td>84</td>\n",
       "      <td>425699</td>\n",
       "      <td>78</td>\n",
       "      <td>489567</td>\n",
       "      <td>717</td>\n",
       "      <td>770</td>\n",
       "      <td>2562</td>\n",
       "      <td>2573</td>\n",
       "    </tr>\n",
       "    <tr>\n",
       "      <td>4</td>\n",
       "      <td>2019-08-05</td>\n",
       "      <td>25</td>\n",
       "      <td>124218</td>\n",
       "      <td>23</td>\n",
       "      <td>92428</td>\n",
       "      <td>109</td>\n",
       "      <td>549917</td>\n",
       "      <td>101</td>\n",
       "      <td>581995</td>\n",
       "      <td>756</td>\n",
       "      <td>707</td>\n",
       "      <td>3318</td>\n",
       "      <td>3280</td>\n",
       "    </tr>\n",
       "  </tbody>\n",
       "</table>\n",
       "</div>"
      ],
      "text/plain": [
       "        date  ordersPerDateA  revenuePerDateA  ordersPerDateB  \\\n",
       "0 2019-08-01              24           148579              21   \n",
       "1 2019-08-02              20            93822              24   \n",
       "2 2019-08-03              24           112473              16   \n",
       "3 2019-08-04              16            70825              17   \n",
       "4 2019-08-05              25           124218              23   \n",
       "\n",
       "   revenuePerDateB  ordersCummulativeA  revenueCummulativeA  \\\n",
       "0           101217                  24               148579   \n",
       "1           165531                  44               242401   \n",
       "2           114248                  68               354874   \n",
       "3           108571                  84               425699   \n",
       "4            92428                 109               549917   \n",
       "\n",
       "   ordersCummulativeB  revenueCummulativeB  visitorsPerDateA  \\\n",
       "0                  21               101217               719   \n",
       "1                  45               266748               619   \n",
       "2                  61               380996               507   \n",
       "3                  78               489567               717   \n",
       "4                 101               581995               756   \n",
       "\n",
       "   visitorsPerDateB  visitorsCummulativeA  visitorsCummulativeB  \n",
       "0               713                   719                   713  \n",
       "1               581                  1338                  1294  \n",
       "2               509                  1845                  1803  \n",
       "3               770                  2562                  2573  \n",
       "4               707                  3318                  3280  "
      ]
     },
     "execution_count": 43,
     "metadata": {},
     "output_type": "execute_result"
    }
   ],
   "source": [
    "# Посчитаем статистическую значимость различий в конверсии и среднем чеке между группами по «сырым» данным — без удаления аномальных пользователей.\n",
    "visitorsADaily = visitors[visitors['group']=='A'][['date', 'visitors']]\n",
    "visitorsADaily.columns = ['date', 'visitorsPerDateA']\n",
    "\n",
    "visitorsACummulative = visitorsADaily.apply(\n",
    "    lambda x: visitorsADaily[visitorsADaily['date'] <= x['date']].agg(\n",
    "        {'date': 'max', 'visitorsPerDateA': 'sum'}\n",
    "    ),\n",
    "    axis=1,\n",
    ")\n",
    "visitorsACummulative.columns = ['date', 'visitorsCummulativeA']\n",
    "\n",
    "visitorsBDaily = visitors[visitors['group'] == 'B'][['date', 'visitors']]\n",
    "visitorsBDaily.columns = ['date', 'visitorsPerDateB']\n",
    "\n",
    "visitorsBCummulative = visitorsBDaily.apply(\n",
    "    lambda x: visitorsBDaily[visitorsBDaily['date'] <= x['date']].agg(\n",
    "        {'date': 'max', 'visitorsPerDateB': 'sum'}\n",
    "    ),\n",
    "    axis=1,\n",
    ")\n",
    "visitorsBCummulative.columns = ['date', 'visitorsCummulativeB']\n",
    "\n",
    "ordersADaily = (\n",
    "    orders[orders['group'] == 'A'][['date', 'transactionId', 'visitorId', 'revenue']]\n",
    "    .groupby('date', as_index=False)\n",
    "    .agg({'transactionId': pd.Series.nunique, 'revenue': 'sum'})\n",
    ")\n",
    "ordersADaily.columns = ['date', 'ordersPerDateA', 'revenuePerDateA']\n",
    "\n",
    "ordersACummulative = ordersADaily.apply(\n",
    "    lambda x: ordersADaily[ordersADaily['date'] <= x['date']].agg(\n",
    "        {'date': 'max', 'ordersPerDateA': 'sum', 'revenuePerDateA': 'sum'}\n",
    "    ),\n",
    "    axis=1,\n",
    ").sort_values(by=['date'])\n",
    "ordersACummulative.columns = [\n",
    "    'date',\n",
    "    'ordersCummulativeA',\n",
    "    'revenueCummulativeA',\n",
    "]\n",
    "\n",
    "ordersBDaily = (\n",
    "    orders[orders['group'] == 'B'][['date', 'transactionId', 'visitorId', 'revenue']]\n",
    "    .groupby('date', as_index=False)\n",
    "    .agg({'transactionId': pd.Series.nunique, 'revenue': 'sum'})\n",
    ")\n",
    "ordersBDaily.columns = ['date', 'ordersPerDateB', 'revenuePerDateB']\n",
    "\n",
    "ordersBCummulative = ordersBDaily.apply(\n",
    "    lambda x: ordersBDaily[ordersBDaily['date'] <= x['date']].agg(\n",
    "        {'date': 'max', 'ordersPerDateB': 'sum', 'revenuePerDateB': 'sum'}\n",
    "    ),\n",
    "    axis=1,\n",
    ").sort_values(by=['date'])\n",
    "ordersBCummulative.columns = [\n",
    "    'date',\n",
    "    'ordersCummulativeB',\n",
    "    'revenueCummulativeB',\n",
    "]\n",
    "\n",
    "data = (\n",
    "    ordersADaily.merge(\n",
    "        ordersBDaily, left_on='date', right_on='date', how='left'\n",
    "    )\n",
    "    .merge(ordersACummulative, left_on='date', right_on='date', how='left')\n",
    "    .merge(ordersBCummulative, left_on='date', right_on='date', how='left')\n",
    "    .merge(visitorsADaily, left_on='date', right_on='date', how='left')\n",
    "    .merge(visitorsBDaily, left_on='date', right_on='date', how='left')\n",
    "    .merge(visitorsACummulative, left_on='date', right_on='date', how='left')\n",
    "    .merge(visitorsBCummulative, left_on='date', right_on='date', how='left')\n",
    ")\n",
    "\n",
    "data.head(5)\n"
   ]
  },
  {
   "cell_type": "markdown",
   "metadata": {},
   "source": [
    "<p style=\"font-family: Arial; font-size:1.4em;color:blue;\">  Комментарий студента: Исправила </p>"
   ]
  },
  {
   "cell_type": "code",
   "execution_count": 44,
   "metadata": {},
   "outputs": [],
   "source": [
    "# Посчитаем статистическую значимость различия в конверсии между группами\n",
    "ordersByUsersA = (\n",
    "    orders[orders['group'] == 'A']\n",
    "    .groupby('visitorId', as_index=False)\n",
    "    .agg({'transactionId': pd.Series.nunique})\n",
    ")\n",
    "ordersByUsersA.columns = ['visitorId', 'orders']\n",
    "\n",
    "ordersByUsersB = (\n",
    "    orders[orders['group'] == 'B']\n",
    "    .groupby('visitorId', as_index=False)\n",
    "    .agg({'transactionId': pd.Series.nunique})\n",
    ")\n",
    "ordersByUsersB.columns = ['visitorId', 'orders'] \n"
   ]
  },
  {
   "cell_type": "code",
   "execution_count": 45,
   "metadata": {},
   "outputs": [
    {
     "name": "stdout",
     "output_type": "stream",
     "text": [
      "p-value нулевой гипотезы о равенстве конверсий в группах А и В: 0.008\n",
      "Относительный прирост группы B составляет:13.808%\n"
     ]
    }
   ],
   "source": [
    "# Объявим переменные sampleA и sampleB, в которых пользователям из разных групп будет соответствовать количество заказов\n",
    "sampleA = pd.concat(\n",
    "    [\n",
    "        ordersByUsersA['orders'],\n",
    "        pd.Series(\n",
    "            0,\n",
    "            index=np.arange(\n",
    "                data['visitorsPerDateA'].sum() - len(ordersByUsersA['orders'])\n",
    "            ),\n",
    "            name='orders',\n",
    "        ),\n",
    "    ],\n",
    "    axis=0,\n",
    ")\n",
    "\n",
    "sampleB = pd.concat(\n",
    "    [\n",
    "        ordersByUsersB['orders'],\n",
    "        pd.Series(\n",
    "            0,\n",
    "            index=np.arange(\n",
    "                data['visitorsPerDateB'].sum() - len(ordersByUsersB['orders'])\n",
    "            ),\n",
    "            name='orders',\n",
    "        ),\n",
    "    ],\n",
    "    axis=0,\n",
    ")\n",
    "\n",
    "print(\"p-value нулевой гипотезы о равенстве конверсий в группах А и В: {0:.3f}\".format(stats.mannwhitneyu(sampleA, sampleB)[1]))\n",
    "\n",
    "print(\"Относительный прирост группы B составляет:{0:.3%}\".format(sampleB.mean() / sampleA.mean() - 1))\n",
    " "
   ]
  },
  {
   "cell_type": "code",
   "execution_count": 46,
   "metadata": {},
   "outputs": [
    {
     "name": "stdout",
     "output_type": "stream",
     "text": [
      "p-value нулевой гипотезы о равенстве среднего чека в группах А и В: 0.365\n",
      "Относительный прирост среднего чека в группе B: 25.87%\n"
     ]
    }
   ],
   "source": [
    "print(\"p-value нулевой гипотезы о равенстве среднего чека в группах А и В: {0:.3f}\".format(stats.mannwhitneyu(orders[orders['group']=='A']['revenue'], orders[orders['group']=='B']['revenue'])[1]))\n",
    "print(\"Относительный прирост среднего чека в группе B: {0:.2%}\".format(orders[orders['group']=='B']['revenue'].mean()/orders[orders['group']=='A']['revenue'].mean()-1)) \n"
   ]
  },
  {
   "cell_type": "markdown",
   "metadata": {},
   "source": [
    "Нулевая гипотеза о равенстве конверсий в группах отклонена при p-value равном 0.008, относительный прирост составляет 13.81%, это неплохой показатель, но нужно понять не случилось ли такое изменение благодаря всего нескольким случайным аномальным событиям\n",
    "\n",
    "Нулевая гипотеза о равенств среднего чека не может быть отклонена, при p-value равном 0.365 это слишком большая вероятность получить такую разницу случайно. Средний чек отличается, относительный прирост в 25.87% это подтверждает."
   ]
  },
  {
   "cell_type": "code",
   "execution_count": 47,
   "metadata": {},
   "outputs": [
    {
     "name": "stdout",
     "output_type": "stream",
     "text": [
      "1099     148427295\n",
      "949      887908475\n",
      "744      888512513\n",
      "1103    1164614297\n",
      "1136    1307669133\n",
      "Name: visitorId, dtype: int64\n",
      "(15,)\n"
     ]
    }
   ],
   "source": [
    "# Количество пользователей c аномальными значениями  в заказах в пределах 99-го процентиля\n",
    "usersWithManyOrders = pd.concat(\n",
    "    [\n",
    "        ordersByUsersA[ordersByUsersA['orders'] > 4]['visitorId'],\n",
    "        ordersByUsersB[ordersByUsersB['orders'] > 4]['visitorId'],\n",
    "    ],\n",
    "    axis=0,\n",
    ")\n",
    "usersWithExpensiveOrders = orders[orders['revenue'] > 58233]['visitorId']\n",
    "abnormalUsers = (\n",
    "    pd.concat([usersWithManyOrders, usersWithExpensiveOrders], axis=0)\n",
    "    .drop_duplicates()\n",
    "    .sort_values()\n",
    ")\n",
    "print(abnormalUsers.head(5))\n",
    "print(abnormalUsers.shape) "
   ]
  },
  {
   "cell_type": "markdown",
   "metadata": {},
   "source": [
    "Количество пользователей c аномальными значениями  в заказах в пределах 99-го процентиля: 15"
   ]
  },
  {
   "cell_type": "markdown",
   "metadata": {},
   "source": [
    "Узнаем, как их действия повлияли на результаты теста. Посчитаем статистическую значимость различий в конверсии между группами теста по очищенным данным. Сначала подготовим выборки количества заказов по пользователям по группам теста"
   ]
  },
  {
   "cell_type": "code",
   "execution_count": 48,
   "metadata": {},
   "outputs": [],
   "source": [
    "sampleAFiltered = pd.concat(\n",
    "    [\n",
    "        ordersByUsersA[\n",
    "            np.logical_not(ordersByUsersA['visitorId'].isin(abnormalUsers))\n",
    "        ]['orders'],\n",
    "        pd.Series(\n",
    "            0,\n",
    "            index=np.arange(\n",
    "                data['visitorsPerDateA'].sum() - len(ordersByUsersA['orders'])\n",
    "            ),\n",
    "            name='orders',\n",
    "        ),\n",
    "    ],\n",
    "    axis=0,\n",
    ")\n",
    "\n",
    "sampleBFiltered = pd.concat(\n",
    "    [\n",
    "        ordersByUsersB[\n",
    "            np.logical_not(ordersByUsersB['visitorId'].isin(abnormalUsers))\n",
    "        ]['orders'],\n",
    "        pd.Series(\n",
    "            0,\n",
    "            index=np.arange(\n",
    "                data['visitorsPerDateB'].sum() - len(ordersByUsersB['orders'])\n",
    "            ),\n",
    "            name='orders',\n",
    "        ),\n",
    "    ],\n",
    "    axis=0,\n",
    ") \n"
   ]
  },
  {
   "cell_type": "code",
   "execution_count": 53,
   "metadata": {},
   "outputs": [
    {
     "name": "stdout",
     "output_type": "stream",
     "text": [
      "p-value нулевой гипотезы о равенстве конверсий в группах А и В для 99 процентилей: 0.011\n",
      "Относительный прирост группы B для 99 процентилей составляет:20.43%\n"
     ]
    }
   ],
   "source": [
    "# Применим статистический критерий Манна-Уитни к полученным выборкам:\n",
    "print(\"p-value нулевой гипотезы о равенстве конверсий в группах А и В для 99 процентилей: {0:.3f}\".format(stats.mannwhitneyu(sampleAFiltered, sampleBFiltered, alternative = 'two-sided')[1]))\n",
    "print(\"Относительный прирост группы B для 99 процентилей составляет:{0:.2%}\".format(sampleBFiltered.mean()/sampleAFiltered.mean()-1)) \n"
   ]
  },
  {
   "cell_type": "markdown",
   "metadata": {},
   "source": [
    "<p style=\"font-family: Arial; font-size:1.4em;color:blue;\">  Добавила alternative = 'two-sided', да действительно поменялись цифры) </p>"
   ]
  },
  {
   "cell_type": "code",
   "execution_count": 54,
   "metadata": {},
   "outputs": [
    {
     "name": "stdout",
     "output_type": "stream",
     "text": [
      "p-value нулевой гипотезы о равенстве среднего чека в группах А и В для 99 процентилей:0.394\n",
      "Относительный прирост среднего чека в группе B для 99 процентилей: -1.66%\n"
     ]
    }
   ],
   "source": [
    "# результататы по среднему чеку\n",
    "print(\n",
    "    \"p-value нулевой гипотезы о равенстве среднего чека в группах А и В для 99 процентилей:{0:.3f}\".format(\n",
    "        stats.mannwhitneyu(\n",
    "            orders[\n",
    "                np.logical_and(\n",
    "                    orders['group'] == 'A',\n",
    "                    np.logical_not(orders['visitorId'].isin(abnormalUsers)),\n",
    "                )\n",
    "            ]['revenue'],\n",
    "            orders[\n",
    "                np.logical_and(\n",
    "                    orders['group'] == 'B',\n",
    "                    np.logical_not(orders['visitorId'].isin(abnormalUsers)),\n",
    "                )\n",
    "            ]['revenue'],\n",
    "        )[1]\n",
    "    )\n",
    ")\n",
    "\n",
    "print(\n",
    "    \"Относительный прирост среднего чека в группе B для 99 процентилей: {0:.2%}\".format(\n",
    "        orders[\n",
    "            np.logical_and(\n",
    "                orders['group'] == 'B',\n",
    "                np.logical_not(orders['visitorId'].isin(abnormalUsers)),\n",
    "            )\n",
    "        ]['revenue'].mean()\n",
    "        / orders[\n",
    "            np.logical_and(\n",
    "                orders['group'] == 'A',\n",
    "                np.logical_not(orders['visitorId'].isin(abnormalUsers)),\n",
    "            )\n",
    "        ]['revenue'].mean()\n",
    "        - 1\n",
    "    )\n",
    ")"
   ]
  },
  {
   "cell_type": "code",
   "execution_count": 55,
   "metadata": {},
   "outputs": [
    {
     "name": "stdout",
     "output_type": "stream",
     "text": [
      "1099    148427295\n",
      "18      199603092\n",
      "928     204675465\n",
      "23      237748145\n",
      "684     358944393\n",
      "Name: visitorId, dtype: int64\n",
      "(68,)\n"
     ]
    }
   ],
   "source": [
    "# Количество пользователей c аномальными значениями в заказах в пределах 95-го процентиля\n",
    "usersWithManyOrders = pd.concat(\n",
    "    [\n",
    "        ordersByUsersA[ordersByUsersA['orders'] > 2]['visitorId'],\n",
    "        ordersByUsersB[ordersByUsersB['orders'] > 4]['visitorId'],\n",
    "    ],\n",
    "    axis=0,\n",
    ")\n",
    "usersWithExpensiveOrders = orders[orders['revenue'] > 28000]['visitorId']\n",
    "abnormalUsers = (\n",
    "    pd.concat([usersWithManyOrders, usersWithExpensiveOrders], axis=0)\n",
    "    .drop_duplicates()\n",
    "    .sort_values()\n",
    ")\n",
    "print(abnormalUsers.head(5))\n",
    "print(abnormalUsers.shape) \n"
   ]
  },
  {
   "cell_type": "code",
   "execution_count": 56,
   "metadata": {},
   "outputs": [
    {
     "name": "stdout",
     "output_type": "stream",
     "text": [
      "p-value нулевой гипотезы о равенстве конверсий в группах А и В для 95 процентилей: 0.006\n",
      "Относительный прирост группы B для 95 процентилей составляет: 20.43%\n",
      "p-value нулевой гипотезы о равенстве среднего чека в группах А и В для 95 процентилей: 0.394\n",
      "Относительный прирост среднего чека в группе B для 95 процентилей: -1.66%\n"
     ]
    }
   ],
   "source": [
    "# тоже самое сделаем и с 95 - процентилем\n",
    "sampleAFiltered = pd.concat([ordersByUsersA[np.logical_not(ordersByUsersA['visitorId'].isin(abnormalUsers))]['orders'],\n",
    "                             pd.Series(0, index=np.arange(data['visitorsPerDateA'].sum() - len(ordersByUsersA['orders'])),\n",
    "                                       name='orders')],axis=0)\n",
    "\n",
    "sampleBFiltered = pd.concat([ordersByUsersB[np.logical_not(ordersByUsersB['visitorId'].isin(abnormalUsers))]['orders'],\n",
    "                             pd.Series(0, index=np.arange(data['visitorsPerDateB'].sum() - len(ordersByUsersB['orders'])),\n",
    "                                       name='orders')],axis=0)\n",
    "\n",
    "print(\"p-value нулевой гипотезы о равенстве конверсий в группах А и В для 95 процентилей: {0:.3f}\".format(stats.mannwhitneyu(sampleAFiltered,\n",
    "                                                                                                          sampleBFiltered)[1]))\n",
    "\n",
    "print(\"Относительный прирост группы B для 95 процентилей составляет: {0:.2%}\".format(sampleBFiltered.mean()/sampleAFiltered.mean()-1))\n",
    "\n",
    "print(\"p-value нулевой гипотезы о равенстве среднего чека в группах А и В для 95 процентилей: {0:.3f}\".format(stats.mannwhitneyu(\n",
    "    orders[np.logical_and(\n",
    "        orders['group']=='A',\n",
    "        np.logical_not(orders['visitorId'].isin(abnormalUsers)))]['revenue'],\n",
    "    orders[np.logical_and(\n",
    "        orders['group']=='B',\n",
    "        np.logical_not(orders['visitorId'].isin(abnormalUsers)))]['revenue'])[1]))\n",
    "\n",
    "print(\"Относительный прирост среднего чека в группе B для 95 процентилей: {0:.2%}\".format(\n",
    "    orders[np.logical_and(orders['group']=='B',np.logical_not(orders['visitorId'].isin(abnormalUsers)))]['revenue'].mean()/\n",
    "    orders[np.logical_and(\n",
    "        orders['group']=='A',\n",
    "        np.logical_not(orders['visitorId'].isin(abnormalUsers)))]['revenue'].mean() - 1))"
   ]
  },
  {
   "cell_type": "markdown",
   "metadata": {},
   "source": [
    "Результаты:\n",
    "\n",
    "Количество пользователей c аномальными значениями в заказах в пределах 95-го процентиля: 68\n",
    "1. p-value нулевой гипотезы о равенстве конверсий в группах А и В для 95 процентилей: 0.006\n",
    "2. Относительный прирост группы B для 95 процентилей составляет: 20.43%\n",
    "3. p-value нулевой гипотезы о равенстве среднего чека в группах А и В для 95 процентилей: 0.394\n",
    "4. Относительный прирост среднего чека в группе B для 95 процентилей: -1.66%\n",
    "\n",
    "Количество пользователей c аномальными значениями в заказах в пределах 99-го процентиля: 15\n",
    "1. p-value нулевой гипотезы о равенстве конверсий в группах А и В для 99 процентиля: 0.007 (0,011)\n",
    "2. Относительный прирост группы B для 99 процентиля составляет: 15.33% (20,43%)\n",
    "3. p-value нулевой гипотезы о равенстве среднего чека в группах А и В для 99 процентиля: 0.425 (0,394)\n",
    "4. Относительный прирост среднего чека в группе B для 99 процентиля: -0.57% (-1,66%)\n",
    "\n",
    "Данные без фильтра:\n",
    "1. p-value нулевой гипотезы о равенстве конверсий в группах А и В: 0.008\n",
    "2. Относительный прирост группы B составляет: 13.81%\n",
    "3. p-value нулевой гипотезы о равенстве среднего чека в группах А и В: 0.365\n",
    "4. Относительный прирост среднего чека в группе B: 25.87%"
   ]
  },
  {
   "cell_type": "markdown",
   "metadata": {},
   "source": [
    "# Вывод\n",
    "При проверке данных мы нашли ошибки, когда в двух группах содержаться оди и теже пользователи. Ошибок не очень много мы продолжаем эксперемент.\n",
    "\n",
    "При анализе гипотез мы нашла гипотезы которые проанализируем \n",
    "* 8 (Запустить акцию, дающую скидку на товар в день рождения),\n",
    "* 7 (Добавить форму подписки на все основные страницы, чтобы собрать базу клиентов для email-рассылок),\n",
    "* 2 (Добавить блоки рекомендаций товаров на сайт интернет магазина, чтобы повысить конверсию и средний чек заказа),\n",
    "* 0 (Добавить два новых канала привлечения трафика, что позволит привлекать на 30% больше пользователей),\n",
    "* 6 (Показать на главной странице баннеры с актуальными акциями и распродажами, чтобы увеличить конверсию),\n",
    "В первую очередь нужно проверить гипотезу\n",
    "* 7 (Добавить форму подписки на все основные страницы, чтобы собрать базу клиентов для email-рассылок),\n",
    "* 0 (Добавить два новых канала привлечения трафика, что позволит привлекать на 30% больше пользователей)\n",
    "\n",
    "По куммулитивным метрикам видно:\n",
    "По среднему чеку видем, что группа В сначала приносила больший среднний чек, а затем немножко просела. После наблюдается резкий скачок. Скорее всего это аномальные значения в группе В.\n",
    "В графике относительного  различия кумулятивного среднего чека группы B к группе A. - Результаты теста значительно и резко менялись в несколько дат. Видимо, именно тогда были совершены аномальные заказы.\n",
    "В кумулятивной конверсии, в начале группа А имела большую коныкрсию чем В, но дальше у группы В конверсия становится луше и да конца теста у группы В конверсия выше группы А.\n",
    "По расчетам заказов в день, видим что заказы совершались не более одного раза.\n",
    "Посчитали 95-й и 99-й перцентили и выявили, что Из полученных данных можно сделать вывод, что только 5% пользователей от общего числа совершали 2 заказ. 1% процент пользователей совершал 4 заказа.\n",
    "Посчитали стоимость заказов по  95-й и 99-й перцентили, стоимость заказа были на 95 перцентиле -28000 ед, перцентили 99 - 58233.2 ед.\n",
    "\n",
    "Провели гипотезы:\n",
    "Во всех случаях гипотеза о равенстве конверсий может быть отколнена, p-value слишком мал\n",
    "Относительный прирост конверсии с 13.81% поднимается до 20.43% при фильтрации данных\n",
    "Гипотезу о равенстве среднего чека во всех случаях нельзя отклонить, такие различия можно получить и случайно.\n",
    "Относительный прирост при фильтрации данных сходит на нет и даже становится отрицательным для группы В\n",
    "\n",
    "Эти результаты говорят о том, что конверсия для группы В действительно выше группы А, а средний чек с большой вероятностью одинаковый, различия возникли из за аномальных заказов.\n",
    "Тест можно признать успешным."
   ]
  },
  {
   "cell_type": "code",
   "execution_count": null,
   "metadata": {},
   "outputs": [],
   "source": []
  }
 ],
 "metadata": {
  "ExecuteTimeLog": [
   {
    "duration": 120,
    "start_time": "2021-07-28T08:35:22.762Z"
   },
   {
    "duration": 1228,
    "start_time": "2021-07-28T08:37:37.879Z"
   },
   {
    "duration": 64,
    "start_time": "2021-07-28T08:39:31.802Z"
   },
   {
    "duration": 10,
    "start_time": "2021-07-28T08:39:52.051Z"
   },
   {
    "duration": 3,
    "start_time": "2021-07-28T08:49:55.140Z"
   },
   {
    "duration": 21,
    "start_time": "2021-07-28T09:14:09.218Z"
   },
   {
    "duration": 453,
    "start_time": "2021-07-28T09:17:57.707Z"
   },
   {
    "duration": 8,
    "start_time": "2021-07-28T09:18:05.265Z"
   },
   {
    "duration": 6,
    "start_time": "2021-07-28T09:18:18.927Z"
   },
   {
    "duration": 6,
    "start_time": "2021-07-28T09:20:00.922Z"
   },
   {
    "duration": 14,
    "start_time": "2021-07-28T09:20:05.622Z"
   },
   {
    "duration": 8,
    "start_time": "2021-07-28T09:20:33.398Z"
   },
   {
    "duration": 188,
    "start_time": "2021-07-28T09:21:54.549Z"
   },
   {
    "duration": 18,
    "start_time": "2021-07-28T09:22:21.333Z"
   },
   {
    "duration": 9,
    "start_time": "2021-07-28T09:22:32.230Z"
   },
   {
    "duration": 18,
    "start_time": "2021-07-28T09:23:12.315Z"
   },
   {
    "duration": 8,
    "start_time": "2021-07-28T09:23:38.186Z"
   },
   {
    "duration": 31,
    "start_time": "2021-07-28T09:23:45.133Z"
   },
   {
    "duration": 11,
    "start_time": "2021-07-28T09:24:22.882Z"
   },
   {
    "duration": 7,
    "start_time": "2021-07-28T09:24:38.752Z"
   },
   {
    "duration": 16,
    "start_time": "2021-07-28T09:25:24.720Z"
   },
   {
    "duration": 8,
    "start_time": "2021-07-28T09:25:37.307Z"
   },
   {
    "duration": 19,
    "start_time": "2021-07-28T09:26:26.106Z"
   },
   {
    "duration": 7,
    "start_time": "2021-07-28T09:26:45.986Z"
   },
   {
    "duration": 3,
    "start_time": "2021-07-28T09:30:42.355Z"
   },
   {
    "duration": 12,
    "start_time": "2021-07-28T09:32:34.290Z"
   },
   {
    "duration": 17,
    "start_time": "2021-07-28T09:35:31.662Z"
   },
   {
    "duration": 583,
    "start_time": "2021-07-28T09:38:16.535Z"
   },
   {
    "duration": 394,
    "start_time": "2021-07-28T09:38:23.196Z"
   },
   {
    "duration": 15,
    "start_time": "2021-07-28T09:38:28.746Z"
   },
   {
    "duration": 15,
    "start_time": "2021-07-28T09:39:36.906Z"
   },
   {
    "duration": 299,
    "start_time": "2021-07-28T09:40:41.776Z"
   },
   {
    "duration": 13,
    "start_time": "2021-07-28T09:41:09.432Z"
   },
   {
    "duration": 135,
    "start_time": "2021-07-28T09:44:27.352Z"
   },
   {
    "duration": 12,
    "start_time": "2021-07-28T09:44:40.883Z"
   },
   {
    "duration": 4,
    "start_time": "2021-07-28T09:52:53.276Z"
   },
   {
    "duration": 18,
    "start_time": "2021-07-28T09:58:08.302Z"
   },
   {
    "duration": 15,
    "start_time": "2021-07-28T09:58:42.262Z"
   },
   {
    "duration": 9884,
    "start_time": "2021-07-28T09:59:01.593Z"
   },
   {
    "duration": 567,
    "start_time": "2021-07-28T10:01:12.451Z"
   },
   {
    "duration": 586,
    "start_time": "2021-07-28T10:02:57.007Z"
   },
   {
    "duration": 129,
    "start_time": "2021-07-28T10:04:26.560Z"
   },
   {
    "duration": 987,
    "start_time": "2021-07-28T10:04:52.762Z"
   },
   {
    "duration": 4318,
    "start_time": "2021-07-28T10:08:55.797Z"
   },
   {
    "duration": 576,
    "start_time": "2021-07-28T10:09:32.379Z"
   },
   {
    "duration": 11,
    "start_time": "2021-07-28T10:10:48.975Z"
   },
   {
    "duration": 10,
    "start_time": "2021-07-28T10:11:17.039Z"
   },
   {
    "duration": 389,
    "start_time": "2021-07-28T10:11:39.756Z"
   },
   {
    "duration": 116,
    "start_time": "2021-07-28T10:12:40.922Z"
   },
   {
    "duration": 326,
    "start_time": "2021-07-28T10:12:46.012Z"
   },
   {
    "duration": 643,
    "start_time": "2021-07-28T10:13:43.352Z"
   },
   {
    "duration": 316,
    "start_time": "2021-07-28T10:13:57.124Z"
   },
   {
    "duration": 2130,
    "start_time": "2021-07-28T10:16:18.709Z"
   },
   {
    "duration": 609,
    "start_time": "2021-07-28T10:17:00.024Z"
   },
   {
    "duration": 637,
    "start_time": "2021-07-28T10:17:24.138Z"
   },
   {
    "duration": 2193,
    "start_time": "2021-07-28T10:18:54.136Z"
   },
   {
    "duration": 636,
    "start_time": "2021-07-28T10:20:23.781Z"
   },
   {
    "duration": 664,
    "start_time": "2021-07-28T10:20:38.141Z"
   },
   {
    "duration": 316,
    "start_time": "2021-07-28T10:20:40.228Z"
   },
   {
    "duration": 636,
    "start_time": "2021-07-28T10:21:09.716Z"
   },
   {
    "duration": 304,
    "start_time": "2021-07-28T10:21:58.139Z"
   },
   {
    "duration": 314,
    "start_time": "2021-07-28T10:22:40.016Z"
   },
   {
    "duration": 4,
    "start_time": "2021-07-28T10:22:57.015Z"
   },
   {
    "duration": 99,
    "start_time": "2021-07-28T10:22:57.464Z"
   },
   {
    "duration": 27,
    "start_time": "2021-07-28T10:22:57.809Z"
   },
   {
    "duration": 8,
    "start_time": "2021-07-28T10:22:57.992Z"
   },
   {
    "duration": 5,
    "start_time": "2021-07-28T10:22:58.201Z"
   },
   {
    "duration": 14,
    "start_time": "2021-07-28T10:22:58.394Z"
   },
   {
    "duration": 9,
    "start_time": "2021-07-28T10:22:58.600Z"
   },
   {
    "duration": 20,
    "start_time": "2021-07-28T10:22:58.985Z"
   },
   {
    "duration": 8,
    "start_time": "2021-07-28T10:22:59.195Z"
   },
   {
    "duration": 21,
    "start_time": "2021-07-28T10:22:59.403Z"
   },
   {
    "duration": 8,
    "start_time": "2021-07-28T10:22:59.616Z"
   },
   {
    "duration": 6,
    "start_time": "2021-07-28T10:22:59.831Z"
   },
   {
    "duration": 14,
    "start_time": "2021-07-28T10:23:00.291Z"
   },
   {
    "duration": 8,
    "start_time": "2021-07-28T10:23:00.474Z"
   },
   {
    "duration": 17,
    "start_time": "2021-07-28T10:23:00.724Z"
   },
   {
    "duration": 8,
    "start_time": "2021-07-28T10:23:00.905Z"
   },
   {
    "duration": 12,
    "start_time": "2021-07-28T10:23:01.580Z"
   },
   {
    "duration": 12,
    "start_time": "2021-07-28T10:23:01.878Z"
   },
   {
    "duration": 12,
    "start_time": "2021-07-28T10:23:02.143Z"
   },
   {
    "duration": 18,
    "start_time": "2021-07-28T10:23:03.513Z"
   },
   {
    "duration": 14,
    "start_time": "2021-07-28T10:23:03.822Z"
   },
   {
    "duration": 649,
    "start_time": "2021-07-28T10:23:04.130Z"
   },
   {
    "duration": 11,
    "start_time": "2021-07-28T10:23:04.838Z"
   },
   {
    "duration": 349,
    "start_time": "2021-07-28T10:23:32.066Z"
   },
   {
    "duration": 350,
    "start_time": "2021-07-28T10:24:14.315Z"
   },
   {
    "duration": 380,
    "start_time": "2021-07-28T10:24:29.935Z"
   },
   {
    "duration": 312,
    "start_time": "2021-07-28T10:24:52.413Z"
   },
   {
    "duration": 408,
    "start_time": "2021-07-28T10:25:45.309Z"
   },
   {
    "duration": 403,
    "start_time": "2021-07-28T10:26:03.245Z"
   },
   {
    "duration": 11,
    "start_time": "2021-07-28T10:26:17.427Z"
   },
   {
    "duration": 314,
    "start_time": "2021-07-28T10:26:17.931Z"
   },
   {
    "duration": 458,
    "start_time": "2021-07-28T10:26:25.832Z"
   },
   {
    "duration": 312,
    "start_time": "2021-07-28T10:26:50.021Z"
   },
   {
    "duration": 350,
    "start_time": "2021-07-28T10:27:05.258Z"
   },
   {
    "duration": 8,
    "start_time": "2021-07-28T10:35:05.167Z"
   },
   {
    "duration": 72,
    "start_time": "2021-07-28T10:35:05.424Z"
   },
   {
    "duration": 12,
    "start_time": "2021-07-28T10:35:06.248Z"
   },
   {
    "duration": 8,
    "start_time": "2021-07-28T10:35:06.576Z"
   },
   {
    "duration": 5,
    "start_time": "2021-07-28T10:35:06.901Z"
   },
   {
    "duration": 14,
    "start_time": "2021-07-28T10:35:07.224Z"
   },
   {
    "duration": 11,
    "start_time": "2021-07-28T10:35:07.459Z"
   },
   {
    "duration": 27,
    "start_time": "2021-07-28T10:35:08.025Z"
   },
   {
    "duration": 12,
    "start_time": "2021-07-28T10:35:08.250Z"
   },
   {
    "duration": 23,
    "start_time": "2021-07-28T10:35:08.467Z"
   },
   {
    "duration": 10,
    "start_time": "2021-07-28T10:35:08.665Z"
   },
   {
    "duration": 5,
    "start_time": "2021-07-28T10:35:08.941Z"
   },
   {
    "duration": 14,
    "start_time": "2021-07-28T10:35:09.329Z"
   },
   {
    "duration": 9,
    "start_time": "2021-07-28T10:35:09.757Z"
   },
   {
    "duration": 19,
    "start_time": "2021-07-28T10:35:09.935Z"
   },
   {
    "duration": 8,
    "start_time": "2021-07-28T10:35:10.151Z"
   },
   {
    "duration": 11,
    "start_time": "2021-07-28T10:35:10.828Z"
   },
   {
    "duration": 12,
    "start_time": "2021-07-28T10:35:11.055Z"
   },
   {
    "duration": 12,
    "start_time": "2021-07-28T10:35:11.319Z"
   },
   {
    "duration": 17,
    "start_time": "2021-07-28T10:35:12.823Z"
   },
   {
    "duration": 14,
    "start_time": "2021-07-28T10:35:13.245Z"
   },
   {
    "duration": 629,
    "start_time": "2021-07-28T10:35:13.704Z"
   },
   {
    "duration": 307,
    "start_time": "2021-07-28T10:35:14.411Z"
   },
   {
    "duration": 624,
    "start_time": "2021-07-28T10:37:21.617Z"
   },
   {
    "duration": 449,
    "start_time": "2021-07-28T10:37:24.251Z"
   },
   {
    "duration": 748,
    "start_time": "2021-07-28T10:40:28.099Z"
   },
   {
    "duration": 2078,
    "start_time": "2021-07-28T10:41:20.077Z"
   },
   {
    "duration": 127,
    "start_time": "2021-07-28T10:41:47.747Z"
   },
   {
    "duration": 105,
    "start_time": "2021-07-28T10:41:55.832Z"
   },
   {
    "duration": 618,
    "start_time": "2021-07-28T10:42:33.416Z"
   },
   {
    "duration": 2317,
    "start_time": "2021-07-28T10:42:42.843Z"
   },
   {
    "duration": 615,
    "start_time": "2021-07-28T10:42:50.877Z"
   },
   {
    "duration": 475,
    "start_time": "2021-07-28T10:44:26.047Z"
   },
   {
    "duration": 5,
    "start_time": "2021-07-28T10:58:00.844Z"
   },
   {
    "duration": 286,
    "start_time": "2021-07-28T10:58:04.906Z"
   },
   {
    "duration": 9,
    "start_time": "2021-07-28T10:58:38.827Z"
   },
   {
    "duration": 18,
    "start_time": "2021-07-28T10:58:46.609Z"
   },
   {
    "duration": 19,
    "start_time": "2021-07-28T10:58:56.437Z"
   },
   {
    "duration": 15,
    "start_time": "2021-07-28T10:59:25.396Z"
   },
   {
    "duration": 295,
    "start_time": "2021-07-28T11:00:48.040Z"
   },
   {
    "duration": 5,
    "start_time": "2021-07-28T11:03:13.754Z"
   },
   {
    "duration": 65,
    "start_time": "2021-07-28T11:03:14.193Z"
   },
   {
    "duration": 17,
    "start_time": "2021-07-28T11:03:15.203Z"
   },
   {
    "duration": 12,
    "start_time": "2021-07-28T11:03:15.793Z"
   },
   {
    "duration": 5,
    "start_time": "2021-07-28T11:03:16.274Z"
   },
   {
    "duration": 21,
    "start_time": "2021-07-28T11:03:16.819Z"
   },
   {
    "duration": 12,
    "start_time": "2021-07-28T11:03:17.281Z"
   },
   {
    "duration": 18,
    "start_time": "2021-07-28T11:03:17.989Z"
   },
   {
    "duration": 9,
    "start_time": "2021-07-28T11:03:18.365Z"
   },
   {
    "duration": 102,
    "start_time": "2021-07-28T11:03:18.649Z"
   },
   {
    "duration": 10,
    "start_time": "2021-07-28T11:03:19.038Z"
   },
   {
    "duration": 6,
    "start_time": "2021-07-28T11:03:19.573Z"
   },
   {
    "duration": 14,
    "start_time": "2021-07-28T11:03:20.355Z"
   },
   {
    "duration": 8,
    "start_time": "2021-07-28T11:03:20.735Z"
   },
   {
    "duration": 25,
    "start_time": "2021-07-28T11:03:21.200Z"
   },
   {
    "duration": 8,
    "start_time": "2021-07-28T11:03:21.505Z"
   },
   {
    "duration": 12,
    "start_time": "2021-07-28T11:03:22.783Z"
   },
   {
    "duration": 12,
    "start_time": "2021-07-28T11:03:23.324Z"
   },
   {
    "duration": 12,
    "start_time": "2021-07-28T11:03:23.888Z"
   },
   {
    "duration": 18,
    "start_time": "2021-07-28T11:03:26.622Z"
   },
   {
    "duration": 20,
    "start_time": "2021-07-28T11:03:27.202Z"
   },
   {
    "duration": 612,
    "start_time": "2021-07-28T11:03:27.938Z"
   },
   {
    "duration": 596,
    "start_time": "2021-07-28T11:06:19.441Z"
   },
   {
    "duration": 11,
    "start_time": "2021-07-28T11:06:59.679Z"
   },
   {
    "duration": 1715,
    "start_time": "2021-07-28T11:08:20.138Z"
   },
   {
    "duration": 69,
    "start_time": "2021-07-28T11:08:21.857Z"
   },
   {
    "duration": 15,
    "start_time": "2021-07-28T11:08:21.929Z"
   },
   {
    "duration": 11,
    "start_time": "2021-07-28T11:08:21.947Z"
   },
   {
    "duration": 8,
    "start_time": "2021-07-28T11:08:21.960Z"
   },
   {
    "duration": 16,
    "start_time": "2021-07-28T11:08:21.970Z"
   },
   {
    "duration": 13,
    "start_time": "2021-07-28T11:08:21.989Z"
   },
   {
    "duration": 21,
    "start_time": "2021-07-28T11:08:22.006Z"
   },
   {
    "duration": 8,
    "start_time": "2021-07-28T11:08:22.063Z"
   },
   {
    "duration": 25,
    "start_time": "2021-07-28T11:08:22.074Z"
   },
   {
    "duration": 8,
    "start_time": "2021-07-28T11:08:22.101Z"
   },
   {
    "duration": 51,
    "start_time": "2021-07-28T11:08:22.112Z"
   },
   {
    "duration": 16,
    "start_time": "2021-07-28T11:08:22.166Z"
   },
   {
    "duration": 9,
    "start_time": "2021-07-28T11:08:22.184Z"
   },
   {
    "duration": 31,
    "start_time": "2021-07-28T11:08:22.196Z"
   },
   {
    "duration": 42,
    "start_time": "2021-07-28T11:08:22.229Z"
   },
   {
    "duration": 13,
    "start_time": "2021-07-28T11:08:22.273Z"
   },
   {
    "duration": 17,
    "start_time": "2021-07-28T11:08:22.288Z"
   },
   {
    "duration": 54,
    "start_time": "2021-07-28T11:08:22.307Z"
   },
   {
    "duration": 18,
    "start_time": "2021-07-28T11:08:22.364Z"
   },
   {
    "duration": 17,
    "start_time": "2021-07-28T11:08:22.384Z"
   },
   {
    "duration": 645,
    "start_time": "2021-07-28T11:08:22.403Z"
   },
   {
    "duration": 19,
    "start_time": "2021-07-28T11:08:23.052Z"
   },
   {
    "duration": 346,
    "start_time": "2021-07-28T11:08:23.074Z"
   },
   {
    "duration": 3,
    "start_time": "2021-07-28T11:08:23.423Z"
   },
   {
    "duration": 318,
    "start_time": "2021-07-28T11:08:23.429Z"
   },
   {
    "duration": 605,
    "start_time": "2021-07-28T11:08:40.120Z"
   },
   {
    "duration": 1167,
    "start_time": "2021-07-28T11:11:27.121Z"
   },
   {
    "duration": 572,
    "start_time": "2021-07-28T11:11:38.539Z"
   },
   {
    "duration": 312,
    "start_time": "2021-07-28T11:11:42.052Z"
   },
   {
    "duration": 582,
    "start_time": "2021-07-28T11:12:08.579Z"
   },
   {
    "duration": 571,
    "start_time": "2021-07-28T11:12:39.110Z"
   },
   {
    "duration": 4,
    "start_time": "2021-07-28T11:18:28.971Z"
   },
   {
    "duration": 73,
    "start_time": "2021-07-28T11:18:29.529Z"
   },
   {
    "duration": 18,
    "start_time": "2021-07-28T11:18:30.890Z"
   },
   {
    "duration": 12,
    "start_time": "2021-07-28T11:18:31.544Z"
   },
   {
    "duration": 7,
    "start_time": "2021-07-28T11:18:32.448Z"
   },
   {
    "duration": 21,
    "start_time": "2021-07-28T11:18:33.123Z"
   },
   {
    "duration": 8,
    "start_time": "2021-07-28T11:18:33.705Z"
   },
   {
    "duration": 17,
    "start_time": "2021-07-28T11:18:34.906Z"
   },
   {
    "duration": 8,
    "start_time": "2021-07-28T11:18:35.464Z"
   },
   {
    "duration": 23,
    "start_time": "2021-07-28T11:18:36.024Z"
   },
   {
    "duration": 12,
    "start_time": "2021-07-28T11:18:36.638Z"
   },
   {
    "duration": 7,
    "start_time": "2021-07-28T11:18:37.216Z"
   },
   {
    "duration": 18,
    "start_time": "2021-07-28T11:18:37.958Z"
   },
   {
    "duration": 7,
    "start_time": "2021-07-28T11:18:38.432Z"
   },
   {
    "duration": 28,
    "start_time": "2021-07-28T11:18:38.944Z"
   },
   {
    "duration": 10,
    "start_time": "2021-07-28T11:18:39.457Z"
   },
   {
    "duration": 12,
    "start_time": "2021-07-28T11:18:40.753Z"
   },
   {
    "duration": 13,
    "start_time": "2021-07-28T11:18:40.991Z"
   },
   {
    "duration": 19,
    "start_time": "2021-07-28T11:18:41.248Z"
   },
   {
    "duration": 17,
    "start_time": "2021-07-28T11:18:43.138Z"
   },
   {
    "duration": 14,
    "start_time": "2021-07-28T11:18:43.738Z"
   },
   {
    "duration": 569,
    "start_time": "2021-07-28T11:18:44.457Z"
   },
   {
    "duration": 297,
    "start_time": "2021-07-28T11:18:45.570Z"
   },
   {
    "duration": 1437,
    "start_time": "2021-07-28T11:18:53.225Z"
   },
   {
    "duration": 63,
    "start_time": "2021-07-28T11:18:54.665Z"
   },
   {
    "duration": 16,
    "start_time": "2021-07-28T11:18:54.732Z"
   },
   {
    "duration": 11,
    "start_time": "2021-07-28T11:18:54.751Z"
   },
   {
    "duration": 8,
    "start_time": "2021-07-28T11:18:54.764Z"
   },
   {
    "duration": 15,
    "start_time": "2021-07-28T11:18:54.775Z"
   },
   {
    "duration": 13,
    "start_time": "2021-07-28T11:18:54.792Z"
   },
   {
    "duration": 24,
    "start_time": "2021-07-28T11:18:54.808Z"
   },
   {
    "duration": 9,
    "start_time": "2021-07-28T11:18:54.864Z"
   },
   {
    "duration": 24,
    "start_time": "2021-07-28T11:18:54.876Z"
   },
   {
    "duration": 10,
    "start_time": "2021-07-28T11:18:54.903Z"
   },
   {
    "duration": 6,
    "start_time": "2021-07-28T11:18:54.915Z"
   },
   {
    "duration": 14,
    "start_time": "2021-07-28T11:18:54.962Z"
   },
   {
    "duration": 12,
    "start_time": "2021-07-28T11:18:54.979Z"
   },
   {
    "duration": 20,
    "start_time": "2021-07-28T11:18:54.994Z"
   },
   {
    "duration": 45,
    "start_time": "2021-07-28T11:18:55.017Z"
   },
   {
    "duration": 13,
    "start_time": "2021-07-28T11:18:55.065Z"
   },
   {
    "duration": 23,
    "start_time": "2021-07-28T11:18:55.081Z"
   },
   {
    "duration": 16,
    "start_time": "2021-07-28T11:18:55.108Z"
   },
   {
    "duration": 18,
    "start_time": "2021-07-28T11:18:55.163Z"
   },
   {
    "duration": 17,
    "start_time": "2021-07-28T11:18:55.183Z"
   },
   {
    "duration": 629,
    "start_time": "2021-07-28T11:18:55.202Z"
   },
   {
    "duration": 474,
    "start_time": "2021-07-28T11:18:55.833Z"
   },
   {
    "duration": 1775,
    "start_time": "2021-07-28T11:27:24.171Z"
   },
   {
    "duration": 69,
    "start_time": "2021-07-28T11:27:25.949Z"
   },
   {
    "duration": 22,
    "start_time": "2021-07-28T11:27:26.022Z"
   },
   {
    "duration": 11,
    "start_time": "2021-07-28T11:27:26.047Z"
   },
   {
    "duration": 7,
    "start_time": "2021-07-28T11:27:26.060Z"
   },
   {
    "duration": 16,
    "start_time": "2021-07-28T11:27:26.069Z"
   },
   {
    "duration": 12,
    "start_time": "2021-07-28T11:27:26.087Z"
   },
   {
    "duration": 20,
    "start_time": "2021-07-28T11:27:26.102Z"
   },
   {
    "duration": 42,
    "start_time": "2021-07-28T11:27:26.125Z"
   },
   {
    "duration": 21,
    "start_time": "2021-07-28T11:27:26.169Z"
   },
   {
    "duration": 10,
    "start_time": "2021-07-28T11:27:26.192Z"
   },
   {
    "duration": 9,
    "start_time": "2021-07-28T11:27:26.205Z"
   },
   {
    "duration": 53,
    "start_time": "2021-07-28T11:27:26.216Z"
   },
   {
    "duration": 11,
    "start_time": "2021-07-28T11:27:26.272Z"
   },
   {
    "duration": 22,
    "start_time": "2021-07-28T11:27:26.285Z"
   },
   {
    "duration": 11,
    "start_time": "2021-07-28T11:27:26.309Z"
   },
   {
    "duration": 49,
    "start_time": "2021-07-28T11:27:26.323Z"
   },
   {
    "duration": 19,
    "start_time": "2021-07-28T11:27:26.374Z"
   },
   {
    "duration": 12,
    "start_time": "2021-07-28T11:27:26.396Z"
   },
   {
    "duration": 60,
    "start_time": "2021-07-28T11:27:26.410Z"
   },
   {
    "duration": 25,
    "start_time": "2021-07-28T11:27:26.473Z"
   },
   {
    "duration": 989,
    "start_time": "2021-07-28T11:27:26.501Z"
   },
   {
    "duration": 512,
    "start_time": "2021-07-28T11:27:27.496Z"
   },
   {
    "duration": 475,
    "start_time": "2021-07-28T11:27:32.477Z"
   },
   {
    "duration": 1371,
    "start_time": "2021-07-28T11:27:58.163Z"
   },
   {
    "duration": 64,
    "start_time": "2021-07-28T11:28:00.818Z"
   },
   {
    "duration": 16,
    "start_time": "2021-07-28T11:28:02.236Z"
   },
   {
    "duration": 9,
    "start_time": "2021-07-28T11:28:03.267Z"
   },
   {
    "duration": 6,
    "start_time": "2021-07-28T11:28:04.964Z"
   },
   {
    "duration": 14,
    "start_time": "2021-07-28T11:28:06.029Z"
   },
   {
    "duration": 12,
    "start_time": "2021-07-28T11:28:07.011Z"
   },
   {
    "duration": 17,
    "start_time": "2021-07-28T11:28:08.555Z"
   },
   {
    "duration": 12,
    "start_time": "2021-07-28T11:28:09.332Z"
   },
   {
    "duration": 30,
    "start_time": "2021-07-28T11:28:09.891Z"
   },
   {
    "duration": 12,
    "start_time": "2021-07-28T11:28:10.610Z"
   },
   {
    "duration": 7,
    "start_time": "2021-07-28T11:28:11.372Z"
   },
   {
    "duration": 18,
    "start_time": "2021-07-28T11:28:12.821Z"
   },
   {
    "duration": 8,
    "start_time": "2021-07-28T11:28:13.555Z"
   },
   {
    "duration": 18,
    "start_time": "2021-07-28T11:28:14.150Z"
   },
   {
    "duration": 7,
    "start_time": "2021-07-28T11:28:17.339Z"
   },
   {
    "duration": 11,
    "start_time": "2021-07-28T11:28:19.295Z"
   },
   {
    "duration": 16,
    "start_time": "2021-07-28T11:28:20.106Z"
   },
   {
    "duration": 14,
    "start_time": "2021-07-28T11:28:21.744Z"
   },
   {
    "duration": 18,
    "start_time": "2021-07-28T11:28:25.435Z"
   },
   {
    "duration": 14,
    "start_time": "2021-07-28T11:28:26.282Z"
   },
   {
    "duration": 595,
    "start_time": "2021-07-28T11:28:26.907Z"
   },
   {
    "duration": 332,
    "start_time": "2021-07-28T11:28:27.620Z"
   },
   {
    "duration": 8,
    "start_time": "2021-07-28T11:33:00.681Z"
   },
   {
    "duration": 9505,
    "start_time": "2021-07-28T11:40:05.998Z"
   },
   {
    "duration": 577,
    "start_time": "2021-07-28T11:40:33.035Z"
   },
   {
    "duration": 9622,
    "start_time": "2021-07-28T11:42:21.704Z"
   },
   {
    "duration": 917,
    "start_time": "2021-07-28T11:43:11.669Z"
   },
   {
    "duration": 325,
    "start_time": "2021-07-28T11:43:13.975Z"
   },
   {
    "duration": 16,
    "start_time": "2021-07-28T11:44:02.874Z"
   },
   {
    "duration": 311,
    "start_time": "2021-07-28T11:44:03.600Z"
   },
   {
    "duration": 631,
    "start_time": "2021-07-28T11:45:25.110Z"
   },
   {
    "duration": 10,
    "start_time": "2021-07-28T11:45:25.823Z"
   },
   {
    "duration": 314,
    "start_time": "2021-07-28T11:45:26.516Z"
   },
   {
    "duration": 313,
    "start_time": "2021-07-28T11:45:36.620Z"
   },
   {
    "duration": 437,
    "start_time": "2021-07-28T11:46:35.447Z"
   },
   {
    "duration": 1395,
    "start_time": "2021-07-28T11:46:42.813Z"
   },
   {
    "duration": 66,
    "start_time": "2021-07-28T11:46:44.211Z"
   },
   {
    "duration": 20,
    "start_time": "2021-07-28T11:46:44.282Z"
   },
   {
    "duration": 12,
    "start_time": "2021-07-28T11:46:44.304Z"
   },
   {
    "duration": 9,
    "start_time": "2021-07-28T11:46:44.319Z"
   },
   {
    "duration": 43,
    "start_time": "2021-07-28T11:46:44.330Z"
   },
   {
    "duration": 14,
    "start_time": "2021-07-28T11:46:44.376Z"
   },
   {
    "duration": 27,
    "start_time": "2021-07-28T11:46:44.517Z"
   },
   {
    "duration": 9,
    "start_time": "2021-07-28T11:46:44.689Z"
   },
   {
    "duration": 24,
    "start_time": "2021-07-28T11:46:44.877Z"
   },
   {
    "duration": 11,
    "start_time": "2021-07-28T11:46:45.055Z"
   },
   {
    "duration": 7,
    "start_time": "2021-07-28T11:46:45.277Z"
   },
   {
    "duration": 19,
    "start_time": "2021-07-28T11:46:45.668Z"
   },
   {
    "duration": 10,
    "start_time": "2021-07-28T11:46:45.814Z"
   },
   {
    "duration": 24,
    "start_time": "2021-07-28T11:46:46.005Z"
   },
   {
    "duration": 9,
    "start_time": "2021-07-28T11:46:46.194Z"
   },
   {
    "duration": 13,
    "start_time": "2021-07-28T11:46:46.780Z"
   },
   {
    "duration": 15,
    "start_time": "2021-07-28T11:46:47.002Z"
   },
   {
    "duration": 24,
    "start_time": "2021-07-28T11:46:47.166Z"
   },
   {
    "duration": 22,
    "start_time": "2021-07-28T11:46:48.157Z"
   },
   {
    "duration": 15,
    "start_time": "2021-07-28T11:46:48.341Z"
   },
   {
    "duration": 637,
    "start_time": "2021-07-28T11:46:48.555Z"
   },
   {
    "duration": 9,
    "start_time": "2021-07-28T11:46:49.194Z"
   },
   {
    "duration": 350,
    "start_time": "2021-07-28T11:46:49.206Z"
   },
   {
    "duration": 617,
    "start_time": "2021-07-28T11:47:19.637Z"
   },
   {
    "duration": 584,
    "start_time": "2021-07-28T11:48:26.237Z"
   },
   {
    "duration": 15,
    "start_time": "2021-07-28T11:48:29.547Z"
   },
   {
    "duration": 292,
    "start_time": "2021-07-28T11:48:31.721Z"
   },
   {
    "duration": 4,
    "start_time": "2021-07-28T12:00:37.680Z"
   },
   {
    "duration": 75,
    "start_time": "2021-07-28T12:00:38.305Z"
   },
   {
    "duration": 12,
    "start_time": "2021-07-28T12:00:39.438Z"
   },
   {
    "duration": 14,
    "start_time": "2021-07-28T12:00:40.322Z"
   },
   {
    "duration": 8,
    "start_time": "2021-07-28T12:00:41.251Z"
   },
   {
    "duration": 26,
    "start_time": "2021-07-28T12:00:46.353Z"
   },
   {
    "duration": 11,
    "start_time": "2021-07-28T12:00:47.089Z"
   },
   {
    "duration": 32,
    "start_time": "2021-07-28T12:00:48.170Z"
   },
   {
    "duration": 14,
    "start_time": "2021-07-28T12:00:49.696Z"
   },
   {
    "duration": 9,
    "start_time": "2021-07-28T12:00:50.264Z"
   },
   {
    "duration": 19,
    "start_time": "2021-07-28T12:00:50.896Z"
   },
   {
    "duration": 13,
    "start_time": "2021-07-28T12:00:53.096Z"
   },
   {
    "duration": 11,
    "start_time": "2021-07-28T12:00:53.883Z"
   },
   {
    "duration": 13,
    "start_time": "2021-07-28T12:00:55.124Z"
   },
   {
    "duration": 594,
    "start_time": "2021-07-28T12:00:58.569Z"
   },
   {
    "duration": 11,
    "start_time": "2021-07-28T12:01:03.384Z"
   },
   {
    "duration": 289,
    "start_time": "2021-07-28T12:01:04.113Z"
   },
   {
    "duration": 157,
    "start_time": "2021-07-28T12:02:05.840Z"
   },
   {
    "duration": 106,
    "start_time": "2021-07-28T12:02:50.613Z"
   },
   {
    "duration": 895,
    "start_time": "2021-07-28T12:03:07.345Z"
   },
   {
    "duration": 4,
    "start_time": "2021-07-28T12:04:22.199Z"
   },
   {
    "duration": 9,
    "start_time": "2021-07-28T12:04:22.969Z"
   },
   {
    "duration": 1349,
    "start_time": "2021-07-28T12:04:31.801Z"
   },
   {
    "duration": 63,
    "start_time": "2021-07-28T12:04:33.153Z"
   },
   {
    "duration": 18,
    "start_time": "2021-07-28T12:04:33.219Z"
   },
   {
    "duration": 17,
    "start_time": "2021-07-28T12:04:33.240Z"
   },
   {
    "duration": 45,
    "start_time": "2021-07-28T12:04:33.259Z"
   },
   {
    "duration": 29,
    "start_time": "2021-07-28T12:04:33.307Z"
   },
   {
    "duration": 14,
    "start_time": "2021-07-28T12:04:33.338Z"
   },
   {
    "duration": 36,
    "start_time": "2021-07-28T12:04:33.356Z"
   },
   {
    "duration": 43,
    "start_time": "2021-07-28T12:04:33.395Z"
   },
   {
    "duration": 27,
    "start_time": "2021-07-28T12:04:33.440Z"
   },
   {
    "duration": 46,
    "start_time": "2021-07-28T12:04:33.470Z"
   },
   {
    "duration": 50,
    "start_time": "2021-07-28T12:04:33.518Z"
   },
   {
    "duration": 39,
    "start_time": "2021-07-28T12:04:33.570Z"
   },
   {
    "duration": 23,
    "start_time": "2021-07-28T12:04:33.611Z"
   },
   {
    "duration": 1040,
    "start_time": "2021-07-28T12:04:33.636Z"
   },
   {
    "duration": 4,
    "start_time": "2021-07-28T12:04:46.465Z"
   },
   {
    "duration": 65,
    "start_time": "2021-07-28T12:04:47.006Z"
   },
   {
    "duration": 12,
    "start_time": "2021-07-28T12:04:48.023Z"
   },
   {
    "duration": 4,
    "start_time": "2021-07-28T12:04:48.719Z"
   },
   {
    "duration": 8,
    "start_time": "2021-07-28T12:04:49.177Z"
   },
   {
    "duration": 18,
    "start_time": "2021-07-28T12:04:50.186Z"
   },
   {
    "duration": 8,
    "start_time": "2021-07-28T12:04:50.699Z"
   },
   {
    "duration": 21,
    "start_time": "2021-07-28T12:04:51.201Z"
   },
   {
    "duration": 19,
    "start_time": "2021-07-28T12:04:52.167Z"
   },
   {
    "duration": 8,
    "start_time": "2021-07-28T12:04:53.271Z"
   },
   {
    "duration": 19,
    "start_time": "2021-07-28T12:04:53.745Z"
   },
   {
    "duration": 12,
    "start_time": "2021-07-28T12:04:55.303Z"
   },
   {
    "duration": 13,
    "start_time": "2021-07-28T12:04:55.839Z"
   },
   {
    "duration": 13,
    "start_time": "2021-07-28T12:04:56.335Z"
   },
   {
    "duration": 896,
    "start_time": "2021-07-28T12:04:58.735Z"
   },
   {
    "duration": 5,
    "start_time": "2021-07-28T12:06:37.026Z"
   },
   {
    "duration": 63,
    "start_time": "2021-07-28T12:06:47.900Z"
   },
   {
    "duration": 9,
    "start_time": "2021-07-28T12:07:05.291Z"
   },
   {
    "duration": 9,
    "start_time": "2021-07-28T12:07:15.084Z"
   },
   {
    "duration": 9,
    "start_time": "2021-07-28T12:07:23.055Z"
   },
   {
    "duration": 4,
    "start_time": "2021-07-28T12:07:39.956Z"
   },
   {
    "duration": 108,
    "start_time": "2021-07-28T12:07:46.750Z"
   },
   {
    "duration": 9,
    "start_time": "2021-07-28T12:08:01.732Z"
   },
   {
    "duration": 11,
    "start_time": "2021-07-28T12:08:36.362Z"
   },
   {
    "duration": 17,
    "start_time": "2021-07-28T12:08:51.947Z"
   },
   {
    "duration": 121,
    "start_time": "2021-07-28T12:09:12.610Z"
   },
   {
    "duration": 14,
    "start_time": "2021-07-28T12:09:25.890Z"
   },
   {
    "duration": 18,
    "start_time": "2021-07-28T12:09:35.459Z"
   },
   {
    "duration": 740,
    "start_time": "2021-07-28T12:10:34.321Z"
   },
   {
    "duration": 10,
    "start_time": "2021-07-28T12:10:58.423Z"
   },
   {
    "duration": 120,
    "start_time": "2021-07-28T12:11:16.480Z"
   },
   {
    "duration": 335,
    "start_time": "2021-07-28T12:11:20.432Z"
   },
   {
    "duration": 521,
    "start_time": "2021-07-28T12:13:37.221Z"
   },
   {
    "duration": 331,
    "start_time": "2021-07-28T12:14:24.380Z"
   },
   {
    "duration": 495,
    "start_time": "2021-07-28T12:14:55.308Z"
   },
   {
    "duration": 475,
    "start_time": "2021-07-28T12:16:30.553Z"
   },
   {
    "duration": 4,
    "start_time": "2021-07-28T12:17:13.524Z"
   },
   {
    "duration": 321,
    "start_time": "2021-07-28T12:17:15.346Z"
   },
   {
    "duration": 632,
    "start_time": "2021-07-28T12:19:27.431Z"
   },
   {
    "duration": 11,
    "start_time": "2021-07-28T12:19:37.621Z"
   },
   {
    "duration": 329,
    "start_time": "2021-07-28T12:19:39.069Z"
   },
   {
    "duration": 4,
    "start_time": "2021-07-28T12:19:41.382Z"
   },
   {
    "duration": 308,
    "start_time": "2021-07-28T12:19:42.007Z"
   },
   {
    "duration": 328,
    "start_time": "2021-07-28T12:20:02.724Z"
   },
   {
    "duration": 14,
    "start_time": "2021-07-28T12:20:29.316Z"
   },
   {
    "duration": 9,
    "start_time": "2021-07-28T12:24:43.456Z"
   },
   {
    "duration": 23,
    "start_time": "2021-07-28T12:24:54.670Z"
   },
   {
    "duration": 20,
    "start_time": "2021-07-28T12:25:09.490Z"
   },
   {
    "duration": 17,
    "start_time": "2021-07-28T12:25:22.465Z"
   },
   {
    "duration": 366,
    "start_time": "2021-07-28T12:26:08.549Z"
   },
   {
    "duration": 255,
    "start_time": "2021-07-28T12:27:00.556Z"
   },
   {
    "duration": 417,
    "start_time": "2021-07-28T12:27:16.777Z"
   },
   {
    "duration": 120,
    "start_time": "2021-07-28T12:30:52.199Z"
   },
   {
    "duration": 426,
    "start_time": "2021-07-28T12:34:44.945Z"
   },
   {
    "duration": 18,
    "start_time": "2021-07-28T12:34:57.847Z"
   },
   {
    "duration": 24,
    "start_time": "2021-07-28T12:35:54.675Z"
   },
   {
    "duration": 440,
    "start_time": "2021-07-28T12:35:57.339Z"
   },
   {
    "duration": 460,
    "start_time": "2021-07-28T12:36:11.402Z"
   },
   {
    "duration": 307,
    "start_time": "2021-07-28T12:36:19.721Z"
   },
   {
    "duration": 305,
    "start_time": "2021-07-28T12:38:36.728Z"
   },
   {
    "duration": 308,
    "start_time": "2021-07-28T12:38:44.175Z"
   },
   {
    "duration": 317,
    "start_time": "2021-07-28T12:38:50.954Z"
   },
   {
    "duration": 302,
    "start_time": "2021-07-28T12:38:56.278Z"
   },
   {
    "duration": 298,
    "start_time": "2021-07-28T12:39:25.772Z"
   },
   {
    "duration": 11,
    "start_time": "2021-07-28T12:42:48.730Z"
   },
   {
    "duration": 128,
    "start_time": "2021-07-28T12:43:02.168Z"
   },
   {
    "duration": 12,
    "start_time": "2021-07-28T12:43:07.760Z"
   },
   {
    "duration": 313,
    "start_time": "2021-07-28T12:43:50.115Z"
   },
   {
    "duration": 528,
    "start_time": "2021-07-28T12:45:21.000Z"
   },
   {
    "duration": 534,
    "start_time": "2021-07-28T12:45:52.598Z"
   },
   {
    "duration": 575,
    "start_time": "2021-07-28T12:46:35.908Z"
   },
   {
    "duration": 771,
    "start_time": "2021-07-28T12:46:55.336Z"
   },
   {
    "duration": 455,
    "start_time": "2021-07-28T12:47:03.235Z"
   },
   {
    "duration": 376,
    "start_time": "2021-07-28T12:47:27.029Z"
   },
   {
    "duration": 393,
    "start_time": "2021-07-28T12:47:38.787Z"
   },
   {
    "duration": 413,
    "start_time": "2021-07-28T12:47:49.116Z"
   },
   {
    "duration": 422,
    "start_time": "2021-07-28T12:47:58.131Z"
   },
   {
    "duration": 411,
    "start_time": "2021-07-28T12:49:45.136Z"
   },
   {
    "duration": 139,
    "start_time": "2021-07-28T12:50:02.471Z"
   },
   {
    "duration": 132,
    "start_time": "2021-07-28T12:50:09.198Z"
   },
   {
    "duration": 367,
    "start_time": "2021-07-28T12:50:18.981Z"
   },
   {
    "duration": 404,
    "start_time": "2021-07-28T12:50:29.544Z"
   },
   {
    "duration": 387,
    "start_time": "2021-07-28T12:53:33.159Z"
   },
   {
    "duration": 397,
    "start_time": "2021-07-28T12:53:45.630Z"
   },
   {
    "duration": 402,
    "start_time": "2021-07-28T12:54:20.753Z"
   },
   {
    "duration": 18,
    "start_time": "2021-07-28T12:54:35.929Z"
   },
   {
    "duration": 418,
    "start_time": "2021-07-28T12:54:49.814Z"
   },
   {
    "duration": 224,
    "start_time": "2021-07-28T12:55:23.357Z"
   },
   {
    "duration": 199,
    "start_time": "2021-07-28T12:55:59.624Z"
   },
   {
    "duration": 238,
    "start_time": "2021-07-28T12:56:05.489Z"
   },
   {
    "duration": 9,
    "start_time": "2021-07-28T12:56:05.946Z"
   },
   {
    "duration": 261,
    "start_time": "2021-07-28T12:56:48.095Z"
   },
   {
    "duration": 372,
    "start_time": "2021-07-28T12:58:02.077Z"
   },
   {
    "duration": 8,
    "start_time": "2021-07-28T13:01:34.339Z"
   },
   {
    "duration": 27,
    "start_time": "2021-07-28T13:05:33.029Z"
   },
   {
    "duration": 142,
    "start_time": "2021-07-28T13:05:52.404Z"
   },
   {
    "duration": 428,
    "start_time": "2021-07-28T13:06:00.538Z"
   },
   {
    "duration": 567,
    "start_time": "2021-07-28T13:06:46.252Z"
   },
   {
    "duration": 428,
    "start_time": "2021-07-28T13:09:34.402Z"
   },
   {
    "duration": 386,
    "start_time": "2021-07-28T13:09:48.686Z"
   },
   {
    "duration": 403,
    "start_time": "2021-07-28T13:09:56.551Z"
   },
   {
    "duration": 541,
    "start_time": "2021-07-28T13:13:00.827Z"
   },
   {
    "duration": 5,
    "start_time": "2021-07-28T13:13:10.419Z"
   },
   {
    "duration": 365,
    "start_time": "2021-07-28T13:25:21.940Z"
   },
   {
    "duration": 198,
    "start_time": "2021-07-28T13:30:35.293Z"
   },
   {
    "duration": 122,
    "start_time": "2021-07-28T13:32:13.741Z"
   },
   {
    "duration": 121,
    "start_time": "2021-07-28T13:32:26.794Z"
   },
   {
    "duration": 152,
    "start_time": "2021-07-28T13:32:37.587Z"
   },
   {
    "duration": 397,
    "start_time": "2021-07-28T13:33:58.570Z"
   },
   {
    "duration": 407,
    "start_time": "2021-07-28T13:34:05.803Z"
   },
   {
    "duration": 9499,
    "start_time": "2021-07-28T13:34:25.628Z"
   },
   {
    "duration": 385,
    "start_time": "2021-07-28T13:34:48.041Z"
   },
   {
    "duration": 9272,
    "start_time": "2021-07-28T13:36:13.770Z"
   },
   {
    "duration": 9242,
    "start_time": "2021-07-28T13:37:23.934Z"
   },
   {
    "duration": 8806,
    "start_time": "2021-07-28T13:41:08.710Z"
   },
   {
    "duration": 9088,
    "start_time": "2021-07-28T13:41:23.391Z"
   },
   {
    "duration": -425,
    "start_time": "2021-07-28T13:41:32.907Z"
   },
   {
    "duration": 8950,
    "start_time": "2021-07-28T13:42:22.957Z"
   },
   {
    "duration": 9222,
    "start_time": "2021-07-28T13:42:53.665Z"
   },
   {
    "duration": 91,
    "start_time": "2021-07-28T13:43:26.583Z"
   },
   {
    "duration": 6,
    "start_time": "2021-07-28T13:43:51.499Z"
   },
   {
    "duration": 13,
    "start_time": "2021-07-28T13:47:27.971Z"
   },
   {
    "duration": 13,
    "start_time": "2021-07-28T13:48:20.823Z"
   },
   {
    "duration": 13,
    "start_time": "2021-07-28T13:50:34.468Z"
   },
   {
    "duration": 26,
    "start_time": "2021-07-28T13:53:43.976Z"
   },
   {
    "duration": 20,
    "start_time": "2021-07-28T13:53:56.838Z"
   },
   {
    "duration": 90,
    "start_time": "2021-07-28T13:54:05.218Z"
   },
   {
    "duration": 28,
    "start_time": "2021-07-28T13:55:19.751Z"
   },
   {
    "duration": 3,
    "start_time": "2021-07-28T13:57:43.347Z"
   },
   {
    "duration": 136,
    "start_time": "2021-07-28T13:59:41.614Z"
   },
   {
    "duration": 1409,
    "start_time": "2021-07-28T14:05:41.343Z"
   },
   {
    "duration": 85,
    "start_time": "2021-07-28T14:05:42.754Z"
   },
   {
    "duration": 10,
    "start_time": "2021-07-28T14:05:42.842Z"
   },
   {
    "duration": 12,
    "start_time": "2021-07-28T14:05:42.855Z"
   },
   {
    "duration": 13,
    "start_time": "2021-07-28T14:05:42.869Z"
   },
   {
    "duration": 14,
    "start_time": "2021-07-28T14:05:42.884Z"
   },
   {
    "duration": 13,
    "start_time": "2021-07-28T14:05:42.901Z"
   },
   {
    "duration": 17,
    "start_time": "2021-07-28T14:05:42.918Z"
   },
   {
    "duration": 36,
    "start_time": "2021-07-28T14:05:42.938Z"
   },
   {
    "duration": 16,
    "start_time": "2021-07-28T14:05:42.976Z"
   },
   {
    "duration": 651,
    "start_time": "2021-07-28T14:05:42.994Z"
   },
   {
    "duration": 21,
    "start_time": "2021-07-28T14:05:43.647Z"
   },
   {
    "duration": 348,
    "start_time": "2021-07-28T14:05:43.671Z"
   },
   {
    "duration": 328,
    "start_time": "2021-07-28T14:05:44.022Z"
   },
   {
    "duration": 22,
    "start_time": "2021-07-28T14:05:44.353Z"
   },
   {
    "duration": 399,
    "start_time": "2021-07-28T14:05:44.377Z"
   },
   {
    "duration": 18,
    "start_time": "2021-07-28T14:05:44.778Z"
   },
   {
    "duration": 330,
    "start_time": "2021-07-28T14:05:44.798Z"
   },
   {
    "duration": 12,
    "start_time": "2021-07-28T14:05:45.130Z"
   },
   {
    "duration": 409,
    "start_time": "2021-07-28T14:05:45.144Z"
   },
   {
    "duration": 19,
    "start_time": "2021-07-28T14:05:45.555Z"
   },
   {
    "duration": 211,
    "start_time": "2021-07-28T14:05:45.576Z"
   },
   {
    "duration": 9,
    "start_time": "2021-07-28T14:05:45.791Z"
   },
   {
    "duration": 284,
    "start_time": "2021-07-28T14:05:45.802Z"
   },
   {
    "duration": 365,
    "start_time": "2021-07-28T14:05:46.089Z"
   },
   {
    "duration": 7,
    "start_time": "2021-07-28T14:05:46.461Z"
   },
   {
    "duration": 149,
    "start_time": "2021-07-28T14:05:46.471Z"
   },
   {
    "duration": -475,
    "start_time": "2021-07-28T14:05:47.098Z"
   },
   {
    "duration": -484,
    "start_time": "2021-07-28T14:05:47.109Z"
   },
   {
    "duration": -493,
    "start_time": "2021-07-28T14:05:47.120Z"
   },
   {
    "duration": -501,
    "start_time": "2021-07-28T14:05:47.130Z"
   },
   {
    "duration": -509,
    "start_time": "2021-07-28T14:05:47.140Z"
   },
   {
    "duration": -514,
    "start_time": "2021-07-28T14:05:47.147Z"
   },
   {
    "duration": -535,
    "start_time": "2021-07-28T14:05:47.170Z"
   },
   {
    "duration": -540,
    "start_time": "2021-07-28T14:05:47.177Z"
   },
   {
    "duration": -549,
    "start_time": "2021-07-28T14:05:47.187Z"
   },
   {
    "duration": -555,
    "start_time": "2021-07-28T14:05:47.194Z"
   },
   {
    "duration": -562,
    "start_time": "2021-07-28T14:05:47.203Z"
   },
   {
    "duration": -568,
    "start_time": "2021-07-28T14:05:47.210Z"
   },
   {
    "duration": 110,
    "start_time": "2021-07-28T14:06:20.501Z"
   },
   {
    "duration": 295,
    "start_time": "2021-07-28T14:06:21.503Z"
   },
   {
    "duration": 477,
    "start_time": "2021-07-28T14:06:22.580Z"
   },
   {
    "duration": 5,
    "start_time": "2021-07-28T14:06:23.302Z"
   },
   {
    "duration": 208,
    "start_time": "2021-07-28T14:06:24.181Z"
   },
   {
    "duration": 462,
    "start_time": "2021-07-28T14:06:24.392Z"
   },
   {
    "duration": -458,
    "start_time": "2021-07-28T14:06:25.315Z"
   },
   {
    "duration": 320,
    "start_time": "2021-07-28T14:06:25.363Z"
   },
   {
    "duration": -427,
    "start_time": "2021-07-28T14:06:26.113Z"
   },
   {
    "duration": 96,
    "start_time": "2021-07-28T14:06:54.981Z"
   },
   {
    "duration": 15,
    "start_time": "2021-07-28T14:07:02.442Z"
   },
   {
    "duration": 388,
    "start_time": "2021-07-28T14:07:03.972Z"
   },
   {
    "duration": 13,
    "start_time": "2021-07-28T14:07:20.694Z"
   },
   {
    "duration": 13,
    "start_time": "2021-07-28T14:07:24.499Z"
   },
   {
    "duration": 27,
    "start_time": "2021-07-28T14:07:25.753Z"
   },
   {
    "duration": 69,
    "start_time": "2021-07-28T14:07:26.018Z"
   },
   {
    "duration": 20,
    "start_time": "2021-07-28T14:07:27.891Z"
   },
   {
    "duration": 4,
    "start_time": "2021-07-28T14:07:41.564Z"
   },
   {
    "duration": 71,
    "start_time": "2021-07-28T14:07:41.785Z"
   },
   {
    "duration": 9,
    "start_time": "2021-07-28T14:07:42.263Z"
   },
   {
    "duration": 11,
    "start_time": "2021-07-28T14:07:42.465Z"
   },
   {
    "duration": 9,
    "start_time": "2021-07-28T14:07:42.697Z"
   },
   {
    "duration": 4,
    "start_time": "2021-07-28T14:07:43.180Z"
   },
   {
    "duration": 12,
    "start_time": "2021-07-28T14:07:43.720Z"
   },
   {
    "duration": 12,
    "start_time": "2021-07-28T14:07:44.297Z"
   },
   {
    "duration": 16,
    "start_time": "2021-07-28T14:07:44.890Z"
   },
   {
    "duration": 16,
    "start_time": "2021-07-28T14:07:45.355Z"
   },
   {
    "duration": 910,
    "start_time": "2021-07-28T14:07:46.547Z"
   },
   {
    "duration": 14,
    "start_time": "2021-07-28T14:07:47.463Z"
   },
   {
    "duration": 463,
    "start_time": "2021-07-28T14:07:47.574Z"
   },
   {
    "duration": 435,
    "start_time": "2021-07-28T14:07:49.681Z"
   },
   {
    "duration": 25,
    "start_time": "2021-07-28T14:07:51.195Z"
   },
   {
    "duration": 377,
    "start_time": "2021-07-28T14:07:51.406Z"
   },
   {
    "duration": 16,
    "start_time": "2021-07-28T14:07:52.223Z"
   },
   {
    "duration": 323,
    "start_time": "2021-07-28T14:07:52.571Z"
   },
   {
    "duration": 12,
    "start_time": "2021-07-28T14:07:53.580Z"
   },
   {
    "duration": 373,
    "start_time": "2021-07-28T14:07:53.876Z"
   },
   {
    "duration": 20,
    "start_time": "2021-07-28T14:07:55.491Z"
   },
   {
    "duration": 266,
    "start_time": "2021-07-28T14:07:55.745Z"
   },
   {
    "duration": 9,
    "start_time": "2021-07-28T14:07:56.074Z"
   },
   {
    "duration": 272,
    "start_time": "2021-07-28T14:07:56.355Z"
   },
   {
    "duration": 343,
    "start_time": "2021-07-28T14:07:56.891Z"
   },
   {
    "duration": 5,
    "start_time": "2021-07-28T14:07:57.744Z"
   },
   {
    "duration": 128,
    "start_time": "2021-07-28T14:07:58.249Z"
   },
   {
    "duration": 288,
    "start_time": "2021-07-28T14:07:58.497Z"
   },
   {
    "duration": 304,
    "start_time": "2021-07-28T14:08:05.818Z"
   },
   {
    "duration": 384,
    "start_time": "2021-07-28T14:08:07.710Z"
   },
   {
    "duration": 6,
    "start_time": "2021-07-28T14:08:09.128Z"
   },
   {
    "duration": 232,
    "start_time": "2021-07-28T14:08:10.004Z"
   },
   {
    "duration": 101,
    "start_time": "2021-07-28T14:08:10.239Z"
   },
   {
    "duration": 6,
    "start_time": "2021-07-28T14:08:10.440Z"
   },
   {
    "duration": 14,
    "start_time": "2021-07-28T14:08:11.042Z"
   },
   {
    "duration": 13,
    "start_time": "2021-07-28T14:08:11.257Z"
   },
   {
    "duration": 15,
    "start_time": "2021-07-28T14:08:12.125Z"
   },
   {
    "duration": 21,
    "start_time": "2021-07-28T14:08:12.621Z"
   },
   {
    "duration": 67,
    "start_time": "2021-07-28T14:08:12.824Z"
   },
   {
    "duration": 20,
    "start_time": "2021-07-28T14:08:14.188Z"
   },
   {
    "duration": 1468,
    "start_time": "2021-07-28T14:08:25.634Z"
   },
   {
    "duration": 72,
    "start_time": "2021-07-28T14:08:27.104Z"
   },
   {
    "duration": 8,
    "start_time": "2021-07-28T14:08:27.180Z"
   },
   {
    "duration": 30,
    "start_time": "2021-07-28T14:08:27.190Z"
   },
   {
    "duration": 32,
    "start_time": "2021-07-28T14:08:27.222Z"
   },
   {
    "duration": 15,
    "start_time": "2021-07-28T14:08:27.256Z"
   },
   {
    "duration": 27,
    "start_time": "2021-07-28T14:08:27.274Z"
   },
   {
    "duration": 20,
    "start_time": "2021-07-28T14:08:27.305Z"
   },
   {
    "duration": 35,
    "start_time": "2021-07-28T14:08:27.329Z"
   },
   {
    "duration": 24,
    "start_time": "2021-07-28T14:08:27.368Z"
   },
   {
    "duration": 600,
    "start_time": "2021-07-28T14:08:27.395Z"
   },
   {
    "duration": 14,
    "start_time": "2021-07-28T14:08:27.998Z"
   },
   {
    "duration": 351,
    "start_time": "2021-07-28T14:08:28.015Z"
   },
   {
    "duration": 331,
    "start_time": "2021-07-28T14:08:28.369Z"
   },
   {
    "duration": 18,
    "start_time": "2021-07-28T14:08:28.703Z"
   },
   {
    "duration": 442,
    "start_time": "2021-07-28T14:08:28.724Z"
   },
   {
    "duration": 18,
    "start_time": "2021-07-28T14:08:29.169Z"
   },
   {
    "duration": 329,
    "start_time": "2021-07-28T14:08:29.189Z"
   },
   {
    "duration": 12,
    "start_time": "2021-07-28T14:08:29.520Z"
   },
   {
    "duration": 418,
    "start_time": "2021-07-28T14:08:29.535Z"
   },
   {
    "duration": 22,
    "start_time": "2021-07-28T14:08:29.956Z"
   },
   {
    "duration": 221,
    "start_time": "2021-07-28T14:08:29.981Z"
   },
   {
    "duration": 8,
    "start_time": "2021-07-28T14:08:30.206Z"
   },
   {
    "duration": 278,
    "start_time": "2021-07-28T14:08:30.216Z"
   },
   {
    "duration": 382,
    "start_time": "2021-07-28T14:08:30.496Z"
   },
   {
    "duration": 5,
    "start_time": "2021-07-28T14:08:30.880Z"
   },
   {
    "duration": 439,
    "start_time": "2021-07-28T14:08:30.888Z"
   },
   {
    "duration": 489,
    "start_time": "2021-07-28T14:08:31.330Z"
   },
   {
    "duration": 6,
    "start_time": "2021-07-28T14:08:31.821Z"
   },
   {
    "duration": 275,
    "start_time": "2021-07-28T14:08:31.829Z"
   },
   {
    "duration": 102,
    "start_time": "2021-07-28T14:08:32.107Z"
   },
   {
    "duration": 6,
    "start_time": "2021-07-28T14:08:32.211Z"
   },
   {
    "duration": 43,
    "start_time": "2021-07-28T14:08:32.220Z"
   },
   {
    "duration": 14,
    "start_time": "2021-07-28T14:08:32.266Z"
   },
   {
    "duration": 14,
    "start_time": "2021-07-28T14:08:32.282Z"
   },
   {
    "duration": 47,
    "start_time": "2021-07-28T14:08:32.298Z"
   },
   {
    "duration": 67,
    "start_time": "2021-07-28T14:08:32.363Z"
   },
   {
    "duration": 36,
    "start_time": "2021-07-28T14:08:32.433Z"
   },
   {
    "duration": 1391,
    "start_time": "2021-07-28T16:51:14.041Z"
   },
   {
    "duration": 63,
    "start_time": "2021-07-28T16:51:15.434Z"
   },
   {
    "duration": 9,
    "start_time": "2021-07-28T16:51:15.500Z"
   },
   {
    "duration": 12,
    "start_time": "2021-07-28T16:51:15.512Z"
   },
   {
    "duration": 11,
    "start_time": "2021-07-28T16:51:15.526Z"
   },
   {
    "duration": 7,
    "start_time": "2021-07-28T16:51:15.539Z"
   },
   {
    "duration": 19,
    "start_time": "2021-07-28T16:51:15.549Z"
   },
   {
    "duration": 20,
    "start_time": "2021-07-28T16:51:15.571Z"
   },
   {
    "duration": 17,
    "start_time": "2021-07-28T16:51:15.595Z"
   },
   {
    "duration": 15,
    "start_time": "2021-07-28T16:51:15.615Z"
   },
   {
    "duration": 612,
    "start_time": "2021-07-28T16:51:15.661Z"
   },
   {
    "duration": 10,
    "start_time": "2021-07-28T16:51:16.275Z"
   },
   {
    "duration": 348,
    "start_time": "2021-07-28T16:51:16.287Z"
   },
   {
    "duration": 351,
    "start_time": "2021-07-28T16:51:16.637Z"
   },
   {
    "duration": 16,
    "start_time": "2021-07-28T16:51:16.991Z"
   },
   {
    "duration": 450,
    "start_time": "2021-07-28T16:51:17.009Z"
   },
   {
    "duration": 19,
    "start_time": "2021-07-28T16:51:17.463Z"
   },
   {
    "duration": 328,
    "start_time": "2021-07-28T16:51:17.486Z"
   },
   {
    "duration": 12,
    "start_time": "2021-07-28T16:51:17.817Z"
   },
   {
    "duration": 432,
    "start_time": "2021-07-28T16:51:17.832Z"
   },
   {
    "duration": 19,
    "start_time": "2021-07-28T16:51:18.266Z"
   },
   {
    "duration": 230,
    "start_time": "2021-07-28T16:51:18.288Z"
   },
   {
    "duration": 7,
    "start_time": "2021-07-28T16:51:18.521Z"
   },
   {
    "duration": 289,
    "start_time": "2021-07-28T16:51:18.530Z"
   },
   {
    "duration": 410,
    "start_time": "2021-07-28T16:51:18.821Z"
   },
   {
    "duration": 5,
    "start_time": "2021-07-28T16:51:19.234Z"
   },
   {
    "duration": 321,
    "start_time": "2021-07-28T16:51:19.243Z"
   },
   {
    "duration": 497,
    "start_time": "2021-07-28T16:51:19.567Z"
   },
   {
    "duration": 5,
    "start_time": "2021-07-28T16:51:20.067Z"
   },
   {
    "duration": 235,
    "start_time": "2021-07-28T16:51:20.074Z"
   },
   {
    "duration": 102,
    "start_time": "2021-07-28T16:51:20.311Z"
   },
   {
    "duration": 5,
    "start_time": "2021-07-28T16:51:20.415Z"
   },
   {
    "duration": 16,
    "start_time": "2021-07-28T16:51:20.422Z"
   },
   {
    "duration": 12,
    "start_time": "2021-07-28T16:51:20.461Z"
   },
   {
    "duration": 17,
    "start_time": "2021-07-28T16:51:20.475Z"
   },
   {
    "duration": 30,
    "start_time": "2021-07-28T16:51:20.494Z"
   },
   {
    "duration": 95,
    "start_time": "2021-07-28T16:51:20.527Z"
   },
   {
    "duration": 38,
    "start_time": "2021-07-28T16:51:20.625Z"
   },
   {
    "duration": 8,
    "start_time": "2021-07-28T16:58:17.820Z"
   },
   {
    "duration": 130,
    "start_time": "2021-07-28T16:59:38.810Z"
   },
   {
    "duration": 349,
    "start_time": "2021-07-29T06:18:11.258Z"
   },
   {
    "duration": 1402,
    "start_time": "2021-07-29T06:18:16.623Z"
   },
   {
    "duration": 114,
    "start_time": "2021-07-29T06:18:18.028Z"
   },
   {
    "duration": 9,
    "start_time": "2021-07-29T06:18:19.410Z"
   },
   {
    "duration": 344,
    "start_time": "2021-07-29T06:18:19.911Z"
   },
   {
    "duration": 762,
    "start_time": "2021-07-29T06:19:32.591Z"
   },
   {
    "duration": 10,
    "start_time": "2021-07-29T06:21:05.440Z"
   },
   {
    "duration": 8,
    "start_time": "2021-07-29T06:21:25.491Z"
   },
   {
    "duration": 9,
    "start_time": "2021-07-29T06:22:01.642Z"
   },
   {
    "duration": 8,
    "start_time": "2021-07-29T06:22:14.201Z"
   },
   {
    "duration": 388,
    "start_time": "2021-07-29T06:25:22.855Z"
   },
   {
    "duration": 903,
    "start_time": "2021-07-29T06:27:06.862Z"
   },
   {
    "duration": 15,
    "start_time": "2021-07-29T06:29:13.922Z"
   },
   {
    "duration": 17,
    "start_time": "2021-07-29T06:30:14.015Z"
   },
   {
    "duration": 18,
    "start_time": "2021-07-29T06:31:29.016Z"
   },
   {
    "duration": 13,
    "start_time": "2021-07-29T06:31:37.149Z"
   },
   {
    "duration": 19,
    "start_time": "2021-07-29T06:31:53.590Z"
   },
   {
    "duration": 111,
    "start_time": "2021-07-29T06:34:12.178Z"
   },
   {
    "duration": 388,
    "start_time": "2021-07-29T06:34:27.435Z"
   },
   {
    "duration": 17,
    "start_time": "2021-07-29T06:35:15.578Z"
   },
   {
    "duration": 18,
    "start_time": "2021-07-29T06:37:36.790Z"
   },
   {
    "duration": 423,
    "start_time": "2021-07-29T06:42:45.773Z"
   },
   {
    "duration": 379,
    "start_time": "2021-07-29T06:43:07.815Z"
   },
   {
    "duration": 341,
    "start_time": "2021-07-29T06:43:32.927Z"
   },
   {
    "duration": 350,
    "start_time": "2021-07-29T06:43:40.323Z"
   },
   {
    "duration": 515,
    "start_time": "2021-07-29T06:43:53.358Z"
   },
   {
    "duration": 326,
    "start_time": "2021-07-29T06:44:05.869Z"
   },
   {
    "duration": 4,
    "start_time": "2021-07-29T06:44:18.526Z"
   },
   {
    "duration": 6,
    "start_time": "2021-07-29T06:44:34.908Z"
   },
   {
    "duration": 13,
    "start_time": "2021-07-29T06:44:46.450Z"
   },
   {
    "duration": 184,
    "start_time": "2021-07-29T06:56:17.660Z"
   },
   {
    "duration": 4,
    "start_time": "2021-07-29T07:00:28.087Z"
   },
   {
    "duration": 6,
    "start_time": "2021-07-29T07:00:44.255Z"
   },
   {
    "duration": 125,
    "start_time": "2021-07-29T07:19:08.923Z"
   },
   {
    "duration": 91,
    "start_time": "2021-07-29T07:24:53.025Z"
   },
   {
    "duration": 117,
    "start_time": "2021-07-29T07:27:53.253Z"
   },
   {
    "duration": 8441,
    "start_time": "2021-07-29T07:28:09.067Z"
   },
   {
    "duration": 7786,
    "start_time": "2021-07-29T07:28:19.398Z"
   },
   {
    "duration": 1335,
    "start_time": "2021-07-29T07:28:42.168Z"
   },
   {
    "duration": 75,
    "start_time": "2021-07-29T07:28:43.505Z"
   },
   {
    "duration": 9,
    "start_time": "2021-07-29T07:28:43.583Z"
   },
   {
    "duration": 9,
    "start_time": "2021-07-29T07:28:43.595Z"
   },
   {
    "duration": 12,
    "start_time": "2021-07-29T07:28:43.606Z"
   },
   {
    "duration": 14,
    "start_time": "2021-07-29T07:28:43.621Z"
   },
   {
    "duration": 22,
    "start_time": "2021-07-29T07:28:43.638Z"
   },
   {
    "duration": 28,
    "start_time": "2021-07-29T07:28:43.664Z"
   },
   {
    "duration": 17,
    "start_time": "2021-07-29T07:28:43.694Z"
   },
   {
    "duration": 9,
    "start_time": "2021-07-29T07:28:43.713Z"
   },
   {
    "duration": 34,
    "start_time": "2021-07-29T07:28:43.725Z"
   },
   {
    "duration": 15,
    "start_time": "2021-07-29T07:28:43.761Z"
   },
   {
    "duration": 16,
    "start_time": "2021-07-29T07:28:43.779Z"
   },
   {
    "duration": 17,
    "start_time": "2021-07-29T07:28:43.797Z"
   },
   {
    "duration": 45,
    "start_time": "2021-07-29T07:28:43.817Z"
   },
   {
    "duration": 13,
    "start_time": "2021-07-29T07:28:43.864Z"
   },
   {
    "duration": 12,
    "start_time": "2021-07-29T07:28:43.880Z"
   },
   {
    "duration": 15,
    "start_time": "2021-07-29T07:28:43.895Z"
   },
   {
    "duration": 48,
    "start_time": "2021-07-29T07:28:43.913Z"
   },
   {
    "duration": 583,
    "start_time": "2021-07-29T07:28:43.963Z"
   },
   {
    "duration": 14,
    "start_time": "2021-07-29T07:28:44.549Z"
   },
   {
    "duration": 331,
    "start_time": "2021-07-29T07:28:44.565Z"
   },
   {
    "duration": 307,
    "start_time": "2021-07-29T07:28:44.901Z"
   },
   {
    "duration": 16,
    "start_time": "2021-07-29T07:28:45.210Z"
   },
   {
    "duration": 412,
    "start_time": "2021-07-29T07:28:45.229Z"
   },
   {
    "duration": 24,
    "start_time": "2021-07-29T07:28:45.644Z"
   },
   {
    "duration": 296,
    "start_time": "2021-07-29T07:28:45.670Z"
   },
   {
    "duration": 11,
    "start_time": "2021-07-29T07:28:45.968Z"
   },
   {
    "duration": 391,
    "start_time": "2021-07-29T07:28:45.982Z"
   },
   {
    "duration": 18,
    "start_time": "2021-07-29T07:28:46.375Z"
   },
   {
    "duration": 207,
    "start_time": "2021-07-29T07:28:46.396Z"
   },
   {
    "duration": 8,
    "start_time": "2021-07-29T07:28:46.605Z"
   },
   {
    "duration": 271,
    "start_time": "2021-07-29T07:28:46.616Z"
   },
   {
    "duration": 367,
    "start_time": "2021-07-29T07:28:46.890Z"
   },
   {
    "duration": 6,
    "start_time": "2021-07-29T07:28:47.259Z"
   },
   {
    "duration": 326,
    "start_time": "2021-07-29T07:28:47.268Z"
   },
   {
    "duration": 459,
    "start_time": "2021-07-29T07:28:47.597Z"
   },
   {
    "duration": 6,
    "start_time": "2021-07-29T07:28:48.058Z"
   },
   {
    "duration": 239,
    "start_time": "2021-07-29T07:28:48.067Z"
   },
   {
    "duration": 100,
    "start_time": "2021-07-29T07:28:48.309Z"
   },
   {
    "duration": 6,
    "start_time": "2021-07-29T07:28:48.412Z"
   },
   {
    "duration": 36,
    "start_time": "2021-07-29T07:28:48.420Z"
   },
   {
    "duration": 14,
    "start_time": "2021-07-29T07:28:48.458Z"
   },
   {
    "duration": 17,
    "start_time": "2021-07-29T07:28:48.474Z"
   },
   {
    "duration": 34,
    "start_time": "2021-07-29T07:28:48.493Z"
   },
   {
    "duration": 79,
    "start_time": "2021-07-29T07:28:48.530Z"
   },
   {
    "duration": 20,
    "start_time": "2021-07-29T07:28:48.611Z"
   },
   {
    "duration": 101,
    "start_time": "2021-07-29T07:41:35.460Z"
   },
   {
    "duration": 704,
    "start_time": "2021-07-29T07:50:51.241Z"
   },
   {
    "duration": 574,
    "start_time": "2021-07-29T07:51:06.387Z"
   },
   {
    "duration": 340,
    "start_time": "2021-07-29T07:51:29.253Z"
   },
   {
    "duration": 308,
    "start_time": "2021-07-29T07:52:21.378Z"
   },
   {
    "duration": 304,
    "start_time": "2021-07-29T07:57:50.094Z"
   },
   {
    "duration": 339,
    "start_time": "2021-07-29T07:58:16.912Z"
   },
   {
    "duration": 414,
    "start_time": "2021-07-29T08:00:00.472Z"
   },
   {
    "duration": 93,
    "start_time": "2021-07-29T08:02:30.405Z"
   },
   {
    "duration": 338,
    "start_time": "2021-07-29T08:04:42.657Z"
   },
   {
    "duration": 414,
    "start_time": "2021-07-29T08:05:56.514Z"
   },
   {
    "duration": 435,
    "start_time": "2021-07-29T08:06:23.033Z"
   },
   {
    "duration": 420,
    "start_time": "2021-07-29T08:06:47.071Z"
   },
   {
    "duration": 511,
    "start_time": "2021-07-29T08:07:10.681Z"
   },
   {
    "duration": 564,
    "start_time": "2021-07-29T08:21:35.908Z"
   },
   {
    "duration": 642,
    "start_time": "2021-07-29T08:21:57.923Z"
   },
   {
    "duration": 1770,
    "start_time": "2021-07-29T08:23:22.694Z"
   },
   {
    "duration": 426,
    "start_time": "2021-07-29T08:23:36.058Z"
   },
   {
    "duration": 451,
    "start_time": "2021-07-29T08:25:55.776Z"
   },
   {
    "duration": 331,
    "start_time": "2021-07-29T08:26:15.259Z"
   },
   {
    "duration": 353,
    "start_time": "2021-07-29T08:27:17.141Z"
   },
   {
    "duration": 317,
    "start_time": "2021-07-29T08:27:25.776Z"
   },
   {
    "duration": 420,
    "start_time": "2021-07-29T08:27:56.691Z"
   },
   {
    "duration": 310,
    "start_time": "2021-07-29T08:29:24.985Z"
   },
   {
    "duration": 314,
    "start_time": "2021-07-29T08:29:46.986Z"
   },
   {
    "duration": 424,
    "start_time": "2021-07-29T08:29:54.153Z"
   },
   {
    "duration": 299,
    "start_time": "2021-07-29T08:29:59.686Z"
   },
   {
    "duration": 437,
    "start_time": "2021-07-29T08:30:08.855Z"
   },
   {
    "duration": 398,
    "start_time": "2021-07-29T08:30:42.275Z"
   },
   {
    "duration": 408,
    "start_time": "2021-07-29T08:31:40.967Z"
   },
   {
    "duration": 286,
    "start_time": "2021-07-29T08:33:30.876Z"
   },
   {
    "duration": 266,
    "start_time": "2021-07-29T08:33:46.259Z"
   },
   {
    "duration": 348,
    "start_time": "2021-07-29T08:34:56.707Z"
   },
   {
    "duration": 353,
    "start_time": "2021-07-29T08:35:33.180Z"
   },
   {
    "duration": 348,
    "start_time": "2021-07-29T08:36:55.675Z"
   },
   {
    "duration": 409,
    "start_time": "2021-07-29T08:37:50.518Z"
   },
   {
    "duration": 349,
    "start_time": "2021-07-29T09:21:56.428Z"
   },
   {
    "duration": 24,
    "start_time": "2021-07-29T09:22:06.036Z"
   },
   {
    "duration": 24,
    "start_time": "2021-07-29T09:23:05.771Z"
   },
   {
    "duration": 413,
    "start_time": "2021-07-29T09:28:00.068Z"
   },
   {
    "duration": 20,
    "start_time": "2021-07-29T09:49:26.721Z"
   },
   {
    "duration": 305,
    "start_time": "2021-07-29T10:05:59.851Z"
   },
   {
    "duration": 15,
    "start_time": "2021-07-29T10:07:19.780Z"
   },
   {
    "duration": 24,
    "start_time": "2021-07-29T10:09:16.148Z"
   },
   {
    "duration": 1313,
    "start_time": "2021-07-29T10:17:56.385Z"
   },
   {
    "duration": 107,
    "start_time": "2021-07-29T10:17:57.700Z"
   },
   {
    "duration": 9,
    "start_time": "2021-07-29T10:17:57.810Z"
   },
   {
    "duration": 9,
    "start_time": "2021-07-29T10:17:57.822Z"
   },
   {
    "duration": 11,
    "start_time": "2021-07-29T10:17:57.833Z"
   },
   {
    "duration": 12,
    "start_time": "2021-07-29T10:17:57.846Z"
   },
   {
    "duration": 10,
    "start_time": "2021-07-29T10:17:57.861Z"
   },
   {
    "duration": 22,
    "start_time": "2021-07-29T10:17:57.875Z"
   },
   {
    "duration": 16,
    "start_time": "2021-07-29T10:17:57.900Z"
   },
   {
    "duration": 39,
    "start_time": "2021-07-29T10:17:57.918Z"
   },
   {
    "duration": 11,
    "start_time": "2021-07-29T10:17:57.960Z"
   },
   {
    "duration": 7,
    "start_time": "2021-07-29T10:17:57.973Z"
   },
   {
    "duration": 14,
    "start_time": "2021-07-29T10:17:57.982Z"
   },
   {
    "duration": 17,
    "start_time": "2021-07-29T10:17:57.998Z"
   },
   {
    "duration": 51,
    "start_time": "2021-07-29T10:17:58.017Z"
   },
   {
    "duration": 11,
    "start_time": "2021-07-29T10:17:58.070Z"
   },
   {
    "duration": 15,
    "start_time": "2021-07-29T10:17:58.084Z"
   },
   {
    "duration": 15,
    "start_time": "2021-07-29T10:17:58.102Z"
   },
   {
    "duration": 48,
    "start_time": "2021-07-29T10:17:58.120Z"
   },
   {
    "duration": 579,
    "start_time": "2021-07-29T10:17:58.171Z"
   },
   {
    "duration": 10,
    "start_time": "2021-07-29T10:17:58.756Z"
   },
   {
    "duration": 315,
    "start_time": "2021-07-29T10:17:58.768Z"
   },
   {
    "duration": 420,
    "start_time": "2021-07-29T10:17:59.088Z"
   },
   {
    "duration": 326,
    "start_time": "2021-07-29T10:17:59.511Z"
   },
   {
    "duration": 25,
    "start_time": "2021-07-29T10:17:59.840Z"
   },
   {
    "duration": 434,
    "start_time": "2021-07-29T10:17:59.868Z"
   },
   {
    "duration": 18,
    "start_time": "2021-07-29T10:18:00.305Z"
   },
   {
    "duration": 312,
    "start_time": "2021-07-29T10:18:00.326Z"
   },
   {
    "duration": 21,
    "start_time": "2021-07-29T10:18:00.641Z"
   },
   {
    "duration": 402,
    "start_time": "2021-07-29T10:18:00.664Z"
   },
   {
    "duration": 17,
    "start_time": "2021-07-29T10:18:01.068Z"
   },
   {
    "duration": 224,
    "start_time": "2021-07-29T10:18:01.088Z"
   },
   {
    "duration": 10,
    "start_time": "2021-07-29T10:18:01.315Z"
   },
   {
    "duration": 302,
    "start_time": "2021-07-29T10:18:01.328Z"
   },
   {
    "duration": 411,
    "start_time": "2021-07-29T10:18:01.633Z"
   },
   {
    "duration": 10,
    "start_time": "2021-07-29T10:18:02.047Z"
   },
   {
    "duration": 385,
    "start_time": "2021-07-29T10:18:02.060Z"
   },
   {
    "duration": 389,
    "start_time": "2021-07-29T10:18:02.455Z"
   },
   {
    "duration": 13,
    "start_time": "2021-07-29T10:18:02.846Z"
   },
   {
    "duration": 219,
    "start_time": "2021-07-29T10:18:02.861Z"
   },
   {
    "duration": 94,
    "start_time": "2021-07-29T10:18:03.082Z"
   },
   {
    "duration": 6,
    "start_time": "2021-07-29T10:18:03.179Z"
   },
   {
    "duration": 26,
    "start_time": "2021-07-29T10:18:03.187Z"
   },
   {
    "duration": 25,
    "start_time": "2021-07-29T10:18:03.215Z"
   },
   {
    "duration": 21,
    "start_time": "2021-07-29T10:18:03.243Z"
   },
   {
    "duration": 34,
    "start_time": "2021-07-29T10:18:03.267Z"
   },
   {
    "duration": 84,
    "start_time": "2021-07-29T10:18:03.303Z"
   },
   {
    "duration": 22,
    "start_time": "2021-07-29T10:18:03.390Z"
   },
   {
    "duration": 7,
    "start_time": "2021-07-29T10:19:25.837Z"
   },
   {
    "duration": 89,
    "start_time": "2021-07-29T10:25:50.427Z"
   },
   {
    "duration": 647,
    "start_time": "2021-07-29T10:26:15.867Z"
   },
   {
    "duration": 17,
    "start_time": "2021-07-29T10:26:35.709Z"
   },
   {
    "duration": 425,
    "start_time": "2021-07-29T10:31:18.991Z"
   },
   {
    "duration": 427,
    "start_time": "2021-07-29T10:31:51.570Z"
   },
   {
    "duration": 237,
    "start_time": "2021-07-29T10:42:36.165Z"
   },
   {
    "duration": 10,
    "start_time": "2021-07-29T10:44:24.811Z"
   },
   {
    "duration": 9,
    "start_time": "2021-07-29T10:46:48.248Z"
   },
   {
    "duration": 123,
    "start_time": "2021-07-29T10:48:21.359Z"
   },
   {
    "duration": 15,
    "start_time": "2021-07-29T10:48:50.205Z"
   },
   {
    "duration": 14,
    "start_time": "2021-07-29T10:52:05.737Z"
   },
   {
    "duration": 14,
    "start_time": "2021-07-29T10:55:16.708Z"
   },
   {
    "duration": 14,
    "start_time": "2021-07-29T10:56:06.034Z"
   },
   {
    "duration": 13,
    "start_time": "2021-07-29T10:56:23.994Z"
   },
   {
    "duration": 14,
    "start_time": "2021-07-29T11:04:16.137Z"
   },
   {
    "duration": 14,
    "start_time": "2021-07-29T11:04:38.203Z"
   },
   {
    "duration": 15,
    "start_time": "2021-07-29T11:04:45.817Z"
   },
   {
    "duration": 14,
    "start_time": "2021-07-29T11:09:14.134Z"
   },
   {
    "duration": 7752,
    "start_time": "2021-07-29T11:14:06.767Z"
   },
   {
    "duration": 14,
    "start_time": "2021-07-29T11:14:34.788Z"
   },
   {
    "duration": 13,
    "start_time": "2021-07-29T11:16:03.837Z"
   },
   {
    "duration": 10,
    "start_time": "2021-07-29T11:16:45.520Z"
   },
   {
    "duration": 9,
    "start_time": "2021-07-29T11:18:51.086Z"
   },
   {
    "duration": 9,
    "start_time": "2021-07-29T11:18:59.084Z"
   },
   {
    "duration": 105,
    "start_time": "2021-07-29T11:22:28.603Z"
   },
   {
    "duration": 97,
    "start_time": "2021-07-29T11:22:44.801Z"
   },
   {
    "duration": 113,
    "start_time": "2021-07-29T11:22:51.993Z"
   },
   {
    "duration": 105,
    "start_time": "2021-07-29T11:23:20.043Z"
   },
   {
    "duration": 19,
    "start_time": "2021-07-29T11:23:39.119Z"
   },
   {
    "duration": 21,
    "start_time": "2021-07-29T11:26:05.117Z"
   },
   {
    "duration": 13,
    "start_time": "2021-07-29T11:44:11.261Z"
   },
   {
    "duration": 14,
    "start_time": "2021-07-29T11:44:54.215Z"
   },
   {
    "duration": 4,
    "start_time": "2021-07-29T11:44:54.937Z"
   },
   {
    "duration": 14,
    "start_time": "2021-07-29T11:49:03.406Z"
   },
   {
    "duration": 14,
    "start_time": "2021-07-29T11:49:17.922Z"
   },
   {
    "duration": 11,
    "start_time": "2021-07-29T11:49:21.386Z"
   },
   {
    "duration": 9,
    "start_time": "2021-07-29T11:49:22.381Z"
   },
   {
    "duration": 20,
    "start_time": "2021-07-29T11:49:23.310Z"
   },
   {
    "duration": 19,
    "start_time": "2021-07-29T11:50:45.872Z"
   },
   {
    "duration": 9,
    "start_time": "2021-07-29T11:51:17.283Z"
   },
   {
    "duration": 6515,
    "start_time": "2021-07-29T11:57:53.747Z"
   },
   {
    "duration": 17,
    "start_time": "2021-07-29T11:59:32.608Z"
   },
   {
    "duration": 14,
    "start_time": "2021-07-29T12:02:14.783Z"
   },
   {
    "duration": 15,
    "start_time": "2021-07-29T12:02:19.724Z"
   },
   {
    "duration": 25,
    "start_time": "2021-07-29T12:03:56.514Z"
   },
   {
    "duration": 1351,
    "start_time": "2021-07-29T12:04:27.255Z"
   },
   {
    "duration": 96,
    "start_time": "2021-07-29T12:04:28.608Z"
   },
   {
    "duration": 9,
    "start_time": "2021-07-29T12:04:28.707Z"
   },
   {
    "duration": 12,
    "start_time": "2021-07-29T12:04:28.718Z"
   },
   {
    "duration": 14,
    "start_time": "2021-07-29T12:04:28.732Z"
   },
   {
    "duration": 6,
    "start_time": "2021-07-29T12:04:28.748Z"
   },
   {
    "duration": 12,
    "start_time": "2021-07-29T12:04:28.756Z"
   },
   {
    "duration": 22,
    "start_time": "2021-07-29T12:04:28.771Z"
   },
   {
    "duration": 16,
    "start_time": "2021-07-29T12:04:28.796Z"
   },
   {
    "duration": 7,
    "start_time": "2021-07-29T12:04:28.815Z"
   },
   {
    "duration": 9,
    "start_time": "2021-07-29T12:04:28.855Z"
   },
   {
    "duration": 7,
    "start_time": "2021-07-29T12:04:28.867Z"
   },
   {
    "duration": 14,
    "start_time": "2021-07-29T12:04:28.876Z"
   },
   {
    "duration": 15,
    "start_time": "2021-07-29T12:04:28.893Z"
   },
   {
    "duration": 54,
    "start_time": "2021-07-29T12:04:28.910Z"
   },
   {
    "duration": 15,
    "start_time": "2021-07-29T12:04:28.966Z"
   },
   {
    "duration": 13,
    "start_time": "2021-07-29T12:04:28.983Z"
   },
   {
    "duration": 16,
    "start_time": "2021-07-29T12:04:28.998Z"
   },
   {
    "duration": 50,
    "start_time": "2021-07-29T12:04:29.016Z"
   },
   {
    "duration": 571,
    "start_time": "2021-07-29T12:04:29.068Z"
   },
   {
    "duration": 16,
    "start_time": "2021-07-29T12:04:29.641Z"
   },
   {
    "duration": 332,
    "start_time": "2021-07-29T12:04:29.659Z"
   },
   {
    "duration": 428,
    "start_time": "2021-07-29T12:04:29.996Z"
   },
   {
    "duration": 342,
    "start_time": "2021-07-29T12:04:30.427Z"
   },
   {
    "duration": 16,
    "start_time": "2021-07-29T12:04:30.772Z"
   },
   {
    "duration": 469,
    "start_time": "2021-07-29T12:04:30.790Z"
   },
   {
    "duration": 16,
    "start_time": "2021-07-29T12:04:31.262Z"
   },
   {
    "duration": 315,
    "start_time": "2021-07-29T12:04:31.280Z"
   },
   {
    "duration": 11,
    "start_time": "2021-07-29T12:04:31.597Z"
   },
   {
    "duration": 446,
    "start_time": "2021-07-29T12:04:31.610Z"
   },
   {
    "duration": 17,
    "start_time": "2021-07-29T12:04:32.058Z"
   },
   {
    "duration": 242,
    "start_time": "2021-07-29T12:04:32.078Z"
   },
   {
    "duration": 7,
    "start_time": "2021-07-29T12:04:32.323Z"
   },
   {
    "duration": 288,
    "start_time": "2021-07-29T12:04:32.333Z"
   },
   {
    "duration": 398,
    "start_time": "2021-07-29T12:04:32.623Z"
   },
   {
    "duration": 6,
    "start_time": "2021-07-29T12:04:33.023Z"
   },
   {
    "duration": 368,
    "start_time": "2021-07-29T12:04:33.031Z"
   },
   {
    "duration": 373,
    "start_time": "2021-07-29T12:04:33.402Z"
   },
   {
    "duration": 5,
    "start_time": "2021-07-29T12:04:33.779Z"
   },
   {
    "duration": 27,
    "start_time": "2021-07-29T12:04:33.787Z"
   },
   {
    "duration": 460,
    "start_time": "2021-07-29T12:04:33.816Z"
   },
   {
    "duration": 248,
    "start_time": "2021-07-29T12:04:34.279Z"
   },
   {
    "duration": 27,
    "start_time": "2021-07-29T12:04:34.529Z"
   },
   {
    "duration": 18,
    "start_time": "2021-07-29T12:04:34.559Z"
   },
   {
    "duration": 3,
    "start_time": "2021-07-29T12:04:34.580Z"
   },
   {
    "duration": 14,
    "start_time": "2021-07-29T12:04:34.585Z"
   },
   {
    "duration": 19,
    "start_time": "2021-07-29T12:04:34.601Z"
   },
   {
    "duration": 39,
    "start_time": "2021-07-29T12:04:34.623Z"
   },
   {
    "duration": 10,
    "start_time": "2021-07-29T12:04:34.665Z"
   },
   {
    "duration": 19,
    "start_time": "2021-07-29T12:04:34.677Z"
   },
   {
    "duration": 100,
    "start_time": "2021-07-29T12:04:34.699Z"
   },
   {
    "duration": 443,
    "start_time": "2021-07-29T12:04:34.358Z"
   },
   {
    "duration": 429,
    "start_time": "2021-07-29T12:04:34.374Z"
   },
   {
    "duration": 420,
    "start_time": "2021-07-29T12:04:34.384Z"
   },
   {
    "duration": 412,
    "start_time": "2021-07-29T12:04:34.393Z"
   },
   {
    "duration": 14,
    "start_time": "2021-07-29T12:07:58.074Z"
   },
   {
    "duration": 6924,
    "start_time": "2021-07-29T12:10:09.901Z"
   },
   {
    "duration": 34,
    "start_time": "2021-07-29T12:10:44.632Z"
   },
   {
    "duration": 14,
    "start_time": "2021-07-29T12:15:04.039Z"
   },
   {
    "duration": 34,
    "start_time": "2021-07-29T12:21:16.400Z"
   },
   {
    "duration": 452,
    "start_time": "2021-07-29T12:35:02.522Z"
   },
   {
    "duration": 1330,
    "start_time": "2021-07-29T13:04:06.272Z"
   },
   {
    "duration": 86,
    "start_time": "2021-07-29T13:04:07.605Z"
   },
   {
    "duration": 9,
    "start_time": "2021-07-29T13:04:07.694Z"
   },
   {
    "duration": 16,
    "start_time": "2021-07-29T13:04:07.706Z"
   },
   {
    "duration": 10,
    "start_time": "2021-07-29T13:04:07.725Z"
   },
   {
    "duration": 5,
    "start_time": "2021-07-29T13:04:07.737Z"
   },
   {
    "duration": 18,
    "start_time": "2021-07-29T13:04:07.745Z"
   },
   {
    "duration": 23,
    "start_time": "2021-07-29T13:04:07.769Z"
   },
   {
    "duration": 22,
    "start_time": "2021-07-29T13:04:07.796Z"
   },
   {
    "duration": 41,
    "start_time": "2021-07-29T13:04:07.821Z"
   },
   {
    "duration": 8,
    "start_time": "2021-07-29T13:04:07.864Z"
   },
   {
    "duration": 7,
    "start_time": "2021-07-29T13:04:07.875Z"
   },
   {
    "duration": 17,
    "start_time": "2021-07-29T13:04:07.884Z"
   },
   {
    "duration": 54,
    "start_time": "2021-07-29T13:04:07.903Z"
   },
   {
    "duration": 14,
    "start_time": "2021-07-29T13:04:07.960Z"
   },
   {
    "duration": 11,
    "start_time": "2021-07-29T13:04:07.977Z"
   },
   {
    "duration": 16,
    "start_time": "2021-07-29T13:04:07.990Z"
   },
   {
    "duration": 52,
    "start_time": "2021-07-29T13:04:08.008Z"
   },
   {
    "duration": 15,
    "start_time": "2021-07-29T13:04:08.062Z"
   },
   {
    "duration": 597,
    "start_time": "2021-07-29T13:04:08.080Z"
   },
   {
    "duration": 10,
    "start_time": "2021-07-29T13:04:08.679Z"
   },
   {
    "duration": 333,
    "start_time": "2021-07-29T13:04:08.691Z"
   },
   {
    "duration": 437,
    "start_time": "2021-07-29T13:04:09.030Z"
   },
   {
    "duration": 338,
    "start_time": "2021-07-29T13:04:09.472Z"
   },
   {
    "duration": 18,
    "start_time": "2021-07-29T13:04:09.813Z"
   },
   {
    "duration": 440,
    "start_time": "2021-07-29T13:04:09.833Z"
   },
   {
    "duration": 17,
    "start_time": "2021-07-29T13:04:10.275Z"
   },
   {
    "duration": 322,
    "start_time": "2021-07-29T13:04:10.294Z"
   },
   {
    "duration": 12,
    "start_time": "2021-07-29T13:04:10.618Z"
   },
   {
    "duration": 426,
    "start_time": "2021-07-29T13:04:10.633Z"
   },
   {
    "duration": 19,
    "start_time": "2021-07-29T13:04:11.061Z"
   },
   {
    "duration": 212,
    "start_time": "2021-07-29T13:04:11.083Z"
   },
   {
    "duration": 8,
    "start_time": "2021-07-29T13:04:11.298Z"
   },
   {
    "duration": 284,
    "start_time": "2021-07-29T13:04:11.308Z"
   },
   {
    "duration": 352,
    "start_time": "2021-07-29T13:04:11.595Z"
   },
   {
    "duration": 10,
    "start_time": "2021-07-29T13:04:11.950Z"
   },
   {
    "duration": 385,
    "start_time": "2021-07-29T13:04:11.963Z"
   },
   {
    "duration": 402,
    "start_time": "2021-07-29T13:04:12.354Z"
   },
   {
    "duration": 6,
    "start_time": "2021-07-29T13:04:12.758Z"
   },
   {
    "duration": 23,
    "start_time": "2021-07-29T13:04:12.767Z"
   },
   {
    "duration": 474,
    "start_time": "2021-07-29T13:04:12.793Z"
   },
   {
    "duration": 236,
    "start_time": "2021-07-29T13:04:13.270Z"
   },
   {
    "duration": 15,
    "start_time": "2021-07-29T13:04:13.509Z"
   },
   {
    "duration": 37,
    "start_time": "2021-07-29T13:04:13.526Z"
   },
   {
    "duration": 13,
    "start_time": "2021-07-29T13:04:13.566Z"
   },
   {
    "duration": 33,
    "start_time": "2021-07-29T13:04:13.581Z"
   },
   {
    "duration": 27,
    "start_time": "2021-07-29T13:04:13.616Z"
   },
   {
    "duration": 23,
    "start_time": "2021-07-29T13:04:13.646Z"
   },
   {
    "duration": 29,
    "start_time": "2021-07-29T13:04:13.671Z"
   },
   {
    "duration": 40,
    "start_time": "2021-07-29T13:04:13.703Z"
   },
   {
    "duration": 1329,
    "start_time": "2021-07-29T16:35:58.850Z"
   },
   {
    "duration": 59,
    "start_time": "2021-07-29T16:36:00.183Z"
   },
   {
    "duration": 9,
    "start_time": "2021-07-29T16:36:00.247Z"
   },
   {
    "duration": 11,
    "start_time": "2021-07-29T16:36:00.259Z"
   },
   {
    "duration": 14,
    "start_time": "2021-07-29T16:36:00.272Z"
   },
   {
    "duration": 11,
    "start_time": "2021-07-29T16:36:00.288Z"
   },
   {
    "duration": 12,
    "start_time": "2021-07-29T16:36:00.301Z"
   },
   {
    "duration": 24,
    "start_time": "2021-07-29T16:36:00.317Z"
   },
   {
    "duration": 38,
    "start_time": "2021-07-29T16:36:00.344Z"
   },
   {
    "duration": 8,
    "start_time": "2021-07-29T16:36:00.385Z"
   },
   {
    "duration": 19,
    "start_time": "2021-07-29T16:36:00.396Z"
   },
   {
    "duration": 10,
    "start_time": "2021-07-29T16:36:00.418Z"
   },
   {
    "duration": 22,
    "start_time": "2021-07-29T16:36:00.431Z"
   },
   {
    "duration": 41,
    "start_time": "2021-07-29T16:36:00.455Z"
   },
   {
    "duration": 13,
    "start_time": "2021-07-29T16:36:00.499Z"
   },
   {
    "duration": 22,
    "start_time": "2021-07-29T16:36:00.515Z"
   },
   {
    "duration": 15,
    "start_time": "2021-07-29T16:36:00.539Z"
   },
   {
    "duration": 41,
    "start_time": "2021-07-29T16:36:00.556Z"
   },
   {
    "duration": 17,
    "start_time": "2021-07-29T16:36:00.599Z"
   },
   {
    "duration": 591,
    "start_time": "2021-07-29T16:36:00.618Z"
   },
   {
    "duration": 10,
    "start_time": "2021-07-29T16:36:01.211Z"
   },
   {
    "duration": 335,
    "start_time": "2021-07-29T16:36:01.223Z"
   },
   {
    "duration": 429,
    "start_time": "2021-07-29T16:36:01.563Z"
   },
   {
    "duration": 333,
    "start_time": "2021-07-29T16:36:01.995Z"
   },
   {
    "duration": 17,
    "start_time": "2021-07-29T16:36:02.330Z"
   },
   {
    "duration": 458,
    "start_time": "2021-07-29T16:36:02.349Z"
   },
   {
    "duration": 17,
    "start_time": "2021-07-29T16:36:02.809Z"
   },
   {
    "duration": 310,
    "start_time": "2021-07-29T16:36:02.828Z"
   },
   {
    "duration": 12,
    "start_time": "2021-07-29T16:36:03.141Z"
   },
   {
    "duration": 428,
    "start_time": "2021-07-29T16:36:03.156Z"
   },
   {
    "duration": 17,
    "start_time": "2021-07-29T16:36:03.586Z"
   },
   {
    "duration": 258,
    "start_time": "2021-07-29T16:36:03.606Z"
   },
   {
    "duration": 21,
    "start_time": "2021-07-29T16:36:03.866Z"
   },
   {
    "duration": 267,
    "start_time": "2021-07-29T16:36:03.889Z"
   },
   {
    "duration": 409,
    "start_time": "2021-07-29T16:36:04.158Z"
   },
   {
    "duration": 13,
    "start_time": "2021-07-29T16:36:04.570Z"
   },
   {
    "duration": 351,
    "start_time": "2021-07-29T16:36:04.586Z"
   },
   {
    "duration": 444,
    "start_time": "2021-07-29T16:36:04.940Z"
   },
   {
    "duration": 6,
    "start_time": "2021-07-29T16:36:05.387Z"
   },
   {
    "duration": 33,
    "start_time": "2021-07-29T16:36:05.395Z"
   },
   {
    "duration": 439,
    "start_time": "2021-07-29T16:36:05.430Z"
   },
   {
    "duration": 232,
    "start_time": "2021-07-29T16:36:05.872Z"
   },
   {
    "duration": 15,
    "start_time": "2021-07-29T16:36:06.107Z"
   },
   {
    "duration": 16,
    "start_time": "2021-07-29T16:36:06.124Z"
   },
   {
    "duration": 41,
    "start_time": "2021-07-29T16:36:06.142Z"
   },
   {
    "duration": 13,
    "start_time": "2021-07-29T16:36:06.185Z"
   },
   {
    "duration": 9,
    "start_time": "2021-07-29T16:36:06.200Z"
   },
   {
    "duration": 19,
    "start_time": "2021-07-29T16:36:06.211Z"
   },
   {
    "duration": 53,
    "start_time": "2021-07-29T16:36:06.232Z"
   },
   {
    "duration": 37,
    "start_time": "2021-07-29T16:36:06.287Z"
   },
   {
    "duration": 371,
    "start_time": "2021-07-30T06:30:22.908Z"
   },
   {
    "duration": 1058,
    "start_time": "2021-07-30T06:31:02.991Z"
   },
   {
    "duration": 96,
    "start_time": "2021-07-30T06:31:04.050Z"
   },
   {
    "duration": 7,
    "start_time": "2021-07-30T06:31:04.149Z"
   },
   {
    "duration": 9,
    "start_time": "2021-07-30T06:31:04.158Z"
   },
   {
    "duration": 7,
    "start_time": "2021-07-30T06:31:04.169Z"
   },
   {
    "duration": 3,
    "start_time": "2021-07-30T06:31:04.385Z"
   },
   {
    "duration": 7,
    "start_time": "2021-07-30T06:31:04.776Z"
   },
   {
    "duration": 13,
    "start_time": "2021-07-30T06:31:05.002Z"
   },
   {
    "duration": 13,
    "start_time": "2021-07-30T06:31:05.154Z"
   },
   {
    "duration": 5,
    "start_time": "2021-07-30T06:31:05.922Z"
   },
   {
    "duration": 6,
    "start_time": "2021-07-30T06:31:06.128Z"
   },
   {
    "duration": 6,
    "start_time": "2021-07-30T06:31:06.363Z"
   },
   {
    "duration": 9,
    "start_time": "2021-07-30T06:31:06.563Z"
   },
   {
    "duration": 12,
    "start_time": "2021-07-30T06:31:06.771Z"
   },
   {
    "duration": 9,
    "start_time": "2021-07-30T06:31:06.954Z"
   },
   {
    "duration": 7,
    "start_time": "2021-07-30T06:31:08.168Z"
   },
   {
    "duration": 8,
    "start_time": "2021-07-30T06:31:08.388Z"
   },
   {
    "duration": 14,
    "start_time": "2021-07-30T06:31:09.452Z"
   },
   {
    "duration": 12,
    "start_time": "2021-07-30T06:31:10.117Z"
   },
   {
    "duration": 329,
    "start_time": "2021-07-30T06:31:12.076Z"
   },
   {
    "duration": 7,
    "start_time": "2021-07-30T06:31:12.533Z"
   },
   {
    "duration": 179,
    "start_time": "2021-07-30T06:31:12.996Z"
   },
   {
    "duration": 238,
    "start_time": "2021-07-30T06:31:13.215Z"
   },
   {
    "duration": 194,
    "start_time": "2021-07-30T06:31:14.995Z"
   },
   {
    "duration": 11,
    "start_time": "2021-07-30T06:31:15.683Z"
   },
   {
    "duration": 300,
    "start_time": "2021-07-30T06:31:15.901Z"
   },
   {
    "duration": 11,
    "start_time": "2021-07-30T06:31:16.573Z"
   },
   {
    "duration": 181,
    "start_time": "2021-07-30T06:31:16.814Z"
   },
   {
    "duration": 8,
    "start_time": "2021-07-30T06:31:17.901Z"
   },
   {
    "duration": 314,
    "start_time": "2021-07-30T06:31:18.115Z"
   },
   {
    "duration": 13,
    "start_time": "2021-07-30T06:31:19.250Z"
   },
   {
    "duration": 102,
    "start_time": "2021-07-30T06:31:19.484Z"
   },
   {
    "duration": 6,
    "start_time": "2021-07-30T06:31:19.701Z"
   },
   {
    "duration": 162,
    "start_time": "2021-07-30T06:31:19.932Z"
   },
   {
    "duration": 282,
    "start_time": "2021-07-30T06:31:20.421Z"
   },
   {
    "duration": 4,
    "start_time": "2021-07-30T06:31:21.043Z"
   },
   {
    "duration": 223,
    "start_time": "2021-07-30T06:31:22.672Z"
   },
   {
    "duration": 259,
    "start_time": "2021-07-30T06:31:22.897Z"
   },
   {
    "duration": 5,
    "start_time": "2021-07-30T06:31:23.159Z"
   },
   {
    "duration": 12,
    "start_time": "2021-07-30T06:31:24.206Z"
   },
   {
    "duration": 259,
    "start_time": "2021-07-30T06:31:24.465Z"
   },
   {
    "duration": 98,
    "start_time": "2021-07-30T06:31:24.970Z"
   },
   {
    "duration": 11,
    "start_time": "2021-07-30T06:31:25.212Z"
   },
   {
    "duration": 10,
    "start_time": "2021-07-30T06:31:25.459Z"
   },
   {
    "duration": 9,
    "start_time": "2021-07-30T06:31:25.939Z"
   },
   {
    "duration": 8,
    "start_time": "2021-07-30T06:31:26.633Z"
   },
   {
    "duration": 7,
    "start_time": "2021-07-30T06:31:26.899Z"
   },
   {
    "duration": 14,
    "start_time": "2021-07-30T06:31:27.139Z"
   },
   {
    "duration": 10,
    "start_time": "2021-07-30T06:31:27.412Z"
   },
   {
    "duration": 24,
    "start_time": "2021-07-30T06:31:27.661Z"
   },
   {
    "duration": 113,
    "start_time": "2021-07-30T06:34:00.137Z"
   },
   {
    "duration": 124,
    "start_time": "2021-07-30T06:44:00.140Z"
   },
   {
    "duration": 98,
    "start_time": "2021-07-30T06:44:48.776Z"
   },
   {
    "duration": 102,
    "start_time": "2021-07-30T06:45:13.971Z"
   },
   {
    "duration": 90,
    "start_time": "2021-07-30T06:46:06.020Z"
   },
   {
    "duration": 83,
    "start_time": "2021-07-30T06:46:10.226Z"
   },
   {
    "duration": 298,
    "start_time": "2021-07-30T06:46:21.169Z"
   },
   {
    "duration": 103,
    "start_time": "2021-07-30T06:47:40.727Z"
   },
   {
    "duration": 88,
    "start_time": "2021-07-30T07:14:50.302Z"
   },
   {
    "duration": 6865,
    "start_time": "2021-07-30T07:15:01.183Z"
   },
   {
    "duration": 6225,
    "start_time": "2021-07-30T07:15:35.841Z"
   },
   {
    "duration": 6615,
    "start_time": "2021-07-30T07:15:55.923Z"
   },
   {
    "duration": 6534,
    "start_time": "2021-07-30T07:27:20.391Z"
   },
   {
    "duration": 9,
    "start_time": "2021-07-30T07:27:56.668Z"
   },
   {
    "duration": 1036,
    "start_time": "2021-07-30T08:21:08.856Z"
   },
   {
    "duration": 63,
    "start_time": "2021-07-30T08:21:09.894Z"
   },
   {
    "duration": 6,
    "start_time": "2021-07-30T08:21:09.959Z"
   },
   {
    "duration": 8,
    "start_time": "2021-07-30T08:21:09.967Z"
   },
   {
    "duration": 7,
    "start_time": "2021-07-30T08:21:09.977Z"
   },
   {
    "duration": 5,
    "start_time": "2021-07-30T08:21:09.985Z"
   },
   {
    "duration": 7,
    "start_time": "2021-07-30T08:21:09.992Z"
   },
   {
    "duration": 15,
    "start_time": "2021-07-30T08:21:10.002Z"
   },
   {
    "duration": 25,
    "start_time": "2021-07-30T08:21:10.020Z"
   },
   {
    "duration": 143,
    "start_time": "2021-07-30T08:21:10.047Z"
   },
   {
    "duration": 12,
    "start_time": "2021-07-30T08:21:10.192Z"
   },
   {
    "duration": 5,
    "start_time": "2021-07-30T08:21:10.205Z"
   },
   {
    "duration": 6,
    "start_time": "2021-07-30T08:21:10.211Z"
   },
   {
    "duration": 5,
    "start_time": "2021-07-30T08:21:10.241Z"
   },
   {
    "duration": 11,
    "start_time": "2021-07-30T08:21:10.248Z"
   },
   {
    "duration": 14,
    "start_time": "2021-07-30T08:21:10.260Z"
   },
   {
    "duration": 13,
    "start_time": "2021-07-30T08:21:10.275Z"
   },
   {
    "duration": 11,
    "start_time": "2021-07-30T08:21:10.290Z"
   },
   {
    "duration": 38,
    "start_time": "2021-07-30T08:21:10.303Z"
   },
   {
    "duration": 10,
    "start_time": "2021-07-30T08:21:10.343Z"
   },
   {
    "duration": 12,
    "start_time": "2021-07-30T08:21:10.355Z"
   },
   {
    "duration": 348,
    "start_time": "2021-07-30T08:21:10.369Z"
   },
   {
    "duration": 7,
    "start_time": "2021-07-30T08:21:10.721Z"
   },
   {
    "duration": 204,
    "start_time": "2021-07-30T08:21:10.742Z"
   },
   {
    "duration": 250,
    "start_time": "2021-07-30T08:21:10.948Z"
   },
   {
    "duration": 198,
    "start_time": "2021-07-30T08:21:11.199Z"
   },
   {
    "duration": 11,
    "start_time": "2021-07-30T08:21:11.398Z"
   },
   {
    "duration": 352,
    "start_time": "2021-07-30T08:21:11.411Z"
   },
   {
    "duration": 13,
    "start_time": "2021-07-30T08:21:11.765Z"
   },
   {
    "duration": 199,
    "start_time": "2021-07-30T08:21:11.780Z"
   },
   {
    "duration": 8,
    "start_time": "2021-07-30T08:21:11.981Z"
   },
   {
    "duration": 331,
    "start_time": "2021-07-30T08:21:11.991Z"
   },
   {
    "duration": 18,
    "start_time": "2021-07-30T08:21:12.324Z"
   },
   {
    "duration": 124,
    "start_time": "2021-07-30T08:21:12.344Z"
   },
   {
    "duration": 5,
    "start_time": "2021-07-30T08:21:12.470Z"
   },
   {
    "duration": 172,
    "start_time": "2021-07-30T08:21:12.477Z"
   },
   {
    "duration": 270,
    "start_time": "2021-07-30T08:21:12.650Z"
   },
   {
    "duration": 4,
    "start_time": "2021-07-30T08:21:12.922Z"
   },
   {
    "duration": 253,
    "start_time": "2021-07-30T08:21:12.928Z"
   },
   {
    "duration": 278,
    "start_time": "2021-07-30T08:21:13.183Z"
   },
   {
    "duration": 5,
    "start_time": "2021-07-30T08:21:13.463Z"
   },
   {
    "duration": 14,
    "start_time": "2021-07-30T08:21:13.469Z"
   },
   {
    "duration": 274,
    "start_time": "2021-07-30T08:21:13.484Z"
   },
   {
    "duration": 125,
    "start_time": "2021-07-30T08:21:13.759Z"
   },
   {
    "duration": 13,
    "start_time": "2021-07-30T08:21:13.885Z"
   },
   {
    "duration": 12,
    "start_time": "2021-07-30T08:21:13.900Z"
   },
   {
    "duration": 30,
    "start_time": "2021-07-30T08:21:13.914Z"
   },
   {
    "duration": 9,
    "start_time": "2021-07-30T08:21:13.945Z"
   },
   {
    "duration": 13,
    "start_time": "2021-07-30T08:21:13.956Z"
   },
   {
    "duration": 13,
    "start_time": "2021-07-30T08:21:13.970Z"
   },
   {
    "duration": 9,
    "start_time": "2021-07-30T08:21:13.984Z"
   },
   {
    "duration": 52,
    "start_time": "2021-07-30T08:21:13.995Z"
   },
   {
    "duration": 85,
    "start_time": "2021-07-31T08:07:54.536Z"
   },
   {
    "duration": 78,
    "start_time": "2021-07-31T08:45:55.352Z"
   },
   {
    "duration": 1462,
    "start_time": "2021-08-02T10:59:36.427Z"
   },
   {
    "duration": 62,
    "start_time": "2021-08-02T10:59:37.892Z"
   },
   {
    "duration": 10,
    "start_time": "2021-08-02T10:59:37.957Z"
   },
   {
    "duration": 13,
    "start_time": "2021-08-02T10:59:37.970Z"
   },
   {
    "duration": 12,
    "start_time": "2021-08-02T10:59:37.985Z"
   },
   {
    "duration": 4,
    "start_time": "2021-08-02T10:59:38.731Z"
   },
   {
    "duration": 10,
    "start_time": "2021-08-02T10:59:39.185Z"
   },
   {
    "duration": 31,
    "start_time": "2021-08-02T10:59:39.376Z"
   },
   {
    "duration": 25,
    "start_time": "2021-08-02T10:59:39.575Z"
   },
   {
    "duration": 243,
    "start_time": "2021-08-02T10:59:40.640Z"
   },
   {
    "duration": 17,
    "start_time": "2021-08-02T10:59:40.886Z"
   },
   {
    "duration": 8,
    "start_time": "2021-08-02T10:59:41.288Z"
   },
   {
    "duration": 11,
    "start_time": "2021-08-02T10:59:41.477Z"
   },
   {
    "duration": 10,
    "start_time": "2021-08-02T10:59:42.003Z"
   },
   {
    "duration": 20,
    "start_time": "2021-08-02T10:59:42.226Z"
   },
   {
    "duration": 19,
    "start_time": "2021-08-02T10:59:42.407Z"
   },
   {
    "duration": 14,
    "start_time": "2021-08-02T10:59:42.627Z"
   },
   {
    "duration": 11,
    "start_time": "2021-08-02T10:59:43.969Z"
   },
   {
    "duration": 12,
    "start_time": "2021-08-02T10:59:44.203Z"
   },
   {
    "duration": 22,
    "start_time": "2021-08-02T10:59:45.361Z"
   },
   {
    "duration": 24,
    "start_time": "2021-08-02T10:59:46.027Z"
   },
   {
    "duration": 933,
    "start_time": "2021-08-02T10:59:48.075Z"
   },
   {
    "duration": 13,
    "start_time": "2021-08-02T10:59:49.011Z"
   },
   {
    "duration": 505,
    "start_time": "2021-08-02T10:59:49.028Z"
   },
   {
    "duration": 664,
    "start_time": "2021-08-02T10:59:49.537Z"
   },
   {
    "duration": 327,
    "start_time": "2021-08-02T10:59:51.053Z"
   },
   {
    "duration": 18,
    "start_time": "2021-08-02T10:59:52.043Z"
   },
   {
    "duration": 453,
    "start_time": "2021-08-02T10:59:52.063Z"
   },
   {
    "duration": 17,
    "start_time": "2021-08-02T10:59:52.712Z"
   },
   {
    "duration": 314,
    "start_time": "2021-08-02T10:59:52.959Z"
   },
   {
    "duration": 12,
    "start_time": "2021-08-02T10:59:55.064Z"
   },
   {
    "duration": 431,
    "start_time": "2021-08-02T10:59:55.241Z"
   },
   {
    "duration": 17,
    "start_time": "2021-08-02T10:59:56.721Z"
   },
   {
    "duration": 208,
    "start_time": "2021-08-02T10:59:56.928Z"
   },
   {
    "duration": 10,
    "start_time": "2021-08-02T10:59:57.167Z"
   },
   {
    "duration": 278,
    "start_time": "2021-08-02T10:59:57.376Z"
   },
   {
    "duration": 403,
    "start_time": "2021-08-02T10:59:57.842Z"
   },
   {
    "duration": 5,
    "start_time": "2021-08-02T10:59:58.529Z"
   },
   {
    "duration": 393,
    "start_time": "2021-08-02T10:59:59.215Z"
   },
   {
    "duration": 387,
    "start_time": "2021-08-02T10:59:59.686Z"
   },
   {
    "duration": 7,
    "start_time": "2021-08-02T11:00:00.440Z"
   },
   {
    "duration": 26,
    "start_time": "2021-08-02T11:00:02.298Z"
   },
   {
    "duration": 713,
    "start_time": "2021-08-02T11:00:02.527Z"
   },
   {
    "duration": 332,
    "start_time": "2021-08-02T11:00:03.307Z"
   },
   {
    "duration": 29,
    "start_time": "2021-08-02T11:00:03.642Z"
   },
   {
    "duration": 19,
    "start_time": "2021-08-02T11:00:03.742Z"
   },
   {
    "duration": 15,
    "start_time": "2021-08-02T11:00:04.237Z"
   },
   {
    "duration": 12,
    "start_time": "2021-08-02T11:00:04.953Z"
   },
   {
    "duration": 10,
    "start_time": "2021-08-02T11:00:05.200Z"
   },
   {
    "duration": 22,
    "start_time": "2021-08-02T11:00:05.457Z"
   },
   {
    "duration": 15,
    "start_time": "2021-08-02T11:00:05.715Z"
   },
   {
    "duration": 33,
    "start_time": "2021-08-02T11:00:05.957Z"
   },
   {
    "duration": 11,
    "start_time": "2021-08-02T11:00:44.985Z"
   },
   {
    "duration": 20,
    "start_time": "2021-08-02T11:02:21.606Z"
   },
   {
    "duration": 14,
    "start_time": "2021-08-02T11:13:45.936Z"
   },
   {
    "duration": 48,
    "start_time": "2021-08-02T11:13:48.674Z"
   },
   {
    "duration": 373,
    "start_time": "2021-08-05T14:36:20.974Z"
   },
   {
    "duration": 1399,
    "start_time": "2021-08-05T14:36:25.101Z"
   },
   {
    "duration": 130,
    "start_time": "2021-08-05T14:36:26.504Z"
   },
   {
    "duration": 9,
    "start_time": "2021-08-05T14:36:26.636Z"
   },
   {
    "duration": 10,
    "start_time": "2021-08-05T14:36:27.492Z"
   },
   {
    "duration": 10,
    "start_time": "2021-08-05T14:36:28.253Z"
   },
   {
    "duration": 22,
    "start_time": "2021-08-05T14:36:29.181Z"
   },
   {
    "duration": 12,
    "start_time": "2021-08-05T14:36:40.435Z"
   }
  ],
  "kernelspec": {
   "display_name": "Python 3 (ipykernel)",
   "language": "python",
   "name": "python3"
  },
  "language_info": {
   "codemirror_mode": {
    "name": "ipython",
    "version": 3
   },
   "file_extension": ".py",
   "mimetype": "text/x-python",
   "name": "python",
   "nbconvert_exporter": "python",
   "pygments_lexer": "ipython3",
   "version": "3.9.7"
  },
  "toc": {
   "base_numbering": 1,
   "nav_menu": {
    "height": "195px",
    "width": "226px"
   },
   "number_sections": true,
   "sideBar": true,
   "skip_h1_title": true,
   "title_cell": "Table of Contents",
   "title_sidebar": "Contents",
   "toc_cell": false,
   "toc_position": {},
   "toc_section_display": true,
   "toc_window_display": false
  }
 },
 "nbformat": 4,
 "nbformat_minor": 2
}
